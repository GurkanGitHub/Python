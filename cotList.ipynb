{
 "cells": [
  {
   "cell_type": "markdown",
   "metadata": {},
   "source": [
    "# Collection Types"
   ]
  },
  {
   "cell_type": "raw",
   "metadata": {},
   "source": [
    "Main collection types (LiTuDiS`) \n",
    "1. list, \n",
    "2. tuple, \n",
    "3. dictionary, \n",
    "4. set\n",
    "5. arrays"
   ]
  },
  {
   "cell_type": "raw",
   "metadata": {},
   "source": [
    "👉🏻 Diffrence: data types hold a single value and collection types: hold multiple values in a single object."
   ]
  },
  {
   "cell_type": "markdown",
   "metadata": {},
   "source": [
    "# 1. List"
   ]
  },
  {
   "cell_type": "raw",
   "metadata": {},
   "source": [
    "List is a structure in Python to store information.\n",
    "List is only an ordered collection of valid Pvalues.\n",
    "It includes collection of items which are mutable-changable with guaranteed order\n",
    "list is more like an array in other languages (ex JS)."
   ]
  },
  {
   "cell_type": "markdown",
   "metadata": {},
   "source": [
    "## Creating a list"
   ]
  },
  {
   "cell_type": "raw",
   "metadata": {},
   "source": [
    "Depends on what you are going to do."
   ]
  },
  {
   "cell_type": "markdown",
   "metadata": {},
   "source": [
    "#### By enclosing values in square brackets, seperated by commas"
   ]
  },
  {
   "cell_type": "code",
   "execution_count": 2,
   "metadata": {},
   "outputs": [
    {
     "name": "stdout",
     "output_type": "stream",
     "text": [
      "['USA', 'Brasil', 'UK', 'Germany', 'Turkey', 'New Zealand']\n"
     ]
    }
   ],
   "source": [
    "country = ['USA', 'Brasil', 'UK', 'Germany', 'Turkey', 'New Zealand']\n",
    "print(country)#Names printed in same order as they stored, because lists are ordered."
   ]
  },
  {
   "cell_type": "raw",
   "metadata": {},
   "source": [
    "💡Tips:Names printed in same order as they stored, because lists are ordered."
   ]
  },
  {
   "cell_type": "markdown",
   "metadata": {},
   "source": [
    "#### By 'list()' function"
   ]
  },
  {
   "cell_type": "raw",
   "metadata": {},
   "source": [
    "Create a list from an iterable object (whose elem can be imported ind). "
   ]
  },
  {
   "cell_type": "raw",
   "metadata": {},
   "source": [
    "The lists are iterable like other collections and string types."
   ]
  },
  {
   "cell_type": "code",
   "execution_count": 25,
   "metadata": {},
   "outputs": [],
   "source": [
    "string_1 = 'I quit smoking'"
   ]
  },
  {
   "cell_type": "code",
   "execution_count": 27,
   "metadata": {},
   "outputs": [],
   "source": [
    "new_list1 = list(string_1)# Gives a multi element list, all characters of string including spaces."
   ]
  },
  {
   "cell_type": "code",
   "execution_count": 28,
   "metadata": {},
   "outputs": [
    {
     "name": "stdout",
     "output_type": "stream",
     "text": [
      "['I', ' ', 'q', 'u', 'i', 't', ' ', 's', 'm', 'o', 'k', 'i', 'n', 'g']\n"
     ]
    }
   ],
   "source": [
    "print(new_list1)"
   ]
  },
  {
   "cell_type": "code",
   "execution_count": 29,
   "metadata": {},
   "outputs": [
    {
     "name": "stdout",
     "output_type": "stream",
     "text": [
      "['I quit smoking']\n"
     ]
    }
   ],
   "source": [
    "new_list_2 = [string_1]  # this is a single element list\n",
    "print(new_list_2)"
   ]
  },
  {
   "cell_type": "code",
   "execution_count": null,
   "metadata": {},
   "outputs": [],
   "source": [
    "💡Tips:\n",
    "    • list() function: all characters of string inc.spaces moved into new_list_1.\n",
    "Lists can contain more than one of the same value."
   ]
  },
  {
   "cell_type": "raw",
   "metadata": {},
   "source": [
    "• list() function creates list that contains each component of a specific iterable object, such as a string."
   ]
  },
  {
   "cell_type": "code",
   "execution_count": null,
   "metadata": {},
   "outputs": [],
   "source": [
    "• Components of a list are not limited to a single data type. "
   ]
  },
  {
   "cell_type": "code",
   "execution_count": 31,
   "metadata": {},
   "outputs": [
    {
     "data": {
      "text/plain": [
       "[11, 'Joseph', False, 3.14, None, [1, 2, 3]]"
      ]
     },
     "execution_count": 31,
     "metadata": {},
     "output_type": "execute_result"
    }
   ],
   "source": [
    "mixed_list = [11, 'Joseph', False, 3.14, None, [1, 2, 3]]\n",
    "mixed_list"
   ]
  },
  {
   "cell_type": "markdown",
   "metadata": {},
   "source": [
    "## Basic operaitons with lists"
   ]
  },
  {
   "cell_type": "raw",
   "metadata": {},
   "source": [
    "• Make an empty list to fill it later with the data you want."
   ]
  },
  {
   "cell_type": "code",
   "execution_count": 33,
   "metadata": {},
   "outputs": [],
   "source": [
    "empty_list_1= []\n",
    "empty_list_2 = list()"
   ]
  },
  {
   "cell_type": "markdown",
   "metadata": {},
   "source": [
    "### **List Functions**"
   ]
  },
  {
   "cell_type": "code",
   "execution_count": 63,
   "metadata": {},
   "outputs": [],
   "source": [
    "city = ['New York', 'London', 'Istanbul', 'Seoul', 'Sydney']"
   ]
  },
  {
   "cell_type": "code",
   "execution_count": 64,
   "metadata": {},
   "outputs": [
    {
     "data": {
      "text/plain": [
       "['New York', 'London', 'Istanbul', 'Seoul', 'Sydney', 'Addis Ababa']"
      ]
     },
     "execution_count": 64,
     "metadata": {},
     "output_type": "execute_result"
    }
   ],
   "source": [
    "city.append(\"Addis Ababa\")#.append() function an object to end of a list. \n",
    "                            #Append function: adds an object to the end of list.\n",
    "city"
   ]
  },
  {
   "cell_type": "code",
   "execution_count": 65,
   "metadata": {},
   "outputs": [
    {
     "data": {
      "text/plain": [
       "['New York',\n",
       " 'London',\n",
       " 'Stockholm',\n",
       " 'Istanbul',\n",
       " 'Seoul',\n",
       " 'Sydney',\n",
       " 'Addis Ababa']"
      ]
     },
     "execution_count": 65,
     "metadata": {},
     "output_type": "execute_result"
    }
   ],
   "source": [
    "city.insert(2,\"Stockholm\")# .insert() adds a new object to list at a speciﬁc index. \n",
    "                            # Insert function: Adding an elemt inside the list\n",
    "city"
   ]
  },
  {
   "cell_type": "code",
   "execution_count": 66,
   "metadata": {},
   "outputs": [
    {
     "data": {
      "text/plain": [
       "'London'"
      ]
     },
     "execution_count": 66,
     "metadata": {},
     "output_type": "execute_result"
    }
   ],
   "source": [
    "city[1]"
   ]
  },
  {
   "cell_type": "code",
   "execution_count": 67,
   "metadata": {},
   "outputs": [
    {
     "data": {
      "text/plain": [
       "['New York',\n",
       " 'Melbourne',\n",
       " 'Stockholm',\n",
       " 'Istanbul',\n",
       " 'Seoul',\n",
       " 'Sydney',\n",
       " 'Addis Ababa']"
      ]
     },
     "execution_count": 67,
     "metadata": {},
     "output_type": "execute_result"
    }
   ],
   "source": [
    "city[1] = \"Melbourne\"# we assign 'Melbourne' to index 1, and initial value disappears\n",
    "city"
   ]
  },
  {
   "cell_type": "code",
   "execution_count": 68,
   "metadata": {},
   "outputs": [
    {
     "data": {
      "text/plain": [
       "['New York', 'Melbourne', 'Stockholm', 'Istanbul', 'Sydney', 'Addis Ababa']"
      ]
     },
     "execution_count": 68,
     "metadata": {},
     "output_type": "execute_result"
    }
   ],
   "source": [
    "city.remove(\"Seoul\") #remove() function removes the elements \n",
    "city"
   ]
  },
  {
   "cell_type": "code",
   "execution_count": 50,
   "metadata": {},
   "outputs": [
    {
     "data": {
      "text/plain": [
       "['Addis Ababa', 'Istanbul', 'Melbourne', 'New York', 'Stockholm', 'Sydney']"
      ]
     },
     "execution_count": 50,
     "metadata": {},
     "output_type": "execute_result"
    }
   ],
   "source": [
    "city.sort()# list.sort()  sort the elements in alphabetical order\n",
    "                # Sort function: Sorts the list ascending or descending\n",
    "                ##sorts in ascending order in default\n",
    "city"
   ]
  },
  {
   "cell_type": "code",
   "execution_count": 69,
   "metadata": {},
   "outputs": [
    {
     "data": {
      "text/plain": [
       "['Sydney', 'Stockholm', 'New York', 'Melbourne', 'Istanbul', 'Addis Ababa']"
      ]
     },
     "execution_count": 69,
     "metadata": {},
     "output_type": "execute_result"
    }
   ],
   "source": [
    "city.sort(reverse=True)\n",
    "city"
   ]
  },
  {
   "cell_type": "raw",
   "metadata": {},
   "source": [
    "💡Tips: Elements of a list are counted from left to right and start with zero as in string types."
   ]
  },
  {
   "cell_type": "code",
   "execution_count": 51,
   "metadata": {},
   "outputs": [
    {
     "data": {
      "text/plain": [
       "6"
      ]
     },
     "execution_count": 51,
     "metadata": {},
     "output_type": "execute_result"
    }
   ],
   "source": [
    "len(city)# gives length of the list elements, Length function: counts the list elements"
   ]
  },
  {
   "cell_type": "code",
   "execution_count": null,
   "metadata": {},
   "outputs": [],
   "source": []
  },
  {
   "cell_type": "code",
   "execution_count": 57,
   "metadata": {},
   "outputs": [
    {
     "data": {
      "text/plain": [
       "0"
      ]
     },
     "execution_count": 57,
     "metadata": {},
     "output_type": "execute_result"
    }
   ],
   "source": [
    "city.index(\"Addis Ababa\")# Return first index of value.\n",
    "                            # Index function: checks the element whether it is inside or not"
   ]
  },
  {
   "cell_type": "markdown",
   "metadata": {},
   "source": [
    "### remove item from a list"
   ]
  },
  {
   "cell_type": "raw",
   "metadata": {},
   "source": [
    "Remove all items: clear()\n",
    "Remove an item by index and get its value: pop()\n",
    "Remove an item by value: remove()\n",
    "Remove items by index or slice: del.\n",
    "Remove items that meet the condition: List comprehensions."
   ]
  },
  {
   "cell_type": "code",
   "execution_count": 70,
   "metadata": {},
   "outputs": [
    {
     "data": {
      "text/plain": [
       "['Sydney', 'Stockholm', 'New York', 'Melbourne', 'Istanbul', 'Addis Ababa']"
      ]
     },
     "execution_count": 70,
     "metadata": {},
     "output_type": "execute_result"
    }
   ],
   "source": [
    "city"
   ]
  },
  {
   "cell_type": "code",
   "execution_count": 71,
   "metadata": {},
   "outputs": [
    {
     "data": {
      "text/plain": [
       "['Stockholm', 'New York', 'Melbourne', 'Istanbul', 'Addis Ababa']"
      ]
     },
     "execution_count": 71,
     "metadata": {},
     "output_type": "execute_result"
    }
   ],
   "source": [
    "del city[0] \n",
    "city"
   ]
  },
  {
   "cell_type": "code",
   "execution_count": 72,
   "metadata": {},
   "outputs": [
    {
     "data": {
      "text/plain": [
       "['Stockholm', 'New York', 'Melbourne', 'Istanbul']"
      ]
     },
     "execution_count": 72,
     "metadata": {},
     "output_type": "execute_result"
    }
   ],
   "source": [
    "city.pop() #Pop function: Get rids of the last element\n",
    "city"
   ]
  },
  {
   "cell_type": "code",
   "execution_count": 81,
   "metadata": {
    "scrolled": true
   },
   "outputs": [
    {
     "name": "stdout",
     "output_type": "stream",
     "text": [
      "['Stockholm', 'New York', 'Melbourne', 'Istanbul', 'Kevin', 'Karen', 'Jim', 'Oscar', 'Toby', 'Kevin', 'Karen', 'Jim', 'Oscar', 'Toby']\n"
     ]
    }
   ],
   "source": [
    "print(city)"
   ]
  },
  {
   "cell_type": "code",
   "execution_count": 79,
   "metadata": {},
   "outputs": [],
   "source": [
    "friends = [\"Kevin\", \"Karen\", \"Jim\", \"Oscar\", \"Toby\"]"
   ]
  },
  {
   "cell_type": "code",
   "execution_count": null,
   "metadata": {},
   "outputs": [],
   "source": [
    "city.extend(friends)#adds 2 list together"
   ]
  },
  {
   "cell_type": "code",
   "execution_count": 82,
   "metadata": {},
   "outputs": [],
   "source": [
    "city.clear() #Clear function: Clears all the elemnts inside the list"
   ]
  },
  {
   "cell_type": "code",
   "execution_count": 83,
   "metadata": {},
   "outputs": [
    {
     "data": {
      "text/plain": [
       "[]"
      ]
     },
     "execution_count": 83,
     "metadata": {},
     "output_type": "execute_result"
    }
   ],
   "source": [
    "city"
   ]
  },
  {
   "cell_type": "code",
   "execution_count": 86,
   "metadata": {},
   "outputs": [
    {
     "data": {
      "text/plain": [
       "0"
      ]
     },
     "execution_count": 86,
     "metadata": {},
     "output_type": "execute_result"
    }
   ],
   "source": [
    "city.count(\"Addis Ababa\")#Count function: counts the similar elements inside the list"
   ]
  },
  {
   "cell_type": "code",
   "execution_count": 87,
   "metadata": {},
   "outputs": [
    {
     "data": {
      "text/plain": [
       "[]"
      ]
     },
     "execution_count": 87,
     "metadata": {},
     "output_type": "execute_result"
    }
   ],
   "source": [
    "city2 = city.copy()#Copy Function: create a list and make it copy of another\n",
    "city2"
   ]
  },
  {
   "cell_type": "code",
   "execution_count": null,
   "metadata": {},
   "outputs": [],
   "source": []
  },
  {
   "cell_type": "markdown",
   "metadata": {},
   "source": [
    "## Accessing lists"
   ]
  },
  {
   "cell_type": "raw",
   "metadata": {},
   "source": [
    "Each item in list has an index corresponding to their location. Using indexes, we can access elements within a sequence. "
   ]
  },
  {
   "cell_type": "code",
   "execution_count": null,
   "metadata": {},
   "outputs": [],
   "source": []
  },
  {
   "cell_type": "markdown",
   "metadata": {},
   "source": [
    "**Indexing a List**"
   ]
  },
  {
   "cell_type": "raw",
   "metadata": {},
   "source": [
    "Behind the scene: indexes are on the commas and on square braquets\n",
    "\t○ Accessing elements: using index numbers enclosed by sbs.\n",
    "\t○ The first index of the element of a list is 0. "
   ]
  },
  {
   "cell_type": "code",
   "execution_count": 1,
   "metadata": {},
   "outputs": [
    {
     "name": "stdout",
     "output_type": "stream",
     "text": [
      "blue\n"
     ]
    }
   ],
   "source": [
    "colors = ['red', 'purple', 'blue', 'yellow', 'green']\n",
    "print(colors[2])  # If we start at zero,\n",
    "                    # the second element will be 'blue'-->blue"
   ]
  },
  {
   "cell_type": "code",
   "execution_count": 2,
   "metadata": {},
   "outputs": [
    {
     "name": "stdout",
     "output_type": "stream",
     "text": [
      "[['New York', 'London', 'Istanbul', 'Seoul', 'Sydney']]\n"
     ]
    }
   ],
   "source": [
    "city = ['New York', 'London', 'Istanbul', 'Seoul', 'Sydney']\n",
    "city_list = []\n",
    "city_list.append(city) # we have created a nested list\n",
    "print(city_list)"
   ]
  },
  {
   "cell_type": "raw",
   "metadata": {},
   "source": [
    "💡Tips :city_list includes only one element and it has double sbs."
   ]
  },
  {
   "cell_type": "code",
   "execution_count": 5,
   "metadata": {},
   "outputs": [
    {
     "name": "stdout",
     "output_type": "stream",
     "text": [
      "['New York', 'London', 'Istanbul', 'Seoul', 'Sydney']\n",
      "Istanbul\n",
      "a\n"
     ]
    }
   ],
   "source": [
    "print(city_list[0]) # access to first and only element,  is ltd. We can still access its elements via indexing.\n",
    "print(city_list[0][2])#is std. We can also access its elements via indexing. \n",
    "print(city_list[0][2][3])"
   ]
  },
  {
   "cell_type": "markdown",
   "metadata": {},
   "source": [
    "#### Slicing lists"
   ]
  },
  {
   "cell_type": "raw",
   "metadata": {},
   "source": [
    "○ Accessing individual elements of a list or part of those items. Index numbers used for slicing. \n",
    "○ Slicing: A mechanism to select a range of items from sequence types like list, tuple, strings etc."
   ]
  },
  {
   "cell_type": "raw",
   "metadata": {},
   "source": [
    "💡Tips :Slicing is just similar to indexing. The difference is adding colon or colons in square brackets."
   ]
  },
  {
   "cell_type": "raw",
   "metadata": {},
   "source": [
    "○ Formula syntax for slicing sequence: sequence[start:stop:step]\n",
    "\tØ start is an index of the first element required (the element is included in the slice) and \n",
    "\tØ stop is an index of the end element (the element is not included in the slice), \n",
    "\tØ step is an interval between elements to be chosen."
   ]
  },
  {
   "cell_type": "code",
   "execution_count": 6,
   "metadata": {},
   "outputs": [
    {
     "name": "stdout",
     "output_type": "stream",
     "text": [
      "[5, 7, 9]\n"
     ]
    }
   ],
   "source": [
    "numbers = [1, 3, 5, 7, 9, 11, 13, 15, 17]\n",
    "print(numbers[2:5])  # index 5 is not included"
   ]
  },
  {
   "cell_type": "raw",
   "metadata": {},
   "source": [
    "Make a list of numbers from 1 to 10 using 'range()' function and select even ones:"
   ]
  },
  {
   "cell_type": "code",
   "execution_count": 28,
   "metadata": {},
   "outputs": [
    {
     "data": {
      "text/plain": [
       "[2, 4, 6, 8, 10]"
      ]
     },
     "execution_count": 28,
     "metadata": {},
     "output_type": "execute_result"
    }
   ],
   "source": [
    "even = []\n",
    "odd = []\n",
    "mylist = list(range(1,11))\n",
    "for i in mylist:\n",
    "    if i%2 == 0:\n",
    "        even.append(i)\n",
    "    else: odd.append(i)\n",
    "even"
   ]
  },
  {
   "cell_type": "code",
   "execution_count": 40,
   "metadata": {},
   "outputs": [
    {
     "data": {
      "text/plain": [
       "[2, 4, 6, 8, 10]"
      ]
     },
     "execution_count": 40,
     "metadata": {},
     "output_type": "execute_result"
    }
   ],
   "source": [
    "[i for i in mylist if i%2==0]"
   ]
  },
  {
   "cell_type": "code",
   "execution_count": null,
   "metadata": {},
   "outputs": [],
   "source": [
    "○ Each part of the slice has a default value, so they are optional. If we don't assign a value to the start index, it is considered to be 0; if we don't assign a value to the stop index, it will be the same as the length of the sequence.\n",
    "® my_list[:]: returns the full copy of the sequence\n",
    "® my_list[start:] : returns elements from start to the end element\n",
    "® my_list[:stop] : returns element from the 1st element to stop-1\n",
    "® my_list[::step] : returns each element with a given step\n"
   ]
  },
  {
   "cell_type": "code",
   "execution_count": 1,
   "metadata": {},
   "outputs": [],
   "source": [
    "animals = ['elephant', 'bear', 'fox', 'wolf', 'rabbit', 'deer', 'giraffe']"
   ]
  },
  {
   "cell_type": "code",
   "execution_count": 2,
   "metadata": {},
   "outputs": [
    {
     "data": {
      "text/plain": [
       "['elephant', 'bear', 'fox', 'wolf', 'rabbit', 'deer', 'giraffe']"
      ]
     },
     "execution_count": 2,
     "metadata": {},
     "output_type": "execute_result"
    }
   ],
   "source": [
    "animals[:]"
   ]
  },
  {
   "cell_type": "code",
   "execution_count": 3,
   "metadata": {},
   "outputs": [
    {
     "data": {
      "text/plain": [
       "['fox', 'wolf', 'rabbit', 'deer', 'giraffe']"
      ]
     },
     "execution_count": 3,
     "metadata": {},
     "output_type": "execute_result"
    }
   ],
   "source": [
    "animals[2:]"
   ]
  },
  {
   "cell_type": "code",
   "execution_count": 4,
   "metadata": {},
   "outputs": [
    {
     "data": {
      "text/plain": [
       "['elephant', 'bear']"
      ]
     },
     "execution_count": 4,
     "metadata": {},
     "output_type": "execute_result"
    }
   ],
   "source": [
    "animals[:2]"
   ]
  },
  {
   "cell_type": "code",
   "execution_count": 5,
   "metadata": {},
   "outputs": [
    {
     "data": {
      "text/plain": [
       "['elephant', 'fox', 'rabbit', 'giraffe']"
      ]
     },
     "execution_count": 5,
     "metadata": {},
     "output_type": "execute_result"
    }
   ],
   "source": [
    "animals[::2]"
   ]
  },
  {
   "cell_type": "markdown",
   "metadata": {},
   "source": [
    "### Negative indexing"
   ]
  },
  {
   "cell_type": "raw",
   "metadata": {},
   "source": [
    "Negative indexing is the best and shortest way to reach the elements at the end of the list. The negative indexing works in reverse. We can reach the last element of a list as list_name[-1]. "
   ]
  },
  {
   "cell_type": "code",
   "execution_count": 6,
   "metadata": {},
   "outputs": [
    {
     "name": "stdout",
     "output_type": "stream",
     "text": [
      "London\n"
     ]
    }
   ],
   "source": [
    "city = ['New York', 'London', 'Istanbul', 'Seoul', 'Sydney']\n",
    "print(city[-4])"
   ]
  },
  {
   "cell_type": "raw",
   "metadata": {},
   "source": [
    "Negative slicing also works similarly, as we see in single element access. In this case, step index can also be negative. If the step index is negative the elements of sequence will return in reverse order."
   ]
  },
  {
   "cell_type": "code",
   "execution_count": 7,
   "metadata": {},
   "outputs": [
    {
     "name": "stdout",
     "output_type": "stream",
     "text": [
      "['lobster', 'squid', 'octopus']\n"
     ]
    }
   ],
   "source": [
    "reef = ['swordfish', 'shark', 'whale', 'jellyfish', 'lobster', 'squid', 'octopus']\n",
    "print(reef[-3:])"
   ]
  },
  {
   "cell_type": "code",
   "execution_count": 8,
   "metadata": {},
   "outputs": [
    {
     "name": "stdout",
     "output_type": "stream",
     "text": [
      "['swordfish', 'shark', 'whale', 'jellyfish']\n"
     ]
    }
   ],
   "source": [
    "print(reef[:-3])"
   ]
  },
  {
   "cell_type": "code",
   "execution_count": 13,
   "metadata": {},
   "outputs": [
    {
     "name": "stdout",
     "output_type": "stream",
     "text": [
      "['octopus', 'squid', 'lobster', 'jellyfish', 'whale', 'shark', 'swordfish']\n"
     ]
    }
   ],
   "source": [
    "print(reef[::-1])  # we have produced the reverse of the list\n",
    "                    # list[::-1] is used to reverse the order of a sequence of the elements in the list."
   ]
  },
  {
   "cell_type": "code",
   "execution_count": 10,
   "metadata": {},
   "outputs": [
    {
     "name": "stdout",
     "output_type": "stream",
     "text": [
      "['octopus', 'lobster', 'whale', 'swordfish']\n"
     ]
    }
   ],
   "source": [
    "print(reef[::-2])"
   ]
  },
  {
   "cell_type": "raw",
   "metadata": {},
   "source": [
    "💡Tips : If you choose negative step with the start and end indexes together, those should be used accordingly, that is, the end index should be less than the start index."
   ]
  },
  {
   "cell_type": "code",
   "execution_count": 11,
   "metadata": {},
   "outputs": [
    {
     "name": "stdout",
     "output_type": "stream",
     "text": [
      "[8, 7, 6, 5]\n"
     ]
    }
   ],
   "source": [
    "odd_no = [1, 2, 3, 4, 5, 6, 7, 8, 9, 10]\n",
    "print(odd_no[7:3:-1])"
   ]
  },
  {
   "cell_type": "code",
   "execution_count": 12,
   "metadata": {},
   "outputs": [
    {
     "name": "stdout",
     "output_type": "stream",
     "text": [
      "[]\n"
     ]
    }
   ],
   "source": [
    "print(odd_no[2:6:-1])"
   ]
  },
  {
   "cell_type": "code",
   "execution_count": null,
   "metadata": {},
   "outputs": [],
   "source": []
  },
  {
   "cell_type": "code",
   "execution_count": null,
   "metadata": {},
   "outputs": [],
   "source": []
  },
  {
   "cell_type": "code",
   "execution_count": null,
   "metadata": {},
   "outputs": [],
   "source": []
  },
  {
   "cell_type": "code",
   "execution_count": 28,
   "metadata": {},
   "outputs": [
    {
     "name": "stdout",
     "output_type": "stream",
     "text": [
      "['Kevin', 'Karen', 'Jim', 'Oscar', 'Toby']\n"
     ]
    }
   ],
   "source": [
    "print(friends)"
   ]
  },
  {
   "cell_type": "code",
   "execution_count": 29,
   "metadata": {},
   "outputs": [
    {
     "data": {
      "text/plain": [
       "['Kevin', 'Karen', 'Jim', 'Oscar', 'Toby']"
      ]
     },
     "execution_count": 29,
     "metadata": {},
     "output_type": "execute_result"
    }
   ],
   "source": [
    "friends"
   ]
  },
  {
   "cell_type": "code",
   "execution_count": 30,
   "metadata": {},
   "outputs": [
    {
     "data": {
      "text/plain": [
       "'Kevin'"
      ]
     },
     "execution_count": 30,
     "metadata": {},
     "output_type": "execute_result"
    }
   ],
   "source": [
    "friends[0]"
   ]
  },
  {
   "cell_type": "code",
   "execution_count": 31,
   "metadata": {},
   "outputs": [
    {
     "data": {
      "text/plain": [
       "'Toby'"
      ]
     },
     "execution_count": 31,
     "metadata": {},
     "output_type": "execute_result"
    }
   ],
   "source": [
    "friends[-1]"
   ]
  },
  {
   "cell_type": "code",
   "execution_count": 33,
   "metadata": {},
   "outputs": [
    {
     "data": {
      "text/plain": [
       "['Karen', 'Jim']"
      ]
     },
     "execution_count": 33,
     "metadata": {},
     "output_type": "execute_result"
    }
   ],
   "source": [
    "friends[1:3]#it's gonna grab all the elements up to but not including 3rd element"
   ]
  },
  {
   "cell_type": "code",
   "execution_count": 34,
   "metadata": {},
   "outputs": [
    {
     "data": {
      "text/plain": [
       "['Kevin', 'Mike', 'Jim', 'Oscar', 'Toby']"
      ]
     },
     "execution_count": 34,
     "metadata": {},
     "output_type": "execute_result"
    }
   ],
   "source": [
    "friends[1] = \"Mike\"\n",
    "friends"
   ]
  },
  {
   "cell_type": "code",
   "execution_count": null,
   "metadata": {},
   "outputs": [],
   "source": []
  },
  {
   "cell_type": "code",
   "execution_count": 73,
   "metadata": {},
   "outputs": [
    {
     "name": "stdout",
     "output_type": "stream",
     "text": [
      "blue\n"
     ]
    }
   ],
   "source": [
    "colors = ['red', 'purple', 'blue', 'yellow', 'green']\n",
    "print(colors[2])  # If we start at zero, the second element will be 'blue'."
   ]
  },
  {
   "cell_type": "code",
   "execution_count": 74,
   "metadata": {},
   "outputs": [
    {
     "name": "stdout",
     "output_type": "stream",
     "text": [
      "Bursa\n",
      "['İstanbul', 'Bursa', 'Ankara']\n"
     ]
    }
   ],
   "source": [
    "city = [\"İstanbul\", \"Bursa\", \"Ankara\"]\n",
    "print(city[1])\n",
    "print(city)"
   ]
  },
  {
   "cell_type": "code",
   "execution_count": 75,
   "metadata": {},
   "outputs": [
    {
     "name": "stdout",
     "output_type": "stream",
     "text": [
      "['orange', ['apple', 'eggplant', 'melon', 'spinach', 'cheese', 'leek'], 'water']\n",
      "orange\n",
      "['apple', 'eggplant', 'melon', 'spinach', 'cheese', 'leek']\n",
      "eggplant\n",
      "mandarin\n"
     ]
    }
   ],
   "source": [
    "grocer = [\"banana\", [\"orange\", [\"apple\", \"eggplant\", \"melon\", \"spinach\", \"cheese\", \"leek\" ], \"water\"], \"mandarin\"]\n",
    "print(grocer[1])\n",
    "print(grocer[1][0])\n",
    "print(grocer[1][1])\n",
    "print(grocer[1][1][1])\n",
    "print(grocer[2])"
   ]
  },
  {
   "cell_type": "code",
   "execution_count": null,
   "metadata": {},
   "outputs": [],
   "source": []
  },
  {
   "cell_type": "code",
   "execution_count": null,
   "metadata": {},
   "outputs": [],
   "source": []
  },
  {
   "cell_type": "code",
   "execution_count": null,
   "metadata": {},
   "outputs": [],
   "source": []
  },
  {
   "cell_type": "code",
   "execution_count": null,
   "metadata": {},
   "outputs": [],
   "source": []
  },
  {
   "cell_type": "code",
   "execution_count": 56,
   "metadata": {},
   "outputs": [],
   "source": [
    "friends = [\"Kevin\", \"Karen\", \"Jim\", \"Oscar\", \"Toby\"]\n",
    "lucky_nums=[4,8,15,16,23,42]"
   ]
  },
  {
   "cell_type": "code",
   "execution_count": 39,
   "metadata": {},
   "outputs": [
    {
     "name": "stdout",
     "output_type": "stream",
     "text": [
      "['Kevin', 'Karen', 'Jim', 'Oscar', 'Toby']\n"
     ]
    }
   ],
   "source": [
    "print(friends)#print function"
   ]
  },
  {
   "cell_type": "code",
   "execution_count": null,
   "metadata": {},
   "outputs": [],
   "source": []
  },
  {
   "cell_type": "markdown",
   "metadata": {},
   "source": [
    "**General Example**"
   ]
  },
  {
   "cell_type": "code",
   "execution_count": 29,
   "metadata": {},
   "outputs": [
    {
     "name": "stdout",
     "output_type": "stream",
     "text": [
      "[['New York', 'London', 'Istanbul', 'Seoul', 'Sydney']]\n",
      "[['New York', 'London', 'Istanbul', 'Seoul', 'Sydney'], 'Addis Ababa']\n",
      "[['New York', 'London', 'Istanbul', 'Seoul', 'Sydney'], 'Addis Ababa', 'Stockholm']\n",
      "[['New York', 'London', 'Istanbul', 'Seoul', 'Sydney'], 'Melbourne', 'Stockholm']\n",
      "[['New York', 'Istanbul', 'Seoul', 'Sydney'], 'Melbourne', 'Stockholm']\n",
      "[['Istanbul', 'New York', 'Seoul', 'Sydney'], 'Melbourne', 'Stockholm']\n"
     ]
    }
   ],
   "source": [
    "city = ['New York', 'London', 'Istanbul', 'Seoul', 'Sydney']\n",
    "city_list = []\n",
    "city_list.append(city) # we have created a nested list\n",
    "print(city_list)\n",
    "city_list.append('Addis Ababa') #.append() an object to end of a list. \n",
    "print(city_list)\n",
    "city_list.insert(2, 'Stockholm') # .insert() adds a new object to list at a speciﬁc index. \n",
    "print(city_list)\n",
    "city_list[1] = 'Melbourne'  # we assign 'Melbourne' to index 1\n",
    "print(city_list)\n",
    "city_list[0].remove(\"London\")#.remove() removes the elements \n",
    "print(city_list)\n",
    "city_list[0].sort()  # list.sort()  sort the elements in alphabetical order\n",
    "print(city_list)"
   ]
  },
  {
   "cell_type": "code",
   "execution_count": null,
   "metadata": {},
   "outputs": [],
   "source": []
  },
  {
   "cell_type": "code",
   "execution_count": 7,
   "metadata": {},
   "outputs": [],
   "source": []
  },
  {
   "cell_type": "code",
   "execution_count": 45,
   "metadata": {},
   "outputs": [
    {
     "name": "stdout",
     "output_type": "stream",
     "text": [
      "['apple', 'banana', 'bear', 'cherry']\n",
      "['apple']\n"
     ]
    }
   ],
   "source": [
    "fruits = [\"apple\", \"banana\", \"bear\", \"cherry\"]\n",
    "fruit_list = []\n",
    "fruit_list.append(fruits)\n",
    "#print(fruits)\n",
    "#print(fruit_list)\n",
    "print(fruit_list[0])\n",
    "print(fruit_list[0][0:1])"
   ]
  },
  {
   "cell_type": "code",
   "execution_count": 50,
   "metadata": {},
   "outputs": [
    {
     "name": "stdout",
     "output_type": "stream",
     "text": [
      "[['apple', 'banana', 'watermelon', 'orange', 'mango', 'avocado']]\n"
     ]
    }
   ],
   "source": [
    "fruits = ['apple', 'banana', 'watermelon', 'orange', 'mango', 'avocado']\n",
    "fruit_list = []\n",
    "fruit_list.append(fruits)\n",
    "print(fruit_list)"
   ]
  },
  {
   "cell_type": "code",
   "execution_count": 54,
   "metadata": {},
   "outputs": [
    {
     "ename": "TypeError",
     "evalue": "insert() takes exactly 2 arguments (1 given)",
     "output_type": "error",
     "traceback": [
      "\u001b[1;31m---------------------------------------------------------------------------\u001b[0m",
      "\u001b[1;31mTypeError\u001b[0m                                 Traceback (most recent call last)",
      "\u001b[1;32m<ipython-input-54-8380622bc8ab>\u001b[0m in \u001b[0;36m<module>\u001b[1;34m\u001b[0m\n\u001b[0;32m      1\u001b[0m \u001b[0mfruits\u001b[0m \u001b[1;33m=\u001b[0m \u001b[1;33m[\u001b[0m\u001b[1;34m'apple'\u001b[0m\u001b[1;33m,\u001b[0m \u001b[1;34m'banana'\u001b[0m\u001b[1;33m,\u001b[0m \u001b[1;34m'watermelon'\u001b[0m\u001b[1;33m,\u001b[0m \u001b[1;34m'orange'\u001b[0m\u001b[1;33m,\u001b[0m \u001b[1;34m'mango'\u001b[0m\u001b[1;33m,\u001b[0m \u001b[1;34m'avocado'\u001b[0m\u001b[1;33m]\u001b[0m\u001b[1;33m\u001b[0m\u001b[1;33m\u001b[0m\u001b[0m\n\u001b[0;32m      2\u001b[0m \u001b[0mfruit_list\u001b[0m \u001b[1;33m=\u001b[0m \u001b[1;33m[\u001b[0m\u001b[1;33m]\u001b[0m\u001b[1;33m\u001b[0m\u001b[1;33m\u001b[0m\u001b[0m\n\u001b[1;32m----> 3\u001b[1;33m \u001b[0mfruit_list\u001b[0m\u001b[1;33m.\u001b[0m\u001b[0minsert\u001b[0m\u001b[1;33m(\u001b[0m\u001b[1;36m0\u001b[0m\u001b[1;33m)\u001b[0m\u001b[1;33m\u001b[0m\u001b[1;33m\u001b[0m\u001b[0m\n\u001b[0m\u001b[0;32m      4\u001b[0m \u001b[0mprint\u001b[0m\u001b[1;33m(\u001b[0m\u001b[0mfruit_list\u001b[0m\u001b[1;33m[\u001b[0m\u001b[1;36m0\u001b[0m\u001b[1;33m]\u001b[0m\u001b[1;33m[\u001b[0m\u001b[1;36m2\u001b[0m\u001b[1;33m]\u001b[0m\u001b[1;33m[\u001b[0m\u001b[1;36m7\u001b[0m\u001b[1;33m]\u001b[0m\u001b[1;33m)\u001b[0m\u001b[1;33m\u001b[0m\u001b[1;33m\u001b[0m\u001b[0m\n",
      "\u001b[1;31mTypeError\u001b[0m: insert() takes exactly 2 arguments (1 given)"
     ]
    }
   ],
   "source": [
    "fruits = ['apple', 'banana', 'watermelon', 'orange', 'mango', 'avocado']\n",
    "fruit_list = []\n",
    "fruit_list.insert(0)\n",
    "print(fruit_list[0][2][7])"
   ]
  },
  {
   "cell_type": "code",
   "execution_count": 57,
   "metadata": {},
   "outputs": [
    {
     "name": "stdout",
     "output_type": "stream",
     "text": [
      "['New York', 'London']\n"
     ]
    }
   ],
   "source": [
    "city = ['New York', 'London', 'Istanbul', 'Seoul', 'Sydney', 'Addis Ababa']\n",
    "city.insert(2, 'Stockholm')\n",
    "#print(city)\n",
    "print(city[0:2])"
   ]
  },
  {
   "cell_type": "code",
   "execution_count": 55,
   "metadata": {},
   "outputs": [
    {
     "name": "stdout",
     "output_type": "stream",
     "text": [
      "[5, 7, 9]\n"
     ]
    }
   ],
   "source": [
    "numbers = [1, 3, 5, 7, 9, 11, 13, 15, 17]\n",
    "print(numbers[2:5])"
   ]
  },
  {
   "cell_type": "code",
   "execution_count": 56,
   "metadata": {},
   "outputs": [
    {
     "name": "stdout",
     "output_type": "stream",
     "text": [
      "[5, 7, 9]\n"
     ]
    }
   ],
   "source": [
    "numbers = [1, 3, 5, 7, 9, 11, 13, 15, 17]\n",
    "print(numbers[2:5])  "
   ]
  },
  {
   "cell_type": "code",
   "execution_count": 65,
   "metadata": {},
   "outputs": [
    {
     "name": "stdout",
     "output_type": "stream",
     "text": [
      "[0, 1, 2, 3, 4, 5, 6, 7, 8, 9, 10]\n",
      "[0, 2, 4, 6, 8, 10]\n"
     ]
    }
   ],
   "source": [
    "count = list(range(11))\n",
    "print(count)\n",
    "print(count[0:11:2])\n"
   ]
  },
  {
   "cell_type": "code",
   "execution_count": 63,
   "metadata": {},
   "outputs": [
    {
     "name": "stdout",
     "output_type": "stream",
     "text": [
      "['B', 'u', 'r', 's', 'a']\n"
     ]
    }
   ],
   "source": [
    "city = \"Bursa\"\n",
    "liste = list(city)\n",
    "print(liste)"
   ]
  },
  {
   "cell_type": "code",
   "execution_count": 66,
   "metadata": {},
   "outputs": [
    {
     "name": "stdout",
     "output_type": "stream",
     "text": [
      "[10, 12, 14, 16, 18]\n"
     ]
    }
   ],
   "source": [
    "even_numbers = [2, 4, 6, 8, 10, 12, 14, 16, 18, 20]\n",
    "\n",
    "print(even_numbers[4:9])"
   ]
  },
  {
   "cell_type": "code",
   "execution_count": 67,
   "metadata": {},
   "outputs": [
    {
     "name": "stdout",
     "output_type": "stream",
     "text": [
      "1\n"
     ]
    }
   ],
   "source": [
    "print(len([[12, 34, 56]]))"
   ]
  },
  {
   "cell_type": "code",
   "execution_count": 68,
   "metadata": {},
   "outputs": [
    {
     "name": "stdout",
     "output_type": "stream",
     "text": [
      "3\n"
     ]
    }
   ],
   "source": [
    "print(len([[12, 34, 56]][0]))"
   ]
  },
  {
   "cell_type": "code",
   "execution_count": 1,
   "metadata": {},
   "outputs": [
    {
     "name": "stdout",
     "output_type": "stream",
     "text": [
      "[5, 7, 9]\n"
     ]
    }
   ],
   "source": [
    "numbers = [1, 3, 5, 7, 9, 11, 13, 15, 17]\n",
    "print(numbers[2:5])  "
   ]
  },
  {
   "cell_type": "code",
   "execution_count": 2,
   "metadata": {},
   "outputs": [
    {
     "name": "stdout",
     "output_type": "stream",
     "text": [
      "['ankara', 'istanbul']\n"
     ]
    }
   ],
   "source": [
    "cities =  [\"ankara\", \"istanbul\", \"bursa\", \"izmir\"]\n",
    "print(cities[0:2])"
   ]
  },
  {
   "cell_type": "code",
   "execution_count": 33,
   "metadata": {},
   "outputs": [
    {
     "data": {
      "text/plain": [
       "[1, 2, 3, 4, 5]"
      ]
     },
     "execution_count": 33,
     "metadata": {},
     "output_type": "execute_result"
    }
   ],
   "source": [
    "aa = [1,2,3,4,5]\n",
    "aa"
   ]
  },
  {
   "cell_type": "code",
   "execution_count": null,
   "metadata": {},
   "outputs": [],
   "source": []
  },
  {
   "cell_type": "code",
   "execution_count": 35,
   "metadata": {},
   "outputs": [
    {
     "data": {
      "text/plain": [
       "[1, 0, 3, 4, 5]"
      ]
     },
     "execution_count": 35,
     "metadata": {},
     "output_type": "execute_result"
    }
   ],
   "source": [
    "aa[1]=0\n",
    "aa"
   ]
  },
  {
   "cell_type": "code",
   "execution_count": 38,
   "metadata": {},
   "outputs": [
    {
     "data": {
      "text/plain": [
       "[1, 0, 'c', 'l', 'a', 'r', 'u', 's', 'w', 'a', 'y']"
      ]
     },
     "execution_count": 38,
     "metadata": {},
     "output_type": "execute_result"
    }
   ],
   "source": [
    "aa[2:]=\"clarusway\"\n",
    "aa"
   ]
  },
  {
   "cell_type": "code",
   "execution_count": 39,
   "metadata": {},
   "outputs": [
    {
     "name": "stdout",
     "output_type": "stream",
     "text": [
      "['h', 'a', 'p', 'p', 'y']\n",
      "['h', 'a', 'p', 'p', 'y']\n"
     ]
    }
   ],
   "source": [
    "list_1 = [\"h\", \"a\", \"p\", \"p\", \"y\"]\n",
    "word = \"happy\"\n",
    "list_2 = list(word)\n",
    "print(list_1)\n",
    "print(list_2)"
   ]
  },
  {
   "cell_type": "code",
   "execution_count": 44,
   "metadata": {},
   "outputs": [
    {
     "name": "stdout",
     "output_type": "stream",
     "text": [
      "[\"2020's hard\"]\n"
     ]
    },
    {
     "data": {
      "text/plain": [
       "['2', '0', '2', '0', \"'\", 's', ' ', 'h', 'a', 'r', 'd']"
      ]
     },
     "execution_count": 44,
     "metadata": {},
     "output_type": "execute_result"
    }
   ],
   "source": [
    "text = \"2020's hard\"\n",
    "#list_1 = [\"2020's\", \"hard\"]\n",
    "list_1 = [\"2020's hard\"]\n",
    "print(list_1)\n",
    "list(text)"
   ]
  },
  {
   "cell_type": "code",
   "execution_count": 21,
   "metadata": {},
   "outputs": [],
   "source": [
    "sample_list = [{\"section\":5, \"topic\":2}, 'clarusway', [1, 4], 2020, 3.14, 1+618j, False, (10, 20)]"
   ]
  },
  {
   "cell_type": "code",
   "execution_count": 23,
   "metadata": {},
   "outputs": [
    {
     "name": "stdout",
     "output_type": "stream",
     "text": [
      "The type of {'section': 5, 'topic': 2} is <class 'dict'>\n",
      "The type of clarusway is <class 'str'>\n",
      "The type of [1, 4] is <class 'list'>\n",
      "The type of 2020 is <class 'int'>\n",
      "The type of 3.14 is <class 'float'>\n",
      "The type of (1+618j) is <class 'complex'>\n",
      "The type of False is <class 'bool'>\n",
      "The type of (10, 20) is <class 'tuple'>\n"
     ]
    }
   ],
   "source": [
    "for i in sample_list:\n",
    "    print(\"The type of\", i, \"is\", type(i))"
   ]
  },
  {
   "cell_type": "code",
   "execution_count": 2,
   "metadata": {},
   "outputs": [
    {
     "name": "stdout",
     "output_type": "stream",
     "text": [
      "clarusway\n"
     ]
    }
   ],
   "source": [
    "print(sample_list[1])"
   ]
  },
  {
   "cell_type": "code",
   "execution_count": 8,
   "metadata": {},
   "outputs": [
    {
     "name": "stdout",
     "output_type": "stream",
     "text": [
      "[(10, 20)]\n"
     ]
    }
   ],
   "source": [
    "print(sample_list[-1:])"
   ]
  },
  {
   "cell_type": "code",
   "execution_count": 1,
   "metadata": {},
   "outputs": [],
   "source": [
    "list = [1, 2, 3, 4, 5]"
   ]
  },
  {
   "cell_type": "code",
   "execution_count": 2,
   "metadata": {},
   "outputs": [],
   "source": [
    "list.reverse()"
   ]
  },
  {
   "cell_type": "code",
   "execution_count": 3,
   "metadata": {},
   "outputs": [
    {
     "name": "stdout",
     "output_type": "stream",
     "text": [
      "[5, 4, 3, 2, 1]\n"
     ]
    }
   ],
   "source": [
    "print(list)"
   ]
  },
  {
   "cell_type": "code",
   "execution_count": 1,
   "metadata": {},
   "outputs": [],
   "source": [
    "my_list = [1,2,3,4,5]"
   ]
  },
  {
   "cell_type": "code",
   "execution_count": 2,
   "metadata": {},
   "outputs": [
    {
     "data": {
      "text/plain": [
       "<generator object <genexpr> at 0x000001ACF08512C8>"
      ]
     },
     "execution_count": 2,
     "metadata": {},
     "output_type": "execute_result"
    }
   ],
   "source": [
    "(x**2 for x in my_list) # comprehension yapısıdır. "
   ]
  },
  {
   "cell_type": "code",
   "execution_count": 10,
   "metadata": {},
   "outputs": [
    {
     "data": {
      "text/plain": [
       "[1, 4, 9, 16, 25]"
      ]
     },
     "execution_count": 10,
     "metadata": {},
     "output_type": "execute_result"
    }
   ],
   "source": [
    "list((x**2 for x in my_list))"
   ]
  },
  {
   "cell_type": "code",
   "execution_count": 11,
   "metadata": {},
   "outputs": [],
   "source": [
    "a = (x**2 for x in my_list)"
   ]
  },
  {
   "cell_type": "code",
   "execution_count": 12,
   "metadata": {},
   "outputs": [
    {
     "name": "stdout",
     "output_type": "stream",
     "text": [
      "1\n",
      "4\n",
      "9\n",
      "16\n",
      "25\n"
     ]
    }
   ],
   "source": [
    "for i in a:\n",
    "    print(i)"
   ]
  },
  {
   "cell_type": "code",
   "execution_count": 13,
   "metadata": {},
   "outputs": [
    {
     "data": {
      "text/plain": [
       "55"
      ]
     },
     "execution_count": 13,
     "metadata": {},
     "output_type": "execute_result"
    }
   ],
   "source": [
    "sum((x**2 for x in my_list))# sum fonksiyonu iterable alır. "
   ]
  },
  {
   "cell_type": "code",
   "execution_count": 14,
   "metadata": {},
   "outputs": [
    {
     "data": {
      "text/plain": [
       "25"
      ]
     },
     "execution_count": 14,
     "metadata": {},
     "output_type": "execute_result"
    }
   ],
   "source": [
    "max((x**2 for x in my_list))"
   ]
  },
  {
   "cell_type": "code",
   "execution_count": 15,
   "metadata": {},
   "outputs": [],
   "source": [
    "eski = [1,2,3]\n",
    "yeni = eski"
   ]
  },
  {
   "cell_type": "code",
   "execution_count": 16,
   "metadata": {},
   "outputs": [
    {
     "data": {
      "text/plain": [
       "[1, 2, 3]"
      ]
     },
     "execution_count": 16,
     "metadata": {},
     "output_type": "execute_result"
    }
   ],
   "source": [
    "yeni"
   ]
  },
  {
   "cell_type": "code",
   "execution_count": 17,
   "metadata": {},
   "outputs": [],
   "source": [
    "yeni.append(\"a\")"
   ]
  },
  {
   "cell_type": "code",
   "execution_count": 18,
   "metadata": {},
   "outputs": [
    {
     "data": {
      "text/plain": [
       "[1, 2, 3, 'a']"
      ]
     },
     "execution_count": 18,
     "metadata": {},
     "output_type": "execute_result"
    }
   ],
   "source": [
    "yeni"
   ]
  },
  {
   "cell_type": "code",
   "execution_count": 19,
   "metadata": {},
   "outputs": [
    {
     "data": {
      "text/plain": [
       "[1, 2, 3, 'a']"
      ]
     },
     "execution_count": 19,
     "metadata": {},
     "output_type": "execute_result"
    }
   ],
   "source": [
    "eski"
   ]
  },
  {
   "cell_type": "code",
   "execution_count": 23,
   "metadata": {},
   "outputs": [],
   "source": [
    "eskim = [\"kedi\", 0, 5, 6.7]#eski listeyi korumak için copy kullanılır\n",
    "yenim = eskim.copy()"
   ]
  },
  {
   "cell_type": "code",
   "execution_count": 25,
   "metadata": {},
   "outputs": [
    {
     "data": {
      "text/plain": [
       "['kedi', 0, 5, 6.7]"
      ]
     },
     "execution_count": 25,
     "metadata": {},
     "output_type": "execute_result"
    }
   ],
   "source": [
    "yenim"
   ]
  },
  {
   "cell_type": "code",
   "execution_count": 26,
   "metadata": {},
   "outputs": [],
   "source": [
    "yenim.append(\"tavşan\")"
   ]
  },
  {
   "cell_type": "code",
   "execution_count": 27,
   "metadata": {},
   "outputs": [
    {
     "data": {
      "text/plain": [
       "['kedi', 0, 5, 6.7, 'tavşan']"
      ]
     },
     "execution_count": 27,
     "metadata": {},
     "output_type": "execute_result"
    }
   ],
   "source": [
    "yenim"
   ]
  },
  {
   "cell_type": "code",
   "execution_count": 28,
   "metadata": {},
   "outputs": [
    {
     "data": {
      "text/plain": [
       "['kedi', 0, 5, 6.7]"
      ]
     },
     "execution_count": 28,
     "metadata": {},
     "output_type": "execute_result"
    }
   ],
   "source": [
    "eskim"
   ]
  },
  {
   "cell_type": "code",
   "execution_count": 29,
   "metadata": {},
   "outputs": [],
   "source": [
    "yenim=eskim[:] #buda copy fonk. görür"
   ]
  },
  {
   "cell_type": "code",
   "execution_count": 30,
   "metadata": {},
   "outputs": [],
   "source": [
    "yenim.append(\"dana\")"
   ]
  },
  {
   "cell_type": "code",
   "execution_count": 31,
   "metadata": {},
   "outputs": [
    {
     "data": {
      "text/plain": [
       "['kedi', 0, 5, 6.7, 'dana']"
      ]
     },
     "execution_count": 31,
     "metadata": {},
     "output_type": "execute_result"
    }
   ],
   "source": [
    "yenim"
   ]
  },
  {
   "cell_type": "code",
   "execution_count": 32,
   "metadata": {},
   "outputs": [
    {
     "data": {
      "text/plain": [
       "['kedi', 0, 5, 6.7]"
      ]
     },
     "execution_count": 32,
     "metadata": {},
     "output_type": "execute_result"
    }
   ],
   "source": [
    "eskim"
   ]
  },
  {
   "cell_type": "code",
   "execution_count": 33,
   "metadata": {},
   "outputs": [],
   "source": [
    "diller = [\"fransızca\", \"ingilizce\", \"flemenkçe\"]"
   ]
  },
  {
   "cell_type": "code",
   "execution_count": 34,
   "metadata": {},
   "outputs": [],
   "source": [
    "diller2 = [\"ispanyolca\", \"arapça\"]"
   ]
  },
  {
   "cell_type": "code",
   "execution_count": 35,
   "metadata": {},
   "outputs": [
    {
     "data": {
      "text/plain": [
       "['fransızca', 'ingilizce', 'flemenkçe', 'ispanyolca', 'arapça']"
      ]
     },
     "execution_count": 35,
     "metadata": {},
     "output_type": "execute_result"
    }
   ],
   "source": [
    "diller + diller2"
   ]
  },
  {
   "cell_type": "code",
   "execution_count": 36,
   "metadata": {},
   "outputs": [],
   "source": [
    "diller.extend(diller2)#extend metodu, iterable alır. "
   ]
  },
  {
   "cell_type": "code",
   "execution_count": 37,
   "metadata": {},
   "outputs": [
    {
     "data": {
      "text/plain": [
       "['fransızca', 'ingilizce', 'flemenkçe', 'ispanyolca', 'arapça']"
      ]
     },
     "execution_count": 37,
     "metadata": {},
     "output_type": "execute_result"
    }
   ],
   "source": [
    "diller"
   ]
  },
  {
   "cell_type": "code",
   "execution_count": 38,
   "metadata": {},
   "outputs": [],
   "source": [
    "dil_tuple = (\"rusça\", \"almanca\")"
   ]
  },
  {
   "cell_type": "code",
   "execution_count": 39,
   "metadata": {},
   "outputs": [],
   "source": [
    "dil_küme = {\"japonca\", \"çince\"}"
   ]
  },
  {
   "cell_type": "code",
   "execution_count": 40,
   "metadata": {},
   "outputs": [],
   "source": [
    "diller.extend(dil_tuple)"
   ]
  },
  {
   "cell_type": "code",
   "execution_count": 41,
   "metadata": {},
   "outputs": [
    {
     "data": {
      "text/plain": [
       "['fransızca',\n",
       " 'ingilizce',\n",
       " 'flemenkçe',\n",
       " 'ispanyolca',\n",
       " 'arapça',\n",
       " 'rusça',\n",
       " 'almanca']"
      ]
     },
     "execution_count": 41,
     "metadata": {},
     "output_type": "execute_result"
    }
   ],
   "source": [
    "diller"
   ]
  },
  {
   "cell_type": "code",
   "execution_count": 42,
   "metadata": {},
   "outputs": [],
   "source": [
    "diller.extend(dil_küme)"
   ]
  },
  {
   "cell_type": "code",
   "execution_count": 43,
   "metadata": {},
   "outputs": [
    {
     "data": {
      "text/plain": [
       "['fransızca',\n",
       " 'ingilizce',\n",
       " 'flemenkçe',\n",
       " 'ispanyolca',\n",
       " 'arapça',\n",
       " 'rusça',\n",
       " 'almanca',\n",
       " 'japonca',\n",
       " 'çince']"
      ]
     },
     "execution_count": 43,
     "metadata": {},
     "output_type": "execute_result"
    }
   ],
   "source": [
    "diller"
   ]
  },
  {
   "cell_type": "code",
   "execution_count": 44,
   "metadata": {},
   "outputs": [],
   "source": [
    "diller = [\"python\", \"java\", \"c++\", \"fransız\", \"c\"]"
   ]
  },
  {
   "cell_type": "code",
   "execution_count": 45,
   "metadata": {},
   "outputs": [],
   "source": [
    "yeni_deger = diller.pop(3)"
   ]
  },
  {
   "cell_type": "code",
   "execution_count": 46,
   "metadata": {},
   "outputs": [
    {
     "data": {
      "text/plain": [
       "'fransız'"
      ]
     },
     "execution_count": 46,
     "metadata": {},
     "output_type": "execute_result"
    }
   ],
   "source": [
    "yeni_deger"
   ]
  },
  {
   "cell_type": "code",
   "execution_count": 47,
   "metadata": {},
   "outputs": [
    {
     "data": {
      "text/plain": [
       "['python', 'java', 'c++', 'c']"
      ]
     },
     "execution_count": 47,
     "metadata": {},
     "output_type": "execute_result"
    }
   ],
   "source": [
    "diller"
   ]
  },
  {
   "cell_type": "code",
   "execution_count": 48,
   "metadata": {},
   "outputs": [
    {
     "data": {
      "text/plain": [
       "'c'"
      ]
     },
     "execution_count": 48,
     "metadata": {},
     "output_type": "execute_result"
    }
   ],
   "source": [
    "diller.pop()"
   ]
  },
  {
   "cell_type": "code",
   "execution_count": 49,
   "metadata": {},
   "outputs": [
    {
     "data": {
      "text/plain": [
       "['python', 'java', 'c++']"
      ]
     },
     "execution_count": 49,
     "metadata": {},
     "output_type": "execute_result"
    }
   ],
   "source": [
    "diller"
   ]
  },
  {
   "cell_type": "code",
   "execution_count": 50,
   "metadata": {},
   "outputs": [
    {
     "data": {
      "text/plain": [
       "'python'"
      ]
     },
     "execution_count": 50,
     "metadata": {},
     "output_type": "execute_result"
    }
   ],
   "source": [
    "diller.pop(-3)"
   ]
  },
  {
   "cell_type": "code",
   "execution_count": 51,
   "metadata": {},
   "outputs": [
    {
     "data": {
      "text/plain": [
       "['java', 'c++']"
      ]
     },
     "execution_count": 51,
     "metadata": {},
     "output_type": "execute_result"
    }
   ],
   "source": [
    "diller"
   ]
  },
  {
   "cell_type": "code",
   "execution_count": null,
   "metadata": {},
   "outputs": [],
   "source": [
    "gürkan = {}# Creation of an object on the fly. It gives you power and by using list, store multiple things, ability to add in other dictionaries.Pfor beginnrs-25 \n",
    "gürkan[\"first\"] = \"Gürkan\"\n",
    "gürkan[\"first\"] = \"Gürkan\"\n",
    "gürkan[\"last\"] = \"Yeşilyurt\"\n",
    "\n",
    "geçiş = []\n",
    "geçiş.append(gürkan)\n",
    "geçiş.append(canan)\n",
    "geçiş.append ({\n",
    "    \"first\": \"Canan\", \"last\": \"Yeşilyurt\",\n",
    "    \"first\": \"Büşra\", \"last\":\"Yeşilyurt\"\n",
    "})\n",
    "print(geçiş)"
   ]
  },
  {
   "cell_type": "code",
   "execution_count": 6,
   "metadata": {},
   "outputs": [],
   "source": []
  },
  {
   "cell_type": "code",
   "execution_count": null,
   "metadata": {},
   "outputs": [],
   "source": [
    "grocer[1]"
   ]
  },
  {
   "cell_type": "markdown",
   "metadata": {},
   "source": [
    "# 5. arrays"
   ]
  },
  {
   "cell_type": "raw",
   "metadata": {},
   "source": [
    "Arrays are one kind of collection type. \n",
    "They are going to be collections of only numeric data types. And it has to be same type. \n",
    "I have to create an array object and I have to go get that by bringing it from array library."
   ]
  },
  {
   "cell_type": "raw",
   "metadata": {},
   "source": [
    "Docstring: Return a new array whose items are restricted by typecode, and initialized from the optional initializer value, which must be a list, string or iterable over elements of the appropriate type."
   ]
  },
  {
   "cell_type": "raw",
   "metadata": {},
   "source": [
    "Typecode: \n",
    "    Arrays in python behave very similar to lists but they have the same data type of values stored in it. \n",
    "    The data type is specified at the array creation time by using a single character is called the type code."
   ]
  },
  {
   "cell_type": "code",
   "execution_count": 1,
   "metadata": {},
   "outputs": [],
   "source": [
    "from array import array"
   ]
  },
  {
   "cell_type": "code",
   "execution_count": 22,
   "metadata": {},
   "outputs": [
    {
     "data": {
      "text/plain": [
       "array('d')"
      ]
     },
     "execution_count": 22,
     "metadata": {},
     "output_type": "execute_result"
    }
   ],
   "source": [
    "array(\"d\") #'d': typecode, floating point:C Type, 8:minimum size in bytes  "
   ]
  },
  {
   "cell_type": "code",
   "execution_count": 7,
   "metadata": {},
   "outputs": [
    {
     "data": {
      "text/plain": [
       "array.array"
      ]
     },
     "execution_count": 7,
     "metadata": {},
     "output_type": "execute_result"
    }
   ],
   "source": [
    "type(array(\"d\"))"
   ]
  },
  {
   "cell_type": "code",
   "execution_count": 16,
   "metadata": {},
   "outputs": [
    {
     "data": {
      "text/plain": [
       "array('d')"
      ]
     },
     "execution_count": 16,
     "metadata": {},
     "output_type": "execute_result"
    }
   ],
   "source": [
    "scores = array(\"d\")\n",
    "scores"
   ]
  },
  {
   "cell_type": "code",
   "execution_count": 17,
   "metadata": {},
   "outputs": [
    {
     "data": {
      "text/plain": [
       "array.array"
      ]
     },
     "execution_count": 17,
     "metadata": {},
     "output_type": "execute_result"
    }
   ],
   "source": [
    "type(scores)"
   ]
  },
  {
   "cell_type": "code",
   "execution_count": 18,
   "metadata": {},
   "outputs": [],
   "source": [
    "scores.append(97)"
   ]
  },
  {
   "cell_type": "code",
   "execution_count": 19,
   "metadata": {},
   "outputs": [],
   "source": [
    "scores.append(98)"
   ]
  },
  {
   "cell_type": "code",
   "execution_count": 20,
   "metadata": {},
   "outputs": [
    {
     "data": {
      "text/plain": [
       "array('d', [97.0, 98.0])"
      ]
     },
     "execution_count": 20,
     "metadata": {},
     "output_type": "execute_result"
    }
   ],
   "source": [
    "scores"
   ]
  },
  {
   "cell_type": "code",
   "execution_count": 21,
   "metadata": {},
   "outputs": [
    {
     "data": {
      "text/plain": [
       "98.0"
      ]
     },
     "execution_count": 21,
     "metadata": {},
     "output_type": "execute_result"
    }
   ],
   "source": [
    "scores[1]"
   ]
  },
  {
   "cell_type": "code",
   "execution_count": null,
   "metadata": {},
   "outputs": [],
   "source": []
  },
  {
   "cell_type": "raw",
   "metadata": {},
   "source": [
    "✏️Homework: Guess and figure out the output of this syntax"
   ]
  },
  {
   "cell_type": "code",
   "execution_count": 52,
   "metadata": {
    "scrolled": true
   },
   "outputs": [
    {
     "name": "stdout",
     "output_type": "stream",
     "text": [
      "[1, 3, 5, 7, 1, 3, 5, 7, 1, 3, 5, 7]\n"
     ]
    }
   ],
   "source": [
    "my_list = [1, 3, 5, 7]\n",
    "print(my_list * 3)"
   ]
  },
  {
   "cell_type": "code",
   "execution_count": 2,
   "metadata": {},
   "outputs": [],
   "source": [
    "import numpy as np"
   ]
  },
  {
   "cell_type": "code",
   "execution_count": 3,
   "metadata": {},
   "outputs": [
    {
     "name": "stdout",
     "output_type": "stream",
     "text": [
      "[ 3  9 15 21]\n"
     ]
    }
   ],
   "source": [
    "my_list2 = np.array([1,3,5,7])\n",
    "print(my_list2*3)"
   ]
  },
  {
   "cell_type": "markdown",
   "metadata": {},
   "source": [
    "## List comprehension"
   ]
  },
  {
   "cell_type": "raw",
   "metadata": {},
   "source": [
    "saves you from bunch of writing"
   ]
  },
  {
   "cell_type": "code",
   "execution_count": 41,
   "metadata": {},
   "outputs": [],
   "source": [
    "my_list = [1, 2, 3, 4, 5, 6]"
   ]
  },
  {
   "cell_type": "raw",
   "metadata": {},
   "source": [
    "with for loop"
   ]
  },
  {
   "cell_type": "code",
   "execution_count": 42,
   "metadata": {},
   "outputs": [],
   "source": [
    "odd_sqr = []\n",
    "even_sqr = []\n",
    "for i in my_list:\n",
    "    if i % 2 != 0:\n",
    "        odd_sqr.append(i**2)\n",
    "    else: even_sqr.append(i**2) "
   ]
  },
  {
   "cell_type": "code",
   "execution_count": 43,
   "metadata": {},
   "outputs": [
    {
     "data": {
      "text/plain": [
       "[1, 9, 25]"
      ]
     },
     "execution_count": 43,
     "metadata": {},
     "output_type": "execute_result"
    }
   ],
   "source": [
    "odd_sqr"
   ]
  },
  {
   "cell_type": "code",
   "execution_count": 44,
   "metadata": {},
   "outputs": [
    {
     "data": {
      "text/plain": [
       "[4, 16, 36]"
      ]
     },
     "execution_count": 44,
     "metadata": {},
     "output_type": "execute_result"
    }
   ],
   "source": [
    "even_sqr "
   ]
  },
  {
   "cell_type": "raw",
   "metadata": {},
   "source": [
    "with list comprehension\n",
    "\n",
    "formül: [expression for item in iterable]"
   ]
  },
  {
   "cell_type": "raw",
   "metadata": {},
   "source": [
    "# for item in iterable:\n",
    "#     expression"
   ]
  },
  {
   "cell_type": "code",
   "execution_count": 45,
   "metadata": {},
   "outputs": [
    {
     "data": {
      "text/plain": [
       "[4, 16, 36]"
      ]
     },
     "execution_count": 45,
     "metadata": {},
     "output_type": "execute_result"
    }
   ],
   "source": [
    "[i**2 for i in my_list if i%2==0]"
   ]
  },
  {
   "cell_type": "code",
   "execution_count": 46,
   "metadata": {},
   "outputs": [
    {
     "data": {
      "text/plain": [
       "[1, 9, 25]"
      ]
     },
     "execution_count": 46,
     "metadata": {},
     "output_type": "execute_result"
    }
   ],
   "source": [
    "[i**2 for i in my_list if i%2 !=0]"
   ]
  },
  {
   "cell_type": "code",
   "execution_count": 47,
   "metadata": {},
   "outputs": [
    {
     "data": {
      "text/plain": [
       "<generator object <genexpr> at 0x0000016BB90C88C8>"
      ]
     },
     "execution_count": 47,
     "metadata": {},
     "output_type": "execute_result"
    }
   ],
   "source": [
    "(i**2 for i in my_list if i%2 !=0)"
   ]
  },
  {
   "cell_type": "raw",
   "metadata": {},
   "source": [
    "example"
   ]
  },
  {
   "cell_type": "code",
   "execution_count": 48,
   "metadata": {},
   "outputs": [
    {
     "name": "stdout",
     "output_type": "stream",
     "text": [
      "3\n",
      "4\n",
      "4\n"
     ]
    }
   ],
   "source": [
    "string = [\"ali\", \"veli\", \"ayşe\"]\n",
    "for i in string:\n",
    "    print(len(i))"
   ]
  },
  {
   "cell_type": "code",
   "execution_count": 49,
   "metadata": {},
   "outputs": [
    {
     "data": {
      "text/plain": [
       "[3, 4, 4]"
      ]
     },
     "execution_count": 49,
     "metadata": {},
     "output_type": "execute_result"
    }
   ],
   "source": [
    "[len(i) for i in string]"
   ]
  },
  {
   "cell_type": "code",
   "execution_count": 50,
   "metadata": {},
   "outputs": [],
   "source": [
    "x = [1,2,3,4]"
   ]
  },
  {
   "cell_type": "code",
   "execution_count": 51,
   "metadata": {},
   "outputs": [
    {
     "data": {
      "text/plain": [
       "[1, 4, 9, 16]"
      ]
     },
     "execution_count": 51,
     "metadata": {},
     "output_type": "execute_result"
    }
   ],
   "source": [
    "out = []\n",
    "\n",
    "for item in x:\n",
    "    out.append(item**2)\n",
    "out"
   ]
  },
  {
   "cell_type": "raw",
   "metadata": {},
   "source": [
    "aga bu for loop o gadar çok kullanılı ki list comp yapmışlar"
   ]
  },
  {
   "cell_type": "code",
   "execution_count": null,
   "metadata": {},
   "outputs": [],
   "source": [
    "[item**2 for item in x]"
   ]
  },
  {
   "cell_type": "code",
   "execution_count": null,
   "metadata": {},
   "outputs": [],
   "source": []
  }
 ],
 "metadata": {
  "kernelspec": {
   "display_name": "Python 3",
   "language": "python",
   "name": "python3"
  },
  "language_info": {
   "codemirror_mode": {
    "name": "ipython",
    "version": 3
   },
   "file_extension": ".py",
   "mimetype": "text/x-python",
   "name": "python",
   "nbconvert_exporter": "python",
   "pygments_lexer": "ipython3",
   "version": "3.7.6"
  }
 },
 "nbformat": 4,
 "nbformat_minor": 4
}
