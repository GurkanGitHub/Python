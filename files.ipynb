{
 "cells": [
  {
   "cell_type": "markdown",
   "metadata": {},
   "source": [
    "# Files"
   ]
  },
  {
   "cell_type": "code",
   "execution_count": null,
   "metadata": {},
   "outputs": [],
   "source": [
    "from helpers import * # import all into current namespace"
   ]
  },
  {
   "cell_type": "code",
   "execution_count": null,
   "metadata": {},
   "outputs": [],
   "source": [
    "display(\"Not a warning\")"
   ]
  },
  {
   "cell_type": "code",
   "execution_count": null,
   "metadata": {},
   "outputs": [],
   "source": [
    "from helpers import display#import specific items into current namespace"
   ]
  },
  {
   "cell_type": "code",
   "execution_count": null,
   "metadata": {},
   "outputs": [],
   "source": [
    "display(\"Not a warning\")"
   ]
  },
  {
   "cell_type": "code",
   "execution_count": null,
   "metadata": {},
   "outputs": [],
   "source": [
    "my_file = open(\"helpers.py\")"
   ]
  },
  {
   "cell_type": "code",
   "execution_count": null,
   "metadata": {},
   "outputs": [],
   "source": [
    "print(type(my_file))"
   ]
  },
  {
   "cell_type": "markdown",
   "metadata": {},
   "source": [
    "## What is a File?"
   ]
  },
  {
   "cell_type": "raw",
   "metadata": {},
   "source": [
    "• On most operating system, files are spaces on your computer where data is stored. \n",
    "• The items you use in everyday life are actually just files. \n",
    "• Texts for Pcodes, pictures and videos or python-3.8.1.exe that you should have downloaded for installation are the files.\n",
    "• Just as words can be written to paper, so can information be written to a computer file. \n",
    "• You can open and modify their contents, store them on various media or transfer them from one media to another.\n",
    "• In an operating system's graphical user interface, files are often represented by icons: thumbnails showing the content. \n",
    "• Although it differs in all OS, files have their own icons."
   ]
  },
  {
   "cell_type": "markdown",
   "metadata": {},
   "source": [
    "## File Components"
   ]
  },
  {
   "cell_type": "markdown",
   "metadata": {},
   "source": [
    "### 1. Metadata"
   ]
  },
  {
   "cell_type": "raw",
   "metadata": {},
   "source": [
    "• All the detailed information about a file stored on the computer is called the metadata of that file. \n",
    "• In Windows10, you can right-click on a file and then click properties then choose details to display the metadata. \n",
    "In general, almost all modern OSes have this (shown on the picture) descriptive information as metadata. Every time you modify anything about the file, the metadata will be updated accordingly."
   ]
  },
  {
   "cell_type": "markdown",
   "metadata": {},
   "source": [
    "### 2. File Attributes"
   ]
  },
  {
   "cell_type": "raw",
   "metadata": {},
   "source": [
    "• It's the special kind of md associated with computer files that define file system behavior. Each file has several attributes, but these attributes vary greatly from one OS to another. \n",
    "• Each attribute can have one of two states: set and cleared. \n",
    "• For example, let’s look at the following attributes: these basic file attributes are contained in every Windows file.\n",
    "\t○ Read-Only (R) : It makes the file read-only and indicates that a file can not be altered. \n",
    "\t○ System (S) : It indicates that the hosting file is a critical system file that is necessary for the computer to operate properly.\n",
    "\t○ Hidden (H) : It makes the file hidden and indicates that the hosting file is unseen by default."
   ]
  },
  {
   "cell_type": "markdown",
   "metadata": {},
   "source": [
    "## Directories & Folders"
   ]
  },
  {
   "cell_type": "raw",
   "metadata": {},
   "source": [
    "There is a structure for storing the files in an orderly manner, just like the m, p, and sps and making them easily accessible on demand. This organized structure where files are stored is called a folder or directory.\n",
    "What we call a directory or a folder is actually managed in the same logic as a folder for storing documents and files in a real office environment. Folder icons used by the oss shown below (Windows, Linux, Mac, respectively).\n",
    "A folder/directory can contain files or other folders/directories. A directory inside the other directory is generally known as a subdirectory. \n",
    "In all opss, directories/folders are structured in a hierarchical order. There is usually one (or multiple if it is partitioned) directory called the root directory-rd, and there are as many subdirectories as needed inside the rd.\n",
    "Naming the rd may vary from one os to another. The following diagram shows us a sample of the hierarchical structure of the directories of Windows OS."
   ]
  },
  {
   "cell_type": "markdown",
   "metadata": {},
   "source": [
    "## Reading Files"
   ]
  },
  {
   "cell_type": "markdown",
   "metadata": {},
   "source": [
    "## `open()` function"
   ]
  },
  {
   "cell_type": "code",
   "execution_count": null,
   "metadata": {},
   "outputs": [],
   "source": [
    "Dosyayı açmak için kullanılır.\n",
    "Data you need for your Program comes from outside in a file format. \n",
    "To start working with files, we need to open it first by using a bif open(). "
   ]
  },
  {
   "cell_type": "markdown",
   "metadata": {},
   "source": [
    "#### open() function parameters"
   ]
  },
  {
   "cell_type": "raw",
   "metadata": {},
   "source": [
    "open (file, mode='r', buffering=-1, encoding=None, errors=None, newline=None, closefd=True, opener=None)"
   ]
  },
  {
   "cell_type": "markdown",
   "metadata": {},
   "source": [
    "#### 1. file parameter"
   ]
  },
  {
   "cell_type": "raw",
   "metadata": {},
   "source": [
    "• file is the only required parameter of the open() function. \n",
    "• This parameter is a path-like object which is a str or bytes that represents a path in the file directory. \n",
    "• Path-like object giving the pathname of the file (absolute or relative to the current working dir) to be opened or an integer file descriptor of the file to be wrapped. \n",
    "• This parameter takes the name of the file that you want to open which is stored in the directory where the Anaconda3 or the Python installed.\n",
    "• In other words, the file should be stored in the current wd. "
   ]
  },
  {
   "cell_type": "code",
   "execution_count": 7,
   "metadata": {},
   "outputs": [
    {
     "data": {
      "text/plain": [
       "<_io.TextIOWrapper name='first_file.txt' mode='r' encoding='cp1254'>"
      ]
     },
     "execution_count": 7,
     "metadata": {},
     "output_type": "execute_result"
    }
   ],
   "source": [
    "open(\"first_file.txt\")"
   ]
  },
  {
   "cell_type": "code",
   "execution_count": 8,
   "metadata": {},
   "outputs": [
    {
     "name": "stdout",
     "output_type": "stream",
     "text": [
      "<class '_io.TextIOWrapper'>\n"
     ]
    }
   ],
   "source": [
    "my_file = open(\"first_file.txt\")  # this syntax opens a 'txt' file, burda \"my_file\" değişkeni \"file-like object\" oluyor \n",
    "                                    #my_file diye bir object oluşturduk\n",
    "print(type(my_file))"
   ]
  },
  {
   "cell_type": "raw",
   "metadata": {},
   "source": [
    "• It opens the file and returns a corresponding file-like object. If the file cannot be opened, an OSError is raised. \n",
    "• Pay attention to the type of my_file. We have created a file-like object. So we can apply different kinds of methods to my_file. Değişken.count(), count gibi metod. \n",
    "• Dosya değişken olarak atandığında bir object oluşturuyor. Lambda fonksiyonu gibi. Oda oluşturulduğunda bir object oluyor. \n",
    "• Object olduğunda ona methotları uygulayabiliyoruz. "
   ]
  },
  {
   "cell_type": "markdown",
   "metadata": {},
   "source": [
    "#### 2. encoding parameter"
   ]
  },
  {
   "cell_type": "raw",
   "metadata": {},
   "source": [
    "• encoding:  https://docs.python.org/3/howto/unicode.html#encodings\n",
    "\n",
    "\t\t\t• Indicates the encoding that needs to be used to decode or encode a file. The default value depends on the platform you use and its language. Unicode Transformation Format (UTF-8) is one of the most preferred used encodings, and Python generally defaults to using it. ‘8’ means that 8-bit values are used in the encoding. We can open a file in the same way by using the following syntax :\n",
    "\n",
    "\t\t\tmy_file = open(\"first_file.txt\", encoding=\"utf-8\")\n",
    "\t\t\t# we've used 'utf8' encoding format just the same as the previous one\n",
    "\t\t\t\n",
    "\t\t\t• UTF-8 yazı karakterlerini görmemizi ve kullanmamızı sağlayan sistem. Formatlama yapar\n",
    "\t\t\t\n",
    "\t\t\t• Sometimes it may take time to know if you are using the correct encoding in your file. Therefore, if the file you're trying to open looks unusual or wrong, or gives an error, you might need to deal with this parameter a bit.\n",
    "\n",
    "\t\t\t• If you want to know the encoding in detail you may take a look at the following references :\n",
    "\t\t\t\t○ The Unicode Consortium Web-Page,\n",
    "\t\t\t\t○ Wikipedia entries about character encoding and UTF-8,\n",
    "\t\t\t\t○ The following video of Tom Scott about the history of Unicode and UTF-8.\n",
    "\t\t\t• pd.\n",
    "\n",
    "• Video: \n",
    "\t\t\n",
    "\t\t\t\t○ 1960: teleprinters, simple devices where you type a key and it sends numbers and some letters comes out on the other side. But there needs some standard. So in mid 1960s USA set ASCII, it was 7-bit binary system. So each letter you type in gets converted into 7 binary numbers and sent over the wire. \n",
    "\t\t\t\t○ That means you can have numbers from 0 to 127. \n",
    "\t\t\t\t○ 8 bit computerlar ile 256 karaktere çıkıldı. \n",
    "\t\t\t\t○ Herkes kendi kodunu yaptı. Karışklık. Www hit. Unicode consortium çıktı. They have a list of more than a hundred thousand characters. \n",
    "\t\t\t\t○ Nasıl baş çıkılacak UTF 8 çıktı. 100.000'den fazla karakteri kodlamak için 32 bit sistem gerekli. A still 65, busefer noldu abi. Eskiden 7 bitte depolanan A 32 bitte depolanmaya başladı. Sıkıntı bu abi. \n",
    "\t\t\t\t○ UTF nassı çözdü bunu abi: ASCII gibi başladı. 128 in altında olanlar için abi yine bunları 7 digit ile temsil etti. \n",
    "\t\t\t\t○ Peki bunun ötesi n'olcak abi: 110 la başladılar. Yeni karakterin başlangıcı, bu karakter 2 bayt uzunluğunda olacak. \n",
    "\t\t\t\t110xxxxx     *      10xxxxxxx\n",
    "\t\t\t\t○ 4096 için böyle çözüldü. \n",
    "\t\t\t\t○ Ötesi abi?: \n",
    "\t\t\t\t1110xxxx    - 10xxxxxx - 10xxxxxx"
   ]
  },
  {
   "cell_type": "markdown",
   "metadata": {},
   "source": [
    "#### 3. mode parameter"
   ]
  },
  {
   "cell_type": "raw",
   "metadata": {},
   "source": [
    "• Most important parameters of open() function, mode. This parameter has several options that regulate how or for what purpose we open the file. These options are as follows :\n",
    "\t\n",
    "\t\t\t• 'mode' Parameter Attributes\n",
    "\n",
    "Character\tWhat it's used for?\n",
    "'r'\tOpen for reading (default). If the file doesn't exist, FileNotFoundError will raise.\n",
    "'a'\tOpen for writing. It will append to the end of the file if it already exists. If there is no file, it will create it.\n",
    "'w'\tOpen for writing. It will be overwritten if the file already exists. If there is no file, it will create it.\n",
    "'x'\tOpen for exclusive creation, it will fail if the file already exists.\n",
    "'b'\tOpen in binary mode.\n",
    "'t'\tOpen as a text file (default).\n",
    "'+'\tOpen for updating (reading and writing).\n",
    "\n",
    "\t\t\t• By default, open() function executes opening the file for reading ('r') as a text ('t'). In other words, it defaults to 'r' or 'rt' which means open for reading in text mode.\n",
    "\n",
    "\t\t💡Tips:\n",
    "\t\t\t\t○ You can combine the modes according to your needs.\n",
    "\t\t\t\t○ If you want to open and be able to read, modify, and update the existing file you should set the mode as 'r+'.\n",
    "\n",
    "\t\t\t• You can choose the format in which you want to open the file as text ('t') or binary ('b'). \n",
    "\t\t\t\n",
    "\t\t\t\t○ Files opened in 'binary' mode return contents as bytes objects without any decoding. \n",
    "\t\t\t\t○ In 'text' mode, the contents of the file are returned as str, the bytes having been first decoded using a platform-dependent encoding or using the specified encoding if given.\n",
    "\n",
    "\t\t\t• In this case, if you want to open a binary file for writing you should set the mode as 'wb'. On the other hand, if you want to work with a text file you don't need to specify 't' since the default value of mode is already set as 't'. So, when opening and writing a text file it's enough to set the mode as 'w'.\n",
    "\n",
    "\t\t\t• Differences between the use of 'w' and 'a':\n",
    "\t\t\n",
    "\t\t\t\t○ Both options are used to modify the file or to write new data to the file. \n",
    "\t\t\t\t○ 'a', the data you want to write will be added at the bottom of the file and combined with existing content, \n",
    "'w' will delete the existing content and add new content each time. "
   ]
  },
  {
   "cell_type": "markdown",
   "metadata": {},
   "source": [
    "## `read()` function"
   ]
  },
  {
   "cell_type": "code",
   "execution_count": null,
   "metadata": {},
   "outputs": [],
   "source": []
  },
  {
   "cell_type": "code",
   "execution_count": null,
   "metadata": {},
   "outputs": [],
   "source": []
  },
  {
   "cell_type": "code",
   "execution_count": null,
   "metadata": {},
   "outputs": [],
   "source": []
  },
  {
   "cell_type": "code",
   "execution_count": 10,
   "metadata": {},
   "outputs": [
    {
     "data": {
      "text/plain": [
       "'Hello man!'"
      ]
     },
     "execution_count": 10,
     "metadata": {},
     "output_type": "execute_result"
    }
   ],
   "source": [
    "my_file.read()"
   ]
  },
  {
   "cell_type": "code",
   "execution_count": null,
   "metadata": {},
   "outputs": [],
   "source": [
    "sea = open(\"fishes.txt\", \"r\") #sea diye bir object oluşturduk"
   ]
  },
  {
   "cell_type": "code",
   "execution_count": null,
   "metadata": {},
   "outputs": [],
   "source": [
    "print(sea.read()) #displays the entire content"
   ]
  },
  {
   "cell_type": "code",
   "execution_count": null,
   "metadata": {},
   "outputs": [],
   "source": [
    "sea.close()"
   ]
  },
  {
   "cell_type": "code",
   "execution_count": null,
   "metadata": {},
   "outputs": [],
   "source": [
    "sea = open(\"fishes.txt\", \"r\")"
   ]
  },
  {
   "cell_type": "code",
   "execution_count": null,
   "metadata": {},
   "outputs": [],
   "source": [
    "print(sea.read(33)) "
   ]
  },
  {
   "cell_type": "code",
   "execution_count": null,
   "metadata": {},
   "outputs": [],
   "source": [
    "sea.close()"
   ]
  },
  {
   "cell_type": "code",
   "execution_count": null,
   "metadata": {},
   "outputs": [],
   "source": [
    "sea = open(\"fishes.txt\", \"r\")"
   ]
  },
  {
   "cell_type": "code",
   "execution_count": null,
   "metadata": {},
   "outputs": [],
   "source": [
    "print(sea.read(33)) \n",
    "print(sea.read(25)) \n",
    "print(sea.read(3)) "
   ]
  },
  {
   "cell_type": "code",
   "execution_count": null,
   "metadata": {},
   "outputs": [],
   "source": [
    "sea.close()"
   ]
  },
  {
   "cell_type": "code",
   "execution_count": null,
   "metadata": {},
   "outputs": [],
   "source": [
    "sea = open(mode = \"r\", file = \"fishes.txt\") # positional arguments, r default tanımlı, silsen de aynı çıktı alınır."
   ]
  },
  {
   "cell_type": "code",
   "execution_count": null,
   "metadata": {},
   "outputs": [],
   "source": [
    "print(sea.read(33)) \n",
    "sea.seek(0)\n",
    "print(sea.read(25)) \n",
    "print(sea.read(4)) \n",
    "print(sea.tell())"
   ]
  },
  {
   "cell_type": "code",
   "execution_count": null,
   "metadata": {},
   "outputs": [],
   "source": [
    "sea.close()"
   ]
  },
  {
   "cell_type": "code",
   "execution_count": null,
   "metadata": {},
   "outputs": [],
   "source": [
    "rumi = open(\"rumi.txt\")"
   ]
  },
  {
   "cell_type": "code",
   "execution_count": null,
   "metadata": {},
   "outputs": [],
   "source": [
    "print(rumi.read())\n",
    "rumi.close()"
   ]
  },
  {
   "cell_type": "code",
   "execution_count": null,
   "metadata": {},
   "outputs": [],
   "source": [
    "rumi = open(\"rumi.txt\")"
   ]
  },
  {
   "cell_type": "code",
   "execution_count": null,
   "metadata": {},
   "outputs": [],
   "source": [
    "print(rumi.read(34))"
   ]
  },
  {
   "cell_type": "code",
   "execution_count": null,
   "metadata": {},
   "outputs": [],
   "source": [
    "rumi.close()"
   ]
  },
  {
   "cell_type": "code",
   "execution_count": null,
   "metadata": {},
   "outputs": [],
   "source": [
    "rumi = open(\"rumi.txt\")"
   ]
  },
  {
   "cell_type": "code",
   "execution_count": null,
   "metadata": {},
   "outputs": [],
   "source": [
    "print(rumi.read(35))\n",
    "rumi.close()"
   ]
  },
  {
   "cell_type": "code",
   "execution_count": null,
   "metadata": {},
   "outputs": [],
   "source": [
    "rumi = open(\"rumi.txt\")\n",
    "print(rumi.read(35))\n",
    "print(rumi.read(13))\n",
    "print(rumi.tell())\n",
    "rumi.seek(16)\n",
    "print(rumi.read(20))\n",
    "rumi.close()"
   ]
  },
  {
   "cell_type": "code",
   "execution_count": null,
   "metadata": {},
   "outputs": [],
   "source": [
    "sea = open(\"fishes.txt\")"
   ]
  },
  {
   "cell_type": "code",
   "execution_count": null,
   "metadata": {},
   "outputs": [],
   "source": [
    "print(sea.readline())\n",
    "print(sea.readline())"
   ]
  },
  {
   "cell_type": "code",
   "execution_count": null,
   "metadata": {},
   "outputs": [],
   "source": [
    "sea.close()"
   ]
  },
  {
   "cell_type": "code",
   "execution_count": null,
   "metadata": {},
   "outputs": [],
   "source": [
    "sea = open(\"fishes.txt\", \"r\")"
   ]
  },
  {
   "cell_type": "code",
   "execution_count": null,
   "metadata": {},
   "outputs": [],
   "source": [
    "print(sea.readline(13))\n",
    "print(sea.readline(13))\n",
    "print(sea.readline(13))\n",
    "print(sea.readline(13))\n",
    "sea.close()"
   ]
  },
  {
   "cell_type": "code",
   "execution_count": null,
   "metadata": {},
   "outputs": [],
   "source": [
    "rumi = open(\"rumi.txt\")"
   ]
  },
  {
   "cell_type": "code",
   "execution_count": null,
   "metadata": {},
   "outputs": [],
   "source": [
    "print(rumi.readline())\n",
    "print(rumi.readline())\n",
    "print(rumi.readline(19))\n",
    "rumi.close()"
   ]
  },
  {
   "cell_type": "code",
   "execution_count": null,
   "metadata": {},
   "outputs": [],
   "source": [
    "rumi = open(\"rumi.txt\")\n",
    "print(rumi.readline())\n",
    "print(rumi.readline())\n",
    "print(rumi.readline(19))\n",
    "rumi.close()"
   ]
  },
  {
   "cell_type": "code",
   "execution_count": null,
   "metadata": {},
   "outputs": [],
   "source": [
    "sea = open(\"fishes.txt\")"
   ]
  },
  {
   "cell_type": "code",
   "execution_count": null,
   "metadata": {},
   "outputs": [],
   "source": [
    "print(sea.readlines())"
   ]
  },
  {
   "cell_type": "code",
   "execution_count": null,
   "metadata": {},
   "outputs": [],
   "source": [
    "sea.close()"
   ]
  },
  {
   "cell_type": "code",
   "execution_count": null,
   "metadata": {},
   "outputs": [],
   "source": [
    "sea = open(\"fishes.txt\")\n",
    "print(sea.readline())\n",
    "print(sea.readlines())"
   ]
  },
  {
   "cell_type": "code",
   "execution_count": null,
   "metadata": {},
   "outputs": [],
   "source": [
    "sea.close()"
   ]
  },
  {
   "cell_type": "code",
   "execution_count": null,
   "metadata": {},
   "outputs": [],
   "source": [
    "r = open(\"rumi.txt\")"
   ]
  },
  {
   "cell_type": "code",
   "execution_count": null,
   "metadata": {},
   "outputs": [],
   "source": [
    "print(r.readlines())"
   ]
  },
  {
   "cell_type": "code",
   "execution_count": null,
   "metadata": {},
   "outputs": [],
   "source": [
    "r.close()"
   ]
  },
  {
   "cell_type": "code",
   "execution_count": null,
   "metadata": {},
   "outputs": [],
   "source": [
    "sea = open(\"fishes.txt\")\n",
    "for line in sea:\n",
    "    print(line)\n",
    "\n",
    "sea.close()"
   ]
  },
  {
   "cell_type": "code",
   "execution_count": null,
   "metadata": {},
   "outputs": [],
   "source": [
    "sea = open(\"fishes.txt\")\n",
    "for line in sea.readlines():\n",
    "    print(line)\n",
    "\n",
    "sea.close()"
   ]
  },
  {
   "cell_type": "code",
   "execution_count": null,
   "metadata": {},
   "outputs": [],
   "source": [
    "rumi = open(\"rumi.txt\")\n",
    "for i in rumi:\n",
    "    print(i)"
   ]
  },
  {
   "cell_type": "code",
   "execution_count": null,
   "metadata": {},
   "outputs": [],
   "source": [
    "rumi.close()"
   ]
  },
  {
   "cell_type": "code",
   "execution_count": null,
   "metadata": {},
   "outputs": [],
   "source": [
    "rumi = open(\"rumi.txt\")\n",
    "for i in rumi:\n",
    "    print(i[:-1])\n",
    "rumi.close()"
   ]
  },
  {
   "cell_type": "code",
   "execution_count": null,
   "metadata": {},
   "outputs": [],
   "source": [
    "rumi = open(\"rumi.txt\")\n",
    "for i in rumi.readlines():\n",
    "    print(i, end = \"\")\n",
    "rumi.close()"
   ]
  },
  {
   "cell_type": "code",
   "execution_count": null,
   "metadata": {},
   "outputs": [],
   "source": [
    "with open(\"fishes.txt\", \"r\") as sea:\n",
    "    print(sea.read())"
   ]
  },
  {
   "cell_type": "code",
   "execution_count": null,
   "metadata": {},
   "outputs": [],
   "source": [
    "f = open(\"C:/Users/Owner/Desktop/rumi.txt\")"
   ]
  },
  {
   "cell_type": "code",
   "execution_count": null,
   "metadata": {},
   "outputs": [],
   "source": [
    "print(f.read())"
   ]
  },
  {
   "cell_type": "code",
   "execution_count": null,
   "metadata": {},
   "outputs": [],
   "source": [
    "with open(\"C:/Users/Owner/Desktop/rumi.txt\", \"r\", encoding = \"utf-8\") as rumi:\n",
    "    print(rumi.read())"
   ]
  },
  {
   "cell_type": "code",
   "execution_count": null,
   "metadata": {},
   "outputs": [],
   "source": [
    "my_file = open(\"fishes.txt\") \n",
    "\n",
    "print(type(my_file))"
   ]
  },
  {
   "cell_type": "code",
   "execution_count": null,
   "metadata": {},
   "outputs": [],
   "source": [
    "my_file = open(\"fishes.txt\", 'r')   \n",
    "\n",
    "print(my_file.readline()) \n",
    "print(my_file.readline()) \n",
    "print(my_file.readline()) \n",
    "print(my_file.readline()) \n",
    "print(my_file.readline()) \n",
    "\n",
    "my_file.close()"
   ]
  },
  {
   "cell_type": "code",
   "execution_count": null,
   "metadata": {},
   "outputs": [],
   "source": [
    "with open(\"dummy_file.txt\", \"w\", encoding = \"utf-8\") as file: #create and open file\n",
    "    file.write(\"This is the first line of my text file\")"
   ]
  },
  {
   "cell_type": "code",
   "execution_count": null,
   "metadata": {},
   "outputs": [],
   "source": [
    "with open(\"dummy_file.txt\", \"r\", encoding = \"utf-8\") as file:\n",
    "    print(file.read())"
   ]
  },
  {
   "cell_type": "code",
   "execution_count": null,
   "metadata": {},
   "outputs": [],
   "source": [
    "with open(\"dummy_file.txt\", \"w\", encoding = \"utf-8\") as file:\n",
    "    file.write(\"This is the new line for my dummy_file\")"
   ]
  },
  {
   "cell_type": "code",
   "execution_count": null,
   "metadata": {},
   "outputs": [],
   "source": [
    "with open(\"dummy_file.txt\", \"r\", encoding = \"utf-8\") as file:\n",
    "    print(file.read())\n",
    "    "
   ]
  },
  {
   "cell_type": "code",
   "execution_count": null,
   "metadata": {},
   "outputs": [],
   "source": [
    "with open(\"dummy_file.txt\", \"w\", encoding = \"utf-8\") as file:\n",
    "    file.write(\"My first sentence \")\n",
    "    file.write(\"My second sentence \")\n",
    "    file.write(\"My third sentence\\n\")\n",
    "    file.write(\"My fourth sentence \")\n",
    "    file.write(\"My last sentence\")\n",
    "with open (\"dummy_file.txt\", \"r\", encoding = \"utf-8\") as file:\n",
    "    print(file.read())\n",
    "    "
   ]
  },
  {
   "cell_type": "code",
   "execution_count": null,
   "metadata": {},
   "outputs": [],
   "source": [
    "fruits = [\"Banana\", \"Orange\", \"Apple\", \"Strawberry\", \"Cherry\"]\n",
    "with open(\"fruits.txt\", \"w\", encoding = \"utf-8\") as file:\n",
    "    for i in fruits:\n",
    "        file.write(i+\"\\n\")\n",
    "        "
   ]
  },
  {
   "cell_type": "code",
   "execution_count": null,
   "metadata": {},
   "outputs": [],
   "source": [
    "with open(\"fruits.txt\", \"r\", encoding = \"utf-8\") as file:\n",
    "    print(file.read())"
   ]
  },
  {
   "cell_type": "code",
   "execution_count": null,
   "metadata": {},
   "outputs": [],
   "source": [
    "with open(\"fruits.txt\", \"r\", encoding = \"utf-8\") as file:\n",
    "    print(file.readlines())"
   ]
  },
  {
   "cell_type": "code",
   "execution_count": null,
   "metadata": {},
   "outputs": [],
   "source": [
    "with open(\"dummy_file.txt\", \"w\", encoding = \"utf-8\") as file:\n",
    "    file.write(\"Bu benim ikinci\\nüçüncü satırım\")"
   ]
  },
  {
   "cell_type": "code",
   "execution_count": null,
   "metadata": {},
   "outputs": [],
   "source": [
    "with open(\"dummy_file.txt\", \"r\", encoding = \"utf-8\") as file:\n",
    "    print(file.read())"
   ]
  },
  {
   "cell_type": "code",
   "execution_count": null,
   "metadata": {},
   "outputs": [],
   "source": [
    "flowers = [\"Jasmine\", \"Rose\", \"Lily\", \"Daisy\", \"Tulip\"]\n",
    "with open(\"flowers.txt\", \"w\", encoding = \"utf-8\") as file:\n",
    "    for i in flowers:\n",
    "        print(i+\"\\n\")"
   ]
  },
  {
   "cell_type": "code",
   "execution_count": null,
   "metadata": {},
   "outputs": [],
   "source": [
    "flowers = [\"Jasmine\", \"Rose\", \"Lily\", \"Daisy\", \"Tulip\"]\n",
    "with open(\"flowers.txt\", \"w\", encoding = \"utf-8\") as file:\n",
    "    for i in flowers:\n",
    "        file.write(i+\"\\n\\n\")"
   ]
  },
  {
   "cell_type": "code",
   "execution_count": null,
   "metadata": {},
   "outputs": [],
   "source": [
    "with open(\"flowers.txt\", \"r\", encoding = \"utf-8\") as file:\n",
    "    print(file.read())"
   ]
  },
  {
   "cell_type": "code",
   "execution_count": null,
   "metadata": {},
   "outputs": [],
   "source": []
  },
  {
   "cell_type": "code",
   "execution_count": null,
   "metadata": {},
   "outputs": [],
   "source": [
    "fruits"
   ]
  },
  {
   "cell_type": "code",
   "execution_count": null,
   "metadata": {},
   "outputs": [],
   "source": [
    "fruits = [\"Banana\\n\", \"Orange\\n\", \"Apple\\n\", \"Strawberry\\n\", \"Cherry\\n\" ]\n",
    "with open(\"fruits.txt\", \"w\", encoding = \"utf-8\") as file:\n",
    "    file.writelines(fruits)"
   ]
  },
  {
   "cell_type": "code",
   "execution_count": null,
   "metadata": {},
   "outputs": [],
   "source": [
    "with open(\"fruits.txt\", \"r\", encoding = \"utf-8\") as file:\n",
    "    print(file.read())\n",
    "with open(\"fruits.txt\", \"r\", encoding = \"utf-8\") as file:\n",
    "    print(file.readlines())"
   ]
  },
  {
   "cell_type": "code",
   "execution_count": null,
   "metadata": {},
   "outputs": [],
   "source": [
    "fruits = [\"Banana\", \"Orange\", \"Apple\", \"Strawberry\", \"Cherry\" ]"
   ]
  },
  {
   "cell_type": "code",
   "execution_count": null,
   "metadata": {},
   "outputs": [],
   "source": [
    "with open(\"fruits.txt\", \"w\", encoding = \"utf-8\") as file:\n",
    "    file.writelines(fruits)"
   ]
  },
  {
   "cell_type": "code",
   "execution_count": null,
   "metadata": {},
   "outputs": [],
   "source": [
    "with open(\"fruits.txt\", \"r\", encoding = \"utf-8\") as file:\n",
    "    print(file.read())"
   ]
  },
  {
   "cell_type": "code",
   "execution_count": null,
   "metadata": {},
   "outputs": [],
   "source": [
    "flowers = [\"Jasmine\\n\", \"Rose\\n\", \"Lily\\n\", \"Daisy\\n\", \"Tulip\\n\"]\n",
    "with open(\"flowers.txt\", \"w\", encoding = \"utf-8\") as file:\n",
    "    file.writelines(flowers)"
   ]
  },
  {
   "cell_type": "code",
   "execution_count": null,
   "metadata": {},
   "outputs": [],
   "source": [
    "with open(\"flowers.txt\", \"r\", encoding = \"utf-8\") as file:\n",
    "    print(file.read())"
   ]
  },
  {
   "cell_type": "code",
   "execution_count": null,
   "metadata": {},
   "outputs": [],
   "source": [
    "flowers = [\"Jasmine\\n\", \"Rose\\n\", \"Lily\\n\", \"Daisy\\n\", \"Tulip\\n\", \"\"]\n",
    "with open(\"flowers.txt\", \"a\", encoding = \"utf-8\") as file:\n",
    "    file.write(\"orchid\")"
   ]
  },
  {
   "cell_type": "code",
   "execution_count": null,
   "metadata": {},
   "outputs": [],
   "source": [
    "with open(\"flowers.txt\", \"r\", encoding = \"utf-8\") as file:\n",
    "    print(file.read())"
   ]
  },
  {
   "cell_type": "code",
   "execution_count": null,
   "metadata": {},
   "outputs": [],
   "source": [
    "with open(\"istiklal.txt\", \"r\", encoding = \"utf-8\") as file:\n",
    "    print(file.read())"
   ]
  },
  {
   "cell_type": "code",
   "execution_count": null,
   "metadata": {},
   "outputs": [],
   "source": [
    "with open(\"istiklal.txt\", \"r\", encoding = \"utf-8\") as file:\n",
    "    ist = file.readlines()"
   ]
  },
  {
   "cell_type": "code",
   "execution_count": null,
   "metadata": {},
   "outputs": [],
   "source": [
    "counter = 0\n",
    "\n",
    "with open(\"istiklal.txt\", \"w\", encoding = \"utf-8\") as file:\n",
    "    for i in ist:\n",
    "        counter +=1\n",
    "        if counter %4 ==0:\n",
    "            file.write(i+\"\\n\")\n",
    "        else: file.write(i)"
   ]
  },
  {
   "cell_type": "code",
   "execution_count": null,
   "metadata": {},
   "outputs": [],
   "source": [
    "with open(\"istiklal.txt\", \"r\", encoding = \"utf-8\") as file:\n",
    "    print(file.read())"
   ]
  },
  {
   "cell_type": "code",
   "execution_count": null,
   "metadata": {},
   "outputs": [],
   "source": [
    "with open(\"istiklal.txt\", \"r\", encoding = \"utf-8\") as f:\n",
    "    istikk = f.readlines()"
   ]
  },
  {
   "cell_type": "code",
   "execution_count": null,
   "metadata": {},
   "outputs": [],
   "source": [
    "istikk"
   ]
  },
  {
   "cell_type": "code",
   "execution_count": null,
   "metadata": {},
   "outputs": [],
   "source": [
    "with open(\"istiklal.txt\", \"a\", encoding = \"utf-8\") as f:\n",
    "    f.write(\"\\n\")\n",
    "    for i in istikk:\n",
    "        if i == \"\\n\":\n",
    "            i.replace(\"\\n\", \"\")\n",
    "        else: \n",
    "            f.write(i)"
   ]
  },
  {
   "cell_type": "code",
   "execution_count": null,
   "metadata": {},
   "outputs": [],
   "source": [
    "with open(\"istiklal.txt\", \"r\", encoding = \"utf-8\") as f:\n",
    "    print(f.read())"
   ]
  },
  {
   "cell_type": "code",
   "execution_count": null,
   "metadata": {},
   "outputs": [],
   "source": [
    "with open(\"new_file.txt\", \"w\") as file:  \n",
    "    file.write('Live to help others live.')  "
   ]
  },
  {
   "cell_type": "code",
   "execution_count": null,
   "metadata": {},
   "outputs": [],
   "source": [
    "with open(\"new_file.txt\", \"r\") as file:  \n",
    "    print(file.read())  "
   ]
  },
  {
   "cell_type": "code",
   "execution_count": null,
   "metadata": {},
   "outputs": [],
   "source": [
    "colors = ['red', 'green', 'yellow', 'white', 'black']\n",
    "with open(\"colors.txt\", \"w\", encoding=\"utf-8\") as file:\n",
    "    for i in colors:\n",
    "        file.write(i+\"\\n\")"
   ]
  },
  {
   "cell_type": "code",
   "execution_count": null,
   "metadata": {},
   "outputs": [],
   "source": [
    "with open(\"colors.txt\", \"r\", encoding=\"utf-8\") as file:\n",
    "    print(file.read())"
   ]
  },
  {
   "cell_type": "code",
   "execution_count": null,
   "metadata": {},
   "outputs": [],
   "source": [
    "with open(\"colors.txt\", \"a\", encoding=\"utf-8\") as file:\n",
    "    file.write(\"purple\")"
   ]
  },
  {
   "cell_type": "code",
   "execution_count": null,
   "metadata": {},
   "outputs": [],
   "source": [
    "with open(\"colors.txt\", \"r\", encoding=\"utf-8\") as file:\n",
    "    print(file.read())"
   ]
  },
  {
   "cell_type": "code",
   "execution_count": null,
   "metadata": {},
   "outputs": [],
   "source": [
    "colors = [\"red\", \"green\", \"yellow\", \"white\", \"black\"]"
   ]
  },
  {
   "cell_type": "code",
   "execution_count": null,
   "metadata": {},
   "outputs": [],
   "source": [
    "with open(\"colors.txt\", \"w\", encoding = \"utf-8\") as file:\n",
    "    file.writelines(colors)"
   ]
  },
  {
   "cell_type": "code",
   "execution_count": null,
   "metadata": {},
   "outputs": [],
   "source": [
    "with open(\"colors.txt\", \"r\", encoding = \"utf-8\") as file:\n",
    "    print(file.read())"
   ]
  },
  {
   "cell_type": "code",
   "execution_count": null,
   "metadata": {},
   "outputs": [],
   "source": [
    "fruits = [\"Banana\", \"Orange\", \"Apple\", \"Strawberry\", \"Cherry\" ]"
   ]
  },
  {
   "cell_type": "code",
   "execution_count": null,
   "metadata": {},
   "outputs": [],
   "source": [
    "with open(\"fruits.txt\", \"w\", encoding = \"utf-8\") as file:\n",
    "    for i in fruits:\n",
    "        file.write(i+\"\\n\")"
   ]
  },
  {
   "cell_type": "code",
   "execution_count": null,
   "metadata": {},
   "outputs": [],
   "source": [
    "with open(\"fruits.txt\", \"r\", encoding = \"utf-8\") as file:\n",
    "    print(file.read())"
   ]
  },
  {
   "cell_type": "code",
   "execution_count": null,
   "metadata": {},
   "outputs": [],
   "source": [
    "from datetime import date"
   ]
  },
  {
   "cell_type": "code",
   "execution_count": null,
   "metadata": {},
   "outputs": [],
   "source": [
    "#içinde bulnduğumuz yıl:2020\n",
    "#içinde bulnduğumuz ay:8\n",
    "#içinde bulnduğumuz gün:21"
   ]
  },
  {
   "cell_type": "code",
   "execution_count": null,
   "metadata": {},
   "outputs": [],
   "source": [
    "date.today()"
   ]
  },
  {
   "cell_type": "code",
   "execution_count": null,
   "metadata": {},
   "outputs": [],
   "source": [
    "t = date.today()"
   ]
  },
  {
   "cell_type": "code",
   "execution_count": null,
   "metadata": {},
   "outputs": [],
   "source": [
    "t."
   ]
  },
  {
   "cell_type": "code",
   "execution_count": null,
   "metadata": {},
   "outputs": [],
   "source": [
    "print(\"içinde bulnduğumuz yıl: \", t.year)\n",
    "print(\"içinde bulnduğumuz ay: \", t.month)\n",
    "print(\"içinde bulnduğumuz gün: \", t.day)\n"
   ]
  },
  {
   "cell_type": "code",
   "execution_count": null,
   "metadata": {},
   "outputs": [],
   "source": [
    "benim = [1,2,3,4,5] #list comprehension, yani kısaltma\n",
    "\n",
    "[i for i in benim]"
   ]
  },
  {
   "cell_type": "code",
   "execution_count": null,
   "metadata": {},
   "outputs": [],
   "source": [
    "boş = []\n",
    "for i in benim:\n",
    "    boş.append(i)"
   ]
  },
  {
   "cell_type": "code",
   "execution_count": null,
   "metadata": {},
   "outputs": [],
   "source": [
    "boş"
   ]
  },
  {
   "cell_type": "code",
   "execution_count": null,
   "metadata": {},
   "outputs": [],
   "source": [
    "benim = [1,2,3,4,5]\n",
    "\n",
    "[str(i) for i in benim]"
   ]
  },
  {
   "cell_type": "code",
   "execution_count": null,
   "metadata": {},
   "outputs": [],
   "source": [
    "dict = {i: i*i for i in range(6)}#dict comprehension"
   ]
  },
  {
   "cell_type": "code",
   "execution_count": null,
   "metadata": {},
   "outputs": [],
   "source": [
    "dict"
   ]
  },
  {
   "cell_type": "code",
   "execution_count": null,
   "metadata": {},
   "outputs": [],
   "source": [
    "{\"0'ın karesi\" : 0, \n",
    "\"1'in karesi\": 1,\n",
    "\"2'nin karesi\":4\n",
    "\n",
    "\n",
    "}"
   ]
  },
  {
   "cell_type": "code",
   "execution_count": null,
   "metadata": {},
   "outputs": [],
   "source": [
    "{str(i) + \"in karesi\": i*i for i in range(8)}"
   ]
  },
  {
   "cell_type": "code",
   "execution_count": null,
   "metadata": {},
   "outputs": [],
   "source": [
    "#{keys: values for değişken in iterable}"
   ]
  },
  {
   "cell_type": "code",
   "execution_count": null,
   "metadata": {},
   "outputs": [],
   "source": [
    "senin = [1,2,3,4,5]"
   ]
  },
  {
   "cell_type": "code",
   "execution_count": null,
   "metadata": {},
   "outputs": [],
   "source": [
    "[i for i in senin]"
   ]
  },
  {
   "cell_type": "code",
   "execution_count": null,
   "metadata": {},
   "outputs": [],
   "source": [
    "[[i] for i in senin]"
   ]
  },
  {
   "cell_type": "code",
   "execution_count": null,
   "metadata": {},
   "outputs": [],
   "source": [
    "L = [\"right 20\", \"right 30\", \"left 50\", \"up 10\", \"down 20\"]"
   ]
  },
  {
   "cell_type": "code",
   "execution_count": null,
   "metadata": {},
   "outputs": [],
   "source": [
    "x = y = 0\n",
    "\n",
    "for i in range(len(L)):\n",
    "    if L[i].startswith(\"r\"): x = x+int(L[i].split()[1])\n",
    "    elif L[i].startswith(\"l\"): x = x-int(L[i].split()[1])\n",
    "    elif L[i].startswith(\"u\"): y = y+int(L[i].split()[1])\n",
    "    elif L[i].startswith(\"d\"): y = y-int(L[i].split()[1])\n",
    "\n",
    "[x,y]"
   ]
  },
  {
   "cell_type": "code",
   "execution_count": null,
   "metadata": {},
   "outputs": [],
   "source": [
    "\"right 20\".split()"
   ]
  },
  {
   "cell_type": "code",
   "execution_count": null,
   "metadata": {},
   "outputs": [],
   "source": [
    "\"right 20\".split()[1]"
   ]
  },
  {
   "cell_type": "code",
   "execution_count": null,
   "metadata": {},
   "outputs": [],
   "source": [
    "int(L[i].split()[1])"
   ]
  },
  {
   "cell_type": "code",
   "execution_count": null,
   "metadata": {},
   "outputs": [],
   "source": [
    "\"right 20\".startswith(\"r\")"
   ]
  },
  {
   "cell_type": "code",
   "execution_count": null,
   "metadata": {},
   "outputs": [],
   "source": [
    "with open(\"fruits.csv\", \"r\", encoding = \"utf-8\") as file:\n",
    "    print(file.read())"
   ]
  },
  {
   "cell_type": "code",
   "execution_count": null,
   "metadata": {},
   "outputs": [],
   "source": [
    "with open(\"family.csv\", \"r\", encoding = \"utf-8\") as file:\n",
    "    print(file.read())"
   ]
  },
  {
   "cell_type": "code",
   "execution_count": null,
   "metadata": {},
   "outputs": [],
   "source": [
    "import csv"
   ]
  },
  {
   "cell_type": "code",
   "execution_count": null,
   "metadata": {},
   "outputs": [],
   "source": [
    "with open(\"fruits.csv\", \"r\", newline = \"\", encoding = \"utf-8\") as file:\n",
    "    csv_rows = csv.reader(file) #reader() function takes each row lines into a list. csv modülünün reader methodu ile iterabl hale getirdik\n",
    "    for row in csv_rows:\n",
    "        print(row)"
   ]
  },
  {
   "cell_type": "code",
   "execution_count": null,
   "metadata": {},
   "outputs": [],
   "source": [
    "with open(\"fruits.csv\", \"r\", newline = \"\", encoding = \"utf-8\") as file:\n",
    "    csv_rows = csv.reader(file, delimiter = \",\") \n",
    "    for row in csv_rows:\n",
    "        print(row)"
   ]
  },
  {
   "cell_type": "code",
   "execution_count": null,
   "metadata": {},
   "outputs": [],
   "source": [
    "with open(\"family.csv\", \"r\", newline = \"\", encoding = \"utf-8\") as file:\n",
    "    csv_rows = csv.reader(file, delimiter = \"-\")\n",
    "    for row in csv_rows:\n",
    "        print(row)"
   ]
  },
  {
   "cell_type": "code",
   "execution_count": null,
   "metadata": {},
   "outputs": [],
   "source": [
    "print(\"abc\\rher\\nghi\\rkese\\ncc\\rselam\")"
   ]
  },
  {
   "cell_type": "code",
   "execution_count": null,
   "metadata": {},
   "outputs": [],
   "source": [
    "with open(\"family.csv\", \"r\", newline = \"\", encoding = \"utf-8\") as file:\n",
    "    csv_rows = csv.reader(file, delimiter = \"-\")\n",
    "\n",
    "    print(list(csv_rows)[1:4])\n",
    "        "
   ]
  },
  {
   "cell_type": "code",
   "execution_count": null,
   "metadata": {},
   "outputs": [],
   "source": [
    "import pandas"
   ]
  },
  {
   "cell_type": "code",
   "execution_count": null,
   "metadata": {},
   "outputs": [],
   "source": [
    "pip install pandas"
   ]
  },
  {
   "cell_type": "code",
   "execution_count": null,
   "metadata": {},
   "outputs": [],
   "source": [
    "import pandas as pd"
   ]
  },
  {
   "cell_type": "code",
   "execution_count": null,
   "metadata": {},
   "outputs": [],
   "source": [
    "df = pd.read_csv(\"fruits.csv\")"
   ]
  },
  {
   "cell_type": "code",
   "execution_count": null,
   "metadata": {},
   "outputs": [],
   "source": [
    "df"
   ]
  },
  {
   "cell_type": "code",
   "execution_count": null,
   "metadata": {},
   "outputs": [],
   "source": [
    "df = pd.read_csv(\"fruits.csv\", index_col = 0)"
   ]
  },
  {
   "cell_type": "code",
   "execution_count": null,
   "metadata": {},
   "outputs": [],
   "source": [
    "df"
   ]
  },
  {
   "cell_type": "code",
   "execution_count": null,
   "metadata": {},
   "outputs": [],
   "source": []
  },
  {
   "cell_type": "code",
   "execution_count": null,
   "metadata": {},
   "outputs": [],
   "source": [
    "while True:\n",
    "    no_one = int(input(\"The first number is: \"))\n",
    "    no_two = int(input(\"The second number is: \"))\n",
    "    print(no_one/no_two)\n",
    "    break"
   ]
  },
  {
   "cell_type": "code",
   "execution_count": null,
   "metadata": {},
   "outputs": [],
   "source": [
    "while True:\n",
    "    no_one = int(input(\"The first number is: \"))\n",
    "    no_two = int(input(\"The second number is: \"))\n",
    "    try:\n",
    "        division = no_one/no_two\n",
    "        print(\"result of the division is: \", division)\n",
    "        break\n",
    "    except: \n",
    "        print(\"something went wrong\")"
   ]
  },
  {
   "cell_type": "code",
   "execution_count": null,
   "metadata": {},
   "outputs": [],
   "source": [
    "try:#sıkıntılı olduğunu düşündüğümüz kodları bunla deneriz. exception yükselise o işler. kodun topu hatal vermez. \n",
    "    print(4+\"4\")\n",
    "except:\n",
    "    print(\"bişeyler ters gitti baba\")"
   ]
  },
  {
   "cell_type": "code",
   "execution_count": null,
   "metadata": {},
   "outputs": [],
   "source": [
    "try:\n",
    "    with open(\"my_filemm.txt\", \"r\", encoding =\"utf-8\") as file:\n",
    "        print(file.read())\n",
    "except FileNotFoundError: #bu hatanın olabileceğini tahmin ettik. sitede var bu hatalar\n",
    "    print(\"no such file exists\")"
   ]
  },
  {
   "cell_type": "code",
   "execution_count": null,
   "metadata": {},
   "outputs": [],
   "source": [
    "counter = 0"
   ]
  },
  {
   "cell_type": "code",
   "execution_count": null,
   "metadata": {},
   "outputs": [],
   "source": [
    "try:\n",
    "    with open(\"myy_filmvm.txt\", \"r\", encoding =\"utf-8\") as file:\n",
    "        print(file.read())\n",
    "except FileNotFoundError: #bu hatanın olabileceğini tahmin ettik. sitede var bu hatalar\n",
    "    counter +=1\n",
    "    with open(\"error.txt\", \"a\", encoding =\"utf-8\") as f:\n",
    "        f.write(\"number of wrong entry: \" + str(counter) + \"\\n\")\n",
    "    print(\"no such file exists, wrong entry detected\")"
   ]
  },
  {
   "cell_type": "code",
   "execution_count": null,
   "metadata": {},
   "outputs": [],
   "source": [
    "with open(\"error.txt\", \"r\", encoding =\"utf-8\") as f:\n",
    "    print(f.read())"
   ]
  },
  {
   "cell_type": "code",
   "execution_count": null,
   "metadata": {},
   "outputs": [],
   "source": [
    "try:\n",
    "    print(\"x\" + \"4\")\n",
    "except TypeError: #exception yükselmezse else çalışır. yükselirse finally çalışır\n",
    "    print(\"value is wrong\")\n",
    "else:\n",
    "    print(\"so there is no exception\")\n",
    "finally: #finally her halükarda çalışır\n",
    "    print(\"finally it worked\")"
   ]
  },
  {
   "cell_type": "code",
   "execution_count": null,
   "metadata": {},
   "outputs": [],
   "source": [
    "while True:\n",
    "    no_one = int(input(\"The first number please : \"))\n",
    "    no_two = int(input(\"The second number please : \"))\n",
    "    try:\n",
    "        division = no_one / no_two  # normal part of the program\n",
    "    except ZeroDivisionError:\n",
    "        print(\"You can't divide by zero! Try again.\")  # executes when division by zero\n",
    "    else:\n",
    "        print(\"The result of the division is : \", division)  # executes if there is no exception\n",
    "    finally:\n",
    "        print(\"Thanks for using our mini divison calculator! Come again!\")\n",
    "        break  # exits the while loop"
   ]
  },
  {
   "cell_type": "code",
   "execution_count": null,
   "metadata": {},
   "outputs": [],
   "source": [
    "while True:\n",
    "    try:\n",
    "        no_one = int(input(\"The first number please : \"))\n",
    "        no_two = int(input(\"The second number please : \"))\n",
    "        division = no_one / no_two  # normal part of the program\n",
    "    except ZeroDivisionError:\n",
    "        print(\"You can't divide by zero! Try again.\")  # executes when division by zero\n",
    "    except ValueError:\n",
    "        print(\"you cannot enter other than number. try again\")\n",
    "    else:\n",
    "        print(\"The result of the division is : \", division)  # executes if there is no exception\n",
    "    finally:\n",
    "        print(\"Thanks for using our mini divison calculator! Come again!\")\n",
    "        break  # exits the while loop"
   ]
  },
  {
   "cell_type": "code",
   "execution_count": null,
   "metadata": {},
   "outputs": [],
   "source": [
    "while True:\n",
    "    no_one = int(input(\"The first number please : \"))\n",
    "    no_two = int(input(\"The second number please : \"))\n",
    "    try:\n",
    "        division = no_one / no_two\n",
    "        print(\"The result of the division is : \", division)\n",
    "        break\n",
    "    except Exception as e:\n",
    "        print(\"Something went wrong...Try again.\")\n",
    "        print(\"Probably it is because of '{}' error\".format(e))\n",
    "        break"
   ]
  },
  {
   "cell_type": "code",
   "execution_count": null,
   "metadata": {},
   "outputs": [],
   "source": [
    "try :\n",
    "    a = 10\n",
    "    b = 2\n",
    "    print(\"The result of division is :\", c)\n",
    "except Exception as e: # e associated value\n",
    "    print(\"The error message is : \", e)\n"
   ]
  },
  {
   "cell_type": "code",
   "execution_count": null,
   "metadata": {},
   "outputs": [],
   "source": [
    "isim = input(\"your name : \")\n",
    "try: \n",
    "    a\n",
    "except Exception as e: \n",
    "    with open(\"hata1.txt\", \"a\", encoding = \"utf-8\") as file:\n",
    "        file.write()"
   ]
  },
  {
   "cell_type": "code",
   "execution_count": null,
   "metadata": {},
   "outputs": [],
   "source": [
    "with open(\"hata1.txt\", \"a\", encoding = \"utf-8\") as file:\n",
    "    print(file.read())"
   ]
  },
  {
   "cell_type": "code",
   "execution_count": null,
   "metadata": {},
   "outputs": [],
   "source": [
    "try:\n",
    "    isim = input(\"your name : \")\n",
    "    a\n",
    "except Exception as e: \n",
    "    with open(\"hata1.txt\", \"a\", encoding = \"utf-8\") as file:\n",
    "        file.write(isim + \", {}\".format(e)+\"\\n\")"
   ]
  },
  {
   "cell_type": "code",
   "execution_count": null,
   "metadata": {},
   "outputs": [],
   "source": [
    "try:\n",
    "    isim = input(\"your name : \")\n",
    "    4/0\n",
    "except Exception as e: \n",
    "    with open(\"hata1.txt\", \"a\", encoding = \"utf-8\") as file:\n",
    "        file.write(isim + \", {}\".format(e)+\"\\n\")"
   ]
  },
  {
   "cell_type": "code",
   "execution_count": null,
   "metadata": {},
   "outputs": [],
   "source": [
    "try:\n",
    "    isim = input(\"your name : \")\n",
    "    4 + \"\"\n",
    "except Exception as e: \n",
    "    with open(\"hata1.txt\", \"a\", encoding = \"utf-8\") as file:\n",
    "        file.write(isim + \", {}\".format(e)+\"\\n\")"
   ]
  },
  {
   "cell_type": "code",
   "execution_count": null,
   "metadata": {},
   "outputs": [],
   "source": [
    "pip install pandas"
   ]
  },
  {
   "cell_type": "code",
   "execution_count": null,
   "metadata": {},
   "outputs": [],
   "source": [
    "import pandas as pd"
   ]
  },
  {
   "cell_type": "code",
   "execution_count": null,
   "metadata": {},
   "outputs": [],
   "source": [
    "df = pd.read_cvs(\"hata1.txt\")"
   ]
  },
  {
   "cell_type": "code",
   "execution_count": null,
   "metadata": {},
   "outputs": [],
   "source": [
    "df"
   ]
  },
  {
   "cell_type": "code",
   "execution_count": null,
   "metadata": {},
   "outputs": [],
   "source": [
    "df[df[\"hata\"]==\"name\" 'a' is not defined\"]"
   ]
  },
  {
   "cell_type": "code",
   "execution_count": null,
   "metadata": {},
   "outputs": [],
   "source": [
    "df.isim"
   ]
  },
  {
   "cell_type": "code",
   "execution_count": null,
   "metadata": {},
   "outputs": [],
   "source": [
    "try:\n",
    "    x = 4/1\n",
    "except:\n",
    "    print(\"something went wrong\")\n",
    "else:\n",
    "    print(\"Nothing went wrong\")"
   ]
  },
  {
   "cell_type": "code",
   "execution_count": null,
   "metadata": {},
   "outputs": [],
   "source": [
    "with open(\"my_file.txt\", \"a\", encoding = \"utf-8\") as f:\n",
    "    f.write(\"bu benim test mesajım\")"
   ]
  },
  {
   "cell_type": "code",
   "execution_count": null,
   "metadata": {},
   "outputs": [],
   "source": [
    "try:\n",
    "    f = open(\"my_file.txt\", \"r\", encoding = \"utf-8\")\n",
    "    print(f.read())\n",
    "except:\n",
    "    print(\"something went wrong\")\n",
    "finally:\n",
    "    f.close()"
   ]
  },
  {
   "cell_type": "code",
   "execution_count": null,
   "metadata": {},
   "outputs": [],
   "source": [
    "try:\n",
    "    2/0\n",
    "except ZeroDivisionError:#istisnai hataları yakalamak için birden fazla exception belirlenebilir. \n",
    "    print(\"Attempt to divide by zero\")\n",
    "except:\n",
    "    print(\"something else went wrong\")\n"
   ]
  },
  {
   "cell_type": "code",
   "execution_count": null,
   "metadata": {},
   "outputs": [],
   "source": [
    "try:\n",
    "    print(4+4)\n",
    "except: \n",
    "    print(\"unknown exception error occurred. Try again please\")"
   ]
  },
  {
   "cell_type": "code",
   "execution_count": null,
   "metadata": {},
   "outputs": [],
   "source": [
    "try:\n",
    "    4/0\n",
    "#except ZeroDivisionError:\n",
    "    print(\"you cannot divide by zero!\")\n",
    "except (ValueError, TypeError):\n",
    "    print(\"You can only enter numbers consisting of digits, not text\")\n",
    "#except TypeError:\n",
    "    #print(\"Please enter only numeric values\")\n",
    "except ArithmeticError:\n",
    "    print(\"I will also catch OverFlowError, FloatingPointError and ZeroDivisionError\")\n",
    "    \n",
    "    \n",
    "    "
   ]
  },
  {
   "cell_type": "code",
   "execution_count": null,
   "metadata": {},
   "outputs": [],
   "source": [
    "favorite_fruit = input(\"please enter an index number to specify your favorite fruit\")\n",
    "fruits = [\"banana\", \"mango\", \"pear\", \"apple\", \"kiwi\", \"grape\"]\n",
    "while i in fruits[i]:\n",
    "    try:\n",
    "        print(fruits[i])\n",
    "        break\n",
    "    except NameError:\n",
    "        print(\"bla bla\")"
   ]
  },
  {
   "cell_type": "code",
   "execution_count": 2,
   "metadata": {},
   "outputs": [
    {
     "name": "stdout",
     "output_type": "stream",
     "text": [
      "Pick an index number to choose your favorite fruit0\n",
      "My favorite fruit is banana\n"
     ]
    }
   ],
   "source": [
    "fruits = [\"banana\", \"mango\", \"pear\", \"apple\", \"kiwi\", \"grape\"]\n",
    "while True:\n",
    "    try: \n",
    "        index = int(input(\"Pick an index number to choose your favorite fruit\"))\n",
    "        print(\"My favorite fruit is\", fruits[index])\n",
    "        break\n",
    "    except IndexError:\n",
    "        print(\"There is no such an index\")\n",
    "    except ValueError:\n",
    "        print(\"You should enter integer. Try again\")"
   ]
  },
  {
   "cell_type": "code",
   "execution_count": 4,
   "metadata": {},
   "outputs": [
    {
     "ename": "SyntaxError",
     "evalue": "invalid syntax (<ipython-input-4-ce4f073ede06>, line 5)",
     "output_type": "error",
     "traceback": [
      "\u001b[1;36m  File \u001b[1;32m\"<ipython-input-4-ce4f073ede06>\"\u001b[1;36m, line \u001b[1;32m5\u001b[0m\n\u001b[1;33m    except:\u001b[0m\n\u001b[1;37m         ^\u001b[0m\n\u001b[1;31mSyntaxError\u001b[0m\u001b[1;31m:\u001b[0m invalid syntax\n"
     ]
    }
   ],
   "source": [
    "while True:\n",
    "    counter = 3\n",
    "    try:\n",
    "        password = int(input(\"please enter your password\")\n",
    "    except:\n",
    "        print(\"warning message, you have\", n, \"right left. Try again.\")\n",
    "        counter -=1\n",
    "        n +=1\n",
    "    else:\n",
    "        print(\"Congrats! You've entered a valid input\")\n",
    "    finally:\n",
    "        print(\"Our fruits are always fresh!\")"
   ]
  },
  {
   "cell_type": "code",
   "execution_count": 13,
   "metadata": {},
   "outputs": [
    {
     "ename": "SyntaxError",
     "evalue": "invalid syntax (<ipython-input-13-7ae4554dc286>, line 9)",
     "output_type": "error",
     "traceback": [
      "\u001b[1;36m  File \u001b[1;32m\"<ipython-input-13-7ae4554dc286>\"\u001b[1;36m, line \u001b[1;32m9\u001b[0m\n\u001b[1;33m    print(f \"There is no such an index. You have {count} right left. Try again!\")\u001b[0m\n\u001b[1;37m                                                                               ^\u001b[0m\n\u001b[1;31mSyntaxError\u001b[0m\u001b[1;31m:\u001b[0m invalid syntax\n"
     ]
    }
   ],
   "source": [
    "fruits = [\"banana\", \"mango\", \"pear\", \"apple\", \"kiwi\", \"grape\"]\n",
    "count = 3\n",
    "while count >0:    \n",
    "    try: \n",
    "        index = int(input(\"Pick an index number to choose your favorite fruit\"))\n",
    "        print(\"My favorite fruit is\", fruits[index])\n",
    "    except IndexError:\n",
    "        count -=1\n",
    "        print(f \"There is no such an index. You have {count} right left. Try again!\")\n",
    "    except ValueError:\n",
    "        count -=1\n",
    "        print(f \"You should have enter Integer. You have {count} right left. Try again!\")\n",
    "    else:\n",
    "        print(\"Congrats! You've entered a valid input\")\n",
    "    finally:\n",
    "        print(\"Our fruits are always fresh!\")\n",
    "    "
   ]
  },
  {
   "cell_type": "code",
   "execution_count": 1,
   "metadata": {},
   "outputs": [],
   "source": [
    "import os, glob"
   ]
  },
  {
   "cell_type": "code",
   "execution_count": 7,
   "metadata": {},
   "outputs": [
    {
     "ename": "SyntaxError",
     "evalue": "invalid syntax (<ipython-input-7-a0f741112520>, line 1)",
     "output_type": "error",
     "traceback": [
      "\u001b[1;36m  File \u001b[1;32m\"<ipython-input-7-a0f741112520>\"\u001b[1;36m, line \u001b[1;32m1\u001b[0m\n\u001b[1;33m    os.chdir(\"C:/kullanıcılar/Owner\"):\u001b[0m\n\u001b[1;37m                                      ^\u001b[0m\n\u001b[1;31mSyntaxError\u001b[0m\u001b[1;31m:\u001b[0m invalid syntax\n"
     ]
    }
   ],
   "source": [
    "os.chdir(\"C:/Kullanıcılar/Owner\"):\n",
    "    for file in glob.glob(\"*.html\"):\n",
    "        print(file)"
   ]
  },
  {
   "cell_type": "code",
   "execution_count": null,
   "metadata": {},
   "outputs": [],
   "source": []
  }
 ],
 "metadata": {
  "kernelspec": {
   "display_name": "Python 3",
   "language": "python",
   "name": "python3"
  },
  "language_info": {
   "codemirror_mode": {
    "name": "ipython",
    "version": 3
   },
   "file_extension": ".py",
   "mimetype": "text/x-python",
   "name": "python",
   "nbconvert_exporter": "python",
   "pygments_lexer": "ipython3",
   "version": "3.7.6"
  }
 },
 "nbformat": 4,
 "nbformat_minor": 4
}
