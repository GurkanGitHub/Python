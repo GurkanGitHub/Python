{
 "cells": [
  {
   "cell_type": "markdown",
   "metadata": {},
   "source": [
    "# Collection Types"
   ]
  },
  {
   "cell_type": "raw",
   "metadata": {},
   "source": [
    "👉🏻 Collection types `provide structure` to `store data`. "
   ]
  },
  {
   "cell_type": "raw",
   "metadata": {},
   "source": [
    "Main collection types (LiTuDiS`) \n",
    "1. list, \n",
    "2. tuple, \n",
    "3. dictionary, \n",
    "4. set\n",
    "5. arrays"
   ]
  },
  {
   "cell_type": "raw",
   "metadata": {},
   "source": [
    "👉🏻 `Diffrence`: `data types` hold a single value and `collection types`: hold multiple values in a single object."
   ]
  },
  {
   "cell_type": "markdown",
   "metadata": {},
   "source": [
    "# Dictionary"
   ]
  },
  {
   "cell_type": "raw",
   "metadata": {},
   "source": [
    "💡 Dictionaries are used to store data values & items in key:value pairs.\n",
    "A dictionary is a collection type which is ordered (As of Python version 3.7), changeable and do not allow duplicates.\n",
    "Dictionaries are written with curly brackets, and have keys and values.\n",
    "Real dictionary analogy: key is word, value is meaning."
   ]
  },
  {
   "cell_type": "markdown",
   "metadata": {},
   "source": [
    "## 1. Creation of dictionaries"
   ]
  },
  {
   "cell_type": "markdown",
   "metadata": {},
   "source": [
    "### By curly braces 👉🏻{} "
   ]
  },
  {
   "cell_type": "code",
   "execution_count": 74,
   "metadata": {},
   "outputs": [],
   "source": [
    "empty_dict = {} # creates an empty dictionary. "
   ]
  },
  {
   "cell_type": "raw",
   "metadata": {},
   "source": [
    "From Python's perspective, dictionaries are defined as objects with the data type 'dict':"
   ]
  },
  {
   "cell_type": "code",
   "execution_count": 16,
   "metadata": {},
   "outputs": [
    {
     "data": {
      "text/plain": [
       "dict"
      ]
     },
     "execution_count": 16,
     "metadata": {},
     "output_type": "execute_result"
    }
   ],
   "source": [
    "type(empty_dict)"
   ]
  },
  {
   "cell_type": "code",
   "execution_count": 17,
   "metadata": {},
   "outputs": [
    {
     "name": "stdout",
     "output_type": "stream",
     "text": [
      "<class 'dict'>\n"
     ]
    }
   ],
   "source": [
    "print(type(empty_dict))"
   ]
  },
  {
   "cell_type": "code",
   "execution_count": 75,
   "metadata": {},
   "outputs": [],
   "source": [
    "empty_dict[\"first\"] = \"Canan\"\n",
    "empty_dict[\"last\"] = \"Yeşilyurt\""
   ]
  },
  {
   "cell_type": "code",
   "execution_count": 76,
   "metadata": {},
   "outputs": [
    {
     "data": {
      "text/plain": [
       "{'first': 'Canan', 'last': 'Yeşilyurt'}"
      ]
     },
     "execution_count": 76,
     "metadata": {},
     "output_type": "execute_result"
    }
   ],
   "source": [
    "empty_dict "
   ]
  },
  {
   "cell_type": "markdown",
   "metadata": {},
   "source": [
    "### Dictionary Items"
   ]
  },
  {
   "cell_type": "raw",
   "metadata": {},
   "source": [
    "Dictionary items are ordered, changeable, and does not allow duplicates.\n",
    "Dictionary items are presented in key:value pairs, and can be referred to by using the key name."
   ]
  },
  {
   "cell_type": "markdown",
   "metadata": {},
   "source": [
    "### Ordered or Unordered"
   ]
  },
  {
   "cell_type": "raw",
   "metadata": {},
   "source": [
    "As of Python version 3.7, dictionaries are ordered. In Python 3.6 and earlier, dictionaries are unordered.\n",
    "\n",
    "When we say that dictionaries are ordered, it means that the items have a defined order, and that order will not change.\n",
    "\n",
    "Unordered means that the items does not have a defined order, you cannot refer to an item by using an index.\n",
    "\n",
    "Changeable: Dictionaries are changeable, meaning that we can change, add or remove items after the dictionary has been created."
   ]
  },
  {
   "cell_type": "markdown",
   "metadata": {},
   "source": [
    "👉🏻 Each `item` is separated by `comma` and the `key and value` are separated by a `colon`. Looks like list or tuple."
   ]
  },
  {
   "cell_type": "code",
   "execution_count": 77,
   "metadata": {},
   "outputs": [
    {
     "data": {
      "text/plain": [
       "{'animal': 'dog',\n",
       " 'planet': 'neptun',\n",
       " 'number': 40,\n",
       " 'pi': 3.14,\n",
       " 'is_good': True}"
      ]
     },
     "execution_count": 77,
     "metadata": {},
     "output_type": "execute_result"
    }
   ],
   "source": [
    "my_dict = {\"animal\":\"dog\", \"planet\":\"neptun\", \"number\": 40, \"pi\": 3.14, \"is_good\":True}\n",
    "my_dict"
   ]
  },
  {
   "cell_type": "markdown",
   "metadata": {},
   "source": [
    "### Duplicate values"
   ]
  },
  {
   "cell_type": "raw",
   "metadata": {},
   "source": [
    "Duplicates Not Allowed, Dictionaries cannot have two items with the same key. \n",
    "Duplicate values will overwrite existing values."
   ]
  },
  {
   "cell_type": "code",
   "execution_count": 78,
   "metadata": {},
   "outputs": [
    {
     "data": {
      "text/plain": [
       "{'animal': 'dog',\n",
       " 'planet': 'neptun',\n",
       " 'number': 40,\n",
       " 'pi': 3.14,\n",
       " 'is_good': False}"
      ]
     },
     "execution_count": 78,
     "metadata": {},
     "output_type": "execute_result"
    }
   ],
   "source": [
    "my_dict = {\"animal\":\"dog\", \"planet\":\"neptun\", \"number\": 40, \"pi\": 3.14, \"is_good\":True, \"is_good\":False }\n",
    "my_dict"
   ]
  },
  {
   "cell_type": "markdown",
   "metadata": {},
   "source": [
    "### Diffrent types of items in dictionary"
   ]
  },
  {
   "cell_type": "raw",
   "metadata": {},
   "source": [
    "💡Tips: Note that values can be of different types."
   ]
  },
  {
   "cell_type": "code",
   "execution_count": 22,
   "metadata": {},
   "outputs": [],
   "source": [
    "mix_dict = {'animal': ('dog', 'cat'),  # tuple type\n",
    "'planet': ['Neptun', 'Saturn', 'Jupiter'],  # list type\n",
    "'number': 40,  # int type\n",
    "'pi': 3.14,  # float type\n",
    "'is_good': True}  # bool type"
   ]
  },
  {
   "cell_type": "code",
   "execution_count": 23,
   "metadata": {},
   "outputs": [
    {
     "data": {
      "text/plain": [
       "{'animal': ('dog', 'cat'),\n",
       " 'planet': ['Neptun', 'Saturn', 'Jupiter'],\n",
       " 'number': 40,\n",
       " 'pi': 3.14,\n",
       " 'is_good': True}"
      ]
     },
     "execution_count": 23,
     "metadata": {},
     "output_type": "execute_result"
    }
   ],
   "source": [
    "mix_dict"
   ]
  },
  {
   "cell_type": "markdown",
   "metadata": {},
   "source": [
    "### By 'dict()' function."
   ]
  },
  {
   "cell_type": "code",
   "execution_count": 24,
   "metadata": {},
   "outputs": [
    {
     "data": {
      "text/plain": [
       "{}"
      ]
     },
     "execution_count": 24,
     "metadata": {},
     "output_type": "execute_result"
    }
   ],
   "source": [
    "dict()"
   ]
  },
  {
   "cell_type": "code",
   "execution_count": 26,
   "metadata": {},
   "outputs": [
    {
     "data": {
      "text/plain": [
       "dict"
      ]
     },
     "execution_count": 26,
     "metadata": {},
     "output_type": "execute_result"
    }
   ],
   "source": [
    "type(dict())"
   ]
  },
  {
   "cell_type": "code",
   "execution_count": 27,
   "metadata": {},
   "outputs": [
    {
     "name": "stdout",
     "output_type": "stream",
     "text": [
      "<class 'dict'>\n"
     ]
    }
   ],
   "source": [
    "print(type(dict()))"
   ]
  },
  {
   "cell_type": "raw",
   "metadata": {},
   "source": [
    "⚠️Avoid ! : Do not use quotes for keys when using the dict() function."
   ]
  },
  {
   "cell_type": "code",
   "execution_count": 29,
   "metadata": {},
   "outputs": [
    {
     "data": {
      "text/plain": [
       "{'animal': 'dog',\n",
       " 'planet': 'neptun',\n",
       " 'number': 40,\n",
       " 'pi': 3.14,\n",
       " 'is_good': True}"
      ]
     },
     "execution_count": 29,
     "metadata": {},
     "output_type": "execute_result"
    }
   ],
   "source": [
    "dict(animal=\"dog\", planet=\"neptun\", number = 40, pi=3.14, is_good=True)"
   ]
  },
  {
   "cell_type": "markdown",
   "metadata": {},
   "source": [
    "## Main Operations with Dictionaries"
   ]
  },
  {
   "cell_type": "markdown",
   "metadata": {},
   "source": [
    "## Accessing items"
   ]
  },
  {
   "cell_type": "raw",
   "metadata": {},
   "source": [
    "Refer to key name, inside square brackets"
   ]
  },
  {
   "cell_type": "code",
   "execution_count": 82,
   "metadata": {},
   "outputs": [
    {
     "name": "stdout",
     "output_type": "stream",
     "text": [
      "Neptun\n",
      "('dog', 'cat')\n"
     ]
    }
   ],
   "source": [
    "mix_dict = {'animal': ('dog', 'cat'),  \n",
    "            'planet': ['Neptun', 'Saturn', 'Jupiter'],\n",
    "            'number': 40,\n",
    "            'pi': 3.14,\n",
    "            'is_good': True}\n",
    "print(mix_dict[\"planet\"][0])\n",
    "print(mix_dict[\"animal\"])"
   ]
  },
  {
   "cell_type": "markdown",
   "metadata": {},
   "source": [
    "### get() method"
   ]
  },
  {
   "cell_type": "code",
   "execution_count": 85,
   "metadata": {},
   "outputs": [
    {
     "data": {
      "text/plain": [
       "'Neptun'"
      ]
     },
     "execution_count": 85,
     "metadata": {},
     "output_type": "execute_result"
    }
   ],
   "source": [
    "mix_dict.get(\"planet\")[0]"
   ]
  },
  {
   "cell_type": "code",
   "execution_count": 71,
   "metadata": {},
   "outputs": [
    {
     "name": "stdout",
     "output_type": "stream",
     "text": [
      "{'innerkey': [1, 2, 3]}\n",
      "[1, 2, 3]\n",
      "2\n"
     ]
    }
   ],
   "source": [
    "d = {\"k1\": {\"innerkey\": [1,2,3]}}\n",
    "print(d[\"k1\"])\n",
    "print(d[\"k1\"][\"innerkey\"])\n",
    "print(d[\"k1\"][\"innerkey\"][1])"
   ]
  },
  {
   "cell_type": "markdown",
   "metadata": {},
   "source": [
    "## 3. Dictionary Methods"
   ]
  },
  {
   "cell_type": "raw",
   "metadata": {},
   "source": [
    "Python has a set of built-in methods that you can use on dictionaries.\n",
    "\n",
    "Method\tDescription\n",
    "clear()\tRemoves all the elements from the dictionary\n",
    "copy()\tReturns a copy of the dictionary\n",
    "fromkeys()\tReturns a dictionary with the specified keys and value\n",
    "get()\tReturns the value of the specified key\n",
    "items()\tReturns a list containing a tuple for each key value pair\n",
    "keys()\tReturns a list containing the dictionary's keys\n",
    "pop()\tRemoves the element with the specified key\n",
    "popitem()\tRemoves the last inserted key-value pair\n",
    "setdefault()\tReturns the value of the specified key. If the key does not exist: insert the key, with the specified value\n",
    "update()\tUpdates the dictionary with the specified key-value pairs\n",
    "values()\tReturns a list of all the values in the dictionary"
   ]
  },
  {
   "cell_type": "raw",
   "metadata": {},
   "source": [
    "function vs. method "
   ]
  },
  {
   "cell_type": "raw",
   "metadata": {},
   "source": [
    "The function allows us to implement code reusability. "
   ]
  },
  {
   "cell_type": "code",
   "execution_count": 1,
   "metadata": {},
   "outputs": [
    {
     "data": {
      "text/plain": [
       "9"
      ]
     },
     "execution_count": 1,
     "metadata": {},
     "output_type": "execute_result"
    }
   ],
   "source": [
    "def sum(num1, num2):\n",
    "    return num1+num2  # ‘return’ statement returns a value from python function.\n",
    "sum(4,5)"
   ]
  },
  {
   "cell_type": "raw",
   "metadata": {},
   "source": [
    "A method in python is somewhat similar to a function, except it is associated with object/classes. \n",
    "Methods in python are very similar to functions except for two major differences.\n",
    "The method is implicitly used for an object for which it is called.\n",
    "The method is accessible to data that is contained within the class."
   ]
  },
  {
   "cell_type": "code",
   "execution_count": 2,
   "metadata": {},
   "outputs": [],
   "source": [
    "class Pet(object):\n",
    "    def my_method(self):\n",
    "        print(\"I am a cat\")\n",
    "cat = Pet()"
   ]
  },
  {
   "cell_type": "code",
   "execution_count": 3,
   "metadata": {},
   "outputs": [
    {
     "name": "stdout",
     "output_type": "stream",
     "text": [
      "I am a cat\n"
     ]
    }
   ],
   "source": [
    "cat.my_method()"
   ]
  },
  {
   "cell_type": "raw",
   "metadata": {},
   "source": [
    "key differences between them\n",
    "\n",
    "Unlike a function, methods are called on an object. Like in our example above we call our method .i.e. “my_method” on the object “cat” whereas the function “sum” is called without any object. Also, because the method is called on an object, it can access that data within it.\n",
    "\n",
    "Unlike method which can alter the object’s state, python function doesn’t do this and normally operates on it.\n",
    "\n",
    "In Short, a method is a function which belongs to an object."
   ]
  },
  {
   "cell_type": "markdown",
   "metadata": {},
   "source": [
    "### items(), keys(), values() methods"
   ]
  },
  {
   "cell_type": "code",
   "execution_count": 36,
   "metadata": {},
   "outputs": [
    {
     "data": {
      "text/plain": [
       "dict_items([('animal', ('dog', 'cat')), ('planet', ['Neptun', 'Saturn', 'Jupiter']), ('number', 40), ('pi', 3.14), ('is_good', True)])"
      ]
     },
     "execution_count": 36,
     "metadata": {},
     "output_type": "execute_result"
    }
   ],
   "source": [
    "mix_dict.items()"
   ]
  },
  {
   "cell_type": "code",
   "execution_count": 37,
   "metadata": {},
   "outputs": [
    {
     "data": {
      "text/plain": [
       "dict_keys(['animal', 'planet', 'number', 'pi', 'is_good'])"
      ]
     },
     "execution_count": 37,
     "metadata": {},
     "output_type": "execute_result"
    }
   ],
   "source": [
    "mix_dict.keys()"
   ]
  },
  {
   "cell_type": "code",
   "execution_count": 38,
   "metadata": {},
   "outputs": [
    {
     "data": {
      "text/plain": [
       "dict_values([('dog', 'cat'), ['Neptun', 'Saturn', 'Jupiter'], 40, 3.14, True])"
      ]
     },
     "execution_count": 38,
     "metadata": {},
     "output_type": "execute_result"
    }
   ],
   "source": [
    "mix_dict.values()"
   ]
  },
  {
   "cell_type": "code",
   "execution_count": 67,
   "metadata": {},
   "outputs": [
    {
     "name": "stdout",
     "output_type": "stream",
     "text": [
      "dict_items([('animal', ('dog', 'cat')), ('planet', ['Neptun', 'Saturn', 'Jupiter']), ('number', 40), ('pi', 3.14), ('is_good', True)]) \n",
      "\n",
      "dict_keys(['animal', 'planet', 'number', 'pi', 'is_good']) \n",
      "\n",
      "dict_values([('dog', 'cat'), ['Neptun', 'Saturn', 'Jupiter'], 40, 3.14, True])\n"
     ]
    }
   ],
   "source": [
    "print(mix_dict.items(), \"\\n\")\n",
    "print(mix_dict.keys(), '\\n')\n",
    "print(mix_dict.values())"
   ]
  },
  {
   "cell_type": "markdown",
   "metadata": {},
   "source": [
    "## Adding a new item to dictionary"
   ]
  },
  {
   "cell_type": "markdown",
   "metadata": {},
   "source": [
    "### by update() method"
   ]
  },
  {
   "cell_type": "code",
   "execution_count": 18,
   "metadata": {},
   "outputs": [],
   "source": [
    "mix_dict = {'animal': ('dog', 'cat'),  \n",
    "            'planet': ['Neptun', 'Saturn', 'Jupiter'],\n",
    "            'number': 40,\n",
    "            'pi': 3.14,\n",
    "            'is_good': True}"
   ]
  },
  {
   "cell_type": "code",
   "execution_count": 19,
   "metadata": {},
   "outputs": [
    {
     "data": {
      "text/plain": [
       "{'animal': ('dog', 'cat'),\n",
       " 'planet': ['Neptun', 'Saturn', 'Jupiter'],\n",
       " 'number': 40,\n",
       " 'pi': 3.14,\n",
       " 'is_good': True,\n",
       " 'is_bad': 'False'}"
      ]
     },
     "execution_count": 19,
     "metadata": {},
     "output_type": "execute_result"
    }
   ],
   "source": [
    "mix_dict.update({\"is_bad\":\"False\"})\n",
    "#mix_dict.update(is_bad=\"False\" )\n",
    "mix_dict"
   ]
  },
  {
   "cell_type": "markdown",
   "metadata": {},
   "source": [
    "### by [ ] notation"
   ]
  },
  {
   "cell_type": "code",
   "execution_count": 21,
   "metadata": {},
   "outputs": [
    {
     "data": {
      "text/plain": [
       "{'animal': ('dog', 'cat'),\n",
       " 'planet': ['Neptun', 'Saturn', 'Jupiter'],\n",
       " 'number': 40,\n",
       " 'pi': 3.14,\n",
       " 'is_good': True,\n",
       " 'is_bad': 'False',\n",
       " 'hobby': 'Reading'}"
      ]
     },
     "execution_count": 21,
     "metadata": {},
     "output_type": "execute_result"
    }
   ],
   "source": [
    "mix_dict[\"hobby\"]=\"Reading\"\n",
    "mix_dict"
   ]
  },
  {
   "cell_type": "markdown",
   "metadata": {},
   "source": [
    "## Removing an item"
   ]
  },
  {
   "cell_type": "markdown",
   "metadata": {},
   "source": [
    "### del() function"
   ]
  },
  {
   "cell_type": "raw",
   "metadata": {},
   "source": [
    " The formula syntax is : del dictionary_name['key']."
   ]
  },
  {
   "cell_type": "code",
   "execution_count": 23,
   "metadata": {},
   "outputs": [],
   "source": [
    "del mix_dict[\"animal\"]"
   ]
  },
  {
   "cell_type": "code",
   "execution_count": 24,
   "metadata": {},
   "outputs": [
    {
     "data": {
      "text/plain": [
       "{'planet': ['Neptun', 'Saturn', 'Jupiter'],\n",
       " 'number': 40,\n",
       " 'pi': 3.14,\n",
       " 'is_good': True,\n",
       " 'is_bad': 'False',\n",
       " 'hobby': 'Reading'}"
      ]
     },
     "execution_count": 24,
     "metadata": {},
     "output_type": "execute_result"
    }
   ],
   "source": [
    "mix_dict"
   ]
  },
  {
   "cell_type": "markdown",
   "metadata": {},
   "source": [
    "## in and the not in operator."
   ]
  },
  {
   "cell_type": "raw",
   "metadata": {},
   "source": [
    "○ Checking if the key is in the dict: in and the not in operator.\n",
    "○ in operator; if the key is in the dict, the result will be True otherwise False.\n",
    "○ not in; if the key is not in the dicti, the result will be True otherwise False."
   ]
  },
  {
   "cell_type": "code",
   "execution_count": 25,
   "metadata": {},
   "outputs": [
    {
     "data": {
      "text/plain": [
       "{'planet': ['Neptun', 'Saturn', 'Jupiter'],\n",
       " 'number': 40,\n",
       " 'pi': 3.14,\n",
       " 'is_good': True,\n",
       " 'is_bad': 'False',\n",
       " 'hobby': 'Reading'}"
      ]
     },
     "execution_count": 25,
     "metadata": {},
     "output_type": "execute_result"
    }
   ],
   "source": [
    "mix_dict"
   ]
  },
  {
   "cell_type": "code",
   "execution_count": 26,
   "metadata": {},
   "outputs": [
    {
     "data": {
      "text/plain": [
       "True"
      ]
     },
     "execution_count": 26,
     "metadata": {},
     "output_type": "execute_result"
    }
   ],
   "source": [
    "\"pi\" in mix_dict"
   ]
  },
  {
   "cell_type": "code",
   "execution_count": 27,
   "metadata": {},
   "outputs": [
    {
     "data": {
      "text/plain": [
       "True"
      ]
     },
     "execution_count": 27,
     "metadata": {},
     "output_type": "execute_result"
    }
   ],
   "source": [
    "\"go\" not in mix_dict"
   ]
  },
  {
   "cell_type": "markdown",
   "metadata": {},
   "source": [
    "### copy() method"
   ]
  },
  {
   "cell_type": "raw",
   "metadata": {},
   "source": [
    "The copy() method returns a copy of the specified dictionary."
   ]
  },
  {
   "cell_type": "code",
   "execution_count": 41,
   "metadata": {},
   "outputs": [],
   "source": [
    "copy_mix_dict = mix_dict.copy()"
   ]
  },
  {
   "cell_type": "code",
   "execution_count": 42,
   "metadata": {},
   "outputs": [
    {
     "data": {
      "text/plain": [
       "{'animal': ('dog', 'cat'),\n",
       " 'planet': ['Neptun', 'Saturn', 'Jupiter'],\n",
       " 'number': 40,\n",
       " 'pi': 3.14,\n",
       " 'is_good': True,\n",
       " 'is_bad': 'Flase'}"
      ]
     },
     "execution_count": 42,
     "metadata": {},
     "output_type": "execute_result"
    }
   ],
   "source": [
    "copy_mix_dict"
   ]
  },
  {
   "cell_type": "markdown",
   "metadata": {},
   "source": [
    "### other methods to copy "
   ]
  },
  {
   "cell_type": "code",
   "execution_count": 44,
   "metadata": {},
   "outputs": [],
   "source": [
    "new_dict = dict(mix_dict)"
   ]
  },
  {
   "cell_type": "code",
   "execution_count": 45,
   "metadata": {},
   "outputs": [
    {
     "data": {
      "text/plain": [
       "{'animal': ('dog', 'cat'),\n",
       " 'planet': ['Neptun', 'Saturn', 'Jupiter'],\n",
       " 'number': 40,\n",
       " 'pi': 3.14,\n",
       " 'is_good': True,\n",
       " 'is_bad': 'Flase'}"
      ]
     },
     "execution_count": 45,
     "metadata": {},
     "output_type": "execute_result"
    }
   ],
   "source": [
    "new_dict"
   ]
  },
  {
   "cell_type": "code",
   "execution_count": 46,
   "metadata": {},
   "outputs": [],
   "source": [
    "third = mix_dict"
   ]
  },
  {
   "cell_type": "code",
   "execution_count": 47,
   "metadata": {},
   "outputs": [
    {
     "data": {
      "text/plain": [
       "{'animal': ('dog', 'cat'),\n",
       " 'planet': ['Neptun', 'Saturn', 'Jupiter'],\n",
       " 'number': 40,\n",
       " 'pi': 3.14,\n",
       " 'is_good': True,\n",
       " 'is_bad': 'Flase'}"
      ]
     },
     "execution_count": 47,
     "metadata": {},
     "output_type": "execute_result"
    }
   ],
   "source": [
    "third"
   ]
  },
  {
   "cell_type": "markdown",
   "metadata": {},
   "source": [
    "## Nested Dictionaries"
   ]
  },
  {
   "cell_type": "code",
   "execution_count": 77,
   "metadata": {},
   "outputs": [],
   "source": [
    "school_recs={\n",
    "\"per_info\":\n",
    "{\"kid\":{\"tom\": {\"class\": \"intermediate\", \"age\": 10},\n",
    "\"sue\": {\"class\": \"elementary\", \"age\": 8}\n",
    "},\n",
    "\"teen\":{\"joseph\":{\"class\": \"college\", \"age\": 19},\n",
    "\"marry\":{\"class\": \"high school\", \"age\": 16}\n",
    "},               \n",
    "},\n",
    "\"grades_info\":\n",
    "{\"kid\":{\"tom\": {\"math\": 88, \"speech\": 69},\n",
    "\"sue\": {\"math\": 90, \"speech\": 81}\n",
    "},\n",
    "\"teen\":{\"joseph\":{\"coding\": 80, \"math\": 89},\n",
    "\"marry\":{\"coding\": 70, \"math\": 96}\n",
    "},               \n",
    "},        \n",
    "}"
   ]
  },
  {
   "cell_type": "code",
   "execution_count": 78,
   "metadata": {},
   "outputs": [
    {
     "data": {
      "text/plain": [
       "{'kid': {'tom': {'class': 'intermediate', 'age': 10},\n",
       "  'sue': {'class': 'elementary', 'age': 8}},\n",
       " 'teen': {'joseph': {'class': 'college', 'age': 19},\n",
       "  'marry': {'class': 'high school', 'age': 16}}}"
      ]
     },
     "execution_count": 78,
     "metadata": {},
     "output_type": "execute_result"
    }
   ],
   "source": [
    "school_recs[\"per_info\"]"
   ]
  },
  {
   "cell_type": "code",
   "execution_count": 79,
   "metadata": {},
   "outputs": [
    {
     "data": {
      "text/plain": [
       "{'tom': {'class': 'intermediate', 'age': 10},\n",
       " 'sue': {'class': 'elementary', 'age': 8}}"
      ]
     },
     "execution_count": 79,
     "metadata": {},
     "output_type": "execute_result"
    }
   ],
   "source": [
    "school_recs[\"per_info\"][\"kid\"]"
   ]
  },
  {
   "cell_type": "code",
   "execution_count": 80,
   "metadata": {},
   "outputs": [
    {
     "data": {
      "text/plain": [
       "{'class': 'intermediate', 'age': 10}"
      ]
     },
     "execution_count": 80,
     "metadata": {},
     "output_type": "execute_result"
    }
   ],
   "source": [
    "school_recs[\"per_info\"][\"kid\"][\"tom\"]"
   ]
  },
  {
   "cell_type": "code",
   "execution_count": 81,
   "metadata": {},
   "outputs": [
    {
     "data": {
      "text/plain": [
       "10"
      ]
     },
     "execution_count": 81,
     "metadata": {},
     "output_type": "execute_result"
    }
   ],
   "source": [
    "school_recs[\"per_info\"][\"kid\"][\"tom\"][\"age\"]"
   ]
  },
  {
   "cell_type": "markdown",
   "metadata": {},
   "source": [
    "💡Tips:Dict resemble JSON syntax. The native JSON module in the Python standard library can be used to convert between JSON and dicts."
   ]
  },
  {
   "cell_type": "code",
   "execution_count": null,
   "metadata": {},
   "outputs": [],
   "source": [
    "✏️JSON: "
   ]
  },
  {
   "cell_type": "code",
   "execution_count": null,
   "metadata": {},
   "outputs": [],
   "source": []
  },
  {
   "cell_type": "code",
   "execution_count": null,
   "metadata": {},
   "outputs": [],
   "source": []
  },
  {
   "cell_type": "code",
   "execution_count": null,
   "metadata": {},
   "outputs": [],
   "source": [
    "ailem = {\"baba\" : \"gurkan\", \"anne\" : \"canan\", \"kız\" : \"büşra\"}\n",
    "print(ailem)"
   ]
  },
  {
   "cell_type": "code",
   "execution_count": null,
   "metadata": {},
   "outputs": [],
   "source": [
    "ailem[\"oğlum\"] = \"Selim\"\n",
    "print(ailem)"
   ]
  },
  {
   "cell_type": "code",
   "execution_count": 12,
   "metadata": {},
   "outputs": [],
   "source": [
    "ailem_dict = dict(baba = \"gürkan\", anne = \"canan\", kız = \"büşra\", oğlum = \"selim\")"
   ]
  },
  {
   "cell_type": "code",
   "execution_count": 14,
   "metadata": {},
   "outputs": [
    {
     "data": {
      "text/plain": [
       "{'baba': 'gürkan', 'anne': 'canan', 'kız': 'büşra', 'oğlum': 'selim'}"
      ]
     },
     "execution_count": 14,
     "metadata": {},
     "output_type": "execute_result"
    }
   ],
   "source": [
    "ailem_dict"
   ]
  },
  {
   "cell_type": "code",
   "execution_count": 23,
   "metadata": {},
   "outputs": [],
   "source": [
    "ailem_dict.update(diğer_kız= \"sinem\")"
   ]
  },
  {
   "cell_type": "code",
   "execution_count": 24,
   "metadata": {},
   "outputs": [
    {
     "data": {
      "text/plain": [
       "{'baba': 'gürkan',\n",
       " 'anne': 'canan',\n",
       " 'kız': 'büşra',\n",
       " 'oğlum': 'selim',\n",
       " 'diğer_kız': 'sinem'}"
      ]
     },
     "execution_count": 24,
     "metadata": {},
     "output_type": "execute_result"
    }
   ],
   "source": [
    "ailem_dict"
   ]
  },
  {
   "cell_type": "markdown",
   "metadata": {},
   "source": [
    "### Examples"
   ]
  },
  {
   "cell_type": "code",
   "execution_count": 39,
   "metadata": {},
   "outputs": [
    {
     "name": "stdout",
     "output_type": "stream",
     "text": [
      "The profit is $13130\n"
     ]
    }
   ],
   "source": [
    "sales = {\n",
    "    \"cost_value\" : 31.87,\n",
    "    \"sell_value\" : 45.00,\n",
    "    \"inventory\" : 1000    \n",
    "}\n",
    "profit = round((sales[\"sell_value\"]-sales[\"cost_value\"])*sales[\"inventory\"])\n",
    "print(\"The profit is \" + \"$\" + str(profit))"
   ]
  },
  {
   "cell_type": "code",
   "execution_count": 49,
   "metadata": {},
   "outputs": [
    {
     "name": "stdout",
     "output_type": "stream",
     "text": [
      "{'a': 1}\n",
      "{'a': 2}\n",
      "dict_keys(['a'])\n",
      "['a']\n"
     ]
    }
   ],
   "source": [
    "word = {}\n",
    "word[\"a\"] = 1 # boş sözlüğe key ve value ekleme\n",
    "print(word)\n",
    "word[\"a\"] += 1 # valuenun artırılması\n",
    "print(word)\n",
    "print(word.keys())\n",
    "print(list(word.keys()))"
   ]
  },
  {
   "cell_type": "code",
   "execution_count": 53,
   "metadata": {},
   "outputs": [
    {
     "name": "stdout",
     "output_type": "stream",
     "text": [
      "<function <lambda> at 0x00000203EAEFC828>\n",
      "7\n",
      "1\n"
     ]
    }
   ],
   "source": [
    "addSub = {\"addition\": lambda x, y: x+y, \"subtract\": lambda x,y: x-y}\n",
    "print(addSub[\"addition\"])\n",
    "print(addSub[\"addition\"](3,4))\n",
    "print(addSub[\"subtract\"](4,3))"
   ]
  },
  {
   "cell_type": "code",
   "execution_count": 54,
   "metadata": {},
   "outputs": [
    {
     "data": {
      "text/plain": [
       "12"
      ]
     },
     "execution_count": 54,
     "metadata": {},
     "output_type": "execute_result"
    }
   ],
   "source": [
    "calculate = {\"+\": (lambda x,y : x+y), \"-\": (lambda x,y: x-y), \"*\": (lambda x,y: x*y), \"/\": lambda x,y: x/y}\n",
    "calculate[\"*\"](3,4)"
   ]
  },
  {
   "cell_type": "markdown",
   "metadata": {},
   "source": [
    "### sorting"
   ]
  },
  {
   "cell_type": "code",
   "execution_count": 79,
   "metadata": {},
   "outputs": [
    {
     "name": "stdout",
     "output_type": "stream",
     "text": [
      "['b', 'c', 'e', 'f']\n",
      "[('b', 2), ('c', 3), ('e', 4), ('f', 1)]\n",
      "2\n",
      "[('f', 1), ('b', 2), ('c', 3), ('e', 4)]\n"
     ]
    }
   ],
   "source": [
    "xx = {\"e\": 4, \"b\": 2, \"c\": 3, \"f\": 1} #valuelara göre sırala\n",
    "print(sorted(xx)),\n",
    "print(sorted(xx.items()))\n",
    "print(sorted(xx.items())[0][1])\n",
    "print(sorted(xx.items(), key = lambda x: x[1])) #key, fonksiyon veya metod alır. içinde bulunduğu fonksiyonu neye göre sıralayacağını tanımlar. )"
   ]
  },
  {
   "cell_type": "markdown",
   "metadata": {},
   "source": [
    "### length of dictionary"
   ]
  },
  {
   "cell_type": "code",
   "execution_count": 80,
   "metadata": {},
   "outputs": [
    {
     "data": {
      "text/plain": [
       "4"
      ]
     },
     "execution_count": 80,
     "metadata": {},
     "output_type": "execute_result"
    }
   ],
   "source": [
    "len(xx)"
   ]
  },
  {
   "cell_type": "code",
   "execution_count": null,
   "metadata": {},
   "outputs": [],
   "source": []
  }
 ],
 "metadata": {
  "kernelspec": {
   "display_name": "Python 3",
   "language": "python",
   "name": "python3"
  },
  "language_info": {
   "codemirror_mode": {
    "name": "ipython",
    "version": 3
   },
   "file_extension": ".py",
   "mimetype": "text/x-python",
   "name": "python",
   "nbconvert_exporter": "python",
   "pygments_lexer": "ipython3",
   "version": "3.7.6"
  }
 },
 "nbformat": 4,
 "nbformat_minor": 4
}
