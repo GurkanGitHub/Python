{
 "cells": [
  {
   "cell_type": "markdown",
   "metadata": {},
   "source": [
    "# Functions"
   ]
  },
  {
   "cell_type": "markdown",
   "metadata": {},
   "source": [
    "Function: Block of organized, reusable code that is used to perform a single, related action. Functions provide better modularity for your application and a high degree of code reusing. "
   ]
  },
  {
   "cell_type": "markdown",
   "metadata": {},
   "source": [
    "# Built-in functions"
   ]
  },
  {
   "cell_type": "raw",
   "metadata": {},
   "source": [
    "\"\"\"\n",
    "Functions whose functionality is pre-defined. Pinterpreter has several functions that are always present for use. \n",
    "\n",
    "• input()\n",
    "• len()\n",
    "• range()\n",
    "• print()\n",
    "• bool()\n",
    "• type()\n",
    "• str()\n",
    "• int()\n",
    "• float()\n",
    "• tuple()\n",
    "• list()\n",
    "\"\"\""
   ]
  },
  {
   "cell_type": "markdown",
   "metadata": {},
   "source": [
    "## input() function"
   ]
  },
  {
   "cell_type": "markdown",
   "metadata": {},
   "source": [
    "Read a string from standard input.  The trailing newline is stripped."
   ]
  },
  {
   "cell_type": "markdown",
   "metadata": {},
   "source": [
    "Takes a value from the user and assigns it to a variable. "
   ]
  },
  {
   "cell_type": "markdown",
   "metadata": {},
   "source": [
    "Input statement always returns string. To treat is as a number use: float(price)"
   ]
  },
  {
   "cell_type": "code",
   "execution_count": null,
   "metadata": {},
   "outputs": [],
   "source": [
    "a = int(input(\"Bir sayı giriniz:\"))\n",
    "b = int(input(\"Bir sayı giriniz:\"))\n",
    "c = int(input(\"Bir sayı giriniz:\"))\n",
    "\n",
    "çarpım = a*b*c\n",
    "print(\"Result of {}*{}*{} is {}\".format(a, b, c, çarpım))"
   ]
  },
  {
   "cell_type": "code",
   "execution_count": null,
   "metadata": {},
   "outputs": [],
   "source": [
    "boy = float(input(\"Boyun kaç gardaş (m): \"))\n",
    "kilo = int(input(\"Kilon kaç gardaş: \"))\n",
    "bki= kilo/boy**2\n",
    "print(bki)"
   ]
  },
  {
   "cell_type": "code",
   "execution_count": null,
   "metadata": {},
   "outputs": [],
   "source": [
    "a = input(\"bir sayı giriniz: \")\n",
    "b = int(input(\"bir sayı giriniz: \"))\n",
    "a, b = b, a\n",
    "print(a, b, sep=\"\\n\")\n",
    "\n"
   ]
  },
  {
   "cell_type": "code",
   "execution_count": null,
   "metadata": {},
   "outputs": [],
   "source": [
    "adı = input(\"adını gir gardaş: \")\n",
    "soyadı = input(\"soyadı lütfen: \")\n",
    "numara = input(\"no: \")\n",
    "#print(\"Benim adım {}, soyadım {}'dır. Numaramı vermem gardaş\".format(adı, soyadı))\n",
    "print(\"adı:%s\" %adı)"
   ]
  },
  {
   "cell_type": "code",
   "execution_count": null,
   "metadata": {},
   "outputs": [],
   "source": [
    "word = input(\"Bir kelime giriniz: \")\n",
    "seperation = input(\"Bir separation giriniz: \")\n",
    "repetition = int(input(\"Bir repetisyon giriniz: \"))\n",
    "output = repetition* (word + seperation)\n",
    "print(output)\n",
    "print(output[:-1])"
   ]
  },
  {
   "cell_type": "code",
   "execution_count": null,
   "metadata": {},
   "outputs": [],
   "source": [
    "word = input(\"Please enter a word: \")\n",
    "number = int(input(\"Please enter a number: \"))\n",
    "new_word = word[-number::]\n",
    "print(number*new_word)"
   ]
  },
  {
   "cell_type": "code",
   "execution_count": null,
   "metadata": {},
   "outputs": [],
   "source": [
    "say = int(input(\"bir sayı giriniz: \"))\n",
    "a = \"Fizz\"\n",
    "b = \"Buzz\"\n",
    "c = (say%3==0)*a + (say%5==0)*b or say\n",
    "print(c)\n"
   ]
  },
  {
   "cell_type": "code",
   "execution_count": null,
   "metadata": {},
   "outputs": [],
   "source": [
    "fruit = 'Orange'\n",
    "print('Word                    : ' , fruit)\n",
    "print('First letter            : ' , fruit[0])\n",
    "print('Second letter           : ' , fruit[1])\n",
    "print(\"3rd to 5th letters      : \" , fruit[2:5])\n",
    "print(\"Letter all after 3rd    : \" , fruit[2:])\n"
   ]
  },
  {
   "cell_type": "code",
   "execution_count": null,
   "metadata": {},
   "outputs": [],
   "source": [
    "isim = \"Gürkan\"\n",
    "print(isim)\n",
    "print(\"İsminiz: \", isim)\n",
    "print(\"İlk Harf: \", isim[0])\n",
    "print(\"3'ten 5'e kadar harfler: \", isim[2:5])\n",
    "print(\"3'ten sonraki tüm harfler: \", isim[2:])\n",
    "print(isim[:])\n",
    "print(isim[2:6:2])"
   ]
  },
  {
   "cell_type": "code",
   "execution_count": null,
   "metadata": {},
   "outputs": [],
   "source": [
    "vegetable = 'Tomato'\n",
    "print('length of the word', vegetable, 'is :', len(vegetable))"
   ]
  },
  {
   "cell_type": "code",
   "execution_count": null,
   "metadata": {},
   "outputs": [],
   "source": [
    "fruit = \"melon\"\n",
    "print(len(fruit))\n",
    "print(\"length of the word\", fruit, \"is: \", len(fruit))"
   ]
  },
  {
   "cell_type": "code",
   "execution_count": null,
   "metadata": {},
   "outputs": [],
   "source": [
    "warning = \"You must quit smoking!\"\n",
    "#print(warning)\n",
    "#print(len(warning))\n",
    "#print(\"length of the sentence\", warning, \"is: \", len(warning))\n",
    "print(len(list(warning)))"
   ]
  },
  {
   "cell_type": "code",
   "execution_count": null,
   "metadata": {},
   "outputs": [],
   "source": [
    "x = 12\n",
    "y = x + 21\n",
    "x = 2\n",
    "print(y//x)"
   ]
  },
  {
   "cell_type": "code",
   "execution_count": null,
   "metadata": {},
   "outputs": [],
   "source": [
    "x = 12\n",
    "y = 21\n",
    "print(x+y)"
   ]
  },
  {
   "cell_type": "raw",
   "metadata": {},
   "source": []
  },
  {
   "cell_type": "code",
   "execution_count": null,
   "metadata": {},
   "outputs": [],
   "source": [
    "#free code camp"
   ]
  },
  {
   "cell_type": "code",
   "execution_count": null,
   "metadata": {},
   "outputs": [],
   "source": [
    "name = input(\"enter your name: \") #store input inside a variable name\n",
    "age = input(\"enter your age: \")\n",
    "\"Hello \" + name.capitalize() +\"! \"+ \"You're \" + age + \" years old.\""
   ]
  },
  {
   "cell_type": "markdown",
   "metadata": {},
   "source": [
    "\n",
    "### calculator"
   ]
  },
  {
   "cell_type": "code",
   "execution_count": null,
   "metadata": {},
   "outputs": [],
   "source": [
    "num1=input(\"Enter a number\")\n",
    "num2 = input(\"Enter another number\")\n",
    "result = float(num1)+float(num2)\n",
    "print(result)"
   ]
  },
  {
   "cell_type": "markdown",
   "metadata": {},
   "source": [
    "### mad libs"
   ]
  },
  {
   "cell_type": "code",
   "execution_count": null,
   "metadata": {},
   "outputs": [],
   "source": [
    "color = input(\"Enter a color\")\n",
    "pluralNoun= input(\"Enter a plural noun\")\n",
    "celebrity = input(\"Enter a celebrity\")\n",
    "\n",
    "print(\"Roses are \" + color)\n",
    "print(pluralNoun + \" are blue\")\n",
    "print(\"I love \" + celebrity)"
   ]
  },
  {
   "cell_type": "code",
   "execution_count": null,
   "metadata": {},
   "outputs": [],
   "source": [
    "first_name = input(\"Please enter your first name\")\n",
    "second_name = input(\"Please enter your second name\")\n",
    "print(\"Hello \" + first_name.capitalize() + \" \" + second_name.upper())"
   ]
  },
  {
   "cell_type": "markdown",
   "metadata": {},
   "source": [
    "#### Example: Write a code that asks the user a number between 1 and 10 and puts that number into the multiplication table."
   ]
  },
  {
   "cell_type": "code",
   "execution_count": null,
   "metadata": {},
   "outputs": [],
   "source": [
    "a = int(input(\"enter a number between 1 and 10\"))\n",
    "for i in range(1,11):\n",
    "    #print(a*i)\n",
    "    print(\"{}x{}= \".format(a,i), a*i)\n",
    "    #print(\"%dx%d= \"%(a,i))"
   ]
  },
  {
   "cell_type": "code",
   "execution_count": 2,
   "metadata": {},
   "outputs": [
    {
     "name": "stdout",
     "output_type": "stream",
     "text": [
      "namegurkan\n",
      "password1234\n"
     ]
    }
   ],
   "source": [
    "name = input(\"name\")\n",
    "password = int(input(\"password\"))\n",
    "def login(name, password):\n",
    "    if password ==1234 and name==\"gurkan\":\n",
    "        print(\"hello owny\")\n",
    "    else: print(\"wrong credentials\")    "
   ]
  },
  {
   "cell_type": "code",
   "execution_count": 3,
   "metadata": {},
   "outputs": [
    {
     "name": "stdout",
     "output_type": "stream",
     "text": [
      "wrong credentials\n"
     ]
    }
   ],
   "source": [
    "login(\"ahmet\", 1234)"
   ]
  },
  {
   "cell_type": "code",
   "execution_count": 4,
   "metadata": {},
   "outputs": [
    {
     "name": "stdout",
     "output_type": "stream",
     "text": [
      "hello owny\n"
     ]
    }
   ],
   "source": [
    "login(\"gurkan\", 1234)"
   ]
  },
  {
   "cell_type": "markdown",
   "metadata": {},
   "source": [
    "# bool() function "
   ]
  },
  {
   "cell_type": "markdown",
   "metadata": {},
   "source": [
    " fonksiyonun onun için kullanıyoruz. eğer kesişim kümesi boş değilse TRue boş ise False vermesi"
   ]
  },
  {
   "cell_type": "code",
   "execution_count": 42,
   "metadata": {},
   "outputs": [
    {
     "ename": "NameError",
     "evalue": "name 'setword' is not defined",
     "output_type": "error",
     "traceback": [
      "\u001b[1;31m---------------------------------------------------------------------------\u001b[0m",
      "\u001b[1;31mNameError\u001b[0m                                 Traceback (most recent call last)",
      "\u001b[1;32m<ipython-input-42-b024978e4082>\u001b[0m in \u001b[0;36m<module>\u001b[1;34m\u001b[0m\n\u001b[1;32m----> 1\u001b[1;33m \u001b[0mleft_bool\u001b[0m \u001b[1;33m=\u001b[0m \u001b[0mbool\u001b[0m\u001b[1;33m(\u001b[0m\u001b[0msetword\u001b[0m\u001b[1;33m.\u001b[0m\u001b[0mintersection\u001b[0m\u001b[1;33m(\u001b[0m\u001b[0msetleft\u001b[0m\u001b[1;33m)\u001b[0m\u001b[1;33m)\u001b[0m\u001b[1;33m\u001b[0m\u001b[1;33m\u001b[0m\u001b[0m\n\u001b[0m",
      "\u001b[1;31mNameError\u001b[0m: name 'setword' is not defined"
     ]
    }
   ],
   "source": [
    "left_bool = bool(setword.intersection(setleft))"
   ]
  },
  {
   "cell_type": "markdown",
   "metadata": {},
   "source": [
    "# map() Function"
   ]
  },
  {
   "cell_type": "markdown",
   "metadata": {},
   "source": [
    "`map()` returns a list of outputs after applying the function to each els of iterable."
   ]
  },
  {
   "cell_type": "markdown",
   "metadata": {},
   "source": [
    "The basic formula syntax is : `map(function, iterable)`"
   ]
  },
  {
   "cell_type": "code",
   "execution_count": 2,
   "metadata": {},
   "outputs": [
    {
     "data": {
      "text/plain": [
       "<map at 0x1e12f188048>"
      ]
     },
     "execution_count": 2,
     "metadata": {},
     "output_type": "execute_result"
    }
   ],
   "source": [
    "map((lambda x: x**2), range(5))"
   ]
  },
  {
   "cell_type": "code",
   "execution_count": 3,
   "metadata": {},
   "outputs": [
    {
     "data": {
      "text/plain": [
       "[0, 1, 4, 9, 16]"
      ]
     },
     "execution_count": 3,
     "metadata": {},
     "output_type": "execute_result"
    }
   ],
   "source": [
    "list(map(lambda x: x**2, range(5)))"
   ]
  },
  {
   "cell_type": "code",
   "execution_count": 4,
   "metadata": {},
   "outputs": [
    {
     "data": {
      "text/plain": [
       "['soupsoup', 'dogdog', 'saladsalad', 'catcat', 'greatgreat']"
      ]
     },
     "execution_count": 4,
     "metadata": {},
     "output_type": "execute_result"
    }
   ],
   "source": [
    "seq = ['soup','dog','salad','cat','great']\n",
    "list(map(lambda x: x*2, seq))"
   ]
  },
  {
   "cell_type": "code",
   "execution_count": 5,
   "metadata": {},
   "outputs": [
    {
     "data": {
      "text/plain": [
       "['soupsoup', 'dogdog', 'saladsalad', 'catcat', 'greatgreat']"
      ]
     },
     "execution_count": 5,
     "metadata": {},
     "output_type": "execute_result"
    }
   ],
   "source": [
    "def times2(var):\n",
    "    return var*2\n",
    "list(map(times2, seq))"
   ]
  },
  {
   "cell_type": "markdown",
   "metadata": {},
   "source": [
    "## Map, applies any function to iterables (list etc.)¶"
   ]
  },
  {
   "cell_type": "markdown",
   "metadata": {},
   "source": [
    "Example: square all the numbers in the list using `map()` and `lambda`."
   ]
  },
  {
   "cell_type": "code",
   "execution_count": null,
   "metadata": {},
   "outputs": [],
   "source": [
    "iterable = [1, 2, 3, 4, 5]\n",
    "map(lambda x:x**2, iterable)\n",
    "result = map(lambda x:x**2, iterable)\n",
    "print(type(result))  # it's a map type\n",
    "print(list(result))  # we've converted it to list type to print\n",
    "print(list(map(lambda x:x**2, iterable)))  # you can print directly\n"
   ]
  },
  {
   "cell_type": "markdown",
   "metadata": {},
   "source": [
    "# print() function"
   ]
  },
  {
   "cell_type": "markdown",
   "metadata": {},
   "source": [
    "`Docstring`"
   ]
  },
  {
   "cell_type": "code",
   "execution_count": 43,
   "metadata": {},
   "outputs": [
    {
     "name": "stdout",
     "output_type": "stream",
     "text": [
      "print(value, ..., sep=' ', end='\\n', file=sys.stdout, flush=False)\n",
      "\n",
      "Prints the values to a stream, or to sys.stdout by default.\n",
      "Optional keyword arguments:\n",
      "file:  a file-like object (stream); defaults to the current sys.stdout.\n",
      "sep:   string inserted between values, default a space.\n",
      "end:   string appended after the last value, default a newline.\n",
      "flush: whether to forcibly flush the stream.\n"
     ]
    }
   ],
   "source": [
    "print(print.__doc__)"
   ]
  },
  {
   "cell_type": "markdown",
   "metadata": {},
   "source": [
    "`print()` function is most frequently used function. (constant changes and see the results)."
   ]
  },
  {
   "cell_type": "markdown",
   "metadata": {},
   "source": [
    "One expression in parentheses separated by 👉 comma (,)"
   ]
  },
  {
   "cell_type": "code",
   "execution_count": 8,
   "metadata": {},
   "outputs": [
    {
     "name": "stdout",
     "output_type": "stream",
     "text": [
      "Yesterday I ate 2 apples.\n"
     ]
    }
   ],
   "source": [
    "print(\"Yesterday I ate\", 2, \"apples.\")"
   ]
  },
  {
   "cell_type": "markdown",
   "metadata": {},
   "source": [
    "## Kwargs"
   ]
  },
  {
   "cell_type": "markdown",
   "metadata": {},
   "source": [
    "Kwargs run in the background of the `print()` function. "
   ]
  },
  {
   "cell_type": "markdown",
   "metadata": {},
   "source": [
    "print(value, ..., `sep`=' ', `end`='\\n', file=sys.stdout, `flush`=False)"
   ]
  },
  {
   "cell_type": "markdown",
   "metadata": {},
   "source": [
    "`sep` = \" \" : More than one expression - are joined to each other by spaces(default). If you put \",\" then joined by commas."
   ]
  },
  {
   "cell_type": "code",
   "execution_count": 9,
   "metadata": {},
   "outputs": [
    {
     "name": "stdout",
     "output_type": "stream",
     "text": [
      "Yesterday I ate*2*apples.\n"
     ]
    }
   ],
   "source": [
    "print(\"Yesterday I ate\", 2, \"apples.\", sep = \"*\")"
   ]
  },
  {
   "cell_type": "markdown",
   "metadata": {},
   "source": [
    "`end` = command combined all expressions with space in a single line. "
   ]
  },
  {
   "cell_type": "code",
   "execution_count": null,
   "metadata": {},
   "outputs": [],
   "source": [
    "If we didn't use end=' ', we would normally get 4 lines of output."
   ]
  },
  {
   "cell_type": "markdown",
   "metadata": {},
   "source": [
    "`print()` function by default `prints in new line`. `End argument` manages that. Ex: Continue same line if end=\"\"."
   ]
  },
  {
   "cell_type": "code",
   "execution_count": 11,
   "metadata": {},
   "outputs": [
    {
     "name": "stdout",
     "output_type": "stream",
     "text": [
      "i\n",
      "will say\n",
      "'i missed you'\n",
      "to my mother\n"
     ]
    }
   ],
   "source": [
    "print('i')\n",
    "print('will say')\n",
    "print(\"'i missed you'\")\n",
    "print('to my mother') "
   ]
  },
  {
   "cell_type": "code",
   "execution_count": 10,
   "metadata": {},
   "outputs": [
    {
     "name": "stdout",
     "output_type": "stream",
     "text": [
      "i will say 'i missed you' to my mother\n"
     ]
    }
   ],
   "source": [
    "print('i', end=' ')\n",
    "print('will say', end=' ')\n",
    "print(\"'i missed you'\", end=' ')\n",
    "print('to my mother') "
   ]
  },
  {
   "cell_type": "markdown",
   "metadata": {},
   "source": [
    "# range() function"
   ]
  },
  {
   "cell_type": "markdown",
   "metadata": {},
   "source": [
    "Return an object that produces a sequence of integers from start (inclusive) to stop (exclusive) by step."
   ]
  },
  {
   "cell_type": "code",
   "execution_count": 12,
   "metadata": {},
   "outputs": [
    {
     "data": {
      "text/plain": [
       "range(0, 11)"
      ]
     },
     "execution_count": 12,
     "metadata": {},
     "output_type": "execute_result"
    }
   ],
   "source": [
    "range(0,11)"
   ]
  },
  {
   "cell_type": "code",
   "execution_count": 13,
   "metadata": {},
   "outputs": [
    {
     "data": {
      "text/plain": [
       "range"
      ]
     },
     "execution_count": 13,
     "metadata": {},
     "output_type": "execute_result"
    }
   ],
   "source": [
    "type(range(0,11))"
   ]
  },
  {
   "cell_type": "markdown",
   "metadata": {},
   "source": [
    "One way to create iterable sequence of numbers. This can be simply converted into an iterable object: list, set, and tuple."
   ]
  },
  {
   "cell_type": "code",
   "execution_count": 16,
   "metadata": {},
   "outputs": [
    {
     "data": {
      "text/plain": [
       "[5, 6, 7, 8, 9, 10]"
      ]
     },
     "execution_count": 16,
     "metadata": {},
     "output_type": "execute_result"
    }
   ],
   "source": [
    "list(range(5, 11))"
   ]
  },
  {
   "cell_type": "code",
   "execution_count": 17,
   "metadata": {},
   "outputs": [
    {
     "data": {
      "text/plain": [
       "{0, 1, 2, 3, 4, 5, 6, 7, 8, 9, 10}"
      ]
     },
     "execution_count": 17,
     "metadata": {},
     "output_type": "execute_result"
    }
   ],
   "source": [
    "set(range(0,11))"
   ]
  },
  {
   "cell_type": "code",
   "execution_count": 18,
   "metadata": {},
   "outputs": [
    {
     "data": {
      "text/plain": [
       "(0, 1, 2, 3, 4, 5, 6, 7, 8, 9, 10)"
      ]
     },
     "execution_count": 18,
     "metadata": {},
     "output_type": "execute_result"
    }
   ],
   "source": [
    "tuple(range(11))"
   ]
  },
  {
   "cell_type": "markdown",
   "metadata": {},
   "source": [
    "**The formula syntax**: `range`(`start`, `stop`, `step`)"
   ]
  },
  {
   "cell_type": "code",
   "execution_count": 19,
   "metadata": {},
   "outputs": [
    {
     "data": {
      "text/plain": [
       "[1, 11, 21]"
      ]
     },
     "execution_count": 19,
     "metadata": {},
     "output_type": "execute_result"
    }
   ],
   "source": [
    "list(range(1,30,10))"
   ]
  },
  {
   "cell_type": "code",
   "execution_count": 20,
   "metadata": {},
   "outputs": [
    {
     "data": {
      "text/plain": [
       "[30, 27, 24, 21, 18, 15, 12, 9, 6]"
      ]
     },
     "execution_count": 20,
     "metadata": {},
     "output_type": "execute_result"
    }
   ],
   "source": [
    "list(range(30,3, -3))"
   ]
  },
  {
   "cell_type": "markdown",
   "metadata": {},
   "source": [
    "`Starred expression` 👉🏻* before range() function to separate its elements."
   ]
  },
  {
   "cell_type": "code",
   "execution_count": 21,
   "metadata": {},
   "outputs": [
    {
     "data": {
      "text/plain": [
       "range(0, 5)"
      ]
     },
     "execution_count": 21,
     "metadata": {},
     "output_type": "execute_result"
    }
   ],
   "source": [
    "range(5)"
   ]
  },
  {
   "cell_type": "code",
   "execution_count": 22,
   "metadata": {},
   "outputs": [
    {
     "name": "stdout",
     "output_type": "stream",
     "text": [
      "range(0, 5)\n"
     ]
    }
   ],
   "source": [
    "print(range(5))"
   ]
  },
  {
   "cell_type": "code",
   "execution_count": 24,
   "metadata": {},
   "outputs": [
    {
     "name": "stdout",
     "output_type": "stream",
     "text": [
      "0 1 2 3 4\n"
     ]
    }
   ],
   "source": [
    "print(*range(5))"
   ]
  },
  {
   "cell_type": "code",
   "execution_count": 25,
   "metadata": {},
   "outputs": [
    {
     "name": "stdout",
     "output_type": "stream",
     "text": [
      "5 7 9 11 13 15 17 19 21 23\n"
     ]
    }
   ],
   "source": [
    "print(*range(5,25,2))"
   ]
  },
  {
   "cell_type": "markdown",
   "metadata": {},
   "source": [
    "`Starred expression`: separates other iterable objects. For example, you can separate a string:"
   ]
  },
  {
   "cell_type": "code",
   "execution_count": 26,
   "metadata": {},
   "outputs": [
    {
     "name": "stdout",
     "output_type": "stream",
     "text": [
      "s e p a r a t e\n"
     ]
    }
   ],
   "source": [
    "print(*(\"separate\"))"
   ]
  },
  {
   "cell_type": "code",
   "execution_count": 31,
   "metadata": {},
   "outputs": [
    {
     "name": "stdout",
     "output_type": "stream",
     "text": [
      "1\n",
      "2\n",
      "3\n",
      "4\n"
     ]
    }
   ],
   "source": [
    "seq = range(1,5)\n",
    "for i in seq:\n",
    "    print(i)"
   ]
  },
  {
   "cell_type": "code",
   "execution_count": 32,
   "metadata": {},
   "outputs": [
    {
     "data": {
      "text/plain": [
       "range(3, 12)"
      ]
     },
     "execution_count": 32,
     "metadata": {},
     "output_type": "execute_result"
    }
   ],
   "source": [
    "range(3,12)"
   ]
  },
  {
   "cell_type": "code",
   "execution_count": 34,
   "metadata": {},
   "outputs": [
    {
     "name": "stdout",
     "output_type": "stream",
     "text": [
      "3\n",
      "4\n",
      "5\n",
      "6\n",
      "7\n",
      "8\n",
      "9\n",
      "10\n",
      "11\n"
     ]
    }
   ],
   "source": [
    "for i in range(3,12):\n",
    "    print (i)"
   ]
  },
  {
   "cell_type": "code",
   "execution_count": 35,
   "metadata": {},
   "outputs": [
    {
     "name": "stdout",
     "output_type": "stream",
     "text": [
      "How many times should I say 'I love you'3\n",
      "I love you\n",
      "I love you\n",
      "I love you\n"
     ]
    }
   ],
   "source": [
    "times = int(input(\"How many times should I say 'I love you'\"))\n",
    "for i in range(times):\n",
    "    print('I love you')"
   ]
  },
  {
   "cell_type": "code",
   "execution_count": 36,
   "metadata": {},
   "outputs": [
    {
     "name": "stdout",
     "output_type": "stream",
     "text": [
      "0\n",
      "1\n",
      "2\n",
      "3\n",
      "4\n",
      "5\n",
      "6\n",
      "7\n",
      "8\n",
      "9\n"
     ]
    }
   ],
   "source": [
    "for num in range(10):\n",
    "    print(num)#stop number is excluded."
   ]
  },
  {
   "cell_type": "code",
   "execution_count": 37,
   "metadata": {},
   "outputs": [
    {
     "name": "stdout",
     "output_type": "stream",
     "text": [
      "[0, 1, 2, 3, 4, 5, 6, 7, 8, 9]\n"
     ]
    }
   ],
   "source": [
    "x = list(range(10))\n",
    "print (x)"
   ]
  },
  {
   "cell_type": "code",
   "execution_count": 38,
   "metadata": {},
   "outputs": [
    {
     "data": {
      "text/plain": [
       "7"
      ]
     },
     "execution_count": 38,
     "metadata": {},
     "output_type": "execute_result"
    }
   ],
   "source": [
    "friends = [\"Mark\", \"Shawn\", \"Sarah\", \"Mike\", \"Robert\", \"John\", \"Stewart\"]\n",
    "len(friends)"
   ]
  },
  {
   "cell_type": "markdown",
   "metadata": {},
   "source": [
    "Example: make a list of numbers from 1 to 10 using 'range()' function and select even ones:"
   ]
  },
  {
   "cell_type": "code",
   "execution_count": 39,
   "metadata": {},
   "outputs": [
    {
     "name": "stdout",
     "output_type": "stream",
     "text": [
      "[1, 3, 5, 7, 9]\n",
      "[2, 4, 6, 8, 10]\n"
     ]
    }
   ],
   "source": [
    "odd = []\n",
    "even= []\n",
    "for i in list(range(1,11)):\n",
    "    if i %2==0:\n",
    "        even.append(i)\n",
    "    else: odd.append(i)\n",
    "print(odd)\n",
    "print(even)"
   ]
  },
  {
   "cell_type": "code",
   "execution_count": 40,
   "metadata": {},
   "outputs": [
    {
     "name": "stdout",
     "output_type": "stream",
     "text": [
      "[1, 2, 3, 4, 5, 6, 7, 8, 9, 10]\n",
      "[2, 4, 6, 8, 10]\n"
     ]
    }
   ],
   "source": [
    "count = list(range(1,11))\n",
    "print(count)\n",
    "print(count[1:11:2])\n"
   ]
  },
  {
   "cell_type": "code",
   "execution_count": 41,
   "metadata": {},
   "outputs": [
    {
     "data": {
      "text/plain": [
       "[2, 4, 6, 8, 10]"
      ]
     },
     "execution_count": 41,
     "metadata": {},
     "output_type": "execute_result"
    }
   ],
   "source": [
    "list(range(2,11,2))"
   ]
  },
  {
   "cell_type": "code",
   "execution_count": null,
   "metadata": {},
   "outputs": [],
   "source": []
  }
 ],
 "metadata": {
  "kernelspec": {
   "display_name": "Python 3",
   "language": "python",
   "name": "python3"
  },
  "language_info": {
   "codemirror_mode": {
    "name": "ipython",
    "version": 3
   },
   "file_extension": ".py",
   "mimetype": "text/x-python",
   "name": "python",
   "nbconvert_exporter": "python",
   "pygments_lexer": "ipython3",
   "version": "3.7.6"
  }
 },
 "nbformat": 4,
 "nbformat_minor": 4
}
