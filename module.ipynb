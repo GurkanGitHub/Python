{
 "cells": [
  {
   "cell_type": "markdown",
   "metadata": {},
   "source": [
    "# Fundementals of Module"
   ]
  },
  {
   "cell_type": "markdown",
   "metadata": {},
   "source": [
    "## Scripts and modules"
   ]
  },
  {
   "cell_type": "raw",
   "metadata": {},
   "source": [
    "• identical structures in terms of creation. \n",
    "• files with a .py extension: contains Pcodes, statements, ops and functions."
   ]
  },
  {
   "cell_type": "markdown",
   "metadata": {},
   "source": [
    "💡Tips : Difference between these two terms depends on how and for what purpose you use this file with .py extension. "
   ]
  },
  {
   "cell_type": "markdown",
   "metadata": {},
   "source": [
    "### What is Script? "
   ]
  },
  {
   "cell_type": "code",
   "execution_count": null,
   "metadata": {},
   "outputs": [],
   "source": [
    "• Yazdığınız (örneğin notepad'de) payton dosyaları script'tir. \n",
    "• Her script bir modül olarak da kullanılır. \n",
    "• Modül olarak kullanılırsa import edilmelidir. Yani, isimlendirme kullanış amacına göre değişir. "
   ]
  },
  {
   "cell_type": "raw",
   "metadata": {},
   "source": [
    "• While working on simple projects, you type and run Pcodes directly into interpreter. \n",
    "• Good to save them in a file. Later when you need to work with them within a text editor you can easily access them. \n",
    "• So every time you quit from the Pinterpreter and enter again you won't lose codes.\n",
    "• This option will be vital to you, especially when working with programs with long blocks of code. \n",
    "• The file you created consisting of codes, definitions and a list of operations that can be read, edited and interpreted in the future is known as script."
   ]
  },
  {
   "cell_type": "markdown",
   "metadata": {},
   "source": [
    "### What is Module?"
   ]
  },
  {
   "cell_type": "raw",
   "metadata": {},
   "source": [
    "As program gets longer you may:\n",
    "• split it into several files for easier maintenance. \n",
    "• use a handy function that you’ve written in several programs without copying its definition into each program. "
   ]
  },
  {
   "cell_type": "raw",
   "metadata": {},
   "source": [
    "To support this, Python has a way to put definitions in a file and use them in a script or in an interactive instance of interpreter. Such file is called module.\n",
    "You may use function that you type before or reuse codes someone else wrote. \n",
    "You can copy code you have already written and paste it into another program. \n",
    "But this is not a good solution. Because as code blocks increase, the structure and readability of program will deteriorate. \n",
    "Python's solution is modules (user-friendly pl).\n",
    "These simple files, usually with a .py extension and containing Pstatements are called modules. \n",
    "The ability to import one module from another is a unique feature that reduces our programming processes, and that is what makes the Module system really powerful. "
   ]
  },
  {
   "cell_type": "markdown",
   "metadata": {},
   "source": [
    "`What is module`: a python file with functions, classes and other components. "
   ]
  },
  {
   "cell_type": "raw",
   "metadata": {},
   "source": [
    "What are python modules? \n",
    "    Pmodules are files containing Pcode. \n",
    "    This code can either be functions classes or variables. \n",
    "    A Pmodule is a .py file containing executable code. \n",
    "Some of the commonly used built in modules: os, sys, math, random, datetime."
   ]
  },
  {
   "cell_type": "markdown",
   "metadata": {},
   "source": [
    "`Why use modules`: break code down into reusable structures. Helps readibility"
   ]
  },
  {
   "cell_type": "raw",
   "metadata": {},
   "source": [
    "💡Tips :\n",
    "• If you open and use this file (with a .py extension) directly, that is script, and\n",
    "• If you load (import) this file (with a .py extension) and call any function from it, that's a module this time."
   ]
  },
  {
   "cell_type": "markdown",
   "metadata": {},
   "source": [
    "Simply, a module is a file consisting of Python code. "
   ]
  },
  {
   "cell_type": "markdown",
   "metadata": {},
   "source": [
    "A module can define functions, classes, and variables. A module can also include runnable code. "
   ]
  },
  {
   "cell_type": "markdown",
   "metadata": {},
   "source": [
    "## How to Load a Module?"
   ]
  },
  {
   "cell_type": "markdown",
   "metadata": {},
   "source": [
    "Use keyword `import` and the `name of the module`. "
   ]
  },
  {
   "cell_type": "markdown",
   "metadata": {},
   "source": [
    "`The formula syntax` is : `import` `module_name`"
   ]
  },
  {
   "cell_type": "code",
   "execution_count": null,
   "metadata": {},
   "outputs": [],
   "source": [
    "import my_module  # we've loaded my_module\n",
    "my_module.my_function()  # we've called a function defined in my_module\n",
    "print(my_module.my_variable)  # we've accessed a variable defined in my_module"
   ]
  },
  {
   "cell_type": "raw",
   "metadata": {},
   "source": [
    "• my_module is the name of the module we imported. \n",
    "• When loading a module you can also use an abbreviated nickname for modules by using a keyword as. \n",
    "• Let's give a nickname to my_module to load it :"
   ]
  },
  {
   "cell_type": "code",
   "execution_count": null,
   "metadata": {},
   "outputs": [],
   "source": [
    "import my_module as mym # loads my_module, we give a nickname to it\n",
    "mym.my_function()  # we can use it the same way\n",
    "print(mym.my_variable)  "
   ]
  },
  {
   "cell_type": "code",
   "execution_count": null,
   "metadata": {},
   "outputs": [],
   "source": [
    "• mym stands for the module my_module. \n",
    "• For instance, imagine a file called my_module.py named my_module. \n",
    "• And for being importable, this file should be placed in the same directory as the file you are working on."
   ]
  },
  {
   "cell_type": "code",
   "execution_count": null,
   "metadata": {},
   "outputs": [],
   "source": [
    "Initially, the Pimporting mechanism searches for a module in the current directory, then the built-in modules are inspected and an error will be raised if nothing is found. \n",
    "The module becomes available under its name or alias after importing and you can use the dot notation to access the functions and variables defined in it.\n",
    "Importing a function or variable defined in a module is a very common and useful method. We use the keyword from to use this option. Let's see how it works :"
   ]
  },
  {
   "cell_type": "code",
   "execution_count": null,
   "metadata": {},
   "outputs": [],
   "source": [
    "from my_module import my_function  \n",
    "my_function() "
   ]
  },
  {
   "cell_type": "raw",
   "metadata": {},
   "source": [
    "💡Tips:  Note that in the example above, we imported only my_function. \n",
    "        So if we try to use this syntax : my_module.my_function an error will be raise."
   ]
  },
  {
   "cell_type": "markdown",
   "metadata": {},
   "source": [
    "You can also use keyword as here the same way as well. Consider this example :"
   ]
  },
  {
   "cell_type": "code",
   "execution_count": null,
   "metadata": {},
   "outputs": [],
   "source": [
    "from my_module import my_function as mfnc\n",
    "mfnc()  # we use the my_function's alias directly"
   ]
  },
  {
   "cell_type": "code",
   "execution_count": null,
   "metadata": {},
   "outputs": [],
   "source": [
    "It is traditionally best to type each import syntax in separate lines and put them all at the beginning of the current module. "
   ]
  },
  {
   "cell_type": "code",
   "execution_count": null,
   "metadata": {},
   "outputs": [],
   "source": [
    "import module_1\n",
    "import module_2\n",
    "import module_3\n",
    "# The code stream of the current module starts here"
   ]
  },
  {
   "cell_type": "raw",
   "metadata": {},
   "source": [
    "Q: How to import modules in Python?\n",
    "A: Modules can be imported using the import keyword. You can import modules in three ways. Example:\n",
    "import array           # importing using the original module name\n",
    "import array as arr    # importing using an alias name\n",
    "from array import *    # imports everything present in the array module  "
   ]
  },
  {
   "cell_type": "markdown",
   "metadata": {},
   "source": [
    "## Creating and Working with Modules"
   ]
  },
  {
   "cell_type": "code",
   "execution_count": null,
   "metadata": {},
   "outputs": [],
   "source": [
    "○ Scripts & Modules Initialization\n",
    "\t\n",
    "\t\tØ If you're using an advanced IDLE, such as Jupyter Notebook/Lab, scripts and the modules are more or less are the same. These applications have a user-friendly menu on such issues.\n",
    "\t\t\n",
    "\t\t💡Tips: In Jupyter Lab/Notebook, you will always work with files with a .ipynb extension.\n",
    "\t\t\n",
    "\t\tØ Interactive lesson to learn them in detail.\n",
    "\t\n",
    "\tWorking with the Modules (Optional)\n",
    "\tActing of a Module as a Script\n",
    "\tIn accordance with the previous lesson, during working with modules and scripts you should have noticed that when you load (Only when you first import) the module with the keyword import, the outputs of all the operations typed in it is displayed collectively. Take a look at this image again :\n"
   ]
  },
  {
   "cell_type": "raw",
   "metadata": {},
   "source": [
    "\tAs you see, when you want to import this file as a module, it acts as a script for the first importing, which is undesirable. It is not normal for a module to generate output when imported. Then why it happens?\n",
    "\tWell. As a Pythonic rule, when the file you created with .py extension is imported as a module, Python sets the specific variable __name__ to the name of the module. But, if the file is run as a script, variable __name__ is set to the string value of \"__main__\". So, using this Pythonic rule, we can fix this issue.\n",
    "\t__name__, \"__main__\" Method\n",
    "\tIf we collect the output-generating statements which are in our module under if __name__ == \"__main__\" : statement we will solve the problem. Let's do it and see what will happen :\n",
    "\t\n",
    "\thello.py :\n",
    "\t\n",
    "\t\"\"\" this is my first module & script \"\"\"\n",
    "\tdef my_func1(x):\n",
    "\treturn print(x**2)\n",
    "\tdef my_func2(y):\n",
    "\treturn print(*y)\n",
    "\tif __name__ == '__main__':  # output-generating \n",
    "\t    statements are here\n",
    "\tprint('hello') \n",
    "\tmy_func1(3)\n",
    "\tmy_func2(\"clarusway\")\n",
    "\t\n",
    "\tLet's run it on the Command Prompt (console) as a script :\n",
    "\t\n",
    "\tLet's run it on the Command Prompt (console) as a module :\n",
    "\t\n",
    "\tWe've solved this issue that when we import the module to use it, there is no undesired output anymore.\n",
    "\t\n",
    "\tFrom <https://lms.clarusway.com/mod/lesson/view.php?id=908&pageid=1589> \n",
    "\t\n",
    "\t\n",
    "\t\n",
    "\tScripts & Modules Creation\n",
    "\t\n",
    "\tThe interactive lesson about how we create, set and work with scripts and modules. By clicking the 'i' hotspot buttons on the image you can see the content.\n",
    "\t\n",
    "\tFrom <https://lms.clarusway.com/mod/hvp/view.php?id=910> \n",
    "\t\n",
    "\t\n",
    "\t\n",
    "\tPython 3.8.0 Shell (IDLE)\n",
    "\tThis editor is Python 3.8.0 Shell which interprets and runs your codes.\n",
    "\t\n",
    "\tFrom <https://lms.clarusway.com/mod/hvp/view.php?id=910> \n",
    "\t\n",
    "\tClosing & Reopening the Python Shell (IDLE)\n",
    "\tWhen you close and reopen the shell, all codes, definitions, and expressions are lost.\n",
    "\t\n",
    "\tFrom <https://lms.clarusway.com/mod/hvp/view.php?id=910> \n",
    "\t\n",
    "\tCreating Module&Script\n",
    "\t\t• You can start to create a module&script by opening a 'New File' on Python Shell or another simple text editor (i.e. Notepad for Windows).\n",
    "\t\t• Simply type your codes, statements, functions, and definitions on one of these editors then save it (with a .py extension) into the directory in which Python 3.8 installed. Then your module & script is ready now!\n",
    "\t\n",
    "\t\n",
    "\tFrom <https://lms.clarusway.com/mod/hvp/view.php?id=910> \n",
    "\t\n",
    "\tTyped Script & Modules\n",
    "\t\t• Now we have a simple module & script which contains several statements and two functions.\n",
    "\t\t• We have two identical files (named 'hello.py' and 'hello.1.py') which contain completely the same codes.\n",
    "\t\n",
    "\t\n",
    "\tFrom <https://lms.clarusway.com/mod/hvp/view.php?id=910> \n",
    "\t\n",
    "\tRunning the File as a Script\n",
    "\t\t• Let's run 'hello.py' file directly by clicking on 'run' button on the file editor so that we use it as a script.\n",
    "\t\t• We can also run the script using the console (Command Prompt on Windows).\n",
    "\t\n",
    "\t• Embed\n",
    "\t\n",
    "\t\n",
    "\tFrom <https://lms.clarusway.com/mod/hvp/view.php?id=910> \n",
    "\t\n",
    "\tRunning the File as a Module\n",
    "\t\t• Now we'll use the 'hello.py' file as a module.\n",
    "\t\t• First, we import the 'hello'\n",
    "\t\t• Then we can use its functions. Examine the images below.\n",
    "\t\n",
    "\t\n",
    "\tFrom <https://lms.clarusway.com/mod/hvp/view.php?id=910> \n",
    "\t\n",
    "• Packages\n",
    "\n",
    "\t○ A package is really just a published collection of modules. How do I know what's available, what others wrote?: through experience and use. Python Package Index, go and search. Internet is super to see first. \n",
    "\t○ Best code in the world is the code that's already written.\n",
    "\t○ To install packages use pip. Pip is the command line installer.\n",
    "\t\t• pip install coloram # install an individual package\n",
    "\t\t• pip install -r requirements.txt # install from a list of packages\n",
    "\t\t• colorama # requirements.txt\n",
    "\t\n",
    "\t○ Package Initialization\n",
    "\t\n",
    "\t\tØ Packages are a way of structuring Python’s module namespace by using “dotted module names”.\n",
    "\t\t\n",
    "\t\tØ Imagine designing a very large project with many modules. As the number of modules you work on and create increases, it becomes difficult to follow and use them. \n",
    "\t\t\n",
    "\t\tØ In order to make the modules more systematically organized, we can use packages.\n",
    "\t\n",
    "\t\tØ Basic structure of the package system:\n",
    "\t\n",
    "\t\tearth/                                              # Top-level package\n",
    "\t\t\t\n",
    "\t\t\t__init__.py                            # Initialize the earth package\n",
    "\t\t\t\n",
    "\t\t\tasia/                                       # Subpackage for file asia\n",
    "\t\t\t\t\t__init__.py\n",
    "\t\t\t\t\tjapan.py\n",
    "\t\t\t\t\tmongolia.py       # A module under a subpackage\n",
    "\t\t\t\t\tpakistan.py\n",
    "\t\t\t\t\ttaiwan.py\n",
    "\t\t\t\t\t...\n",
    "\t\t\t\n",
    "\t\t\teurope/                                 # Subpackage for file europe\n",
    "\t\t\t\t\t__init__.py\n",
    "\t\t\t\t\tgermany.py        # A module under a subpackage\n",
    "\t\t\t\t\tengland.py\n",
    "\t\t\t\t\tturkey.py\n",
    "\t\t\t\t\tkosovo.py\n",
    "\t\t\t\t\t...\n",
    "\t\t\tamerica/                              # Subpackage for file america\n",
    "\t\t\t\t\t__init__.py\n",
    "\t\t\t\t\tcanada.py\n",
    "\t\t\t\t\tustates.py\n",
    "\t\t\t\t\tmexico.py\n",
    "\t\t\t\t\tperu.py               # A module under a subpackage\n",
    "\t\t\t\t\t...\n",
    "\t\tØ The hierarchical model of dot notation used to access and work with a module works as follows. The importing syntax which shows the entire hierarchy is so-called absolute importing. It looks like :\n",
    "\t\n",
    "\t\timport earth.europe.kosovo # importing with naming p, sp, m\n",
    "\t\tearth.europe.kosovo.a_function()  # we want to access function defined in kosovo m\n",
    "\t\t\n",
    "\t\t\n",
    "\t\tfrom earth import europe.kosovo  # importing with naming sp and m (p inmedi)\n",
    "\t\teurope.kosovo.a_function()  # we want to access a function defined in kosovo modu\n",
    "\t\t\n",
    "\t\t\n",
    "\t\tfrom earth.europe import kosovo  # importing without naming package and subpack\n",
    "\t\tkosovo.a_function()  # we want to access a function defined in kosovo module\n",
    "\t\n",
    "\t\n",
    "\t\tfrom earth.europe.kosovo import a_function  # importing without any naming\n",
    "\t\ta_function()  # we use directly the function's name\n"
   ]
  },
  {
   "cell_type": "code",
   "execution_count": null,
   "metadata": {},
   "outputs": [],
   "source": [
    "💡Tips: Style you use depends on your needs. But the key point is readability!"
   ]
  },
  {
   "cell_type": "raw",
   "metadata": {},
   "source": [
    "\t\t⚠️Don't forget: For Python to recognize the folders you created as packages / subpackages, you need to create an empty file named __init__.py in both the package and subpackage folders. They are usually empty, but may contain some initialization code of the package.\n",
    "\t\n",
    "\t\tØ When you need to reorganize your modules with the packaging system, you need to create package/subpackage folders in the directory where Python is installed. Of course, keep in mind that you have to put a file named __init__.py in the folders you will create.\n",
    "\t\n",
    "\t\t💡Tips:\n",
    "\t\t\t§ Note that when using from package import item, the item can be either a submodule (or subpackage) of the package, or some other name defined in the package, like a function, class or variable.\n",
    "\t\t\t§ The import statement first tests whether the item is defined in the package; if not, it assumes it is a module and attempts to load it. If it fails to find it, an ImportError exception is raised.\n",
    "\t\n",
    "\t\tØ Let's take a look at an interactive lesson to learn them in detail... Note : When you have finished this interactive lesson, close the opened window and return to this page to proceed.\n",
    "\t\n",
    "\t\n",
    "\t\tQ: What is module and package in Python?\n",
    "\t\tA: In Python, module is the way to structure the program. Each Python program file is a module, which imports other modules like objects and attributes. The folder of Python program is a package of modules. A package can have modules or subfolders.\n",
    "\t\t\n",
    "\t\t- Interview Q&A\n",
    "\t\n",
    "\t○ Importing * From a Package (Optional)\n",
    "\t\n",
    "\t\tØ There is another and practical way to import packages / sps / modules. \n",
    "\t\t\n",
    "\t\tØ Method: from package.subpackage import * . Syntax import all modules that sp has.\n",
    "\t\t\n",
    "\t\tØ Although this way of importing all content is not a highly preferred method, when you add __all__ = [list of content] statement into the __init__.py file, you can display the sps/modules under package / sp in a list without any mess.\n",
    "\t\n",
    "\t\tØ Well, how we do that? Take a look at the following images and explanations : In order to display the list of subpackages/modules inside the package, we must add the following syntax into the __init__.py files:\n",
    "\t\n",
    "\t\tFor the package : __all__ = ['subpackage1', 'subpackage2']\n",
    "\t\tFor the subpackage : __all__ = ['module1', 'module2']\n",
    "\t\tLet's see the creation of these __init__.py files below :\n"
   ]
  },
  {
   "cell_type": "code",
   "execution_count": null,
   "metadata": {},
   "outputs": [],
   "source": [
    "\t\tThis image shows that when you type a dot immediately after the package name, the list of subpackages appears on the IDLE.\n",
    "\t\t\n",
    "\t\t\n",
    "\t\n",
    "\t\tAnd the next image shows that when you type a dot immediately after the subpackage name, the list of modules appears on the IDLE.\n",
    "\t\t\n",
    "\t\t\n",
    "\t\n",
    "\t\n",
    "\t○ Working with Inter & Intra-Packages/Subpackages\n",
    "\t\n",
    "\t\tØ P: user-friendliness: If you need to work with a another module defined in current or another sp, you can import it into the current module file. \n",
    "\t\n",
    "\t\tØ For example: while you're working on earth.europe.germany in germany.py file, you can import and use module 'japan' from subpackage asia by using a similar syntax : from earth.asia import japan. We've stated before that this kind of syntax is so-called absolute importing. But there is another simple way to do the same thing. This style of syntax is so-called relative imports.\n",
    "\t\n",
    "\t\tØ You can write relative imports, with the from module import name form of the import statement. These imports use leading dots to indicate the current and parent packages involved in the relative import. Let's see how it works for the module japan :\n",
    "\t\n",
    "\t\tfrom . import mongolia  # one dot means addressing to a current package/sp\n",
    "\t\tfrom .. import europe  # two dots mean addressing to a parent package/sp\n",
    "\t\tfrom ..europe import kosovo  # sp name comes immediately after two dots\n",
    "\t\n",
    "\t\tØ The modified germany.py file is below. We're importing and using module japan inside the germany.py file :\n",
    "\t\n",
    "\t\t\"\"\" this is my first module & script \"\"\"\n",
    "\t\tdef my_func1(x):\n",
    "\t\treturn print(x**2)\n",
    "\t\tdef my_func2(y):\n",
    "\t\treturn print(*y)\n",
    "\t\tfrom ..asia import japan  # we've added importing \n",
    "\t\t    syntax using two dots\n",
    "\t\tjapan.my_func1(6)         # and the name of parent \n",
    "\t\t    subpackage (asia)\n",
    "\t\tif __name__ == '__main__':\n",
    "\t\tprint('hello') \n",
    "\t\tmy_func1(3)\n",
    "\t\tmy_func2(\"clarusway\")\n",
    "\t\n",
    "\t⚠️Avoid:\n",
    "\t\t• Using the syntax from name import * is usually considered bad practice.\n",
    "\t\t• While working on Python codes, keep this in your mind : Readability counts!\n",
    "\t\n",
    "\t\tØ When we import the module germany, we can see the result like:\n",
    "\t\t\n",
    "import earth.europe.germany-->36\n",
    "\t\n",
    "\t💡Tips:\n",
    "\t\t• Absolute imports syntax are preferred, as they are usually more readable.\n",
    "\t\t• When dealing with very complex and sophisticated packages, it is preferable to use relative imports syntax, since using absolute imports will result in unnecessary redundancy.\n",
    "\t\n",
    "\t○ pip - The Package Manager for Python\n",
    "\tPip Installs Packages\n",
    "\t\n",
    "\t\tØ What is pip?\n",
    "\t\n",
    "\t\t\t• pip is a package-management system written in Python used to install and manage software packages.It connects to an online repository of public packages, called the Python Package Index. pip can also be configured to connect to other package repositories (local or remote), provided that they comply to Python Enhancement Proposal 503.\n",
    "\t\t\t• Most distributions of Python come with pip preinstalled. Python 2.7.9 and later (on the python2 series), and Python 3.4 and later include pip (pip3 for Python 3) by default.\n",
    "\t\t\t• First introduced as pyinstall in 2008 by Ian Bicking (the creator of the virtualenv package) as an alternative to easy_install, pip was chosen as the new name from one of several suggestions that the creator received on his blog post.\n",
    "\t\t\t• According to Bicking himself, the name is a recursive acronym for \"Pip Installs Packages\".In 2011, the Python Packaging Authority (PyPA) was created to take over the maintenance of pip and virtualenv from Bicking, led by Carl Meyer, Brian Rosner, and Jannis Leidel.\n",
    "\t\t\t• With the release of pip version 6.0 (2014-12-22), the version naming process was changed to have version in X.Y format and drop the preceding 1 from the version label.\n",
    "\t\t\t\n",
    "\t\t\t• After you develop yourself in the Python programming, you will start to take part in more professional projects. Over time you will see that you will have to benefit from the packages in almost all of your programs. This rich package library is one of the factors that make Python programming language powerful.\n",
    "\t\t\t\n",
    "\t\t\t• In fact, the package library we're talking about here isn't built-in and you need to install it externally. That's where the pip comes in. pip which is also a preinstalled program in Python is the standard package manager for Python. It allows you to install/uninstall, and manage additional packages that are not part of the Python standard modules. The acronym of Pip Installs Packages is mostly known as pip.\n",
    "\t\t\t\n",
    "\t\t\t• You can use pip not only to give additional functionality to the standard library by installing additional packages on your computer, but you can also use it to help you contribute to Python's development by sharing your own projects.\n",
    "\t\t\t\n",
    "\t\tØ Now open your command prompt and run the following syntax to make sure that you have pip installed.\n",
    "\t\n",
    "\t\tpip --version\n",
    "\t\t\n",
    "\t\tThis code should display your valid pip version which is 19.3.1 currently. The output will be :\n",
    "\t\t\n",
    "\t\tpip 19.3.1\n",
    "\t\t\n",
    "\t\tIf you have problems with installing or upgrading pip, you can follow the official guide for the best practice.\n",
    "\t\n",
    "\t💡Tips:\n",
    "\t\t\t• When you install the Anaconda-3 package program, you will also automatically install hundreds of packages in addition to Python's standard library.\n",
    "\t\t\t• Therefore, if you installed the Anaconda-3 package program, you will not actually have much work with pip.\n",
    "\t\n",
    "\t\tØ Working with pip\n",
    "\t\n",
    "\t\tThe formula syntax is : pip command options\n",
    "\n",
    "\t\t• install\n",
    "\n",
    "\t\tThe most common and essential command of pip is of course install. The most common syntax is :\n",
    "\t\n",
    "\t\tpip install my_package\n",
    "\t\t\n",
    "\t\tIf you want, you can use this command by adding the version number to the end of the syntax as follows :\n",
    "\t\t\n",
    "\t\tpip install my_package==3.2.1\n",
    "\t\t\n",
    "\t\tFor the Python's current version you can use the following command. Although Python is not actually a package, you can also install it as follows. You do not need to try it because it will be faster if you download and install it from its website.\n",
    "\t\n",
    "\t\tpip install python==3.8.1\n",
    "\t\t\n",
    "\t\t• list\n",
    "\t\n",
    "\t\tAnother important command you should learn is list. It lists all the packages you have installed on your computer in alphabetical order and in two columns.\n",
    "\t\n",
    "\t\tpip list\n",
    "\t\t\n",
    "\t\t• show\n",
    "\t\n",
    "\t\tThe other useful command we can mention is show.\n",
    "\t\n",
    "\t\tpip show my_package\n",
    "\t\tIt's used to view some information about the packages. These information about a package will be : Name, Version, Summary, Home-page, Author, Author-email, License, Location on PC.\n",
    "\t\t\n",
    "\t\t• uninstall\n",
    "\t\n",
    "\t\tAnd the last command we want to show you is uninstall. It uninstalls the installed packages from your computer.\n",
    "\t\n",
    "\t\tpip uninstall my_package\n",
    "\t\tIf you want to examine pip in detail visit. (https://pip.pypa.io/en/stable/reference/pip/#pip)\n",
    "\t\t\n",
    "\t\tpip freeze: tells you which modules you've installed with pip install and the versions of these modules that you are currently have installed on your computer. ... So pip freeze is a commonly used command for debugging purposes in Python.\n",
    "\t\t\n",
    "\t\tpip freeze > requirements.txt: records an environment's current package list into requirements. txt. If you want to install the dependencies in a virtual environment, create and activate that environment first, then use the Install from requirements.\n",
    "\t\t\n",
    "\t\t\n"
   ]
  },
  {
   "cell_type": "markdown",
   "metadata": {},
   "source": [
    "## Built-in Modules- bim"
   ]
  },
  {
   "cell_type": "raw",
   "metadata": {},
   "source": [
    "Python comes with a huge library of standard modules many of which are built into the interpreter. \n",
    "Effective codes by providing functions and data structures. "
   ]
  },
  {
   "cell_type": "raw",
   "metadata": {},
   "source": [
    "Another advantage of bim is that you can access these standard libraries from all oss in which Python is installed. \n",
    "Officially published standard library list (Python Module Index) can be found here.(https://docs.python.org/3/py-modindex.html)"
   ]
  },
  {
   "cell_type": "markdown",
   "metadata": {},
   "source": [
    "## Math Module"
   ]
  },
  {
   "cell_type": "markdown",
   "metadata": {},
   "source": [
    "• math is one of the `most used modules`. It allows us to work with math functions."
   ]
  },
  {
   "cell_type": "code",
   "execution_count": 20,
   "metadata": {},
   "outputs": [],
   "source": [
    "import math"
   ]
  },
  {
   "cell_type": "markdown",
   "metadata": {},
   "source": [
    "### dir() function"
   ]
  },
  {
   "cell_type": "raw",
   "metadata": {},
   "source": [
    "💡Tips: bif dir() is used to find out all names defined in the module. It returns a sorted list of strings."
   ]
  },
  {
   "cell_type": "code",
   "execution_count": 4,
   "metadata": {},
   "outputs": [
    {
     "name": "stdout",
     "output_type": "stream",
     "text": [
      "['__doc__', '__loader__', '__name__', '__package__', '__spec__', 'acos', 'acosh', 'asin', 'asinh', 'atan', 'atan2', 'atanh', 'ceil', 'copysign', 'cos', 'cosh', 'degrees', 'e', 'erf', 'erfc', 'exp', 'expm1', 'fabs', 'factorial', 'floor', 'fmod', 'frexp', 'fsum', 'gamma', 'gcd', 'hypot', 'inf', 'isclose', 'isfinite', 'isinf', 'isnan', 'ldexp', 'lgamma', 'log', 'log10', 'log1p', 'log2', 'modf', 'nan', 'pi', 'pow', 'radians', 'remainder', 'sin', 'sinh', 'sqrt', 'tan', 'tanh', 'tau', 'trunc']\n"
     ]
    }
   ],
   "source": [
    "print(dir(math))  # you can find out all names defined in this module"
   ]
  },
  {
   "cell_type": "code",
   "execution_count": 5,
   "metadata": {},
   "outputs": [],
   "source": [
    "from math import pi, factorial, log10  # we'll use the functions directly"
   ]
  },
  {
   "cell_type": "code",
   "execution_count": 6,
   "metadata": {},
   "outputs": [
    {
     "data": {
      "text/plain": [
       "3.141592653589793"
      ]
     },
     "execution_count": 6,
     "metadata": {},
     "output_type": "execute_result"
    }
   ],
   "source": [
    "pi # it also contains several arithmetic constants"
   ]
  },
  {
   "cell_type": "code",
   "execution_count": 7,
   "metadata": {},
   "outputs": [
    {
     "data": {
      "text/plain": [
       "24"
      ]
     },
     "execution_count": 7,
     "metadata": {},
     "output_type": "execute_result"
    }
   ],
   "source": [
    "factorial(4)"
   ]
  },
  {
   "cell_type": "code",
   "execution_count": 8,
   "metadata": {},
   "outputs": [
    {
     "data": {
      "text/plain": [
       "3.0"
      ]
     },
     "execution_count": 8,
     "metadata": {},
     "output_type": "execute_result"
    }
   ],
   "source": [
    "log10(1000)"
   ]
  },
  {
   "cell_type": "raw",
   "metadata": {},
   "source": [
    "✏️Homework: Define your own factorial function named factor using def."
   ]
  },
  {
   "cell_type": "markdown",
   "metadata": {},
   "source": [
    "## String Module"
   ]
  },
  {
   "cell_type": "raw",
   "metadata": {},
   "source": [
    "• string is used for common string operations."
   ]
  },
  {
   "cell_type": "code",
   "execution_count": 9,
   "metadata": {},
   "outputs": [],
   "source": [
    "import string as stg  # we've used alias for 'string' module"
   ]
  },
  {
   "cell_type": "code",
   "execution_count": 10,
   "metadata": {},
   "outputs": [
    {
     "data": {
      "text/plain": [
       "'!\"#$%&\\'()*+,-./:;<=>?@[\\\\]^_`{|}~'"
      ]
     },
     "execution_count": 10,
     "metadata": {},
     "output_type": "execute_result"
    }
   ],
   "source": [
    "stg.punctuation  # prints all available punctuation marks"
   ]
  },
  {
   "cell_type": "code",
   "execution_count": 11,
   "metadata": {},
   "outputs": [
    {
     "data": {
      "text/plain": [
       "'0123456789'"
      ]
     },
     "execution_count": 11,
     "metadata": {},
     "output_type": "execute_result"
    }
   ],
   "source": [
    "stg.digits  # prints all the digits"
   ]
  },
  {
   "cell_type": "code",
   "execution_count": 21,
   "metadata": {},
   "outputs": [],
   "source": [
    "from string import punctuation"
   ]
  },
  {
   "cell_type": "code",
   "execution_count": 22,
   "metadata": {},
   "outputs": [
    {
     "data": {
      "text/plain": [
       "'!\"#$%&\\'()*+,-./:;<=>?@[\\\\]^_`{|}~'"
      ]
     },
     "execution_count": 22,
     "metadata": {},
     "output_type": "execute_result"
    }
   ],
   "source": [
    "punctuation"
   ]
  },
  {
   "cell_type": "markdown",
   "metadata": {},
   "source": [
    "## Datetime Module"
   ]
  },
  {
   "cell_type": "raw",
   "metadata": {},
   "source": [
    "• datetime is commonly used when working with date and time types."
   ]
  },
  {
   "cell_type": "code",
   "execution_count": 12,
   "metadata": {},
   "outputs": [],
   "source": [
    "import datetime"
   ]
  },
  {
   "cell_type": "code",
   "execution_count": 13,
   "metadata": {},
   "outputs": [
    {
     "data": {
      "text/plain": [
       "datetime.date(2021, 10, 23)"
      ]
     },
     "execution_count": 13,
     "metadata": {},
     "output_type": "execute_result"
    }
   ],
   "source": [
    "datetime.date.today()  # prints today's date (yyyy-mm-dd)"
   ]
  },
  {
   "cell_type": "code",
   "execution_count": 14,
   "metadata": {},
   "outputs": [
    {
     "data": {
      "text/plain": [
       "datetime.datetime(2021, 10, 23, 8, 24, 20, 383591)"
      ]
     },
     "execution_count": 14,
     "metadata": {},
     "output_type": "execute_result"
    }
   ],
   "source": [
    "datetime.datetime.now()  # prints the current time in microseconds"
   ]
  },
  {
   "cell_type": "raw",
   "metadata": {},
   "source": [
    "💡Tips: In the example above, we used the functions (now() and today()) defined under the date and datetime objects from the datetime module according to the dot notation."
   ]
  },
  {
   "cell_type": "code",
   "execution_count": 25,
   "metadata": {},
   "outputs": [],
   "source": [
    "from datetime import date"
   ]
  },
  {
   "cell_type": "code",
   "execution_count": 26,
   "metadata": {},
   "outputs": [],
   "source": [
    "birth = date(571, 4, 22)\n",
    "vefat = date(632, 6, 8)"
   ]
  },
  {
   "cell_type": "code",
   "execution_count": 27,
   "metadata": {},
   "outputs": [
    {
     "data": {
      "text/plain": [
       "22327"
      ]
     },
     "execution_count": 27,
     "metadata": {},
     "output_type": "execute_result"
    }
   ],
   "source": [
    "date.toordinal(vefat) - date.toordinal(birth)"
   ]
  },
  {
   "cell_type": "markdown",
   "metadata": {},
   "source": [
    "## Random Module"
   ]
  },
  {
   "cell_type": "code",
   "execution_count": 18,
   "metadata": {},
   "outputs": [],
   "source": [
    "import random"
   ]
  },
  {
   "cell_type": "raw",
   "metadata": {},
   "source": [
    "• random module: contains functions to select randomly from data types."
   ]
  },
  {
   "cell_type": "code",
   "execution_count": 15,
   "metadata": {},
   "outputs": [],
   "source": [
    "from random import choice"
   ]
  },
  {
   "cell_type": "code",
   "execution_count": 16,
   "metadata": {},
   "outputs": [],
   "source": [
    "city = ['Stockholm', 'Istanbul', 'Seul', 'Cape Town']"
   ]
  },
  {
   "cell_type": "code",
   "execution_count": 17,
   "metadata": {},
   "outputs": [
    {
     "data": {
      "text/plain": [
       "'Istanbul'"
      ]
     },
     "execution_count": 17,
     "metadata": {},
     "output_type": "execute_result"
    }
   ],
   "source": [
    "choice(city)  "
   ]
  },
  {
   "cell_type": "code",
   "execution_count": 23,
   "metadata": {},
   "outputs": [
    {
     "data": {
      "text/plain": [
       "'Cape Town'"
      ]
     },
     "execution_count": 23,
     "metadata": {},
     "output_type": "execute_result"
    }
   ],
   "source": [
    "random.choice(city)"
   ]
  },
  {
   "cell_type": "markdown",
   "metadata": {},
   "source": [
    "### random() function"
   ]
  },
  {
   "cell_type": "raw",
   "metadata": {},
   "source": [
    "• Returns the floating point number that is in the range of (0, 1).\n",
    "• x in the interval [0, 1)."
   ]
  },
  {
   "cell_type": "code",
   "execution_count": 19,
   "metadata": {},
   "outputs": [
    {
     "data": {
      "text/plain": [
       "0.30023104392865996"
      ]
     },
     "execution_count": 19,
     "metadata": {},
     "output_type": "execute_result"
    }
   ],
   "source": [
    "random.random()"
   ]
  },
  {
   "cell_type": "code",
   "execution_count": null,
   "metadata": {},
   "outputs": [],
   "source": []
  }
 ],
 "metadata": {
  "kernelspec": {
   "display_name": "Python 3",
   "language": "python",
   "name": "python3"
  },
  "language_info": {
   "codemirror_mode": {
    "name": "ipython",
    "version": 3
   },
   "file_extension": ".py",
   "mimetype": "text/x-python",
   "name": "python",
   "nbconvert_exporter": "python",
   "pygments_lexer": "ipython3",
   "version": "3.7.6"
  }
 },
 "nbformat": 4,
 "nbformat_minor": 4
}
