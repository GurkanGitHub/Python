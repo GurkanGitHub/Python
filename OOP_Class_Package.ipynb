{
 "cells": [
  {
   "cell_type": "code",
   "execution_count": 35,
   "metadata": {},
   "outputs": [],
   "source": [
    "class Employee:\n",
    "   \n",
    "    raise_amnt = 1.04 #class değişkeni\n",
    "\n",
    "\n",
    "    def __init__(self, firstName, lastName, email, pay):\n",
    "        self.firstName = firstName\n",
    "        self.lastName = lastName\n",
    "        self.email = email\n",
    "        self.pay = pay\n",
    "        \n",
    "    def fullname(self):\n",
    "        return \"{} {}\".format(self.firstName, self.lastName)\n",
    "        \n",
    "    def appy_raise(self):\n",
    "        self.pay = int(self.pay * self.raise_amnt)"
   ]
  },
  {
   "cell_type": "code",
   "execution_count": 36,
   "metadata": {},
   "outputs": [],
   "source": [
    "emp_1 = Employee(\"Gürkan\", \"Yeşilyurt\", \"gydatascience@gmail.com\", 4000)"
   ]
  },
  {
   "cell_type": "code",
   "execution_count": null,
   "metadata": {},
   "outputs": [],
   "source": []
  },
  {
   "cell_type": "code",
   "execution_count": 37,
   "metadata": {},
   "outputs": [
    {
     "name": "stdout",
     "output_type": "stream",
     "text": [
      "1.04\n"
     ]
    }
   ],
   "source": [
    "print(emp_1.raise_amnt)"
   ]
  },
  {
   "cell_type": "code",
   "execution_count": 38,
   "metadata": {},
   "outputs": [
    {
     "name": "stdout",
     "output_type": "stream",
     "text": [
      "1.04\n"
     ]
    }
   ],
   "source": [
    "print(Employee.raise_amnt)"
   ]
  },
  {
   "cell_type": "code",
   "execution_count": 39,
   "metadata": {},
   "outputs": [],
   "source": [
    "Employee.raise_amnt = 1.06"
   ]
  },
  {
   "cell_type": "code",
   "execution_count": 40,
   "metadata": {},
   "outputs": [
    {
     "name": "stdout",
     "output_type": "stream",
     "text": [
      "1.06\n"
     ]
    }
   ],
   "source": [
    "print(Employee.raise_amnt)"
   ]
  },
  {
   "cell_type": "code",
   "execution_count": 41,
   "metadata": {},
   "outputs": [
    {
     "name": "stdout",
     "output_type": "stream",
     "text": [
      "1.06\n"
     ]
    }
   ],
   "source": [
    "print(emp_1.raise_amnt)"
   ]
  },
  {
   "cell_type": "code",
   "execution_count": 46,
   "metadata": {},
   "outputs": [],
   "source": [
    "emp_1.raise_amnt = 1.07"
   ]
  },
  {
   "cell_type": "code",
   "execution_count": 51,
   "metadata": {},
   "outputs": [
    {
     "name": "stdout",
     "output_type": "stream",
     "text": [
      "1.07\n",
      "1.06\n"
     ]
    }
   ],
   "source": [
    "print(emp_1.raise_amnt)\n",
    "print(Employee.raise_amnt)"
   ]
  },
  {
   "cell_type": "code",
   "execution_count": 48,
   "metadata": {},
   "outputs": [],
   "source": [
    "emp_2 = Employee(\"Canan\", \"Yeşilyurt\", \"canan@gmail.com\", 5000)"
   ]
  },
  {
   "cell_type": "code",
   "execution_count": 49,
   "metadata": {},
   "outputs": [
    {
     "name": "stdout",
     "output_type": "stream",
     "text": [
      "1.06\n"
     ]
    }
   ],
   "source": [
    "print(emp_2.raise_amnt)"
   ]
  },
  {
   "cell_type": "code",
   "execution_count": 50,
   "metadata": {},
   "outputs": [
    {
     "name": "stdout",
     "output_type": "stream",
     "text": [
      "1.06\n"
     ]
    }
   ],
   "source": [
    "print(Employee.raise_amnt)"
   ]
  },
  {
   "cell_type": "code",
   "execution_count": 52,
   "metadata": {},
   "outputs": [
    {
     "name": "stdout",
     "output_type": "stream",
     "text": [
      "{'firstName': 'Gürkan', 'lastName': 'Yeşilyurt', 'email': 'gydatascience@gmail.com', 'pay': 4000, 'raise_amnt': 1.07}\n"
     ]
    }
   ],
   "source": [
    "print(emp_1.__dict__)"
   ]
  },
  {
   "cell_type": "code",
   "execution_count": 55,
   "metadata": {},
   "outputs": [
    {
     "name": "stdout",
     "output_type": "stream",
     "text": [
      "4000\n",
      "5000\n"
     ]
    }
   ],
   "source": [
    "print(emp_1.pay)\n",
    "print(emp_2.pay)"
   ]
  },
  {
   "cell_type": "code",
   "execution_count": 56,
   "metadata": {},
   "outputs": [],
   "source": [
    "class Employee:\n",
    "   \n",
    "    raise_amnt = 1.04\n",
    "\n",
    "\n",
    "    def __init__(self, firstName, lastName, email, pay):\n",
    "        self.firstName = firstName\n",
    "        self.lastName = lastName\n",
    "        self.email = email\n",
    "        self.pay = pay\n",
    "        \n",
    "    def fullname(self):\n",
    "        return \"{} {}\".format(self.firstName, self.lastName)\n",
    "        \n",
    "    def appy_raise(self):\n",
    "        self.pay = int(self.pay * self.raise_amnt)\n",
    "    \n",
    "    @classmethod #class method oluşturma\n",
    "    def set_raise_amnt(cls, amount):\n",
    "        cls.raise_amnt = amount\n",
    "        \n",
    "    @classmethod\n",
    "    def from_string(cls, emp_str):\n",
    "        \n",
    "    "
   ]
  },
  {
   "cell_type": "code",
   "execution_count": 57,
   "metadata": {},
   "outputs": [],
   "source": [
    "emp_1 = Employee(\"Gürkan\", \"Yeşilyurt\", \"gydatascience@gmail.com\", 4000)\n",
    "emp_2 = Employee(\"Canan\", \"Yeşilyurt\", \"canan@gmail.com\", 5000)"
   ]
  },
  {
   "cell_type": "code",
   "execution_count": 58,
   "metadata": {},
   "outputs": [],
   "source": [
    "Employee.set_raise_amnt(1.10)"
   ]
  },
  {
   "cell_type": "code",
   "execution_count": 59,
   "metadata": {},
   "outputs": [
    {
     "name": "stdout",
     "output_type": "stream",
     "text": [
      "1.1\n",
      "1.1\n",
      "1.1\n"
     ]
    }
   ],
   "source": [
    "print(Employee.raise_amnt)\n",
    "print(emp_1.raise_amnt)\n",
    "print(emp_2.raise_amnt)"
   ]
  },
  {
   "cell_type": "code",
   "execution_count": 60,
   "metadata": {},
   "outputs": [],
   "source": [
    "Employee.raise_amnt = 2"
   ]
  },
  {
   "cell_type": "code",
   "execution_count": 61,
   "metadata": {},
   "outputs": [
    {
     "name": "stdout",
     "output_type": "stream",
     "text": [
      "2\n",
      "2\n",
      "2\n"
     ]
    }
   ],
   "source": [
    "print(Employee.raise_amnt)\n",
    "print(emp_1.raise_amnt)\n",
    "print(emp_2.raise_amnt)"
   ]
  },
  {
   "cell_type": "code",
   "execution_count": 65,
   "metadata": {},
   "outputs": [],
   "source": [
    "class Employee:\n",
    "   \n",
    "    raise_amnt = 1.04\n",
    "\n",
    "\n",
    "    def __init__(self, firstName, lastName, email, pay):\n",
    "        self.firstName = firstName\n",
    "        self.lastName = lastName\n",
    "        self.email = email\n",
    "        self.pay = pay\n",
    "        \n",
    "    def fullname(self):\n",
    "        return \"{} {}\".format(self.firstName, self.lastName)\n",
    "        \n",
    "    def appy_raise(self):\n",
    "        self.pay = int(self.pay * self.raise_amnt)\n",
    "    \n",
    "    @classmethod #class method oluşturma\n",
    "    def set_raise_amnt(cls, amount):\n",
    "        cls.raise_amnt = amount\n",
    "        \n",
    "    @classmethod\n",
    "    def from_string(cls, emp_str):\n",
    "        firstName, lastName, email, pay = emp_str.split(\"-\")\n",
    "        return cls(firstName, lastName, email, pay)\n",
    "        "
   ]
  },
  {
   "cell_type": "code",
   "execution_count": 66,
   "metadata": {},
   "outputs": [],
   "source": [
    "emp_str_1 = \"Martin-Lane-matin@clarusway.com-5000\""
   ]
  },
  {
   "cell_type": "code",
   "execution_count": 67,
   "metadata": {},
   "outputs": [],
   "source": [
    "new_emp_1 = Employee.from_string(emp_str_1)"
   ]
  },
  {
   "cell_type": "code",
   "execution_count": 68,
   "metadata": {},
   "outputs": [
    {
     "name": "stdout",
     "output_type": "stream",
     "text": [
      "matin@clarusway.com\n"
     ]
    }
   ],
   "source": [
    "print(new_emp_1.email)"
   ]
  },
  {
   "cell_type": "code",
   "execution_count": 69,
   "metadata": {},
   "outputs": [],
   "source": [
    "new_emp_1_1 = Employee(new_emp_1.firstName, new_emp_1.lastName, new_emp_1.email, new_emp_1.pay)"
   ]
  },
  {
   "cell_type": "code",
   "execution_count": 71,
   "metadata": {},
   "outputs": [
    {
     "name": "stdout",
     "output_type": "stream",
     "text": [
      "matin@clarusway.com\n"
     ]
    }
   ],
   "source": [
    "print(new_emp_1_1.email)"
   ]
  },
  {
   "cell_type": "code",
   "execution_count": 72,
   "metadata": {},
   "outputs": [],
   "source": [
    "class Employee:\n",
    "   \n",
    "    raise_amnt = 1.04\n",
    "\n",
    "\n",
    "    def __init__(self, firstName, lastName, email, pay):\n",
    "        self.firstName = firstName\n",
    "        self.lastName = lastName\n",
    "        self.email = email\n",
    "        self.pay = pay\n",
    "        \n",
    "    def fullname(self):\n",
    "        return \"{} {}\".format(self.firstName, self.lastName)\n",
    "        \n",
    "    def appy_raise(self):\n",
    "        self.pay = int(self.pay * self.raise_amnt)\n",
    "    \n",
    "    @classmethod #class method oluşturma\n",
    "    def set_raise_amnt(cls, amount):\n",
    "        cls.raise_amnt = amount\n",
    "        \n",
    "    @classmethod\n",
    "    def from_string(cls, emp_str):\n",
    "        firstName, lastName, email, pay = emp_str.split(\"-\")\n",
    "        return cls(firstName, lastName, email, pay)\n",
    "    \n",
    "    @staticmethod\n",
    "    def is_workday(date):\n",
    "        if date.weekday() == 5 or date.weekday() ==6:\n",
    "            return False\n",
    "        return True\n",
    "        "
   ]
  },
  {
   "cell_type": "code",
   "execution_count": 74,
   "metadata": {},
   "outputs": [],
   "source": [
    "import datetime\n",
    "my_date = datetime.date(2020,8,6)"
   ]
  },
  {
   "cell_type": "code",
   "execution_count": 75,
   "metadata": {},
   "outputs": [
    {
     "name": "stdout",
     "output_type": "stream",
     "text": [
      "True\n"
     ]
    }
   ],
   "source": [
    "print(Employee.is_workday(my_date))"
   ]
  },
  {
   "cell_type": "markdown",
   "metadata": {},
   "source": [
    "## Object & Class Creation"
   ]
  },
  {
   "cell_type": "raw",
   "metadata": {},
   "source": [
    "• Creation: \"class\" keyword and a name, starting with capital letter and a colon.\n",
    "• Define different attributes and different methods associated with this class.\n",
    "• Every object based on this class has those properties and methods.\n",
    "• To create attributes for class we need to define an init function."
   ]
  },
  {
   "cell_type": "markdown",
   "metadata": {},
   "source": [
    "### Class level attributes"
   ]
  },
  {
   "cell_type": "raw",
   "metadata": {},
   "source": [
    "shape = \"round\"\n",
    "• Class level Attributes: go to outside of the init function\n",
    "• All planets are round, so you define it as class level attribute.\n",
    "• It is not going to be unique for every instance\n",
    "• Accessing to this attribute: instances and class can access."
   ]
  },
  {
   "cell_type": "markdown",
   "metadata": {},
   "source": [
    "### Initialization function"
   ]
  },
  {
   "cell_type": "raw",
   "metadata": {},
   "source": [
    "• Initialization function: sets up the instance attributes.\n",
    "• It runs when we create new instance of this class (like constructor method).\n",
    "• self parameter:\n",
    "    ○ Whenever a new instance is created, self param makes run this function.\n",
    "    ○ Refers to the instance of the object we create\n",
    "    ○ We use the class when making new objects\n",
    "    ○ We attach below attributes to self parameter and then to new instances."
   ]
  },
  {
   "cell_type": "code",
   "execution_count": 14,
   "metadata": {},
   "outputs": [],
   "source": [
    "class Planet:\n",
    "    shape = \"round\" # Class level Attributes\n",
    "    def __init__(self, name, radius, gravity, system):\n",
    "        self.name = name # Instance Attributes, dot notation: attaches attributes to instances, meaning they unique to instance, \n",
    "        self.radius = radius\n",
    "        self.gravity = gravity\n",
    "        self.system = system\n",
    "    def orbit(self): # Instance Methods\n",
    "        return f\"{self.name} is orbiting in the {self.system}\"\n",
    "            # We attach methods to instances, meaning they unique to instance.\n",
    "            # When we call this function it is accessible by variables & instances.\n",
    "            # When we create a new instance it inherits these properties.    \n",
    "    @classmethod # Class level methods, use decorator in the beginning, this method will be common\n",
    "    def common(cls):\n",
    "        return f\"All planets are {cls.shape} because of gravity.\"\n",
    "    @staticmethod\n",
    "    def spin(speed=\"2000 miles per hour\"):\n",
    "        return f\"The planet spins and spins a {speed}.\"\n",
    "hoth = Planet(\"Hoth\", 200000, 5.5, \"Hoth System\")\n",
    "naboo = Planet(\"Naboo\", 300000, 8, \"Naboo System\")  # new instance of this class.\n",
    "                                                        # that object as well as is going to have exactly the same property values\n",
    "                                                        # multiple objects, but in essence all the same               "
   ]
  },
  {
   "cell_type": "code",
   "execution_count": 17,
   "metadata": {},
   "outputs": [
    {
     "data": {
      "text/plain": [
       "200000"
      ]
     },
     "execution_count": 17,
     "metadata": {},
     "output_type": "execute_result"
    }
   ],
   "source": [
    "hoth.radius"
   ]
  },
  {
   "cell_type": "code",
   "execution_count": 16,
   "metadata": {},
   "outputs": [
    {
     "name": "stdout",
     "output_type": "stream",
     "text": [
      "Name is: Naboo\n"
     ]
    }
   ],
   "source": [
    "print(f\"Name is: {naboo.name}\")"
   ]
  },
  {
   "cell_type": "code",
   "execution_count": 18,
   "metadata": {},
   "outputs": [
    {
     "name": "stdout",
     "output_type": "stream",
     "text": [
      "Radius is:300000\n"
     ]
    }
   ],
   "source": [
    "print(f\"Radius is:{naboo.radius}\")"
   ]
  },
  {
   "cell_type": "code",
   "execution_count": 19,
   "metadata": {},
   "outputs": [
    {
     "name": "stdout",
     "output_type": "stream",
     "text": [
      "round\n"
     ]
    }
   ],
   "source": [
    "print(Planet.shape)"
   ]
  },
  {
   "cell_type": "code",
   "execution_count": 20,
   "metadata": {},
   "outputs": [
    {
     "name": "stdout",
     "output_type": "stream",
     "text": [
      "round\n"
     ]
    }
   ],
   "source": [
    "print(naboo.shape)"
   ]
  },
  {
   "cell_type": "code",
   "execution_count": 21,
   "metadata": {},
   "outputs": [
    {
     "name": "stdout",
     "output_type": "stream",
     "text": [
      "All planets are round because of gravity.\n"
     ]
    }
   ],
   "source": [
    "print(Planet.common())"
   ]
  },
  {
   "cell_type": "code",
   "execution_count": 22,
   "metadata": {},
   "outputs": [
    {
     "name": "stdout",
     "output_type": "stream",
     "text": [
      "All planets are round because of gravity.\n"
     ]
    }
   ],
   "source": [
    "print(naboo.common())"
   ]
  },
  {
   "cell_type": "code",
   "execution_count": 23,
   "metadata": {},
   "outputs": [
    {
     "name": "stdout",
     "output_type": "stream",
     "text": [
      "Naboo is orbiting in the Naboo System\n"
     ]
    }
   ],
   "source": [
    "print(naboo.orbit())# orbit method is used by instances."
   ]
  },
  {
   "cell_type": "code",
   "execution_count": 24,
   "metadata": {},
   "outputs": [
    {
     "ename": "TypeError",
     "evalue": "orbit() missing 1 required positional argument: 'self'",
     "output_type": "error",
     "traceback": [
      "\u001b[1;31m---------------------------------------------------------------------------\u001b[0m",
      "\u001b[1;31mTypeError\u001b[0m                                 Traceback (most recent call last)",
      "\u001b[1;32m<ipython-input-24-f3016f6e315b>\u001b[0m in \u001b[0;36m<module>\u001b[1;34m\u001b[0m\n\u001b[1;32m----> 1\u001b[1;33m \u001b[0mprint\u001b[0m\u001b[1;33m(\u001b[0m\u001b[0mPlanet\u001b[0m\u001b[1;33m.\u001b[0m\u001b[0morbit\u001b[0m\u001b[1;33m(\u001b[0m\u001b[1;33m)\u001b[0m\u001b[1;33m)\u001b[0m\u001b[1;31m#orbit is instance method, it cannot access instance method on the class itself\u001b[0m\u001b[1;33m\u001b[0m\u001b[1;33m\u001b[0m\u001b[0m\n\u001b[0m",
      "\u001b[1;31mTypeError\u001b[0m: orbit() missing 1 required positional argument: 'self'"
     ]
    }
   ],
   "source": [
    "print(Planet.orbit())#orbit is instance method, it cannot access instance method on the class itself"
   ]
  },
  {
   "cell_type": "code",
   "execution_count": 25,
   "metadata": {},
   "outputs": [
    {
     "name": "stdout",
     "output_type": "stream",
     "text": [
      "The planet spins and spins a 2000 miles per hour.\n"
     ]
    }
   ],
   "source": [
    "print(Planet.spin())# static method can be used on the class itself"
   ]
  },
  {
   "cell_type": "code",
   "execution_count": 26,
   "metadata": {},
   "outputs": [
    {
     "name": "stdout",
     "output_type": "stream",
     "text": [
      "The planet spins and spins a 2000 miles per hour.\n"
     ]
    }
   ],
   "source": [
    "print(hoth.spin())#instances may use static method."
   ]
  },
  {
   "cell_type": "code",
   "execution_count": 27,
   "metadata": {},
   "outputs": [
    {
     "name": "stdout",
     "output_type": "stream",
     "text": [
      "The planet spins and spins a a very high speed.\n"
     ]
    }
   ],
   "source": [
    "print(Planet.spin(\"a very high speed\"))# argument overwrites the default argument"
   ]
  },
  {
   "cell_type": "code",
   "execution_count": null,
   "metadata": {},
   "outputs": [],
   "source": []
  },
  {
   "cell_type": "code",
   "execution_count": null,
   "metadata": {},
   "outputs": [],
   "source": []
  },
  {
   "cell_type": "markdown",
   "metadata": {},
   "source": [
    "### Creating a new instance of this object & class."
   ]
  },
  {
   "cell_type": "raw",
   "metadata": {},
   "source": [
    "hoth---> this is just a variable name,\n",
    "Planet -->new instance&object of this class\n",
    "()--> to say we're invoking a new instance of this class\n",
    "bu şekil yazıldığında we run the function of def __init__(self)\n",
    "passing in this self this instance we're creating and -->\n",
    "attaching these different attributes defined by init function\n",
    "so now all these different attributes will be accesible on tihs \"hoth\" variable\n",
    "Madem hoth variable ile class attributelarına self parameter ile ulaşabiliyorum,\n",
    "self dışında başka parametrelerde yazarım, onalara da ulaşırım.\n",
    "\n",
    "below prints 3 different properties of hoth variable which they all have-->\n",
    "because we create a new instance of Planet class and attach them"
   ]
  },
  {
   "cell_type": "raw",
   "metadata": {},
   "source": [
    "# overall sum: we create a class with init function\n",
    "# this init function takes in the instance that we're trying to create, this new object called \"self\".\n",
    "# and it is attaching properties or attributes to that object."
   ]
  },
  {
   "cell_type": "code",
   "execution_count": null,
   "metadata": {},
   "outputs": [],
   "source": []
  },
  {
   "cell_type": "code",
   "execution_count": 30,
   "metadata": {},
   "outputs": [
    {
     "name": "stdout",
     "output_type": "stream",
     "text": [
      "Name:Naboo\n",
      "The planet spins and spins a a very high speed.\n"
     ]
    }
   ],
   "source": [
    "from class import Planet\n",
    "\n",
    "\n",
    "naboo = Planet(\"Naboo\", 300000, 8, \"Naboo System\")\n",
    "print(f\"Name:{naboo.name}\")\n",
    "print(naboo.spin(\"a very high speed\"))\n",
    "\n",
    "    #packages: collection of modules.\n",
    "    # create a file named space and create an init file   "
   ]
  },
  {
   "cell_type": "code",
   "execution_count": null,
   "metadata": {},
   "outputs": [],
   "source": [
    "from space.planet import Planet\n",
    "from space.calc import planet_mass, planet_vol\n",
    "\n",
    "naboo = Planet(\"Naboo\", 300000, 8, \"Naboo System\")\n",
    "\n",
    "naboo_mass = planet_mass(naboo.gravity, naboo.radius)\n",
    "naboo_vol = planet_vol(naboo.radius)\n",
    "\n",
    "print(f\"{naboo.name} has a mass of {naboo_mass} and a volume of {naboo_vol}.\")"
   ]
  }
 ],
 "metadata": {
  "kernelspec": {
   "display_name": "Python 3",
   "language": "python",
   "name": "python3"
  },
  "language_info": {
   "codemirror_mode": {
    "name": "ipython",
    "version": 3
   },
   "file_extension": ".py",
   "mimetype": "text/x-python",
   "name": "python",
   "nbconvert_exporter": "python",
   "pygments_lexer": "ipython3",
   "version": "3.7.6"
  }
 },
 "nbformat": 4,
 "nbformat_minor": 4
}
