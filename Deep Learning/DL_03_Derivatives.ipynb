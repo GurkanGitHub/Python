{
 "cells": [
  {
   "cell_type": "code",
   "execution_count": 3,
   "id": "63a6750f",
   "metadata": {},
   "outputs": [
    {
     "data": {
      "image/png": "[encoded data removed]",
      "text/plain": [
       "<Figure size 600x300 with 1 Axes>"
      ]
     },
     "metadata": {},
     "output_type": "display_data"
    }
   ],
   "source": [
    "# Import libraries\n",
    "import matplotlib.pyplot as plt\n",
    "import numpy as np\n",
    "\n",
    "# Creating vectors X and Y\n",
    "x = np.array([1,2,3,4])\n",
    "y = 3*x\n",
    "\n",
    "fig = plt.figure(figsize = (6, 3))\n",
    "# Create the plot\n",
    "plt.plot(x, y)\n",
    "\n",
    "# Show the plot\n",
    "plt.show()"
   ]
  },
  {
   "cell_type": "code",
   "execution_count": 4,
   "id": "f0f85737",
   "metadata": {},
   "outputs": [],
   "source": [
    "#slope of this line = dy/dx = 3"
   ]
  },
  {
   "cell_type": "code",
   "execution_count": 5,
   "id": "c10335d3",
   "metadata": {},
   "outputs": [],
   "source": [
    "from scipy.misc import derivative\n",
    "\n",
    "import sympy as sp"
   ]
  },
  {
   "cell_type": "code",
   "execution_count": 6,
   "id": "68ff251b",
   "metadata": {},
   "outputs": [
    {
     "data": {
      "text/latex": [
       "$\\displaystyle 6 x$"
      ],
      "text/plain": [
       "6*x"
      ]
     },
     "execution_count": 6,
     "metadata": {},
     "output_type": "execute_result"
    }
   ],
   "source": [
    "x = sp.Symbol(\"x\")\n",
    "sp.diff(3*x**2 +1, x)"
   ]
  },
  {
   "cell_type": "markdown",
   "id": "76b523a2",
   "metadata": {},
   "source": [
    "## derivative rules"
   ]
  },
  {
   "cell_type": "markdown",
   "id": "e0474c73",
   "metadata": {},
   "source": [
    "### constant"
   ]
  },
  {
   "cell_type": "raw",
   "id": "ddf56f2e",
   "metadata": {},
   "source": [
    "derivative of constants are 0. çünkü bu sayı herhangi bir değişkenin fonksiyonu olarak değişmez."
   ]
  },
  {
   "cell_type": "code",
   "execution_count": 7,
   "id": "bb0d8013",
   "metadata": {},
   "outputs": [
    {
     "data": {
      "text/latex": [
       "$\\displaystyle 0$"
      ],
      "text/plain": [
       "0"
      ]
     },
     "execution_count": 7,
     "metadata": {},
     "output_type": "execute_result"
    }
   ],
   "source": [
    "sp.diff(1,x)"
   ]
  },
  {
   "cell_type": "code",
   "execution_count": null,
   "id": "3366eb1d",
   "metadata": {},
   "outputs": [],
   "source": [
    "derivative of line is 1."
   ]
  },
  {
   "cell_type": "code",
   "execution_count": 8,
   "id": "ede10a97",
   "metadata": {},
   "outputs": [
    {
     "data": {
      "text/latex": [
       "$\\displaystyle 1$"
      ],
      "text/plain": [
       "1"
      ]
     },
     "execution_count": 8,
     "metadata": {},
     "output_type": "execute_result"
    }
   ],
   "source": [
    "sp.diff(x,x)"
   ]
  },
  {
   "cell_type": "code",
   "execution_count": 14,
   "id": "255573f0",
   "metadata": {},
   "outputs": [
    {
     "data": {
      "text/latex": [
       "$\\displaystyle 1$"
      ],
      "text/plain": [
       "1"
      ]
     },
     "execution_count": 14,
     "metadata": {},
     "output_type": "execute_result"
    }
   ],
   "source": [
    "sp.diff(x,x)"
   ]
  },
  {
   "cell_type": "code",
   "execution_count": null,
   "id": "a378ed72",
   "metadata": {},
   "outputs": [],
   "source": []
  }
 ],
 "metadata": {
  "kernelspec": {
   "display_name": "Python 3 (ipykernel)",
   "language": "python",
   "name": "python3"
  },
  "language_info": {
   "codemirror_mode": {
    "name": "ipython",
    "version": 3
   },
   "file_extension": ".py",
   "mimetype": "text/x-python",
   "name": "python",
   "nbconvert_exporter": "python",
   "pygments_lexer": "ipython3",
   "version": "3.11.3"
  }
 },
 "nbformat": 4,
 "nbformat_minor": 5
}
