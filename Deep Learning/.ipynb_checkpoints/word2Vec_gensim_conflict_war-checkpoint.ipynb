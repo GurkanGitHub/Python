{
 "cells": [
  {
   "cell_type": "code",
   "execution_count": 23,
   "id": "acd63626",
   "metadata": {},
   "outputs": [],
   "source": [
    "import gensim"
   ]
  },
  {
   "cell_type": "code",
   "execution_count": 24,
   "id": "a909da61",
   "metadata": {},
   "outputs": [],
   "source": [
    "import pandas as pd"
   ]
  },
  {
   "cell_type": "code",
   "execution_count": 25,
   "id": "f2af29c1",
   "metadata": {},
   "outputs": [],
   "source": [
    "df = pd.read_excel(\"D:/github/Python/Deep Learning/annotation.xlsx\")"
   ]
  },
  {
   "cell_type": "code",
   "execution_count": 26,
   "id": "2cc2a885",
   "metadata": {},
   "outputs": [
    {
     "data": {
      "text/html": [
       "<div>\n",
       "<style scoped>\n",
       "    .dataframe tbody tr th:only-of-type {\n",
       "        vertical-align: middle;\n",
       "    }\n",
       "\n",
       "    .dataframe tbody tr th {\n",
       "        vertical-align: top;\n",
       "    }\n",
       "\n",
       "    .dataframe thead th {\n",
       "        text-align: right;\n",
       "    }\n",
       "</style>\n",
       "<table border=\"1\" class=\"dataframe\">\n",
       "  <thead>\n",
       "    <tr style=\"text-align: right;\">\n",
       "      <th></th>\n",
       "      <th>sentence</th>\n",
       "      <th>indicator</th>\n",
       "      <th>factor</th>\n",
       "      <th>source</th>\n",
       "    </tr>\n",
       "  </thead>\n",
       "  <tbody>\n",
       "    <tr>\n",
       "      <th>0</th>\n",
       "      <td>Where superiority of numbers is overwhelming, ...</td>\n",
       "      <td>superiority of numbers</td>\n",
       "      <td>physical</td>\n",
       "      <td>Clausewitz, 1989, p.196​</td>\n",
       "    </tr>\n",
       "    <tr>\n",
       "      <th>1</th>\n",
       "      <td>Grand strategy should calculate and develop ec...</td>\n",
       "      <td>economic resources, man-power</td>\n",
       "      <td>physical</td>\n",
       "      <td>Hart, 1991, 322</td>\n",
       "    </tr>\n",
       "    <tr>\n",
       "      <th>2</th>\n",
       "      <td>Beyond geography, money has always been the gr...</td>\n",
       "      <td>finance</td>\n",
       "      <td>physical</td>\n",
       "      <td>Smith, 2019, 19.</td>\n",
       "    </tr>\n",
       "    <tr>\n",
       "      <th>3</th>\n",
       "      <td>War is not so much a matter of armaments as of...</td>\n",
       "      <td>finance</td>\n",
       "      <td>physical</td>\n",
       "      <td>Thucydides, 1972</td>\n",
       "    </tr>\n",
       "    <tr>\n",
       "      <th>4</th>\n",
       "      <td>Moral elements are among the most important in...</td>\n",
       "      <td>Spirit and will</td>\n",
       "      <td>moral</td>\n",
       "      <td>Clausewitz, 1989, p.184​</td>\n",
       "    </tr>\n",
       "  </tbody>\n",
       "</table>\n",
       "</div>"
      ],
      "text/plain": [
       "                                            sentence  \\\n",
       "0  Where superiority of numbers is overwhelming, ...   \n",
       "1  Grand strategy should calculate and develop ec...   \n",
       "2  Beyond geography, money has always been the gr...   \n",
       "3  War is not so much a matter of armaments as of...   \n",
       "4  Moral elements are among the most important in...   \n",
       "\n",
       "                       indicator    factor                    source  \n",
       "0         superiority of numbers  physical  Clausewitz, 1989, p.196​  \n",
       "1  economic resources, man-power  physical           Hart, 1991, 322  \n",
       "2                        finance  physical          Smith, 2019, 19.  \n",
       "3                        finance  physical          Thucydides, 1972  \n",
       "4               Spirit and will      moral  Clausewitz, 1989, p.184​  "
      ]
     },
     "execution_count": 26,
     "metadata": {},
     "output_type": "execute_result"
    }
   ],
   "source": [
    "df.head()"
   ]
  },
  {
   "cell_type": "code",
   "execution_count": 27,
   "id": "b1ff9c23",
   "metadata": {},
   "outputs": [
    {
     "data": {
      "text/plain": [
       "'Where superiority of numbers is overwhelming, it is admittedly is the most important factor in the outcome of an engagement. '"
      ]
     },
     "execution_count": 27,
     "metadata": {},
     "output_type": "execute_result"
    }
   ],
   "source": [
    "df.sentence[0]"
   ]
  },
  {
   "cell_type": "code",
   "execution_count": 28,
   "id": "9167e3af",
   "metadata": {},
   "outputs": [],
   "source": [
    "perspectives = df.sentence.apply(gensim.utils.simple_preprocess)"
   ]
  },
  {
   "cell_type": "code",
   "execution_count": 29,
   "id": "57b2931c",
   "metadata": {},
   "outputs": [
    {
     "data": {
      "text/plain": [
       "0     [where, superiority, of, numbers, is, overwhel...\n",
       "1     [grand, strategy, should, calculate, and, deve...\n",
       "2     [beyond, geography, money, has, always, been, ...\n",
       "3     [war, is, not, so, much, matter, of, armaments...\n",
       "4     [moral, elements, are, among, the, most, impor...\n",
       "5     [once, war, is, declared, the, highest, comman...\n",
       "6     [grand, strategy, should, calculate, and, deve...\n",
       "7     [in, war, three, quarters, turns, on, morale, ...\n",
       "8     [force, employment, or, the, doctrine, and, ta...\n",
       "9     [those, who, masters, moral, influence, weathe...\n",
       "10    [know, the, enemy, and, know, yourself, in, hu...\n",
       "11    [strategy, directs, armies, to, the, decisive,...\n",
       "12    [strategy, is, determinant, of, victorious, wi...\n",
       "13    [indirect, approach, creates, dislocation, and...\n",
       "14    [concept, of, victory, has, three, elements, g...\n",
       "15    [every, engagement, is, bloody, and, destructi...\n",
       "16    [in, the, engagement, loss, of, marale, has, p...\n",
       "17    [by, doctrine, mean, organization, control, as...\n",
       "18    [by, command, mean, the, general, qualities, o...\n",
       "19    [by, moral, influence, mean, that, which, caus...\n",
       "20    [by, weather, mean, the, interaction, of, natu...\n",
       "21    [by, terrain, mean, distances, whether, the, g...\n",
       "22    [if, you, say, which, regulations, and, instru...\n",
       "23    [strategy, by, directing, armies, to, the, dec...\n",
       "24    [it, is, more, important, to, produce, favoura...\n",
       "25    [these, factors, as, thought, processes, or, m...\n",
       "Name: sentence, dtype: object"
      ]
     },
     "execution_count": 29,
     "metadata": {},
     "output_type": "execute_result"
    }
   ],
   "source": [
    "perspectives"
   ]
  },
  {
   "cell_type": "code",
   "execution_count": 30,
   "id": "31f3344b",
   "metadata": {},
   "outputs": [],
   "source": [
    "model = gensim.models.Word2Vec(\n",
    "    window = 10,\n",
    "    min_count = 2,\n",
    "    workers= 4,\n",
    ")"
   ]
  },
  {
   "cell_type": "code",
   "execution_count": 31,
   "id": "82ee896c",
   "metadata": {},
   "outputs": [],
   "source": [
    "#building vocabulary\n",
    "\n",
    "model.build_vocab(perspectives, progress_per=100)"
   ]
  },
  {
   "cell_type": "code",
   "execution_count": 32,
   "id": "d2cb59b8",
   "metadata": {},
   "outputs": [
    {
     "data": {
      "text/plain": [
       "5"
      ]
     },
     "execution_count": 32,
     "metadata": {},
     "output_type": "execute_result"
    }
   ],
   "source": [
    "model.epochs"
   ]
  },
  {
   "cell_type": "code",
   "execution_count": 33,
   "id": "49e80830",
   "metadata": {},
   "outputs": [
    {
     "data": {
      "text/plain": [
       "26"
      ]
     },
     "execution_count": 33,
     "metadata": {},
     "output_type": "execute_result"
    }
   ],
   "source": [
    "model.corpus_count"
   ]
  },
  {
   "cell_type": "code",
   "execution_count": 34,
   "id": "139122cd",
   "metadata": {},
   "outputs": [
    {
     "data": {
      "text/plain": [
       "(586, 2715)"
      ]
     },
     "execution_count": 34,
     "metadata": {},
     "output_type": "execute_result"
    }
   ],
   "source": [
    "model.train(perspectives, total_examples=model.corpus_count, epochs =model.epochs) "
   ]
  },
  {
   "cell_type": "code",
   "execution_count": 35,
   "id": "48e16dac",
   "metadata": {},
   "outputs": [],
   "source": [
    "model.save(\"pax.model\")"
   ]
  },
  {
   "cell_type": "code",
   "execution_count": 42,
   "id": "85ee0bd5",
   "metadata": {},
   "outputs": [
    {
     "data": {
      "text/plain": [
       "[('victor', 0.25118643045425415),\n",
       " ('the', 0.2239464819431305),\n",
       " ('should', 0.21791531145572662),\n",
       " ('win', 0.20920003950595856),\n",
       " ('calculate', 0.16436129808425903),\n",
       " ('deciding', 0.13799598813056946),\n",
       " ('be', 0.12990830838680267),\n",
       " ('effects', 0.10774846374988556),\n",
       " ('loss', 0.10681787133216858),\n",
       " ('death', 0.09493274241685867)]"
      ]
     },
     "execution_count": 42,
     "metadata": {},
     "output_type": "execute_result"
    }
   ],
   "source": [
    "model.wv.most_similar(\"war\")"
   ]
  },
  {
   "cell_type": "code",
   "execution_count": null,
   "id": "eb15b15a",
   "metadata": {},
   "outputs": [],
   "source": []
  }
 ],
 "metadata": {
  "kernelspec": {
   "display_name": "Python 3 (ipykernel)",
   "language": "python",
   "name": "python3"
  },
  "language_info": {
   "codemirror_mode": {
    "name": "ipython",
    "version": 3
   },
   "file_extension": ".py",
   "mimetype": "text/x-python",
   "name": "python",
   "nbconvert_exporter": "python",
   "pygments_lexer": "ipython3",
   "version": "3.11.3"
  }
 },
 "nbformat": 4,
 "nbformat_minor": 5
}
