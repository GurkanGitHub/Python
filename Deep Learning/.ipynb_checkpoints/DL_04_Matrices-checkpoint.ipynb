{
 "cells": [
  {
   "cell_type": "code",
   "execution_count": 1,
   "id": "13cab1e7",
   "metadata": {},
   "outputs": [],
   "source": [
    "import numpy as np"
   ]
  },
  {
   "cell_type": "code",
   "execution_count": 2,
   "id": "0ad6fb14",
   "metadata": {},
   "outputs": [
    {
     "data": {
      "text/plain": [
       "array([[180, 200, 220],\n",
       "       [ 24,  36,  40],\n",
       "       [ 12,  18,  20]])"
      ]
     },
     "execution_count": 2,
     "metadata": {},
     "output_type": "execute_result"
    }
   ],
   "source": [
    "revenue = np.array([[180, 200, 220], [24,36,40], [12,18,20]])\n",
    "revenue"
   ]
  },
  {
   "cell_type": "code",
   "execution_count": 3,
   "id": "03e35040",
   "metadata": {},
   "outputs": [
    {
     "data": {
      "text/plain": [
       "array([[ 80,  90, 100],\n",
       "       [ 10,  16,  20],\n",
       "       [  8,  10,  10]])"
      ]
     },
     "execution_count": 3,
     "metadata": {},
     "output_type": "execute_result"
    }
   ],
   "source": [
    "expenses = np.array([[80,90,100], [10,16,20], [8,10,10]])\n",
    "expenses"
   ]
  },
  {
   "cell_type": "code",
   "execution_count": 4,
   "id": "f05a2a9b",
   "metadata": {},
   "outputs": [
    {
     "data": {
      "text/plain": [
       "array([[100, 110, 120],\n",
       "       [ 14,  20,  20],\n",
       "       [  4,   8,  10]])"
      ]
     },
     "execution_count": 4,
     "metadata": {},
     "output_type": "execute_result"
    }
   ],
   "source": [
    "profit = revenue-expenses\n",
    "profit"
   ]
  },
  {
   "cell_type": "code",
   "execution_count": 5,
   "id": "f759e3e7",
   "metadata": {},
   "outputs": [
    {
     "data": {
      "text/plain": [
       "array([[30, 40, 50],\n",
       "       [ 5, 10, 15],\n",
       "       [ 2,  5,  7]])"
      ]
     },
     "execution_count": 5,
     "metadata": {},
     "output_type": "execute_result"
    }
   ],
   "source": [
    "sales = np.array([[30, 40, 50], [5,10,15], [2,5,7]])\n",
    "sales"
   ]
  },
  {
   "cell_type": "code",
   "execution_count": 6,
   "id": "1465f0a7",
   "metadata": {},
   "outputs": [
    {
     "data": {
      "text/plain": [
       "array([1000,  400, 1200])"
      ]
     },
     "execution_count": 6,
     "metadata": {},
     "output_type": "execute_result"
    }
   ],
   "source": [
    "price = np.array([1000, 400, 1200])\n",
    "price"
   ]
  },
  {
   "cell_type": "code",
   "execution_count": 7,
   "id": "7d1e5a5a",
   "metadata": {},
   "outputs": [],
   "source": [
    "total_sales = price*sales"
   ]
  },
  {
   "cell_type": "code",
   "execution_count": 8,
   "id": "d52a64d3",
   "metadata": {},
   "outputs": [
    {
     "data": {
      "text/plain": [
       "array([[30000, 16000, 60000],\n",
       "       [ 5000,  4000, 18000],\n",
       "       [ 2000,  2000,  8400]])"
      ]
     },
     "execution_count": 8,
     "metadata": {},
     "output_type": "execute_result"
    }
   ],
   "source": [
    "total_sales #broadcasting"
   ]
  },
  {
   "cell_type": "code",
   "execution_count": 9,
   "id": "0a78acf7",
   "metadata": {},
   "outputs": [
    {
     "data": {
      "text/plain": [
       "array([34400, 50000, 64400])"
      ]
     },
     "execution_count": 9,
     "metadata": {},
     "output_type": "execute_result"
    }
   ],
   "source": [
    "np.dot(price, sales)"
   ]
  },
  {
   "cell_type": "code",
   "execution_count": 10,
   "id": "1d3e4227",
   "metadata": {},
   "outputs": [],
   "source": [
    "revenueD = np.array([[200, 220, 250], [68,79,105], [110, 140, 180], [80,85,90]])"
   ]
  },
  {
   "cell_type": "code",
   "execution_count": 11,
   "id": "e953c597",
   "metadata": {},
   "outputs": [
    {
     "data": {
      "text/plain": [
       "array([[200, 220, 250],\n",
       "       [ 68,  79, 105],\n",
       "       [110, 140, 180],\n",
       "       [ 80,  85,  90]])"
      ]
     },
     "execution_count": 11,
     "metadata": {},
     "output_type": "execute_result"
    }
   ],
   "source": [
    "revenueD"
   ]
  },
  {
   "cell_type": "code",
   "execution_count": 12,
   "id": "0bd6cdb7",
   "metadata": {},
   "outputs": [],
   "source": [
    "exchange_rate = 20"
   ]
  },
  {
   "cell_type": "code",
   "execution_count": 13,
   "id": "8b42b1dc",
   "metadata": {},
   "outputs": [],
   "source": [
    "revenueT= exchange_rate*revenueD"
   ]
  },
  {
   "cell_type": "code",
   "execution_count": 14,
   "id": "0bd0913c",
   "metadata": {},
   "outputs": [
    {
     "data": {
      "text/plain": [
       "array([[4000, 4400, 5000],\n",
       "       [1360, 1580, 2100],\n",
       "       [2200, 2800, 3600],\n",
       "       [1600, 1700, 1800]])"
      ]
     },
     "execution_count": 14,
     "metadata": {},
     "output_type": "execute_result"
    }
   ],
   "source": [
    "revenueT"
   ]
  },
  {
   "cell_type": "code",
   "execution_count": 15,
   "id": "ecfd502d",
   "metadata": {},
   "outputs": [
    {
     "data": {
      "text/html": [
       "<div>\n",
       "<style scoped>\n",
       "    .dataframe tbody tr th:only-of-type {\n",
       "        vertical-align: middle;\n",
       "    }\n",
       "\n",
       "    .dataframe tbody tr th {\n",
       "        vertical-align: top;\n",
       "    }\n",
       "\n",
       "    .dataframe thead th {\n",
       "        text-align: right;\n",
       "    }\n",
       "</style>\n",
       "<table border=\"1\" class=\"dataframe\">\n",
       "  <thead>\n",
       "    <tr style=\"text-align: right;\">\n",
       "      <th></th>\n",
       "      <th>FY2018</th>\n",
       "      <th>FY2019</th>\n",
       "      <th>FY2020</th>\n",
       "    </tr>\n",
       "  </thead>\n",
       "  <tbody>\n",
       "    <tr>\n",
       "      <th>Reliance</th>\n",
       "      <td>4000</td>\n",
       "      <td>4400</td>\n",
       "      <td>5000</td>\n",
       "    </tr>\n",
       "    <tr>\n",
       "      <th>Infosys</th>\n",
       "      <td>1360</td>\n",
       "      <td>1580</td>\n",
       "      <td>2100</td>\n",
       "    </tr>\n",
       "    <tr>\n",
       "      <th>TCS</th>\n",
       "      <td>2200</td>\n",
       "      <td>2800</td>\n",
       "      <td>3600</td>\n",
       "    </tr>\n",
       "    <tr>\n",
       "      <th>Wipro</th>\n",
       "      <td>1600</td>\n",
       "      <td>1700</td>\n",
       "      <td>1800</td>\n",
       "    </tr>\n",
       "  </tbody>\n",
       "</table>\n",
       "</div>"
      ],
      "text/plain": [
       "          FY2018  FY2019  FY2020\n",
       "Reliance    4000    4400    5000\n",
       "Infosys     1360    1580    2100\n",
       "TCS         2200    2800    3600\n",
       "Wipro       1600    1700    1800"
      ]
     },
     "execution_count": 15,
     "metadata": {},
     "output_type": "execute_result"
    }
   ],
   "source": [
    "import pandas as pd\n",
    "pd.DataFrame(data= revenueT, index = [\"Reliance\", \"Infosys\", \"TCS\", \"Wipro\"],\n",
    "             columns = [\"FY2018\",\"FY2019\",\"FY2020\" ])"
   ]
  },
  {
   "cell_type": "code",
   "execution_count": 16,
   "id": "3f41f0c1",
   "metadata": {},
   "outputs": [],
   "source": [
    "A = np.array([[1,2], [3,4], [5,6]])"
   ]
  },
  {
   "cell_type": "code",
   "execution_count": 17,
   "id": "fc3d8c52",
   "metadata": {},
   "outputs": [
    {
     "data": {
      "text/plain": [
       "array([[1, 2],\n",
       "       [3, 4],\n",
       "       [5, 6]])"
      ]
     },
     "execution_count": 17,
     "metadata": {},
     "output_type": "execute_result"
    }
   ],
   "source": [
    "A # 3*2 matrice"
   ]
  },
  {
   "cell_type": "code",
   "execution_count": 18,
   "id": "60d9d315",
   "metadata": {},
   "outputs": [],
   "source": [
    "B = np.array([[1,2,3], [4,5,6]])"
   ]
  },
  {
   "cell_type": "code",
   "execution_count": 19,
   "id": "1c730294",
   "metadata": {},
   "outputs": [
    {
     "data": {
      "text/plain": [
       "array([[1, 2, 3],\n",
       "       [4, 5, 6]])"
      ]
     },
     "execution_count": 19,
     "metadata": {},
     "output_type": "execute_result"
    }
   ],
   "source": [
    "B # 2*3 matrice"
   ]
  },
  {
   "cell_type": "code",
   "execution_count": 20,
   "id": "7f344c74",
   "metadata": {},
   "outputs": [
    {
     "data": {
      "text/plain": [
       "array([[ 9, 12, 15],\n",
       "       [19, 26, 33],\n",
       "       [29, 40, 51]])"
      ]
     },
     "execution_count": 20,
     "metadata": {},
     "output_type": "execute_result"
    }
   ],
   "source": [
    "np.dot(A,B)"
   ]
  },
  {
   "cell_type": "code",
   "execution_count": 21,
   "id": "4146e52f",
   "metadata": {},
   "outputs": [],
   "source": [
    "C = np.array([[1,2], [3,4]])"
   ]
  },
  {
   "cell_type": "code",
   "execution_count": 22,
   "id": "8f4f5d0e",
   "metadata": {},
   "outputs": [
    {
     "data": {
      "text/plain": [
       "array([[1, 2],\n",
       "       [3, 4]])"
      ]
     },
     "execution_count": 22,
     "metadata": {},
     "output_type": "execute_result"
    }
   ],
   "source": [
    "C"
   ]
  },
  {
   "cell_type": "code",
   "execution_count": 23,
   "id": "94a202b9",
   "metadata": {},
   "outputs": [
    {
     "data": {
      "text/plain": [
       "array([[ 7, 10],\n",
       "       [15, 22],\n",
       "       [23, 34]])"
      ]
     },
     "execution_count": 23,
     "metadata": {},
     "output_type": "execute_result"
    }
   ],
   "source": [
    "np.dot(A,C)"
   ]
  },
  {
   "cell_type": "code",
   "execution_count": 24,
   "id": "88354274",
   "metadata": {},
   "outputs": [
    {
     "data": {
      "text/plain": [
       "array([[1, 2, 3],\n",
       "       [4, 5, 6],\n",
       "       [7, 8, 9]])"
      ]
     },
     "execution_count": 24,
     "metadata": {},
     "output_type": "execute_result"
    }
   ],
   "source": [
    "D = np.array([[1,2,3], [4,5,6], [7,8,9]])\n",
    "D"
   ]
  },
  {
   "cell_type": "code",
   "execution_count": 25,
   "id": "7550269a",
   "metadata": {},
   "outputs": [
    {
     "data": {
      "text/plain": [
       "array([[30, 36, 42],\n",
       "       [66, 81, 96]])"
      ]
     },
     "execution_count": 25,
     "metadata": {},
     "output_type": "execute_result"
    }
   ],
   "source": [
    "np.dot(B,D)"
   ]
  },
  {
   "cell_type": "code",
   "execution_count": null,
   "id": "78baa832",
   "metadata": {},
   "outputs": [],
   "source": []
  }
 ],
 "metadata": {
  "kernelspec": {
   "display_name": "Python 3 (ipykernel)",
   "language": "python",
   "name": "python3"
  },
  "language_info": {
   "codemirror_mode": {
    "name": "ipython",
    "version": 3
   },
   "file_extension": ".py",
   "mimetype": "text/x-python",
   "name": "python",
   "nbconvert_exporter": "python",
   "pygments_lexer": "ipython3",
   "version": "3.11.3"
  }
 },
 "nbformat": 4,
 "nbformat_minor": 5
}
