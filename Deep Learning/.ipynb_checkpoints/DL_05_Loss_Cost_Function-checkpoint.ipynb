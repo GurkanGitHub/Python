{
 "cells": [
  {
   "cell_type": "code",
   "execution_count": 1,
   "id": "9520d70e",
   "metadata": {},
   "outputs": [],
   "source": [
    "import numpy as np"
   ]
  },
  {
   "cell_type": "code",
   "execution_count": 2,
   "id": "1b38ff50",
   "metadata": {},
   "outputs": [],
   "source": [
    "y_predicted= np.array([1,1,0,0,1])\n",
    "y_test= np.array([0.30, 0.7, 1,0,0.5])"
   ]
  },
  {
   "cell_type": "code",
   "execution_count": 3,
   "id": "4247a775",
   "metadata": {},
   "outputs": [],
   "source": [
    "def mae(y_test, y_predicted):\n",
    "  total_error= 0\n",
    "  for yt, yp in zip(y_test, y_predicted):\n",
    "    print(yt, yp)"
   ]
  },
  {
   "cell_type": "code",
   "execution_count": 4,
   "id": "da3850b8",
   "metadata": {},
   "outputs": [
    {
     "name": "stdout",
     "output_type": "stream",
     "text": [
      "0.3 1\n",
      "0.7 1\n",
      "1.0 0\n",
      "0.0 0\n",
      "0.5 1\n"
     ]
    }
   ],
   "source": [
    "mae(y_test, y_predicted)"
   ]
  },
  {
   "cell_type": "code",
   "execution_count": 5,
   "id": "c00b0bcc",
   "metadata": {},
   "outputs": [],
   "source": [
    "def mae(y_test, y_predicted):\n",
    "  total_error= 0\n",
    "  for yt, yp in zip(y_test, y_predicted):\n",
    "    total_error += abs(yt- yp)\n",
    "  print(\"Total Error:\", total_error)\n",
    "  mae = total_error/len(y_test)\n",
    "  print(\"MAE:\", mae)"
   ]
  },
  {
   "cell_type": "code",
   "execution_count": 6,
   "id": "87d99b3a",
   "metadata": {},
   "outputs": [
    {
     "name": "stdout",
     "output_type": "stream",
     "text": [
      "Total Error: 2.5\n",
      "MAE: 0.5\n"
     ]
    }
   ],
   "source": [
    "mae(y_test, y_predicted)"
   ]
  },
  {
   "cell_type": "code",
   "execution_count": 8,
   "id": "7b3e6c3e",
   "metadata": {},
   "outputs": [
    {
     "data": {
      "text/plain": [
       "2.5"
      ]
     },
     "execution_count": 8,
     "metadata": {},
     "output_type": "execute_result"
    }
   ],
   "source": [
    "np.sum(np.abs(y_predicted - y_test))"
   ]
  },
  {
   "cell_type": "code",
   "execution_count": 7,
   "id": "b640f454",
   "metadata": {},
   "outputs": [
    {
     "data": {
      "text/plain": [
       "0.5"
      ]
     },
     "execution_count": 7,
     "metadata": {},
     "output_type": "execute_result"
    }
   ],
   "source": [
    "np.mean(np.abs(y_predicted - y_test))"
   ]
  },
  {
   "cell_type": "markdown",
   "id": "c4beecf6",
   "metadata": {},
   "source": [
    "## MSE"
   ]
  },
  {
   "cell_type": "code",
   "execution_count": 9,
   "id": "89468cb6",
   "metadata": {},
   "outputs": [],
   "source": [
    "import numpy as np\n",
    "y_predicted= np.array([1,1,0,0,1])\n",
    "y_test= np.array([0.30, 0.7, 1,0,0.5])"
   ]
  },
  {
   "cell_type": "code",
   "execution_count": 31,
   "id": "eca115bf",
   "metadata": {},
   "outputs": [],
   "source": [
    "def mse(y_test, y_predicted):\n",
    "    total_error = 0\n",
    "    for yt, yp in zip(y_test, y_predicted):\n",
    "        total_error += (yt-yp)**2\n",
    "    print(\"Total Squared Error:\",total_error)\n",
    "    mse = total_error/len(y_test)\n",
    "    print(\"Mean Squared Error:\",mse)\n",
    "    return mse"
   ]
  },
  {
   "cell_type": "code",
   "execution_count": 32,
   "id": "a2457dd3",
   "metadata": {},
   "outputs": [
    {
     "name": "stdout",
     "output_type": "stream",
     "text": [
      "Total Squared Error: 1.83\n",
      "Mean Squared Error: 0.366\n"
     ]
    },
    {
     "data": {
      "text/plain": [
       "0.366"
      ]
     },
     "execution_count": 32,
     "metadata": {},
     "output_type": "execute_result"
    }
   ],
   "source": [
    "mse(y_test, y_predicted)"
   ]
  },
  {
   "cell_type": "code",
   "execution_count": null,
   "id": "cb380b44",
   "metadata": {},
   "outputs": [],
   "source": []
  },
  {
   "cell_type": "code",
   "execution_count": 34,
   "id": "f41f2fc2",
   "metadata": {},
   "outputs": [
    {
     "data": {
      "text/plain": [
       "0.366"
      ]
     },
     "execution_count": 34,
     "metadata": {},
     "output_type": "execute_result"
    }
   ],
   "source": [
    "np.mean(np.square(y_test-y_predicted))"
   ]
  },
  {
   "cell_type": "code",
   "execution_count": null,
   "id": "62e2d430",
   "metadata": {},
   "outputs": [],
   "source": []
  },
  {
   "cell_type": "code",
   "execution_count": 10,
   "id": "45451f8d",
   "metadata": {},
   "outputs": [
    {
     "data": {
      "text/html": [
       "<div>\n",
       "<style scoped>\n",
       "    .dataframe tbody tr th:only-of-type {\n",
       "        vertical-align: middle;\n",
       "    }\n",
       "\n",
       "    .dataframe tbody tr th {\n",
       "        vertical-align: top;\n",
       "    }\n",
       "\n",
       "    .dataframe thead th {\n",
       "        text-align: right;\n",
       "    }\n",
       "</style>\n",
       "<table border=\"1\" class=\"dataframe\">\n",
       "  <thead>\n",
       "    <tr style=\"text-align: right;\">\n",
       "      <th></th>\n",
       "      <th>y_pred</th>\n",
       "      <th>y_test</th>\n",
       "      <th>error</th>\n",
       "      <th>se</th>\n",
       "    </tr>\n",
       "  </thead>\n",
       "  <tbody>\n",
       "    <tr>\n",
       "      <th>0</th>\n",
       "      <td>1</td>\n",
       "      <td>0.3</td>\n",
       "      <td>0.7</td>\n",
       "      <td>0.49</td>\n",
       "    </tr>\n",
       "    <tr>\n",
       "      <th>1</th>\n",
       "      <td>1</td>\n",
       "      <td>0.7</td>\n",
       "      <td>0.3</td>\n",
       "      <td>0.09</td>\n",
       "    </tr>\n",
       "    <tr>\n",
       "      <th>2</th>\n",
       "      <td>0</td>\n",
       "      <td>1.0</td>\n",
       "      <td>-1.0</td>\n",
       "      <td>1.00</td>\n",
       "    </tr>\n",
       "    <tr>\n",
       "      <th>3</th>\n",
       "      <td>0</td>\n",
       "      <td>0.0</td>\n",
       "      <td>0.0</td>\n",
       "      <td>0.00</td>\n",
       "    </tr>\n",
       "    <tr>\n",
       "      <th>4</th>\n",
       "      <td>1</td>\n",
       "      <td>0.5</td>\n",
       "      <td>0.5</td>\n",
       "      <td>0.25</td>\n",
       "    </tr>\n",
       "  </tbody>\n",
       "</table>\n",
       "</div>"
      ],
      "text/plain": [
       "   y_pred  y_test  error    se\n",
       "0       1     0.3    0.7  0.49\n",
       "1       1     0.7    0.3  0.09\n",
       "2       0     1.0   -1.0  1.00\n",
       "3       0     0.0    0.0  0.00\n",
       "4       1     0.5    0.5  0.25"
      ]
     },
     "execution_count": 10,
     "metadata": {},
     "output_type": "execute_result"
    }
   ],
   "source": [
    "import pandas as pd\n",
    "df = pd.DataFrame(zip(y_predicted, y_test), columns = [\"y_pred\", \"y_test\"])\n",
    "df[\"error\"] = df[\"y_pred\"]-df[\"y_test\"]\n",
    "df[\"se\"] = df.error**2\n",
    "df[\"mse\"] = df.se/len(df[\"y_pred\"])\n",
    "df.drop(\"mse\", inplace=True, axis=1)\n",
    "df"
   ]
  },
  {
   "cell_type": "code",
   "execution_count": 11,
   "id": "3198c6d7",
   "metadata": {},
   "outputs": [
    {
     "data": {
      "text/plain": [
       "0.366"
      ]
     },
     "execution_count": 11,
     "metadata": {},
     "output_type": "execute_result"
    }
   ],
   "source": [
    "sum(df.se)/5"
   ]
  },
  {
   "cell_type": "code",
   "execution_count": 12,
   "id": "f7388236",
   "metadata": {},
   "outputs": [],
   "source": [
    "def mse(x,y):\n",
    "  for x,y in zip(y_predicted, y_test):\n",
    "    return [(x-y)**2 for x,y in zip(y_predicted,y_test)]"
   ]
  },
  {
   "cell_type": "code",
   "execution_count": 13,
   "id": "48df8bf9",
   "metadata": {},
   "outputs": [
    {
     "data": {
      "text/plain": [
       "[0.48999999999999994, 0.09000000000000002, 1.0, 0.0, 0.25]"
      ]
     },
     "execution_count": 13,
     "metadata": {},
     "output_type": "execute_result"
    }
   ],
   "source": [
    "mse(y_predicted,y_test)"
   ]
  },
  {
   "cell_type": "markdown",
   "id": "9ed2956e",
   "metadata": {},
   "source": [
    "## log loss"
   ]
  },
  {
   "cell_type": "code",
   "execution_count": 14,
   "id": "a0ad291c",
   "metadata": {},
   "outputs": [],
   "source": [
    "#log loss\n",
    "#log(0)= undefined, to avoid this we take so close to 0"
   ]
  },
  {
   "cell_type": "code",
   "execution_count": 15,
   "id": "ab3e6f1c",
   "metadata": {},
   "outputs": [
    {
     "name": "stderr",
     "output_type": "stream",
     "text": [
      "C:\\Windows\\Temp\\ipykernel_12528\\2933082444.py:1: RuntimeWarning: divide by zero encountered in log\n",
      "  np.log(0)\n"
     ]
    },
    {
     "data": {
      "text/plain": [
       "-inf"
      ]
     },
     "execution_count": 15,
     "metadata": {},
     "output_type": "execute_result"
    }
   ],
   "source": [
    "np.log(0)"
   ]
  },
  {
   "cell_type": "code",
   "execution_count": 16,
   "id": "55716a03",
   "metadata": {},
   "outputs": [
    {
     "data": {
      "text/plain": [
       "-23.025850929940457"
      ]
     },
     "execution_count": 16,
     "metadata": {},
     "output_type": "execute_result"
    }
   ],
   "source": [
    "np.log(0.0000000001)"
   ]
  },
  {
   "cell_type": "code",
   "execution_count": 17,
   "id": "0469c52f",
   "metadata": {},
   "outputs": [],
   "source": [
    "epsilon = 1e-15"
   ]
  },
  {
   "cell_type": "code",
   "execution_count": 18,
   "id": "99a48fdb",
   "metadata": {},
   "outputs": [],
   "source": [
    "y_predicted_new = [max(i, epsilon)for i in y_predicted]"
   ]
  },
  {
   "cell_type": "code",
   "execution_count": 19,
   "id": "bc374042",
   "metadata": {},
   "outputs": [
    {
     "data": {
      "text/plain": [
       "[1, 1, 1e-15, 1e-15, 1]"
      ]
     },
     "execution_count": 19,
     "metadata": {},
     "output_type": "execute_result"
    }
   ],
   "source": [
    "y_predicted_new"
   ]
  },
  {
   "cell_type": "code",
   "execution_count": 20,
   "id": "0000acdd",
   "metadata": {},
   "outputs": [],
   "source": [
    "y_predicted_new = [min(i, 1-epsilon) for i in y_predicted_new]"
   ]
  },
  {
   "cell_type": "code",
   "execution_count": 21,
   "id": "731f7149",
   "metadata": {},
   "outputs": [
    {
     "data": {
      "text/plain": [
       "[0.999999999999999, 0.999999999999999, 1e-15, 1e-15, 0.999999999999999]"
      ]
     },
     "execution_count": 21,
     "metadata": {},
     "output_type": "execute_result"
    }
   ],
   "source": [
    "y_predicted_new"
   ]
  },
  {
   "cell_type": "code",
   "execution_count": 22,
   "id": "faf4caeb",
   "metadata": {},
   "outputs": [
    {
     "data": {
      "text/plain": [
       "array([-9.99200722e-16, -9.99200722e-16, -3.45387764e+01, -3.45387764e+01,\n",
       "       -9.99200722e-16])"
      ]
     },
     "execution_count": 22,
     "metadata": {},
     "output_type": "execute_result"
    }
   ],
   "source": [
    "y_predicted_new = np.array(y_predicted_new)\n",
    "np.log(y_predicted_new)"
   ]
  },
  {
   "cell_type": "code",
   "execution_count": 23,
   "id": "296cc2d1",
   "metadata": {},
   "outputs": [
    {
     "name": "stderr",
     "output_type": "stream",
     "text": [
      "C:\\Windows\\Temp\\ipykernel_12528\\815880036.py:1: RuntimeWarning: divide by zero encountered in log\n",
      "  np.log(y_predicted)\n"
     ]
    },
    {
     "data": {
      "text/plain": [
       "array([  0.,   0., -inf, -inf,   0.])"
      ]
     },
     "execution_count": 23,
     "metadata": {},
     "output_type": "execute_result"
    }
   ],
   "source": [
    "np.log(y_predicted)"
   ]
  },
  {
   "cell_type": "code",
   "execution_count": 24,
   "id": "8f5d6666",
   "metadata": {},
   "outputs": [
    {
     "data": {
      "text/plain": [
       "17.2696280766844"
      ]
     },
     "execution_count": 24,
     "metadata": {},
     "output_type": "execute_result"
    }
   ],
   "source": [
    "-np.mean(y_test*np.log(y_predicted_new) + (1-y_test)*np.log(1-y_predicted_new))"
   ]
  },
  {
   "cell_type": "code",
   "execution_count": 25,
   "id": "e6d89394",
   "metadata": {},
   "outputs": [],
   "source": [
    "def log_loss(y_test, y_predicted):\n",
    "  y_predicted_new = [max(i, epsilon)for i in y_predicted]\n",
    "  y_predicted_new = [min(i, 1-epsilon) for i in y_predicted_new]\n",
    "  y_predicted_new = np.array(y_predicted_new)\n",
    "  return -np.mean(y_test*np.log(y_predicted_new) + (1-y_test)*np.log(1-y_predicted_new))\n"
   ]
  },
  {
   "cell_type": "code",
   "execution_count": 26,
   "id": "1f518642",
   "metadata": {},
   "outputs": [
    {
     "data": {
      "text/plain": [
       "17.2696280766844"
      ]
     },
     "execution_count": 26,
     "metadata": {},
     "output_type": "execute_result"
    }
   ],
   "source": [
    "log_loss(y_test, y_predicted)"
   ]
  },
  {
   "cell_type": "code",
   "execution_count": null,
   "id": "a4c34df6",
   "metadata": {},
   "outputs": [],
   "source": []
  }
 ],
 "metadata": {
  "kernelspec": {
   "display_name": "Python 3 (ipykernel)",
   "language": "python",
   "name": "python3"
  },
  "language_info": {
   "codemirror_mode": {
    "name": "ipython",
    "version": 3
   },
   "file_extension": ".py",
   "mimetype": "text/x-python",
   "name": "python",
   "nbconvert_exporter": "python",
   "pygments_lexer": "ipython3",
   "version": "3.11.3"
  }
 },
 "nbformat": 4,
 "nbformat_minor": 5
}
