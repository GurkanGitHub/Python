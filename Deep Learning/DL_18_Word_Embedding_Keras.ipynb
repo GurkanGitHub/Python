{
 "cells": [
  {
   "cell_type": "markdown",
   "id": "e04756c4",
   "metadata": {},
   "source": [
    "<h2 style = \"color:red\" align = \"center\"> Keras Embedding Layer </h2>"
   ]
  },
  {
   "cell_type": "code",
   "execution_count": null,
   "id": "ab878103",
   "metadata": {},
   "outputs": [],
   "source": [
    "On the process of solving NLP task, it will compute embeddings on fly. \n",
    "\n",
    "Save embeddings on a file"
   ]
  },
  {
   "cell_type": "code",
   "execution_count": 36,
   "id": "799094a2",
   "metadata": {},
   "outputs": [],
   "source": [
    "import numpy as np"
   ]
  },
  {
   "cell_type": "code",
   "execution_count": 37,
   "id": "942c08fa",
   "metadata": {},
   "outputs": [],
   "source": [
    "from tensorflow.keras.preprocessing.text import one_hot"
   ]
  },
  {
   "cell_type": "code",
   "execution_count": 38,
   "id": "4c08a2c5",
   "metadata": {},
   "outputs": [],
   "source": [
    "from tensorflow.keras.preprocessing.sequence import pad_sequences"
   ]
  },
  {
   "cell_type": "code",
   "execution_count": 39,
   "id": "fce77b07",
   "metadata": {},
   "outputs": [],
   "source": [
    "from tensorflow.keras.models import Sequential"
   ]
  },
  {
   "cell_type": "code",
   "execution_count": 40,
   "id": "2117c42c",
   "metadata": {},
   "outputs": [],
   "source": [
    "from tensorflow.keras.layers import Dense\n",
    "from tensorflow.keras.layers import Flatten\n",
    "from tensorflow.keras.layers import Embedding"
   ]
  },
  {
   "cell_type": "code",
   "execution_count": 41,
   "id": "81c7e6f6",
   "metadata": {},
   "outputs": [],
   "source": [
    "reviews = ['nice food',\n",
    "        'amazing restaurant',\n",
    "        'too good',\n",
    "        'just loved it!',\n",
    "        'will go again',\n",
    "        'horrible food',\n",
    "        'never go there',\n",
    "        'poor service',\n",
    "        'poor quality',\n",
    "        'needs improvement']\n",
    "\n",
    "sentiment = np.array([1,1,1,1,1,0,0,0,0,0])"
   ]
  },
  {
   "cell_type": "code",
   "execution_count": 68,
   "id": "fac343c4",
   "metadata": {},
   "outputs": [
    {
     "data": {
      "text/plain": [
       "[2, 43]"
      ]
     },
     "execution_count": 68,
     "metadata": {},
     "output_type": "execute_result"
    }
   ],
   "source": [
    "one_hot(\"amazing restaurant\", 50)\n",
    "# 30: vocabulary size"
   ]
  },
  {
   "cell_type": "markdown",
   "id": "4c346d41",
   "metadata": {},
   "source": [
    "**1.Converting reviews into one-hot encoding**"
   ]
  },
  {
   "cell_type": "code",
   "execution_count": 83,
   "id": "bbfeb03e",
   "metadata": {},
   "outputs": [],
   "source": [
    "vocab_size = 50 #we initialize vocab size as 30"
   ]
  },
  {
   "cell_type": "code",
   "execution_count": 84,
   "id": "b4a16164",
   "metadata": {},
   "outputs": [],
   "source": [
    "encoded_reviews = [one_hot(i, vocab_size) for i in reviews]"
   ]
  },
  {
   "cell_type": "code",
   "execution_count": 85,
   "id": "e16207bd",
   "metadata": {},
   "outputs": [
    {
     "data": {
      "text/plain": [
       "[[1, 6],\n",
       " [2, 43],\n",
       " [14, 14],\n",
       " [16, 36, 45],\n",
       " [4, 14, 21],\n",
       " [32, 6],\n",
       " [13, 14, 35],\n",
       " [42, 12],\n",
       " [42, 10],\n",
       " [2, 36]]"
      ]
     },
     "execution_count": 85,
     "metadata": {},
     "output_type": "execute_result"
    }
   ],
   "source": [
    "encoded_reviews"
   ]
  },
  {
   "cell_type": "markdown",
   "id": "e1252439",
   "metadata": {},
   "source": [
    "**2.Padding to fix length**"
   ]
  },
  {
   "cell_type": "code",
   "execution_count": 86,
   "id": "b9dd5fcf",
   "metadata": {},
   "outputs": [],
   "source": [
    "#we will make every vector size equal\n",
    "#pad_sequence method"
   ]
  },
  {
   "cell_type": "code",
   "execution_count": 87,
   "id": "3cd3642b",
   "metadata": {},
   "outputs": [
    {
     "data": {
      "text/plain": [
       "array([[ 1,  6,  0],\n",
       "       [ 2, 43,  0],\n",
       "       [14, 14,  0],\n",
       "       [16, 36, 45],\n",
       "       [ 4, 14, 21],\n",
       "       [32,  6,  0],\n",
       "       [13, 14, 35],\n",
       "       [42, 12,  0],\n",
       "       [42, 10,  0],\n",
       "       [ 2, 36,  0]])"
      ]
     },
     "execution_count": 87,
     "metadata": {},
     "output_type": "execute_result"
    }
   ],
   "source": [
    "max_length= 3\n",
    "padded_reviews = pad_sequences(encoded_reviews, maxlen=max_length, padding = \"post\")\n",
    "padded_reviews"
   ]
  },
  {
   "cell_type": "markdown",
   "id": "245fd4c4",
   "metadata": {},
   "source": [
    "**Embedded vector size**"
   ]
  },
  {
   "cell_type": "code",
   "execution_count": 88,
   "id": "200dbfc6",
   "metadata": {},
   "outputs": [],
   "source": [
    "#It is the feature number. "
   ]
  },
  {
   "cell_type": "code",
   "execution_count": 89,
   "id": "7b650a1a",
   "metadata": {},
   "outputs": [],
   "source": [
    "embedded_vector_size=4\n",
    "\n",
    "model = Sequential()\n",
    "\n",
    "#1st layer is embedding layer-one-hot encoded matrix\n",
    "model.add(Embedding(vocab_size, embedded_vector_size, input_length=max_length, name = \"embedding\"))\n",
    "\n",
    "#2nd layer: Flattened version of embedded vectors-product of embedding layer-random weighted and one-hot encoded vector of word\n",
    "model.add(Flatten())\n",
    "\n",
    "#3th layer is one nueron of sigmoid AF function. \n",
    "model.add(Dense(1,activation = \"sigmoid\"))"
   ]
  },
  {
   "cell_type": "code",
   "execution_count": 90,
   "id": "b1263973",
   "metadata": {},
   "outputs": [],
   "source": [
    "X = padded_reviews\n",
    "y = sentiment"
   ]
  },
  {
   "cell_type": "code",
   "execution_count": 91,
   "id": "2f7dd692",
   "metadata": {},
   "outputs": [
    {
     "name": "stdout",
     "output_type": "stream",
     "text": [
      "Model: \"sequential_6\"\n",
      "_________________________________________________________________\n",
      " Layer (type)                Output Shape              Param #   \n",
      "=================================================================\n",
      " embedding (Embedding)       (None, 3, 4)              200       \n",
      "                                                                 \n",
      " flatten_6 (Flatten)         (None, 12)                0         \n",
      "                                                                 \n",
      " dense_6 (Dense)             (None, 1)                 13        \n",
      "                                                                 \n",
      "=================================================================\n",
      "Total params: 213 (852.00 Byte)\n",
      "Trainable params: 213 (852.00 Byte)\n",
      "Non-trainable params: 0 (0.00 Byte)\n",
      "_________________________________________________________________\n"
     ]
    }
   ],
   "source": [
    "model.compile(optimizer = \"adam\", loss=\"binary_crossentropy\", metrics= [\"accuracy\"])\n",
    "model.summary()"
   ]
  },
  {
   "cell_type": "markdown",
   "id": "350596c7",
   "metadata": {},
   "source": [
    "**Training**"
   ]
  },
  {
   "cell_type": "code",
   "execution_count": 92,
   "id": "6ab34d6d",
   "metadata": {},
   "outputs": [
    {
     "data": {
      "text/plain": [
       "<keras.src.callbacks.History at 0x21f1eadb810>"
      ]
     },
     "execution_count": 92,
     "metadata": {},
     "output_type": "execute_result"
    }
   ],
   "source": [
    "model.fit(X, y, epochs = 50, verbose=0)"
   ]
  },
  {
   "cell_type": "markdown",
   "id": "f3af0dbb",
   "metadata": {},
   "source": [
    "**Evaluate the model**"
   ]
  },
  {
   "cell_type": "code",
   "execution_count": 93,
   "id": "6efd2b7c",
   "metadata": {},
   "outputs": [
    {
     "name": "stdout",
     "output_type": "stream",
     "text": [
      "1/1 [==============================] - 0s 317ms/step - loss: 0.6527 - accuracy: 1.0000\n"
     ]
    }
   ],
   "source": [
    "loss, accuracy = model.evaluate(X,y)"
   ]
  },
  {
   "cell_type": "code",
   "execution_count": 94,
   "id": "fccc8cfc",
   "metadata": {},
   "outputs": [],
   "source": [
    "#Sentiment analysis is a fake problem. I am more interested with word embeddings. \n",
    "#Word embeddings are nothing but parameters in NN."
   ]
  },
  {
   "cell_type": "code",
   "execution_count": 95,
   "id": "76917f30",
   "metadata": {},
   "outputs": [
    {
     "data": {
      "text/plain": [
       "50"
      ]
     },
     "execution_count": 95,
     "metadata": {},
     "output_type": "execute_result"
    }
   ],
   "source": [
    "weights = model.get_layer(\"embedding\").get_weights()[0]\n",
    "len(weights)"
   ]
  },
  {
   "cell_type": "code",
   "execution_count": 96,
   "id": "a8db49f5",
   "metadata": {},
   "outputs": [],
   "source": [
    "#word embeddings for \n",
    "#nice:1,\n",
    "#amazing: 2\n",
    "#food:6 (initial one hot encoded numbers)\n",
    "#embeddigns for nice and amazing should be the same: but dataset is very small: in big data vectors will be similar"
   ]
  },
  {
   "cell_type": "code",
   "execution_count": 97,
   "id": "b43de1d9",
   "metadata": {},
   "outputs": [
    {
     "data": {
      "text/plain": [
       "array([ 0.09992317, -0.06860979,  0.03517278, -0.07445153], dtype=float32)"
      ]
     },
     "execution_count": 97,
     "metadata": {},
     "output_type": "execute_result"
    }
   ],
   "source": [
    "weights[1]"
   ]
  },
  {
   "cell_type": "code",
   "execution_count": 98,
   "id": "aef43383",
   "metadata": {},
   "outputs": [
    {
     "data": {
      "text/plain": [
       "array([-0.00442587, -0.01750188, -0.05010382, -0.01046225], dtype=float32)"
      ]
     },
     "execution_count": 98,
     "metadata": {},
     "output_type": "execute_result"
    }
   ],
   "source": [
    "weights[2]"
   ]
  },
  {
   "cell_type": "code",
   "execution_count": null,
   "id": "c2fcfa4a",
   "metadata": {},
   "outputs": [],
   "source": []
  }
 ],
 "metadata": {
  "kernelspec": {
   "display_name": "Python 3 (ipykernel)",
   "language": "python",
   "name": "python3"
  },
  "language_info": {
   "codemirror_mode": {
    "name": "ipython",
    "version": 3
   },
   "file_extension": ".py",
   "mimetype": "text/x-python",
   "name": "python",
   "nbconvert_exporter": "python",
   "pygments_lexer": "ipython3",
   "version": "3.11.3"
  }
 },
 "nbformat": 4,
 "nbformat_minor": 5
}
