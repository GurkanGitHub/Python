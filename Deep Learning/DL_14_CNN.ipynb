{
 "cells": [
  {
   "cell_type": "code",
   "execution_count": 1,
   "id": "25909341",
   "metadata": {},
   "outputs": [],
   "source": [
    "import tensorflow as tf\n",
    "from tensorflow.keras import datasets, layers, models\n",
    "import matplotlib.pyplot as plt\n",
    "import numpy as np"
   ]
  },
  {
   "cell_type": "code",
   "execution_count": 78,
   "id": "eece9569",
   "metadata": {},
   "outputs": [],
   "source": [
    "(X_train, y_train),(X_test, y_test) = datasets.cifar10.load_data()"
   ]
  },
  {
   "cell_type": "code",
   "execution_count": 79,
   "id": "542bf575",
   "metadata": {},
   "outputs": [
    {
     "data": {
      "text/plain": [
       "(50000, 32, 32, 3)"
      ]
     },
     "execution_count": 79,
     "metadata": {},
     "output_type": "execute_result"
    }
   ],
   "source": [
    "X_train.shape\n",
    "# each sample is 32*32 image\n",
    "# is for rgb channels"
   ]
  },
  {
   "cell_type": "code",
   "execution_count": 80,
   "id": "02dea7cd",
   "metadata": {},
   "outputs": [
    {
     "data": {
      "text/plain": [
       "(10000, 32, 32, 3)"
      ]
     },
     "execution_count": 80,
     "metadata": {},
     "output_type": "execute_result"
    }
   ],
   "source": [
    "X_test.shape"
   ]
  },
  {
   "cell_type": "code",
   "execution_count": 81,
   "id": "f1039f9a",
   "metadata": {},
   "outputs": [
    {
     "data": {
      "text/plain": [
       "array([[[ 59,  62,  63],\n",
       "        [ 43,  46,  45],\n",
       "        [ 50,  48,  43],\n",
       "        ...,\n",
       "        [158, 132, 108],\n",
       "        [152, 125, 102],\n",
       "        [148, 124, 103]],\n",
       "\n",
       "       [[ 16,  20,  20],\n",
       "        [  0,   0,   0],\n",
       "        [ 18,   8,   0],\n",
       "        ...,\n",
       "        [123,  88,  55],\n",
       "        [119,  83,  50],\n",
       "        [122,  87,  57]],\n",
       "\n",
       "       [[ 25,  24,  21],\n",
       "        [ 16,   7,   0],\n",
       "        [ 49,  27,   8],\n",
       "        ...,\n",
       "        [118,  84,  50],\n",
       "        [120,  84,  50],\n",
       "        [109,  73,  42]],\n",
       "\n",
       "       ...,\n",
       "\n",
       "       [[208, 170,  96],\n",
       "        [201, 153,  34],\n",
       "        [198, 161,  26],\n",
       "        ...,\n",
       "        [160, 133,  70],\n",
       "        [ 56,  31,   7],\n",
       "        [ 53,  34,  20]],\n",
       "\n",
       "       [[180, 139,  96],\n",
       "        [173, 123,  42],\n",
       "        [186, 144,  30],\n",
       "        ...,\n",
       "        [184, 148,  94],\n",
       "        [ 97,  62,  34],\n",
       "        [ 83,  53,  34]],\n",
       "\n",
       "       [[177, 144, 116],\n",
       "        [168, 129,  94],\n",
       "        [179, 142,  87],\n",
       "        ...,\n",
       "        [216, 184, 140],\n",
       "        [151, 118,  84],\n",
       "        [123,  92,  72]]], dtype=uint8)"
      ]
     },
     "execution_count": 81,
     "metadata": {},
     "output_type": "execute_result"
    }
   ],
   "source": [
    "X_train[0] # we get 3 dim array: 32*32 in 3 rgd channels"
   ]
  },
  {
   "cell_type": "code",
   "execution_count": 82,
   "id": "4195b104",
   "metadata": {},
   "outputs": [
    {
     "data": {
      "text/plain": [
       "<matplotlib.image.AxesImage at 0x2d266580d90>"
      ]
     },
     "execution_count": 82,
     "metadata": {},
     "output_type": "execute_result"
    },
    {
     "data": {
      "image/png": "[encoded data removed]",
      "text/plain": [
       "<Figure size 1500x200 with 1 Axes>"
      ]
     },
     "metadata": {},
     "output_type": "display_data"
    }
   ],
   "source": [
    "plt.figure(figsize= (15,2))\n",
    "plt.imshow(X_train[1])"
   ]
  },
  {
   "cell_type": "code",
   "execution_count": 83,
   "id": "81cf664a",
   "metadata": {},
   "outputs": [],
   "source": [
    "classes = [\"airplane\",\"automobile\",\"bird\",\"cat\",\"deer\",\"dog\",\"frog\",\"horse\",\"ship\",\"truck\"]"
   ]
  },
  {
   "cell_type": "code",
   "execution_count": 84,
   "id": "52907e75",
   "metadata": {},
   "outputs": [
    {
     "data": {
      "text/plain": [
       "array([6], dtype=uint8)"
      ]
     },
     "execution_count": 84,
     "metadata": {},
     "output_type": "execute_result"
    }
   ],
   "source": [
    "y_train[0]"
   ]
  },
  {
   "cell_type": "code",
   "execution_count": 85,
   "id": "439d6bac",
   "metadata": {},
   "outputs": [
    {
     "data": {
      "text/plain": [
       "'frog'"
      ]
     },
     "execution_count": 85,
     "metadata": {},
     "output_type": "execute_result"
    }
   ],
   "source": [
    "classes[6]"
   ]
  },
  {
   "cell_type": "code",
   "execution_count": 86,
   "id": "378352fe",
   "metadata": {},
   "outputs": [
    {
     "data": {
      "text/plain": [
       "array([6, 9, 9, 4, 1], dtype=uint8)"
      ]
     },
     "execution_count": 86,
     "metadata": {},
     "output_type": "execute_result"
    }
   ],
   "source": [
    "y_train = y_train.reshape(-1,) # it changes to 1 dim array, -1 keeps index-1st dim- as is-10000 image, \n",
    "                                # 2nd dim, we want to flatten, from 2 to 1 dim: from 6 in array: to simple 6: leave this blank\n",
    "y_train[0:5]"
   ]
  },
  {
   "cell_type": "code",
   "execution_count": 87,
   "id": "991ef190",
   "metadata": {},
   "outputs": [],
   "source": [
    "y_test = y_test.reshape(-1, )"
   ]
  },
  {
   "cell_type": "code",
   "execution_count": 88,
   "id": "0be9596b",
   "metadata": {},
   "outputs": [],
   "source": [
    "def plot_sample(X,y,index):\n",
    "    plt.figure(figsize= (15,2))\n",
    "    plt.imshow(X[index])\n",
    "    plt.xlabel(classes[y[index]])"
   ]
  },
  {
   "cell_type": "code",
   "execution_count": 89,
   "id": "af0c6a4c",
   "metadata": {},
   "outputs": [
    {
     "data": {
      "image/png": "[encoded data removed]",
      "text/plain": [
       "<Figure size 1500x200 with 1 Axes>"
      ]
     },
     "metadata": {},
     "output_type": "display_data"
    }
   ],
   "source": [
    "plot_sample(X_train, y_train, 6)"
   ]
  },
  {
   "cell_type": "markdown",
   "id": "98990b9c",
   "metadata": {},
   "source": [
    "**normlizing image**"
   ]
  },
  {
   "cell_type": "code",
   "execution_count": 90,
   "id": "4009967e",
   "metadata": {},
   "outputs": [],
   "source": [
    "X_train = X_train/255\n",
    "X_test = X_test/255"
   ]
  },
  {
   "cell_type": "code",
   "execution_count": 92,
   "id": "24719f10",
   "metadata": {},
   "outputs": [
    {
     "name": "stdout",
     "output_type": "stream",
     "text": [
      "1563/1563 [==============================] - 149s 86ms/step - loss: 1.8123 - accuracy: 0.3543\n"
     ]
    },
    {
     "data": {
      "text/plain": [
       "<keras.src.callbacks.History at 0x2d2666b9550>"
      ]
     },
     "execution_count": 92,
     "metadata": {},
     "output_type": "execute_result"
    }
   ],
   "source": [
    "ann = models.Sequential([\n",
    "    layers.Flatten(input_shape=(32,32,3)), \n",
    "    layers.Dense(3000, activation='relu'),\n",
    "    layers.Dense(1000, activation='relu'),\n",
    "    layers.Dense(10, activation='sigmoid')    \n",
    "])\n",
    "\n",
    "ann.compile(optimizer='SGD',\n",
    "              loss='sparse_categorical_crossentropy',\n",
    "              metrics=['accuracy'])\n",
    "\n",
    "ann.fit(X_train, y_train, epochs=1)   "
   ]
  },
  {
   "cell_type": "code",
   "execution_count": 93,
   "id": "83e440a0",
   "metadata": {},
   "outputs": [
    {
     "name": "stdout",
     "output_type": "stream",
     "text": [
      "313/313 [==============================] - 22s 22ms/step - loss: 1.7070 - accuracy: 0.4007\n"
     ]
    },
    {
     "data": {
      "text/plain": [
       "[1.7070459127426147, 0.40070000290870667]"
      ]
     },
     "execution_count": 93,
     "metadata": {},
     "output_type": "execute_result"
    }
   ],
   "source": [
    "ann.evaluate(X_test, y_test)"
   ]
  },
  {
   "cell_type": "markdown",
   "id": "c18d3b99",
   "metadata": {},
   "source": [
    "we saw the accuracy of ann is bad. "
   ]
  },
  {
   "cell_type": "code",
   "execution_count": 97,
   "id": "e1c86e97",
   "metadata": {},
   "outputs": [
    {
     "name": "stdout",
     "output_type": "stream",
     "text": [
      "313/313 [==============================] - 14s 19ms/step\n",
      "Classification Report: \n",
      "               precision    recall  f1-score   support\n",
      "\n",
      "           0       0.40      0.57      0.47      1000\n",
      "           1       0.41      0.60      0.49      1000\n",
      "           2       0.41      0.06      0.11      1000\n",
      "           3       0.27      0.51      0.35      1000\n",
      "           4       0.37      0.42      0.39      1000\n",
      "           5       0.61      0.08      0.14      1000\n",
      "           6       0.45      0.43      0.44      1000\n",
      "           7       0.64      0.22      0.33      1000\n",
      "           8       0.56      0.54      0.55      1000\n",
      "           9       0.38      0.58      0.46      1000\n",
      "\n",
      "    accuracy                           0.40     10000\n",
      "   macro avg       0.45      0.40      0.37     10000\n",
      "weighted avg       0.45      0.40      0.37     10000\n",
      "\n"
     ]
    }
   ],
   "source": [
    "from sklearn.metrics import confusion_matrix , classification_report\n",
    "import numpy as np\n",
    "y_pred = ann.predict(X_test)\n",
    "y_pred_classes = [np.argmax(element) for element in y_pred]\n",
    "\n",
    "print(\"Classification Report: \\n\", classification_report(y_test, y_pred_classes))"
   ]
  },
  {
   "cell_type": "markdown",
   "id": "dd865daa",
   "metadata": {},
   "source": [
    "<h4 style=\"color:purple\">Now let us build a convolutional neural network to train our images</h4>"
   ]
  },
  {
   "cell_type": "markdown",
   "id": "7488536d",
   "metadata": {},
   "source": [
    "<img src = \"CNN.png\" />"
   ]
  },
  {
   "cell_type": "code",
   "execution_count": 101,
   "id": "e549acef",
   "metadata": {},
   "outputs": [],
   "source": [
    "# convolution detects the feature of an image, you do not say what the filters are: like circle of 9 etc.\n",
    "# it figures out filters on its own. speciy only how many filter you want-filters, filter size-kernel_size \n",
    "cnn = models.Sequential([\n",
    "\n",
    "    #cnn\n",
    "    layers.Conv2D(filters=32, kernel_size= (3,3), activation=\"relu\", input_shape= (32,32,3)),                        \n",
    "    layers.MaxPooling2D((2,2)),\n",
    "    \n",
    "    layers.Conv2D(filters=64, kernel_size= (3,3), activation=\"relu\"),                        \n",
    "    layers.MaxPooling2D((2,2)),\n",
    "   \n",
    "    #dense network\n",
    "    layers.Flatten(), #network will capture shape, no need to specify \n",
    "    layers.Dense(1000, activation='relu'), # cnn will do the most job, we dont need so many layers\n",
    "    layers.Dense(10, activation='softmax') #difference between sigmoid and softmax AF: softmax normalize probability.     \n",
    "])"
   ]
  },
  {
   "cell_type": "code",
   "execution_count": 102,
   "id": "57fab117",
   "metadata": {},
   "outputs": [],
   "source": [
    "cnn.compile(optimizer='adam',\n",
    "              loss='sparse_categorical_crossentropy', # because we use categorical y_train, sparse: if we use y_train\n",
    "              metrics=['accuracy'])"
   ]
  },
  {
   "cell_type": "code",
   "execution_count": 103,
   "id": "7650409a",
   "metadata": {},
   "outputs": [
    {
     "name": "stdout",
     "output_type": "stream",
     "text": [
      "1563/1563 [==============================] - 137s 76ms/step - loss: 1.3327 - accuracy: 0.5232\n"
     ]
    },
    {
     "data": {
      "text/plain": [
       "<keras.src.callbacks.History at 0x2d26a471c10>"
      ]
     },
     "execution_count": 103,
     "metadata": {},
     "output_type": "execute_result"
    }
   ],
   "source": [
    "#accuracy increased from .32 to .52\n",
    "cnn.fit(X_train, y_train, epochs=1)   "
   ]
  },
  {
   "cell_type": "code",
   "execution_count": 104,
   "id": "45657a45",
   "metadata": {},
   "outputs": [
    {
     "name": "stdout",
     "output_type": "stream",
     "text": [
      "313/313 [==============================] - 20s 23ms/step - loss: 1.0607 - accuracy: 0.6288\n"
     ]
    },
    {
     "data": {
      "text/plain": [
       "[1.0607000589370728, 0.6287999749183655]"
      ]
     },
     "execution_count": 104,
     "metadata": {},
     "output_type": "execute_result"
    }
   ],
   "source": [
    "cnn.evaluate(X_test, y_test)"
   ]
  },
  {
   "cell_type": "code",
   "execution_count": 105,
   "id": "5a04df5f",
   "metadata": {},
   "outputs": [
    {
     "data": {
      "text/plain": [
       "array([3, 8, 8, 0, 6], dtype=uint8)"
      ]
     },
     "execution_count": 105,
     "metadata": {},
     "output_type": "execute_result"
    }
   ],
   "source": [
    "y_test = y_test.reshape(-1,)\n",
    "y_test[:5]"
   ]
  },
  {
   "cell_type": "code",
   "execution_count": 106,
   "id": "8c49daa3",
   "metadata": {},
   "outputs": [
    {
     "data": {
      "image/png": "[encoded data removed]",
      "text/plain": [
       "<Figure size 1500x200 with 1 Axes>"
      ]
     },
     "metadata": {},
     "output_type": "display_data"
    }
   ],
   "source": [
    "plot_sample(X_test, y_test, 1)"
   ]
  },
  {
   "cell_type": "code",
   "execution_count": 107,
   "id": "4b949450",
   "metadata": {},
   "outputs": [
    {
     "name": "stdout",
     "output_type": "stream",
     "text": [
      "313/313 [==============================] - 19s 17ms/step\n"
     ]
    }
   ],
   "source": [
    "y_pred = cnn.predict(X_test)"
   ]
  },
  {
   "cell_type": "code",
   "execution_count": 109,
   "id": "b058268f",
   "metadata": {},
   "outputs": [
    {
     "data": {
      "text/plain": [
       "array([[2.1049889e-02, 1.1829447e-02, 4.6174597e-02, 6.2000853e-01,\n",
       "        1.6483030e-03, 2.0496060e-01, 5.2430853e-02, 3.6730119e-03,\n",
       "        3.3423539e-02, 4.8012794e-03],\n",
       "       [2.3215305e-02, 2.7744836e-01, 2.0057963e-05, 4.0033260e-06,\n",
       "        1.5988522e-05, 7.2536477e-07, 3.2640168e-07, 7.7412722e-07,\n",
       "        6.9307339e-01, 6.2210737e-03],\n",
       "       [6.4516611e-02, 7.6831721e-02, 2.3893206e-03, 8.3282747e-04,\n",
       "        9.0176793e-04, 2.2173971e-04, 7.4818636e-05, 1.0269806e-03,\n",
       "        8.2484376e-01, 2.8360449e-02],\n",
       "       [5.9138793e-01, 1.4960420e-02, 6.7495927e-03, 4.9616274e-04,\n",
       "        2.8413741e-03, 5.9725407e-05, 2.1391999e-04, 2.5361872e-04,\n",
       "        3.8185951e-01, 1.1777445e-03],\n",
       "       [1.0438068e-03, 4.1559441e-03, 7.1603507e-02, 1.5374169e-01,\n",
       "        3.7992284e-01, 6.1356243e-02, 3.2274514e-01, 3.2132876e-03,\n",
       "        1.6724952e-03, 5.4506323e-04]], dtype=float32)"
      ]
     },
     "execution_count": 109,
     "metadata": {},
     "output_type": "execute_result"
    }
   ],
   "source": [
    "y_pred[:5] #values here are prob dist between 0 and 1-softmax, pick the max prob"
   ]
  },
  {
   "cell_type": "code",
   "execution_count": 110,
   "id": "4d6ba79e",
   "metadata": {},
   "outputs": [
    {
     "data": {
      "text/plain": [
       "3"
      ]
     },
     "execution_count": 110,
     "metadata": {},
     "output_type": "execute_result"
    }
   ],
   "source": [
    "np.argmax(y_pred[0])#it gives the index which is max"
   ]
  },
  {
   "cell_type": "code",
   "execution_count": 112,
   "id": "31033009",
   "metadata": {},
   "outputs": [],
   "source": [
    "y_classses= [np.argmax(i) for i in y_pred]"
   ]
  },
  {
   "cell_type": "code",
   "execution_count": 121,
   "id": "91f2254e",
   "metadata": {},
   "outputs": [
    {
     "data": {
      "text/plain": [
       "[3, 8, 8, 0, 4]"
      ]
     },
     "execution_count": 121,
     "metadata": {},
     "output_type": "execute_result"
    }
   ],
   "source": [
    "y_classses[:5]"
   ]
  },
  {
   "cell_type": "code",
   "execution_count": 122,
   "id": "94eea01e",
   "metadata": {},
   "outputs": [
    {
     "data": {
      "text/plain": [
       "array([3, 8, 8, 0, 6], dtype=uint8)"
      ]
     },
     "execution_count": 122,
     "metadata": {},
     "output_type": "execute_result"
    }
   ],
   "source": [
    "y_test[:5]"
   ]
  },
  {
   "cell_type": "code",
   "execution_count": 125,
   "id": "a24b3bc6",
   "metadata": {},
   "outputs": [
    {
     "data": {
      "image/png": "[encoded data removed]",
      "text/plain": [
       "<Figure size 1500x200 with 1 Axes>"
      ]
     },
     "metadata": {},
     "output_type": "display_data"
    }
   ],
   "source": [
    "plot_sample(X_test, y_test, 4)"
   ]
  },
  {
   "cell_type": "code",
   "execution_count": 126,
   "id": "fdb798ac",
   "metadata": {},
   "outputs": [
    {
     "data": {
      "text/plain": [
       "'deer'"
      ]
     },
     "execution_count": 126,
     "metadata": {},
     "output_type": "execute_result"
    }
   ],
   "source": [
    "classes[y_classses[4]]"
   ]
  },
  {
   "cell_type": "code",
   "execution_count": 128,
   "id": "ff8022ec",
   "metadata": {},
   "outputs": [
    {
     "name": "stdout",
     "output_type": "stream",
     "text": [
      "Classification Report: \n",
      "               precision    recall  f1-score   support\n",
      "\n",
      "           0       0.69      0.66      0.67      1000\n",
      "           1       0.67      0.80      0.73      1000\n",
      "           2       0.55      0.46      0.50      1000\n",
      "           3       0.43      0.45      0.44      1000\n",
      "           4       0.65      0.42      0.51      1000\n",
      "           5       0.55      0.56      0.56      1000\n",
      "           6       0.71      0.73      0.72      1000\n",
      "           7       0.68      0.71      0.69      1000\n",
      "           8       0.65      0.84      0.73      1000\n",
      "           9       0.71      0.65      0.68      1000\n",
      "\n",
      "    accuracy                           0.63     10000\n",
      "   macro avg       0.63      0.63      0.62     10000\n",
      "weighted avg       0.63      0.63      0.62     10000\n",
      "\n"
     ]
    }
   ],
   "source": [
    "print(\"Classification Report: \\n\", classification_report(y_test, y_classses))"
   ]
  },
  {
   "cell_type": "code",
   "execution_count": null,
   "id": "b68c59f7",
   "metadata": {},
   "outputs": [],
   "source": []
  }
 ],
 "metadata": {
  "kernelspec": {
   "display_name": "Python 3 (ipykernel)",
   "language": "python",
   "name": "python3"
  },
  "language_info": {
   "codemirror_mode": {
    "name": "ipython",
    "version": 3
   },
   "file_extension": ".py",
   "mimetype": "text/x-python",
   "name": "python",
   "nbconvert_exporter": "python",
   "pygments_lexer": "ipython3",
   "version": "3.11.3"
  }
 },
 "nbformat": 4,
 "nbformat_minor": 5
}
