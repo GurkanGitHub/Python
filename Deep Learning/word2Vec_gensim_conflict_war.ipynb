{
 "cells": [
  {
   "cell_type": "markdown",
   "id": "9f5ae494",
   "metadata": {},
   "source": [
    "# Training Word2Vec Model"
   ]
  },
  {
   "cell_type": "markdown",
   "id": "8cadcc14",
   "metadata": {},
   "source": [
    "### Reading and Exploring the Dataset\n",
    "The dataset we are using here is a perspective dataset comprises the thesis of the key practitioners and acade. The data is stored as a excel file and can be read using pandas."
   ]
  },
  {
   "cell_type": "code",
   "execution_count": 43,
   "id": "c5cfad44",
   "metadata": {},
   "outputs": [],
   "source": [
    "# Training Word2Vec Modelimport gensim"
   ]
  },
  {
   "cell_type": "code",
   "execution_count": 44,
   "id": "330c5d3a",
   "metadata": {},
   "outputs": [],
   "source": [
    "import pandas as pd"
   ]
  },
  {
   "cell_type": "code",
   "execution_count": 45,
   "id": "1f0f89c6",
   "metadata": {},
   "outputs": [],
   "source": [
    "df = pd.read_excel(\"D:/github/Python/Deep Learning/annotation.xlsx\")"
   ]
  },
  {
   "cell_type": "code",
   "execution_count": 46,
   "id": "56cbc760",
   "metadata": {},
   "outputs": [
    {
     "data": {
      "text/html": [
       "<div>\n",
       "<style scoped>\n",
       "    .dataframe tbody tr th:only-of-type {\n",
       "        vertical-align: middle;\n",
       "    }\n",
       "\n",
       "    .dataframe tbody tr th {\n",
       "        vertical-align: top;\n",
       "    }\n",
       "\n",
       "    .dataframe thead th {\n",
       "        text-align: right;\n",
       "    }\n",
       "</style>\n",
       "<table border=\"1\" class=\"dataframe\">\n",
       "  <thead>\n",
       "    <tr style=\"text-align: right;\">\n",
       "      <th></th>\n",
       "      <th>sentence</th>\n",
       "      <th>indicator</th>\n",
       "      <th>factor</th>\n",
       "      <th>source</th>\n",
       "    </tr>\n",
       "  </thead>\n",
       "  <tbody>\n",
       "    <tr>\n",
       "      <th>0</th>\n",
       "      <td>Where superiority of numbers is overwhelming, ...</td>\n",
       "      <td>superiority of numbers</td>\n",
       "      <td>physical</td>\n",
       "      <td>Clausewitz, 1989, p.196​</td>\n",
       "    </tr>\n",
       "    <tr>\n",
       "      <th>1</th>\n",
       "      <td>Grand strategy should calculate and develop ec...</td>\n",
       "      <td>economic resources, man-power</td>\n",
       "      <td>physical</td>\n",
       "      <td>Hart, 1991, 322</td>\n",
       "    </tr>\n",
       "    <tr>\n",
       "      <th>2</th>\n",
       "      <td>Beyond geography, money has always been the gr...</td>\n",
       "      <td>finance</td>\n",
       "      <td>physical</td>\n",
       "      <td>Smith, 2019, 19.</td>\n",
       "    </tr>\n",
       "    <tr>\n",
       "      <th>3</th>\n",
       "      <td>War is not so much a matter of armaments as of...</td>\n",
       "      <td>finance</td>\n",
       "      <td>physical</td>\n",
       "      <td>Thucydides, 1972</td>\n",
       "    </tr>\n",
       "    <tr>\n",
       "      <th>4</th>\n",
       "      <td>Moral elements are among the most important in...</td>\n",
       "      <td>Spirit and will</td>\n",
       "      <td>moral</td>\n",
       "      <td>Clausewitz, 1989, p.184​</td>\n",
       "    </tr>\n",
       "  </tbody>\n",
       "</table>\n",
       "</div>"
      ],
      "text/plain": [
       "                                            sentence  \\\n",
       "0  Where superiority of numbers is overwhelming, ...   \n",
       "1  Grand strategy should calculate and develop ec...   \n",
       "2  Beyond geography, money has always been the gr...   \n",
       "3  War is not so much a matter of armaments as of...   \n",
       "4  Moral elements are among the most important in...   \n",
       "\n",
       "                       indicator    factor                    source  \n",
       "0         superiority of numbers  physical  Clausewitz, 1989, p.196​  \n",
       "1  economic resources, man-power  physical           Hart, 1991, 322  \n",
       "2                        finance  physical          Smith, 2019, 19.  \n",
       "3                        finance  physical          Thucydides, 1972  \n",
       "4               Spirit and will      moral  Clausewitz, 1989, p.184​  "
      ]
     },
     "execution_count": 46,
     "metadata": {},
     "output_type": "execute_result"
    }
   ],
   "source": [
    "df.head()"
   ]
  },
  {
   "cell_type": "markdown",
   "id": "bf6a8f95",
   "metadata": {},
   "source": [
    "### Simple Preprocessing & Tokenization\n",
    "The first thing to do for any data science task is to clean the data.\n",
    "For NLP, we apply various processing like converting all the words to lower case, trimming spaces, removing punctuations. \n",
    "This is something we will do over here too.\n",
    "\n",
    "Additionally, we can also remove stop words like 'and', 'or', 'is', 'the', 'a', 'an' and convert words to their root forms like 'running' to 'run'."
   ]
  },
  {
   "cell_type": "code",
   "execution_count": 47,
   "id": "1225fe0f",
   "metadata": {
    "scrolled": true
   },
   "outputs": [
    {
     "data": {
      "text/plain": [
       "'Where superiority of numbers is overwhelming, it is admittedly is the most important factor in the outcome of an engagement. '"
      ]
     },
     "execution_count": 47,
     "metadata": {},
     "output_type": "execute_result"
    }
   ],
   "source": [
    "df.sentence[0]"
   ]
  },
  {
   "cell_type": "code",
   "execution_count": 48,
   "id": "e180b391",
   "metadata": {},
   "outputs": [],
   "source": [
    "perspectives = df.sentence.apply(gensim.utils.simple_preprocess)"
   ]
  },
  {
   "cell_type": "code",
   "execution_count": 49,
   "id": "408aaf88",
   "metadata": {},
   "outputs": [
    {
     "data": {
      "text/plain": [
       "0     [where, superiority, of, numbers, is, overwhel...\n",
       "1     [grand, strategy, should, calculate, and, deve...\n",
       "2     [beyond, geography, money, has, always, been, ...\n",
       "3     [war, is, not, so, much, matter, of, armaments...\n",
       "4     [moral, elements, are, among, the, most, impor...\n",
       "5     [once, war, is, declared, the, highest, comman...\n",
       "6     [grand, strategy, should, calculate, and, deve...\n",
       "7     [in, war, three, quarters, turns, on, morale, ...\n",
       "8     [force, employment, or, the, doctrine, and, ta...\n",
       "9     [those, who, masters, moral, influence, weathe...\n",
       "10    [know, the, enemy, and, know, yourself, in, hu...\n",
       "11    [strategy, directs, armies, to, the, decisive,...\n",
       "12    [strategy, is, determinant, of, victorious, wi...\n",
       "13    [indirect, approach, creates, dislocation, and...\n",
       "14    [concept, of, victory, has, three, elements, g...\n",
       "15    [every, engagement, is, bloody, and, destructi...\n",
       "16    [in, the, engagement, loss, of, marale, has, p...\n",
       "17    [by, doctrine, mean, organization, control, as...\n",
       "18    [by, command, mean, the, general, qualities, o...\n",
       "19    [by, moral, influence, mean, that, which, caus...\n",
       "20    [by, weather, mean, the, interaction, of, natu...\n",
       "21    [by, terrain, mean, distances, whether, the, g...\n",
       "22    [if, you, say, which, regulations, and, instru...\n",
       "23    [strategy, by, directing, armies, to, the, dec...\n",
       "24    [it, is, more, important, to, produce, favoura...\n",
       "25    [these, factors, as, thought, processes, or, m...\n",
       "Name: sentence, dtype: object"
      ]
     },
     "execution_count": 49,
     "metadata": {},
     "output_type": "execute_result"
    }
   ],
   "source": [
    "perspectives"
   ]
  },
  {
   "cell_type": "markdown",
   "id": "4a98935e",
   "metadata": {},
   "source": [
    "### Training the Word2Vec Model\n",
    "\n",
    "Train the model for reviews. Use a window of size 10 i.e. 10 words before the present word and 10 words ahead. A sentence with at least 2 words should only be considered, configure this using min_count parameter.\n",
    "\n",
    "Workers define how many CPU threads to be used."
   ]
  },
  {
   "cell_type": "markdown",
   "id": "22c2be54",
   "metadata": {},
   "source": [
    "### initialize gensim model "
   ]
  },
  {
   "cell_type": "code",
   "execution_count": 50,
   "id": "fcd39bc4",
   "metadata": {},
   "outputs": [],
   "source": [
    "model = gensim.models.Word2Vec( # identify parameters\n",
    "    window=10, # means 10 words before target, 10 words after target\n",
    "    min_count =2, #if you have a sentence which has only one word, dont use taht sentence, at least 2 words need to present\n",
    "    workers=4, #how many cpu threads to use to train model, if cpu has 4 cores, write 4.    \n",
    ")"
   ]
  },
  {
   "cell_type": "code",
   "execution_count": 51,
   "id": "60e9499e",
   "metadata": {},
   "outputs": [],
   "source": [
    "#building vocabulary\n",
    "\n",
    "model.build_vocab(perspectives, progress_per=100)"
   ]
  },
  {
   "cell_type": "code",
   "execution_count": 52,
   "id": "860f63b0",
   "metadata": {},
   "outputs": [
    {
     "data": {
      "text/plain": [
       "5"
      ]
     },
     "execution_count": 52,
     "metadata": {},
     "output_type": "execute_result"
    }
   ],
   "source": [
    "model.epochs"
   ]
  },
  {
   "cell_type": "code",
   "execution_count": 53,
   "id": "4d69bfe1",
   "metadata": {},
   "outputs": [
    {
     "data": {
      "text/plain": [
       "26"
      ]
     },
     "execution_count": 53,
     "metadata": {},
     "output_type": "execute_result"
    }
   ],
   "source": [
    "model.corpus_count"
   ]
  },
  {
   "cell_type": "code",
   "execution_count": 54,
   "id": "a06a3bd8",
   "metadata": {},
   "outputs": [
    {
     "data": {
      "text/plain": [
       "(586, 2715)"
      ]
     },
     "execution_count": 54,
     "metadata": {},
     "output_type": "execute_result"
    }
   ],
   "source": [
    "model.train(perspectives, total_examples=model.corpus_count, epochs =model.epochs) "
   ]
  },
  {
   "cell_type": "code",
   "execution_count": 55,
   "id": "afcb0fcb",
   "metadata": {},
   "outputs": [],
   "source": [
    "model.save(\"pax.model\")"
   ]
  },
  {
   "cell_type": "markdown",
   "id": "80966f3b",
   "metadata": {},
   "source": [
    "### Experiment model"
   ]
  },
  {
   "cell_type": "markdown",
   "id": "faaa7d3e",
   "metadata": {},
   "source": [
    "### Finding Similar Words and Similarity between words\n",
    "https://radimrehurek.com/gensim/models/word2vec.html"
   ]
  },
  {
   "cell_type": "code",
   "execution_count": 56,
   "id": "aa5a3437",
   "metadata": {},
   "outputs": [
    {
     "data": {
      "text/plain": [
       "[('victor', 0.25118643045425415),\n",
       " ('the', 0.2239464819431305),\n",
       " ('should', 0.21791531145572662),\n",
       " ('win', 0.20920003950595856),\n",
       " ('calculate', 0.16436129808425903),\n",
       " ('deciding', 0.13799598813056946),\n",
       " ('be', 0.12990830838680267),\n",
       " ('effects', 0.10774846374988556),\n",
       " ('loss', 0.10681787133216858),\n",
       " ('death', 0.09493274241685867)]"
      ]
     },
     "execution_count": 56,
     "metadata": {},
     "output_type": "execute_result"
    }
   ],
   "source": [
    "model.wv.most_similar(\"war\")"
   ]
  },
  {
   "cell_type": "code",
   "execution_count": 61,
   "id": "2013953c",
   "metadata": {},
   "outputs": [
    {
     "data": {
      "text/plain": [
       "0.033534527"
      ]
     },
     "execution_count": 61,
     "metadata": {},
     "output_type": "execute_result"
    }
   ],
   "source": [
    "model.wv.similarity(w1=\"war\", w2= \"engagement\") #cosine"
   ]
  },
  {
   "cell_type": "code",
   "execution_count": null,
   "id": "4a53197e",
   "metadata": {},
   "outputs": [],
   "source": []
  }
 ],
 "metadata": {
  "kernelspec": {
   "display_name": "Python 3 (ipykernel)",
   "language": "python",
   "name": "python3"
  },
  "language_info": {
   "codemirror_mode": {
    "name": "ipython",
    "version": 3
   },
   "file_extension": ".py",
   "mimetype": "text/x-python",
   "name": "python",
   "nbconvert_exporter": "python",
   "pygments_lexer": "ipython3",
   "version": "3.11.3"
  }
 },
 "nbformat": 4,
 "nbformat_minor": 5
}
