{
 "cells": [
  {
   "cell_type": "code",
   "execution_count": 24,
   "id": "680a76b9",
   "metadata": {},
   "outputs": [],
   "source": [
    "from tensorflow.keras.preprocessing.text import one_hot\n",
    "from tensorflow.keras.preprocessing.sequence import pad_sequences\n",
    "from tensorflow.keras.models import Sequential"
   ]
  },
  {
   "cell_type": "code",
   "execution_count": 25,
   "id": "2119f65c",
   "metadata": {},
   "outputs": [],
   "source": [
    "from tensorflow.keras.layers import Dense\n",
    "from tensorflow.keras.layers import Flatten\n",
    "from tensorflow.keras.layers import Embedding"
   ]
  },
  {
   "cell_type": "code",
   "execution_count": 26,
   "id": "af05e9fc",
   "metadata": {},
   "outputs": [],
   "source": [
    "import pandas as pd"
   ]
  },
  {
   "cell_type": "code",
   "execution_count": 27,
   "id": "c8ee67b3",
   "metadata": {},
   "outputs": [],
   "source": [
    "import numpy as np"
   ]
  },
  {
   "cell_type": "code",
   "execution_count": 28,
   "id": "9318dee1",
   "metadata": {},
   "outputs": [],
   "source": [
    "df = pd.read_excel(\"D:/github/Python/Deep Learning/annotation.xlsx\")"
   ]
  },
  {
   "cell_type": "code",
   "execution_count": 29,
   "id": "d647a19c",
   "metadata": {
    "scrolled": true
   },
   "outputs": [
    {
     "data": {
      "text/html": [
       "<div>\n",
       "<style scoped>\n",
       "    .dataframe tbody tr th:only-of-type {\n",
       "        vertical-align: middle;\n",
       "    }\n",
       "\n",
       "    .dataframe tbody tr th {\n",
       "        vertical-align: top;\n",
       "    }\n",
       "\n",
       "    .dataframe thead th {\n",
       "        text-align: right;\n",
       "    }\n",
       "</style>\n",
       "<table border=\"1\" class=\"dataframe\">\n",
       "  <thead>\n",
       "    <tr style=\"text-align: right;\">\n",
       "      <th></th>\n",
       "      <th>sentence</th>\n",
       "      <th>indicator</th>\n",
       "      <th>factor</th>\n",
       "      <th>source</th>\n",
       "    </tr>\n",
       "  </thead>\n",
       "  <tbody>\n",
       "    <tr>\n",
       "      <th>0</th>\n",
       "      <td>Where superiority of numbers is overwhelming, ...</td>\n",
       "      <td>superiority of numbers</td>\n",
       "      <td>physical</td>\n",
       "      <td>Clausewitz, 1989, p.196​</td>\n",
       "    </tr>\n",
       "    <tr>\n",
       "      <th>1</th>\n",
       "      <td>Grand strategy should calculate and develop ec...</td>\n",
       "      <td>economic resources, man-power</td>\n",
       "      <td>physical</td>\n",
       "      <td>Hart, 1991, 322</td>\n",
       "    </tr>\n",
       "    <tr>\n",
       "      <th>2</th>\n",
       "      <td>Beyond geography, money has always been the gr...</td>\n",
       "      <td>finance</td>\n",
       "      <td>physical</td>\n",
       "      <td>Smith, 2019, 19.</td>\n",
       "    </tr>\n",
       "    <tr>\n",
       "      <th>3</th>\n",
       "      <td>War is not so much a matter of armaments as of...</td>\n",
       "      <td>finance</td>\n",
       "      <td>physical</td>\n",
       "      <td>Thucydides, 1972</td>\n",
       "    </tr>\n",
       "    <tr>\n",
       "      <th>4</th>\n",
       "      <td>Moral elements are among the most important in...</td>\n",
       "      <td>Spirit and will</td>\n",
       "      <td>moral</td>\n",
       "      <td>Clausewitz, 1989, p.184​</td>\n",
       "    </tr>\n",
       "  </tbody>\n",
       "</table>\n",
       "</div>"
      ],
      "text/plain": [
       "                                            sentence  \\\n",
       "0  Where superiority of numbers is overwhelming, ...   \n",
       "1  Grand strategy should calculate and develop ec...   \n",
       "2  Beyond geography, money has always been the gr...   \n",
       "3  War is not so much a matter of armaments as of...   \n",
       "4  Moral elements are among the most important in...   \n",
       "\n",
       "                       indicator    factor                    source  \n",
       "0         superiority of numbers  physical  Clausewitz, 1989, p.196​  \n",
       "1  economic resources, man-power  physical           Hart, 1991, 322  \n",
       "2                        finance  physical          Smith, 2019, 19.  \n",
       "3                        finance  physical          Thucydides, 1972  \n",
       "4               Spirit and will      moral  Clausewitz, 1989, p.184​  "
      ]
     },
     "execution_count": 29,
     "metadata": {},
     "output_type": "execute_result"
    }
   ],
   "source": [
    "df.head()"
   ]
  },
  {
   "cell_type": "code",
   "execution_count": 30,
   "id": "97c9a4fb",
   "metadata": {},
   "outputs": [
    {
     "data": {
      "text/plain": [
       "moral         7\n",
       "physical      6\n",
       "strategy      5\n",
       "conceptual    4\n",
       "outcome       4\n",
       "Name: factor, dtype: int64"
      ]
     },
     "execution_count": 30,
     "metadata": {},
     "output_type": "execute_result"
    }
   ],
   "source": [
    "df.factor.value_counts()"
   ]
  },
  {
   "cell_type": "code",
   "execution_count": 37,
   "id": "99bc6a14",
   "metadata": {},
   "outputs": [
    {
     "data": {
      "text/plain": [
       "{'physical': 1, 'conceptual': 2, 'moral': 3, 'strategy': 4, 'outcome': 5}"
      ]
     },
     "execution_count": 37,
     "metadata": {},
     "output_type": "execute_result"
    }
   ],
   "source": [
    "my_dict = {\"physical\":1, \"conceptual\":2, \"moral\":3, \"strategy\":4, \"outcome\":5}\n",
    "my_dict"
   ]
  },
  {
   "cell_type": "code",
   "execution_count": 39,
   "id": "5f053d54",
   "metadata": {},
   "outputs": [
    {
     "data": {
      "text/html": [
       "<div>\n",
       "<style scoped>\n",
       "    .dataframe tbody tr th:only-of-type {\n",
       "        vertical-align: middle;\n",
       "    }\n",
       "\n",
       "    .dataframe tbody tr th {\n",
       "        vertical-align: top;\n",
       "    }\n",
       "\n",
       "    .dataframe thead th {\n",
       "        text-align: right;\n",
       "    }\n",
       "</style>\n",
       "<table border=\"1\" class=\"dataframe\">\n",
       "  <thead>\n",
       "    <tr style=\"text-align: right;\">\n",
       "      <th></th>\n",
       "      <th>sentence</th>\n",
       "      <th>indicator</th>\n",
       "      <th>factor</th>\n",
       "      <th>source</th>\n",
       "      <th>num_factor</th>\n",
       "    </tr>\n",
       "  </thead>\n",
       "  <tbody>\n",
       "    <tr>\n",
       "      <th>0</th>\n",
       "      <td>Where superiority of numbers is overwhelming, ...</td>\n",
       "      <td>superiority of numbers</td>\n",
       "      <td>physical</td>\n",
       "      <td>Clausewitz, 1989, p.196​</td>\n",
       "      <td>1</td>\n",
       "    </tr>\n",
       "    <tr>\n",
       "      <th>1</th>\n",
       "      <td>Grand strategy should calculate and develop ec...</td>\n",
       "      <td>economic resources, man-power</td>\n",
       "      <td>physical</td>\n",
       "      <td>Hart, 1991, 322</td>\n",
       "      <td>1</td>\n",
       "    </tr>\n",
       "    <tr>\n",
       "      <th>2</th>\n",
       "      <td>Beyond geography, money has always been the gr...</td>\n",
       "      <td>finance</td>\n",
       "      <td>physical</td>\n",
       "      <td>Smith, 2019, 19.</td>\n",
       "      <td>1</td>\n",
       "    </tr>\n",
       "    <tr>\n",
       "      <th>3</th>\n",
       "      <td>War is not so much a matter of armaments as of...</td>\n",
       "      <td>finance</td>\n",
       "      <td>physical</td>\n",
       "      <td>Thucydides, 1972</td>\n",
       "      <td>1</td>\n",
       "    </tr>\n",
       "    <tr>\n",
       "      <th>4</th>\n",
       "      <td>Moral elements are among the most important in...</td>\n",
       "      <td>Spirit and will</td>\n",
       "      <td>moral</td>\n",
       "      <td>Clausewitz, 1989, p.184​</td>\n",
       "      <td>3</td>\n",
       "    </tr>\n",
       "  </tbody>\n",
       "</table>\n",
       "</div>"
      ],
      "text/plain": [
       "                                            sentence  \\\n",
       "0  Where superiority of numbers is overwhelming, ...   \n",
       "1  Grand strategy should calculate and develop ec...   \n",
       "2  Beyond geography, money has always been the gr...   \n",
       "3  War is not so much a matter of armaments as of...   \n",
       "4  Moral elements are among the most important in...   \n",
       "\n",
       "                       indicator    factor                    source  \\\n",
       "0         superiority of numbers  physical  Clausewitz, 1989, p.196​   \n",
       "1  economic resources, man-power  physical           Hart, 1991, 322   \n",
       "2                        finance  physical          Smith, 2019, 19.   \n",
       "3                        finance  physical          Thucydides, 1972   \n",
       "4               Spirit and will      moral  Clausewitz, 1989, p.184​   \n",
       "\n",
       "   num_factor  \n",
       "0           1  \n",
       "1           1  \n",
       "2           1  \n",
       "3           1  \n",
       "4           3  "
      ]
     },
     "execution_count": 39,
     "metadata": {},
     "output_type": "execute_result"
    }
   ],
   "source": [
    "df[\"num_factor\"] = [my_dict[i] for i in df.factor]\n",
    "df.head()"
   ]
  },
  {
   "cell_type": "markdown",
   "id": "4c346d41",
   "metadata": {},
   "source": [
    "**1.Converting reviews into one-hot encoding**"
   ]
  },
  {
   "cell_type": "code",
   "execution_count": 8,
   "id": "61ed49c6",
   "metadata": {},
   "outputs": [],
   "source": [
    "vocab_size= 100"
   ]
  },
  {
   "cell_type": "code",
   "execution_count": 9,
   "id": "9cf94d58",
   "metadata": {},
   "outputs": [
    {
     "data": {
      "text/plain": [
       "[12, 27]"
      ]
     },
     "execution_count": 9,
     "metadata": {},
     "output_type": "execute_result"
    }
   ],
   "source": [
    "one_hot(\"hi men!\", 30)"
   ]
  },
  {
   "cell_type": "code",
   "execution_count": 18,
   "id": "bf889d53",
   "metadata": {},
   "outputs": [],
   "source": [
    "encoded_pers = [one_hot(i, vocab_size) for i in df.sentence]"
   ]
  },
  {
   "cell_type": "code",
   "execution_count": 19,
   "id": "8acd507f",
   "metadata": {},
   "outputs": [
    {
     "data": {
      "text/plain": [
       "[6, 55, 1, 79, 69, 26, 19, 68, 69, 23, 98, 61, 22, 33, 39, 38, 34, 56, 69, 55]"
      ]
     },
     "execution_count": 19,
     "metadata": {},
     "output_type": "execute_result"
    }
   ],
   "source": [
    "encoded_pers[1]"
   ]
  },
  {
   "cell_type": "code",
   "execution_count": 20,
   "id": "6ce3bfe5",
   "metadata": {
    "scrolled": true
   },
   "outputs": [
    {
     "data": {
      "text/plain": [
       "26"
      ]
     },
     "execution_count": 20,
     "metadata": {},
     "output_type": "execute_result"
    }
   ],
   "source": [
    "len(encoded_pers)"
   ]
  },
  {
   "cell_type": "markdown",
   "id": "e1252439",
   "metadata": {},
   "source": [
    "**2.Padding to fix length**"
   ]
  },
  {
   "cell_type": "markdown",
   "id": "8a31265d",
   "metadata": {},
   "source": [
    "We will make every vector size equal with pad_sequence method."
   ]
  },
  {
   "cell_type": "code",
   "execution_count": 21,
   "id": "5bfd54eb",
   "metadata": {},
   "outputs": [
    {
     "data": {
      "text/plain": [
       "array([ 6, 55,  1, 79, 69, 26, 19, 68, 69, 23, 98, 61, 22, 33, 39, 38, 34,\n",
       "       56, 69, 55,  0,  0,  0,  0,  0,  0,  0,  0,  0,  0,  0,  0,  0,  0,\n",
       "        0,  0,  0,  0,  0,  0,  0,  0,  0,  0,  0,  0,  0,  0,  0,  0])"
      ]
     },
     "execution_count": 21,
     "metadata": {},
     "output_type": "execute_result"
    }
   ],
   "source": [
    "max_length = 50\n",
    "\n",
    "padded_pers = pad_sequences(encoded_pers, maxlen = max_length, padding =\"post\")\n",
    "padded_pers[1]"
   ]
  },
  {
   "cell_type": "code",
   "execution_count": 22,
   "id": "3ab0fcff",
   "metadata": {},
   "outputs": [
    {
     "data": {
      "text/plain": [
       "26"
      ]
     },
     "execution_count": 22,
     "metadata": {},
     "output_type": "execute_result"
    }
   ],
   "source": [
    "len(padded_pers)"
   ]
  },
  {
   "cell_type": "code",
   "execution_count": 23,
   "id": "6bbcb829",
   "metadata": {},
   "outputs": [],
   "source": [
    "embedded_vector_size= 10\n",
    "\n",
    "model = Sequential()\n",
    "\n",
    "#1st layer is embedding layer-one-hot encoded matrix\n",
    "model.add(Embedding(vocab_size, embedded_vector_size, input_length=max_length, name=\"word_embedding_tf_keras_pax\"))\n",
    "\n",
    "#2nd layer: Flattened version of embedded vectors-product of embedding layer-random weighted and one-hot encoded vector of word\n",
    "model.add(Flatten())\n",
    "\n",
    "#3th layer is one nueron of sigmoid AF function. \n",
    "model.add(Dense(1, activation = \"softmax\"))"
   ]
  },
  {
   "cell_type": "code",
   "execution_count": 40,
   "id": "c4363b36",
   "metadata": {},
   "outputs": [],
   "source": [
    "X = padded_pers\n",
    "y = np.array(df.num_factor)"
   ]
  },
  {
   "cell_type": "code",
   "execution_count": 41,
   "id": "1cacbae4",
   "metadata": {},
   "outputs": [
    {
     "name": "stdout",
     "output_type": "stream",
     "text": [
      "Model: \"sequential\"\n",
      "_________________________________________________________________\n",
      " Layer (type)                Output Shape              Param #   \n",
      "=================================================================\n",
      " word_embedding_tf_keras_pa  (None, 50, 10)            1000      \n",
      " x (Embedding)                                                   \n",
      "                                                                 \n",
      " flatten (Flatten)           (None, 500)               0         \n",
      "                                                                 \n",
      " dense (Dense)               (None, 1)                 501       \n",
      "                                                                 \n",
      "=================================================================\n",
      "Total params: 1501 (5.86 KB)\n",
      "Trainable params: 1501 (5.86 KB)\n",
      "Non-trainable params: 0 (0.00 Byte)\n",
      "_________________________________________________________________\n"
     ]
    }
   ],
   "source": [
    "model.compile(optimizer = \"adam\", loss=\"binary_crossentropy\", metrics= [\"accuracy\"])\n",
    "model.summary()"
   ]
  },
  {
   "cell_type": "code",
   "execution_count": 42,
   "id": "94e1f0ca",
   "metadata": {},
   "outputs": [
    {
     "data": {
      "text/plain": [
       "<keras.src.callbacks.History at 0x21eb5f98b50>"
      ]
     },
     "execution_count": 42,
     "metadata": {},
     "output_type": "execute_result"
    }
   ],
   "source": [
    "#Training\n",
    "model.fit(X,y, epochs = 50, verbose=0)"
   ]
  },
  {
   "cell_type": "code",
   "execution_count": 43,
   "id": "69e6290e",
   "metadata": {},
   "outputs": [
    {
     "name": "stdout",
     "output_type": "stream",
     "text": [
      "1/1 [==============================] - 0s 492ms/step - loss: -3.4806 - accuracy: 0.2308\n"
     ]
    }
   ],
   "source": [
    "#Evaluate the model\n",
    "loss, accuracy = model.evaluate(X,y)"
   ]
  },
  {
   "cell_type": "markdown",
   "id": "b0c82ee8",
   "metadata": {},
   "source": [
    "**Getting Word Embeddings**"
   ]
  },
  {
   "cell_type": "code",
   "execution_count": 44,
   "id": "521f6201",
   "metadata": {},
   "outputs": [
    {
     "data": {
      "text/plain": [
       "100"
      ]
     },
     "execution_count": 44,
     "metadata": {},
     "output_type": "execute_result"
    }
   ],
   "source": [
    "weights = model.get_layer(\"word_embedding_tf_keras_pax\").get_weights()[0]\n",
    "len(weights)"
   ]
  },
  {
   "cell_type": "code",
   "execution_count": 45,
   "id": "8b7d2ccd",
   "metadata": {},
   "outputs": [],
   "source": [
    "#grand:6\n",
    "#strategy:55"
   ]
  },
  {
   "cell_type": "code",
   "execution_count": null,
   "id": "1d089d4c",
   "metadata": {},
   "outputs": [],
   "source": [
    "# while training the model we get word embeddings as a by-product. \n",
    "# Word embeddings are nothing but parameters in NN."
   ]
  },
  {
   "cell_type": "code",
   "execution_count": 46,
   "id": "af8dcf99",
   "metadata": {},
   "outputs": [
    {
     "data": {
      "text/plain": [
       "array([-0.03765959,  0.08546515,  0.04203944,  0.00911331, -0.00683076,\n",
       "       -0.00536414,  0.01121998,  0.10315671, -0.03254436, -0.08932387],\n",
       "      dtype=float32)"
      ]
     },
     "execution_count": 46,
     "metadata": {},
     "output_type": "execute_result"
    }
   ],
   "source": [
    "a = weights[6]\n",
    "a"
   ]
  },
  {
   "cell_type": "code",
   "execution_count": 47,
   "id": "c5da8447",
   "metadata": {},
   "outputs": [
    {
     "data": {
      "text/plain": [
       "array([-0.05860563,  0.04341277, -0.06366133,  0.02189979,  0.09917662,\n",
       "        0.07977039,  0.10405131, -0.07183259,  0.00242503,  0.01796985],\n",
       "      dtype=float32)"
      ]
     },
     "execution_count": 47,
     "metadata": {},
     "output_type": "execute_result"
    }
   ],
   "source": [
    "b = weights[55]\n",
    "b"
   ]
  },
  {
   "cell_type": "code",
   "execution_count": 48,
   "id": "e5b33fa1",
   "metadata": {},
   "outputs": [],
   "source": [
    "from numpy.linalg import norm"
   ]
  },
  {
   "cell_type": "code",
   "execution_count": 49,
   "id": "a02c0b40",
   "metadata": {},
   "outputs": [
    {
     "name": "stdout",
     "output_type": "stream",
     "text": [
      "Cosine Similarity:  -0.15566348\n"
     ]
    }
   ],
   "source": [
    "cosine = np.dot(a,b)/(norm(a)*norm(b))\n",
    "print(\"Cosine Similarity: \", cosine)"
   ]
  },
  {
   "cell_type": "code",
   "execution_count": null,
   "id": "2953364d",
   "metadata": {},
   "outputs": [],
   "source": []
  }
 ],
 "metadata": {
  "kernelspec": {
   "display_name": "Python 3 (ipykernel)",
   "language": "python",
   "name": "python3"
  },
  "language_info": {
   "codemirror_mode": {
    "name": "ipython",
    "version": 3
   },
   "file_extension": ".py",
   "mimetype": "text/x-python",
   "name": "python",
   "nbconvert_exporter": "python",
   "pygments_lexer": "ipython3",
   "version": "3.11.3"
  }
 },
 "nbformat": 4,
 "nbformat_minor": 5
}
