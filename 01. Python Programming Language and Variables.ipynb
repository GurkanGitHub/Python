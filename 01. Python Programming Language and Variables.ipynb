{
 "cells": [
  {
   "cell_type": "markdown",
   "metadata": {},
   "source": [
    "# Python Programming Language"
   ]
  },
  {
   "cell_type": "raw",
   "metadata": {},
   "source": [
    "👉 Python is a high-level, general-purpose programming language. \n",
    "\n",
    "Its design philosophy emphasizes code readability with the use of indentation."
   ]
  },
  {
   "cell_type": "markdown",
   "metadata": {},
   "source": [
    "## Master Key for System Integration"
   ]
  },
  {
   "cell_type": "raw",
   "metadata": {},
   "source": [
    "Ø Comprehensive standard and additional libraries in the Python Package Index provide developers high-quality solutions. \n",
    "\n",
    "Ø Has unique benefits for system integration. \n",
    "\n",
    "Ø Python libraries ---> virtually any 3rd-party system can be. \n",
    "\n",
    "Ø Python apps can run on all os for which a Python interpreter exists, significantly reducing the cost of OS specific apps."
   ]
  },
  {
   "cell_type": "markdown",
   "metadata": {},
   "source": [
    "## Historical Development of Python"
   ]
  },
  {
   "cell_type": "raw",
   "metadata": {},
   "source": [
    "Ø Python 0.9.0: 1991, Guido van Rossum began working on late 1980s as a successor to the ABC progrmming language.\n",
    "\n",
    "Ø Name: Inspired by the English comedy group of Monty Python’s Flying Circus.\n",
    "\n",
    "Ø Python 2.0: October 2000, introduced new features such as list comprehensions, cycle-detecting garbage collection, reference counting, and Unicode support. Discontinued with version 2.7.18 in 2020\n",
    "\n",
    "Ø Python 3.0: December 2008, was a major revision that is not completely backward-compatible with earlier versions. It makes Pyton more readable and consistent than previous versions.\n",
    "\n",
    "Ø Python 3.9 - Oct2020\n",
    "\t\t\n",
    "Ø Python kullanan meşhur firmalar: Google, Netflix (film önerme, machine learning), amazon."
   ]
  },
  {
   "cell_type": "markdown",
   "metadata": {},
   "source": [
    "## Review of Tools & Installations"
   ]
  },
  {
   "cell_type": "raw",
   "metadata": {},
   "source": [
    "Ø We need 3 things:\n",
    "\n",
    "1. Editor-Integrated development environments (IDE) to write and run Python codes.  \n",
    "    • Anaconda Navigator (Anaconda3) package ~ preferred program.\n",
    "        ○ Jupyter Lab: OS web app for making and sharing documents that contain live code, equations, vis, and narrative text.\n",
    "        ○ Jupyter Notebook similar to JL.\n",
    "    • Visual Studio Code (VS Code). \n",
    "2. Interpreter: to run Python codes (interpreted language-->need a runtime in which it can execute).\n",
    "    • Python Shell (Integrated Development and Learning Environment-IDLE) can also be used as a basic interpreter tool.\n",
    "    \n",
    "3. Extension for VSCode. \n",
    "\n",
    "\n",
    "\n",
    "Not: IDE programlama dilleri ile entegre çalışabilen, siz programlarken işinizi kolaylaştıran ve fonksiyonların kullanım şeklini size ipucu olarak sunabilen ultra gelişmiş ve fonksiyonel metin editörleri."
   ]
  },
  {
   "cell_type": "markdown",
   "metadata": {},
   "source": [
    "## Format & Style of Coding"
   ]
  },
  {
   "cell_type": "raw",
   "metadata": {},
   "source": [
    "• Python Enhancement Proposal (PEP 8) Conventions Document\n",
    "\t○ Coding convention, set of reccommendations, about how to write code and make it more readable.\n",
    "\t○ Gives ccs for the Pc comprising the standard library in the main Pdistribution. Guido: code is read much more often than it is written.\n",
    "\t○ Intended to make it consistent across the wide spectrum of Pc.\n",
    "\t○ Style guide: consistency (with this sg/ within project / within one module or function).\n",
    "\t○ However, know when to be inconsistent. Sometimes sg recs aren't just applicable. When in doubt, use your best judgment. Look at other examples and decide what looks best. \n",
    "\t○ The main idea of PEP 8 is to use the same code style for all Pprojects as if they were written by the same programmer. PEP 8, even for beginners, assures that it will easily understand the code written by any other developer.\n",
    "\t○ Link: https://www.python.org/dev/peps/pep-0008/"
   ]
  },
  {
   "cell_type": "markdown",
   "metadata": {},
   "source": [
    "## Some Important PEP 8 Rules"
   ]
  },
  {
   "cell_type": "markdown",
   "metadata": {},
   "source": [
    "### Line length limit"
   ]
  },
  {
   "cell_type": "raw",
   "metadata": {},
   "source": [
    "• Limit all line lengths to a max of 79 chars. \n",
    "\n",
    "💡Tips: It is not obligatory just an advise to increase readibility. "
   ]
  },
  {
   "cell_type": "code",
   "execution_count": 11,
   "metadata": {},
   "outputs": [],
   "source": [
    "string = \"Limit all line lengths to a max of 79 characs is a common accepted rule of PEP8\""
   ]
  },
  {
   "cell_type": "code",
   "execution_count": 12,
   "metadata": {},
   "outputs": [
    {
     "data": {
      "text/plain": [
       "79"
      ]
     },
     "execution_count": 12,
     "metadata": {},
     "output_type": "execute_result"
    }
   ],
   "source": [
    "len(string)"
   ]
  },
  {
   "cell_type": "markdown",
   "metadata": {},
   "source": [
    "### Indentation method"
   ]
  },
  {
   "cell_type": "raw",
   "metadata": {},
   "source": [
    "Ø Spaces are the preferred indentation method. \n",
    "\n",
    "Ø Tabs should be used solely to remain consistent with code that is already indented with tabs. \n",
    "\n",
    "💡Tips: Python 3 disallows mixing the use of tabs and spaces for indentation."
   ]
  },
  {
   "cell_type": "code",
   "execution_count": 4,
   "metadata": {},
   "outputs": [
    {
     "ename": "IndentationError",
     "evalue": "expected an indented block (<ipython-input-4-725f654fe32f>, line 3)",
     "output_type": "error",
     "traceback": [
      "\u001b[1;36m  File \u001b[1;32m\"<ipython-input-4-725f654fe32f>\"\u001b[1;36m, line \u001b[1;32m3\u001b[0m\n\u001b[1;33m    print(i)\u001b[0m\n\u001b[1;37m        ^\u001b[0m\n\u001b[1;31mIndentationError\u001b[0m\u001b[1;31m:\u001b[0m expected an indented block\n"
     ]
    }
   ],
   "source": [
    "text = \"Python\"\n",
    "for i in text:\n",
    "print(i)"
   ]
  },
  {
   "cell_type": "code",
   "execution_count": 5,
   "metadata": {},
   "outputs": [
    {
     "name": "stdout",
     "output_type": "stream",
     "text": [
      "P\n",
      "y\n",
      "t\n",
      "h\n",
      "o\n",
      "n\n"
     ]
    }
   ],
   "source": [
    "text = \"Python\"\n",
    "for i in text:\n",
    "    print(i)"
   ]
  },
  {
   "cell_type": "markdown",
   "metadata": {},
   "source": [
    "### Whitespaces "
   ]
  },
  {
   "cell_type": "raw",
   "metadata": {},
   "source": [
    "Ø Avoid extraneous whitespaces (enter, tab, space) in the following situations:"
   ]
  },
  {
   "cell_type": "markdown",
   "metadata": {},
   "source": [
    "#### Immediately inside parentheses (rb), brackets (squareb) or braces (curly bracets) :"
   ]
  },
  {
   "cell_type": "code",
   "execution_count": 11,
   "metadata": {},
   "outputs": [],
   "source": [
    "text = \"Python\""
   ]
  },
  {
   "cell_type": "code",
   "execution_count": 12,
   "metadata": {},
   "outputs": [
    {
     "data": {
      "text/plain": [
       "'y'"
      ]
     },
     "execution_count": 12,
     "metadata": {},
     "output_type": "execute_result"
    }
   ],
   "source": [
    "text[ 1 ] # as you see it gives the result, there is no error, but avoid to do so to increase readbility"
   ]
  },
  {
   "cell_type": "code",
   "execution_count": 4,
   "metadata": {},
   "outputs": [
    {
     "data": {
      "text/plain": [
       "{'name': 'gurkan', 'surname': 'yesilyurt'}"
      ]
     },
     "execution_count": 4,
     "metadata": {},
     "output_type": "execute_result"
    }
   ],
   "source": [
    "my_dict = { \"name\": \"gurkan\", \"surname\": \"yesilyurt\" }\n",
    "my_dict"
   ]
  },
  {
   "cell_type": "markdown",
   "metadata": {},
   "source": [
    "#### Between a trailing (final) comma and a following close parenthesis :"
   ]
  },
  {
   "cell_type": "code",
   "execution_count": 6,
   "metadata": {},
   "outputs": [],
   "source": [
    "import pandas as pd"
   ]
  },
  {
   "cell_type": "code",
   "execution_count": 10,
   "metadata": {},
   "outputs": [
    {
     "data": {
      "text/html": [
       "<div>\n",
       "<style scoped>\n",
       "    .dataframe tbody tr th:only-of-type {\n",
       "        vertical-align: middle;\n",
       "    }\n",
       "\n",
       "    .dataframe tbody tr th {\n",
       "        vertical-align: top;\n",
       "    }\n",
       "\n",
       "    .dataframe thead th {\n",
       "        text-align: right;\n",
       "    }\n",
       "</style>\n",
       "<table border=\"1\" class=\"dataframe\">\n",
       "  <thead>\n",
       "    <tr style=\"text-align: right;\">\n",
       "      <th></th>\n",
       "      <th>0</th>\n",
       "      <th>1</th>\n",
       "    </tr>\n",
       "  </thead>\n",
       "  <tbody>\n",
       "    <tr>\n",
       "      <th>0</th>\n",
       "      <td>1</td>\n",
       "      <td>4</td>\n",
       "    </tr>\n",
       "    <tr>\n",
       "      <th>1</th>\n",
       "      <td>2</td>\n",
       "      <td>5</td>\n",
       "    </tr>\n",
       "    <tr>\n",
       "      <th>2</th>\n",
       "      <td>3</td>\n",
       "      <td>6</td>\n",
       "    </tr>\n",
       "  </tbody>\n",
       "</table>\n",
       "</div>"
      ],
      "text/plain": [
       "   0  1\n",
       "0  1  4\n",
       "1  2  5\n",
       "2  3  6"
      ]
     },
     "execution_count": 10,
     "metadata": {},
     "output_type": "execute_result"
    }
   ],
   "source": [
    "df = pd.DataFrame({0: [1,2,3], 1: [4,5,6]})\n",
    "df"
   ]
  },
  {
   "cell_type": "code",
   "execution_count": 16,
   "metadata": {},
   "outputs": [
    {
     "data": {
      "text/plain": [
       "0    1\n",
       "1    2\n",
       "2    3\n",
       "Name: 0, dtype: int64"
      ]
     },
     "execution_count": 16,
     "metadata": {},
     "output_type": "execute_result"
    }
   ],
   "source": [
    "df[0 ] # as you see it gives the result, there is no error, but avoid to do so to increase readbility"
   ]
  },
  {
   "cell_type": "markdown",
   "metadata": {},
   "source": [
    "#### Immediately before a comma, semicolon, or colon :"
   ]
  },
  {
   "cell_type": "code",
   "execution_count": null,
   "metadata": {},
   "outputs": [],
   "source": [
    "YES : if y == 3: print x, y; x, y = y, x"
   ]
  },
  {
   "cell_type": "code",
   "execution_count": null,
   "metadata": {},
   "outputs": [],
   "source": [
    "NO : if y == 3 : print x , y ; x , y = y , x"
   ]
  },
  {
   "cell_type": "markdown",
   "metadata": {},
   "source": [
    "#### Immediately before open parenthesis that starts the argument list of a function call:"
   ]
  },
  {
   "cell_type": "code",
   "execution_count": null,
   "metadata": {},
   "outputs": [],
   "source": [
    "YES : print('peace') , NO : print ('peace')"
   ]
  },
  {
   "cell_type": "markdown",
   "metadata": {},
   "source": [
    "#### More than one space around an assignment operator to align it with another."
   ]
  },
  {
   "cell_type": "raw",
   "metadata": {},
   "source": [
    "YES\tNO\n",
    "x=3\tx=                3\n",
    "y=4\ty=                3\n",
    "long_vars=5\tlong_vars= 5"
   ]
  },
  {
   "cell_type": "raw",
   "metadata": {},
   "source": [
    "Ø Avoid trailing whitespace anywhere. Because it's usually invisible, it can be confusing: e.g. a backslash followed by a space and a newline does not count as a line continuation marker.\n",
    "\n",
    "Ø Always surround these binary operators with a single space on either side: assignment (=), augmented assignment (+=, -=, etc.), comparisons (==, <, >, !=, <>, <=, >=, in, not in, is, is not), Booleans (and, or, not).\n",
    "\n",
    "○ Failure to follow PEP 8 rules does not make program unable to work. But it will always be important to follow the code style."
   ]
  },
  {
   "cell_type": "markdown",
   "metadata": {},
   "source": [
    "# Variables"
   ]
  },
  {
   "cell_type": "raw",
   "metadata": {},
   "source": [
    "• Variables are designated location like a box where a value can be stored and accessed later. \n",
    "• They are placeholders for some values. First_name is going to wind up being \"Christopher\". Wind up: bir değer alması, duruma gelmesi\n",
    "Ø Creating, naming the variable and assigning a value: happen simultaneously by this syntax : "
   ]
  },
  {
   "cell_type": "markdown",
   "metadata": {},
   "source": [
    "### Creating variables"
   ]
  },
  {
   "cell_type": "raw",
   "metadata": {},
   "source": [
    "• To create a variable \n",
    "    ○ specify the variable name\n",
    "    ○ then assign a value to it using 👉🏻="
   ]
  },
  {
   "cell_type": "code",
   "execution_count": null,
   "metadata": {},
   "outputs": [],
   "source": [
    "ball_box = 20 "
   ]
  },
  {
   "cell_type": "raw",
   "metadata": {},
   "source": [
    "• Python variables don't need explicit declaration to reserve memory space. It happens automatically when you assign a value.\n",
    "\n",
    "• The formula syntax of creating v and assigning value: v_name = value"
   ]
  },
  {
   "cell_type": "markdown",
   "metadata": {},
   "source": [
    "### Naming Variables"
   ]
  },
  {
   "cell_type": "raw",
   "metadata": {},
   "source": [
    "○ Variable: Reserved memory location to store values. Variable gives data to the computer for processing. \n",
    "\t\t\n",
    "○ Each variable has a unique name. Giving a good name to a variable not simple. \n",
    "\t\t\n",
    "○ Care much to name the variables: to make their codes easy to understand. \n",
    "\t\t\n",
    "○ Conventional (PEP 8) Naming Rules: optional but useful.  "
   ]
  },
  {
   "cell_type": "markdown",
   "metadata": {},
   "source": [
    "#### Choose lowercase words and use underscore to split the words"
   ]
  },
  {
   "cell_type": "code",
   "execution_count": 2,
   "metadata": {},
   "outputs": [],
   "source": [
    "price = [22, 44, 66]\n",
    "low_price = 12.00"
   ]
  },
  {
   "cell_type": "markdown",
   "metadata": {},
   "source": [
    "#### single-character variable names"
   ]
  },
  {
   "cell_type": "raw",
   "metadata": {},
   "source": [
    "Do not use these as single-character variable names.  Indistinguishable from the numerals. If you want to use 'l', use 'L' instead.\n",
    "'l' (lowercase letter el)\n",
    "'O' (uppercase letter oh)\n",
    "'I' (uppercase letter eye)"
   ]
  },
  {
   "cell_type": "raw",
   "metadata": {},
   "source": [
    "Ø Do not use specific Pkeywords (name of a function or phrase) as a name, like sum, max, min, in, or, for, etc."
   ]
  },
  {
   "cell_type": "markdown",
   "metadata": {},
   "source": [
    "#### Sensible name"
   ]
  },
  {
   "cell_type": "raw",
   "metadata": {},
   "source": [
    "Ø Use a sensible name. The variable name needs to be meaningful and explain to the reader what types of values will be stored in it."
   ]
  },
  {
   "cell_type": "code",
   "execution_count": 4,
   "metadata": {},
   "outputs": [],
   "source": [
    "figures = 'this is better'\n",
    "f = 'it is not meaningful'"
   ]
  },
  {
   "cell_type": "raw",
   "metadata": {},
   "source": [
    "Ø No \"too common names\". Use a name to describe the meaning of the variable. However, try to limit it to no more than 3 words.\n",
    "\n",
    "Ø If the word you intend to choose is long, try to find the most common and expected short form to make it easy to predict later.\n",
    "\n",
    "Ø Spaces are not allowed in variable names (ex: x y z = 111 222 333, wrong)\n"
   ]
  },
  {
   "cell_type": "markdown",
   "metadata": {},
   "source": [
    "### Comments and Docstrings"
   ]
  },
  {
   "cell_type": "raw",
   "metadata": {},
   "source": [
    "• Good code: Well-readable syntax + comments that contribute to understandability.\n",
    "• Adding explanatory notes ~~longer codes requires this.\n",
    "\t\t○ Way of documenting code. Instead of deleting the code you just put a # to keep it for further use.\n",
    "\t\t○ You understand why this code is written\n",
    "\t\t○ Also for debugging: comment/uncomment and test. Ctrl KC, Ctrl KU to uncomment\n",
    "\t\t○ Help other developers understand who see your code for the first time.\n",
    "\t\n",
    "• Comments\n",
    "\t\n",
    "\t\tØ Used to explain code when the basic code itself isn't clear. \n",
    "\t\tØ # sign converts all subsequent characters to the comment form that Pdoes nothing. "
   ]
  },
  {
   "cell_type": "markdown",
   "metadata": {},
   "source": [
    "#### 3 types of commenting methods"
   ]
  },
  {
   "cell_type": "raw",
   "metadata": {},
   "source": [
    "• Single-line comments begin with the hash character 👉🏻# (hashtag) and are terminated by the end of the line. After # there should be one space."
   ]
  },
  {
   "cell_type": "code",
   "execution_count": 5,
   "metadata": {},
   "outputs": [],
   "source": [
    "# This is a single line comment"
   ]
  },
  {
   "cell_type": "raw",
   "metadata": {},
   "source": [
    "• Inline comments: also begin with # and start from the end of a code line. There should be at least two spaces between the end of the code and # character."
   ]
  },
  {
   "cell_type": "code",
   "execution_count": 6,
   "metadata": {},
   "outputs": [
    {
     "name": "stdout",
     "output_type": "stream",
     "text": [
      "the cosmos has no superiority to chaos\n"
     ]
    }
   ],
   "source": [
    "print('the cosmos has no superiority to chaos')  # This is an inline comment"
   ]
  },
  {
   "cell_type": "raw",
   "metadata": {},
   "source": [
    "• Multi-line comments: basically consist of multiple comment lines. It's better to split a long comment into multiple lines. You have to add 👉🏻 # at the beginning of each new line."
   ]
  },
  {
   "cell_type": "code",
   "execution_count": 8,
   "metadata": {},
   "outputs": [
    {
     "name": "stdout",
     "output_type": "stream",
     "text": [
      "7\n"
     ]
    }
   ],
   "source": [
    "print(3 + 4)\n",
    "# This is the multi-line comment, line-1\n",
    "# This is the multi-line comment, line-2\n",
    "# This is the multi-line comment, line-3"
   ]
  },
  {
   "cell_type": "raw",
   "metadata": {},
   "source": [
    "⚠️Avoid ! : If code is self-explanatory, comments are unnecessary. Mesela Ocak = 31 # Ocak isimli değişkene 31 sayısı tahsis edildi. \n",
    "• Usually, comments should answer the question why as opposed to what.\n",
    "• When necessary, update comments. Be sure that comments not contradicting to the code."
   ]
  },
  {
   "cell_type": "markdown",
   "metadata": {},
   "source": [
    "## Examples:"
   ]
  },
  {
   "cell_type": "code",
   "execution_count": 3,
   "metadata": {},
   "outputs": [
    {
     "name": "stdout",
     "output_type": "stream",
     "text": [
      "blue, 250, winter\n"
     ]
    }
   ],
   "source": [
    "color = 'red'  # str type variable\n",
    "price = 250  # int type variable\n",
    "pi = 3.14  # float type variable\n",
    "color = 'blue'  # You can always assign a new value to a created variable\n",
    "season = \"winter\"\n",
    "print(color, price, season, sep=', ')"
   ]
  },
  {
   "cell_type": "raw",
   "metadata": {},
   "source": [
    "💡Tips: the last value assigned to a variable is valid."
   ]
  },
  {
   "cell_type": "markdown",
   "metadata": {},
   "source": [
    "### Possible to assign the value of one variable to another:"
   ]
  },
  {
   "cell_type": "code",
   "execution_count": 2,
   "metadata": {},
   "outputs": [
    {
     "name": "stdout",
     "output_type": "stream",
     "text": [
      "5, 5, 5\n"
     ]
    }
   ],
   "source": [
    "a = 5\n",
    "b = 55\n",
    "c = 555\n",
    "c = a\n",
    "b = c\n",
    "a = b\n",
    "print(a, b, c, sep=', ') "
   ]
  },
  {
   "cell_type": "raw",
   "metadata": {},
   "source": [
    "⚠️Avoid ! :If you use undefined name of a variable in the code you write, you will get an 'NameError' message."
   ]
  },
  {
   "cell_type": "markdown",
   "metadata": {},
   "source": [
    "## Scope of the Variables"
   ]
  },
  {
   "cell_type": "markdown",
   "metadata": {},
   "source": [
    "### What is name in Python?"
   ]
  },
  {
   "cell_type": "raw",
   "metadata": {},
   "source": [
    "A Python name is an identifier to access a Python object."
   ]
  },
  {
   "cell_type": "code",
   "execution_count": 10,
   "metadata": {},
   "outputs": [],
   "source": [
    "rank = 1"
   ]
  },
  {
   "cell_type": "markdown",
   "metadata": {},
   "source": [
    "Here, ‘rank’ is the **name** associated with the Python object 1. To get this object’s address in RAM, we use the id() function."
   ]
  },
  {
   "cell_type": "markdown",
   "metadata": {},
   "source": [
    "#### id() function"
   ]
  },
  {
   "cell_type": "raw",
   "metadata": {},
   "source": [
    "Docstring: Return the identity of an object. \n",
    "This is guaranteed to be unique among simultaneously existing objects.\n",
    "(CPython uses the object's memory address.)"
   ]
  },
  {
   "cell_type": "code",
   "execution_count": 5,
   "metadata": {},
   "outputs": [
    {
     "data": {
      "text/plain": [
       "140719233606032"
      ]
     },
     "execution_count": 5,
     "metadata": {},
     "output_type": "execute_result"
    }
   ],
   "source": [
    "id(rank)"
   ]
  },
  {
   "cell_type": "code",
   "execution_count": 6,
   "metadata": {},
   "outputs": [
    {
     "data": {
      "text/plain": [
       "140719233606032"
      ]
     },
     "execution_count": 6,
     "metadata": {},
     "output_type": "execute_result"
    }
   ],
   "source": [
    "id(1)"
   ]
  },
  {
   "cell_type": "markdown",
   "metadata": {},
   "source": [
    "### Dynamic Name Binding"
   ]
  },
  {
   "cell_type": "raw",
   "metadata": {},
   "source": [
    "Python doesn't create seperate container to store same object. Same objects goes to the same container. \n",
    "Name change does not affect object address in Ram. "
   ]
  },
  {
   "cell_type": "raw",
   "metadata": {},
   "source": [
    "To take a slightly more complex example, we store 2 in a name ‘a’. Then, we increment it by 1 and associate the name ‘b’ to the object 2. We keep checking the id as we go."
   ]
  },
  {
   "cell_type": "code",
   "execution_count": 18,
   "metadata": {},
   "outputs": [],
   "source": [
    "a = 2"
   ]
  },
  {
   "cell_type": "code",
   "execution_count": 19,
   "metadata": {},
   "outputs": [
    {
     "data": {
      "text/plain": [
       "140711681823560"
      ]
     },
     "execution_count": 19,
     "metadata": {},
     "output_type": "execute_result"
    }
   ],
   "source": [
    "id(a)"
   ]
  },
  {
   "cell_type": "code",
   "execution_count": 20,
   "metadata": {},
   "outputs": [
    {
     "name": "stdout",
     "output_type": "stream",
     "text": [
      "3\n"
     ]
    },
    {
     "data": {
      "text/plain": [
       "140711681823592"
      ]
     },
     "execution_count": 20,
     "metadata": {},
     "output_type": "execute_result"
    }
   ],
   "source": [
    "a +=1 # when we set ‘a’ to, \n",
    "print(a)\n",
    "id(a)"
   ]
  },
  {
   "cell_type": "code",
   "execution_count": 21,
   "metadata": {},
   "outputs": [
    {
     "data": {
      "text/plain": [
       "140711681823560"
      ]
     },
     "execution_count": 21,
     "metadata": {},
     "output_type": "execute_result"
    }
   ],
   "source": [
    "b = 2 # When we set ‘b’ to 2, \n",
    "id(b) # ‘b’ starts pointing to the object ‘a’ once pointed to.\n",
    "        # It is efficient. It does not have to create another object to hold 2 for b. "
   ]
  },
  {
   "cell_type": "code",
   "execution_count": 12,
   "metadata": {},
   "outputs": [
    {
     "data": {
      "text/plain": [
       "140719233606064"
      ]
     },
     "execution_count": 12,
     "metadata": {},
     "output_type": "execute_result"
    }
   ],
   "source": [
    "id(2)"
   ]
  },
  {
   "cell_type": "code",
   "execution_count": 13,
   "metadata": {},
   "outputs": [
    {
     "data": {
      "text/plain": [
       "140719233606096"
      ]
     },
     "execution_count": 13,
     "metadata": {},
     "output_type": "execute_result"
    }
   ],
   "source": [
    "id(3)"
   ]
  },
  {
   "cell_type": "markdown",
   "metadata": {},
   "source": [
    "#### Name can hold any kind of value."
   ]
  },
  {
   "cell_type": "code",
   "execution_count": 15,
   "metadata": {},
   "outputs": [],
   "source": [
    "a = 1"
   ]
  },
  {
   "cell_type": "code",
   "execution_count": 16,
   "metadata": {},
   "outputs": [
    {
     "data": {
      "text/plain": [
       "140719233606032"
      ]
     },
     "execution_count": 16,
     "metadata": {},
     "output_type": "execute_result"
    }
   ],
   "source": [
    "id(a)"
   ]
  },
  {
   "cell_type": "code",
   "execution_count": 17,
   "metadata": {},
   "outputs": [],
   "source": [
    "a = \"one\""
   ]
  },
  {
   "cell_type": "code",
   "execution_count": 18,
   "metadata": {},
   "outputs": [
    {
     "data": {
      "text/plain": [
       "1886226399600"
      ]
     },
     "execution_count": 18,
     "metadata": {},
     "output_type": "execute_result"
    }
   ],
   "source": [
    "id(a)"
   ]
  },
  {
   "cell_type": "markdown",
   "metadata": {},
   "source": [
    "#### Associating the the name with build in functions"
   ]
  },
  {
   "cell_type": "raw",
   "metadata": {},
   "source": [
    "Python functions are also object can be associated them with names."
   ]
  },
  {
   "cell_type": "code",
   "execution_count": 19,
   "metadata": {},
   "outputs": [],
   "source": [
    "identity=id"
   ]
  },
  {
   "cell_type": "code",
   "execution_count": 20,
   "metadata": {},
   "outputs": [
    {
     "data": {
      "text/plain": [
       "140719233606064"
      ]
     },
     "execution_count": 20,
     "metadata": {},
     "output_type": "execute_result"
    }
   ],
   "source": [
    "identity(2)"
   ]
  },
  {
   "cell_type": "code",
   "execution_count": 21,
   "metadata": {},
   "outputs": [],
   "source": [
    "def sayhello(): \n",
    "    print('Hello')"
   ]
  },
  {
   "cell_type": "code",
   "execution_count": 23,
   "metadata": {},
   "outputs": [
    {
     "name": "stdout",
     "output_type": "stream",
     "text": [
      "Hello\n"
     ]
    }
   ],
   "source": [
    "hi=sayhello()"
   ]
  },
  {
   "cell_type": "code",
   "execution_count": 24,
   "metadata": {},
   "outputs": [
    {
     "data": {
      "text/plain": [
       "NoneType"
      ]
     },
     "execution_count": 24,
     "metadata": {},
     "output_type": "execute_result"
    }
   ],
   "source": [
    "type(hi)"
   ]
  },
  {
   "cell_type": "raw",
   "metadata": {},
   "source": [
    "Since the function does not return anything, we get an object of class ‘NoneType’.\n",
    "Of course, None is an object that indicates no value. Did function sayhello() return a value, things would be different."
   ]
  },
  {
   "cell_type": "raw",
   "metadata": {},
   "source": [
    "Another example"
   ]
  },
  {
   "cell_type": "code",
   "execution_count": 28,
   "metadata": {},
   "outputs": [],
   "source": [
    "def func1():\n",
    "    print(\"Hi\")\n",
    "    return 1"
   ]
  },
  {
   "cell_type": "code",
   "execution_count": 29,
   "metadata": {},
   "outputs": [
    {
     "name": "stdout",
     "output_type": "stream",
     "text": [
      "Hi\n"
     ]
    }
   ],
   "source": [
    "func2=func1()"
   ]
  },
  {
   "cell_type": "code",
   "execution_count": 30,
   "metadata": {},
   "outputs": [
    {
     "data": {
      "text/plain": [
       "1"
      ]
     },
     "execution_count": 30,
     "metadata": {},
     "output_type": "execute_result"
    }
   ],
   "source": [
    "func2"
   ]
  },
  {
   "cell_type": "code",
   "execution_count": 31,
   "metadata": {},
   "outputs": [
    {
     "data": {
      "text/plain": [
       "int"
      ]
     },
     "execution_count": 31,
     "metadata": {},
     "output_type": "execute_result"
    }
   ],
   "source": [
    "type(func2)"
   ]
  },
  {
   "cell_type": "code",
   "execution_count": null,
   "metadata": {},
   "outputs": [],
   "source": []
  },
  {
   "cell_type": "code",
   "execution_count": null,
   "metadata": {},
   "outputs": [],
   "source": []
  },
  {
   "cell_type": "markdown",
   "metadata": {},
   "source": [
    "### Namespace \n",
    "\n",
    "**Collection of names**"
   ]
  },
  {
   "cell_type": "markdown",
   "metadata": {},
   "source": [
    "• It is mapping of names to corresponding objects.\n",
    "\n",
    "• 3 types: built-in, global and local -same with a variable scope.\n",
    "\n",
    "• Different namespaces can coexist completely isolated- to ensure no name collisions."
   ]
  },
  {
   "cell_type": "raw",
   "metadata": {},
   "source": [
    "• Two namespaces can have the same name. A namespace is implemented as a Python dictionary.\n",
    "\n",
    "• With the start of interpreter, a Python namespace is created for all built-in names. So, Python functions like print() and id() are always available. Also, each module creates its own global namespace.\n",
    "\n",
    "• When you call a function, a local Python namespace is created for all the names in it.\n",
    "\n",
    "• A module has a global namespace. The built-in namespace encloses this."
   ]
  },
  {
   "cell_type": "markdown",
   "metadata": {},
   "source": [
    "**Build-in**  > Module: **Global**  > Function: **Local** "
   ]
  },
  {
   "cell_type": "raw",
   "metadata": {},
   "source": [
    "• Ex: two files named 'my_python' on both drive C and D. access the file you want by the file-path system. \n",
    "\n",
    "• Python interpreter understands specific method or variable one is trying to access by namespaces."
   ]
  },
  {
   "cell_type": "raw",
   "metadata": {},
   "source": [
    "Through various python namespaces, not each can be accessed from every part of the program.\n",
    "\n",
    "A namespace is in variable scope in a part of a program, if it lets you access the python namespace without having to use a prefix.\n",
    "\n",
    "At any instant, we have at least 3 nested Python scopes-in order:decides the order of searching for when a reference is made.\n",
    "\n",
    "1. Current function’s variable scope- has local namespace\n",
    "2. Module’s variable scope- has global namespace\n",
    "3. The outermost variable scope- has built-in namespace\n",
    "\n",
    "Also, a nested function creates a nested variable scope inside the outer function’s scope."
   ]
  },
  {
   "cell_type": "code",
   "execution_count": 14,
   "metadata": {},
   "outputs": [],
   "source": [
    "a=1 # in the global namespace\n",
    "def func1():\n",
    "    b=2 # in the local namespace of func1\n",
    "    def func2():\n",
    "        c=3 # in the nested local python namespace of func2\n",
    "\n",
    "#To func2, c is local, b is nonlocal (it isn’t global and local), and a is global. "
   ]
  },
  {
   "cell_type": "code",
   "execution_count": 35,
   "metadata": {},
   "outputs": [
    {
     "name": "stdout",
     "output_type": "stream",
     "text": [
      "a=2, b=3, c=3\n",
      "b=2\n"
     ]
    }
   ],
   "source": [
    "a=1\n",
    "def func1():\n",
    "    b=2\n",
    "    def func3():\n",
    "        a=2\n",
    "        b=3\n",
    "        c=3\n",
    "        print(f\"a={a}, b={b}, c={c}\")\n",
    "    func3()\n",
    "    print(f\"b={b}\")              \n",
    "func1()"
   ]
  },
  {
   "cell_type": "code",
   "execution_count": 36,
   "metadata": {},
   "outputs": [
    {
     "data": {
      "text/plain": [
       "1"
      ]
     },
     "execution_count": 36,
     "metadata": {},
     "output_type": "execute_result"
    }
   ],
   "source": [
    "a"
   ]
  },
  {
   "cell_type": "raw",
   "metadata": {},
   "source": [
    "To deal with this situation, we can use the ‘global’ and ‘nonlocal’ keywords."
   ]
  },
  {
   "cell_type": "code",
   "execution_count": 37,
   "metadata": {},
   "outputs": [
    {
     "name": "stdout",
     "output_type": "stream",
     "text": [
      "a=2, b=3, c=3\n",
      "b=3\n"
     ]
    }
   ],
   "source": [
    "a=1\n",
    "def func1():\n",
    "    b=2\n",
    "    def func3():\n",
    "        global a\n",
    "        a=2\n",
    "        nonlocal b\n",
    "        b=3\n",
    "        c=3\n",
    "        print(f\"a={a}, b={b}, c={c}\")\n",
    "    func3()\n",
    "    print(f\"b={b}\")              \n",
    "func1()"
   ]
  },
  {
   "cell_type": "code",
   "execution_count": 38,
   "metadata": {},
   "outputs": [
    {
     "data": {
      "text/plain": [
       "2"
      ]
     },
     "execution_count": 38,
     "metadata": {},
     "output_type": "execute_result"
    }
   ],
   "source": [
    "a"
   ]
  },
  {
   "cell_type": "raw",
   "metadata": {},
   "source": [
    "global and nonlocal keywords lets us refer to a name in a global and nonlocal scope. "
   ]
  },
  {
   "cell_type": "raw",
   "metadata": {},
   "source": [
    "• Namespaces are created at different moments and have different lifetimes. The namespace containing the built-in names is created when the Python interpreter starts up and is never deleted.\n",
    "• In the following figure, you can see some variables which have the same names are in the different modules (namespaces) at the same time. You can work with the variable that you want using this syntax : module.variable. Considering this figure, we can call var1 in Module2 like : module2.var1\n",
    "\t○ Modül: uzun kod blokları, python dosyası, \n",
    "    ○ İçerisinde değişkenler var, aynı isimde ama farklı modüllerde yani namespacelerde.\n",
    "    ○ Örnek: var1 değişkeni module1'in içinde. Bunu nasıl çağırırım: module1.var1\n",
    "    ○ Yani burada module namespace oluyor abi. "
   ]
  },
  {
   "cell_type": "markdown",
   "metadata": {},
   "source": [
    "### Scope"
   ]
  },
  {
   "cell_type": "raw",
   "metadata": {},
   "source": [
    "• Describes the space or region -in which the variables are defined-where a namespace is directly accessible. \n",
    " \n",
    "• Related to nested functions and modules in accordance with the use of variables. It describes the accessibility and the existence of a variable.\n",
    "\n",
    "• A scope defines the hierarchical order in which the names of the variables have to exist in order to match names with the objects (variables).\n",
    "\n",
    "• Scope, hiyerarşik düzenin bir ifadesidir. İç içe fonksiyonları düşün abi. Örnek şöyle:\n",
    "Def ...\n",
    "\tDef ....\n",
    "        Def ....\n",
    "\n",
    "• İşte bu iç içe fonksiyonların içindeki değişkenleri tanımlarkene scope diye bir konsept var. Değişkenin hangi fonksiyonda olduğunu tanımamızı sağlıyor abi. \n",
    "\n",
    "• Şiir txt. Dosyası var D'nin içinde benim klasöründe. Bunu açmak için benim klasörüne tıklarız sonra şiir txt'yi açarız. "
   ]
  },
  {
   "cell_type": "raw",
   "metadata": {},
   "source": [
    "Example"
   ]
  },
  {
   "cell_type": "code",
   "execution_count": 4,
   "metadata": {},
   "outputs": [
    {
     "name": "stdout",
     "output_type": "stream",
     "text": [
      "inner variable\n",
      "outer variable\n"
     ]
    }
   ],
   "source": [
    "my_var = 'outer variable'\n",
    "def func_var(): \n",
    "    my_var= 'inner variable'\n",
    "    print(my_var) \n",
    "func_var() \n",
    "print(my_var)"
   ]
  },
  {
   "cell_type": "raw",
   "metadata": {},
   "source": [
    "• Name of variable (my_var) used 2times: in function body (func_var) and at top. \n",
    "• When you call the function (func_var) or print directly the variable (my_var), same variable produces different outputs. This is because of the location (space) of that variable, that is, where or in which space it is defined in the program."
   ]
  },
  {
   "cell_type": "markdown",
   "metadata": {},
   "source": [
    "### Global and Local Variables"
   ]
  },
  {
   "cell_type": "raw",
   "metadata": {},
   "source": [
    "• Variable can either be global or local, depending on in which space it is defined. \n",
    "• Global Variables:Variables declared outside a function or in global space.\n",
    "    ○ if the variable is at the highest level of a module. can be used in a block of code anywhere. \n",
    "    ○ allow us to make some interactions between functions.\n",
    "    ○ Ex: stored credentials of a student. can be used many times in 3 different functions that we have defined regarding course activities. convenient when the credentials of the person change. \n",
    "• Local Variable: Any variable declared inside a function.\n",
    "    ○ The variables you have defined in a function body are local. \n",
    "    ○ The name of this variable is therefore only valid in the function body to which it is located. \n",
    "    ○ Local variables eliminate some of the confusion risks that global variables can cause."
   ]
  },
  {
   "cell_type": "code",
   "execution_count": null,
   "metadata": {},
   "outputs": [],
   "source": []
  },
  {
   "cell_type": "code",
   "execution_count": 17,
   "metadata": {},
   "outputs": [],
   "source": [
    "text = \"I am the global one\"\n",
    "def global_func():\n",
    "    print(text)# we can use 'text' in a function, # because it's a global variable"
   ]
  },
  {
   "cell_type": "code",
   "execution_count": 18,
   "metadata": {},
   "outputs": [
    {
     "name": "stdout",
     "output_type": "stream",
     "text": [
      "I am the global one\n"
     ]
    }
   ],
   "source": [
    "global_func()  # 'I am the global one' will be printed"
   ]
  },
  {
   "cell_type": "code",
   "execution_count": 19,
   "metadata": {},
   "outputs": [
    {
     "name": "stdout",
     "output_type": "stream",
     "text": [
      "I am the global one\n"
     ]
    }
   ],
   "source": [
    "print(text)  # it can also be printed outside of the function"
   ]
  },
  {
   "cell_type": "code",
   "execution_count": 20,
   "metadata": {},
   "outputs": [
    {
     "name": "stdout",
     "output_type": "stream",
     "text": [
      "The globals are valid everywhere \n"
     ]
    }
   ],
   "source": [
    "text = \"The globals are valid everywhere \" # we changed the value of 'text', \n",
    "global_func() # 'The globals are valid everywhere' will be printed"
   ]
  },
  {
   "cell_type": "code",
   "execution_count": 23,
   "metadata": {},
   "outputs": [],
   "source": [
    "def local_func():\n",
    "    local_text = \"I am the local one\"\n",
    "    print(local_text)  # local_text is a local variable"
   ]
  },
  {
   "cell_type": "code",
   "execution_count": 24,
   "metadata": {},
   "outputs": [
    {
     "name": "stdout",
     "output_type": "stream",
     "text": [
      "I am the local one\n"
     ]
    },
    {
     "ename": "NameError",
     "evalue": "name 'local_text' is not defined",
     "output_type": "error",
     "traceback": [
      "\u001b[1;31m---------------------------------------------------------------------------\u001b[0m",
      "\u001b[1;31mNameError\u001b[0m                                 Traceback (most recent call last)",
      "Cell \u001b[1;32mIn[24], line 2\u001b[0m\n\u001b[0;32m      1\u001b[0m local_func()  \u001b[38;5;66;03m# 'I am the local one' will be printed as expected\u001b[39;00m\n\u001b[1;32m----> 2\u001b[0m \u001b[38;5;28mprint\u001b[39m(local_text)\n",
      "\u001b[1;31mNameError\u001b[0m: name 'local_text' is not defined"
     ]
    }
   ],
   "source": [
    "local_func()  # 'I am the local one' will be printed as expected\n",
    "print(local_text)  # NameError will be raised, # because we can't use local variable outside of its function"
   ]
  },
  {
   "cell_type": "raw",
   "metadata": {},
   "source": [
    "• Global variable can be accessed; from the top-level of module and from the body of funct.\n",
    "\t\t\t\n",
    "• Local variable is valid only in the function's body it is defined. "
   ]
  },
  {
   "cell_type": "markdown",
   "metadata": {},
   "source": [
    "### LEGB Ranking Rule"
   ]
  },
  {
   "cell_type": "raw",
   "metadata": {},
   "source": [
    "When an object is called (method or variable), the interpreter looks for its name in the following order, known as LEGB Ranking Rule.\n",
    "1. Locals. Innermost scope (searched first), contains the local names defined in a function body.\n",
    "2. Enclosing.(bir dış) The scopes of any enclosing functions, which are searched starting with the nearest enclosing scope (from inner to outer), contains non-local, but also non-global names.\n",
    "3. Globals. It contains the current module’s global names. The variables defined at the top-level of its module.\n",
    "4. Built-in. Outermost scope (searched last) is the namespace containing built-in names."
   ]
  },
  {
   "cell_type": "code",
   "execution_count": 37,
   "metadata": {},
   "outputs": [
    {
     "name": "stdout",
     "output_type": "stream",
     "text": [
      "local\n",
      "global\n"
     ]
    }
   ],
   "source": [
    "max = \"bu benim\" # max normalde bif. ama değişkene atandığında ele geçiririz. bizim verdiğimiz işi yapar\n",
    "variable = \"global\"\n",
    "def func_outer():\n",
    "    variable = \"enclosing outer local\"\n",
    "    def func_inner():\n",
    "        variable = \"enclosing inner local\"\n",
    "        def func_local():\n",
    "            variable = \"local\"\n",
    "            print(variable)\n",
    "        func_local()\n",
    "    func_inner()\n",
    "func_outer()  # prints 'local' defined in the innermost function   \n",
    "\n",
    "print(variable)  # 'global' level variable holds its value"
   ]
  },
  {
   "cell_type": "code",
   "execution_count": null,
   "metadata": {},
   "outputs": [],
   "source": [
    "• During the execution of code, interpreter has to resolve the name 'variable'.  \n",
    "• The searching order will be as follows: \n",
    "    ○ 'local' in func_local, \n",
    "    ○ 'enclosing inner local' in func_inner,\n",
    "    ○ 'enclosing outer local' in func_outer, \n",
    "    ○ globals and, \n",
    "    ○ built-in names. "
   ]
  },
  {
   "cell_type": "raw",
   "metadata": {},
   "source": [
    "○ global and nonlocal keywords save us from restrictions. \n",
    "\n",
    "1. Variable defined in function body becomes local. In some cases, we want to work with the variables defined as a global scope in the function body. Normally they are perceived globally and processed accordingly. \n",
    "\n",
    "2. we may need to work with the nonlocal variables in the function body. "
   ]
  },
  {
   "cell_type": "markdown",
   "metadata": {},
   "source": [
    "Keyword **global**"
   ]
  },
  {
   "cell_type": "raw",
   "metadata": {},
   "source": [
    "• You can not change the value assigned to a globally defined variable within a function. To do this we use the keyword global. If you examine the example below you will understand better."
   ]
  },
  {
   "cell_type": "code",
   "execution_count": 22,
   "metadata": {},
   "outputs": [],
   "source": [
    "count = 1\n",
    "def print_global():\n",
    "    print(count)"
   ]
  },
  {
   "cell_type": "code",
   "execution_count": 23,
   "metadata": {},
   "outputs": [
    {
     "name": "stdout",
     "output_type": "stream",
     "text": [
      "1\n"
     ]
    }
   ],
   "source": [
    "print_global()"
   ]
  },
  {
   "cell_type": "code",
   "execution_count": 26,
   "metadata": {},
   "outputs": [
    {
     "ename": "UnboundLocalError",
     "evalue": "cannot access local variable 'count' where it is not associated with a value",
     "output_type": "error",
     "traceback": [
      "\u001b[1;31m---------------------------------------------------------------------------\u001b[0m",
      "\u001b[1;31mUnboundLocalError\u001b[0m                         Traceback (most recent call last)",
      "Cell \u001b[1;32mIn[26], line 8\u001b[0m\n\u001b[0;32m      6\u001b[0m     count \u001b[38;5;241m+\u001b[39m\u001b[38;5;241m=\u001b[39m \u001b[38;5;241m1\u001b[39m  \u001b[38;5;66;03m# we're trying to change its value\u001b[39;00m\n\u001b[0;32m      7\u001b[0m     \u001b[38;5;28mprint\u001b[39m()  \u001b[38;5;66;03m# just empty line\u001b[39;00m\n\u001b[1;32m----> 8\u001b[0m counter()\n",
      "Cell \u001b[1;32mIn[26], line 5\u001b[0m, in \u001b[0;36mcounter\u001b[1;34m()\u001b[0m\n\u001b[0;32m      4\u001b[0m \u001b[38;5;28;01mdef\u001b[39;00m \u001b[38;5;21mcounter\u001b[39m():\n\u001b[1;32m----> 5\u001b[0m     \u001b[38;5;28mprint\u001b[39m(count)\n\u001b[0;32m      6\u001b[0m     count \u001b[38;5;241m+\u001b[39m\u001b[38;5;241m=\u001b[39m \u001b[38;5;241m1\u001b[39m  \u001b[38;5;66;03m# we're trying to change its value\u001b[39;00m\n\u001b[0;32m      7\u001b[0m     \u001b[38;5;28mprint\u001b[39m()\n",
      "\u001b[1;31mUnboundLocalError\u001b[0m: cannot access local variable 'count' where it is not associated with a value"
     ]
    }
   ],
   "source": [
    "# Assigning a value contains local variable expressions to a global variable will cause UnboundLocalError. \n",
    "\n",
    "count = 1\n",
    "def counter():\n",
    "    print(count)\n",
    "    count += 1  # we're trying to change its value\n",
    "    print()  # just empty line\n",
    "counter() "
   ]
  },
  {
   "cell_type": "raw",
   "metadata": {},
   "source": [
    "• We've tried to assign a value to the count variable using an expression contains the count variable. \n",
    "• This is because the interpreter can't find this variable in the local scope. \n",
    "• So, let's use the keyword global to solve this problem."
   ]
  },
  {
   "cell_type": "code",
   "execution_count": 27,
   "metadata": {},
   "outputs": [
    {
     "name": "stdout",
     "output_type": "stream",
     "text": [
      "1\n",
      "2\n",
      "3\n"
     ]
    }
   ],
   "source": [
    "count = 1\n",
    "\n",
    "def counter():\n",
    "    global count  # we've changed its scope\n",
    "    print(count)  # it's global anymore\n",
    "    count += 1\n",
    "\n",
    "counter() \n",
    "counter()\n",
    "counter()"
   ]
  },
  {
   "cell_type": "raw",
   "metadata": {},
   "source": [
    "• The reason for the error in the previous program is that the variable (count) we tried to modify could not be found by the interpreter in the local scope. It's because we used global variable in the local scope."
   ]
  },
  {
   "cell_type": "markdown",
   "metadata": {},
   "source": [
    "Keyword **nonlocal**"
   ]
  },
  {
   "cell_type": "markdown",
   "metadata": {},
   "source": [
    "• Lokal olan bir değişkenin bir üst scope'ta çalışmasını sağlıyor. \n",
    "\n",
    "• On the other hand, you can use the keyword nonlocal to extend the scope of the local variable to an upper scope. Consider the examples of nonlocalization :"
   ]
  },
  {
   "cell_type": "code",
   "execution_count": 29,
   "metadata": {},
   "outputs": [
    {
     "name": "stdout",
     "output_type": "stream",
     "text": [
      "inner: inner variable\n",
      "outer: outer variable\n"
     ]
    }
   ],
   "source": [
    "def func_enclosing1():\n",
    "    x = 'outer variable'\n",
    "    def func_enclosing2():\n",
    "        x = 'inner variable'\n",
    "        print(\"inner:\", x)\n",
    "    func_enclosing2()\n",
    "    print(\"outer:\", x)\n",
    "func_enclosing1() "
   ]
  },
  {
   "cell_type": "markdown",
   "metadata": {},
   "source": [
    "• We will make the variable x nonlocal so we can use its inner-value in the outer function (scope). Let's see."
   ]
  },
  {
   "cell_type": "code",
   "execution_count": 30,
   "metadata": {},
   "outputs": [
    {
     "name": "stdout",
     "output_type": "stream",
     "text": [
      "inner: inner variable\n",
      "outer: inner variable\n"
     ]
    }
   ],
   "source": [
    "def enclosing_func1():\n",
    "    x = 'outer variable'\n",
    "    def enclosing_func2():\n",
    "        nonlocal x  # its inner-value can be used in the outer scope\n",
    "        x = 'inner variable'\n",
    "        print(\"inner:\", x)\n",
    "    enclosing_func2()\n",
    "    print(\"outer:\", x)\n",
    "enclosing_func1() \n"
   ]
  },
  {
   "cell_type": "raw",
   "metadata": {},
   "source": [
    "💡Tips: Frankly, these keywords are not widely used in programming but are worth discussing."
   ]
  },
  {
   "cell_type": "markdown",
   "metadata": {},
   "source": [
    "### Accessing Documentation with ?"
   ]
  },
  {
   "cell_type": "code",
   "execution_count": null,
   "metadata": {},
   "outputs": [],
   "source": [
    "\n",
    "The Python language and its data science ecosystem are built with the user in mind,\n",
    "and one big part of that is access to documentation."
   ]
  },
  {
   "cell_type": "raw",
   "metadata": {},
   "source": [
    "Every Python object contains the reference to a string, known as a docstring, which in most cases will contain a concise\n",
    "summary of the object and how to use it. Python has a built-in help() function that\n",
    "can access this information and print the results. "
   ]
  },
  {
   "cell_type": "code",
   "execution_count": 1,
   "metadata": {},
   "outputs": [
    {
     "name": "stdout",
     "output_type": "stream",
     "text": [
      "Help on built-in function len in module builtins:\n",
      "\n",
      "len(obj, /)\n",
      "    Return the number of items in a container.\n",
      "\n"
     ]
    }
   ],
   "source": [
    "help(len)"
   ]
  },
  {
   "cell_type": "raw",
   "metadata": {},
   "source": [
    "Because finding help on an object is so common and useful, IPython introduces the ?\n",
    "character as a shorthand for accessing this documentation and other relevant\n",
    "information:"
   ]
  },
  {
   "cell_type": "code",
   "execution_count": 4,
   "metadata": {},
   "outputs": [],
   "source": [
    "len?"
   ]
  },
  {
   "cell_type": "raw",
   "metadata": {},
   "source": [
    "This notation works for just about anything, including object methods:"
   ]
  },
  {
   "cell_type": "code",
   "execution_count": 12,
   "metadata": {},
   "outputs": [],
   "source": [
    "L=[1,2,3]"
   ]
  },
  {
   "cell_type": "code",
   "execution_count": 13,
   "metadata": {},
   "outputs": [],
   "source": [
    "L.insert?"
   ]
  },
  {
   "cell_type": "code",
   "execution_count": 14,
   "metadata": {},
   "outputs": [
    {
     "data": {
      "text/plain": [
       "[0, 1, 2, 3]"
      ]
     },
     "execution_count": 14,
     "metadata": {},
     "output_type": "execute_result"
    }
   ],
   "source": [
    "L.insert(0,0)\n",
    "L"
   ]
  },
  {
   "cell_type": "code",
   "execution_count": 15,
   "metadata": {},
   "outputs": [],
   "source": [
    "#or even objects themselves, with the documentation from their type:\n",
    "L?"
   ]
  },
  {
   "cell_type": "raw",
   "metadata": {},
   "source": [
    "Importantly, this will even work for functions or other objects you create yourself!\n",
    "Here we’ll define a small function with a docstring:"
   ]
  },
  {
   "cell_type": "code",
   "execution_count": 24,
   "metadata": {},
   "outputs": [],
   "source": [
    "def square(x):\n",
    "    \"\"\"returns the square of a given number\"\"\"\n",
    "    return x**2\n"
   ]
  },
  {
   "cell_type": "code",
   "execution_count": 25,
   "metadata": {},
   "outputs": [
    {
     "data": {
      "text/plain": [
       "9"
      ]
     },
     "execution_count": 25,
     "metadata": {},
     "output_type": "execute_result"
    }
   ],
   "source": [
    "square(3)"
   ]
  },
  {
   "cell_type": "code",
   "execution_count": 26,
   "metadata": {},
   "outputs": [],
   "source": [
    "square?"
   ]
  },
  {
   "cell_type": "raw",
   "metadata": {},
   "source": [
    "Accessing Source Code with ??\n",
    "Because the Python language is so easily readable, you can usually gain another level\n",
    "of insight by reading the source code of the object you’re curious about."
   ]
  },
  {
   "cell_type": "code",
   "execution_count": 27,
   "metadata": {},
   "outputs": [],
   "source": [
    "square??"
   ]
  },
  {
   "cell_type": "raw",
   "metadata": {},
   "source": [
    "If you play with this much, you’ll notice that sometimes the ?? suffix doesn’t display\n",
    "any source code: this is generally because the object in question is not implemented in\n",
    "Python, but in C or some other compiled extension language. If this is the case, the ??\n",
    "suffix gives the same output as the ? suffix. You’ll find this particularly with many of\n",
    "Python’s built-in objects and types, for example len from above:"
   ]
  },
  {
   "cell_type": "code",
   "execution_count": 29,
   "metadata": {},
   "outputs": [],
   "source": [
    "len??"
   ]
  },
  {
   "cell_type": "code",
   "execution_count": null,
   "metadata": {},
   "outputs": [],
   "source": []
  }
 ],
 "metadata": {
  "kernelspec": {
   "display_name": "Python 3 (ipykernel)",
   "language": "python",
   "name": "python3"
  },
  "language_info": {
   "codemirror_mode": {
    "name": "ipython",
    "version": 3
   },
   "file_extension": ".py",
   "mimetype": "text/x-python",
   "name": "python",
   "nbconvert_exporter": "python",
   "pygments_lexer": "ipython3",
   "version": "3.11.3"
  }
 },
 "nbformat": 4,
 "nbformat_minor": 4
}
