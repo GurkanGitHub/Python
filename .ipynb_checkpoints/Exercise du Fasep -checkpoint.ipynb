{
 "cells": [
  {
   "cell_type": "code",
   "execution_count": 11,
   "id": "d04f6b56",
   "metadata": {},
   "outputs": [],
   "source": [
    "# Mise à jour du pip\n",
    "\n",
    "#pip install --upgrade pip"
   ]
  },
  {
   "cell_type": "code",
   "execution_count": 12,
   "id": "89f914f9",
   "metadata": {},
   "outputs": [],
   "source": [
    "# Installer le module qui nous permet de récupérer le texte dans la présentation\n",
    "\n",
    "#pip install python-pptx"
   ]
  },
  {
   "cell_type": "code",
   "execution_count": 13,
   "id": "d7fde3ca",
   "metadata": {},
   "outputs": [],
   "source": [
    "# Importer le module et les fonctions de pptx\n",
    "\n",
    "import pptx as pptx\n",
    "\n",
    "from pptx import Presentation\n",
    "\n",
    "from pptx import *"
   ]
  },
  {
   "cell_type": "code",
   "execution_count": 14,
   "id": "7a47e729",
   "metadata": {},
   "outputs": [],
   "source": [
    "# Extraire le texte d'une présentation\n",
    "\n",
    "prs = Presentation(\"D:/github/Python/FASEP.pptx\")\n",
    "\n",
    "text_runs = []\n",
    "\n",
    "for slide in prs.slides:\n",
    "    for shape in slide.shapes:\n",
    "        if not shape.has_text_frame:\n",
    "            continue\n",
    "        for paragraph in shape.text_frame.paragraphs:\n",
    "            for run in paragraph.runs:\n",
    "                text_runs.append(run.text)"
   ]
  },
  {
   "cell_type": "code",
   "execution_count": 15,
   "id": "9058e5c5",
   "metadata": {},
   "outputs": [
    {
     "data": {
      "text/plain": [
       "['SENEGAL – Quartier bas carbone pour le quartier de la gare Petersen – Société SAS',\n",
       " 'Fiche de suivi  FASEP n°A92D',\n",
       " 'Court résumé du projet et de ses objectifs',\n",
       " 'L’objectif de cette prestation est d’élaborer une méthodologie de conception bas carbone pour le quartier de la gare ',\n",
       " 'Petersenà',\n",
       " ' Dakar. Le quartier choisi pour ce FASEP se situe autour du stade.',\n",
       " 'Le projet consiste en la réalisation d’une étude de faisabilité menant à des termes de référence pour l’aménagement du quartier de la gare Petersen selon des principes bas carbone. ',\n",
       " 'Rapporteur Fininter2 : Théophile CABANNES',\n",
       " 'Fiche rapporteur (',\n",
       " 'Fininter',\n",
       " ' 2)',\n",
       " 'Contexte',\n",
       " 'La population de Dakar, capitale du Sénégal, est en plein essor et devrait atteindre 5 millions d’habitant en 2030 (contre 3,5 millions actuellement). Un tel développement urbain présente des défis environnementaux, sociaux et économiques.',\n",
       " 'Principales prestations',\n",
       " 'La prestation comprendra les tâches suivantes : ',\n",
       " 'A. Initialisation de la mission;',\n",
       " 'C. Elaboration d’une vision partagée  ;',\n",
       " 'D. Définition d’un plan guide',\n",
       " 'E. Plan d’action (modalités de mise en œuvre) ; ',\n",
       " 'F. AMO pour le lancement des phases opérationnelles',\n",
       " 'Eléments budgétaires',\n",
       " 'Calendrier',\n",
       " 'La prestation sera réalisée sur une durée de 36 mois et commencera le 1 janvier 2021',\n",
       " 'Club de suivi',\n",
       " '17 entreprises identifiées, dont Suez, Vinci et Carrefour.',\n",
       " 'Données NATIXIS',\n",
       " 'Suivi – Terme intermédiaire (SE)',\n",
       " 'Suivi – Terme intermédiaire (SE)',\n",
       " 'Suivi – Terme final (SE)',\n",
       " 'Suivi post – FASEP (année N+1 – ',\n",
       " 'à réitérer tous les ans',\n",
       " ')']"
      ]
     },
     "execution_count": 15,
     "metadata": {},
     "output_type": "execute_result"
    }
   ],
   "source": [
    "text_runs"
   ]
  },
  {
   "cell_type": "code",
   "execution_count": 16,
   "id": "ac658b9e",
   "metadata": {},
   "outputs": [],
   "source": [
    "# Extraire le texte du tableau de la présentation"
   ]
  },
  {
   "cell_type": "code",
   "execution_count": 17,
   "id": "8186bf3d",
   "metadata": {},
   "outputs": [],
   "source": [
    "def get_tables_pres(pres):\n",
    "    tables = list()\n",
    "    for slide in pres.slides:\n",
    "        for shp in iter(slide.shapes):\n",
    "            if shp.has_table:\n",
    "                table = shp.table\n",
    "                tables.append(table)\n",
    "    return tables   \n",
    "\n",
    "def iter_to_nonempty_table_cells(tbl):\n",
    "    for ridx in range(sum(1 for _ in iter(tbl.rows))):\n",
    "        for cidx in range(sum(1 for _ in iter(tbl.columns))):\n",
    "            cell = tbl.cell(ridx, cidx)\n",
    "            txt = type(\"\")(cell.text)\n",
    "            txt = txt.strip()\n",
    "            if len(txt) > 1:\n",
    "                yield txt\n",
    "\n",
    "# establish read path\n",
    "in_file_path = \"D:/github/Python/FASEP.pptx\"\n",
    "\n",
    "# Open slide-show presentation\n",
    "pres = Presentation(in_file_path)\n",
    "\n",
    "# extract tables from slide-show presentation\n",
    "tables = get_tables_pres(pres)\n",
    "\n",
    "table_runs= []\n",
    "for tbl in tables:\n",
    "    it = iter_to_nonempty_table_cells(tbl)\n",
    "    table_runs.append(\"\".join(it))"
   ]
  },
  {
   "cell_type": "code",
   "execution_count": 18,
   "id": "1e935b29",
   "metadata": {},
   "outputs": [
    {
     "data": {
      "text/plain": [
       "['Données GénéralesPrestataire(s) nom et contact entrepriseSociété SASBénéficiaire localVille de DakarDate accord du comitéMontant du FASEP400 000 €Montant total de la prestations (cofinancements)850 000 €',\n",
       " \"Données administratives et financièresDate de signature de la convention Natixis11 Septembre 2020Montant et date de paiement de l'acompte24 Décembre 2020 pour 100 000 euroMontant et date du paiement intermédiaireMontant et date du paiement finalCommentaires éventuels\",\n",
       " \"Service économique de Dakar\\x0b(28/10/2021)Date de l'avis28/10/2021Rapide Compte-rendu des réunions (club de suivi, réunion tripartite)Lancement du projet le 20/01/2021 à DakarObservations (investissement de l'entreprise, intérêt manifesté par le bénéficiaire et des parties tierces…)Entreprise impliquée, progresse bien et a de bonnes relations avec le bénéficiaire.Perspectives actualisées de l'effet levierN/AEvolution des risques identifiésRisque que le projet aval ne se concrétise pas avant plusieurs années.Avis sur le versement intermédiaireFavorableActions à mener pour favoriser la réussite du projetImpliquer davantage la Banque mondiale.\",\n",
       " \"Date de l'avisRapide Compte-rendu des réunions (club de suivi, réunion tripartite)Observations (investissement de l'entreprise, intérêt manifesté par le bénéficiaire et des parties tierces…)Perspectives actualisées de l'effet levierEvolution des risques identifiésAvis sur le versement intermédiaireActions à mener pour favoriser la réussite du projet\",\n",
       " \"Service économique\\x0b(date et nom du rédacteur)Date de l'avisRapide Compte-rendu des réunions (club de suivi, réunion tripartite)Observations (investissement de l'entreprise, intérêt manifesté par le bénéficiaire et des parties tierces…)Perspectives actualisées de l'effet levierEvolution des risques identifiésAvis sur le versement finalActions à mener pour favoriser la réussite du projet\",\n",
       " \"Service économique\\x0b(date et nom du rédacteur)Date de l'avisObservations (investissement de l'entreprise, intérêt manifesté par le bénéficiaire et des parties tierces…)Perspectives actualisées de l'effet levier: appels d’offres/contrats remportés par des entreprises françaises (montants)Evolution des risques identifiésActions à mener pour multiplier les chances de retombées\"]"
      ]
     },
     "execution_count": 18,
     "metadata": {},
     "output_type": "execute_result"
    }
   ],
   "source": [
    "table_runs"
   ]
  },
  {
   "cell_type": "code",
   "execution_count": 23,
   "id": "dd66d0d0",
   "metadata": {},
   "outputs": [
    {
     "name": "stdout",
     "output_type": "stream",
     "text": [
      "Le type d'objet text_runs est: <class 'list'>\n",
      "Le type d'objet table_runs est: <class 'list'>\n"
     ]
    }
   ],
   "source": [
    "# Contrôler les types de produits\n",
    "\n",
    "print(\"Le type d'objet text_runs est:\",  type(text_runs))\n",
    "\n",
    "print(\"Le type d'objet table_runs est:\", type(table_runs))"
   ]
  },
  {
   "cell_type": "code",
   "execution_count": 24,
   "id": "716f434d",
   "metadata": {},
   "outputs": [],
   "source": [
    "# Fusionner deux objets du liste\n",
    "\n",
    "fasep = text_runs + table_runs"
   ]
  },
  {
   "cell_type": "code",
   "execution_count": 25,
   "id": "47e9255f",
   "metadata": {},
   "outputs": [
    {
     "data": {
      "text/plain": [
       "['SENEGAL – Quartier bas carbone pour le quartier de la gare Petersen – Société SAS',\n",
       " 'Fiche de suivi  FASEP n°A92D',\n",
       " 'Court résumé du projet et de ses objectifs',\n",
       " 'L’objectif de cette prestation est d’élaborer une méthodologie de conception bas carbone pour le quartier de la gare ',\n",
       " 'Petersenà',\n",
       " ' Dakar. Le quartier choisi pour ce FASEP se situe autour du stade.',\n",
       " 'Le projet consiste en la réalisation d’une étude de faisabilité menant à des termes de référence pour l’aménagement du quartier de la gare Petersen selon des principes bas carbone. ',\n",
       " 'Rapporteur Fininter2 : Théophile CABANNES',\n",
       " 'Fiche rapporteur (',\n",
       " 'Fininter',\n",
       " ' 2)',\n",
       " 'Contexte',\n",
       " 'La population de Dakar, capitale du Sénégal, est en plein essor et devrait atteindre 5 millions d’habitant en 2030 (contre 3,5 millions actuellement). Un tel développement urbain présente des défis environnementaux, sociaux et économiques.',\n",
       " 'Principales prestations',\n",
       " 'La prestation comprendra les tâches suivantes : ',\n",
       " 'A. Initialisation de la mission;',\n",
       " 'C. Elaboration d’une vision partagée  ;',\n",
       " 'D. Définition d’un plan guide',\n",
       " 'E. Plan d’action (modalités de mise en œuvre) ; ',\n",
       " 'F. AMO pour le lancement des phases opérationnelles',\n",
       " 'Eléments budgétaires',\n",
       " 'Calendrier',\n",
       " 'La prestation sera réalisée sur une durée de 36 mois et commencera le 1 janvier 2021',\n",
       " 'Club de suivi',\n",
       " '17 entreprises identifiées, dont Suez, Vinci et Carrefour.',\n",
       " 'Données NATIXIS',\n",
       " 'Suivi – Terme intermédiaire (SE)',\n",
       " 'Suivi – Terme intermédiaire (SE)',\n",
       " 'Suivi – Terme final (SE)',\n",
       " 'Suivi post – FASEP (année N+1 – ',\n",
       " 'à réitérer tous les ans',\n",
       " ')',\n",
       " 'Données GénéralesPrestataire(s) nom et contact entrepriseSociété SASBénéficiaire localVille de DakarDate accord du comitéMontant du FASEP400 000 €Montant total de la prestations (cofinancements)850 000 €',\n",
       " \"Données administratives et financièresDate de signature de la convention Natixis11 Septembre 2020Montant et date de paiement de l'acompte24 Décembre 2020 pour 100 000 euroMontant et date du paiement intermédiaireMontant et date du paiement finalCommentaires éventuels\",\n",
       " \"Service économique de Dakar\\x0b(28/10/2021)Date de l'avis28/10/2021Rapide Compte-rendu des réunions (club de suivi, réunion tripartite)Lancement du projet le 20/01/2021 à DakarObservations (investissement de l'entreprise, intérêt manifesté par le bénéficiaire et des parties tierces…)Entreprise impliquée, progresse bien et a de bonnes relations avec le bénéficiaire.Perspectives actualisées de l'effet levierN/AEvolution des risques identifiésRisque que le projet aval ne se concrétise pas avant plusieurs années.Avis sur le versement intermédiaireFavorableActions à mener pour favoriser la réussite du projetImpliquer davantage la Banque mondiale.\",\n",
       " \"Date de l'avisRapide Compte-rendu des réunions (club de suivi, réunion tripartite)Observations (investissement de l'entreprise, intérêt manifesté par le bénéficiaire et des parties tierces…)Perspectives actualisées de l'effet levierEvolution des risques identifiésAvis sur le versement intermédiaireActions à mener pour favoriser la réussite du projet\",\n",
       " \"Service économique\\x0b(date et nom du rédacteur)Date de l'avisRapide Compte-rendu des réunions (club de suivi, réunion tripartite)Observations (investissement de l'entreprise, intérêt manifesté par le bénéficiaire et des parties tierces…)Perspectives actualisées de l'effet levierEvolution des risques identifiésAvis sur le versement finalActions à mener pour favoriser la réussite du projet\",\n",
       " \"Service économique\\x0b(date et nom du rédacteur)Date de l'avisObservations (investissement de l'entreprise, intérêt manifesté par le bénéficiaire et des parties tierces…)Perspectives actualisées de l'effet levier: appels d’offres/contrats remportés par des entreprises françaises (montants)Evolution des risques identifiésActions à mener pour multiplier les chances de retombées\"]"
      ]
     },
     "execution_count": 25,
     "metadata": {},
     "output_type": "execute_result"
    }
   ],
   "source": [
    "fasep"
   ]
  },
  {
   "cell_type": "code",
   "execution_count": 26,
   "id": "c73192e5",
   "metadata": {},
   "outputs": [],
   "source": [
    "#Conversion d'une liste en string\n",
    "\n",
    "fasep = \" \".join(str(i) for i in fasep)"
   ]
  },
  {
   "cell_type": "code",
   "execution_count": 28,
   "id": "ed552827",
   "metadata": {},
   "outputs": [
    {
     "name": "stdout",
     "output_type": "stream",
     "text": [
      "Le type d'objet de text de fasep est: <class 'str'>\n"
     ]
    }
   ],
   "source": [
    "# controle de type\n",
    "\n",
    "print(\"Le type d'objet de text de fasep est:\", type(fasep))"
   ]
  },
  {
   "cell_type": "markdown",
   "id": "a16afac9",
   "metadata": {},
   "source": [
    "# Récupérer les informations à partir de ce texte"
   ]
  },
  {
   "cell_type": "code",
   "execution_count": 30,
   "id": "1824f89d",
   "metadata": {},
   "outputs": [],
   "source": [
    "# Importer le module de Regular Expression\n",
    "\n",
    "import re"
   ]
  },
  {
   "cell_type": "markdown",
   "id": "2389eddb",
   "metadata": {},
   "source": [
    "## 1. Trouver la date de signiture de convention"
   ]
  },
  {
   "cell_type": "code",
   "execution_count": 104,
   "id": "54e324b1",
   "metadata": {},
   "outputs": [
    {
     "data": {
      "text/plain": [
       "['11 Septembre 2020', '24 Décembre 2020']"
      ]
     },
     "execution_count": 104,
     "metadata": {},
     "output_type": "execute_result"
    }
   ],
   "source": [
    "# Trouver tout les dates dans le texte: ce code de RegEx trouve tous les dates.\n",
    "\n",
    "re.findall(\"\\d{2}\\s\\w+\\s\\d{4}\", fasep)"
   ]
  },
  {
   "cell_type": "code",
   "execution_count": 68,
   "id": "647bdf90",
   "metadata": {},
   "outputs": [
    {
     "name": "stdout",
     "output_type": "stream",
     "text": [
      "La date de signature de la convention est:  11 Septembre 2020\n"
     ]
    }
   ],
   "source": [
    "# analyzer la date de signiture de la convention\n",
    "\n",
    "pattern = (\"Date de signature de la convention (\\w+) (\\w+) (\\w{4})\")\n",
    "\n",
    "match = re.findall(pattern, fasep)\n",
    "\n",
    "date_signiture = match[0][0][7:9] + \" \" + match[0][1] + \" \" + match[0][2]\n",
    "\n",
    "print(\"La date de signature de la convention est: \", date_signiture)"
   ]
  },
  {
   "cell_type": "markdown",
   "id": "ccea1fd4",
   "metadata": {},
   "source": [
    "## 2. Trouver le montant de la convention"
   ]
  },
  {
   "cell_type": "code",
   "execution_count": null,
   "id": "856a0e81",
   "metadata": {},
   "outputs": [],
   "source": [
    "# Trouver tout les phrases du montant dans le texte: ce code de RegEx trouve les montants "
   ]
  },
  {
   "cell_type": "code",
   "execution_count": 97,
   "id": "970ae949",
   "metadata": {
    "scrolled": true
   },
   "outputs": [
    {
     "name": "stdout",
     "output_type": "stream",
     "text": [
      "Montant de la subvantion est:  400 000 €\n"
     ]
    }
   ],
   "source": [
    "pattern = (\"Montant du FASEP(\\d+ \\d+ \\W)\")\n",
    "\n",
    "match = re.findall(pattern, fasep)\n",
    "\n",
    "print(\"Montant de la subvantion est: \", match[0])"
   ]
  },
  {
   "cell_type": "markdown",
   "id": "d7a062f6",
   "metadata": {},
   "source": [
    "## 3. Trouver l'avis d'intermédiaire"
   ]
  },
  {
   "cell_type": "code",
   "execution_count": 106,
   "id": "ce196150",
   "metadata": {},
   "outputs": [
    {
     "name": "stdout",
     "output_type": "stream",
     "text": [
      "Avis sur le versement intermédiaire est Favorable\n"
     ]
    }
   ],
   "source": [
    "pattern = (\"Avis sur le versement intermédiaire\\s*(\\w{9})\")\n",
    "\n",
    "match = re.findall(pattern, fasep)\n",
    "\n",
    "print(\"Avis sur le versement intermédiaire est\", match[0])"
   ]
  },
  {
   "cell_type": "code",
   "execution_count": null,
   "id": "4ed3d8cf",
   "metadata": {},
   "outputs": [],
   "source": []
  },
  {
   "cell_type": "code",
   "execution_count": null,
   "id": "19a95216",
   "metadata": {},
   "outputs": [],
   "source": [
    "re.findall(\"\\d+(?= €)\", fasep) # € ile biten kelimelerin çekilmesi"
   ]
  },
  {
   "cell_type": "code",
   "execution_count": null,
   "id": "1895da8b",
   "metadata": {},
   "outputs": [],
   "source": []
  },
  {
   "cell_type": "code",
   "execution_count": null,
   "id": "10bbb054",
   "metadata": {},
   "outputs": [],
   "source": []
  }
 ],
 "metadata": {
  "kernelspec": {
   "display_name": "Python 3 (ipykernel)",
   "language": "python",
   "name": "python3"
  },
  "language_info": {
   "codemirror_mode": {
    "name": "ipython",
    "version": 3
   },
   "file_extension": ".py",
   "mimetype": "text/x-python",
   "name": "python",
   "nbconvert_exporter": "python",
   "pygments_lexer": "ipython3",
   "version": "3.11.3"
  }
 },
 "nbformat": 4,
 "nbformat_minor": 5
}
