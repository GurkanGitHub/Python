{
 "cells": [
  {
   "cell_type": "markdown",
   "metadata": {},
   "source": [
    "# input() function"
   ]
  },
  {
   "cell_type": "markdown",
   "metadata": {},
   "source": [
    "Read a string from standard input.  The trailing newline is stripped."
   ]
  },
  {
   "cell_type": "markdown",
   "metadata": {},
   "source": [
    "input() is a function that takes a value from the user and assigns it to a variable that you choose. Input statement always returns string. To treat is as a number use: float(price)"
   ]
  },
  {
   "cell_type": "code",
   "execution_count": 8,
   "metadata": {},
   "outputs": [
    {
     "name": "stdout",
     "output_type": "stream",
     "text": [
      "Bir sayı giriniz:3\n",
      "Bir sayı giriniz:4\n",
      "Bir sayı giriniz:5\n",
      "Result of 3*4*5 is 60\n"
     ]
    }
   ],
   "source": [
    "a = int(input(\"Bir sayı giriniz:\"))\n",
    "b = int(input(\"Bir sayı giriniz:\"))\n",
    "c = int(input(\"Bir sayı giriniz:\"))\n",
    "\n",
    "çarpım = a*b*c\n",
    "print(\"Result of {}*{}*{} is {}\".format(a, b, c, çarpım))"
   ]
  },
  {
   "cell_type": "code",
   "execution_count": 2,
   "metadata": {},
   "outputs": [
    {
     "name": "stdout",
     "output_type": "stream",
     "text": [
      "Boyun kaç gardaş (m): 1.77\n",
      "Kilon kaç gardaş: 77\n",
      "24.577867151840145\n"
     ]
    }
   ],
   "source": [
    "boy = float(input(\"Boyun kaç gardaş (m): \"))\n",
    "kilo = int(input(\"Kilon kaç gardaş: \"))\n",
    "bki= kilo/boy**2\n",
    "print(bki)"
   ]
  },
  {
   "cell_type": "code",
   "execution_count": 26,
   "metadata": {},
   "outputs": [
    {
     "name": "stdout",
     "output_type": "stream",
     "text": [
      "bir sayı giriniz: 2\n",
      "bir sayı giriniz: 3\n",
      "3\n",
      "2\n"
     ]
    }
   ],
   "source": [
    "a = input(\"bir sayı giriniz: \")\n",
    "b = int(input(\"bir sayı giriniz: \"))\n",
    "a, b = b, a\n",
    "print(a, b, sep=\"\\n\")\n",
    "\n"
   ]
  },
  {
   "cell_type": "code",
   "execution_count": 36,
   "metadata": {},
   "outputs": [
    {
     "name": "stdout",
     "output_type": "stream",
     "text": [
      "adını gir gardaş: a\n",
      "soyadı lütfen: a\n",
      "no: a\n",
      "adı:a\n"
     ]
    }
   ],
   "source": [
    "adı = input(\"adını gir gardaş: \")\n",
    "soyadı = input(\"soyadı lütfen: \")\n",
    "numara = input(\"no: \")\n",
    "#print(\"Benim adım {}, soyadım {}'dır. Numaramı vermem gardaş\".format(adı, soyadı))\n",
    "print(\"adı:%s\" %adı)"
   ]
  },
  {
   "cell_type": "code",
   "execution_count": 41,
   "metadata": {},
   "outputs": [
    {
     "name": "stdout",
     "output_type": "stream",
     "text": [
      "Bir kelime giriniz: elma\n",
      "Bir separation giriniz: *\n",
      "Bir repetisyon giriniz: 15\n",
      "elma*elma*elma*elma*elma*elma*elma*elma*elma*elma*elma*elma*elma*elma*elma*\n",
      "elma*elma*elma*elma*elma*elma*elma*elma*elma*elma*elma*elma*elma*elma*elma\n"
     ]
    }
   ],
   "source": [
    "word = input(\"Bir kelime giriniz: \")\n",
    "seperation = input(\"Bir separation giriniz: \")\n",
    "repetition = int(input(\"Bir repetisyon giriniz: \"))\n",
    "output = repetition* (word + seperation)\n",
    "print(output)\n",
    "print(output[:-1])"
   ]
  },
  {
   "cell_type": "code",
   "execution_count": 43,
   "metadata": {},
   "outputs": [
    {
     "name": "stdout",
     "output_type": "stream",
     "text": [
      "Please enter a word: Galatasaray\n",
      "Please enter a number: 5\n",
      "saraysaraysaraysaraysaray\n"
     ]
    }
   ],
   "source": [
    "word = input(\"Please enter a word: \")\n",
    "number = int(input(\"Please enter a number: \"))\n",
    "new_word = word[-number::]\n",
    "print(number*new_word)"
   ]
  },
  {
   "cell_type": "code",
   "execution_count": 49,
   "metadata": {},
   "outputs": [
    {
     "name": "stdout",
     "output_type": "stream",
     "text": [
      "bir sayı giriniz: 9\n",
      "Fizz\n"
     ]
    }
   ],
   "source": [
    "say = int(input(\"bir sayı giriniz: \"))\n",
    "a = \"Fizz\"\n",
    "b = \"Buzz\"\n",
    "c = (say%3==0)*a + (say%5==0)*b or say\n",
    "print(c)\n"
   ]
  },
  {
   "cell_type": "code",
   "execution_count": 59,
   "metadata": {},
   "outputs": [
    {
     "name": "stdout",
     "output_type": "stream",
     "text": [
      "Word                    :  Orange\n",
      "First letter            :  O\n",
      "Second letter           :  r\n",
      "3rd to 5th letters      :  ang\n",
      "Letter all after 3rd    :  ange\n"
     ]
    }
   ],
   "source": [
    "fruit = 'Orange'\n",
    "print('Word                    : ' , fruit)\n",
    "print('First letter            : ' , fruit[0])\n",
    "print('Second letter           : ' , fruit[1])\n",
    "print(\"3rd to 5th letters      : \" , fruit[2:5])\n",
    "print(\"Letter all after 3rd    : \" , fruit[2:])\n"
   ]
  },
  {
   "cell_type": "code",
   "execution_count": 77,
   "metadata": {},
   "outputs": [
    {
     "name": "stdout",
     "output_type": "stream",
     "text": [
      "Gürkan\n",
      "İsminiz:  Gürkan\n",
      "İlk Harf:  G\n",
      "3'ten 5'e kadar harfler:  rka\n",
      "3'ten sonraki tüm harfler:  rkan\n",
      "Gürkan\n",
      "ra\n"
     ]
    }
   ],
   "source": [
    "isim = \"Gürkan\"\n",
    "print(isim)\n",
    "print(\"İsminiz: \", isim)\n",
    "print(\"İlk Harf: \", isim[0])\n",
    "print(\"3'ten 5'e kadar harfler: \", isim[2:5])\n",
    "print(\"3'ten sonraki tüm harfler: \", isim[2:])\n",
    "print(isim[:])\n",
    "print(isim[2:6:2])"
   ]
  },
  {
   "cell_type": "code",
   "execution_count": 78,
   "metadata": {},
   "outputs": [
    {
     "name": "stdout",
     "output_type": "stream",
     "text": [
      "length of the word Tomato is : 6\n"
     ]
    }
   ],
   "source": [
    "vegetable = 'Tomato'\n",
    "print('length of the word', vegetable, 'is :', len(vegetable))"
   ]
  },
  {
   "cell_type": "code",
   "execution_count": 81,
   "metadata": {},
   "outputs": [
    {
     "name": "stdout",
     "output_type": "stream",
     "text": [
      "5\n",
      "length of the word melon is:  5\n"
     ]
    }
   ],
   "source": [
    "fruit = \"melon\"\n",
    "print(len(fruit))\n",
    "print(\"length of the word\", fruit, \"is: \", len(fruit))"
   ]
  },
  {
   "cell_type": "code",
   "execution_count": 91,
   "metadata": {},
   "outputs": [
    {
     "name": "stdout",
     "output_type": "stream",
     "text": [
      "22\n"
     ]
    }
   ],
   "source": [
    "warning = \"You must quit smoking!\"\n",
    "#print(warning)\n",
    "#print(len(warning))\n",
    "#print(\"length of the sentence\", warning, \"is: \", len(warning))\n",
    "print(len(list(warning)))"
   ]
  },
  {
   "cell_type": "code",
   "execution_count": 1,
   "metadata": {},
   "outputs": [
    {
     "name": "stdout",
     "output_type": "stream",
     "text": [
      "16\n"
     ]
    }
   ],
   "source": [
    "x = 12\n",
    "y = x + 21\n",
    "x = 2\n",
    "print(y//x)"
   ]
  },
  {
   "cell_type": "code",
   "execution_count": 2,
   "metadata": {},
   "outputs": [
    {
     "name": "stdout",
     "output_type": "stream",
     "text": [
      "33\n"
     ]
    }
   ],
   "source": [
    "x = 12\n",
    "y = 21\n",
    "print(x+y)"
   ]
  },
  {
   "cell_type": "raw",
   "metadata": {},
   "source": []
  },
  {
   "cell_type": "code",
   "execution_count": 3,
   "metadata": {},
   "outputs": [],
   "source": [
    "#free code camp"
   ]
  },
  {
   "cell_type": "code",
   "execution_count": 13,
   "metadata": {},
   "outputs": [
    {
     "name": "stdout",
     "output_type": "stream",
     "text": [
      "enter your name: GURKAN\n",
      "enter your age: 44\n"
     ]
    },
    {
     "data": {
      "text/plain": [
       "\"Hello Gurkan! You're 44 years old.\""
      ]
     },
     "execution_count": 13,
     "metadata": {},
     "output_type": "execute_result"
    }
   ],
   "source": [
    "name = input(\"enter your name: \") #store input inside a variable name\n",
    "age = input(\"enter your age: \")\n",
    "\"Hello \" + name.capitalize() +\"! \"+ \"You're \" + age + \" years old.\""
   ]
  },
  {
   "cell_type": "markdown",
   "metadata": {},
   "source": [
    "\n",
    "### calculator"
   ]
  },
  {
   "cell_type": "code",
   "execution_count": 9,
   "metadata": {},
   "outputs": [
    {
     "name": "stdout",
     "output_type": "stream",
     "text": [
      "Enter a number3\n",
      "Enter another number4\n",
      "7.0\n"
     ]
    }
   ],
   "source": [
    "num1=input(\"Enter a number\")\n",
    "num2 = input(\"Enter another number\")\n",
    "result = float(num1)+float(num2)\n",
    "print(result)"
   ]
  },
  {
   "cell_type": "markdown",
   "metadata": {},
   "source": [
    "### mad libs"
   ]
  },
  {
   "cell_type": "code",
   "execution_count": 10,
   "metadata": {},
   "outputs": [
    {
     "name": "stdout",
     "output_type": "stream",
     "text": [
      "Enter a colorblue\n",
      "Enter a plural nounstars\n",
      "Enter a celebritytom hanks\n",
      "Roses are blue\n",
      "stars are blue\n",
      "I love tom hanks\n"
     ]
    }
   ],
   "source": [
    "color = input(\"Enter a color\")\n",
    "pluralNoun= input(\"Enter a plural noun\")\n",
    "celebrity = input(\"Enter a celebrity\")\n",
    "\n",
    "print(\"Roses are \" + color)\n",
    "print(pluralNoun + \" are blue\")\n",
    "print(\"I love \" + celebrity)"
   ]
  },
  {
   "cell_type": "code",
   "execution_count": null,
   "metadata": {},
   "outputs": [],
   "source": [
    "first_name = input(\"Please enter your first name\")\n",
    "second_name = input(\"Please enter your second name\")\n",
    "print(\"Hello \" + first_name.capitalize() + \" \" + second_name.upper())"
   ]
  },
  {
   "cell_type": "markdown",
   "metadata": {},
   "source": [
    "#### Example: Write a code that asks the user a number between 1 and 10 and puts that number into the multiplication table."
   ]
  },
  {
   "cell_type": "code",
   "execution_count": null,
   "metadata": {},
   "outputs": [],
   "source": [
    "a = int(input(\"enter a number between 1 and 10\"))\n",
    "for i in range(1,11):\n",
    "    #print(a*i)\n",
    "    #print(\"{}x{}= \".format(a,i), a*i)\n",
    "    print(\"%dx%d= \"%(a,i))"
   ]
  },
  {
   "cell_type": "code",
   "execution_count": null,
   "metadata": {},
   "outputs": [],
   "source": []
  }
 ],
 "metadata": {
  "kernelspec": {
   "display_name": "Python 3",
   "language": "python",
   "name": "python3"
  },
  "language_info": {
   "codemirror_mode": {
    "name": "ipython",
    "version": 3
   },
   "file_extension": ".py",
   "mimetype": "text/x-python",
   "name": "python",
   "nbconvert_exporter": "python",
   "pygments_lexer": "ipython3",
   "version": "3.7.6"
  }
 },
 "nbformat": 4,
 "nbformat_minor": 4
}
