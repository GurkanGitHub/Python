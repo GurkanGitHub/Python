{
 "cells": [
  {
   "cell_type": "markdown",
   "metadata": {},
   "source": [
    "# Python Programming Language"
   ]
  },
  {
   "cell_type": "raw",
   "metadata": {},
   "source": [
    "👉 Python is a high-level, general-purpose programming language. \n",
    "\n",
    "Its design philosophy emphasizes code readability with the use of significant indentation."
   ]
  },
  {
   "cell_type": "markdown",
   "metadata": {},
   "source": [
    "## Master Key for System Integration"
   ]
  },
  {
   "cell_type": "raw",
   "metadata": {},
   "source": [
    "Ø A comprehensive standard library and additional libraries in the Python Package Index provide developers high-quality solutions. \n",
    "\n",
    "Ø Python offers unique benefits for system integration. \n",
    "\n",
    "Ø Python libraries ---> virtually any 3rd-party system can be. \n",
    "\n",
    "Ø Once they have been programmed, Python apps can run on all os for which a Python interpreter exists, significantly reducing the cost of operation system specific apps."
   ]
  },
  {
   "cell_type": "markdown",
   "metadata": {},
   "source": [
    "## Historical Development of Python"
   ]
  },
  {
   "cell_type": "raw",
   "metadata": {},
   "source": [
    "Ø Python 0.9.0: 1991, Guido van Rossum began working on late 1980s as a successor to the ABC progrmming language.\n",
    "\n",
    "Ø Name: Inspired by the show of Monty Python’s Flying Circus from an English comedy group called The Monty Python.\n",
    "\n",
    "Ø Python 2.0: October 2000, introduced new features such as list comprehensions, cycle-detecting garbage collection, reference counting, and Unicode support. Discontinued with version 2.7.18 in 2020\n",
    "\n",
    "Ø Python 3.0: December 2008, was a major revision that is not completely backward-compatible with earlier versions. It makes Pyton more readable and consistent than previous versions.\n",
    "\n",
    "Ø Python 3.9 - Oct2020\n",
    "\t\t\n",
    "Ø Python kullanan meşhur firmalar: Google, Netflix (film önerme, machine learning), amazon."
   ]
  },
  {
   "cell_type": "markdown",
   "metadata": {},
   "source": [
    "## Review of Tools & Installations"
   ]
  },
  {
   "cell_type": "raw",
   "metadata": {},
   "source": [
    "Ø IDEs to write and run Python codes. \n",
    "    • Anaconda Navigator (Anaconda3) package ~ preferred program.\n",
    "        ○ Jupyter Lab: os web app for making and sharing documents that contain live code, equations, visualizations, and narrative text.\n",
    "        • Jupyter Notebook similar to JL.\n",
    "    • Visual Studio Code (VS Code). \n",
    "Ø Python Shell (IDLE) can also be used as a basic interpreter tool.\n",
    "Ø We need 3 things:\n",
    "• Interpreter: to run Python codes (Pis an interpreted language, so you will need a runtime in which Pcan execute).\n",
    "• Editor: to writing Python codes, like VS code. \n",
    "• Extension for VSCode. "
   ]
  },
  {
   "cell_type": "markdown",
   "metadata": {},
   "source": [
    "## Format & Style of Coding"
   ]
  },
  {
   "cell_type": "code",
   "execution_count": 1,
   "metadata": {},
   "outputs": [
    {
     "ename": "SyntaxError",
     "evalue": "invalid character in identifier (<ipython-input-1-cdccae487fe3>, line 1)",
     "output_type": "error",
     "traceback": [
      "\u001b[1;36m  File \u001b[1;32m\"<ipython-input-1-cdccae487fe3>\"\u001b[1;36m, line \u001b[1;32m1\u001b[0m\n\u001b[1;33m    • Python Enhancement Proposal (PEP 8) Conventions\u001b[0m\n\u001b[1;37m    ^\u001b[0m\n\u001b[1;31mSyntaxError\u001b[0m\u001b[1;31m:\u001b[0m invalid character in identifier\n"
     ]
    }
   ],
   "source": [
    "• Python Enhancement Proposal (PEP 8) Conventions\n",
    "\t○ Coding convention-cc, set of recs, about how to write Pc and make it more readable.\n",
    "\t○ Document that gives ccs for the Pc comprising the standard library in the main Pdistribution. Guido: code is read much more often than it is written.\n",
    "\t○ Intended to make it consistent across the wide spectrum of Pc.\n",
    "\t○ Style guide: consistency (with this sg/ within project / within one module or function).\n",
    "\t○ However, know when to be inconsistent. Sometimes sg recs aren't just applicable. When in doubt, use your best judgment. Look at other examples and decide what looks best. \n",
    "\t○ The main idea of PEP 8 is to use the same code style for all Pprojects as if they were written by the same programmer. PEP 8, even for beginners, assures that it will easily understand the code written by any other developer.\n",
    "\t○ Link: https://www.python.org/dev/peps/pep-0008/"
   ]
  },
  {
   "cell_type": "markdown",
   "metadata": {},
   "source": [
    "## Some Important PEP 8 Rules"
   ]
  },
  {
   "cell_type": "markdown",
   "metadata": {},
   "source": [
    "### Line length limit"
   ]
  },
  {
   "cell_type": "raw",
   "metadata": {},
   "source": [
    "• Limit all line lengths to a max of 79 chars. It should be 72 characters for flowing long blocks of text with fewer structural restrictions (docstrings or comments). Reduce it.\n",
    "\n",
    "💡Tips: It is not obligatory just an advise to increase readibility. "
   ]
  },
  {
   "cell_type": "code",
   "execution_count": 2,
   "metadata": {},
   "outputs": [],
   "source": [
    "string = \"Limit all line lengths to a max of 79 chars is a common accepted rule of PEP8\""
   ]
  },
  {
   "cell_type": "code",
   "execution_count": 3,
   "metadata": {},
   "outputs": [
    {
     "data": {
      "text/plain": [
       "77"
      ]
     },
     "execution_count": 3,
     "metadata": {},
     "output_type": "execute_result"
    }
   ],
   "source": [
    "len(string)"
   ]
  },
  {
   "cell_type": "markdown",
   "metadata": {},
   "source": [
    "### Indentation method"
   ]
  },
  {
   "cell_type": "raw",
   "metadata": {},
   "source": [
    "Ø Spaces are the preferred indentation method. \n",
    "\n",
    "Ø Tabs should be used solely to remain consistent with code that is already indented with tabs. \n",
    "\n",
    "💡Tips: Python 3 disallows mixing the use of tabs and spaces for indentation."
   ]
  },
  {
   "cell_type": "code",
   "execution_count": 4,
   "metadata": {},
   "outputs": [
    {
     "ename": "IndentationError",
     "evalue": "expected an indented block (<ipython-input-4-725f654fe32f>, line 3)",
     "output_type": "error",
     "traceback": [
      "\u001b[1;36m  File \u001b[1;32m\"<ipython-input-4-725f654fe32f>\"\u001b[1;36m, line \u001b[1;32m3\u001b[0m\n\u001b[1;33m    print(i)\u001b[0m\n\u001b[1;37m        ^\u001b[0m\n\u001b[1;31mIndentationError\u001b[0m\u001b[1;31m:\u001b[0m expected an indented block\n"
     ]
    }
   ],
   "source": [
    "text = \"Python\"\n",
    "for i in text:\n",
    "print(i)"
   ]
  },
  {
   "cell_type": "code",
   "execution_count": 5,
   "metadata": {},
   "outputs": [
    {
     "name": "stdout",
     "output_type": "stream",
     "text": [
      "P\n",
      "y\n",
      "t\n",
      "h\n",
      "o\n",
      "n\n"
     ]
    }
   ],
   "source": [
    "text = \"Python\"\n",
    "for i in text:\n",
    "    print(i)"
   ]
  },
  {
   "cell_type": "markdown",
   "metadata": {},
   "source": [
    "### Whitespaces "
   ]
  },
  {
   "cell_type": "raw",
   "metadata": {},
   "source": [
    "Ø Avoid extraneous whitespaces (enter, tab, space) in the following situations:"
   ]
  },
  {
   "cell_type": "markdown",
   "metadata": {},
   "source": [
    "#### Immediately inside parentheses (rb), brackets (squareb) or braces (curly bracets) :"
   ]
  },
  {
   "cell_type": "code",
   "execution_count": 11,
   "metadata": {},
   "outputs": [],
   "source": [
    "text = \"Python\""
   ]
  },
  {
   "cell_type": "code",
   "execution_count": 12,
   "metadata": {},
   "outputs": [
    {
     "data": {
      "text/plain": [
       "'y'"
      ]
     },
     "execution_count": 12,
     "metadata": {},
     "output_type": "execute_result"
    }
   ],
   "source": [
    "text[ 1 ] # as you see it gives the result, there is no error, but avoid to do so to increase readbility"
   ]
  },
  {
   "cell_type": "code",
   "execution_count": 4,
   "metadata": {},
   "outputs": [
    {
     "data": {
      "text/plain": [
       "{'name': 'gurkan', 'surname': 'yesilyurt'}"
      ]
     },
     "execution_count": 4,
     "metadata": {},
     "output_type": "execute_result"
    }
   ],
   "source": [
    "my_dict = { \"name\": \"gurkan\", \"surname\": \"yesilyurt\" }\n",
    "my_dict"
   ]
  },
  {
   "cell_type": "markdown",
   "metadata": {},
   "source": [
    "#### Between a trailing (final) comma and a following close parenthesis :"
   ]
  },
  {
   "cell_type": "code",
   "execution_count": 6,
   "metadata": {},
   "outputs": [],
   "source": [
    "import pandas as pd"
   ]
  },
  {
   "cell_type": "code",
   "execution_count": 10,
   "metadata": {},
   "outputs": [
    {
     "data": {
      "text/html": [
       "<div>\n",
       "<style scoped>\n",
       "    .dataframe tbody tr th:only-of-type {\n",
       "        vertical-align: middle;\n",
       "    }\n",
       "\n",
       "    .dataframe tbody tr th {\n",
       "        vertical-align: top;\n",
       "    }\n",
       "\n",
       "    .dataframe thead th {\n",
       "        text-align: right;\n",
       "    }\n",
       "</style>\n",
       "<table border=\"1\" class=\"dataframe\">\n",
       "  <thead>\n",
       "    <tr style=\"text-align: right;\">\n",
       "      <th></th>\n",
       "      <th>0</th>\n",
       "      <th>1</th>\n",
       "    </tr>\n",
       "  </thead>\n",
       "  <tbody>\n",
       "    <tr>\n",
       "      <th>0</th>\n",
       "      <td>1</td>\n",
       "      <td>4</td>\n",
       "    </tr>\n",
       "    <tr>\n",
       "      <th>1</th>\n",
       "      <td>2</td>\n",
       "      <td>5</td>\n",
       "    </tr>\n",
       "    <tr>\n",
       "      <th>2</th>\n",
       "      <td>3</td>\n",
       "      <td>6</td>\n",
       "    </tr>\n",
       "  </tbody>\n",
       "</table>\n",
       "</div>"
      ],
      "text/plain": [
       "   0  1\n",
       "0  1  4\n",
       "1  2  5\n",
       "2  3  6"
      ]
     },
     "execution_count": 10,
     "metadata": {},
     "output_type": "execute_result"
    }
   ],
   "source": [
    "df = pd.DataFrame({0: [1,2,3], 1: [4,5,6]})\n",
    "df"
   ]
  },
  {
   "cell_type": "code",
   "execution_count": 16,
   "metadata": {},
   "outputs": [
    {
     "data": {
      "text/plain": [
       "0    1\n",
       "1    2\n",
       "2    3\n",
       "Name: 0, dtype: int64"
      ]
     },
     "execution_count": 16,
     "metadata": {},
     "output_type": "execute_result"
    }
   ],
   "source": [
    "df[0 ] # as you see it gives the result, there is no error, but avoid to do so to increase readbility"
   ]
  },
  {
   "cell_type": "markdown",
   "metadata": {},
   "source": [
    "#### Immediately before a comma, semicolon, or colon :"
   ]
  },
  {
   "cell_type": "code",
   "execution_count": null,
   "metadata": {},
   "outputs": [],
   "source": [
    "YES : if y == 3: print x, y; x, y = y, x"
   ]
  },
  {
   "cell_type": "code",
   "execution_count": null,
   "metadata": {},
   "outputs": [],
   "source": [
    "NO : if y == 3 : print x , y ; x , y = y , x"
   ]
  },
  {
   "cell_type": "markdown",
   "metadata": {},
   "source": [
    "#### Immediately before open parenthesis that starts the argument list of a function call:"
   ]
  },
  {
   "cell_type": "code",
   "execution_count": null,
   "metadata": {},
   "outputs": [],
   "source": [
    "YES : print('peace') , NO : print ('peace')"
   ]
  },
  {
   "cell_type": "markdown",
   "metadata": {},
   "source": [
    "#### More than one space around an assignment operator to align it with another."
   ]
  },
  {
   "cell_type": "raw",
   "metadata": {},
   "source": [
    "YES\tNO\n",
    "x=3\tx=                3\n",
    "y=4\ty=                3\n",
    "long_vars=5\tlong_vars= 5"
   ]
  },
  {
   "cell_type": "raw",
   "metadata": {},
   "source": [
    "Ø Avoid trailing whitespace anywhere. Because it's usually invisible, it can be confusing: e.g. a backslash followed by a space and a newline does not count as a line continuation marker.\n",
    "\n",
    "Ø Always surround these binary operators with a single space on either side: assignment (=), augmented assignment (+=, -=, etc.), comparisons (==, <, >, !=, <>, <=, >=, in, not in, is, is not), Booleans (and, or, not).\n",
    "\n",
    "○ Failure to follow PEP 8 rules does not make program unable to work. But it will always be important to follow the code style."
   ]
  },
  {
   "cell_type": "markdown",
   "metadata": {},
   "source": [
    "# Variables"
   ]
  },
  {
   "cell_type": "raw",
   "metadata": {},
   "source": [
    "• Variables are designated location like a box where a value can be stored and accessed later. \n",
    "• They are placeholders for some values. First_name is going to wind up being \"Christopher\". Wind up: bir değer alması, duruma gelmesi\n",
    "Ø Creating, naming the variable and assigning a value: happen simultaneously by this syntax : "
   ]
  },
  {
   "cell_type": "markdown",
   "metadata": {},
   "source": [
    "### Creating variables"
   ]
  },
  {
   "cell_type": "raw",
   "metadata": {},
   "source": [
    "• To create a variable \n",
    "    ○ specify the variable name\n",
    "    ○ then assign a value to it using 👉🏻="
   ]
  },
  {
   "cell_type": "code",
   "execution_count": null,
   "metadata": {},
   "outputs": [],
   "source": [
    "ball_box = 20 "
   ]
  },
  {
   "cell_type": "raw",
   "metadata": {},
   "source": [
    "• Python variables don't need explicit declaration to reserve memory space. It happens automatically when you assign a value.\n",
    "\n",
    "• The formula syntax of creating v and assigning value: v_name = value"
   ]
  },
  {
   "cell_type": "raw",
   "metadata": {},
   "source": [
    "• Naming Variables\n",
    "\n",
    "\t○ General Description:\n",
    "\n",
    "\t\tØ Variable: Reserved memory location to store values. Variable gives data to the computer for processing. \n",
    "\t\t\n",
    "\t\tØ Each variable has a unique name. Giving a good name to a variable not simple. \n",
    "\t\t\n",
    "\t\tØ Care much to name the variables: to make their codes easy to understand. \n",
    "\t\t\n",
    "\t\tØ PEP 8 traditional rules of naming is optional. But it is useful to follow the convention.\n",
    "\t\t\n",
    "\t○ Conventional (PEP 8) Naming Rules\n",
    "\t\t\n",
    "\t\tØ Choose lowercase words and use underscore to split the words:\n",
    "\t\t\t\n",
    "\t\t\t§ price = [22, 44, 66],\n",
    "\t\t\t§ low_price = 12.00\n",
    "\t\t\t\n",
    "\t\tØ Do not use these as single-character variable names.  Indistinguishable from the numerals. If you want to use 'l', use 'L' instead.\n",
    "\t\t\n",
    "\t\t\t§ 'l' (lowercase letter el)\n",
    "\t\t\t§ 'O' (uppercase letter oh)\n",
    "\t\t\t§ 'I' (uppercase letter eye)\n",
    "\t\t\t\n",
    "\t\tØ Do not use specific Pkeywords (name of a function or phrase) as a name, like sum, max, min, in, or, for, etc.\n",
    "\t\t\n",
    "\t\tØ Use a sensible name. The variable name needs to be meaningful and explain to the reader what types of values will be stored in it.\n",
    "\t\t\t\n",
    "\t\t\t§ figures = 'this is better',\n",
    "\t\t\t§ f = 'it is not meaningful'\n",
    "\t\t\t\n",
    "\t\tØ No \"too common names\". Use a name to describe the meaning of the variable. However, try to limit it to no more than 3 words.\n",
    "\t\t\n",
    "\t\tØ If the word you intend to choose is long, try to find the most common and expected short form to make it easy to predict later.\n",
    "\t\t\n",
    "\t\tØ Spaces are not allowed in variable names (ex: x y z = 111 222 333, wrong)\n"
   ]
  },
  {
   "cell_type": "raw",
   "metadata": {},
   "source": [
    "• Comments and Docstrings\n",
    "\n",
    "\t○ Good code: Well-readable syntax + comments that contribute to understandability.\n",
    "\t○ Adding explanatory notes ~~longer codes requires this.\n",
    "\t\tØ Way of documenting code. Instead of deleting the code you just put a # to keep it for further use.\n",
    "\t\tØ You understand why this code is written\n",
    "\t\tØ Also for debugging: comment/uncomment and test. Ctrl KC, Ctrl KU to uncomment\n",
    "\t\tØ Help other developers understand who see your code for the first time.\n",
    "\t\n",
    "\t○ Comments\n",
    "\t\n",
    "\t\tØ Used to explain code when the basic code itself isn't clear. \n",
    "\t\tØ # sign converts all subsequent characters to the comment form that Pdoes nothing. \n",
    "\t\tØ 3 types of commenting methods: \n",
    "\t\t\t• Single-line comments begin with the hash character 👉🏻# (hashtag) and are terminated by the end of the line. After # there should be one space.\n",
    "\t\t\t\n",
    "\t\t\t# This is a single line comment\n",
    "\t\t\t\n",
    "\t\t\t• Inline comments also begin with # and start from the end of a code line. There should be at least two spaces between the end of the code and # character.\n",
    "\t\t\t\n",
    "\t\t\tprint('the cosmos has no superiority to chaos')  # This is an inline comment\n",
    "\t\t\t\n",
    "\t\t\t• Multi-line comments basically consist of multiple comment lines. It's better to split a long comment into multiple lines. You have to add 👉🏻 # at the beginning of each new line.\n",
    "\t\t\t\n",
    "\t\t\tprint(3 + 4) --->7\n",
    "\t\t\t\t# This is the multi-line comment, line-1\n",
    "\t\t\t\t# This is the multi-line comment, line-2\n",
    "\t\t\t\t# This is the multi-line comment, line-3\n",
    "\t\n",
    "\t⚠️Avoid ! : If code is self-explanatory, comments are unnecessary. Mesela Ocak = 31 # Ocak isimli değişkene 31 sayısı tahsis edildi. \n",
    "\t\t\n",
    "\t\t• Usually, comments should answer the question why as opposed to what.\n",
    "\t\t\n",
    "\t\t• When necessary, update comments. Be sure that comments not contradicting to the code.\n"
   ]
  },
  {
   "cell_type": "markdown",
   "metadata": {},
   "source": [
    "## Examples:"
   ]
  },
  {
   "cell_type": "code",
   "execution_count": 3,
   "metadata": {},
   "outputs": [
    {
     "name": "stdout",
     "output_type": "stream",
     "text": [
      "blue, 250, winter\n"
     ]
    }
   ],
   "source": [
    "color = 'red'  # str type variable\n",
    "price = 250  # int type variable\n",
    "pi = 3.14  # float type variable\n",
    "color = 'blue'  # You can always assign a new value to a created variable\n",
    "season = \"winter\"\n",
    "print(color, price, season, sep=', ')"
   ]
  },
  {
   "cell_type": "raw",
   "metadata": {},
   "source": [
    "💡Tips: the last value assigned to a variable is valid."
   ]
  },
  {
   "cell_type": "markdown",
   "metadata": {},
   "source": [
    "### Possible to assign the value of one variable to another:"
   ]
  },
  {
   "cell_type": "code",
   "execution_count": 2,
   "metadata": {},
   "outputs": [
    {
     "name": "stdout",
     "output_type": "stream",
     "text": [
      "5, 5, 5\n"
     ]
    }
   ],
   "source": [
    "a = 5\n",
    "b = 55\n",
    "c = 555\n",
    "c = a\n",
    "b = c\n",
    "a = b\n",
    "print(a, b, c, sep=', ') "
   ]
  },
  {
   "cell_type": "raw",
   "metadata": {},
   "source": [
    "⚠️Avoid ! :If you use undefined name of a variable in the code you write, you will get an 'NameError' message."
   ]
  },
  {
   "cell_type": "markdown",
   "metadata": {},
   "source": [
    "## Scope of the Variables"
   ]
  },
  {
   "cell_type": "markdown",
   "metadata": {},
   "source": [
    "### What is name in Python?"
   ]
  },
  {
   "cell_type": "raw",
   "metadata": {},
   "source": [
    "A Python name is an identifier- something we use to access a Python object and in Python, everything’s an object."
   ]
  },
  {
   "cell_type": "code",
   "execution_count": 1,
   "metadata": {},
   "outputs": [],
   "source": [
    "rank=1"
   ]
  },
  {
   "cell_type": "raw",
   "metadata": {},
   "source": [
    "Here, ‘rank’ is the name associated with the Python object 1. To get this object’s address in RAM, we use the id() function."
   ]
  },
  {
   "cell_type": "markdown",
   "metadata": {},
   "source": [
    "#### id() function"
   ]
  },
  {
   "cell_type": "raw",
   "metadata": {},
   "source": [
    "Docstring: Return the identity of an object. \n",
    "This is guaranteed to be unique among simultaneously existing objects.\n",
    "(CPython uses the object's memory address.)"
   ]
  },
  {
   "cell_type": "code",
   "execution_count": 5,
   "metadata": {},
   "outputs": [
    {
     "data": {
      "text/plain": [
       "140719233606032"
      ]
     },
     "execution_count": 5,
     "metadata": {},
     "output_type": "execute_result"
    }
   ],
   "source": [
    "id(rank)"
   ]
  },
  {
   "cell_type": "code",
   "execution_count": 6,
   "metadata": {},
   "outputs": [
    {
     "data": {
      "text/plain": [
       "140719233606032"
      ]
     },
     "execution_count": 6,
     "metadata": {},
     "output_type": "execute_result"
    }
   ],
   "source": [
    "id(1)"
   ]
  },
  {
   "cell_type": "markdown",
   "metadata": {},
   "source": [
    "### Dynamic Name Binding"
   ]
  },
  {
   "cell_type": "raw",
   "metadata": {},
   "source": [
    "Python doesn't create seperate container to store same object. Same objects goes to the same container. "
   ]
  },
  {
   "cell_type": "raw",
   "metadata": {},
   "source": [
    "To take a slightly more complex example, we store 2 in a name ‘a’. Then, we increment it by 1 and associate the name ‘b’ to the object 2. We keep checking the id as we go."
   ]
  },
  {
   "cell_type": "code",
   "execution_count": 8,
   "metadata": {},
   "outputs": [],
   "source": [
    "a = 2"
   ]
  },
  {
   "cell_type": "code",
   "execution_count": 9,
   "metadata": {},
   "outputs": [
    {
     "data": {
      "text/plain": [
       "140719233606064"
      ]
     },
     "execution_count": 9,
     "metadata": {},
     "output_type": "execute_result"
    }
   ],
   "source": [
    "id(a)"
   ]
  },
  {
   "cell_type": "code",
   "execution_count": 10,
   "metadata": {},
   "outputs": [
    {
     "data": {
      "text/plain": [
       "140719233606096"
      ]
     },
     "execution_count": 10,
     "metadata": {},
     "output_type": "execute_result"
    }
   ],
   "source": [
    "a +=1 # when we set ‘a’ to, \n",
    "id(a)"
   ]
  },
  {
   "cell_type": "code",
   "execution_count": 11,
   "metadata": {},
   "outputs": [
    {
     "data": {
      "text/plain": [
       "140719233606064"
      ]
     },
     "execution_count": 11,
     "metadata": {},
     "output_type": "execute_result"
    }
   ],
   "source": [
    "b = 2 # When we set ‘b’ to 2, \n",
    "id(b) # ‘b’ starts pointing to the object ‘a’ once pointed to.\n",
    "        # It is efficient. It does not have to create another object to hold 2 for b. "
   ]
  },
  {
   "cell_type": "code",
   "execution_count": 12,
   "metadata": {},
   "outputs": [
    {
     "data": {
      "text/plain": [
       "140719233606064"
      ]
     },
     "execution_count": 12,
     "metadata": {},
     "output_type": "execute_result"
    }
   ],
   "source": [
    "id(2)"
   ]
  },
  {
   "cell_type": "code",
   "execution_count": 13,
   "metadata": {},
   "outputs": [
    {
     "data": {
      "text/plain": [
       "140719233606096"
      ]
     },
     "execution_count": 13,
     "metadata": {},
     "output_type": "execute_result"
    }
   ],
   "source": [
    "id(3)"
   ]
  },
  {
   "cell_type": "markdown",
   "metadata": {},
   "source": [
    "#### Name can hold any kind of value."
   ]
  },
  {
   "cell_type": "code",
   "execution_count": 15,
   "metadata": {},
   "outputs": [],
   "source": [
    "a = 1"
   ]
  },
  {
   "cell_type": "code",
   "execution_count": 16,
   "metadata": {},
   "outputs": [
    {
     "data": {
      "text/plain": [
       "140719233606032"
      ]
     },
     "execution_count": 16,
     "metadata": {},
     "output_type": "execute_result"
    }
   ],
   "source": [
    "id(a)"
   ]
  },
  {
   "cell_type": "code",
   "execution_count": 17,
   "metadata": {},
   "outputs": [],
   "source": [
    "a = \"one\""
   ]
  },
  {
   "cell_type": "code",
   "execution_count": 18,
   "metadata": {},
   "outputs": [
    {
     "data": {
      "text/plain": [
       "1886226399600"
      ]
     },
     "execution_count": 18,
     "metadata": {},
     "output_type": "execute_result"
    }
   ],
   "source": [
    "id(a)"
   ]
  },
  {
   "cell_type": "markdown",
   "metadata": {},
   "source": [
    "#### Associating the the name with build in functions"
   ]
  },
  {
   "cell_type": "raw",
   "metadata": {},
   "source": [
    "Since everything is an object, so are Python functions. Consequently, you can associate them with names."
   ]
  },
  {
   "cell_type": "code",
   "execution_count": 19,
   "metadata": {},
   "outputs": [],
   "source": [
    "identity=id"
   ]
  },
  {
   "cell_type": "code",
   "execution_count": 20,
   "metadata": {},
   "outputs": [
    {
     "data": {
      "text/plain": [
       "140719233606064"
      ]
     },
     "execution_count": 20,
     "metadata": {},
     "output_type": "execute_result"
    }
   ],
   "source": [
    "identity(2)"
   ]
  },
  {
   "cell_type": "code",
   "execution_count": 21,
   "metadata": {},
   "outputs": [],
   "source": [
    "def sayhello(): \n",
    "    print('Hello')"
   ]
  },
  {
   "cell_type": "code",
   "execution_count": 23,
   "metadata": {},
   "outputs": [
    {
     "name": "stdout",
     "output_type": "stream",
     "text": [
      "Hello\n"
     ]
    }
   ],
   "source": [
    "hi=sayhello()"
   ]
  },
  {
   "cell_type": "code",
   "execution_count": 24,
   "metadata": {},
   "outputs": [
    {
     "data": {
      "text/plain": [
       "NoneType"
      ]
     },
     "execution_count": 24,
     "metadata": {},
     "output_type": "execute_result"
    }
   ],
   "source": [
    "type(hi)"
   ]
  },
  {
   "cell_type": "raw",
   "metadata": {},
   "source": [
    "Since the function does not return anything, we get an object of class ‘NoneType’.\n",
    "Of course, None is an object that indicates no value. Did function sayhello() return a value, things would be different."
   ]
  },
  {
   "cell_type": "raw",
   "metadata": {},
   "source": [
    "Another example"
   ]
  },
  {
   "cell_type": "code",
   "execution_count": 28,
   "metadata": {},
   "outputs": [],
   "source": [
    "def func1():\n",
    "    print(\"Hi\")\n",
    "    return 1"
   ]
  },
  {
   "cell_type": "code",
   "execution_count": 29,
   "metadata": {},
   "outputs": [
    {
     "name": "stdout",
     "output_type": "stream",
     "text": [
      "Hi\n"
     ]
    }
   ],
   "source": [
    "func2=func1()"
   ]
  },
  {
   "cell_type": "code",
   "execution_count": 30,
   "metadata": {},
   "outputs": [
    {
     "data": {
      "text/plain": [
       "1"
      ]
     },
     "execution_count": 30,
     "metadata": {},
     "output_type": "execute_result"
    }
   ],
   "source": [
    "func2"
   ]
  },
  {
   "cell_type": "code",
   "execution_count": 31,
   "metadata": {},
   "outputs": [
    {
     "data": {
      "text/plain": [
       "int"
      ]
     },
     "execution_count": 31,
     "metadata": {},
     "output_type": "execute_result"
    }
   ],
   "source": [
    "type(func2)"
   ]
  },
  {
   "cell_type": "code",
   "execution_count": null,
   "metadata": {},
   "outputs": [],
   "source": []
  },
  {
   "cell_type": "code",
   "execution_count": null,
   "metadata": {},
   "outputs": [],
   "source": []
  },
  {
   "cell_type": "markdown",
   "metadata": {},
   "source": [
    "### Namespace"
   ]
  },
  {
   "cell_type": "raw",
   "metadata": {},
   "source": [
    "• A namespace in python is a collection of names. So, a namespace is mapping of names to corresponding objects.\n",
    "• At any instant, different python namespaces can coexist completely isolated- the isolation ensures that there are no name collisions."
   ]
  },
  {
   "cell_type": "raw",
   "metadata": {},
   "source": [
    "• Simply speaking, two namespaces in python can have the same name without facing any problem. A namespace is implemented as a Python dictionary.\n",
    "\n",
    "• When we start the interpreter, a python namespace is created for as long as we don’t exist. This holds all built-in names.\n",
    "\n",
    "• It is due to this that python functions like print() and id() are always available. Also, each module creates its own global namespace in python.\n",
    "\n",
    "• When you call a function, a local python namespace is created for all the names in it.\n",
    "\n",
    "• A module has a global namespace. The built-in namespace encloses this.\n",
    "\n",
    "• Take a look at the following figure to get a clearer understanding."
   ]
  },
  {
   "cell_type": "code",
   "execution_count": null,
   "metadata": {},
   "outputs": [],
   "source": [
    "Build-in namespace > Module:Global namespace > Function: Local Namespace"
   ]
  },
  {
   "cell_type": "raw",
   "metadata": {},
   "source": [
    "• Ex: You have two files named 'my_python' on your computer both on drive-C and drive-D. You can easily access which file you want, by the file-path system. It can be easily understood which file is on which drive by looking at their file path.\n",
    "• In the program stream, the Python interpreter understands what specific method or variable one is trying to access in the code, depending on the namespaces."
   ]
  },
  {
   "cell_type": "raw",
   "metadata": {},
   "source": [
    "Through various python namespaces, not each can be accessed from every part of the program.\n",
    "\n",
    "A namespace is in variable scope in a part of a program, if it lets you access the python namespace without having to use a prefix.\n",
    "\n",
    "At any instant, we have at least three nested python scopes:\n",
    "\n",
    "Current function’s variable scope- has local names\n",
    "Module’s variable scope- has global names\n",
    "The outermost variable scope- has built-in names\n",
    "This in accordance with the three kinds of namespaces in python, we just discussed. This also decides the order of searching for when a reference is made.\n",
    "\n",
    "The order is- the local Python namespace, the global namespace, the built-in namespace. Also, a nested function creates a nested variable scope inside the outer function’s scope.\n",
    "\n",
    "Few Python Namespace Example\n",
    "To further what we said, let’s take an example."
   ]
  },
  {
   "cell_type": "code",
   "execution_count": 32,
   "metadata": {},
   "outputs": [],
   "source": [
    "a=1\n",
    "def func1():\n",
    "    b=2\n",
    "    def func2():\n",
    "        c=3"
   ]
  },
  {
   "cell_type": "raw",
   "metadata": {},
   "source": [
    "In this code, ‘a’ is in the global namespace in python. ‘b’ is in the local namespace of func1, and ‘c’ is in the nested local python namespace of func2.\n",
    "\n",
    "To func2, ‘c’ is local, ‘b’ is nonlocal, and ‘a’ is global. By nonlocal, we mean it isn’t global, but isn’t local either.\n",
    "\n",
    "Of course, here, you can write ‘c’, and read both ‘b’ and ‘c’. But you can’t access ‘a’, that would create a new local variable ‘a’."
   ]
  },
  {
   "cell_type": "code",
   "execution_count": 35,
   "metadata": {},
   "outputs": [
    {
     "name": "stdout",
     "output_type": "stream",
     "text": [
      "a=2, b=3, c=3\n",
      "b=2\n"
     ]
    }
   ],
   "source": [
    "a=1\n",
    "def func1():\n",
    "    b=2\n",
    "    def func3():\n",
    "        a=2\n",
    "        b=3\n",
    "        c=3\n",
    "        print(f\"a={a}, b={b}, c={c}\")\n",
    "    func3()\n",
    "    print(f\"b={b}\")              \n",
    "func1()"
   ]
  },
  {
   "cell_type": "code",
   "execution_count": 36,
   "metadata": {},
   "outputs": [
    {
     "data": {
      "text/plain": [
       "1"
      ]
     },
     "execution_count": 36,
     "metadata": {},
     "output_type": "execute_result"
    }
   ],
   "source": [
    "a"
   ]
  },
  {
   "cell_type": "raw",
   "metadata": {},
   "source": [
    "To deal with this situation, we can use the ‘global’ and ‘nonlocal’ keywords."
   ]
  },
  {
   "cell_type": "code",
   "execution_count": 37,
   "metadata": {},
   "outputs": [
    {
     "name": "stdout",
     "output_type": "stream",
     "text": [
      "a=2, b=3, c=3\n",
      "b=3\n"
     ]
    }
   ],
   "source": [
    "a=1\n",
    "def func1():\n",
    "    b=2\n",
    "    def func3():\n",
    "        global a\n",
    "        a=2\n",
    "        nonlocal b\n",
    "        b=3\n",
    "        c=3\n",
    "        print(f\"a={a}, b={b}, c={c}\")\n",
    "    func3()\n",
    "    print(f\"b={b}\")              \n",
    "func1()"
   ]
  },
  {
   "cell_type": "code",
   "execution_count": 38,
   "metadata": {},
   "outputs": [
    {
     "data": {
      "text/plain": [
       "2"
      ]
     },
     "execution_count": 38,
     "metadata": {},
     "output_type": "execute_result"
    }
   ],
   "source": [
    "a"
   ]
  },
  {
   "cell_type": "raw",
   "metadata": {},
   "source": [
    "Conclusion\n",
    "There are three types of Python namespaces- global, local, and built-in. It’s the same with a variable scope in python.\n",
    "\n",
    "Also, the ‘global’ keyword lets us refer to a name in a global scope. Likewise, the ‘nonlocal’ keyword lets us refer to a name in a nonlocal scope.\n",
    "\n"
   ]
  },
  {
   "cell_type": "raw",
   "metadata": {},
   "source": [
    "• Namespaces are created at different moments and have different lifetimes. The namespace containing the built-in names is created when the Python interpreter starts up and is never deleted.\n",
    "• In the following figure, you can see some variables which have the same names are in the different modules (namespaces) at the same time. You can work with the variable that you want using this syntax : module.variable. Considering this figure, we can call var1 in Module2 like : module2.var1\n",
    "\t○ Modül: uzun kod blokları, python dosyası, \n",
    "    ○ İçerisinde değişkenler var, aynı isimde ama farklı modüllerde yani namespacelerde.\n",
    "    ○ Örnek: var1 değişkeni module1'in içinde. Bunu nasıl çağırırım: module1.var1\n",
    "    ○ Yani burada module namespace oluyor abi. "
   ]
  },
  {
   "cell_type": "markdown",
   "metadata": {},
   "source": [
    "### Scope"
   ]
  },
  {
   "cell_type": "raw",
   "metadata": {},
   "source": [
    "• is a concept describes in which space the variables are defined. \n",
    "• is a textual region of a Pprogram where a namespace is directly accessible (an unqualified reference to a name attempts to find the name in the namespace).\n",
    "• The term scope is mostly related to nested functions, modules, and the main program flow in accordance with the use of variables. It describes the accessibility and the existence of a variable.\n",
    "• A scope defines the hierarchical order in which the names of the variables have to exist in order to match names with the objects (variables).\n",
    "• Scope, hiyerarşik düzenin bir ifadesidir. İç içe fonksiyonları düşün abi. Örnek şöyle:\n",
    "Def ...\n",
    "\tDef ....\n",
    "        Def ....\n",
    "\t\t\t• İşte bu iç içe fonksiyonların içindeki değişkenleri tanımlarkene scope diye bir konsept var. Değişkenin hangi fonksiyonda olduğunu tanımamızı sağlıyor abi. \n",
    "\t\t\t• Şiir txt. Dosyası var D'nin içinde benim lasöründe. Bunu açmak için benim klasörüne tıklarız sonra şiir txt'yi açarız. "
   ]
  },
  {
   "cell_type": "raw",
   "metadata": {},
   "source": [
    "Example"
   ]
  },
  {
   "cell_type": "code",
   "execution_count": 4,
   "metadata": {},
   "outputs": [
    {
     "name": "stdout",
     "output_type": "stream",
     "text": [
      "inner variable\n",
      "outer variable\n"
     ]
    }
   ],
   "source": [
    "my_var = 'outer variable'\n",
    "def func_var(): \n",
    "    my_var= 'inner variable'\n",
    "    print(my_var) \n",
    "func_var() \n",
    "print(my_var)"
   ]
  },
  {
   "cell_type": "raw",
   "metadata": {},
   "source": [
    "• Name of variable (my_var) used 2times: in function body (func_var) and at top. \n",
    "• When you call the function (func_var) or print directly the variable (my_var), same variable produces different outputs. This is because of the location (space) of that variable, that is, where or in which space it is defined in the program."
   ]
  },
  {
   "cell_type": "code",
   "execution_count": null,
   "metadata": {},
   "outputs": [],
   "source": [
    "\n",
    "\n",
    "○ Global and Local Variables: When you define a variable in the Python program stream it is global or local, depending on in which space it is defined. \n",
    "\t\t\n",
    "\t\tØ Global Variable:\n",
    "\t\t\n",
    "\t\t\t• If the variable is at the highest level of a module, that becomes global. \n",
    "\t\t\t• So you have the freedom to use this in a block of code anywhere.\n",
    "\t\t\t• Gvs allow us to make some interactions between functions.\n",
    "\t\t\t• For example, suppose we store the credentials of a student who has applied for Clarusway in a gv. Let's assume that we use this gv many times in 3 different functions that we have defined regarding course activities. Gv provides us with convenience when the credentials of the person change. Only when we rearrange the information in this gv will our variables in all functions be rearranged.\n",
    "\t\t\n",
    "\t\tØ Local Variable:\n",
    "\t\t\n",
    "\t\t\t• The variables you have defined in a function body are local. The name of this variable is therefore only valid in the function body to which it is located. Local variables eliminate some of the confusion risks that global variables can cause.\n",
    "\t\t\n",
    "\t\tØ Example:\n",
    "\t\t\n",
    "\t\ttext = \"I am the global one\"\n",
    "\t\t\n",
    "\t\tdef global_func():\n",
    "\t\t\tprint(text)       # we can use 'text' in a function, # because it's a global variable\n",
    "\t\t\n",
    "\t\tglobal_func()  # 'I am the global one' will be printed\n",
    "\t\t\n",
    "\t\tprint(text)  # it can also be printed outside of the function\n",
    "\t\t\n",
    "\t\ttext = \"The globals are valid everywhere \" # we changed the value of 'text', \n",
    "\t\t\n",
    "\t\tglobal_func() # 'The globals are valid everywhere' will be printed\n",
    "\t\t\n",
    "\t\tdef local_func():\n",
    "\t\t\tlocal_text = \"I am the local one\"\n",
    "\t\t\tprint(local_text)  # local_text is a local variable\n",
    "\t\t\n",
    "\t\tlocal_func()  # 'I am the local one' will be printed as expected\n",
    "\t\t\n",
    "\t\tprint(local_text)  # NameError will be raised, # because we can't use local variable outside of its function\n",
    "\t\t\n",
    "\t\toutput :\n",
    "\t\t\n",
    "\t\tI am the global one\n",
    "\t\tI am the global one\n",
    "\t\tThe globals are valid everywhere \n",
    "\t\tI am the local one\n",
    "\t\t----------------------------------------------------\n",
    "\t\t    -----------------------\n",
    "\t\tNameError: name 'local_text' is not defined\n",
    "\t\t\n",
    "\t\t\t• GV can be accessed 1. from the top-level of module 2. from the body of funct.\n",
    "\t\t\t\n",
    "\t\t\t• LV is valid only in the function's body it is defined. \n",
    "\t\t\n",
    "\t\t💡Tips: Where to use this: If you are writing a relatively long algorithm, you will eventually need to work with the nested functions and modules.\n",
    "\t\t\n",
    "\t\tQ: What are lv and gv?\n",
    "\t\tA: Variables declared outside a function or in global space are called global variables. These variables can be accessed by any function in the program. Any variable declared inside a function is known as a local variable. This variable is present in the local space and not in the global space. When you try to access the local variable outside the function, it will give an error. - Interview Q&A\n",
    "\t\t\n",
    "\t○ LEGB Ranking Rule: \n",
    "\t\t\n",
    "\t\tØ When you call an object (method or variable), the interpreter looks for its name in the following order. The order given down is known as LEGB Ranking Rule.\n",
    "\t\t\t1. Locals. Innermost scope (searched first), contains the local names defined in a function body.\n",
    "\t\t\t2. Enclosing.(bir dış) The scopes of any enclosing functions, which are searched starting with the nearest enclosing scope (from inner to outer), contains non-local, but also non-global names.\n",
    "\t\t\t3. Globals. It contains the current module’s global names. The variables defined at the top-level of its module.\n",
    "\t\t\t4. Built-in. Outermost scope (searched last) is the namespace containing built-in names.\n",
    "\t\tØ max = \"bu benim\" # max normalde bif. ama değişkene atandığında ele geçiririz. bizim verdiğimiz işi yapar\n",
    "\t\tØ  Example :\n",
    "\t\t\n",
    "\t\tvariable = \"global\"\n",
    "\t\t\n",
    "\t\tdef func_outer():\n",
    "\t\t\tvariable = \"enclosing outer local\"\n",
    "\t\t\tdef func_inner():\n",
    "\t\t\t\tvariable = \"enclosing inner local\"\n",
    "\t\t\t\tdef func_local():\n",
    "\t\t\t\t\tvariable = \"local\"\n",
    "\t\t\t\t\tprint(variable)\n",
    "\t\t\t\tfunc_local()\n",
    "\t\t\tfunc_inner()\n",
    "\t\tfunc_outer()  # prints 'local' defined in the innermost function\n",
    "\t\t\n",
    "\t\tprint(variable)  # 'global' level variable holds its value\n",
    "\t\t\n",
    "\t\toutput :\n",
    "\t\t\n",
    "\t\tlocal\n",
    "\t\tglobal\n",
    "\t\t\n",
    "\t\t\t• During the execution of code, interpreter has to resolve the name 'variable'.  \n",
    "\t\t\t• The searching order will be as follows: \n",
    "\t\t\t\t○ 'local' in func_local, \n",
    "\t\t\t\t○ 'enclosing inner local' in func_inner,\n",
    "\t\t\t\t○ 'enclosing outer local' in func_outer, \n",
    "\t\t\t\t○ globals and, \n",
    "\t\t\t\t○ built-in names. You can examine LEGB Rule in the following figure. \n"
   ]
  },
  {
   "cell_type": "code",
   "execution_count": null,
   "metadata": {},
   "outputs": [],
   "source": []
  },
  {
   "cell_type": "code",
   "execution_count": null,
   "metadata": {},
   "outputs": [],
   "source": []
  },
  {
   "cell_type": "code",
   "execution_count": null,
   "metadata": {},
   "outputs": [],
   "source": [
    "\t○ 'global' and 'nonlocal'\n",
    "\t\n",
    "\t\tØ Variable defined in funcbody becomes local. In some cases, we want to work with the variables defined as a global scope in the funcbody. Normally they are perceived globally and processed accordingly.\n",
    "\t\t\n",
    "\t\tØ Or we may need to work with the nonlocal variables in the funcbody. The keywords global and nonlocal save us from these restrictions.\n",
    "\t\t\n",
    "\t\tØ Keyword 'global'\n",
    "\t\t\n",
    "\t\t\t• You can not change the value assigned to a globally defined variable within a function. To do this we use the keyword global. If you examine the example below you will understand better.\n",
    "\t\t\t\n",
    "\t\t\tcount = 1\n",
    "\t\t\tdef print_global():\n",
    "\t\t\t\tprint(count)\n",
    "\t\t\t\n",
    "\t\t\tprint_global()\n",
    "\t\t\t\n",
    "\t\t\tdef counter():\n",
    "\t\t\t\tprint(count)\n",
    "\t\t\t\tcount += 1  # we're trying to change its value\n",
    "\t\t\t\n",
    "\t\t\tprint()  # just empty line\n",
    "\t\t\tcounter() \n",
    "\t\t\t\n",
    "\t\t\toutput :\n",
    "\t\t\t\n",
    "\t\t\t1\n",
    "\t\t\tTraceback (most recent call last):\n",
    "\t\t\t\tFile \"code.py\", line 11, in <module>\n",
    "\t\t\t\t\tcounter() \n",
    "\t\t\t\tFile \"code.py\", line 8, in counter\n",
    "\t\t\t\t\tprint(count)\n",
    "\t\t\t\n",
    "\t\t\tUnboundLocalError: local variable 'count' referenced before assignment\n",
    "\t\t\n",
    "\t\t\t• If you try to assign a value contains local variable expressions to a global variable, UnboundLocalError will raise. \n",
    "\t\t\t\n",
    "\t\t\t• We've tried to assign a value to the count variable using an expression contains the count variable. This is because the interpreter can't find this variable in the local scope. So, let's use the keyword global to solve this problem.\n",
    "\t\t\n",
    "\t\t\tcount = 1\n",
    "\t\t\t\n",
    "\t\t\tdef counter():\n",
    "\t\t\t\tglobal count  # we've changed its scope\n",
    "\t\t\t\tprint(count)  # it's global anymore\n",
    "\t\t\t\tcount += 1\n",
    "\t\t\t\n",
    "\t\t\tcounter() \n",
    "\t\t\tcounter()\n",
    "\t\t\tcounter()\n",
    "\t\t\t\n",
    "\t\t\t1\n",
    "\t\t\t2\n",
    "\t\t\t3\n",
    "\t\t\n",
    "\t\t\t• The reason for the error in the previous program is that the variable (count) we tried to modify could not be found by the interpreter in the local scope. It's because we used global variable in the local scope.\n",
    "\t\t\n",
    "\t\tØ Keyword 'nonlocal'\n",
    "\t\t\n",
    "\t\t\t• Lokal olan bir değişkenin bir üst scope'ta çalışmasını sağlıyor. \n",
    "\t\t\t\n",
    "\t\t\t• On the other hand, you can use the keyword nonlocal to extend the scope of the local variable to an upper scope. Consider the examples of nonlocalization :\n",
    "\t\t\n",
    "\t\t\tdef func_enclosing1():\n",
    "\t\t\t\tx = 'outer variable'\n",
    "\t\t\t\tdef func_enclosing2():\n",
    "\t\t\t\t\tx = 'inner variable'\n",
    "\t\t\t\t\tprint(\"inner:\", x)\n",
    "\t\t\t\tfunc_enclosing2()\n",
    "\t\t\t\tprint(\"outer:\", x)\n",
    "\t\t\t\n",
    "\t\t\tfunc_enclosing1() \n",
    "\t\t\t\n",
    "\t\t\tinner: inner variable\n",
    "\t\t\touter: outer variable\n",
    "\t\t\n",
    "\t\t\t• We will make the variable x nonlocal so we can use its inner-value in the outer function (scope). Let's see.\n",
    "\t\t\n",
    "\t\t\tdef enclosing_func1():\n",
    "\t\t\t\tx = 'outer variable'\n",
    "\t\t\t\tdef enclosing_func2():\n",
    "\t\t\t\t\tnonlocal x  # its inner-value can be used in the outer scope\n",
    "\t\t\t\t\tx = 'inner variable'\n",
    "\t\t\t\t\tprint(\"inner:\", x)\n",
    "\t\t\t\tenclosing_func2()\n",
    "\t\t\t\tprint(\"outer:\", x)\n",
    "\t\t\t\n",
    "\t\t\tenclosing_func1() \n",
    "\t\t\t\n",
    "\t\t\tinner: inner variable\n",
    "\t\t\touter: inner variable\n",
    "\t\t\t\n",
    "\t\t💡Tips: Frankly, these keywords are not widely used in programming but are worth discussing.\n",
    "\t\t\n",
    "\t\t\n"
   ]
  }
 ],
 "metadata": {
  "kernelspec": {
   "display_name": "Python 3",
   "language": "python",
   "name": "python3"
  },
  "language_info": {
   "codemirror_mode": {
    "name": "ipython",
    "version": 3
   },
   "file_extension": ".py",
   "mimetype": "text/x-python",
   "name": "python",
   "nbconvert_exporter": "python",
   "pygments_lexer": "ipython3",
   "version": "3.7.6"
  }
 },
 "nbformat": 4,
 "nbformat_minor": 4
}
