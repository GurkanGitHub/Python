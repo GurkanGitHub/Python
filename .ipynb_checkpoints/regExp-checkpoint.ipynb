{
 "cells": [
  {
   "cell_type": "markdown",
   "metadata": {},
   "source": [
    "# Regular Expressions"
   ]
  },
  {
   "cell_type": "raw",
   "metadata": {},
   "source": [
    "Regex basically allow us to search and match specific patterns of text. \n",
    "You can create a regex for just about any pattern of text you can think of. "
   ]
  },
  {
   "cell_type": "markdown",
   "metadata": {},
   "source": [
    "**Raw String**"
   ]
  },
  {
   "cell_type": "raw",
   "metadata": {},
   "source": [
    "RawString is just a string prefixed with an \"r\"--> that tells python not to handle back slashes in any special way.\n",
    "Normally back slashes () are used to specify tabs or new lines and etc."
   ]
  },
  {
   "cell_type": "code",
   "execution_count": 1,
   "metadata": {},
   "outputs": [
    {
     "name": "stdout",
     "output_type": "stream",
     "text": [
      "\tTab\n"
     ]
    }
   ],
   "source": [
    "print(\"\\tTab\") # Python replaced our \\t with an actual tab. "
   ]
  },
  {
   "cell_type": "raw",
   "metadata": {},
   "source": [
    "But raw string will just interpret the string literally. \n",
    "So if we put an r in front of the string."
   ]
  },
  {
   "cell_type": "code",
   "execution_count": 2,
   "metadata": {},
   "outputs": [
    {
     "name": "stdout",
     "output_type": "stream",
     "text": [
      "\\tTab\n"
     ]
    }
   ],
   "source": [
    "print(r\"\\tTab\")#we see that backslashes are no longer handled in any special way"
   ]
  },
  {
   "cell_type": "raw",
   "metadata": {},
   "source": [
    "that is important for us because we want our regexes to interpret the strings we're passing in \n",
    "**and**\n",
    "not have python doing anything to them first."
   ]
  },
  {
   "cell_type": "code",
   "execution_count": 3,
   "metadata": {},
   "outputs": [],
   "source": [
    "import re "
   ]
  },
  {
   "cell_type": "raw",
   "metadata": {},
   "source": [
    "Docstring:  \n",
    "Support for regular expressions (RE).\n",
    "\n",
    "This module provides regular expression matching operations similar to\n",
    "those found in Perl.  It supports both 8-bit and Unicode strings; both\n",
    "the pattern and the strings being processed can contain null bytes and\n",
    "characters outside the US ASCII range.\n",
    "\n",
    "Regular expressions can contain both special and ordinary characters.\n",
    "Most ordinary characters, like \"A\", \"a\", or \"0\", are the simplest\n",
    "regular expressions; they simply match themselves.  You can\n",
    "concatenate ordinary characters, so last matches the string 'last'.\n",
    "\n",
    "The special characters are:\n",
    "    \".\"      Matches any character except a newline.\n",
    "    \"^\"      Matches the start of the string.\n",
    "    \"$\"      Matches the end of the string or just before the newline at\n",
    "             the end of the string.\n",
    "    \"*\"      Matches 0 or more (greedy) repetitions of the preceding RE.\n",
    "             Greedy means that it will match as many repetitions as possible.\n",
    "    \"+\"      Matches 1 or more (greedy) repetitions of the preceding RE.\n",
    "    \"?\"      Matches 0 or 1 (greedy) of the preceding RE.\n",
    "    *?,+?,?? Non-greedy versions of the previous three special characters.\n",
    "    {m,n}    Matches from m to n repetitions of the preceding RE.\n",
    "    {m,n}?   Non-greedy version of the above.\n",
    "    \"\\\\\"     Either escapes special characters or signals a special sequence.\n",
    "    []       Indicates a set of characters.\n",
    "             A \"^\" as the first character indicates a complementing set.\n",
    "    \"|\"      A|B, creates an RE that will match either A or B.\n",
    "    (...)    Matches the RE inside the parentheses.\n",
    "             The contents can be retrieved or matched later in the string.\n",
    "    (?aiLmsux) Set the A, I, L, M, S, U, or X flag for the RE (see below).\n",
    "    (?:...)  Non-grouping version of regular parentheses.\n",
    "    (?P<name>...) The substring matched by the group is accessible by name.\n",
    "    (?P=name)     Matches the text matched earlier by the group named name.\n",
    "    (?#...)  A comment; ignored.\n",
    "    (?=...)  Matches if ... matches next, but doesn't consume the string.\n",
    "    (?!...)  Matches if ... doesn't match next.\n",
    "    (?<=...) Matches if preceded by ... (must be fixed length).\n",
    "    (?<!...) Matches if not preceded by ... (must be fixed length).\n",
    "    (?(id/name)yes|no) Matches yes pattern if the group with id/name matched,\n",
    "                       the (optional) no pattern otherwise.\n",
    "\n",
    "The special sequences consist of \"\\\\\" and a character from the list\n",
    "below.  If the ordinary character is not on the list, then the\n",
    "resulting RE will match the second character.\n",
    "    \\number  Matches the contents of the group of the same number.\n",
    "    \\A       Matches only at the start of the string.\n",
    "    \\Z       Matches only at the end of the string.\n",
    "    \\b       Matches the empty string, but only at the start or end of a word.\n",
    "    \\B       Matches the empty string, but not at the start or end of a word.\n",
    "    \\d       Matches any decimal digit; equivalent to the set [0-9] in\n",
    "             bytes patterns or string patterns with the ASCII flag.\n",
    "             In string patterns without the ASCII flag, it will match the whole\n",
    "             range of Unicode digits.\n",
    "    \\D       Matches any non-digit character; equivalent to [^\\d].\n",
    "    \\s       Matches any whitespace character; equivalent to [ \\t\\n\\r\\f\\v] in\n",
    "             bytes patterns or string patterns with the ASCII flag.\n",
    "             In string patterns without the ASCII flag, it will match the whole\n",
    "             range of Unicode whitespace characters.\n",
    "    \\S       Matches any non-whitespace character; equivalent to [^\\s].\n",
    "    \\w       Matches any alphanumeric character; equivalent to [a-zA-Z0-9_]\n",
    "             in bytes patterns or string patterns with the ASCII flag.\n",
    "             In string patterns without the ASCII flag, it will match the\n",
    "             range of Unicode alphanumeric characters (letters plus digits\n",
    "             plus underscore).\n",
    "             With LOCALE, it will match the set [0-9_] plus characters defined\n",
    "             as letters for the current locale.\n",
    "    \\W       Matches the complement of \\w.\n",
    "    \\\\       Matches a literal backslash.\n",
    "\n",
    "This module exports the following functions:\n",
    "    match     Match a regular expression pattern to the beginning of a string.\n",
    "    fullmatch Match a regular expression pattern to all of a string.\n",
    "    search    Search a string for the presence of a pattern.\n",
    "    sub       Substitute occurrences of a pattern found in a string.\n",
    "    subn      Same as sub, but also return the number of substitutions made.\n",
    "    split     Split a string by the occurrences of a pattern.\n",
    "    findall   Find all occurrences of a pattern in a string.\n",
    "    finditer  Return an iterator yielding a Match object for each match.\n",
    "    compile   Compile a pattern into a Pattern object.\n",
    "    purge     Clear the regular expression cache.\n",
    "    escape    Backslash all non-alphanumerics in a string.\n",
    "\n",
    "Some of the functions in this module takes flags as optional parameters:\n",
    "    A  ASCII       For string patterns, make \\w, \\W, \\b, \\B, \\d, \\D\n",
    "                   match the corresponding ASCII character categories\n",
    "                   (rather than the whole Unicode categories, which is the\n",
    "                   default).\n",
    "                   For bytes patterns, this flag is the only available\n",
    "                   behaviour and needn't be specified.\n",
    "    I  IGNORECASE  Perform case-insensitive matching.\n",
    "    L  LOCALE      Make \\w, \\W, \\b, \\B, dependent on the current locale.\n",
    "    M  MULTILINE   \"^\" matches the beginning of lines (after a newline)\n",
    "                   as well as the string.\n",
    "                   \"$\" matches the end of lines (before a newline) as well\n",
    "                   as the end of the string.\n",
    "    S  DOTALL      \".\" matches any character at all, including the newline.\n",
    "    X  VERBOSE     Ignore whitespace and comments for nicer looking RE's.\n",
    "    U  UNICODE     For compatibility only. Ignored for string patterns (it\n",
    "                   is the default), and forbidden for bytes patterns.\n",
    "\n",
    "This module also defines an exception 'error'."
   ]
  },
  {
   "cell_type": "code",
   "execution_count": 6,
   "metadata": {},
   "outputs": [],
   "source": [
    "text_to_search = '''\n",
    "abcdefghijklmnopqurtuvwxyz\n",
    "ABCDEFGHIJKLMNOPQRSTUVWXYZ\n",
    "1234567890\n",
    "Ha HaHa\n",
    "MetaCharacters (Need to be escaped):\n",
    ". ^ $ * + ? { } [ ] \\ | ( )\n",
    "coreyms.com\n",
    "321-555-4321\n",
    "123.555.1234\n",
    "123*555*1234\n",
    "800-555-1234\n",
    "900-555-1234\n",
    "Mr. Schafer\n",
    "Mr Smith\n",
    "Ms Davis\n",
    "Mrs. Robinson\n",
    "Mr. T\n",
    "\n",
    "cat \n",
    "mat\n",
    "pat\n",
    "\n",
    "bat\n",
    "\n",
    "\n",
    "\n",
    "'''"
   ]
  },
  {
   "cell_type": "markdown",
   "metadata": {},
   "source": [
    "## compile() Function"
   ]
  },
  {
   "cell_type": "raw",
   "metadata": {},
   "source": [
    "re.compile()"
   ]
  },
  {
   "cell_type": "raw",
   "metadata": {},
   "source": [
    "Docstring: Compile a regular expression pattern, returning a Pattern object."
   ]
  },
  {
   "cell_type": "raw",
   "metadata": {},
   "source": [
    "Allows to seperate out our patterns into a variable.\n",
    "Make it easier to reuse that variable to perform multiple searches. "
   ]
  },
  {
   "cell_type": "code",
   "execution_count": 8,
   "metadata": {},
   "outputs": [],
   "source": [
    "pattern = re.compile(pattern = r'abc')#method içine pattern yzılır. "
   ]
  },
  {
   "cell_type": "code",
   "execution_count": 9,
   "metadata": {},
   "outputs": [],
   "source": [
    "matches = pattern.finditer(text_to_search)#variable oluşturulur. finditer method returns an iterator that contains all of the matches"
   ]
  },
  {
   "cell_type": "code",
   "execution_count": 10,
   "metadata": {},
   "outputs": [
    {
     "name": "stdout",
     "output_type": "stream",
     "text": [
      "<re.Match object; span=(1, 4), match='abc'>\n"
     ]
    }
   ],
   "source": [
    "for match in matches:\n",
    "    print(match)"
   ]
  },
  {
   "cell_type": "code",
   "execution_count": 11,
   "metadata": {},
   "outputs": [
    {
     "name": "stdout",
     "output_type": "stream",
     "text": [
      "abc\n"
     ]
    }
   ],
   "source": [
    "print(text_to_search[1:4])"
   ]
  },
  {
   "cell_type": "code",
   "execution_count": 22,
   "metadata": {},
   "outputs": [],
   "source": [
    "# dot/period (.) is a special char and regex, if you wanna search . ^ $ * + ? { } [ ] \\ | ( ) you have to escape it \n",
    "#re.compile(r'\\.')"
   ]
  },
  {
   "cell_type": "code",
   "execution_count": 4,
   "metadata": {},
   "outputs": [
    {
     "name": "stdout",
     "output_type": "stream",
     "text": [
      "<re.Match object; span=(111, 112), match='.'>\n",
      "<re.Match object; span=(146, 147), match='.'>\n",
      "<re.Match object; span=(167, 168), match='.'>\n",
      "<re.Match object; span=(171, 172), match='.'>\n",
      "<re.Match object; span=(218, 219), match='.'>\n",
      "<re.Match object; span=(249, 250), match='.'>\n",
      "<re.Match object; span=(262, 263), match='.'>\n"
     ]
    }
   ],
   "source": [
    "pattern = re.compile(r'\\.')\n",
    "matches = pattern.finditer(text_to_search)\n",
    "for match in matches:\n",
    "    print(match)"
   ]
  },
  {
   "cell_type": "code",
   "execution_count": 5,
   "metadata": {},
   "outputs": [
    {
     "name": "stdout",
     "output_type": "stream",
     "text": [
      "<re.Match object; span=(139, 150), match='coreyms.com'>\n"
     ]
    }
   ],
   "source": [
    "pattern = re.compile(r'coreyms\\.com')\n",
    "matches = pattern.finditer(text_to_search)\n",
    "for match in matches:\n",
    "    print(match)"
   ]
  },
  {
   "cell_type": "code",
   "execution_count": 6,
   "metadata": {},
   "outputs": [
    {
     "name": "stdout",
     "output_type": "stream",
     "text": [
      "<re.Match object; span=(139, 150), match='coreyms.com'>\n"
     ]
    }
   ],
   "source": [
    "pattern = re.compile(r'coreyms.com')\n",
    "matches = pattern.finditer(text_to_search)\n",
    "for match in matches:\n",
    "    print(match)"
   ]
  },
  {
   "cell_type": "code",
   "execution_count": 7,
   "metadata": {},
   "outputs": [
    {
     "name": "stdout",
     "output_type": "stream",
     "text": [
      "<re.Match object; span=(139, 150), match='coreyms.com'>\n"
     ]
    }
   ],
   "source": [
    "pattern = re.compile('coreyms.com')\n",
    "matches = pattern.finditer(text_to_search)\n",
    "for match in matches:\n",
    "    print(match)"
   ]
  },
  {
   "cell_type": "markdown",
   "metadata": {},
   "source": [
    "### **Snippets**"
   ]
  },
  {
   "cell_type": "code",
   "execution_count": 2,
   "metadata": {},
   "outputs": [
    {
     "data": {
      "text/plain": [
       "\"\\n#search for patterns~where regex has mean since we search literal expressions with python\\n#Meta Chars is used that we were just escaping\\n.       - Any Character Except New Line\\n\\\\d      - Digit (0-9)\\n\\\\D      - Not a Digit (0-9) #capital letters basically negate whatever the lowercase version means\\n\\\\w      - Word Character (a-z, A-Z, 0-9, _)\\n\\\\W      - Not a Word Character\\n\\\\s      - Whitespace (space, tab, newline)\\n\\\\S      - Not Whitespace (space, tab, newline)\\n\\n#Anchors: \\n#they don't actually match any chars but rather invisible positions before or after chars\\n#It is used in conjuction with other patterns for searching\\n\\n\\x08      - Word Boundary: indicared by whitespace or a non alpha numeric char\\n\\\\B      - Not a Word Boundary\\n^       - Beginning of a String #(caret sign), will match a position that is the beginning of the string\\n$       - End of a String, will match a position that is the end of the string\\n\\n[]      - Matches Characters in brackets\\n[^ ]    - Matches Characters NOT in brackets\\n|       - Either Or\\n( )     - Group\\n\\nQuantifiers:\\n*       - 0 or More\\n+       - 1 or More\\n?       - 0 or One\\n{3}     - Exact Number\\n{3,4}   - Range of Numbers (Minimum, Maximum)\\n\\n\\n#### Sample Regexs ####\\n\\n[a-zA-Z0-9_.+-]+@[a-zA-Z0-9-]+\\\\.[a-zA-Z0-9-.]+\\n\""
      ]
     },
     "execution_count": 2,
     "metadata": {},
     "output_type": "execute_result"
    }
   ],
   "source": [
    "\"\"\"\n",
    "#search for patterns~where regex has mean since we search literal expressions with python\n",
    "#Meta Chars is used that we were just escaping\n",
    ".       - Any Character Except New Line\n",
    "\\d      - Digit (0-9)\n",
    "\\D      - Not a Digit (0-9) #capital letters basically negate whatever the lowercase version means\n",
    "\\w      - Word Character (a-z, A-Z, 0-9, _)\n",
    "\\W      - Not a Word Character\n",
    "\\s      - Whitespace (space, tab, newline)\n",
    "\\S      - Not Whitespace (space, tab, newline)\n",
    "\n",
    "#Anchors: \n",
    "#they don't actually match any chars but rather invisible positions before or after chars\n",
    "#It is used in conjuction with other patterns for searching\n",
    "\n",
    "\\b      - Word Boundary: indicared by whitespace or a non alpha numeric char\n",
    "\\B      - Not a Word Boundary\n",
    "^       - Beginning of a String #(caret sign), will match a position that is the beginning of the string\n",
    "$       - End of a String, will match a position that is the end of the string\n",
    "\n",
    "[]      - Matches Characters in brackets\n",
    "[^ ]    - Matches Characters NOT in brackets\n",
    "|       - Either Or\n",
    "( )     - Group\n",
    "\n",
    "Quantifiers:\n",
    "*       - 0 or More\n",
    "+       - 1 or More\n",
    "?       - 0 or One\n",
    "{3}     - Exact Number\n",
    "{3,4}   - Range of Numbers (Minimum, Maximum)\n",
    "\n",
    "\n",
    "#### Sample Regexs ####\n",
    "\n",
    "[a-zA-Z0-9_.+-]+@[a-zA-Z0-9-]+\\.[a-zA-Z0-9-.]+\n",
    "\"\"\""
   ]
  },
  {
   "cell_type": "code",
   "execution_count": null,
   "metadata": {},
   "outputs": [],
   "source": []
  },
  {
   "cell_type": "code",
   "execution_count": 12,
   "metadata": {},
   "outputs": [],
   "source": [
    "#pattern = re.compile('\\d')\n",
    "#matches = pattern.finditer(text_to_search)\n",
    "for match in matches:\n",
    "    print(match)"
   ]
  },
  {
   "cell_type": "code",
   "execution_count": 13,
   "metadata": {},
   "outputs": [
    {
     "name": "stdout",
     "output_type": "stream",
     "text": [
      "<re.Match object; span=(66, 68), match='Ha'>\n",
      "<re.Match object; span=(69, 71), match='Ha'>\n"
     ]
    }
   ],
   "source": [
    "pattern = re.compile(r'\\bHa')#it doesn't match 3rd Ha because before it there is no boundary, this is in the middle of the word\n",
    "matches = pattern.finditer(text_to_search)\n",
    "for match in matches:\n",
    "    print(match)"
   ]
  },
  {
   "cell_type": "code",
   "execution_count": 15,
   "metadata": {},
   "outputs": [
    {
     "name": "stdout",
     "output_type": "stream",
     "text": [
      "<re.Match object; span=(71, 73), match='Ha'>\n"
     ]
    }
   ],
   "source": [
    "pattern = re.compile(r'\\BHa')#this time it matches only one Ha that do not have a word boundary\n",
    "matches = pattern.finditer(text_to_search)\n",
    "for match in matches:\n",
    "    print(match)"
   ]
  },
  {
   "cell_type": "markdown",
   "metadata": {},
   "source": [
    "**^ caret sign**"
   ]
  },
  {
   "cell_type": "code",
   "execution_count": 21,
   "metadata": {},
   "outputs": [],
   "source": [
    "sentence = 'Start a sentence and then bring it to an end'"
   ]
  },
  {
   "cell_type": "code",
   "execution_count": 23,
   "metadata": {},
   "outputs": [
    {
     "name": "stdout",
     "output_type": "stream",
     "text": [
      "<re.Match object; span=(0, 5), match='Start'>\n"
     ]
    }
   ],
   "source": [
    "pattern = re.compile(r\"^Start\")\n",
    "matches = pattern.finditer(sentence)\n",
    "for match in matches:\n",
    "    print(match)"
   ]
  },
  {
   "cell_type": "code",
   "execution_count": null,
   "metadata": {},
   "outputs": [],
   "source": [
    "#outside of the charSet the matches the beginning of a string\n",
    "#within a charSet it negates the set and matches everything that is not in that charSet"
   ]
  },
  {
   "cell_type": "code",
   "execution_count": 18,
   "metadata": {},
   "outputs": [
    {
     "name": "stdout",
     "output_type": "stream",
     "text": [
      "<re.Match object; span=(267, 270), match='cat'>\n",
      "<re.Match object; span=(272, 275), match='mat'>\n",
      "<re.Match object; span=(276, 279), match='pat'>\n"
     ]
    }
   ],
   "source": [
    "pattern = re.compile(r\"[^b]at\")#it is going to match everything that is not starting with b\n",
    "matches = pattern.finditer(text_to_search)\n",
    "for match in matches:\n",
    "    print(match)"
   ]
  },
  {
   "cell_type": "markdown",
   "metadata": {},
   "source": [
    "**$ sign**"
   ]
  },
  {
   "cell_type": "code",
   "execution_count": null,
   "metadata": {},
   "outputs": [],
   "source": []
  },
  {
   "cell_type": "code",
   "execution_count": 24,
   "metadata": {},
   "outputs": [
    {
     "name": "stdout",
     "output_type": "stream",
     "text": [
      "<re.Match object; span=(41, 44), match='end'>\n"
     ]
    }
   ],
   "source": [
    "pattern = re.compile(r\"end$\")\n",
    "matches = pattern.finditer(sentence)\n",
    "for match in matches:\n",
    "    print(match)"
   ]
  },
  {
   "cell_type": "markdown",
   "metadata": {},
   "source": [
    "**Matching phone numbers with regexes**"
   ]
  },
  {
   "cell_type": "code",
   "execution_count": null,
   "metadata": {},
   "outputs": [],
   "source": [
    "\"\"\"\n",
    "we cannot type literal search because they're different\n",
    "but they have similar pattern with different digits\n",
    "we need to use meta chars instead of literal chars. \n",
    "pattern:3digits, and a dash or period, 3 more digits, -/. and 4 more digits \n",
    "321-555-4321\n",
    "123.555.1234\n",
    "creating pattern to match this:\n",
    "we can match any digit with \\d: it'll match with a single digit\n",
    "1. Matching 3digits: \\d\\d\\d\n",
    "2. Matching any char .\n",
    "\"\"\" "
   ]
  },
  {
   "cell_type": "code",
   "execution_count": 32,
   "metadata": {},
   "outputs": [
    {
     "name": "stdout",
     "output_type": "stream",
     "text": [
      "<re.Match object; span=(151, 163), match='321-555-4321'>\n",
      "<re.Match object; span=(164, 176), match='123.555.1234'>\n",
      "<re.Match object; span=(177, 189), match='123*555*1234'>\n",
      "<re.Match object; span=(190, 202), match='800-555-1234'>\n",
      "<re.Match object; span=(203, 215), match='900-555-1234'>\n"
     ]
    }
   ],
   "source": [
    "pattern = re.compile(r\"\\d\\d\\d.\\d\\d\\d.\\d\\d\\d\\d\")\n",
    "matches = pattern.finditer(text_to_search)\n",
    "for match in matches:\n",
    "    print(match)"
   ]
  },
  {
   "cell_type": "markdown",
   "metadata": {},
   "source": [
    "**charSets**"
   ]
  },
  {
   "cell_type": "code",
   "execution_count": 41,
   "metadata": {},
   "outputs": [],
   "source": [
    "#to grab only dash and period we use charSet\n",
    "# charSets uses these square brackets with the chars that we wanna match\n",
    "#[-.] within charSets these 2 or more chars only match for 1: either dash (-) or period(.)"
   ]
  },
  {
   "cell_type": "code",
   "execution_count": 38,
   "metadata": {},
   "outputs": [
    {
     "name": "stdout",
     "output_type": "stream",
     "text": [
      "<re.Match object; span=(151, 163), match='321-555-4321'>\n",
      "<re.Match object; span=(164, 176), match='123.555.1234'>\n",
      "<re.Match object; span=(190, 202), match='800-555-1234'>\n",
      "<re.Match object; span=(203, 215), match='900-555-1234'>\n"
     ]
    }
   ],
   "source": [
    "pattern = re.compile(r\"\\d\\d\\d[-.]\\d\\d\\d[-.]\\d\\d\\d\\d\")#we don't have to escape period (.) in the charSet\n",
    "matches = pattern.finditer(text_to_search)\n",
    "for match in matches:\n",
    "    print(match)"
   ]
  },
  {
   "cell_type": "code",
   "execution_count": 42,
   "metadata": {},
   "outputs": [
    {
     "name": "stdout",
     "output_type": "stream",
     "text": [
      "<re.Match object; span=(190, 202), match='800-555-1234'>\n",
      "<re.Match object; span=(203, 215), match='900-555-1234'>\n"
     ]
    }
   ],
   "source": [
    "pattern = re.compile(r\"[89]00[-.]\\d\\d\\d[-.]\\d\\d\\d\\d\")#we don't have to escape period (.) in the charSet\n",
    "matches = pattern.finditer(text_to_search)\n",
    "for match in matches:\n",
    "    print(match)"
   ]
  },
  {
   "cell_type": "markdown",
   "metadata": {},
   "source": [
    "**dash (-) as a range**"
   ]
  },
  {
   "cell_type": "code",
   "execution_count": 44,
   "metadata": {},
   "outputs": [
    {
     "name": "stdout",
     "output_type": "stream",
     "text": [
      "<re.Match object; span=(55, 56), match='1'>\n",
      "<re.Match object; span=(56, 57), match='2'>\n",
      "<re.Match object; span=(57, 58), match='3'>\n",
      "<re.Match object; span=(58, 59), match='4'>\n",
      "<re.Match object; span=(59, 60), match='5'>\n",
      "<re.Match object; span=(151, 152), match='3'>\n",
      "<re.Match object; span=(152, 153), match='2'>\n",
      "<re.Match object; span=(153, 154), match='1'>\n",
      "<re.Match object; span=(155, 156), match='5'>\n",
      "<re.Match object; span=(156, 157), match='5'>\n",
      "<re.Match object; span=(157, 158), match='5'>\n",
      "<re.Match object; span=(159, 160), match='4'>\n",
      "<re.Match object; span=(160, 161), match='3'>\n",
      "<re.Match object; span=(161, 162), match='2'>\n",
      "<re.Match object; span=(162, 163), match='1'>\n",
      "<re.Match object; span=(164, 165), match='1'>\n",
      "<re.Match object; span=(165, 166), match='2'>\n",
      "<re.Match object; span=(166, 167), match='3'>\n",
      "<re.Match object; span=(168, 169), match='5'>\n",
      "<re.Match object; span=(169, 170), match='5'>\n",
      "<re.Match object; span=(170, 171), match='5'>\n",
      "<re.Match object; span=(172, 173), match='1'>\n",
      "<re.Match object; span=(173, 174), match='2'>\n",
      "<re.Match object; span=(174, 175), match='3'>\n",
      "<re.Match object; span=(175, 176), match='4'>\n",
      "<re.Match object; span=(177, 178), match='1'>\n",
      "<re.Match object; span=(178, 179), match='2'>\n",
      "<re.Match object; span=(179, 180), match='3'>\n",
      "<re.Match object; span=(181, 182), match='5'>\n",
      "<re.Match object; span=(182, 183), match='5'>\n",
      "<re.Match object; span=(183, 184), match='5'>\n",
      "<re.Match object; span=(185, 186), match='1'>\n",
      "<re.Match object; span=(186, 187), match='2'>\n",
      "<re.Match object; span=(187, 188), match='3'>\n",
      "<re.Match object; span=(188, 189), match='4'>\n",
      "<re.Match object; span=(194, 195), match='5'>\n",
      "<re.Match object; span=(195, 196), match='5'>\n",
      "<re.Match object; span=(196, 197), match='5'>\n",
      "<re.Match object; span=(198, 199), match='1'>\n",
      "<re.Match object; span=(199, 200), match='2'>\n",
      "<re.Match object; span=(200, 201), match='3'>\n",
      "<re.Match object; span=(201, 202), match='4'>\n",
      "<re.Match object; span=(207, 208), match='5'>\n",
      "<re.Match object; span=(208, 209), match='5'>\n",
      "<re.Match object; span=(209, 210), match='5'>\n",
      "<re.Match object; span=(211, 212), match='1'>\n",
      "<re.Match object; span=(212, 213), match='2'>\n",
      "<re.Match object; span=(213, 214), match='3'>\n",
      "<re.Match object; span=(214, 215), match='4'>\n"
     ]
    }
   ],
   "source": [
    "pattern = re.compile(r\"[1-5]\")\n",
    "matches = pattern.finditer(text_to_search)\n",
    "for match in matches:\n",
    "    print(match)"
   ]
  },
  {
   "cell_type": "code",
   "execution_count": 46,
   "metadata": {},
   "outputs": [],
   "source": [
    "#pattern = re.compile(r\"[a-zA-Z]\")\n",
    "#matches = pattern.finditer(text_to_search)\n",
    "for match in matches:\n",
    "    print(match)"
   ]
  },
  {
   "cell_type": "markdown",
   "metadata": {},
   "source": [
    "**Quantifiers**"
   ]
  },
  {
   "cell_type": "code",
   "execution_count": null,
   "metadata": {},
   "outputs": [],
   "source": [
    "#Is used to match more than one chars at once"
   ]
  },
  {
   "cell_type": "code",
   "execution_count": null,
   "metadata": {},
   "outputs": [],
   "source": [
    "#below example will match any char for the seperator"
   ]
  },
  {
   "cell_type": "code",
   "execution_count": 19,
   "metadata": {},
   "outputs": [
    {
     "name": "stdout",
     "output_type": "stream",
     "text": [
      "<re.Match object; span=(151, 163), match='321-555-4321'>\n",
      "<re.Match object; span=(164, 176), match='123.555.1234'>\n",
      "<re.Match object; span=(177, 189), match='123*555*1234'>\n",
      "<re.Match object; span=(190, 202), match='800-555-1234'>\n",
      "<re.Match object; span=(203, 215), match='900-555-1234'>\n"
     ]
    }
   ],
   "source": [
    "pattern = re.compile(r\"\\d\\d\\d.\\d\\d\\d.\\d\\d\\d\\d\")\n",
    "matches = pattern.finditer(text_to_search)\n",
    "for match in matches:\n",
    "    print(match)"
   ]
  },
  {
   "cell_type": "code",
   "execution_count": null,
   "metadata": {},
   "outputs": [],
   "source": [
    "#boyle uzun bir pattern hatalara sebep olabilir\n",
    "#bunun için quantifier kullanırız hacı. to match multiple chars at a time"
   ]
  },
  {
   "cell_type": "code",
   "execution_count": 20,
   "metadata": {},
   "outputs": [
    {
     "name": "stdout",
     "output_type": "stream",
     "text": [
      "<re.Match object; span=(151, 162), match='321-555-432'>\n",
      "<re.Match object; span=(164, 175), match='123.555.123'>\n",
      "<re.Match object; span=(177, 188), match='123*555*123'>\n",
      "<re.Match object; span=(190, 201), match='800-555-123'>\n",
      "<re.Match object; span=(203, 214), match='900-555-123'>\n"
     ]
    }
   ],
   "source": [
    "pattern = re.compile(r\"\\d{3}.\\d{3}.\\d{3}\")\n",
    "matches = pattern.finditer(text_to_search)\n",
    "for match in matches:\n",
    "    print(match)"
   ]
  },
  {
   "cell_type": "code",
   "execution_count": 23,
   "metadata": {},
   "outputs": [
    {
     "name": "stdout",
     "output_type": "stream",
     "text": [
      "<re.Match object; span=(216, 219), match='Mr.'>\n",
      "<re.Match object; span=(260, 263), match='Mr.'>\n"
     ]
    }
   ],
   "source": [
    "pattern = re.compile(r\"Mr\\.\")\n",
    "matches = pattern.finditer(text_to_search)\n",
    "for match in matches:\n",
    "    print(match)"
   ]
  },
  {
   "cell_type": "code",
   "execution_count": 25,
   "metadata": {},
   "outputs": [],
   "source": [
    "#to grab other Mr without period we need to say that period after the prefix is optional\n",
    "#we need to use ? to match either zero or one of those chars"
   ]
  },
  {
   "cell_type": "code",
   "execution_count": 26,
   "metadata": {},
   "outputs": [
    {
     "name": "stdout",
     "output_type": "stream",
     "text": [
      "<re.Match object; span=(216, 219), match='Mr.'>\n",
      "<re.Match object; span=(228, 230), match='Mr'>\n",
      "<re.Match object; span=(246, 248), match='Mr'>\n",
      "<re.Match object; span=(260, 263), match='Mr.'>\n"
     ]
    }
   ],
   "source": [
    "pattern = re.compile(r\"Mr\\.?\")\n",
    "matches = pattern.finditer(text_to_search)\n",
    "for match in matches:\n",
    "    print(match)"
   ]
  },
  {
   "cell_type": "code",
   "execution_count": null,
   "metadata": {},
   "outputs": [],
   "source": [
    "#after we have space (s) and we come across to uppercase letters, to match that we can use charSet"
   ]
  },
  {
   "cell_type": "code",
   "execution_count": 27,
   "metadata": {},
   "outputs": [
    {
     "name": "stdout",
     "output_type": "stream",
     "text": [
      "<re.Match object; span=(216, 221), match='Mr. S'>\n",
      "<re.Match object; span=(228, 232), match='Mr S'>\n",
      "<re.Match object; span=(260, 265), match='Mr. T'>\n"
     ]
    }
   ],
   "source": [
    "pattern = re.compile(r\"Mr\\.?\\s[A-Z]\")\n",
    "matches = pattern.finditer(text_to_search)\n",
    "for match in matches:\n",
    "    print(match)"
   ]
  },
  {
   "cell_type": "code",
   "execution_count": null,
   "metadata": {},
   "outputs": [],
   "source": []
  },
  {
   "cell_type": "code",
   "execution_count": null,
   "metadata": {},
   "outputs": [],
   "source": [
    "#But we still need to match the rest of other names. \n",
    "#we could match any word char after that uppercase\n",
    "#and we have to decide what quantifier we need to use for word chars. \n",
    "#we could use plus sign (+) quantifier which would match one or more of these word chars"
   ]
  },
  {
   "cell_type": "code",
   "execution_count": 31,
   "metadata": {},
   "outputs": [
    {
     "name": "stdout",
     "output_type": "stream",
     "text": [
      "<re.Match object; span=(216, 227), match='Mr. Schafer'>\n",
      "<re.Match object; span=(228, 236), match='Mr Smith'>\n"
     ]
    }
   ],
   "source": [
    "pattern = re.compile(r\"Mr\\.?\\s[A-Z]\\w+\")\n",
    "matches = pattern.finditer(text_to_search)\n",
    "for match in matches:\n",
    "    print(match)"
   ]
  },
  {
   "cell_type": "code",
   "execution_count": 32,
   "metadata": {},
   "outputs": [],
   "source": [
    "#Mr. T kaldı. Better solution might be to use the asterisk(*) quantifier which allows to match zero or more of these chars following that uppercase"
   ]
  },
  {
   "cell_type": "code",
   "execution_count": 33,
   "metadata": {},
   "outputs": [
    {
     "name": "stdout",
     "output_type": "stream",
     "text": [
      "<re.Match object; span=(216, 227), match='Mr. Schafer'>\n",
      "<re.Match object; span=(228, 236), match='Mr Smith'>\n",
      "<re.Match object; span=(260, 265), match='Mr. T'>\n"
     ]
    }
   ],
   "source": [
    "pattern = re.compile(r\"Mr\\.?\\s[A-Z]\\w*\")\n",
    "matches = pattern.finditer(text_to_search)\n",
    "for match in matches:\n",
    "    print(match)"
   ]
  },
  {
   "cell_type": "code",
   "execution_count": null,
   "metadata": {},
   "outputs": [],
   "source": [
    "#we still miss the Ms and Mrs. \n",
    "#We should use a charSet that matches either an r or an s after m\n",
    "#It is better to use groups"
   ]
  },
  {
   "cell_type": "markdown",
   "metadata": {},
   "source": [
    "**Groups**"
   ]
  },
  {
   "cell_type": "code",
   "execution_count": null,
   "metadata": {},
   "outputs": [],
   "source": [
    "#Allows to match several different patterns\n",
    "#to create a group we use paranthesis "
   ]
  },
  {
   "cell_type": "code",
   "execution_count": 36,
   "metadata": {},
   "outputs": [
    {
     "name": "stdout",
     "output_type": "stream",
     "text": [
      "<re.Match object; span=(216, 227), match='Mr. Schafer'>\n",
      "<re.Match object; span=(228, 236), match='Mr Smith'>\n",
      "<re.Match object; span=(237, 245), match='Ms Davis'>\n",
      "<re.Match object; span=(246, 259), match='Mrs. Robinson'>\n",
      "<re.Match object; span=(260, 265), match='Mr. T'>\n"
     ]
    }
   ],
   "source": [
    "pattern = re.compile(r\"M(r|s|rs)\\.?\\s[A-Z]\\w*\")#Capital R'dan sonra r or s or rs gelirse match et. \n",
    "#pattern = re.compile(r\"(Mr|Ms|Mrs)\\.?\\s[A-Z]\\w*\")\n",
    "matches = pattern.finditer(text_to_search)\n",
    "for match in matches:\n",
    "    print(match)"
   ]
  },
  {
   "cell_type": "markdown",
   "metadata": {},
   "source": [
    "**findall method**"
   ]
  },
  {
   "cell_type": "code",
   "execution_count": null,
   "metadata": {},
   "outputs": [],
   "source": [
    "#finditer method: it returns match objects with extra info \n",
    "#findall method: will just return the matches as a list of strings.\n",
    "#if it matches groups then it'll only return the groups \n",
    "#if there are multiple groups then it would return a list of tuple ~contains all of the groups\n",
    "#if there are no groups then it would just return all the matches in a list of string"
   ]
  },
  {
   "cell_type": "code",
   "execution_count": 42,
   "metadata": {},
   "outputs": [
    {
     "name": "stdout",
     "output_type": "stream",
     "text": [
      "Mr\n",
      "Mr\n",
      "Ms\n",
      "Mrs\n",
      "Mr\n"
     ]
    }
   ],
   "source": [
    "pattern = re.compile(r\"(Mr|Ms|Mrs)\\.?\\s[A-Z]\\w*\")\n",
    "matches = pattern.findall(text_to_search)\n",
    "for match in matches:\n",
    "    print(match)"
   ]
  },
  {
   "cell_type": "code",
   "execution_count": 44,
   "metadata": {},
   "outputs": [
    {
     "name": "stdout",
     "output_type": "stream",
     "text": [
      "321-555-4321\n",
      "123.555.1234\n",
      "123*555*1234\n",
      "800-555-1234\n",
      "900-555-1234\n"
     ]
    }
   ],
   "source": [
    "pattern = re.compile(r\"\\d{3}.\\d{3}.\\d{4}\")\n",
    "matches = pattern.findall(text_to_search)\n",
    "for match in matches:\n",
    "    print(match)"
   ]
  },
  {
   "cell_type": "markdown",
   "metadata": {},
   "source": [
    "**match method**"
   ]
  },
  {
   "cell_type": "code",
   "execution_count": null,
   "metadata": {},
   "outputs": [],
   "source": [
    "#will determine if the regex matches at the beginning of the string "
   ]
  },
  {
   "cell_type": "code",
   "execution_count": 46,
   "metadata": {},
   "outputs": [
    {
     "ename": "TypeError",
     "evalue": "'re.Match' object is not iterable",
     "output_type": "error",
     "traceback": [
      "\u001b[1;31m---------------------------------------------------------------------------\u001b[0m",
      "\u001b[1;31mTypeError\u001b[0m                                 Traceback (most recent call last)",
      "\u001b[1;32m<ipython-input-46-ba041469ce38>\u001b[0m in \u001b[0;36m<module>\u001b[1;34m\u001b[0m\n\u001b[0;32m      2\u001b[0m \u001b[0mpattern\u001b[0m \u001b[1;33m=\u001b[0m \u001b[0mre\u001b[0m\u001b[1;33m.\u001b[0m\u001b[0mcompile\u001b[0m\u001b[1;33m(\u001b[0m\u001b[1;34mr\"Start\"\u001b[0m\u001b[1;33m)\u001b[0m\u001b[1;33m\u001b[0m\u001b[1;33m\u001b[0m\u001b[0m\n\u001b[0;32m      3\u001b[0m \u001b[0mmatches\u001b[0m \u001b[1;33m=\u001b[0m \u001b[0mpattern\u001b[0m\u001b[1;33m.\u001b[0m\u001b[0mmatch\u001b[0m\u001b[1;33m(\u001b[0m\u001b[0msentence\u001b[0m\u001b[1;33m)\u001b[0m\u001b[1;33m\u001b[0m\u001b[1;33m\u001b[0m\u001b[0m\n\u001b[1;32m----> 4\u001b[1;33m \u001b[1;32mfor\u001b[0m \u001b[0mmatch\u001b[0m \u001b[1;32min\u001b[0m \u001b[0mmatches\u001b[0m\u001b[1;33m:\u001b[0m\u001b[1;33m\u001b[0m\u001b[1;33m\u001b[0m\u001b[0m\n\u001b[0m\u001b[0;32m      5\u001b[0m     \u001b[0mprint\u001b[0m\u001b[1;33m(\u001b[0m\u001b[0mmatch\u001b[0m\u001b[1;33m)\u001b[0m\u001b[1;33m\u001b[0m\u001b[1;33m\u001b[0m\u001b[0m\n",
      "\u001b[1;31mTypeError\u001b[0m: 're.Match' object is not iterable"
     ]
    }
   ],
   "source": [
    "sentence = \"Start a sentence and then bring it to an end\"\n",
    "pattern = re.compile(r\"Start\")\n",
    "matches = pattern.match(sentence)\n",
    "for match in matches:\n",
    "    print(match)"
   ]
  },
  {
   "cell_type": "code",
   "execution_count": null,
   "metadata": {},
   "outputs": [],
   "source": [
    "#error geldi: because match doesn't return an iterable like finditer or findall\n",
    "#it just returns the first match. \n",
    "#if there is not a match than it returns none"
   ]
  },
  {
   "cell_type": "code",
   "execution_count": null,
   "metadata": {},
   "outputs": [],
   "source": [
    "#so, instead of looping through our result we can just print out that matches variable"
   ]
  },
  {
   "cell_type": "code",
   "execution_count": 49,
   "metadata": {},
   "outputs": [
    {
     "name": "stdout",
     "output_type": "stream",
     "text": [
      "<re.Match object; span=(0, 5), match='Start'>\n"
     ]
    }
   ],
   "source": [
    "sentence = \"Start a sentence and then bring it to an end\"\n",
    "pattern = re.compile(r\"Start\")\n",
    "matches = pattern.match(sentence) #this only match things at the beginning of strings\n",
    "print(matches)"
   ]
  },
  {
   "cell_type": "code",
   "execution_count": 50,
   "metadata": {},
   "outputs": [
    {
     "name": "stdout",
     "output_type": "stream",
     "text": [
      "None\n"
     ]
    }
   ],
   "source": [
    "sentence = \"Start a sentence and then bring it to an end\"\n",
    "pattern = re.compile(r\"sentence\")\n",
    "matches = pattern.match(sentence)\n",
    "print(matches)"
   ]
  },
  {
   "cell_type": "markdown",
   "metadata": {},
   "source": [
    "**search method**"
   ]
  },
  {
   "cell_type": "code",
   "execution_count": 51,
   "metadata": {},
   "outputs": [
    {
     "name": "stdout",
     "output_type": "stream",
     "text": [
      "<re.Match object; span=(8, 16), match='sentence'>\n"
     ]
    }
   ],
   "source": [
    "sentence = \"Start a sentence and then bring it to an end\"\n",
    "pattern = re.compile(r\"sentence\")\n",
    "matches = pattern.search(sentence)\n",
    "print(matches)"
   ]
  },
  {
   "cell_type": "markdown",
   "metadata": {},
   "source": [
    "**flags**"
   ]
  },
  {
   "cell_type": "code",
   "execution_count": 53,
   "metadata": {},
   "outputs": [
    {
     "name": "stdout",
     "output_type": "stream",
     "text": [
      "<re.Match object; span=(0, 5), match='Start'>\n"
     ]
    }
   ],
   "source": [
    "sentence = \"Start a sentence and then bring it to an end\"\n",
    "#pattern = re.compile(r\"start\", re.IGNORECASE)\n",
    "pattern = re.compile(r\"start\", re.I)\n",
    "matches = pattern.search(sentence)\n",
    "print(matches)"
   ]
  },
  {
   "cell_type": "code",
   "execution_count": null,
   "metadata": {},
   "outputs": [],
   "source": []
  },
  {
   "cell_type": "markdown",
   "metadata": {},
   "source": [
    "**Recap Example**"
   ]
  },
  {
   "cell_type": "code",
   "execution_count": 4,
   "metadata": {},
   "outputs": [],
   "source": [
    "emails = \"\"\"CoreyMSchafer@gmail.com\n",
    "corey.schafer@university.edu\n",
    "corey-321-schafer@my-work.net\"\"\""
   ]
  },
  {
   "cell_type": "markdown",
   "metadata": {},
   "source": [
    "Write a regex that matches all these e-mails"
   ]
  },
  {
   "cell_type": "code",
   "execution_count": 22,
   "metadata": {},
   "outputs": [
    {
     "name": "stdout",
     "output_type": "stream",
     "text": [
      "<re.Match object; span=(0, 23), match='CoreyMSchafer@gmail.com'>\n",
      "<re.Match object; span=(24, 52), match='corey.schafer@university.edu'>\n",
      "<re.Match object; span=(53, 82), match='corey-321-schafer@my-work.net'>\n"
     ]
    }
   ],
   "source": [
    "#pattern = re.compile(r\"^[A-Z]\\w{4}[A-Z]{2}\\w{6}[@]\\w{5}\\.\\w{3}\")#1st email\n",
    "#pattern = re.compile(r\"[a-zA-Z]+@[a-z]+\\.com\")#1st email\n",
    "pattern = re.compile(r\"[a-zA-Z0-9.-]+@[a-z-]+\\.(com|edu|net)\")\n",
    "matches = pattern.finditer(emails)\n",
    "for match in matches:\n",
    "    print(match)"
   ]
  },
  {
   "cell_type": "markdown",
   "metadata": {},
   "source": [
    "**url example**"
   ]
  },
  {
   "cell_type": "code",
   "execution_count": 23,
   "metadata": {},
   "outputs": [],
   "source": [
    "urls = \"\"\"\n",
    "https://www.google.com\n",
    "http://coreyms.com\n",
    "https://youtube.com\n",
    "https://www.nasa.gov\n",
    "\"\"\""
   ]
  },
  {
   "cell_type": "code",
   "execution_count": 36,
   "metadata": {},
   "outputs": [
    {
     "name": "stdout",
     "output_type": "stream",
     "text": [
      "google\n",
      "coreyms\n",
      "youtube\n",
      "nasa\n"
     ]
    }
   ],
   "source": [
    "#pattern = re.compile(r\"https?://(www\\.)?\\w+\\.\\w+\")\n",
    "pattern = re.compile(r\"https?://(www\\.)?(\\w+)(\\.\\w+)\")#group olarak görülür, çıktıda çözünürlük sağlanır\n",
    "matches=pattern.finditer(urls)\n",
    "for match in matches:\n",
    "    print(match.group(2))"
   ]
  },
  {
   "cell_type": "markdown",
   "metadata": {},
   "source": [
    "**back reference**"
   ]
  },
  {
   "cell_type": "code",
   "execution_count": null,
   "metadata": {},
   "outputs": [],
   "source": [
    "#it is used to reference captured group\n",
    "#it is shorthand for accessing these group indexes\n",
    "#re module has a sub method, used to perform substitution"
   ]
  },
  {
   "cell_type": "code",
   "execution_count": null,
   "metadata": {},
   "outputs": [],
   "source": [
    "#we can substitute in these back references which reference the groups"
   ]
  },
  {
   "cell_type": "code",
   "execution_count": 40,
   "metadata": {},
   "outputs": [
    {
     "name": "stdout",
     "output_type": "stream",
     "text": [
      "\n",
      "google.com\n",
      "coreyms.com\n",
      "youtube.com\n",
      "nasa.gov\n",
      "\n"
     ]
    }
   ],
   "source": [
    "pattern = re.compile(r\"https?://(www\\.)?(\\w+)(\\.\\w+)\")\n",
    "subbed_urls= pattern.sub(r\"\\2\\3\", urls)\n",
    "print(subbed_urls)"
   ]
  },
  {
   "cell_type": "code",
   "execution_count": null,
   "metadata": {},
   "outputs": [],
   "source": [
    "#arguman olarak parantez içine substitution konur.Substitution we wanna use are these back references that reference these groups"
   ]
  },
  {
   "cell_type": "code",
   "execution_count": null,
   "metadata": {},
   "outputs": [],
   "source": [
    "#we wanna replace these URLs with the domain name-group 2 and top-level domain - group 3\n",
    "#we use back references with a back slash \\ and num of group"
   ]
  },
  {
   "cell_type": "markdown",
   "metadata": {},
   "source": [
    "**Example: how it becomes powerful for parsing information from data**"
   ]
  },
  {
   "cell_type": "code",
   "execution_count": 13,
   "metadata": {},
   "outputs": [
    {
     "name": "stdout",
     "output_type": "stream",
     "text": [
      "<re.Match object; span=(12, 24), match='615-555-7164'>\n",
      "<re.Match object; span=(102, 114), match='800-555-5669'>\n",
      "<re.Match object; span=(191, 203), match='560-555-5153'>\n",
      "<re.Match object; span=(281, 293), match='900-555-9340'>\n",
      "<re.Match object; span=(378, 390), match='714-555-7405'>\n",
      "<re.Match object; span=(467, 479), match='800-555-6771'>\n",
      "<re.Match object; span=(557, 569), match='783-555-4799'>\n",
      "<re.Match object; span=(647, 659), match='516-555-4615'>\n",
      "<re.Match object; span=(740, 752), match='127-555-1867'>\n",
      "<re.Match object; span=(829, 841), match='608-555-4938'>\n",
      "<re.Match object; span=(915, 927), match='568-555-6051'>\n",
      "<re.Match object; span=(1003, 1015), match='292-555-1875'>\n",
      "<re.Match object; span=(1091, 1103), match='900-555-3205'>\n",
      "<re.Match object; span=(1180, 1192), match='614-555-1166'>\n",
      "<re.Match object; span=(1269, 1281), match='530-555-2676'>\n",
      "<re.Match object; span=(1355, 1367), match='470-555-2750'>\n",
      "<re.Match object; span=(1439, 1451), match='800-555-6089'>\n",
      "<re.Match object; span=(1526, 1538), match='880-555-8319'>\n",
      "<re.Match object; span=(1614, 1626), match='777-555-8378'>\n",
      "<re.Match object; span=(1697, 1709), match='998-555-7385'>\n",
      "<re.Match object; span=(1790, 1802), match='800-555-7100'>\n",
      "<re.Match object; span=(1874, 1886), match='903-555-8277'>\n",
      "<re.Match object; span=(1962, 1974), match='196-555-5674'>\n",
      "<re.Match object; span=(2051, 2063), match='900-555-5118'>\n",
      "<re.Match object; span=(2135, 2147), match='905-555-1630'>\n",
      "<re.Match object; span=(2216, 2228), match='203-555-3475'>\n",
      "<re.Match object; span=(2300, 2312), match='884-555-8444'>\n",
      "<re.Match object; span=(2387, 2399), match='904-555-8559'>\n",
      "<re.Match object; span=(2475, 2487), match='889-555-7393'>\n",
      "<re.Match object; span=(2562, 2574), match='195-555-2405'>\n",
      "<re.Match object; span=(2647, 2659), match='321-555-9053'>\n",
      "<re.Match object; span=(2734, 2746), match='133-555-1711'>\n",
      "<re.Match object; span=(2826, 2838), match='900-555-5428'>\n",
      "<re.Match object; span=(2915, 2927), match='760-555-7147'>\n",
      "<re.Match object; span=(3012, 3024), match='391-555-6621'>\n",
      "<re.Match object; span=(3103, 3115), match='932-555-7724'>\n",
      "<re.Match object; span=(3192, 3204), match='609-555-7908'>\n",
      "<re.Match object; span=(3284, 3296), match='800-555-8810'>\n",
      "<re.Match object; span=(3372, 3384), match='149-555-7657'>\n",
      "<re.Match object; span=(3452, 3464), match='130-555-9709'>\n",
      "<re.Match object; span=(3535, 3547), match='143-555-9295'>\n",
      "<re.Match object; span=(3624, 3636), match='903-555-9878'>\n",
      "<re.Match object; span=(3714, 3726), match='574-555-3194'>\n",
      "<re.Match object; span=(3802, 3814), match='496-555-7533'>\n",
      "<re.Match object; span=(3887, 3899), match='210-555-3757'>\n",
      "<re.Match object; span=(3971, 3983), match='900-555-9598'>\n",
      "<re.Match object; span=(4056, 4068), match='866-555-9844'>\n",
      "<re.Match object; span=(4140, 4152), match='669-555-7159'>\n",
      "<re.Match object; span=(4225, 4237), match='152-555-7417'>\n",
      "<re.Match object; span=(4317, 4329), match='893-555-9832'>\n",
      "<re.Match object; span=(4407, 4419), match='217-555-7123'>\n",
      "<re.Match object; span=(4498, 4510), match='786-555-6544'>\n",
      "<re.Match object; span=(4588, 4600), match='780-555-2574'>\n",
      "<re.Match object; span=(4676, 4688), match='926-555-8735'>\n",
      "<re.Match object; span=(4762, 4774), match='895-555-3539'>\n",
      "<re.Match object; span=(4859, 4871), match='874-555-3949'>\n",
      "<re.Match object; span=(4945, 4957), match='800-555-2420'>\n",
      "<re.Match object; span=(5034, 5046), match='936-555-6340'>\n",
      "<re.Match object; span=(5123, 5135), match='372-555-9809'>\n",
      "<re.Match object; span=(5210, 5222), match='890-555-5618'>\n",
      "<re.Match object; span=(5292, 5304), match='670-555-3005'>\n",
      "<re.Match object; span=(5382, 5394), match='509-555-5997'>\n",
      "<re.Match object; span=(5475, 5487), match='721-555-5632'>\n",
      "<re.Match object; span=(5566, 5578), match='900-555-3567'>\n",
      "<re.Match object; span=(5656, 5668), match='147-555-6830'>\n",
      "<re.Match object; span=(5745, 5757), match='582-555-3426'>\n",
      "<re.Match object; span=(5830, 5842), match='400-555-1706'>\n",
      "<re.Match object; span=(5921, 5933), match='525-555-1793'>\n",
      "<re.Match object; span=(6011, 6023), match='317-555-6700'>\n",
      "<re.Match object; span=(6099, 6111), match='974-555-8301'>\n",
      "<re.Match object; span=(6189, 6201), match='800-555-3216'>\n",
      "<re.Match object; span=(6273, 6285), match='746-555-4094'>\n",
      "<re.Match object; span=(6360, 6372), match='922-555-1773'>\n",
      "<re.Match object; span=(6445, 6457), match='711-555-4427'>\n",
      "<re.Match object; span=(6530, 6542), match='355-555-1872'>\n",
      "<re.Match object; span=(6619, 6631), match='852-555-6521'>\n",
      "<re.Match object; span=(6711, 6723), match='691-555-5773'>\n",
      "<re.Match object; span=(6803, 6815), match='332-555-5441'>\n",
      "<re.Match object; span=(6889, 6901), match='900-555-7755'>\n",
      "<re.Match object; span=(6971, 6983), match='379-555-3685'>\n",
      "<re.Match object; span=(7061, 7073), match='127-555-9682'>\n",
      "<re.Match object; span=(7152, 7164), match='789-555-7032'>\n",
      "<re.Match object; span=(7243, 7255), match='783-555-5135'>\n",
      "<re.Match object; span=(7336, 7348), match='315-555-6507'>\n",
      "<re.Match object; span=(7427, 7439), match='481-555-5835'>\n",
      "<re.Match object; span=(7515, 7527), match='365-555-8287'>\n",
      "<re.Match object; span=(7607, 7619), match='911-555-7535'>\n",
      "<re.Match object; span=(7693, 7705), match='681-555-2460'>\n",
      "<re.Match object; span=(7779, 7791), match='274-555-9800'>\n",
      "<re.Match object; span=(7864, 7876), match='800-555-1372'>\n",
      "<re.Match object; span=(7953, 7965), match='300-555-7821'>\n",
      "<re.Match object; span=(8043, 8055), match='133-555-3889'>\n",
      "<re.Match object; span=(8129, 8141), match='705-555-6863'>\n",
      "<re.Match object; span=(8218, 8230), match='215-555-9449'>\n",
      "<re.Match object; span=(8309, 8321), match='988-555-6112'>\n",
      "<re.Match object; span=(8395, 8407), match='623-555-3006'>\n",
      "<re.Match object; span=(8479, 8491), match='192-555-4977'>\n",
      "<re.Match object; span=(8564, 8576), match='178-555-4899'>\n",
      "<re.Match object; span=(8648, 8660), match='952-555-3089'>\n",
      "<re.Match object; span=(8741, 8753), match='900-555-6426'>\n"
     ]
    }
   ],
   "source": [
    "pattern = re.compile(r\"\\d\\d\\d.\\d\\d\\d.\\d\\d\\d\\d\")\n",
    "with open(\"data.txt\", \"r\", encoding=\"utf-8\") as f:\n",
    "    contents = f.read()\n",
    "    \n",
    "    matches = pattern.finditer(contents)\n",
    "    \n",
    "    for match in matches:\n",
    "        print(match)"
   ]
  },
  {
   "cell_type": "code",
   "execution_count": null,
   "metadata": {},
   "outputs": [],
   "source": []
  },
  {
   "cell_type": "code",
   "execution_count": null,
   "metadata": {},
   "outputs": [],
   "source": []
  },
  {
   "cell_type": "markdown",
   "metadata": {},
   "source": [
    "**Python Tutorial: re Module - How to Write and Match Regular Expressions (Regex)**"
   ]
  },
  {
   "cell_type": "markdown",
   "metadata": {},
   "source": [
    "Corey Schafer"
   ]
  },
  {
   "cell_type": "code",
   "execution_count": null,
   "metadata": {},
   "outputs": [],
   "source": [
    "# https://www.youtube.com/watch?v=K8L6KVGG-7o"
   ]
  },
  {
   "cell_type": "code",
   "execution_count": 1,
   "metadata": {},
   "outputs": [],
   "source": [
    "def rearrange_name(name):\n",
    "    result = re.search(r\"^([\\w.]*), ([\\w.]*)$\", name)\n",
    "    if result == None:\n",
    "        return result\n",
    "    return \"{} {}\".format(result[2], result[1])"
   ]
  },
  {
   "cell_type": "code",
   "execution_count": 2,
   "metadata": {},
   "outputs": [],
   "source": [
    "import pandas as pd"
   ]
  },
  {
   "cell_type": "code",
   "execution_count": 3,
   "metadata": {},
   "outputs": [],
   "source": [
    "df = pd.read_csv(\"C:/Users/Owner/short_tweets.csv\")"
   ]
  },
  {
   "cell_type": "code",
   "execution_count": 4,
   "metadata": {},
   "outputs": [
    {
     "data": {
      "text/html": [
       "<div>\n",
       "<style scoped>\n",
       "    .dataframe tbody tr th:only-of-type {\n",
       "        vertical-align: middle;\n",
       "    }\n",
       "\n",
       "    .dataframe tbody tr th {\n",
       "        vertical-align: top;\n",
       "    }\n",
       "\n",
       "    .dataframe thead th {\n",
       "        text-align: right;\n",
       "    }\n",
       "</style>\n",
       "<table border=\"1\" class=\"dataframe\">\n",
       "  <thead>\n",
       "    <tr style=\"text-align: right;\">\n",
       "      <th></th>\n",
       "      <th>target</th>\n",
       "      <th>id</th>\n",
       "      <th>date</th>\n",
       "      <th>flag</th>\n",
       "      <th>user</th>\n",
       "      <th>text</th>\n",
       "    </tr>\n",
       "  </thead>\n",
       "  <tbody>\n",
       "    <tr>\n",
       "      <th>0</th>\n",
       "      <td>0</td>\n",
       "      <td>1467821085</td>\n",
       "      <td>Mon Apr 06 22:22:26 PDT 2009</td>\n",
       "      <td>NO_QUERY</td>\n",
       "      <td>crzy_cdn_bulas</td>\n",
       "      <td>our duck and chicken are taking wayyy too long...</td>\n",
       "    </tr>\n",
       "    <tr>\n",
       "      <th>1</th>\n",
       "      <td>0</td>\n",
       "      <td>1467821338</td>\n",
       "      <td>Mon Apr 06 22:22:30 PDT 2009</td>\n",
       "      <td>NO_QUERY</td>\n",
       "      <td>justnetgirl</td>\n",
       "      <td>Put vacation photos online (They were so cute)...</td>\n",
       "    </tr>\n",
       "    <tr>\n",
       "      <th>2</th>\n",
       "      <td>0</td>\n",
       "      <td>1467821455</td>\n",
       "      <td>Mon Apr 06 22:22:32 PDT 2009</td>\n",
       "      <td>NO_QUERY</td>\n",
       "      <td>CiaraRenee</td>\n",
       "      <td>I need a hug</td>\n",
       "    </tr>\n",
       "    <tr>\n",
       "      <th>3</th>\n",
       "      <td>0</td>\n",
       "      <td>1467821715</td>\n",
       "      <td>Mon Apr 06 22:22:37 PDT 2009</td>\n",
       "      <td>NO_QUERY</td>\n",
       "      <td>deelau</td>\n",
       "      <td>@andywana Not sure what they are, only that th...</td>\n",
       "    </tr>\n",
       "    <tr>\n",
       "      <th>4</th>\n",
       "      <td>0</td>\n",
       "      <td>1467822384</td>\n",
       "      <td>Mon Apr 06 22:22:47 PDT 2009</td>\n",
       "      <td>NO_QUERY</td>\n",
       "      <td>Lindsey0920</td>\n",
       "      <td>@oanhLove I hate when that happens...</td>\n",
       "    </tr>\n",
       "  </tbody>\n",
       "</table>\n",
       "</div>"
      ],
      "text/plain": [
       "   target          id                          date      flag            user  \\\n",
       "0       0  1467821085  Mon Apr 06 22:22:26 PDT 2009  NO_QUERY  crzy_cdn_bulas   \n",
       "1       0  1467821338  Mon Apr 06 22:22:30 PDT 2009  NO_QUERY     justnetgirl   \n",
       "2       0  1467821455  Mon Apr 06 22:22:32 PDT 2009  NO_QUERY      CiaraRenee   \n",
       "3       0  1467821715  Mon Apr 06 22:22:37 PDT 2009  NO_QUERY          deelau   \n",
       "4       0  1467822384  Mon Apr 06 22:22:47 PDT 2009  NO_QUERY     Lindsey0920   \n",
       "\n",
       "                                                text  \n",
       "0  our duck and chicken are taking wayyy too long...  \n",
       "1  Put vacation photos online (They were so cute)...  \n",
       "2                                      I need a hug   \n",
       "3  @andywana Not sure what they are, only that th...  \n",
       "4             @oanhLove I hate when that happens...   "
      ]
     },
     "execution_count": 4,
     "metadata": {},
     "output_type": "execute_result"
    }
   ],
   "source": [
    "df.head()"
   ]
  },
  {
   "cell_type": "code",
   "execution_count": 5,
   "metadata": {},
   "outputs": [
    {
     "data": {
      "text/plain": [
       "['our duck and chicken are taking wayyy too long to hatch ',\n",
       " \"Put vacation photos online (They were so cute) a few yrs ago. PC crashed, and now I forget the name of the site (I'm crying). \",\n",
       " 'I need a hug ',\n",
       " '@andywana Not sure what they are, only that they are PoS! As much as I want to, I dont think can trade away company assets sorry andy! ',\n",
       " '@oanhLove I hate when that happens... ',\n",
       " \"I have a sad feeling that Dallas is not going to show up  I gotta say though, you'd think more shows would use music from the game. mmm\",\n",
       " 'Ugh....92 degrees tomorrow ',\n",
       " 'Where did u move to?  I thought u were already in sd. ?? Hmmm. Random u found me. Glad to hear yer doing well.',\n",
       " \"@BatManYNG I miss my ps3, it's out of commission  Wutcha playing? Have you copped 'Blood On The Sand'?\",\n",
       " 'just leaving the parking lot of work! ',\n",
       " 'The Life is cool. But not for Me. ',\n",
       " \"Sadly though, I've never gotten to experience the post coitus cigarette before, and now I never will. \",\n",
       " 'I had such a nice day. Too bad the rain comes in tomorrow at 5am ',\n",
       " \"@Starrbby too bad I won't be around I lost my job and can't even pay my phone bill lmao aw shucks \",\n",
       " 'Damm back to school tomorrow ',\n",
       " \"Mo jobs, no money.  how in the hell is min wage here 4 f'n clams an hour?\",\n",
       " '@katortiz  Not forever... See you soon!',\n",
       " '@Lt_Algonquin agreed, I saw the failwhale allllll day today. ',\n",
       " \"@jdarter Oh! Haha... dude I dont really look at em unless someone says HEY I ADDED YOU. Sorry  I'm so terrible at that. I need a pop up!\",\n",
       " \"@ninjen I'm sure you're right...    I need to start working out with you and the Nikster... Or Jared at least!\",\n",
       " 'i really hate how people diss my bands!  Trace is clearly NOT ugly!',\n",
       " 'Gym attire today was: Puma singlet, Adidas shorts.......and black business socks and leather shoes  Lucky did not run into any cute girls.',\n",
       " \"Why won't you show my location?!   http://twitpic.com/2y2es\",\n",
       " 'No picnic  my phone smells like citrus.',\n",
       " \"@ashleyac My donkey is sensitive about such comments. Nevertheless, he'd (and me'd) be glad to see your mug asap. Charger is still awol. \",\n",
       " 'No new csi tonight.  FML',\n",
       " 'i think my arms are sore from tennis ',\n",
       " 'wonders why someone that u like so much can make you so unhappy in a split seccond . depressed . ',\n",
       " 'sleep soon... i just hate saying bye and see you tomorrow for the night. ',\n",
       " '@statravelAU just got ur newsletter, those fares really are unbelievable, shame I already booked and paid for mine ',\n",
       " \"missin' the boo \",\n",
       " '@markhardy1974 Me too  #itm',\n",
       " \"Damn... I don't have any chalk! MY CHALKBOARD IS USELESS \",\n",
       " \"had a blast at the Getty Villa, but hates that she's had a sore throat all day. It's just getting worse too \",\n",
       " '@msdrama hey missed ya at the meeting  sup mama',\n",
       " \"My tummy hurts.  I wonder if the hypnosis has anything to do with it? If so, it's working, I get it, STOP SMOKING!!!\",\n",
       " 'why is it always the fat ones?! ',\n",
       " \"@januarycrimson Sorry, babe!!  My fam annoys me too. Thankfully, they're asleep right now. Muahaha. *evil laugh*\",\n",
       " '@Hollywoodheat I should have paid more attention when we covered photoshop in my webpage design class in undergrad ',\n",
       " \"wednesday my b-day! don't know what 2 do!! \",\n",
       " 'Poor cameron (the hills) ',\n",
       " 'pray for me please, the ex is threatening to start sh** at my/our babies 1st Birthday party. what a jerk. and I still have a headache ',\n",
       " '@makeherfamous hmm  , do u really enjoy being with him ? if the problems are too constants u should think things more , find someone ulike',\n",
       " 'Strider is a sick little puppy  http://apps.facebook.com/dogbook/profile/view/5248435',\n",
       " \"so rylee,grace...wana go steve's party or not?? SADLY SINCE ITS EASTER I WNT B ABLE 2 DO MUCH  BUT OHH WELL.....\",\n",
       " \"hey, I actually won one of my bracket pools! Too bad it wasn't the one for money \",\n",
       " \"@stark YOU don't follow me, either  and i work for you!\",\n",
       " 'You need excellent python skills to be a data scientist. Must be! Excellent python',\n",
       " ' Body Of Missing Northern Calif. Girl Found: Police have found the remains of a missing Northern California girl .. http://tr.im/imji',\n",
       " '@mangaaa I hope they will increase the capacity fast, yesterday was such a pain. Got the fail whale +15 times in 2 hours.... ',\n",
       " 'Behind on my classes for work ',\n",
       " 'watching &quot;House&quot; ',\n",
       " '@kpreyes Remember my bum leg? Strikes back this time its serious ',\n",
       " '@paradisej cool, i will. their are all kinds of complaints about this laptop online about overheating, but no recalls ',\n",
       " 'Emily will be glad when Mommy is done training at her new job. She misses her.  http://apps.facebook.com/dogbook/profile/view/6176014',\n",
       " 'would rather the first party send bad messages than the 3rd party send mixed ones  Sophmore year all over again?',\n",
       " \"@Henkuyinepu it's overrated \",\n",
       " '@marykatherine_q i know! I heard it this afternoon and wondered the same thing. Moscow is so behind the times ',\n",
       " 'laying in bed with no voice.. ',\n",
       " \"I'm sooo sad!!! they killed off Kutner on House  whyyyyyyyy\",\n",
       " '@jacobsummers Sorry  tell them mea culpa from me and that I really am sorry.',\n",
       " \"@Alliana07 it didn't make any sense to me, the suicide thing. I refuse to believe that that is actually what happened. \",\n",
       " '@salancaster  hope your ok.',\n",
       " \"@mercedesashley Damn! The grind is inspirational and saddening at the same time.  Don't want you to stop cuz I like what u do! Much love\",\n",
       " '@HibaNick yeah aw but i know i wudnt stand a chance ',\n",
       " 'ugh. cant sleep. its 1:30am. ',\n",
       " \"Hanging in Crooners. Wanna sing. Can't. Sucks. \",\n",
       " '@eRRe_sC aaw i miss ya all too.. im leaving to BH tomorrow &quot;morning&quot; i think.. aww i wanna go to the beach w u girls!! ',\n",
       " \"Is pissed off that there's no ASBA's for a radio station. \",\n",
       " \"wednesday my b-day n don't know what 2 do!  \",\n",
       " 'I know my life has been flipped upside down when I just thought in my head that some Ramen sounds good. ',\n",
       " 'I am in pain. My back and sides hurt. Not to mention crying is made of fail. ',\n",
       " \"Late night snack, glass of OJ b/c I'm &quot;down with the sickness&quot;, then back to sleep...ugh I hate getting sick... \",\n",
       " \"@allyheman but.. but.. but.. I'm not a big fan on camilla belle \",\n",
       " \"@grum WAH I can't see clip, must be el-stupido work filters. Can't wait 'till I get a 'puter. Something else 2 blame ex 4. He broke mine \",\n",
       " \"This week just seems to get longer and longer in terms of how much I need to do.. and how much I'm actually going to get done \",\n",
       " \"I'm so cold \",\n",
       " \"@thecoolestout Ehhh don't. Weather's gonna take a turn for the ugly tomorrow \",\n",
       " '@chelserlynn haha its so cooooold in the d! and no  but you should still go to the show. they do some incredible stuff',\n",
       " 'Hoping the tummy rumbles go away soon ',\n",
       " \"@Knights_ No, no notice. They told me I'd be working tomorrow, and then I called the agency to follow up and they said it was over. \",\n",
       " 'almost bedtime ',\n",
       " \"I'm missing you babe..  but as long as your alive I'm happy.. Yawwwnn.. I'm tired my love imma try to sleep hopefully you had a headstart\",\n",
       " 'Agh...snow!!! ',\n",
       " 'i miss kenny powers ',\n",
       " \"@BridgetsBeaches Thank you for letting people know, but now I'm sad that the direct message I got wasn't actually from Bridget \",\n",
       " '...and, India missed out its 100th Test victory n 10th consecutive win without a loss. ',\n",
       " \"@JonathanRKnight I guess that's a no then. \",\n",
       " 'sadly is going to bed. ',\n",
       " '@ozesteph1992 Shame to hear this Stephan ',\n",
       " \"@mrsaintnick hey! i'm leavin in the morning... \",\n",
       " 'Was intending to finish editing my 536-page novel manuscript tonight, but that will probably not happen. And only 12 pages are left ',\n",
       " 'laid around too much today... now my head hurts ',\n",
       " \"@twista202 I still haven't read the 9th&amp;10th Princess diaries  Saving Francesca made me cry at the end. Hmm those are easy books.\",\n",
       " 'my nokia 1110 died..  ',\n",
       " \"My mom might have breast cancer won't find out anything for. Like a week I'm so worried! \",\n",
       " 'Going to sleep. Hoping tomorrow is a better day. ',\n",
       " '@rumblepurr lol.. wish they understood daylight savings has ended though and breakfast is an hour later  They keep waking the kids up too',\n",
       " '@onemoreproject that is lame ',\n",
       " \"I don't understand... I really don't \",\n",
       " \"HEROES just isn't doing it for me this season... \",\n",
       " \"Living not downtown sure isn't much fun.  \",\n",
       " '@jonathanchard Not calorie wise   I wish junk food was calorie free! I ate a thing of sour skittles and a big ass cherry coke!',\n",
       " 'Man Work is Hard ',\n",
       " 'getting sick  time for some hot tea, studying, and then sleeeep',\n",
       " '@robot9! @robot4& I have a good feeling that the show isgoing to be amazing! @robot9$ @robot7%',\n",
       " 'No phantasy star yesterday  going to work...',\n",
       " \"Oh - Just got all my MacHeist 3.0 apps - sweet. Didn't get the Espresso serial no though although they said they sent it - oh well \",\n",
       " \"Picked Mich St to win it all from the get go.  Was feeling pretty good about that pick all the way up until......tonight.  A's lost too \",\n",
       " 'is alone downstairs...working ',\n",
       " 'I feel bad for doing it ',\n",
       " \"@RyanSeacrest is it just me, or she hates anoop. i mean seriously, she's kinda mean to him. \",\n",
       " '@pinkserendipity yes sprint has 4g only in baltimore and chicago so far ',\n",
       " \"I'm stuck awake in the middle of the night for the second day in a row. And I felt terrible yesterday. \",\n",
       " 'Thanks for bursting my bubble ',\n",
       " \"Going to school soon... can't find anything to wear!! gosh it's so hard \",\n",
       " '@marieclr I was serious  LOL',\n",
       " '@naughtyhaughty I had on my page for sooooo long!!! Until it got deleted  Sad day in history',\n",
       " 'Crazy wind today = no birding  http://ff.im/1XTTi',\n",
       " 'currently at work.. ',\n",
       " \"Grrr.. my ipods acting weird too! Jai ho and thinking of you aren't playing the full songs.. ughh. \",\n",
       " '@penndbad send me the DVD cos I have missed out on heaps  NOT happy about that!',\n",
       " \"i don't see the big deal with this website \",\n",
       " \"@machineplay I'm so sorry you're having to go through this. Again.  #therapyfail\",\n",
       " '@ColinDeMar Far too out of the way for rail.  any other tips?',\n",
       " \"I'm not still up I swear. Why do I keep losing. gaining. losing. gaining. tweeps?  So heart wrenching.\",\n",
       " \"Today I realized I am too good at hiding things, even I can't find it \",\n",
       " 'Staying at a friends house...house sitting, neighbors are SO loud-having a party ',\n",
       " '@dannyvegasbaby danny im upset that i wasnt here to watch the live chat  i was in a car. for 3 hours on a trip im soooo upset!!',\n",
       " 'Check out my mug  http://www.erika-obscura.blogspot.com',\n",
       " 'Borders closed at 10 ',\n",
       " \"Downloading NIN's new album &quot;the slip&quot; - when the hell did this come out? I'm so behind the times these days \",\n",
       " \"Just woke up an already have written some e-mail... I've to go early at University today as I have to teach at 8:30 AM! \",\n",
       " 'is watching the hill . . .and its making me sad ',\n",
       " 'So many channels.... yet so so boring... lazy day again  may have to find a hobby',\n",
       " '@supersport I miss my buddy  ill be in NY on the 25th',\n",
       " \"@robluketic  love the french. I tell people here in the south i'm qtr. french and they snarl at me.  french are beautiful people\",\n",
       " 'Opps.. As I said.. I still got one day remain and now problem come ',\n",
       " \"I activated my Selfcontrol block early, meaning I can't check out the new QC.  Regularizing my internal clock is might be difficult. #fb\",\n",
       " '@HillyDoP  oH NO',\n",
       " 'spencer is not a good guy. ',\n",
       " '@goodlaura What about Reese dying on #TTSC? And season finale next week.  #24 boring, Madame President is a crazy woman.',\n",
       " '@JonathanRKnight I hate the limited letters,too.Hope you and the guys are fine?I pray for my dog,she�s not well ',\n",
       " \"didn't get shit done today ~ i'm so screwed \",\n",
       " 'wanttss to go out ',\n",
       " 'Is not going to sleep tonite. ',\n",
       " 'too worried and tired to post tonight ',\n",
       " \"couldn't get shit done today ~ i'm so screwed \",\n",
       " 'Job Interview in Cardiff today, wish me luck! Got about 3 hours sleep ',\n",
       " \"@stustone Your show is whack. Way worse than whack, it's wiggety-whack.    :*(:*(:*(\",\n",
       " \"@DjAlizay I really don't think people choose to be that way. But I think he chose not to accept my family's help   He might be dead by now\",\n",
       " \"@eloquentembrace You're going to kill me, but I've not seen DS9. I've been waiting till I can do it in one solid week sitting. \",\n",
       " '@cheechbud i think ur right!! hahaha!! 4.5 hrs now!! ',\n",
       " 'i hate to see the spartans so sad ',\n",
       " 'My mind and body are severely protesting this &quot;getting up&quot;  thing. Had nightmares to boot ',\n",
       " \"@MySteezRadio I'm goin' to follow u, since u didn't  LOL  GO ANGELS!\",\n",
       " '@mandayyy ',\n",
       " \"@twista202 I think I want to read some books but the library doesn't have them \",\n",
       " \"My nap was interrupted so many times today  Going out for Japanese with the 'rents again...\",\n",
       " 'Kind of longs for the bus that shows up at the end of Ghost World right now. Ugh. ',\n",
       " \"@GuruMN but this is canada  canada is weird. we're supposed to get snow through wednesday. ugh.\",\n",
       " \"Awwh babs... you look so sad underneith that shop entrance of &quot;Yesterday's Musik&quot;  O-: I like the look of the new transformer movie \",\n",
       " \"sad that the 'feet' of my macbook just fell off \",\n",
       " \"I'm gonna get up late tomorrow and it's 132am here. I gonna get tipsy by my lonesome. That's...that's just sad \",\n",
       " \"I'm sweating my forthcoming trip to E3.  If I can't find someone to crash with while I'm out there, I may be screwed.  \",\n",
       " 'Has now gotten somebody to read his tweets, but cant get them to make an account. ',\n",
       " '@infinitydefines  omgawd i couldnt handle my cat being in heat all the time D: D:',\n",
       " '@DonnieWahlberg I hope i can make it to the auburn show. but its not looking good for me ',\n",
       " '@David_Henrie *thats people mag haha i couldnt fit it all in.. i dont think those pictures ever made it in the magazine tho!  haha',\n",
       " '@breadandbadger Congrats!!  i totally forgot to submit photos ',\n",
       " \"@PaulaAbdul awww, Good luck Paula!! Please don't work too hard  but I hope you have fun  Your new album is gonna be amazing!  xxx\",\n",
       " '@imaginarypeach now your leaving me  .... -gets sad-',\n",
       " \"I miss you twitter. My phone broke, now I'm using a stupid Nokia phone. Ughhh, I miss my advance phone. \",\n",
       " 'SHOOTING OUTSIDE MY HOUSE :O NOT KIDDING! So SCARED ',\n",
       " 'Tuesday�ll start with reflection �n then a lecture in Stress reducing techniques. That sure might become very useful for us accompaniers ',\n",
       " 'What tragedy and disaster in the news this week ',\n",
       " 'yes yes still trying to find a picture that will upload correclty.. ',\n",
       " 'Why oh why was the Red Sox game rained out? I was so looking forward to opening day ',\n",
       " \"I still can't find my keys. \",\n",
       " '@charlietm I know right. I dunno what is going on with twitter. ',\n",
       " 'might be getting a sore throat again ',\n",
       " '@labelsnotlove   my home town. My mammy called all depressd.  Pls explain y a parent let their 8yr old child walk alone? Hello? Its 2009!',\n",
       " '@ircmaxell - I think I need to find better anti-depressants.  I think this Paxil/Wellbutrin combo is losing its efficacy.  ',\n",
       " '@MyConnecticut Restaurant called WoodNTap has competitive eating tourney round tourney time. We place 2nd ',\n",
       " 'is in the bathroom... wake up lakin. ',\n",
       " '@CaitlinOConnor i want tacos and margarhitas  telll gay i say hello&lt;3',\n",
       " 'im lonely  keep me company! 22 female, california',\n",
       " 'bad day at the betfair office ',\n",
       " \"I miss him.  Can't wait to celebrate the Tar Heel win this weekend though!!\",\n",
       " \"I'm really cold. I don't want to go to sleep yet but there's nothing to do \",\n",
       " \"@kristencampisi is this it 4 u? Its ' officially over ' 4 me this go round! \",\n",
       " \"monkeys??? i just found out you my twin and you wont even write back.  i'm heartbroken\",\n",
       " '@miss_om Aww  I know I felt like that yesterday at work ',\n",
       " \"@SarahReedSC treaty isn't defined \",\n",
       " 'missed Brent at praise band.   No fun to not have the your lead guitarist.  &lt;pout&gt;',\n",
       " '@jpfurry poor john  this is what happens when you play with fruit and a microwave! Seriously though HAVE you seen a doctor?? Xxx',\n",
       " 'Missing My BFF  watching home and away it reminds me of her and me  we &lt;3 It. shout out to u courts',\n",
       " '@mandayyy   ',\n",
       " 'New video card is DOA. ',\n",
       " 'feeling lost, naked and confused (JK, sort of).....no iphone for me. ',\n",
       " 'Damn i am so late at filling this appraisal form, people have almost sent it .. i was so occupied in work ',\n",
       " 'missed Brent at praise band.  No fun to not have your lead guitarist. &lt;pout&gt;',\n",
       " 'i think to much on the past. i cant change it. i deserved so much more then wat i got. ..but why am i still thinking about him  gah',\n",
       " \"has lost his ring. It's no-where to be seen \",\n",
       " '@burgaw Ooooooh! *sealclap* See, I download shitloads of zip folders off 4chan. I have no internet moneys.  FUCK YEAH ALICIA &amp; MIKEY.',\n",
       " 'Is still nursing my Nile but glad he is feeling better. I hate when my baby is sick ',\n",
       " 'Is fucked to go back to IC ',\n",
       " \"@Brandizzzle08 yoyoyo. my internet has been rude tonight. it JUST reconnected and I'm about to go to bed. \",\n",
       " \"@jemcam well i have uni stuff and netball  but after netbal if i've done uni stuff we can\",\n",
       " '@kissability Me too I is poor ',\n",
       " 'help me forget 8th april &amp; 13th july! ',\n",
       " \"dierks bentley is comin' to columbus, OH!! i wanna go so bad \",\n",
       " 'i have to take my sidekick back. ',\n",
       " \"@chriscantore congrats! I'm totally jealous! only wish my XM was working \",\n",
       " 'gr8t my face is very itchy ',\n",
       " 'poor socks  luvvvvv the golden retriever!! I want one sighhhh',\n",
       " 'I just saw that they found that Tracy girl in a piece of luggage... How fucking terrible ',\n",
       " 'Aaaaand the nausea is back. ',\n",
       " '@DonnieWahlberg ooh I�m excited and not even going 2 be there  long love YOUTUBE!',\n",
       " 'spent 1 hour to reach to Axis bank only to find out today is holiday for Mahavir Jayanti  contd..',\n",
       " '@mathewsmichael  i agree... the jobros dont update theres very often ',\n",
       " '@fishmouse it is hilarious and I linked the clip from LJ some time ago but when I went back just now it was a dead link ',\n",
       " '@DiannePulham OOOOOOOO who with? (im not neither but thats because i need to study  )',\n",
       " \"Haven't tweeted nearly all day  Posted my website tonight, hopefully that goes well  Night time!\",\n",
       " '@bostongarden I miss bentley ',\n",
       " 'seriously needs to finish these job applications ',\n",
       " 'My son Vincas is sick, so I stay at home  Just three tense days at work, and I am back on holiday with kids',\n",
       " \"Whinging. My client&amp;boss don't understand English well. Rewrote some text unreadable. It's written by v. good writer&amp;reviewed correctly. \",\n",
       " \"@huntermoore I don't want him to ever punch me.  \",\n",
       " 'sooo sick of the snow  ughh',\n",
       " '@ITS_NEMESIS ------- ',\n",
       " \"@LoveMeagan it doesn't work your fan is upset \",\n",
       " 'I would like to apologize for the repeated Video Games Live related tweets. 32 minutes ago',\n",
       " '@zaydia but i cant figure out how to get there / back / pay for a hotel 1st May 2019',\n",
       " 'FML: So much for seniority, bc of technological ineptness 23rd June 2018 17:54',\n",
       " 'feels like she slept the day away.    Not looking forward to any more bouts with my gallbladder.  At least I have pills now for the pain.',\n",
       " '@ThaStevieG but what I really want is my old bass back ',\n",
       " 'Mad tired today... Callin it in early tonight  nighty night twittas',\n",
       " '@LevenRambin: Take it easy, and be good to you. ',\n",
       " \"I'm afraid I had bad code. \",\n",
       " \"Think I'm going to bed. Goodniight. I hate this \",\n",
       " \"@riancurtis  i'm here, friend, and i love you.\",\n",
       " \"@kariajay  All this time you didn't notice I was gone...just needed DB2 is it??\",\n",
       " '@aaronrva is in the bathroom and i have to pee!    ',\n",
       " '@ashleyskyy but I wanted a margarita too! ',\n",
       " '@KourtneyKardash yup night workouts r the worst but unfortunetly my work schedule only allows me to go at night  its tough!',\n",
       " \"Just called Hillsong again - they said they couldn't tell me where I was on the waiting list - I don't know if it's looking so good \",\n",
       " 'has 0g of milky bar left, and around 200ml of coke ',\n",
       " \"@jokerrrr It stillllll hasn't arrived \",\n",
       " 'Mraow, I feel like dancing, but first art school wants to rape me some more. ',\n",
       " \"@karenucol ah! I bet it does I've been like craving to play softball or basketball !!! But I have noo time \",\n",
       " 'Is terrified she accidentally deleted a reference in her management assignment and hopes she doesnt get in trouble when she gets back ',\n",
       " 'amazon s3 plugin not worked in my website . it need PHP 5 . but my hosting provider has only PHP 4.4  . very sad.',\n",
       " \"Argh! I was suuuper sleepy an hour ago, now I'm wide awake.  Hope I don't stay up all night. :-/\",\n",
       " '@austinhill I wish I was!  Sold out   If you have some time let me know, I would love to hear more about what you are up to!',\n",
       " 'Just watched tropic thunder. Dreading tomorrow ',\n",
       " \"@qweendassah no...he's still miss'n... \",\n",
       " 'ChiefDelphi is down ',\n",
       " 'http://twitpic.com/2y2wr - according to my bro, our new puppy had a poo fight and was covered in poop  (picture stolen from him)',\n",
       " \"playing game at home! my new boss didn't call me yet... \",\n",
       " 'Su yin Huen tweeted I feel unbearable guilt. I made my staff cry  http://tinyurl.com/cw2l9t',\n",
       " 'Poor Joshy is sick???   those damn tejanos!',\n",
       " \"My thoughts are with Sandra Cantu's family at this difficult and sad time \",\n",
       " '@FranzGlaus I know, just wanted to let everybody know what was happening  ',\n",
       " \"Michigan who?  I don't know them.                   *sigh*   Shameful!\",\n",
       " 'i have to fill two hours ',\n",
       " '@alicayaba so cuuute! hey, i miss you na!  its not the same not seeing you girls everyday ',\n",
       " '@JonathanRKnight Oh! Did I mention it? &quot;Gooooood Moooorniiiiiiing&quot;  from Germany! Im back in my cage....or better...my office ',\n",
       " 'throat is closing up and i had some string cheese. not a good idea ',\n",
       " 'Aww, Sandra Cantu is found dead in a suitcase  Missing children stories never seem to go good. Poor family.',\n",
       " 'wishing i was home underneath my covers ',\n",
       " 'walking home from school drains all my energy ',\n",
       " \"@ridley1013 I agree. The shapeshifting is a copout. I was so excited for Angela's ep, I thought it was this week.  Noah was awesome tho!\",\n",
       " '@SaveTheStrib Dang! I would have done this if I knew it was there earlier.  Any other outings planned?',\n",
       " \"I wish I was better at writing. It's taking me so long to write this paper. \",\n",
       " '..and of course... I have access to my Halo 3 Mythic Map Pack re-download.. but bad news.. not the Legendary Map Pack... ugh.. 600MS... ',\n",
       " \"@vene2ia ...not yet unfortunately, another few weeks I've been told  How are you? I've been a little bit busy with my latest project.\",\n",
       " \"@thecoolestout Ha the sun's already gone \",\n",
       " \"day 2. a lot harder than day 1. let's see how day 3 goes tomorrow. \",\n",
       " 'My man crush Jake Peavy let me down  #gayforpeavy',\n",
       " '@trishzw megafast trip, you have time during day tom/weds? Or, you going out tonight? Want to see you bad. Tried to warn you, tech fail ',\n",
       " 'michigan state you make me sad ',\n",
       " 'omg. my mouth is in so much pain  i just wanna sleep untill its time to take my braces off.',\n",
       " 'getting annoyed easily today  &gt;&gt;&gt; biofuel proposal: getting annoyed easily today  &gt;&gt;&gt; biof.. http://tinyurl.com/ceprvs',\n",
       " '@MizzChievouz Hey girl. The site is back.  Girlyvue is back and they have even more videos. ',\n",
       " \"@a5hleyf i'm spending time with my grandma early tomorrow and i can't leave skittles by herself. \",\n",
       " 'just got home from watching Michigan State get tromped!   ',\n",
       " \"Oh jew-bus! Two years worth of classes' work is ALOT to organize &gt;_&lt; i'm not finishing tonight, it's not possible...my bones ache \",\n",
       " \"@griffmiester no exchanging for me, my laptop hasn't arrived \",\n",
       " \"@hyperbets i hope this doesn't last too long.  i feel miserable!\",\n",
       " '@rcompo RACHEL! hang outage is neccessary - i was gonna be home this wekend but dumb folk make me work   so im free F and Sat until 4...',\n",
       " '@TheLeagueSF Not Fun &amp; Furious? The new mantra for the Bay 2 Breakers? It was getting 2 rambunctious;the city overreacted &amp; clamped down ',\n",
       " \"@amber_benson  my hubby (for some reason) thinks it's more important he has a good spot for red carpet for the Trek Movie Premiere. Sod!\",\n",
       " \"I swear no matter how long I've been getting up at 5am, it never gets any easier. Man my eyes hurts wah \",\n",
       " '@Jeffree_Star Jeffree! How do you keep your hair one color? My PERMANENT dye fades within the week ',\n",
       " \"@otakusecret my reaction too  whoa, didn't see that coming\",\n",
       " \"still sick. feeling a bit better, got some new medicine.... hope I feel good after a night of sleep. ohh, and it's suppose to snow! WTF! \",\n",
       " '@Dangerm0use I think maybe you should get a couple more hours of sleep, hon. How productive can you be right now if ur dog tired? I worry ',\n",
       " \"@maddyVA Thanks a lot. Learned a lot of new words but didn't find what I was looking for. \",\n",
       " \"Wish I had all the XBLM downloads all on the gamertag 'Hitokyri'. This 5 gamertag thing is nonsense... and I'm tired of it \",\n",
       " 'New Testament Test at 9:30 am   ',\n",
       " '@ScoutBuck tons no hay Troll? ahhhh ',\n",
       " 'stupid movies we watched... mirrors ugggggh... stooopeeed!!! rip off! ',\n",
       " 'http://twitpic.com/2y2yi - I love you, Buck. ',\n",
       " 'last one!!! but still not done!!! ',\n",
       " 'homework.... ',\n",
       " \"I don't understand why things get taken away. I didn't have enough time with him its unfair. I want him back!! He was like my baby \",\n",
       " \"Scratch that: du in heif (two in a half) cookies. My tum just can't take anymore shoog. Poots \",\n",
       " '@cococourtney i was just listening to the sweets for the first time in forever! i miss them so much  can we go to chi town for visits plz?',\n",
       " 'Geez what a busy afternoon. Meetings, emails, meetings and email and more meetings. 6pm and the day is still going! Ah its dark and ',\n",
       " 'DANG!!! ANOTHER SPRING BREAK!!!  HOW COOL IS THAT???  TOO BAD I HAVE TO WORK ALL WEEK  OH WELL, MORE MONEY FOR A PHONE.  ttyl EVERBODY!!!',\n",
       " '@Sara_Kate Im afraid too  ( ur reply about uni from ages ago',\n",
       " 'feeling down ',\n",
       " '@CarVin1 lol they are some emotional ass men!! Omg all this late night eating.. Both of us are broke ',\n",
       " '@nick_carter Aww Nick!! I like your hair longer, why did you cut it off?  Break. My. Heart.',\n",
       " ' wonder if Jon lost the net',\n",
       " \"Wow. The most depressing thing in the world is losing a video that you've created in a matter of seconds.  #FML\",\n",
       " '@nchokkan https://www.mycomicshop.com/search?TID=395031 But all says not in stock ',\n",
       " '@Poohpot lmao im sorry poohpot i ate it all! ',\n",
       " \"Any chance  Softbelly (for @MTUB) isn't loud? \",\n",
       " 'Time to move my posterior  and lose some fat. My articulation are creaking so no more running  but I�m drool for some swimming',\n",
       " 'listening to nathan cry.... ',\n",
       " \"today sucked. I'm gonna die without chris and callum!  wahhh!\",\n",
       " 'STOU site not update, no info about 2/2552 exam, and open course, I must wait for mail notices and doc. um... ',\n",
       " \"@ohsbrat30...I'm sorry. I'm feeling kinda yucky myself. 5am is going to come too quick \",\n",
       " 'is in love with scrappy and is missin him already ',\n",
       " \"wants to hear @seblefebvre 's song but myspace is messing with me \",\n",
       " 'Bad news was Dad has cancer and is dying   Good news new business started and  I am now a life coach practising holistic weight management',\n",
       " '@duchess_rebecca Man... intervention is soo sad ',\n",
       " \"HELP! I need a new boyfriend... I'm stuck in a rut \",\n",
       " \"I feel like a complete idiot. I'm the only one who doesn't get how this shit works  help me \",\n",
       " 'Saw an ad on Craigslist for a casting call for a female host on G4. I was totally psyched! But realized it was a hoax ',\n",
       " \"Pepperoni rolls in L.A.?: I called Valentino's - they said that they had sausage rolls but no pepperoni rolls  http://tinyurl.com/cec5ka\",\n",
       " \"@soillodge yes, it will be. it's only Monday \",\n",
       " 'i want the new GG episode already ',\n",
       " \"I miss watching Rocko's Modern Life. \",\n",
       " 'RIP Sandra....its so sad    how can someone do something like that??',\n",
       " 'Keeping my fingers crossed for my buddy    He is not feeling well.',\n",
       " \"Wait should I eat?? Or be skinny for vegas!! I'm hungry! \",\n",
       " \"@Marge_Inovera I tried tweetdeck once and I hated it with a passion. Or it hated me, I'm not sure... \",\n",
       " \"@benackerman BTW my iPhone is acting funny, dying quickly and freezing and BS.  I'm not admitting anything, just sayin \",\n",
       " 'Sitting here wondering why &quot;ED&quot; still has such a strong hold on me ',\n",
       " '@bananaface IM SORRY I GOT YOU SICK.  lol. going to bed too. NIGHT!',\n",
       " '@carolrainbow no Internet at home, have to drive into Ox to use Internet because of builders! ',\n",
       " '@Steve_Buscemi the weather in Canada is freezing ',\n",
       " \"twiggassssssss I been out of range all day  I'm back now and hopefully for good.\",\n",
       " '@danadearmond ',\n",
       " \"anyone who reads this pray for my Grandma. She's in pain \",\n",
       " \"#3 woke up and was having an accident - &quot;It's pushing, it's pushing!&quot; he was crying because he couldn't stop from wetting his pants.  \",\n",
       " 'Home from Franklin street, I almost jumped over a fire. Someone kicked it before I could.  Jenny lost her shoe.',\n",
       " '@johnnybeane hey! you just changed your default. ',\n",
       " 'Finally gave in and was bored enough to start this thing. I think the 140 is going to be a problem for me tho.  its like a myspace status.',\n",
       " '@ellievolia If oooonly we were really so lucky, eh? And awh  Definitely too early for work.',\n",
       " 'buttload of homework! ',\n",
       " 'needs another copy of visual studio 2008 ',\n",
       " \"why to we, the only school in the world, be in this week.My school is silly  anyway... look on the bright side. When i'm off, u will be in\",\n",
       " \"omg i've an economics test. and i dont know all the things i have to know and omg im gonna fail \",\n",
       " '@robcthegeek Once upon a time Hundred Islands was the pride of Philippine tourism, but coral/clam/rare fish poaching did it in. Kinda sad ',\n",
       " '@Henkuyinepu yeah, apparently i have really bad taste ',\n",
       " '@hummiemd I KNOW! I was really surprised since everyone recommends them on youtube.  I have to call them tomorrow and figure it all out.',\n",
       " 'Waiting at the airport for my ride while I get harassed by 2 men trying to sell me ugly hats.. Why me?!  I just want to sleep..',\n",
       " 'i left my IDs at the location and now i can not go out to bars  FUCKKKKKKKKKKKKK',\n",
       " \"@celycarmo i'm sorry I don't understand your last comment \",\n",
       " '@OfficialRandL when is the announcement? i stayed up late last night ',\n",
       " '@KishoreK this is strange, illegal torrents avlbl everywhere, legal DVD not in stock  What do I do now???',\n",
       " 'ITS NOT ENOUGH TO SAY THAT IMISS U #MissYou #SoMuch #Friendship #Forever',\n",
       " 'This trolley has up packed in like sardines! Padre game and they REMOVE a car?! Good call MTS ',\n",
       " '@RandomlyNat Jeez, I was just trying to help  Haha.',\n",
       " '@SupaMagg that happened to me saturday night. along with my glittery green lighter! ',\n",
       " 'trying to reduce the number of cigarettes in each day! ',\n",
       " 'yea it is so quiet around here cuz everyone has to work im bored to death with nobody to talk to ',\n",
       " 'gotta do my cooking assignment  its too hard',\n",
       " \"@treesahquiche okay, about the applepears, I've talked to a few people and they've ALL had them before. No one ever told me, never \",\n",
       " \"@jennifermf I know!  I'm a night owl by nature, hahaha Am I a time zone behind you? It's almost 1 here\",\n",
       " '@mamasvan lol - nope! but i did have complete #camerafail ',\n",
       " \"@maxime68 @megelder But! I'm useless if I don't sleep  It's not fair! I want all the fun as well!!!\",\n",
       " 'My Pookie has a UTI.  I have to be Nurse Gabbie and get him back to 100%!!! No more sodas!!!!!!!!!!!!!!',\n",
       " '@jillianfish tweet something damn it!  and hang out with me please? ',\n",
       " '@anistorm ',\n",
       " \"I'm SO behind in video games, and everything for that matter. I'm yesterday's news \",\n",
       " '@sleep_til_noon I did, it was the only one left but I got tempted and ate it soon as I got home  I had a chocolate velvet &amp; ate d mocha',\n",
       " 'Is stressing out because my blackberry keeps flashing a red alert status for no reason!! Its faking me out and I hate it!!! ',\n",
       " \"http://twitpic.com/2y34e - I wanna wear my Doc Martens out! Haven't worn them since December. \",\n",
       " 'When to the shoe repair shop and the guy could not find my shoes!  So I have to go back and see if he can find them in a couple days. ',\n",
       " '@B_Barnett I did not really see that coming ',\n",
       " 'just woke up from the most vivid, sketchy, not-cool dreams of my life. time to stare at the wall with the lights on. ',\n",
       " \"it'll take 3 days for my sister to get her passport \",\n",
       " '@nicolerichie OH MY YES!! i miss ',\n",
       " 'Uh oh... I think I am getting sick ',\n",
       " 'Good GOD they ruined my belly button!!!  ',\n",
       " 'Watching Who Framed Roger Rabbit. Makes me miss Toon Town. ',\n",
       " '@akianz renting.. but very cheap renting, and awesome house. We had 3 buying attempts fall through ',\n",
       " 'running nose + spinning head = not a good combination for a meeting! ',\n",
       " '@EazyDoesIt87 NEGATIVE.. you lost my vote of confidence ',\n",
       " 'Nasty budget due and my iphone is being sent to Apple today. ',\n",
       " '@Sofii_Noel that�s bad ',\n",
       " \"Dammit, episode 3 of Kings won't play for some reason  stopped in the middle now won't do anything\",\n",
       " \"I'm so upset that I missed my chat and quiz online because my free internet has ceased \",\n",
       " \"can't believe it! I'm in disbelief of it all in a way really. How much can I take from people and always get hurt by others!! \",\n",
       " 'Car show season has started without me ',\n",
       " 'my throat is raw. ',\n",
       " \"@KevChoice I just don't get it. What in a persons mind could even have them on some ish like this???  My prayers are with her fam for real\",\n",
       " \"@frago I hate you. I didn't need to see that. I need to call my therapist now. \",\n",
       " \"Twilight didn't come yesterday  fingers crossed for today\",\n",
       " '@NileLegania glad I was able help you feel better. I hate to see you sick  Love you!',\n",
       " 'is tireddddddd. want to sleep but i have an assignment to finish and an exam tomorrow to study for ',\n",
       " 'You know, I was thinking... I need money ',\n",
       " 'omg..its jst teusday ',\n",
       " '@ddlovato @David_Henrie ummmmm i cant find it. ',\n",
       " 'Just heard that they found Sandra Cantu... She was only 8 yrs old ',\n",
       " '@corrosivecandy Ive forgotten how to snoo-snoo  I wonder if snoo-snoo and I will ever meet again...',\n",
       " '@AmaNorris wow that last tweet made me seem like a giant sexist...sorry about that ',\n",
       " 'My bathtub drain is fired: it haz 1 job 2 do, &amp; it iz FAIL. I got all Drano on its ass, &amp; iz STILL NOT DRAINING. I wanna shower, dangit!! ',\n",
       " 'stuck at home ',\n",
       " '@nomadicmatt mine is 1/10  how do you get it up?',\n",
       " \"Duckling in famous children's book stolen from Boston's Public Garden - The Boston Globe http://tinyurl.com/dc2htx via @ShareThis OH NO!! \",\n",
       " '@Appomattox_News Thank you! However, I hate to be on the same list that includes 2 convicts.  ',\n",
       " 'Heading to Altrincham, again! Out of hours install ',\n",
       " 'MORNING!!! Good im bloody knackered!!! Work is not for me today  HELPPP!!!! xxx',\n",
       " \"@jeffreecuntstar  I don't have a garage.  But you can park in my driveway!\",\n",
       " '@lauredhel  What happened?',\n",
       " \"&quot;On popular music&quot; by T.W.Adorno is probably the most difficult reading ever prescribed, I'm actually struggling to continue \",\n",
       " 'http://twitpic.com/2y36e - cant see the flowers falling  i dont have a camera, just my cellphone',\n",
       " \"We've been good. I'm not liking the snow right now, was getting used to the nice Spring-like weather.  How about you?\",\n",
       " \"@brian_armstrong What a pity YouTube is currently blocked in China.  I can't see the vids. \",\n",
       " '@margaretcho what happened to your show it was the hightlight of my life ',\n",
       " \"This is the best leather sofa in the world!  It's in the office though which means I'm still here working \",\n",
       " 'Still 3 more days until my Internet gets uncapped ',\n",
       " \"If he doesn't get better in a few days, he could have something lodged in his belly \",\n",
       " 'i Love my atekinzz so much. &amp;&amp; i soo miss her.. ',\n",
       " 'I wanna sneak into the zoo and play with the kitties ',\n",
       " \"@lolitariot oh no  hope you're not getting sick too!\",\n",
       " '@alejandralei i dont think i can cause its my cousins birthday party ',\n",
       " 'Our sweet little man just fell asleep while waiting up for daddy and big brother to get home!  Poor baby, he missed them so much today!',\n",
       " 'the angel is going to miss the athlete this weekend ',\n",
       " 'trust is hard ',\n",
       " 'have watched that considering today. yaknow. shawnna tomomorrow;i need my bestfriend ',\n",
       " 'Grr i want to keep reading but if i do i wont have anything left to read ',\n",
       " 'atekinzz, where in the world are you?? ',\n",
       " '@RumLover No! u supposed to be my date ',\n",
       " \"pears &amp; Brie, bottle of Cabernet, and &quot;Win a Date With Tad Hamilton&quot;... oh gawwd my life flashed forward to when I'm 40 with my 75 cats \",\n",
       " 'Crap. I need more dresses too. ',\n",
       " '@kaeeeep yeah! i know! it was horrible!!!! ugh. saddening. ',\n",
       " '@Brodhe geez ur no fun are you ',\n",
       " 'I wanna be in a punk rock band again ',\n",
       " \"@jyesmith That's a lot of angst for a Tuesday afternoon \",\n",
       " \"I'm very glad Britney isn't crazy anymore! That was one hell of a show! Now I'm sad that it's over.  Next up...AP at Cook County!\",\n",
       " 'has a huuuge headache! omg I feel like crap! ',\n",
       " '@Anistorm Sorry ',\n",
       " '@cleders sorry...i was rooting for them too... ',\n",
       " 'Man, that took forever. ',\n",
       " '@shandasaurus  I see.',\n",
       " 'I am listing more items on ebay to sell!  Takes forever..meanwhile Coleman is watching The Hills season premier without me.. ',\n",
       " \"Just got my presentation done, 23 slides done...  I'm crying for this week will be the hardest of all weeks.\",\n",
       " 'Just lost $160 ',\n",
       " \"I don't like the previously on skins thing that starts at season two. I like it when it went straight into the intro like before \",\n",
       " \"@Houndour ...i wish i was there...i'm pretty good at scaring the shit out of people \",\n",
       " 'Going to sound vain... but running out of my fav lip gloss ',\n",
       " \"@stuiy never again will I click on a link that screams, &quot;I'm a spider, I'm a spider&quot;. I should have known better. yucky \",\n",
       " 'Why is that when you have time off from work you get sick? ',\n",
       " '@pratama Same iMac came out $320 more in Indonesia than the States. ',\n",
       " 'Dammit... I need to stop buying furniture ',\n",
       " '@Miss_Sil no i was half asleep and turned off the laptop after that ',\n",
       " 'Death is peaceful,  life however, bites ',\n",
       " ' i think @JonathanRKnight lost the net ? sure hope not',\n",
       " 'http://is.gd/r8Zf,  http://is.gd/r8Zy, and  http://is.gd/r8ZG - test footage with my girlfriend (in HD) The dark one is underxposed ',\n",
       " 'Such a tough game to watch tonight for State  Finally going to bed after also staying up to watch the season premiere of the Hills!',\n",
       " 'Seems jRuby support for hpricot is now two versions behind ',\n",
       " \"@JinxCat Unlike my sister...I still don't have one \",\n",
       " 'Fraking app store is pissing me off   http://tinyurl.com/c4ooho',\n",
       " 'Logging out. I need to study.... ',\n",
       " 'anyone else having problems accessing TTB??? I cant get on!!! ',\n",
       " 'I strongly dislike people who make stupid comments and dont know the whole story ',\n",
       " \"@emmaketurah  i'm sorry Emma, is swarley a goldfish? i'm sad for u.\",\n",
       " \"All my tweets are already gone, aren't they  Missed you guys tonight.\",\n",
       " \"Can't sleep again. Face is kinda swollen. Don't let me be allergic to the thing that'll get me to Thursday. School tomorrow? Doubtful. \",\n",
       " \"@Snick_the_Dog If Izzy's on the cat tree, she'll stare him down, but if she's on the floor, he chases and she runs. \",\n",
       " \"I am officially banning godaddy.com from my comp. My head hurts from the small print AND I wasted $10 that could've happily gone to Boba \",\n",
       " '@HumanOpium pretty much just scary for me ',\n",
       " \"@ilovepie mines too... I'm finding it well hard to get fit... \",\n",
       " 'Good morning! Ready 2 go, but I want 2 go back 2 bed ',\n",
       " 'hates waiting for mails ',\n",
       " \"wheat bread from the dollar store just doesn't toast nicely  going over my taxes and calling it an early night\",\n",
       " \"Why Kutner? I mean I knew something was going to happen to someone but it was so sad. I &lt;3 House and it was well done, but I'm still sad \",\n",
       " '@JonathanRKnight aw ok goonite....  ',\n",
       " 'ill so i cant go to the cinema!! ',\n",
       " \"Fell asleep . . . Really didn't mean too  *christina*\",\n",
       " '@KelleyRowe hey, you remember that time we used to be friends?? ;)  ugh. vomit. sick.  i need sleep ',\n",
       " \"my lymph nodes are as massive as rahm emanuel's balls right now \",\n",
       " \"Oh no my computer sucks. I don't think i'll be able to listen to the Xbox 360 Fancast tonite \",\n",
       " 'is missing playing my trumpet ',\n",
       " 'My throat is still really sore. I was meant to be going on a 5 day camp from Friday but not so sure now ',\n",
       " '@sasii I know exactly how you feel! ',\n",
       " 'At work ',\n",
       " 'Well bed time now. 1 am. *sighs* Back to 6 am mornings for a week on Wednesday. ',\n",
       " '@hert Jesus Camp? Yeah... ',\n",
       " '@MaryBethune oh no! with everything that happened today, i forgot we were going dress shopping for the opera tomorrow. ',\n",
       " 'Turtles are better than my Mac - lasts longer and moves faster ',\n",
       " 'I am soaked. This is not pleasant ',\n",
       " '@ginayates Sorry to hear about Maggie.    Thoughts to your mum.',\n",
       " '@ewarden, you may have to email this one to me  I hope you feel better.',\n",
       " '@miamiiboii dead @ yu gettin on wen im leavin ',\n",
       " \"@arlenecd PLEASE TELL ME THAT'S SOMEWHERE CLOSE TO CALIFORNIA!!! LOL! \",\n",
       " '@phlaimeaux where are you? ',\n",
       " \"stupid arranged marriages... i'll convert so you can marry me...love you! \",\n",
       " '@emilyruppe Well he said that he is a looser, and that is what the show implies ',\n",
       " 'Poor Sandra Cantu &amp; the Cantu family! My prayers go out to them! What a sick world we live in. She was only 8 ',\n",
       " 'fuck omg  austins always there though man &lt;3 love you',\n",
       " '@nicolerichie I cried so hard when Matthew died ',\n",
       " \"sad that the 'feet' of my macbook just fell off : sad that the 'feet' of my macbook just fell off \",\n",
       " \"@chordsy - why am I the last to find out about these things? Like that you're on the twitter too. \",\n",
       " '@lovebscott absolutely not!! ',\n",
       " 'http://twitpic.com/2y3cf - Filled with curry  the true indian in me is coming out',\n",
       " 'im soooo cold right now ',\n",
       " '@heidimontag lol I kant believe cam got beat upp sooo embarasssiiiin ',\n",
       " '@JonathanRKnight Good Knight hun! Looking forward to ur tweets again! Hate that i keep missing out on the fun cuz of the time difference ',\n",
       " 'Tumblr: This is exactly how it feels wearing a �tie�  http://tinyurl.com/c8bvqh',\n",
       " \"@daniela_95616 hahaa!! i just realized &quot;impune&quot; definitely isnt the word i wanted... dang. i'm so unclever. \",\n",
       " 'watching old videos of dance team and such... makes me miss it  ',\n",
       " \"Wahh  no CSI anywhere! DVR'ed I Love Money 2 though - gonna watch it then sleep - Goodnight Tweeters&lt;3\",\n",
       " 'Struggling hard with Inventory ',\n",
       " \"@ddlovato Do you hate us?? Please don't \",\n",
       " '@ballinbitch haha im not THAT ballin. I still got bills to paaaaay ',\n",
       " \"I'm in one of those days when I really just want to work from home.  Crap. \",\n",
       " \"@paul_e_wog Wait...is it a game or just episodes? I'm so confused. \",\n",
       " '@carlyw66 HAHA. I cried...  I guess he did....',\n",
       " \"I don't get statistics!  Its all a bunch of mumbo jumbo for me.\",\n",
       " '@sloanb Got it, sadly, only works for UK &amp; US at the moment ',\n",
       " 'Evicted ',\n",
       " \"doesn't enjoy learning CSS. \",\n",
       " \"@nachojohnny Brian don't make me fuck u up LOL I replied 2 ur message...did u get my # ? I miss u \",\n",
       " \"@heidimontag I  dvr'd it and went to watch it, apparently the dish network went down SO I MISSED IT    I will have to catch a rerun!\",\n",
       " '@JessDubb lmao. U may have to wait for another season to come thru. its summe boo. Hot nd dry ass weather ',\n",
       " \"@LizChavez I can't set my feet on the ground. The missing eyelid people might get me!  \",\n",
       " '@daniela_95616 my english professor would be ashamed. ',\n",
       " \"[-O] I wish the frogs weren't becoming extinct    http://tinyurl.com/cxe8w7\",\n",
       " 'Came home from Cross County, Tired as ',\n",
       " \"I don't want to walk home in this snow. Who wants to pick me up? \",\n",
       " '@heidimontag Lauren is being stubborn. she loves you, you love her.  I feel so bad for you, though. it made me cry  lol!',\n",
       " 'is grouchy. and wants bmar ',\n",
       " 'my heart is broken every morning dropping Foo at pre school, now i understand when moms say &quot;he has my heart broken&quot;. ',\n",
       " 'Not feeling well and back hurts ',\n",
       " 'Im in the mood for some chocolate. I want..... Miniature Reeses cups. Now ',\n",
       " \"I can't take this heat! It's like an oven in here. I feel sick nwo \",\n",
       " '@nick_carter Come to the chat  just 15 minutes  please? http://fanclub.backstreetboys.com/chat.php',\n",
       " 'Boredd. Colddd @blueKnight39 Internet keeps stuffing up. Save me! https://www.tellyourstory.com',\n",
       " \"I had a horrible nightmare last night @anitaLopez98 @MyredHat31 which affected my sleep, now I'm really tired\",\n",
       " 'im lonely  keep me company @YourBestCompany! @foxRadio https://radio.foxnews.com 22 female, new york',\n",
       " '@Born_4_Broadway Lost  and it was St. Ignacius Prepatory School. Haha.',\n",
       " '@birutagme yeah  it was really depressing... stuff like that gets to me',\n",
       " '@whoisariston No problem, tongue-in-cheek remark.  Lots of acronyms, but no NZ ',\n",
       " '@greggrunberg hey you said matt was gonna go all ballistic... i was disappointed  good ep tho mostly',\n",
       " 'ugh horrible ending to the sandra kantu story  prayers go out.',\n",
       " \"@danielledeleasa http://twitpic.com/2y1pe - I hate 2 B allergic  i want a puppy soo bad that i've already thought some cool names\",\n",
       " 'Morning folks 7.00 am ..yawn! Up &amp; away to see to horses - hope Twitter is better behaved today!  Last night was a travesty ',\n",
       " '@QuanDotCom I miss mine too! ',\n",
       " '@AmandaEnglund Sorry to hear about your loss.     There have been many this year so far.',\n",
       " '@nicolerichie Gossip Girl was a repeat ',\n",
       " '@InYourEyes2410 I reckon ',\n",
       " 'finding it really hard to use twitter ',\n",
       " \"I've been stuck in this house for two days \",\n",
       " \"is really sad and doesn't really know y!!??!!! \",\n",
       " '@thousand_miles no ',\n",
       " \"Maybe one of these years I'll get a tax return.  A girl can dream, right?\",\n",
       " 'Back at work, tired as hell and i feel a cold coming ',\n",
       " \"@clarianne @Knot2serious APRIL 9TH ISN'T COMING SOON ENOUGH \",\n",
       " \"@hannahsix cream for his eye and he may have herpes - not ocular herpes, but a different strain.    He's doing okay though.\",\n",
       " 'gotta repeat  whole art folio cuz old one with a whole terms work got wet ',\n",
       " \"I'm ready for the weekend already. It's only Monday. \",\n",
       " \"@lovebscott umm nope..think im an insomniac ..plus i got the flu...i'lll be sleepin like a phuckin fish outta water any minute now! \",\n",
       " 'has Finland sleeping for the night, not really enough time ',\n",
       " \"@lunafiko can't wait to try em but prolly have to wait until next weekend at the earliest \",\n",
       " 'Shiner is taking up all my bed and blankets! ',\n",
       " \"@clarianne APRIL 9TH ISN'T COMING SOON ENOUGH \",\n",
       " 'wants to cry ',\n",
       " 'I need to go to the bank tomorrow before I go broke... ',\n",
       " \"This earthquake in italy has me sadden.  it's only three hours away from naples, where my family is \",\n",
       " 'i should be sleeping, i have a stressed out week coming to me. ',\n",
       " '@dragoneer Yea   I am working tp hack my server to do the 12player thing for folks',\n",
       " 'has hurt her ankle!! and is going to the dr ',\n",
       " '@raymondroman oh noes. how did you manage to send something to the trash can AND empty it without noticing! i feel for ya ',\n",
       " \"Lost my free copy of radioactive so can't put it on my ipod grr!And i can't go out + buy 'nother coz it came with that paper \",\n",
       " 'doing make up shit ',\n",
       " 'Photoshop, I hate it when you crash ',\n",
       " 'vacations makes me feel sick! ',\n",
       " \"you shouldn't have gone \",\n",
       " 'listening to Murd and 9th wonder- just chillen out missing my crazy sex life  ',\n",
       " '@louie094: shooting!?!! be careful, luisa ',\n",
       " \"@hillary006 I'm sure everyone has ruined my gift to you  Whitney has my serious Cell #...We doing easter as well?\",\n",
       " 'is at Beso in Hollywood... so tired ',\n",
       " \"I don't want to wake up early tomorrow.  Damn you, work!\",\n",
       " 'just finished watching the movie Prayers for Bobby. Broke my heart ',\n",
       " '@syekr is myki really horrible? ',\n",
       " '@stephenkruiser i had 2 put my dog down today too  someone ran her over',\n",
       " '@NevadaWolf Sorry to hear about your DNF run tonight. Always a risk to get bad coords on an FTF!! ',\n",
       " '@Honey3223 I did get some disgruntled people when I wrote my ESN, but the 1000 hits in one day made up for it. Bill pulls in 250 tops ',\n",
       " \"@moony394 OHH! OMG. LMAO. I'm crying right now, LOL! KUTNERRRR was the best! \",\n",
       " 'came back from running and took a shower...why does my lower stomach still hurt after exercising? ',\n",
       " 'watching Fallon with mom and working on a project...school is hard ',\n",
       " '56 min till home time and counting! I have a craving to visit the MAC store but they will have closed by the time I get there ',\n",
       " '@stephenkruiser I am so sorry to hear that!  Take care!',\n",
       " '@PaulColes  hmmm...greed is good when it motivates the individual to do better-not so much when it takes away from others ',\n",
       " \"@GABBYiSACTiVE brat! You have to rub it in, don't you.... I want a mocha \",\n",
       " \"KUTNERRRR!  WHY??? WHY??????  And to think that 13 is still on the show?? UGH. Kutner/Kal Penn - you've been the bright star in Ho ...\",\n",
       " '@redvinylgirl my mom has it. I wish you the best of luck ',\n",
       " 'I so hate homeworks -.- My head hurts so bad ',\n",
       " \"got the ebay blues! item i want jumped from no bidders to over $100 in an hour.. still has 3 hours to go. i'd better not get my hopes up \",\n",
       " '@gigdiary I know -  was a little depressed that we ate so much last night there were no leftovers today ',\n",
       " 'well the pc in my living room suffered a fatal partion lost, all my itunes library is gone.. and some docs with pics.... ',\n",
       " 'sad day: manu out for the season ',\n",
       " '@stephenkruiser You poor spunky...its so sad...my Rotti made it to 10 and I had to go down the same path....I know how you feel ',\n",
       " 'im sooo sad right now  i need a hug',\n",
       " 'wants her step brother home  im so worried, you dont even know. i hope he knows how much i care for him...',\n",
       " '@heidimontag just got done watching the hills! loved it! excited for the next episode! and im sad this is the last season! ',\n",
       " '@ryanmwilson aww that stinks!  *hugs*',\n",
       " \"I'm tired. I feel like crap. And the world feels all crummy. Make me happy, USB disco mouse. \",\n",
       " 'i dont want to believe what im reading...buu,so sad ',\n",
       " 'Wondering why gamebattles is down ',\n",
       " 'White trash vs us... We were outnumbered.  http://twitpic.com/2y3jp',\n",
       " \"@emitstop So true, I have it and don't use it \",\n",
       " 'Spring break is here at last, but no one is here to celebrate ',\n",
       " \"Morning! Bah Car won't start.. waiting for the ANWB.... \",\n",
       " \"@katebornstein which is pretty anti memorial tattoos   but for all but the strictest, there's no official BAN, just disapproving family\",\n",
       " \"Balamurugan, a longterm member of the team is leaving this month. We'll miss working with him  hope he does well in his next venture\",\n",
       " '@JustGelo Its sad knowing how they found her body. What a crazy world we live in. No child deserves that ya know. ',\n",
       " 'I wanna rock a Maxi dress @ Coachella, but lacking funding ',\n",
       " 'Of course the baby is screaming in the crib the night before my first day back at work.  So I let him cry it out? Boooo',\n",
       " 'I am home missing my baby  Busy week ahead Fri is a chill day with my guy and kids, Egg hunt Sat, Spiral and DMB Sat night and Easter!',\n",
       " \"@FollowSavvy I never found her. everytime I click on her twitter thing through your myspace..... it goes to some dude's page \",\n",
       " \"@stephenkruiser that's horrible  sorryto hear that.\",\n",
       " \"@David_Henrie i cant find it! it says dtmafiaofficial doesnt exist!there's jus 1 dtmafia i found n u dun seem to b followin it  wht to do?\",\n",
       " 'i thought you would support me on this ',\n",
       " \"augh, eff sarth  i stole some of MIL's nail polish, its pretty! =o\",\n",
       " \"Wishes I was on the Spring Fling Tour with Dawn &amp; neecee Sigh  G'knight\",\n",
       " \"The Hoyts Distribution NZ website isn't working for me. Great. And it HAS to be like this when I need it most \",\n",
       " \"@crummyasshole i don't like that they only had him in the first movie  cillian murphy is hot \",\n",
       " \"wishes for good old cartoons to come back. ie: Captain Planet! Where's Wally! Daria! (sadness  )\",\n",
       " 'not feeling v good abt myself ',\n",
       " 'i just got a text from sarah ',\n",
       " 'Another day at centre point - this time an early start so guessing train will be rammed with commuters ',\n",
       " 'Four games this fall: Modern Warfare 2, Halo 3 ODST, Brutal Legend, and Bioshock 2 I need more cash ',\n",
       " \"@d_castillo ugh, that's disconcerting \",\n",
       " '@Devinthedude007 actually the whole site has finally been taken over by those damn russians ',\n",
       " 'MY TWEETS ARENT GOING THROUGH ',\n",
       " \"Just finished a delicious breakfast, my last in Paris  I'll miss milk, europe has the tastiest milk in the world, I don't drink it in US.\",\n",
       " 'iLearn is down and out, great considering finals are this week... ',\n",
       " \"@Carmonium i'm stressed outttt \",\n",
       " 'Also I shouldve Bern asleep an hour ago ',\n",
       " 'trying to figure out this twitter thing...none of my friends are on  yet. Soo much to see.',\n",
       " 'Re-pinging @Kyle44: Custom icons I made! =] look cool but the edges could be less square  might look bad on a diff background',\n",
       " 'I want to be back in LA ',\n",
       " \"@enterbelladonna i dunno how to use the forum and i get frustrated with it. i'll miss talking to you on here. \",\n",
       " '@lilbucknuts41 not an option ',\n",
       " \"Unfortunately one of those moments wasn't a giant squid monster. User_mentions:2, likes: 9, number of retweets: 7\",\n",
       " '@thestar_rage I want one too    is the branch in MidV open too?',\n",
       " '@daNanner aw, sorry to hear that. ',\n",
       " 'Change of plans, we ordered Macs instead. Time to hit the books! ',\n",
       " '@polhillian YUP. ',\n",
       " \"@NKDreamer did you see Donnie's tweet stats? almost 700 @ replies...and no JRK \",\n",
       " \"@tim_grainger nah, I haven't received my stimulus yet \",\n",
       " '@ikimb0 i just seen ur tweet . plz write bak if u get this. i havnt got one reply bak ',\n",
       " '@McCainBlogette Awwwww and you were trying to go to sleep 3 hours ago ',\n",
       " \"@stephenkruiser I'm so sorry to hear that.  It's always sad when we lose those close to us, as we loved them.\",\n",
       " 'cant sleep but im still feelin like a piece of shit ',\n",
       " \"@stephenkruiser oh  my sympathies. it's a hard decision. i always hope my old border collie will go in her sleep. she's 14 too. *hug*\",\n",
       " '@josephheustess ...well there was this really cool part where... i wont spoil it ',\n",
       " \"@limbecky I'm doing the time warp without you and am sad. \",\n",
       " \"@theresawhite this is true, lol but it's still a slap in the face after such a warm end of march \",\n",
       " 'I hate converting movies just to put em on my itouch ',\n",
       " 'gross i have a pimple ',\n",
       " \"@Torturedlady yea  ma'naaaaaaaaaaaaaaaaaaaam (marwan accent) lol\",\n",
       " 'one less follower tonight ',\n",
       " '@Unholyknight so did your mom last night.  brb while I figure out whether I just burned you or myself the most.',\n",
       " 'I feel like I am the only &quot;twitterer&quot; not on TweetDeck. ',\n",
       " '@Wyldceltic1 He has Karate tournament in 8 weeks  ',\n",
       " \"going to sleep can't be up until 1am again...and no I didn't finish my statistics homework! \",\n",
       " 'North carolina baby!! Aint nothin stopping them but the nba draft ',\n",
       " \"Can't sleep again \",\n",
       " \"I reaaly miss john mayer's twitters.  fuck rude people. Remove him if you don't like his tweets, bitchfucks.\",\n",
       " 'is going to have a late one at MQU today ',\n",
       " 'im so tired of work...i need a life.... ',\n",
       " 'just leavin work, my feet hurt ',\n",
       " '@PlayRadioPlay that was so sad and unexpected.  i totally cried haha.',\n",
       " \"Superneej: Morning! Bah Car won't start.. waiting for the ANWB.... \",\n",
       " 'Still doing my homework!!! ',\n",
       " 'A little sad ',\n",
       " '@deepbluesealove My Mom &amp; Dad both get up around 6...too early for me ',\n",
       " \"should've been asleep two hours ago \",\n",
       " '@stephenkruiser So sorry to hear about your dog. ',\n",
       " 'Funny how the little things make me homesick, criminals breakn n2 a brownstone on LawNOrd CI made me misty ',\n",
       " '@djsoulsister yeah, great vid. I had the 12&quot; single, but sold it a few years ago ',\n",
       " \"im on val's mac in iitsc clubroom. still sweating \",\n",
       " \"@stephenkruiser awww so sad!!!  I'm so sorry!!\",\n",
       " 'UpdatingFFE.  That gives me nothing to do for a good twenty minutes!',\n",
       " 'Hot compress not rily workng for pulled muscle  gng to bed, good night',\n",
       " 'Have an invite for &quot;Healthy Dining&quot; session at Ashok Hotel today with Exec Chef R.Chopra but damn workload - will have to skip it! ',\n",
       " \"@stephenkruiser I'm so sorry to hear about your dog   wishing you happier days to come!\",\n",
       " \"@hellivina I miss 'em too. \",\n",
       " '@misstoriblack cool , i have no tweet apps  for my razr 2',\n",
       " \"I'm off too bed. I gotta wake up hella early tomorrow morning. \",\n",
       " \"still procrastinating... i hate organizing my clothes  there's just so much....\",\n",
       " \"Just been playing with the new Mobbler v0.4.0 and it adds some great new features, but won't play music on my E71, like v0.3.5 did \",\n",
       " \"@latroneb oh but there's one bestie missing \",\n",
       " \"@esuriospiritus time to come back to flawda for double dates! no, seriously, i'm sorry to hear that. \",\n",
       " \"I'm up way to late to be working for a client 12:10 AM  #fb\",\n",
       " 'blegghhhh i have to go to work ',\n",
       " 'Back at work  @ John Muir Dr http://loopt.us/KoqAbg',\n",
       " '@DAChesterFrench I emailed you yesterday and u never responded ',\n",
       " \"It's going to be a long year for A's fans. \",\n",
       " 'Just got done watching the new House episode.Definitely one of the saddest episodes ever. ',\n",
       " \"Man... taxes suck.  I'm horrified that i did something wrong on them.  TurboTax decided to keep around a lot of the stuff I turned off.  \",\n",
       " 'Sleep time.  Tomorrow is gonna suck ',\n",
       " \"WTF Not Kutner!  Oh I'm so pissed @ House.  I mean really WTF   \",\n",
       " '@AmberPacific i know i dont know why i said that ',\n",
       " 'CASH RULES EVERYTHING AROUND ME ',\n",
       " 'Just picked up some oats from the market to eat for breakfast with my boy @adamgoldston now time to do work at USC... late night ',\n",
       " 'i feel sick  too much icecream',\n",
       " \"@faithgg45  this computer doesn't have shockwave...blah  no account yet\",\n",
       " '@RubyRose1 awww wish i could go! but its in sydney ',\n",
       " '@luxuryprgal hahaha suriously! I feel like everyone knows this show is a joke except lc! ',\n",
       " \"I just can't spell today, i totally suck \",\n",
       " 'are you vaccinated against chicken-pox?should I vaccinate my 3 yr old?I am SO confused about this damn thing ',\n",
       " '@ school  at least last day!!!!!!',\n",
       " \"Yawwwn! Gotta get up early tomorrow  who's ready for the weekend???\",\n",
       " 'i miss being at home for calving season...sad that black one died this morning  wish i had some bottle calves!',\n",
       " '@stephenkruiser i so sorry for your loss. my brother dog sam is sick w/cushings disease. ',\n",
       " 'Back to work. I get to spend the next 8 hours alone in the dispatch room ',\n",
       " \"there's a new kind of starburst: favereds. sounds fab, bc cherry and strawberry are MY fav red's but they added watermellon and its yucky \",\n",
       " 'Well, so much for being productive on my 2 days off from Angels ',\n",
       " '@andreabakes Oh gee - insomnia sucks   Have you tried melatonin?',\n",
       " '@vivekg86 Good to hear that we have support in NetBeans. But then its NetBeans you know ',\n",
       " '@heidimontag I wish we would get it the same time at the rest of world. unfornately I am in Cairo and have to wait for mtva to play it ',\n",
       " 'heartbroken over little sandra. prayers are with the family. ',\n",
       " \"@hadtobeyou I'm at 900 words, it's all can do  I'll finish tomorrow maybe\",\n",
       " '@shortiethug how come ur background covers the screen but mine is in the corner? ',\n",
       " 'Wrote exactly three lines of dialogue tonight, then gave up. ',\n",
       " \"@ashman01 My only complaint about Facebook is they've changed it so much it's confusing \",\n",
       " 'Sliced my finger ',\n",
       " 'going thru town and traffic on bypass is stink ',\n",
       " \"Ugh can't sleep.  Wish i had a good cuddle to  Make me ass out \",\n",
       " \"I hate when software update downloads updates without telling me. I never know what's downloading when it is \",\n",
       " 'went to ihop again. Great for a diet   At least there were no kung foo pancakes this time. -Rachel-',\n",
       " \"The internet is hating me. Night i s'pose. \",\n",
       " \"@contactabe I'm so jealous.  I missed all of opening day this year \",\n",
       " \"It's so cruel having to wait for reviews to come in.  So far it looks like Star Trek will be the best film of the year!\",\n",
       " 'Debating if I should just shower now, so I can sleep a little later tomorrow ',\n",
       " 'My stress always culminates with physical pain.  ',\n",
       " 'need to sleep. but cant ',\n",
       " 'my little pinky finger hurts so much.. ',\n",
       " \"@sarahsaturday I'm sorry your gift card ran out.... That suck. \",\n",
       " 'home for spring break. no one is home tho ',\n",
       " \"I accessed oneindia.mobi from a Google phone (Android). It doesn't support Indic languages \",\n",
       " \"Why does school take over your life so much you don't get sleep anymore  .. I am still doing school work and have more to do as well\",\n",
       " \"@MTsiaklides aw I wish I could! I can't really speak to my yia yia because she doesn't speak english \",\n",
       " '@winggato no free comp lol ',\n",
       " 'getting ready to clean the house from top to bottom ',\n",
       " 'crying  my friend is moving away tomorrow ',\n",
       " \"@swiftkaratechop STOP NOMNOMS!!!! ..you didn't share!  Night peoples!!\",\n",
       " 'thinks she is getting a cold that she caught from Daddy.  Oh no, my trip would be ruined. ',\n",
       " '@moony394 yeah  is it bcoz kal penn is a visiting lecturer somewhere n cant be on the show anymore? im gonna miss him ',\n",
       " \"So the procrastination starts early in the quarter. I don't want to reaaaaad and write a paper \",\n",
       " \"What? Apparently it's 52 degress at 11pm in Washington State. I miss winter already \",\n",
       " 'being bored at homee ',\n",
       " 'He#newHis%newTin love with$newPscrappy. #8break%He is&newYmissing him@newLalready',\n",
       " \"@nick_carter I will wait for you at fanclub chat.. even tough you're not my favorite \",\n",
       " 'has a mild left inner ear infection.. and its got this irritating &quot;blocked&quot; feeling since sunday.. ',\n",
       " '@JaneBodehouse Hey there! Nope. My cuteness @HoytFortenberry is away for awhile ',\n",
       " \"It's only tuesday \",\n",
       " \"Haha not even yo. I just didn't know how to do that @thang to you on twitter  Haha\",\n",
       " 'Someones alarm clock or a phone woke me up at 3am...Still got my headache from yesterday night ',\n",
       " '@kalichosich awww poor puppy is she ok? ',\n",
       " 'i might break down and eat some buffalo wings tomorrow ',\n",
       " \"Sittin here w/Kayla, I really really reallly dis-like having a brother.  He doesn't know when to stop. I'm waiting for the day when one of\",\n",
       " 'Fed bokkie too many birthday treats-sicko ',\n",
       " \"'s Kinda Bummed. An Agency Just Told Me That I Didn't Have The 'LOOK' That They Were Going For. Ladies, Please Help Me Create The 'LOOK' \",\n",
       " 'Work laptop is officially dead .. Not happy at all.. ',\n",
       " \"My goodness, it's freezing down here !!!!! \",\n",
       " '@heidimontag why do you put up with him!!!!!  You should listen to your mom ',\n",
       " \"is stucked in Paris and can't even travel into France (for work) \",\n",
       " \"@JoannaFBeckett, i don't think there's one close by. Last time I checked, the closest one was 70 miles away! \",\n",
       " 'AIshadowhunters.txt aaaaand back to my literature review. At least i have a friendly cup of coffee to keep me company',\n",
       " \"ouMYTAXES.txt I am worried that I won't get my $900 even though I paid tax last year\",\n",
       " 'Okay, so.. STILL NO SCHOOL!!!! ',\n",
       " 'IS PHONELESS  ...NOW OFF TOO SLEEP',\n",
       " 'Reeked of alcohol at the dentist this morning + was drunk when i put on my tshirt, realised it had a huge stain. Dentist looked disgusted ',\n",
       " 'it is really cold ',\n",
       " 'cant sleep  she wants to dream!!',\n",
       " \"Can't sleep  I hate these nights when I try to go to bed early and stay awake for hours. Poo!\",\n",
       " '@rootbeersoup Yeah. Too bad people like a certain burrito-eating man exist. ',\n",
       " \"@Cronotriggers  that's sad.\",\n",
       " 'just found out that my mum  and my adopted auntie are on twitter.. check them out my mum is TessM64 and my awesome as auntie is tania38',\n",
       " 'Cannot sleep....WIDE AWAKE!!...and I gotta go to work later too. Boy, am I going to have a crappy day. ',\n",
       " 'struggling with eam law ',\n",
       " \"Why can't I sleep like her  http://twitpic.com/2y3ty\",\n",
       " \"Bouts to start 24. Poor linny couldn't keep her eyes open.  she tired and has to work tomorrow morning. Night @ilovefatsusan.\",\n",
       " \"My 4 year old (18 year old) is driving me around the twist...i don't want to be like this \",\n",
       " 'Well, that sucked. ',\n",
       " 'i have to be out of my place in 3 days...any help i can get packing/painting/cleaning is much appreciated. oh. and RIP my wall  ',\n",
       " 'Opening a partially frozen beer= Beer on the toaster, under the oven and all over the counter. The kitchen smells like we run a speakeasy ',\n",
       " '@stewiebrittany no  i dont even know how to ride it',\n",
       " '@MonaSmith sadly, yes. i think i need counciling now ',\n",
       " \"making myself ready for school...don't feel like going, but have two tests \",\n",
       " \"Smugness gone. My train also failed to turn up so I'm heading for Victoria followed by an unpleasant tube ride to the City. \",\n",
       " 'Anybody know where my iPod went? ',\n",
       " \"aww this earthquake in Italy has made me sad  just saw the pics on the news, it's terrible.\",\n",
       " \"@lilibat never been able to afford to get them out. I'd much rather go through the extraction than continue with what I deal with now. \",\n",
       " ' Why do other pet care people try to run others out of business? Or send suspicious e-mails fishing for info?',\n",
       " \"@kameelahwrites &lt;33 codez....they've been MIA tho \",\n",
       " '@reannaremick doesnt work on my cell  go to sleep! =P',\n",
       " \"it's going to be nice again tomorrow and then the rain comes back. no nice weather for my birthday \",\n",
       " '@taliasunset rock band is hard..on expert!!! ',\n",
       " '@beachbassbone: roomie was home all day. All he had to do was scratch at the door. Comforter has to goto large laundromat machines. ',\n",
       " 'One of the hardest thing with this schedule, no one I can chat with at the end of my day usually ',\n",
       " \"they killed off a character on one of my favorite shows and now i'm upset \",\n",
       " 'jealous of my friends who got to see the new Star Trek film in Austin tonight. ',\n",
       " 'Listening to Q! I got a really bad headache and a drivin lesson in ten mins.... Lucky me  i just wana sleeep!  ',\n",
       " '@Steve_Buscemi SHUT UP you...I am hungry! And in Britain, home of the most boring suckassy breakfast in the world!  I MISS DENNYS!!',\n",
       " 'good morning everybody! pkoi y fais pas beau  bon coffee time!',\n",
       " 'work again ',\n",
       " 'Essay time.... ',\n",
       " '@chauncey78 hey did u talk to mom.. r they home yet? i hope they r ok.. wish i was coming home 4 easter.. ',\n",
       " '@endearingevania I sure wish I could go with you guys tmrw. But as per usual, school interferes. ',\n",
       " \"@widyatarina say what??? kal penn's leaving house?! noooooo!!! awww... i totally missed it tonight \",\n",
       " 'no! i lost a loyal ',\n",
       " 'played another hand very bad and lost half my stack ',\n",
       " \"It's 6.20pm - early days in a looooooong night at work \",\n",
       " \"@yaykimo It's sad it's the last season.  I wanna see when Spencer calls Lauren!\",\n",
       " 'So Im done editing &quot;The Phipstape&quot;. Back 2 crack a brew and see what we got............. no trees though ',\n",
       " \"@rj i don't know what half of that means \",\n",
       " 'homework homework homework ',\n",
       " 'worked his heart out today, doubling my weight at each station. Result: Stiff and pulled muscles... OUCH! ',\n",
       " '@MeLaMachinko now i feel bad for unfollowing. ',\n",
       " 'So... Tired... God I hate the new job, and only two days in ',\n",
       " 'Sad about Kutner being killed off my fav show House! ',\n",
       " 'happy for Coach Stringer (HOF c/o 2009!)...now if I can only finish my term paper on her ',\n",
       " \"I feel like shit. This is NOT the way I want to spend my birthday's eve \",\n",
       " 'so far i have 311 on all my sites put together,  most of them were me checking out the updates i made......',\n",
       " 'has a lot on her mind. I needs to make some moneys. And ideas. Nowhere is hiring! ',\n",
       " '@emiliexclarkex miss you ',\n",
       " \"@stephenkruiser I'm so sorry to hear about your dog \",\n",
       " 'Too much internet. How it plagues me ',\n",
       " 'i miss my ex soo much ',\n",
       " 'Sodding M25   http://twitpic.com/2y3y0',\n",
       " \"oh I thought the pirate bay trial verdict was today :-s apparently it's in 10 days \",\n",
       " '@featherinair call me back. ',\n",
       " 'is in study hall now, and i will log off immediately.  http://plurk.com/p/mzxbg',\n",
       " 'it so tired that im crying for no reason at all. im about to try to get an hour and a half in for tonight. half what i got last night. ',\n",
       " 'I totally have like...  four girl options, and none of them seem viable ',\n",
       " 'so far i have 311 veiws on all my sites put together,  most of them were me checking out the updates i made......',\n",
       " \"Listening to Bjork's All is full of Love... crying \",\n",
       " 'Omg the hills! Then I love money2, aww I think becky buckwild goes ',\n",
       " 'is craving for some tantan nabe  http://plurk.com/p/mzxcs',\n",
       " \"C'mon sean man \",\n",
       " 'Watching &quot;a league of their own&quot;...makes me miss mint chocolate ice cream cones and my grand ma  fuck.',\n",
       " \"Lost my phone some where.maybe in the grass, its just so long, hope it doesn't rain \",\n",
       " \"@tomatosalsa hope you aren't referring to me  say hello to your new stalker LOL\",\n",
       " '@brettyboo why were u sleeping?! Ur gonna be up all night now  how was ur bike ride?',\n",
       " '@SLessard But, but, but . . I wanna listen to the masters too!  ',\n",
       " \"@Sephystryx I've been looking about for good stuff to write, but also been doing loads of uni work \",\n",
       " 'i feel unloved. dropped 2 tweeters ',\n",
       " \"Off to London for the day on Thursday, it's gonna be raining, oh fab  won't see much on the London Eye! Still Robbie won't care bless him\",\n",
       " 'Completely wiped and reloaded the 8900.... Lost all BBM contacts    Going to bed sad.',\n",
       " \"@mykele sayyyy whaaaa? I wasn't invited... \",\n",
       " \"Didn't sleep too bad considering I have a workshop starting today. Beginnings of a sore throat though \",\n",
       " '@astewart87 oh my gosh that made me emotional haha idk why!!! i dont want to get old ',\n",
       " \"We're going to post some stories manually due to Twitterfeed problem. That's why we've been so quiet lately .... \",\n",
       " \"i don't like lukewarm showers \",\n",
       " '@linuxfoundation - Who should I contact if I need a 1099 for freelance work I did on Linux.com throughout 2008? Never got one. ',\n",
       " \"@skylineking722 connor, it's me, febi  are you really really mad at me??\",\n",
       " 'Need some help?! Want to buy a Macbook pro, but still inlove with my old powerbook! ',\n",
       " '@michaeltao man america is so .. borez anyway lol i just realized you sent me msgs on here. i had no idea. i have no flash ',\n",
       " \"@hellivina @IHOPness g'knight lovely ladies. i'm sleepy now \",\n",
       " 'Does anybody know how to get your electrolytes back in order? With a vitamin work? I feel sick. ',\n",
       " \"@sudam08  yes, someone hasn't been reading my posts properly  \",\n",
       " 'Almost through with my Italian homework!  Weeeeee.... now if I only understood what I was doing.  ',\n",
       " 'Who turned the lights on? It will be time to get ip then ',\n",
       " '@therealnph Twitter hates us both then.  ',\n",
       " \"I hate the fact that I'm genuinely excited about my last tweet \",\n",
       " \"@celesteclara i can't sleep either \",\n",
       " \"@TheBlondeTheory Between that and the Italy earthquake, it's been a very sad news day. \",\n",
       " '@champagnemanoir all rain today  . Garden really needs it so not quite so bad.',\n",
       " 'Yawn yawn yawn!! 10 more minutes in bed ',\n",
       " '@MajesticFlame ouch - sounds very sucky ',\n",
       " \"@bengottlieb Great idea with the iTunes promo codes - they don't work in the UK iTunes store though \",\n",
       " '@mattycus  *cry* ',\n",
       " '@RumLover An empty rum barrel is a sad rum barrel. *shakes head* the horror, the horror.  ',\n",
       " 'It was a sleepless night ',\n",
       " '@BillyBush she admitted to being a fake  ',\n",
       " '@BATMANNN  i love chutney......',\n",
       " 'got highly bored today scanning 24 pages for daddy. Had to do it! ',\n",
       " '@misterphipps you cooked risotto without me!!??? ',\n",
       " 'Keeeerrrrriiiiii!!!!  I really have nothing better to do then post on this thing at 224am.....wonderfullll. Says alot.',\n",
       " 'YAY FOR BASEBALL SEASON! boo to yankees losing their first game ',\n",
       " 'LOST sucks  ... because i have to work today',\n",
       " 'omg exams killed me  how could i not know the difference between haif a circle and a hemisphere &lt;/3 &gt;',\n",
       " 'In bed... I suddenly feel  I wish MA was here w/me... Goodnight TwitterFam',\n",
       " \"@RachelCmrn I don't like goodnights \",\n",
       " \"Greaaat my lappy won't turn on  wtffffff\",\n",
       " \"@M4RKM  You stuck in traffic then? My journey was traffic free this morning, if it's any help.\",\n",
       " 'Lookin like an all-nighter. I hate it when I do this to myself ',\n",
       " \"@vernonhamilton You're a stranger   \",\n",
       " 'Debbugging old VB6 code, the day could have started better . . .  ',\n",
       " '@toddlington only a quarter of a percent babe  darn',\n",
       " \"Coming down with a cold or bad allergies. Either way, I'm miserable! \",\n",
       " \"Can't believe Cutner is dead on House! Sad day.  in Santa Rosa, CA http://loopt.us/ORPL3A\",\n",
       " 'Damnit I was really digging this season of Reaper  http://www.tv.com/story/13720.html?ref_story_id=13720&amp;ref_type=1101&amp;ref_name=story',\n",
       " 'Gah, Comcast doubled our cable/internet bill w/out telling us, so we are quitting.  Can anyone suggest an affordable company in bay area?',\n",
       " \"Another early morn with the Duchess, although she hadn't managed to cross her legs this time \",\n",
       " '@alexbigman you left without saying hi! ',\n",
       " \"l want, but I can't sleep \",\n",
       " \"@TracyDowds When an Xbox shows those three red lights, it means it's dead and needs to be fixed for a month at Microsoft HQ. \",\n",
       " 'A king sized bed is nice but sad and lonely with no hubby, puppy, or kitty   I am over this whole conferenceing thing.',\n",
       " 'im boredd. gah  i wish i could just sleep and get it over with but ive had toooo muchh cooooffffeeeeeeeee  bahaha',\n",
       " \"@whyinthehell If I may butt in again.  I'm done being nosey.  sorry your conversation was just so interesting!\",\n",
       " '@smokey_robinson  you fell off my list...did I offend you?  ',\n",
       " '18 weeks till sisters home.. i missed her call, again! its the worst feeling in the world. ',\n",
       " 'gonna try to get some sleep in this hotel room ',\n",
       " \"@chimpytwit brilliant idea. just bring as much as you think you'll spend &amp; I'll swap you. bring a brolly \",\n",
       " \"@SimoneKali Get me an autograph and shout out! You have to record it though. My computer is dead so I can't listen. \",\n",
       " 'rt @KimKardashian Khloe just got fired from the Apprentice ',\n",
       " 'in biology class. my lip hurts ',\n",
       " 'Sorry for the next tweet... ',\n",
       " 'Grr not down to go to school today ',\n",
       " '@jennlopez I had to get an HD tivo and just got it set up tonight in order to get channels 40 - 59. ',\n",
       " '@mouthsex i asked everyone how they were doing yesterday and not a single tweet back ',\n",
       " '@adame ruddy money!! i like it!! still waiting here.... oh what a surprise... by state too?? hmmm....... seriously!! ',\n",
       " '@Kal_Penn I am so sad  Kutner was my favorite of the new team!!',\n",
       " \"@MarcusMims wow i didn't get an &quot;hello&quot; u suck \",\n",
       " 'bedtime, school tomorrow, and i still have no books  being broke suckssss',\n",
       " 'Seating here helping my baby with his papers...well he is forcing me too seat with him  im sleepy',\n",
       " 'Synching my contacts from my old mobile to iPhone. Import does not work well ',\n",
       " \"i can't concentrate \",\n",
       " \"I've just spent 1 hour to enter all the bureaucratic nonsense for March. What a waste of my time \",\n",
       " 'Nw more confused then ever! ',\n",
       " 'Not feeling well again. Stupid migraine making my tummy upset.  and my whole body aches, shoot me now.',\n",
       " 'Reading Buyology before bedtime... great premise but only turning out to be an &quot;OK&quot; book - lots of info I already knew ',\n",
       " 'Home! I really wana sleep, but due to wasting my free line in town I have an assignment to finish ',\n",
       " '@hellobebe I also send some updates in plurk but i upload photos on twitter!  you didnt see any of my updates on plurk? Zero? ',\n",
       " 'omg... &quot;The Reader&quot; is making me ',\n",
       " \"@cloudpimps d'oh! At least you're getting a decent exchange rate at the moment, sterling is still getting flogged \",\n",
       " 'tried to download tweetdeck but it wont download ',\n",
       " \"There's an inch of snow on the ground (and counting). I'm worried about the poor flowers \",\n",
       " \"@dweeman why aren't you a happy camper? \",\n",
       " \"@dkoenigs thanks man.  I'm so very grateful.  I feel unworthy of such attention, though, because I'm in this because of myself... \",\n",
       " \"@t_wolfe  i miss u too. i'm totally comin back tho! Lastnight was sooooooo much fun!\",\n",
       " \"@sniffinglue ohhh. I love it. ps I'm sad we didn't get to hang out \",\n",
       " 'And somehow I still end up in this place ',\n",
       " '@kisluvkis oh that is very sad, poor boy. ',\n",
       " '@JonathanRKnight @silver_tulip27 Um, that would be a hell no to the fugly poker dog pants on the cruise!  Hi Jonathan, sorry I missed you ',\n",
       " \"I'm doing my homework. It's gosh darn hard!! \",\n",
       " 'definitely no vacation for me...   http://plurk.com/p/mzygb',\n",
       " \"'study group extraordinare' about to leave campus...some of torts outline finished-good thing-but sleepy as h*#@...will be back@ 7am \",\n",
       " \"Why can't airfare go down? Or, why do I have to live in Texas!! I don't know if I'll be able to make it to Iowa. \",\n",
       " '@j_stricko I found it pretty frustrating. stupid monkeys ',\n",
       " '@lenesha but Im not feeling well, mommy... ',\n",
       " \"@lovebscott Nope, I'm Right Along Wit' You! \",\n",
       " 'so a murder? gotcha.  Cant believe it',\n",
       " \"@nbensalem i'm sitting at my house and i'm sooo not looking forward to my one class tomorrow. \",\n",
       " \"Ordered some maternity clothes online, which came today. I got something strange I didn't order, not in my size. And stuff is missing. \",\n",
       " '@citizensheep ',\n",
       " '@thesage1014 I wish I could! Gotta work though ',\n",
       " '@SeaGhostdesigns what happened to you on Saturday? You didnt show up... ',\n",
       " '@GirlsGoneChild ',\n",
       " \"Can't fall asleep \",\n",
       " 'I have mouth ulcer  so painful to talk and eat! ',\n",
       " '@danphelan Urgh, it was just the video, and they cut the Robots part!!! ',\n",
       " \"my dog can't move anymore. praying that he will be okay \",\n",
       " '@Kal_Penn you were pretty much my fave...not much reason to watch now ',\n",
       " \"@Artistbabee but tht's annoying &amp;definitely not bitchy enough  he def broke like everything in me. he prolly doesn't even kno oct. 5!\",\n",
       " '@mileycyrus hahaha dont be like that one time in NY when you got 30 mins of sleep then got sick  love you!!',\n",
       " \"@normalguyguide I can't! I have so much to learn about WWI by tomorrow at noon! \",\n",
       " 'New Post!  http://tinyurl.com/cexkqy',\n",
       " '@graemearcher I am sad about Innocent selling out too! ',\n",
       " \"dang won't be able to get to any workshops run by web directions \",\n",
       " \"@BenPritchett goodness me, how did you find me?? it's good to hear from you Ben! I still have your video game and book...I apologize \",\n",
       " \"Jap girls ? They're leaving! \",\n",
       " 'my poor little girl has a baaaad rash on her bum and isnt feeling good ',\n",
       " '@nicolerichie yes! we had the VHS. i cried when the old man died ',\n",
       " 'Argh, got up early for Girls Aloud on Freshly Squeezed and it was just the video ',\n",
       " \"#travian Total cost of the atk for the aggressor: 273,310 resources all said and done. I'm guessing he's not going to let that slide. \",\n",
       " \"waiting for kelly's call. \",\n",
       " 'mhm, not having a good day  blah blah blah',\n",
       " '@octopuseatspie I GOT THE I CAN HAS CHEZBURGER BOOK FROM THE LOBO, AND YOU ARE NOT HERE TO LOOK AT IT WIF ME ',\n",
       " \"I'm trying to work on my last assignment of the year, but I just can't get that spark. All I want to do is lay in the grass and read. \",\n",
       " '@robertfperez ugh of course not  Just thursday and friday..sat I have both kids',\n",
       " \"@Kal_Penn OH MY GOSH. I'M STILL ~EMOTIONALLY~ DYING AT THE FACT THAT KUTNER'S GONE! Arggg.  Kal ily. \",\n",
       " \"@kaozdesign  I think I found my face...unfortunately. You didn't find yours yet?  \",\n",
       " 'seeing that shouldnt have made my stomach flip like it did ',\n",
       " 'Headache... Pleeeease go away ',\n",
       " '@siddharth_ind yeah i do. i have an application that runs every few minutes to do that but its the add-ons. they conflict all the time ',\n",
       " 'Pretty good coaching with exceptional talent trounces exceptional coaching and pretty good talent. MSU ',\n",
       " 'I hate Tuesdays ',\n",
       " \"@gracedent it's her &quot;hair&quot; I can't deal with \",\n",
       " \"Feel like I'm stuck in a rut. Waiting to hear back from schools is killing me.  Also decided to take a break from #wow for awhile.\",\n",
       " 'i need new glasses...mines is hangnon 1 arm ',\n",
       " 'Meat Week Day 3: Tummy hurts every night ',\n",
       " \"Why isn't there a &quot;fake&quot; Verruca on Twitter?... Now i'm sad. \",\n",
       " \"On the phone with the bestie than shower.. Confused I don't know what to do \",\n",
       " '@Sirrah21 Aww poor froofroo, this is way too late for you ',\n",
       " 'i miss my 808 fam ',\n",
       " ...]"
      ]
     },
     "execution_count": 5,
     "metadata": {},
     "output_type": "execute_result"
    }
   ],
   "source": [
    "df.text.to_list()"
   ]
  },
  {
   "cell_type": "code",
   "execution_count": 6,
   "metadata": {},
   "outputs": [],
   "source": [
    "text = \"\\n\".join(df.text.to_list())"
   ]
  },
  {
   "cell_type": "code",
   "execution_count": 7,
   "metadata": {},
   "outputs": [],
   "source": [
    "import re"
   ]
  },
  {
   "cell_type": "code",
   "execution_count": 8,
   "metadata": {},
   "outputs": [
    {
     "ename": "SyntaxError",
     "evalue": "invalid syntax (<ipython-input-8-8ebde1b99b22>, line 1)",
     "output_type": "error",
     "traceback": [
      "\u001b[1;36m  File \u001b[1;32m\"<ipython-input-8-8ebde1b99b22>\"\u001b[1;36m, line \u001b[1;32m1\u001b[0m\n\u001b[1;33m    pat = @robot\\d+?\\W\" #[a-zA-z0-9_] ==\\w\u001b[0m\n\u001b[1;37m          ^\u001b[0m\n\u001b[1;31mSyntaxError\u001b[0m\u001b[1;31m:\u001b[0m invalid syntax\n"
     ]
    }
   ],
   "source": [
    "pat = @robot\\d+?\\W\" #[a-zA-z0-9_] ==\\w"
   ]
  },
  {
   "cell_type": "code",
   "execution_count": null,
   "metadata": {},
   "outputs": [],
   "source": []
  }
 ],
 "metadata": {
  "kernelspec": {
   "display_name": "Python 3",
   "language": "python",
   "name": "python3"
  },
  "language_info": {
   "codemirror_mode": {
    "name": "ipython",
    "version": 3
   },
   "file_extension": ".py",
   "mimetype": "text/x-python",
   "name": "python",
   "nbconvert_exporter": "python",
   "pygments_lexer": "ipython3",
   "version": "3.7.6"
  }
 },
 "nbformat": 4,
 "nbformat_minor": 4
}
