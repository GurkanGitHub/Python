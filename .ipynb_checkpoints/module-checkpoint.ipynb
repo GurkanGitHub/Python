{
 "cells": [
  {
   "cell_type": "markdown",
   "metadata": {},
   "source": [
    "# Fundementals of Module"
   ]
  },
  {
   "cell_type": "markdown",
   "metadata": {},
   "source": [
    "## Scripts and modules"
   ]
  },
  {
   "cell_type": "raw",
   "metadata": {},
   "source": [
    "• identical structures in terms of creation. \n",
    "• files with a .py extension: contains Python codes, statements, ops and functions."
   ]
  },
  {
   "cell_type": "markdown",
   "metadata": {},
   "source": [
    "### What is `Script` and `Module`? "
   ]
  },
  {
   "cell_type": "markdown",
   "metadata": {},
   "source": [
    "💡Tips : Difference between these two terms depends on how and for what purpose you use this file with .py extension. "
   ]
  },
  {
   "cell_type": "code",
   "execution_count": null,
   "metadata": {},
   "outputs": [],
   "source": [
    "• Python file intended to be run directly.\n",
    "• Contain statements outside the scope of any class or function.\n",
    "• The file consisting of codes, definitions and a list of ops that can be read, edited and interpreted in the future.\n",
    "• So all python files is a script.  \n",
    "• And all script can also be used as module. \n",
    "• If you would like to use the script as a module you need to import it. "
   ]
  },
  {
   "cell_type": "markdown",
   "metadata": {},
   "source": [
    "### What is `module`?"
   ]
  },
  {
   "cell_type": "raw",
   "metadata": {},
   "source": [
    "• Python files meant to be imported into scripts and other modules.\n",
    "• Defines classes, functions, variables, and other members for use in scripts that import it. "
   ]
  },
  {
   "cell_type": "markdown",
   "metadata": {},
   "source": [
    "### In order a file to be named as script it should run directly"
   ]
  },
  {
   "cell_type": "code",
   "execution_count": 1,
   "metadata": {},
   "outputs": [],
   "source": [
    "def add(a,b): # this piece of code does not run directly, but this can be imported to other files. So this is module\n",
    "    return a + b"
   ]
  },
  {
   "cell_type": "code",
   "execution_count": 2,
   "metadata": {},
   "outputs": [
    {
     "name": "stdout",
     "output_type": "stream",
     "text": [
      "14\n"
     ]
    }
   ],
   "source": [
    "def add(a,b): # but this one runs directly\n",
    "    return a + b\n",
    "\n",
    "result = add(6,8)\n",
    "print(result)"
   ]
  },
  {
   "cell_type": "code",
   "execution_count": 4,
   "metadata": {},
   "outputs": [],
   "source": [
    "from script import add"
   ]
  },
  {
   "cell_type": "code",
   "execution_count": 5,
   "metadata": {},
   "outputs": [
    {
     "data": {
      "text/plain": [
       "9"
      ]
     },
     "execution_count": 5,
     "metadata": {},
     "output_type": "execute_result"
    }
   ],
   "source": [
    "add(4,5)"
   ]
  },
  {
   "cell_type": "raw",
   "metadata": {},
   "source": [
    "• While working on simple projects, you type and run Pcodes directly into interpreter. \n",
    "• Good to save them in a file. Later when you need to work with them within a text editor you can easily access them. \n",
    "• So every time you quit from the Pinterpreter and enter again you won't lose codes.\n",
    "• This option will be vital to you, especially when working with programs with long blocks of code. "
   ]
  },
  {
   "cell_type": "raw",
   "metadata": {},
   "source": [
    "As program gets longer you may:\n",
    "• split it into several files for easier maintenance. \n",
    "• use a handy function that you’ve written in several programs without copying its definition into each program. "
   ]
  },
  {
   "cell_type": "raw",
   "metadata": {},
   "source": [
    "To support this, Python has a way to put definitions in a file and use them in a script or in an interactive instance of interpreter. Such file is called module.\n",
    "You may use function that you type before or reuse codes someone else wrote. \n",
    "You can copy code you have already written and paste it into another program. \n",
    "But this is not a good solution. Because as code blocks increase, the structure and readability of program will deteriorate. \n",
    "Python's solution is modules (user-friendly pl).\n",
    "These simple files, usually with a .py extension and containing Pstatements are called modules. \n",
    "The ability to import one module from another is a unique feature that reduces our programming processes, and that is what makes the Module system really powerful. "
   ]
  },
  {
   "cell_type": "markdown",
   "metadata": {},
   "source": [
    "`What is module`: a python file with functions, classes and other components. "
   ]
  },
  {
   "cell_type": "raw",
   "metadata": {},
   "source": [
    "What are python modules? \n",
    "    Pmodules are files containing Pcode. \n",
    "    This code can either be functions classes or variables. \n",
    "    A Pmodule is a .py file containing executable code. \n",
    "Some of the commonly used built in modules: os, sys, math, random, datetime."
   ]
  },
  {
   "cell_type": "markdown",
   "metadata": {},
   "source": [
    "`Why use modules`: break code down into reusable structures. Helps readibility"
   ]
  },
  {
   "cell_type": "raw",
   "metadata": {},
   "source": [
    "💡Tips :\n",
    "• If you open and use this file (with a .py extension) directly, that is script, and\n",
    "• If you load (import) this file (with a .py extension) and call any function from it, that's a module this time."
   ]
  },
  {
   "cell_type": "markdown",
   "metadata": {},
   "source": [
    "Simply, a module is a file consisting of Python code. "
   ]
  },
  {
   "cell_type": "markdown",
   "metadata": {},
   "source": [
    "A module can define functions, classes, and variables. A module can also include runnable code. "
   ]
  },
  {
   "cell_type": "markdown",
   "metadata": {},
   "source": [
    "## How to Load a Module?"
   ]
  },
  {
   "cell_type": "markdown",
   "metadata": {},
   "source": [
    "Use keyword `import` and the `name of the module`. "
   ]
  },
  {
   "cell_type": "markdown",
   "metadata": {},
   "source": [
    "`The formula syntax` is : `import` `module_name`"
   ]
  },
  {
   "cell_type": "code",
   "execution_count": null,
   "metadata": {},
   "outputs": [],
   "source": [
    "import my_module  # we've loaded my_module\n",
    "my_module.my_function()  # we've called a function defined in my_module\n",
    "print(my_module.my_variable)  # we've accessed a variable defined in my_module"
   ]
  },
  {
   "cell_type": "raw",
   "metadata": {},
   "source": [
    "• my_module is the name of the module we imported. \n",
    "• When loading a module you can also use an abbreviated nickname for modules by using a keyword as. \n",
    "• Let's give a nickname to my_module to load it :"
   ]
  },
  {
   "cell_type": "code",
   "execution_count": null,
   "metadata": {},
   "outputs": [],
   "source": [
    "import my_module as mym # loads my_module, we give a nickname to it\n",
    "mym.my_function()  # we can use it the same way\n",
    "print(mym.my_variable)  "
   ]
  },
  {
   "cell_type": "code",
   "execution_count": null,
   "metadata": {},
   "outputs": [],
   "source": [
    "• mym stands for the module my_module. \n",
    "• For instance, imagine a file called my_module.py named my_module. \n",
    "• And for being importable, this file should be placed in the same directory as the file you are working on."
   ]
  },
  {
   "cell_type": "code",
   "execution_count": null,
   "metadata": {},
   "outputs": [],
   "source": [
    "Initially, the Pimporting mechanism searches for a module in the current directory, then the built-in modules are inspected and an error will be raised if nothing is found. \n",
    "The module becomes available under its name or alias after importing and you can use the dot notation to access the functions and variables defined in it.\n",
    "Importing a function or variable defined in a module is a very common and useful method. We use the keyword from to use this option. Let's see how it works :"
   ]
  },
  {
   "cell_type": "code",
   "execution_count": null,
   "metadata": {},
   "outputs": [],
   "source": [
    "from my_module import my_function  \n",
    "my_function() "
   ]
  },
  {
   "cell_type": "raw",
   "metadata": {},
   "source": [
    "💡Tips:  Note that in the example above, we imported only my_function. \n",
    "        So if we try to use this syntax : my_module.my_function an error will be raise."
   ]
  },
  {
   "cell_type": "markdown",
   "metadata": {},
   "source": [
    "You can also use keyword as here the same way as well. Consider this example :"
   ]
  },
  {
   "cell_type": "code",
   "execution_count": null,
   "metadata": {},
   "outputs": [],
   "source": [
    "from my_module import my_function as mfnc\n",
    "mfnc()  # we use the my_function's alias directly"
   ]
  },
  {
   "cell_type": "code",
   "execution_count": null,
   "metadata": {},
   "outputs": [],
   "source": [
    "It is traditionally best to type each import syntax in separate lines and put them all at the beginning of the current module. "
   ]
  },
  {
   "cell_type": "code",
   "execution_count": null,
   "metadata": {},
   "outputs": [],
   "source": [
    "import module_1\n",
    "import module_2\n",
    "import module_3\n",
    "# The code stream of the current module starts here"
   ]
  },
  {
   "cell_type": "raw",
   "metadata": {},
   "source": [
    "Q: How to import modules in Python?\n",
    "A: Modules can be imported using the import keyword. You can import modules in three ways. Example:\n",
    "import array           # importing using the original module name\n",
    "import array as arr    # importing using an alias name\n",
    "from array import *    # imports everything present in the array module  "
   ]
  },
  {
   "cell_type": "markdown",
   "metadata": {},
   "source": [
    "## Creating and Working with Modules"
   ]
  },
  {
   "cell_type": "markdown",
   "metadata": {},
   "source": [
    "### Scripts & Modules Initialization"
   ]
  },
  {
   "cell_type": "raw",
   "metadata": {},
   "source": [
    "If you're using an advanced IDLE, such as Jupyter Notebook/Lab, scripts and the modules are more or less are the same. \n",
    "These applications have a user-friendly menu on such issues."
   ]
  },
  {
   "cell_type": "raw",
   "metadata": {},
   "source": [
    "💡Tips: In Jupyter Lab/Notebook, you will always work with files with a .ipynb extension."
   ]
  },
  {
   "cell_type": "markdown",
   "metadata": {},
   "source": [
    "### Working with the Modules"
   ]
  },
  {
   "cell_type": "markdown",
   "metadata": {},
   "source": [
    "### Acting of a Module as a Script"
   ]
  },
  {
   "cell_type": "raw",
   "metadata": {},
   "source": [
    "• Open a python file with .py extension in pycharm or any other IDE and just write \"import hello\" and run the program."
   ]
  },
  {
   "cell_type": "raw",
   "metadata": {},
   "source": [
    "• When you load the module with the keyword import, the outputs of all the ops typed in it is displayed collectively. "
   ]
  },
  {
   "cell_type": "code",
   "execution_count": 5,
   "metadata": {},
   "outputs": [
    {
     "name": "stdout",
     "output_type": "stream",
     "text": [
      "hello\n",
      "9\n",
      "c l a r u s w a y\n"
     ]
    }
   ],
   "source": [
    "import hello #Let's run it on the Command Prompt (console) as a module"
   ]
  },
  {
   "cell_type": "raw",
   "metadata": {},
   "source": [
    "• When you import this file as a module, it acts as a script for the first importing, which is undesirable. \n",
    "• It is not normal for a module to generate output when imported. Then why it happens?"
   ]
  },
  {
   "cell_type": "raw",
   "metadata": {},
   "source": [
    "👉🏻 Pythonic rule\n",
    "    • File is imported as a module, variable __name__ is set to name of the module.\n",
    "    • If the file is run as a script, variable __name__ is set to the string value of \"__main__\". "
   ]
  },
  {
   "cell_type": "raw",
   "metadata": {},
   "source": [
    "__name__, \"__main__\" Method\n",
    "If we collect the output-generating statements which are in our module under if __name__ == \"__main__\" : statement we will solve the problem. "
   ]
  },
  {
   "cell_type": "markdown",
   "metadata": {},
   "source": [
    "#### hello.py :"
   ]
  },
  {
   "cell_type": "code",
   "execution_count": 15,
   "metadata": {},
   "outputs": [
    {
     "name": "stdout",
     "output_type": "stream",
     "text": [
      "hello\n",
      "9\n",
      "c l a r u s w a y\n"
     ]
    }
   ],
   "source": [
    "\"\"\" this is my first module & script \"\"\"\n",
    "def my_func1(x):\n",
    "    return print(x**2)\n",
    "def my_func2(y):\n",
    "    return print(*y)\n",
    "if __name__ == '__main__':  # output-generating statements are here\n",
    "    print('hello') \n",
    "    my_func1(3)\n",
    "    my_func2(\"clarusway\")     "
   ]
  },
  {
   "cell_type": "code",
   "execution_count": 16,
   "metadata": {},
   "outputs": [],
   "source": [
    "import hello"
   ]
  },
  {
   "cell_type": "code",
   "execution_count": 17,
   "metadata": {},
   "outputs": [
    {
     "name": "stdout",
     "output_type": "stream",
     "text": [
      "9\n"
     ]
    }
   ],
   "source": [
    "hello.my_func1(3)"
   ]
  },
  {
   "cell_type": "code",
   "execution_count": 18,
   "metadata": {},
   "outputs": [
    {
     "name": "stdout",
     "output_type": "stream",
     "text": [
      "c o n f i d e n c e\n"
     ]
    }
   ],
   "source": [
    "hello.my_func2(\"confidence\")"
   ]
  },
  {
   "cell_type": "raw",
   "metadata": {},
   "source": [
    "We've solved this issue that when we import the module to use it, there is no undesired output anymore."
   ]
  },
  {
   "cell_type": "code",
   "execution_count": 19,
   "metadata": {},
   "outputs": [
    {
     "data": {
      "text/plain": [
       "'this is my first module & script'"
      ]
     },
     "execution_count": 19,
     "metadata": {},
     "output_type": "execute_result"
    }
   ],
   "source": [
    "hello.__doc__"
   ]
  },
  {
   "cell_type": "code",
   "execution_count": null,
   "metadata": {},
   "outputs": [],
   "source": [
    "💡Tips: Style you use depends on your needs. But the key point is readability!"
   ]
  },
  {
   "cell_type": "markdown",
   "metadata": {},
   "source": [
    "## Scripts & Modules Creation"
   ]
  },
  {
   "cell_type": "raw",
   "metadata": {},
   "source": [
    "Python 3.8.0 Shell (IDLE)\n",
    "This editor is Python 3.8.0 Shell which interprets and runs your codes."
   ]
  },
  {
   "cell_type": "raw",
   "metadata": {},
   "source": [
    "Closing & Reopening the Python Shell (IDLE)\n",
    "When you close and reopen the shell, all codes, definitions, and expressions are lost."
   ]
  },
  {
   "cell_type": "markdown",
   "metadata": {},
   "source": [
    "### Creating Module&Script"
   ]
  },
  {
   "cell_type": "raw",
   "metadata": {},
   "source": [
    "• You can start to create a module&script by opening a 'New File' on Python Shell or another simple text editor (i.e. Notepad for Windows).\n",
    "• Simply type your codes, statements, functions, and definitions on one of these editors then save it (with a .py extension) into the directory in which Python 3.8 installed. Then your module & script is ready now!"
   ]
  },
  {
   "cell_type": "markdown",
   "metadata": {},
   "source": [
    "### Typed Script & Modules"
   ]
  },
  {
   "cell_type": "raw",
   "metadata": {},
   "source": [
    "• Now we have a simple module & script which contains several statements and two functions.\n",
    "• We have two identical files (named 'hello.py' and 'hello.1.py') which contain completely the same codes."
   ]
  },
  {
   "cell_type": "markdown",
   "metadata": {},
   "source": [
    "### Running the File as a Script"
   ]
  },
  {
   "cell_type": "raw",
   "metadata": {},
   "source": [
    "• Let's run 'hello.py' file directly by clicking on 'run' button on the file editor so that we use it as a script.\n",
    "• We can also run the script using the console (Command Prompt on Windows)."
   ]
  },
  {
   "cell_type": "markdown",
   "metadata": {},
   "source": [
    "### Running the File as a Module"
   ]
  },
  {
   "cell_type": "raw",
   "metadata": {},
   "source": [
    "• Now we'll use the 'hello.py' file as a module.\n",
    "• First, we import the 'hello'\n",
    "• Then we can use its functions. Examine the images below."
   ]
  },
  {
   "cell_type": "markdown",
   "metadata": {},
   "source": [
    "# Packages"
   ]
  },
  {
   "cell_type": "raw",
   "metadata": {},
   "source": [
    "• A collection of related modules. \n",
    "• Can be individual module, but is usually a collection of them. "
   ]
  },
  {
   "cell_type": "raw",
   "metadata": {},
   "source": [
    "○ A package is really just a published collection of modules. How do I know what's available, what others wrote?: through experience and use. Python Package Index, go and search. Internet is super to see first. \n",
    "○ Best code in the world is the code that's already written.\n",
    "○ To install packages use pip. Pip is the command line installer.\n",
    "    • pip install coloram # install an individual package\n",
    "    • pip install -r requirements.txt # install from a list of packages\n",
    "    • colorama # requirements.txt"
   ]
  },
  {
   "cell_type": "markdown",
   "metadata": {},
   "source": [
    "## Package Initialization"
   ]
  },
  {
   "cell_type": "code",
   "execution_count": null,
   "metadata": {},
   "outputs": [],
   "source": [
    "• Packages are a way of structuring Python’s module namespace by using “dotted module names”.\n",
    "• Imagine designing a very large project with many modules. As the number of modules you work on and create increases, it becomes difficult to follow and use them. \n",
    "• In order to make the modules more systematically organized, we can use packages.\n",
    "• Basic structure of the package system:"
   ]
  },
  {
   "cell_type": "raw",
   "metadata": {},
   "source": [
    "earth/ # Top-level package\n",
    "    __init__.py                            # Initialize the earth package\n",
    "    asia/                                  # Subpackage for file asia\n",
    "        __init__.py\n",
    "        japan.py\n",
    "        mongolia.py       # A module under a subpackage\n",
    "        pakistan.py\n",
    "        taiwan.py\n",
    "\n",
    "    europe/                                 # Subpackage for file europe\n",
    "        __init__.py\n",
    "        germany.py        # A module under a subpackage\n",
    "        england.py\n",
    "        turkey.py\n",
    "        kosovo.py\n",
    "\n",
    "    america/                              # Subpackage for file america\n",
    "        __init__.py\n",
    "        canada.py\n",
    "        ustates.py\n",
    "        mexico.py\n",
    "        peru.py               # A module under a subpackage"
   ]
  },
  {
   "cell_type": "raw",
   "metadata": {},
   "source": [
    "The hierarchical model of dot notation used to access and work with a module works as follows. \n",
    "The importing syntax which shows the entire hierarchy is so-called absolute importing. It looks like :"
   ]
  },
  {
   "cell_type": "raw",
   "metadata": {},
   "source": [
    "import earth.europe.kosovo # importing with naming p, sp, m\n",
    "earth.europe.kosovo.a_function()  # we want to access function defined in kosovo m"
   ]
  },
  {
   "cell_type": "raw",
   "metadata": {},
   "source": [
    "from earth import europe.kosovo  # importing with naming sp and m (p inmedi)\n",
    "europe.kosovo.a_function()  # we want to access a function defined in kosovo modu"
   ]
  },
  {
   "cell_type": "raw",
   "metadata": {},
   "source": [
    "from earth.europe import kosovo  # importing without naming package and subpack\n",
    "kosovo.a_function()  # we want to access a function defined in kosovo module"
   ]
  },
  {
   "cell_type": "raw",
   "metadata": {},
   "source": [
    "from earth.europe.kosovo import a_function  # importing without any naming\n",
    "a_function()  # we use directly the function's name"
   ]
  },
  {
   "cell_type": "markdown",
   "metadata": {},
   "source": [
    "⚠️Don't forget: For Python to recognize the folders you created as packages / subpackages, you need to create an empty file named __init__.py in both the package and subpackage folders. They are usually empty, but may contain some initialization code of the package."
   ]
  },
  {
   "cell_type": "raw",
   "metadata": {},
   "source": [
    "When you need to reorganize your modules with the packaging system, you need to create package/subpackage folders in the directory where Python is installed. Of course, keep in mind that you have to put a file named __init__.py in the folders you will create."
   ]
  },
  {
   "cell_type": "raw",
   "metadata": {},
   "source": [
    "💡Tips:\n",
    "Note that when using from package import item, the item can be either a submodule (or subpackage) of the package, or some other name defined in the package, like a function, class or variable.\n",
    "Let's take a look at an interactive lesson to learn them in detail... Note : When you have finished this interactive lesson, close the opened window and return to this page to proceed."
   ]
  },
  {
   "cell_type": "raw",
   "metadata": {},
   "source": [
    "Q: What is module and package in Python?\n",
    "A: In Python, module is the way to structure the program. Each Python program file is a module, which imports other modules like objects and attributes. The folder of Python program is a package of modules. A package can have modules or subfolders."
   ]
  },
  {
   "cell_type": "markdown",
   "metadata": {},
   "source": [
    "## Importing * From a Package"
   ]
  },
  {
   "cell_type": "raw",
   "metadata": {},
   "source": [
    "\t\tØ There is another and practical way to import packages / sps / modules. \n",
    "\t\t\n",
    "\t\tØ Method: from package.subpackage import * . Syntax import all modules that sp has.\n",
    "\t\t\n",
    "\t\tØ Although this way of importing all content is not a highly preferred method, when you add __all__ = [list of content] statement into the __init__.py file, you can display the sps/modules under package / sp in a list without any mess.\n",
    "\t\n",
    "\t\tØ Well, how we do that? Take a look at the following images and explanations : In order to display the list of subpackages/modules inside the package, we must add the following syntax into the __init__.py files:\n",
    "\t\n",
    "\t\tFor the package : __all__ = ['subpackage1', 'subpackage2']\n",
    "\t\tFor the subpackage : __all__ = ['module1', 'module2']\n",
    "\t\tLet's see the creation of these __init__.py files below :\n"
   ]
  },
  {
   "cell_type": "code",
   "execution_count": null,
   "metadata": {},
   "outputs": [],
   "source": [
    "This image shows that when you type a dot immediately after the package name, the list of subpackages appears on the IDLE.\n",
    "\n",
    "And the next image shows that when you type a dot immediately after the subpackage name, the list of modules appears on the IDLE.\n",
    "\n",
    "\t○ Working with Inter & Intra-Packages/Subpackages\n",
    "\t\n",
    "\t\tØ P: user-friendliness: If you need to work with a another module defined in current or another sp, you can import it into the current module file. \n",
    "\t\n",
    "\t\tØ For example: while you're working on earth.europe.germany in germany.py file, you can import and use module 'japan' from subpackage asia by using a similar syntax : from earth.asia import japan. We've stated before that this kind of syntax is so-called absolute importing. But there is another simple way to do the same thing. This style of syntax is so-called relative imports.\n",
    "\t\n",
    "\t\tØ You can write relative imports, with the from module import name form of the import statement. These imports use leading dots to indicate the current and parent packages involved in the relative import. Let's see how it works for the module japan :\n",
    "\t\n",
    "\t\tfrom . import mongolia  # one dot means addressing to a current package/sp\n",
    "\t\tfrom .. import europe  # two dots mean addressing to a parent package/sp\n",
    "\t\tfrom ..europe import kosovo  # sp name comes immediately after two dots\n",
    "\t\n",
    "\t\tØ The modified germany.py file is below. We're importing and using module japan inside the germany.py file :\n",
    "\t\n",
    "\t\t\"\"\" this is my first module & script \"\"\"\n",
    "\t\tdef my_func1(x):\n",
    "\t\treturn print(x**2)\n",
    "\t\tdef my_func2(y):\n",
    "\t\treturn print(*y)\n",
    "\t\tfrom ..asia import japan  # we've added importing \n",
    "\t\t    syntax using two dots\n",
    "\t\tjapan.my_func1(6)         # and the name of parent \n",
    "\t\t    subpackage (asia)\n",
    "\t\tif __name__ == '__main__':\n",
    "\t\tprint('hello') \n",
    "\t\tmy_func1(3)\n",
    "\t\tmy_func2(\"clarusway\")\n",
    "\t\n",
    "\t⚠️Avoid:\n",
    "\t\t• Using the syntax from name import * is usually considered bad practice.\n",
    "\t\t• While working on Python codes, keep this in your mind : Readability counts!\n",
    "\t\n",
    "\t\tØ When we import the module germany, we can see the result like:\n",
    "\t\t\n",
    "import earth.europe.germany-->36\n",
    "\t\n",
    "\t💡Tips:\n",
    "\t\t• Absolute imports syntax are preferred, as they are usually more readable.\n",
    "\t\t• When dealing with very complex and sophisticated packages, it is preferable to use relative imports syntax, since using absolute imports will result in unnecessary redundancy.\n",
    "\t\n",
    "\t○ pip - The Package Manager for Python\n",
    "\tPip Installs Packages\n",
    "\t\n",
    "\t\tØ What is pip?\n",
    "\t\n",
    "\t\t\t• pip is a package-management system written in Python used to install and manage software packages.It connects to an online repository of public packages, called the Python Package Index. pip can also be configured to connect to other package repositories (local or remote), provided that they comply to Python Enhancement Proposal 503.\n",
    "\t\t\t• Most distributions of Python come with pip preinstalled. Python 2.7.9 and later (on the python2 series), and Python 3.4 and later include pip (pip3 for Python 3) by default.\n",
    "\t\t\t• First introduced as pyinstall in 2008 by Ian Bicking (the creator of the virtualenv package) as an alternative to easy_install, pip was chosen as the new name from one of several suggestions that the creator received on his blog post.\n",
    "\t\t\t• According to Bicking himself, the name is a recursive acronym for \"Pip Installs Packages\".In 2011, the Python Packaging Authority (PyPA) was created to take over the maintenance of pip and virtualenv from Bicking, led by Carl Meyer, Brian Rosner, and Jannis Leidel.\n",
    "\t\t\t• With the release of pip version 6.0 (2014-12-22), the version naming process was changed to have version in X.Y format and drop the preceding 1 from the version label.\n",
    "\t\t\t\n",
    "\t\t\t• After you develop yourself in the Python programming, you will start to take part in more professional projects. Over time you will see that you will have to benefit from the packages in almost all of your programs. This rich package library is one of the factors that make Python programming language powerful.\n",
    "\t\t\t\n",
    "\t\t\t• In fact, the package library we're talking about here isn't built-in and you need to install it externally. That's where the pip comes in. pip which is also a preinstalled program in Python is the standard package manager for Python. It allows you to install/uninstall, and manage additional packages that are not part of the Python standard modules. The acronym of Pip Installs Packages is mostly known as pip.\n",
    "\t\t\t\n",
    "\t\t\t• You can use pip not only to give additional functionality to the standard library by installing additional packages on your computer, but you can also use it to help you contribute to Python's development by sharing your own projects.\n",
    "\t\t\t\n",
    "\t\tØ Now open your command prompt and run the following syntax to make sure that you have pip installed.\n",
    "\t\n",
    "\t\tpip --version\n",
    "\t\t\n",
    "\t\tThis code should display your valid pip version which is 19.3.1 currently. The output will be :\n",
    "\t\t\n",
    "\t\tpip 19.3.1\n",
    "\t\t\n",
    "\t\tIf you have problems with installing or upgrading pip, you can follow the official guide for the best practice.\n",
    "\t\n",
    "\t💡Tips:\n",
    "\t\t\t• When you install the Anaconda-3 package program, you will also automatically install hundreds of packages in addition to Python's standard library.\n",
    "\t\t\t• Therefore, if you installed the Anaconda-3 package program, you will not actually have much work with pip.\n",
    "\t\n",
    "\t\tØ Working with pip\n",
    "\t\n",
    "\t\tThe formula syntax is : pip command options\n",
    "\n",
    "\t\t• install\n",
    "\n",
    "\t\tThe most common and essential command of pip is of course install. The most common syntax is :\n",
    "\t\n",
    "\t\tpip install my_package\n",
    "\t\t\n",
    "\t\tIf you want, you can use this command by adding the version number to the end of the syntax as follows :\n",
    "\t\t\n",
    "\t\tpip install my_package==3.2.1\n",
    "\t\t\n",
    "\t\tFor the Python's current version you can use the following command. Although Python is not actually a package, you can also install it as follows. You do not need to try it because it will be faster if you download and install it from its website.\n",
    "\t\n",
    "\t\tpip install python==3.8.1\n",
    "\t\t\n",
    "\t\t• list\n",
    "\t\n",
    "\t\tAnother important command you should learn is list. It lists all the packages you have installed on your computer in alphabetical order and in two columns.\n",
    "\t\n",
    "\t\tpip list\n",
    "\t\t\n",
    "\t\t• show\n",
    "\t\n",
    "\t\tThe other useful command we can mention is show.\n",
    "\t\n",
    "\t\tpip show my_package\n",
    "\t\tIt's used to view some information about the packages. These information about a package will be : Name, Version, Summary, Home-page, Author, Author-email, License, Location on PC.\n",
    "\t\t\n",
    "\t\t• uninstall\n",
    "\t\n",
    "\t\tAnd the last command we want to show you is uninstall. It uninstalls the installed packages from your computer.\n",
    "\t\n",
    "\t\tpip uninstall my_package\n",
    "\t\tIf you want to examine pip in detail visit. (https://pip.pypa.io/en/stable/reference/pip/#pip)\n",
    "\t\t\n",
    "\t\tpip freeze: tells you which modules you've installed with pip install and the versions of these modules that you are currently have installed on your computer. ... So pip freeze is a commonly used command for debugging purposes in Python.\n",
    "\t\t\n",
    "\t\tpip freeze > requirements.txt: records an environment's current package list into requirements. txt. If you want to install the dependencies in a virtual environment, create and activate that environment first, then use the Install from requirements.\n",
    "\t\t\n",
    "\t\t\n"
   ]
  },
  {
   "cell_type": "markdown",
   "metadata": {},
   "source": [
    "## Built-in Modules- bim"
   ]
  },
  {
   "cell_type": "raw",
   "metadata": {},
   "source": [
    "Python comes with a huge library of standard modules many of which are built into the interpreter. \n",
    "Effective codes by providing functions and data structures. "
   ]
  },
  {
   "cell_type": "raw",
   "metadata": {},
   "source": [
    "Another advantage of bim is that you can access these standard libraries from all oss in which Python is installed. \n",
    "Officially published standard library list (Python Module Index) can be found here.(https://docs.python.org/3/py-modindex.html)"
   ]
  },
  {
   "cell_type": "markdown",
   "metadata": {},
   "source": [
    "## Math Module"
   ]
  },
  {
   "cell_type": "markdown",
   "metadata": {},
   "source": [
    "• math is one of the `most used modules`. It allows us to work with math functions."
   ]
  },
  {
   "cell_type": "code",
   "execution_count": 2,
   "metadata": {},
   "outputs": [],
   "source": [
    "import math"
   ]
  },
  {
   "cell_type": "markdown",
   "metadata": {},
   "source": [
    "### dir() function"
   ]
  },
  {
   "cell_type": "raw",
   "metadata": {},
   "source": [
    "💡Tips: bif dir() is used to find out all names defined in the module. It returns a sorted list of strings."
   ]
  },
  {
   "cell_type": "code",
   "execution_count": 5,
   "metadata": {},
   "outputs": [
    {
     "name": "stdout",
     "output_type": "stream",
     "text": [
      "['__doc__', '__loader__', '__name__', '__package__', '__spec__', 'acos', 'acosh', 'asin', 'asinh', 'atan', 'atan2', 'atanh', 'ceil', 'copysign', 'cos', 'cosh', 'degrees', 'e', 'erf', 'erfc', 'exp', 'expm1', 'fabs', 'factorial', 'floor', 'fmod', 'frexp', 'fsum', 'gamma', 'gcd', 'hypot', 'inf', 'isclose', 'isfinite', 'isinf', 'isnan', 'ldexp', 'lgamma', 'log', 'log10', 'log1p', 'log2', 'modf', 'nan', 'pi', 'pow', 'radians', 'remainder', 'sin', 'sinh', 'sqrt', 'tan', 'tanh', 'tau', 'trunc']\n"
     ]
    }
   ],
   "source": [
    "print(dir(math))  # you can find out all names defined in this module\n",
    "                    #çıkan şeyler objeler. oop da görülecek, tüm packagelerde oluyor"
   ]
  },
  {
   "cell_type": "code",
   "execution_count": 5,
   "metadata": {},
   "outputs": [],
   "source": [
    "from math import pi, factorial, log10  # we'll use the functions directly"
   ]
  },
  {
   "cell_type": "code",
   "execution_count": 6,
   "metadata": {},
   "outputs": [
    {
     "data": {
      "text/plain": [
       "3.141592653589793"
      ]
     },
     "execution_count": 6,
     "metadata": {},
     "output_type": "execute_result"
    }
   ],
   "source": [
    "pi # it also contains several arithmetic constants"
   ]
  },
  {
   "cell_type": "code",
   "execution_count": 7,
   "metadata": {},
   "outputs": [
    {
     "data": {
      "text/plain": [
       "24"
      ]
     },
     "execution_count": 7,
     "metadata": {},
     "output_type": "execute_result"
    }
   ],
   "source": [
    "factorial(4)"
   ]
  },
  {
   "cell_type": "code",
   "execution_count": 8,
   "metadata": {},
   "outputs": [
    {
     "data": {
      "text/plain": [
       "3.0"
      ]
     },
     "execution_count": 8,
     "metadata": {},
     "output_type": "execute_result"
    }
   ],
   "source": [
    "log10(1000)"
   ]
  },
  {
   "cell_type": "raw",
   "metadata": {},
   "source": [
    "✏️Homework: Define your own factorial function named factor using def."
   ]
  },
  {
   "cell_type": "markdown",
   "metadata": {},
   "source": [
    "## String Module"
   ]
  },
  {
   "cell_type": "raw",
   "metadata": {},
   "source": [
    "• string is used for common string operations."
   ]
  },
  {
   "cell_type": "code",
   "execution_count": 9,
   "metadata": {},
   "outputs": [],
   "source": [
    "import string as stg  # we've used alias for 'string' module"
   ]
  },
  {
   "cell_type": "code",
   "execution_count": 10,
   "metadata": {},
   "outputs": [
    {
     "data": {
      "text/plain": [
       "'!\"#$%&\\'()*+,-./:;<=>?@[\\\\]^_`{|}~'"
      ]
     },
     "execution_count": 10,
     "metadata": {},
     "output_type": "execute_result"
    }
   ],
   "source": [
    "stg.punctuation  # prints all available punctuation marks"
   ]
  },
  {
   "cell_type": "code",
   "execution_count": 11,
   "metadata": {},
   "outputs": [
    {
     "data": {
      "text/plain": [
       "'0123456789'"
      ]
     },
     "execution_count": 11,
     "metadata": {},
     "output_type": "execute_result"
    }
   ],
   "source": [
    "stg.digits  # prints all the digits"
   ]
  },
  {
   "cell_type": "code",
   "execution_count": 21,
   "metadata": {},
   "outputs": [],
   "source": [
    "from string import punctuation"
   ]
  },
  {
   "cell_type": "code",
   "execution_count": 22,
   "metadata": {},
   "outputs": [
    {
     "data": {
      "text/plain": [
       "'!\"#$%&\\'()*+,-./:;<=>?@[\\\\]^_`{|}~'"
      ]
     },
     "execution_count": 22,
     "metadata": {},
     "output_type": "execute_result"
    }
   ],
   "source": [
    "punctuation"
   ]
  },
  {
   "cell_type": "markdown",
   "metadata": {},
   "source": [
    "## Datetime Module"
   ]
  },
  {
   "cell_type": "raw",
   "metadata": {},
   "source": [
    "• datetime is commonly used when working with date and time types."
   ]
  },
  {
   "cell_type": "code",
   "execution_count": 12,
   "metadata": {},
   "outputs": [],
   "source": [
    "import datetime"
   ]
  },
  {
   "cell_type": "code",
   "execution_count": 13,
   "metadata": {},
   "outputs": [
    {
     "data": {
      "text/plain": [
       "datetime.date(2021, 10, 23)"
      ]
     },
     "execution_count": 13,
     "metadata": {},
     "output_type": "execute_result"
    }
   ],
   "source": [
    "datetime.date.today()  # prints today's date (yyyy-mm-dd)"
   ]
  },
  {
   "cell_type": "code",
   "execution_count": 14,
   "metadata": {},
   "outputs": [
    {
     "data": {
      "text/plain": [
       "datetime.datetime(2021, 10, 23, 8, 24, 20, 383591)"
      ]
     },
     "execution_count": 14,
     "metadata": {},
     "output_type": "execute_result"
    }
   ],
   "source": [
    "datetime.datetime.now()  # prints the current time in microseconds"
   ]
  },
  {
   "cell_type": "raw",
   "metadata": {},
   "source": [
    "💡Tips: In the example above, we used the functions (now() and today()) defined under the date and datetime objects from the datetime module according to the dot notation."
   ]
  },
  {
   "cell_type": "code",
   "execution_count": 25,
   "metadata": {},
   "outputs": [],
   "source": [
    "from datetime import date"
   ]
  },
  {
   "cell_type": "code",
   "execution_count": 26,
   "metadata": {},
   "outputs": [],
   "source": [
    "birth = date(571, 4, 22)\n",
    "vefat = date(632, 6, 8)"
   ]
  },
  {
   "cell_type": "code",
   "execution_count": 27,
   "metadata": {},
   "outputs": [
    {
     "data": {
      "text/plain": [
       "22327"
      ]
     },
     "execution_count": 27,
     "metadata": {},
     "output_type": "execute_result"
    }
   ],
   "source": [
    "date.toordinal(vefat) - date.toordinal(birth)"
   ]
  },
  {
   "cell_type": "markdown",
   "metadata": {},
   "source": [
    "## System module"
   ]
  },
  {
   "cell_type": "raw",
   "metadata": {},
   "source": [
    "• Provides various functions and variables that are used to manipulate different parts of the Python runtime environment. \n",
    "• It allows operating on the interpreter as it provides access to the variables and functions that interact strongly with the interpreter."
   ]
  },
  {
   "cell_type": "code",
   "execution_count": 2,
   "metadata": {},
   "outputs": [],
   "source": [
    "import sys"
   ]
  },
  {
   "cell_type": "code",
   "execution_count": 10,
   "metadata": {},
   "outputs": [
    {
     "data": {
      "text/plain": [
       "'3.7.6 (default, Jan  8 2020, 20:23:39) [MSC v.1916 64 bit (AMD64)]'"
      ]
     },
     "execution_count": 10,
     "metadata": {},
     "output_type": "execute_result"
    }
   ],
   "source": [
    "sys.version # returns a string containing the version of Python Interpreter\n",
    "                #This shows how the sys module interacts with the interpreter."
   ]
  },
  {
   "cell_type": "code",
   "execution_count": 12,
   "metadata": {},
   "outputs": [
    {
     "data": {
      "text/plain": [
       "<_io.TextIOWrapper name='<stdin>' mode='r' encoding='cp1254'>"
      ]
     },
     "execution_count": 12,
     "metadata": {},
     "output_type": "execute_result"
    }
   ],
   "source": [
    "sys."
   ]
  },
  {
   "cell_type": "code",
   "execution_count": 7,
   "metadata": {},
   "outputs": [
    {
     "data": {
      "text/plain": [
       "['C:\\\\Users\\\\Owner\\\\anaconda3\\\\lib\\\\site-packages\\\\ipykernel_launcher.py',\n",
       " '-f',\n",
       " 'C:\\\\Users\\\\Owner\\\\AppData\\\\Roaming\\\\jupyter\\\\runtime\\\\kernel-80375a18-8c09-4769-864f-70dec84fbbcf.json']"
      ]
     },
     "execution_count": 7,
     "metadata": {},
     "output_type": "execute_result"
    }
   ],
   "source": [
    "sys.argv # argv -- command line arguments; argv[0] is the script pathname if known"
   ]
  },
  {
   "cell_type": "code",
   "execution_count": null,
   "metadata": {},
   "outputs": [],
   "source": []
  },
  {
   "cell_type": "code",
   "execution_count": 8,
   "metadata": {},
   "outputs": [
    {
     "data": {
      "text/plain": [
       "'C:\\\\Users\\\\Owner\\\\anaconda3\\\\lib\\\\site-packages\\\\ipykernel_launcher.py'"
      ]
     },
     "execution_count": 8,
     "metadata": {},
     "output_type": "execute_result"
    }
   ],
   "source": [
    "sys.argv[0]"
   ]
  },
  {
   "cell_type": "code",
   "execution_count": 9,
   "metadata": {},
   "outputs": [
    {
     "data": {
      "text/plain": [
       "'-f'"
      ]
     },
     "execution_count": 9,
     "metadata": {},
     "output_type": "execute_result"
    }
   ],
   "source": [
    "sys.argv[1]"
   ]
  },
  {
   "cell_type": "markdown",
   "metadata": {},
   "source": [
    "## Random Module"
   ]
  },
  {
   "cell_type": "code",
   "execution_count": 18,
   "metadata": {},
   "outputs": [],
   "source": [
    "import random"
   ]
  },
  {
   "cell_type": "raw",
   "metadata": {},
   "source": [
    "• random module: contains functions to select randomly from data types."
   ]
  },
  {
   "cell_type": "code",
   "execution_count": 15,
   "metadata": {},
   "outputs": [],
   "source": [
    "from random import choice"
   ]
  },
  {
   "cell_type": "code",
   "execution_count": 16,
   "metadata": {},
   "outputs": [],
   "source": [
    "city = ['Stockholm', 'Istanbul', 'Seul', 'Cape Town']"
   ]
  },
  {
   "cell_type": "code",
   "execution_count": 17,
   "metadata": {},
   "outputs": [
    {
     "data": {
      "text/plain": [
       "'Istanbul'"
      ]
     },
     "execution_count": 17,
     "metadata": {},
     "output_type": "execute_result"
    }
   ],
   "source": [
    "choice(city)  "
   ]
  },
  {
   "cell_type": "code",
   "execution_count": 23,
   "metadata": {},
   "outputs": [
    {
     "data": {
      "text/plain": [
       "'Cape Town'"
      ]
     },
     "execution_count": 23,
     "metadata": {},
     "output_type": "execute_result"
    }
   ],
   "source": [
    "random.choice(city)"
   ]
  },
  {
   "cell_type": "markdown",
   "metadata": {},
   "source": [
    "### random() function"
   ]
  },
  {
   "cell_type": "raw",
   "metadata": {},
   "source": [
    "• Returns the floating point number that is in the range of (0, 1).\n",
    "• x in the interval [0, 1)."
   ]
  },
  {
   "cell_type": "code",
   "execution_count": 19,
   "metadata": {},
   "outputs": [
    {
     "data": {
      "text/plain": [
       "0.30023104392865996"
      ]
     },
     "execution_count": 19,
     "metadata": {},
     "output_type": "execute_result"
    }
   ],
   "source": [
    "random.random()"
   ]
  },
  {
   "cell_type": "markdown",
   "metadata": {},
   "source": [
    "## io Module"
   ]
  },
  {
   "cell_type": "code",
   "execution_count": 12,
   "metadata": {},
   "outputs": [],
   "source": [
    "import io"
   ]
  },
  {
   "cell_type": "raw",
   "metadata": {},
   "source": [
    "• io — Core tools for working with streams \n",
    "• Streams are high-level async/await-ready primitives to work with network connections. \n",
    "• Streams allow sending and receiving data without using callbacks or low-level protocols and transports."
   ]
  },
  {
   "cell_type": "raw",
   "metadata": {},
   "source": [
    "• io module allows us to manage the file-related input and output operations. \n",
    "• advantage: classes and functions available allows us to extend the functionality to enable writing to the Unicode data."
   ]
  },
  {
   "cell_type": "raw",
   "metadata": {},
   "source": [
    "The io module provides Python’s main facilities for dealing with various types of I/O. \n",
    "There are 3 main types of I/O: text I/O, binary I/O and raw I/O (generic categories)\n",
    "Various backing stores can be used for each of them. \n",
    "file object (or stream or file-like object): A concrete object belonging to any of these categories.\n",
    "Stream object capabilities:\n",
    "\t• read-only\n",
    "\t• write-only\n",
    "\t• read-write. \n",
    "Stream object accesses: \n",
    "\t• Arbitrary random access (seeking forwards or backwards to any location), \n",
    "\t• Only sequential access (for example in the case of a socket or pipe).\n",
    "All streams are careful about the type of data you give to them. For example giving a str object to the write() method of a binary stream will raise a TypeError. So will giving a bytes object to the write() method of a text stream."
   ]
  },
  {
   "cell_type": "markdown",
   "metadata": {},
   "source": [
    "### 1. Text I/O"
   ]
  },
  {
   "cell_type": "code",
   "execution_count": null,
   "metadata": {},
   "outputs": [],
   "source": [
    "Expects and produces str objects. This means that whenever the backing store is natively made of bytes (such as in the case of a file), encoding and decoding of data is made transparently as well as optional translation of platform-specific newline characters.\n",
    "The easiest way to create a text stream is with open(), optionally specifying an encoding:"
   ]
  },
  {
   "cell_type": "code",
   "execution_count": 10,
   "metadata": {},
   "outputs": [
    {
     "data": {
      "text/plain": [
       "<_io.TextIOWrapper name='first_file.txt' mode='r' encoding='utf-8'>"
      ]
     },
     "execution_count": 10,
     "metadata": {},
     "output_type": "execute_result"
    }
   ],
   "source": [
    "f = open(\"first_file.txt\", \"r\", encoding=\"utf-8\")\n",
    "f"
   ]
  },
  {
   "cell_type": "code",
   "execution_count": null,
   "metadata": {},
   "outputs": [],
   "source": [
    "In-memory text streams are also available as StringIO objects:"
   ]
  },
  {
   "cell_type": "code",
   "execution_count": 14,
   "metadata": {},
   "outputs": [
    {
     "data": {
      "text/plain": [
       "<_io.StringIO at 0x1fcf4dae1f8>"
      ]
     },
     "execution_count": 14,
     "metadata": {},
     "output_type": "execute_result"
    }
   ],
   "source": [
    "f = io.StringIO(\"some initial text data\")\n",
    "f"
   ]
  },
  {
   "cell_type": "raw",
   "metadata": {},
   "source": [
    "The text stream API is described in detail in the documentation of TextIOBase."
   ]
  },
  {
   "cell_type": "markdown",
   "metadata": {},
   "source": [
    "### 2. Binary I/O (also called buffered I/O)"
   ]
  },
  {
   "cell_type": "code",
   "execution_count": null,
   "metadata": {},
   "outputs": [],
   "source": [
    "Expects bytes-like objects and produces bytes objects. \n",
    "No encoding, decoding, or newline translation is performed. This category of streams can be used for all kinds of non-text data, and also when manual control over the handling of text data is desired.\n",
    "The easiest way to create a binary stream is with open() with 'b' in the mode string"
   ]
  },
  {
   "cell_type": "code",
   "execution_count": 17,
   "metadata": {},
   "outputs": [
    {
     "data": {
      "text/plain": [
       "<_io.BufferedReader name='first_file.txt'>"
      ]
     },
     "execution_count": 17,
     "metadata": {},
     "output_type": "execute_result"
    }
   ],
   "source": [
    "f = open(\"first_file.txt\", \"rb\")\n",
    "f"
   ]
  },
  {
   "cell_type": "code",
   "execution_count": null,
   "metadata": {},
   "outputs": [],
   "source": [
    "In-memory binary streams are also available as BytesIO objects:\n",
    "f = io.BytesIO(b\"some initial binary data: \\x00\\x01\")"
   ]
  },
  {
   "cell_type": "code",
   "execution_count": null,
   "metadata": {},
   "outputs": [],
   "source": [
    "The binary stream API is described in detail in the docs of BufferedIOBase.\n",
    "Other library modules may provide additional ways to create text or binary streams. See socket.socket.makefile() for example."
   ]
  },
  {
   "cell_type": "markdown",
   "metadata": {},
   "source": [
    "### 3. Raw I/O"
   ]
  },
  {
   "cell_type": "code",
   "execution_count": null,
   "metadata": {},
   "outputs": [],
   "source": [
    "Ø Raw I/O (also called unbuffered I/O) is generally used as a low-level building-block for binary and text streams; it is rarely useful to directly manipulate a raw stream from user code. Nevertheless, you can create a raw stream by opening a file in binary mode with buffering disabled:\n",
    "f = open(\"myfile.jpg\", \"rb\", buffering=0)\n",
    "Ø The raw stream API is described in detail in the docs of RawIOBase."
   ]
  },
  {
   "cell_type": "code",
   "execution_count": null,
   "metadata": {},
   "outputs": [],
   "source": [
    "The OS module in python provides functions for interacting with the operating system. OS, comes under Python's standard utility modules. This module provides a portable way of using operating system dependent functionality. The *os* and *os. path* modules include many functions to interact with the file system."
   ]
  },
  {
   "cell_type": "markdown",
   "metadata": {},
   "source": [
    "# Library"
   ]
  },
  {
   "cell_type": "raw",
   "metadata": {},
   "source": [
    "• Collection of modules and packages that come bundled with every installation of Python. \n",
    "• Examples: dateutil, email, json."
   ]
  },
  {
   "cell_type": "code",
   "execution_count": null,
   "metadata": {},
   "outputs": [],
   "source": [
    "Script: Runnable python file that does something when executed. \n",
    "Module: Python files intended to be imported into scripts and other modules.\n",
    "Package: Collection of related modules that aim to achieve a common goal. "
   ]
  },
  {
   "cell_type": "code",
   "execution_count": 2,
   "metadata": {},
   "outputs": [
    {
     "ename": "ModuleNotFoundError",
     "evalue": "No module named 'OOP'",
     "output_type": "error",
     "traceback": [
      "\u001b[1;31m---------------------------------------------------------------------------\u001b[0m",
      "\u001b[1;31mModuleNotFoundError\u001b[0m                       Traceback (most recent call last)",
      "\u001b[1;32m<ipython-input-2-e2356f9b0872>\u001b[0m in \u001b[0;36m<module>\u001b[1;34m\u001b[0m\n\u001b[1;32m----> 1\u001b[1;33m \u001b[1;32mfrom\u001b[0m \u001b[0mOOP\u001b[0m \u001b[1;32mimport\u001b[0m \u001b[0mPlanet\u001b[0m\u001b[1;33m\u001b[0m\u001b[1;33m\u001b[0m\u001b[0m\n\u001b[0m\u001b[0;32m      2\u001b[0m \u001b[0mnaboo\u001b[0m \u001b[1;33m=\u001b[0m \u001b[0mPlanet\u001b[0m\u001b[1;33m(\u001b[0m\u001b[1;34m\"Naboo\"\u001b[0m\u001b[1;33m,\u001b[0m \u001b[1;36m300000\u001b[0m\u001b[1;33m,\u001b[0m \u001b[1;36m8\u001b[0m\u001b[1;33m,\u001b[0m \u001b[1;34m\"Naboo System\"\u001b[0m\u001b[1;33m)\u001b[0m\u001b[1;33m\u001b[0m\u001b[1;33m\u001b[0m\u001b[0m\n\u001b[0;32m      3\u001b[0m \u001b[0mprint\u001b[0m\u001b[1;33m(\u001b[0m\u001b[1;34mf\"Name:{naboo.name}\"\u001b[0m\u001b[1;33m)\u001b[0m\u001b[1;33m\u001b[0m\u001b[1;33m\u001b[0m\u001b[0m\n\u001b[0;32m      4\u001b[0m \u001b[0mprint\u001b[0m\u001b[1;33m(\u001b[0m\u001b[0mnaboo\u001b[0m\u001b[1;33m.\u001b[0m\u001b[0mspin\u001b[0m\u001b[1;33m(\u001b[0m\u001b[1;34m\"a very high speed\"\u001b[0m\u001b[1;33m)\u001b[0m\u001b[1;33m)\u001b[0m\u001b[1;33m\u001b[0m\u001b[1;33m\u001b[0m\u001b[0m\n\u001b[0;32m      5\u001b[0m \u001b[1;33m\u001b[0m\u001b[0m\n",
      "\u001b[1;31mModuleNotFoundError\u001b[0m: No module named 'OOP'"
     ]
    }
   ],
   "source": [
    "from OOP import Planet\n",
    "naboo = Planet(\"Naboo\", 300000, 8, \"Naboo System\")\n",
    "print(f\"Name:{naboo.name}\")\n",
    "print(naboo.spin(\"a very high speed\"))\n",
    "\n",
    "    #packages: collection of modules.\n",
    "    # create a file named space and create an init file   "
   ]
  },
  {
   "cell_type": "markdown",
   "metadata": {},
   "source": [
    "## Counter module"
   ]
  },
  {
   "cell_type": "raw",
   "metadata": {},
   "source": [
    "Dict subclass for counting hashable items.  \n",
    "Sometimes called a bag or multiset.  \n",
    "Elements are stored as dictionary keys and their counts are stored as dictionary values."
   ]
  },
  {
   "cell_type": "code",
   "execution_count": 1,
   "metadata": {},
   "outputs": [],
   "source": [
    "from collections import Counter "
   ]
  },
  {
   "cell_type": "code",
   "execution_count": 25,
   "metadata": {},
   "outputs": [],
   "source": [
    "#help(Counter)"
   ]
  },
  {
   "cell_type": "code",
   "execution_count": 23,
   "metadata": {},
   "outputs": [
    {
     "name": "stdout",
     "output_type": "stream",
     "text": [
      "['__add__', '__and__', '__class__', '__contains__', '__delattr__', '__delitem__', '__dict__', '__dir__', '__doc__', '__eq__', '__format__', '__ge__', '__getattribute__', '__getitem__', '__gt__', '__hash__', '__iadd__', '__iand__', '__init__', '__init_subclass__', '__ior__', '__isub__', '__iter__', '__le__', '__len__', '__lt__', '__missing__', '__module__', '__ne__', '__neg__', '__new__', '__or__', '__pos__', '__reduce__', '__reduce_ex__', '__repr__', '__setattr__', '__setitem__', '__sizeof__', '__str__', '__sub__', '__subclasshook__', '__weakref__', '_keep_positive', 'clear', 'copy', 'elements', 'fromkeys', 'get', 'items', 'keys', 'most_common', 'pop', 'popitem', 'setdefault', 'subtract', 'update', 'values']\n"
     ]
    }
   ],
   "source": [
    "print(dir(Counter))"
   ]
  },
  {
   "cell_type": "code",
   "execution_count": 3,
   "metadata": {},
   "outputs": [
    {
     "data": {
      "text/plain": [
       "Counter({'a': 5, 'b': 4, 'c': 3, 'd': 2, 'e': 1})"
      ]
     },
     "execution_count": 3,
     "metadata": {},
     "output_type": "execute_result"
    }
   ],
   "source": [
    "c = Counter('abcdeabcdabcaba')  # count elements from a string\n",
    "c"
   ]
  },
  {
   "cell_type": "code",
   "execution_count": 4,
   "metadata": {},
   "outputs": [
    {
     "data": {
      "text/plain": [
       "[('a', 5), ('b', 4), ('c', 3)]"
      ]
     },
     "execution_count": 4,
     "metadata": {},
     "output_type": "execute_result"
    }
   ],
   "source": [
    "c.most_common(3)# three most common elements"
   ]
  },
  {
   "cell_type": "code",
   "execution_count": 5,
   "metadata": {},
   "outputs": [
    {
     "data": {
      "text/plain": [
       "['a', 'b', 'c', 'd', 'e']"
      ]
     },
     "execution_count": 5,
     "metadata": {},
     "output_type": "execute_result"
    }
   ],
   "source": [
    "sorted(c) # list all unique elements"
   ]
  },
  {
   "cell_type": "code",
   "execution_count": 8,
   "metadata": {},
   "outputs": [
    {
     "data": {
      "text/plain": [
       "<bound method Counter.elements of Counter({'a': 5, 'b': 4, 'c': 3, 'd': 2, 'e': 1})>"
      ]
     },
     "execution_count": 8,
     "metadata": {},
     "output_type": "execute_result"
    }
   ],
   "source": [
    "c.elements"
   ]
  },
  {
   "cell_type": "code",
   "execution_count": 6,
   "metadata": {},
   "outputs": [
    {
     "data": {
      "text/plain": [
       "'aaaaabbbbcccdde'"
      ]
     },
     "execution_count": 6,
     "metadata": {},
     "output_type": "execute_result"
    }
   ],
   "source": [
    "''.join(sorted(c.elements()))   # list elements with repetitions"
   ]
  },
  {
   "cell_type": "code",
   "execution_count": 9,
   "metadata": {},
   "outputs": [
    {
     "data": {
      "text/plain": [
       "15"
      ]
     },
     "execution_count": 9,
     "metadata": {},
     "output_type": "execute_result"
    }
   ],
   "source": [
    "sum(c.values()) # total of all counts"
   ]
  },
  {
   "cell_type": "code",
   "execution_count": 11,
   "metadata": {},
   "outputs": [
    {
     "data": {
      "text/plain": [
       "5"
      ]
     },
     "execution_count": 11,
     "metadata": {},
     "output_type": "execute_result"
    }
   ],
   "source": [
    "c['a'] # count of letter 'a'"
   ]
  },
  {
   "cell_type": "code",
   "execution_count": 13,
   "metadata": {},
   "outputs": [
    {
     "data": {
      "text/plain": [
       "9"
      ]
     },
     "execution_count": 13,
     "metadata": {},
     "output_type": "execute_result"
    }
   ],
   "source": [
    "for elem in \"shazam\":  # update counts from an iterable\n",
    "    c[elem] +=1        # by adding 1 to each element's count\n",
    "c[\"a\"] # now there are seven 'a'"
   ]
  },
  {
   "cell_type": "code",
   "execution_count": 14,
   "metadata": {},
   "outputs": [],
   "source": [
    "del c['b']  # remove all 'b'"
   ]
  },
  {
   "cell_type": "code",
   "execution_count": 15,
   "metadata": {},
   "outputs": [
    {
     "data": {
      "text/plain": [
       "0"
      ]
     },
     "execution_count": 15,
     "metadata": {},
     "output_type": "execute_result"
    }
   ],
   "source": [
    "c['b'] # now there are zero 'b'\n"
   ]
  },
  {
   "cell_type": "code",
   "execution_count": 26,
   "metadata": {},
   "outputs": [],
   "source": [
    "numbers = [1, 3, 7, 4, 3, 0, 3, 6, 3]\n",
    "x = 3\n",
    "d = Counter(numbers) "
   ]
  },
  {
   "cell_type": "code",
   "execution_count": 17,
   "metadata": {},
   "outputs": [
    {
     "data": {
      "text/plain": [
       "Counter({1: 1, 3: 4, 7: 1, 4: 1, 0: 1, 6: 1})"
      ]
     },
     "execution_count": 17,
     "metadata": {},
     "output_type": "execute_result"
    }
   ],
   "source": [
    "d"
   ]
  },
  {
   "cell_type": "code",
   "execution_count": 18,
   "metadata": {},
   "outputs": [
    {
     "name": "stdout",
     "output_type": "stream",
     "text": [
      "the most frequent number is 3 and it was 4 times repeated.\n"
     ]
    }
   ],
   "source": [
    "print('the most frequent number is {} and it was {} times repeated.'.format(x, d[x])) "
   ]
  },
  {
   "cell_type": "code",
   "execution_count": 28,
   "metadata": {},
   "outputs": [
    {
     "data": {
      "text/plain": [
       "7"
      ]
     },
     "execution_count": 28,
     "metadata": {},
     "output_type": "execute_result"
    }
   ],
   "source": [
    "max(numbers)"
   ]
  },
  {
   "cell_type": "code",
   "execution_count": 31,
   "metadata": {},
   "outputs": [
    {
     "data": {
      "text/plain": [
       "1"
      ]
     },
     "execution_count": 31,
     "metadata": {},
     "output_type": "execute_result"
    }
   ],
   "source": [
    "numbers.count(7)"
   ]
  },
  {
   "cell_type": "code",
   "execution_count": 33,
   "metadata": {},
   "outputs": [
    {
     "data": {
      "text/plain": [
       "3"
      ]
     },
     "execution_count": 33,
     "metadata": {},
     "output_type": "execute_result"
    }
   ],
   "source": [
    "max(numbers, key = numbers.count)"
   ]
  },
  {
   "cell_type": "code",
   "execution_count": 27,
   "metadata": {},
   "outputs": [],
   "source": [
    "a = max(numbers, key = numbers.count)"
   ]
  },
  {
   "cell_type": "code",
   "execution_count": 34,
   "metadata": {},
   "outputs": [],
   "source": [
    "b = numbers.count(a)"
   ]
  },
  {
   "cell_type": "code",
   "execution_count": 35,
   "metadata": {},
   "outputs": [
    {
     "name": "stdout",
     "output_type": "stream",
     "text": [
      "the most frequent number is 3 and it was 4 times repeated\n"
     ]
    }
   ],
   "source": [
    "print(\"the most frequent number is {} and it was {} times repeated\". format(a, b))"
   ]
  },
  {
   "cell_type": "markdown",
   "metadata": {},
   "source": [
    "## zipfile module"
   ]
  },
  {
   "cell_type": "raw",
   "metadata": {},
   "source": [
    "Docstring: Read and write ZIP files."
   ]
  },
  {
   "cell_type": "code",
   "execution_count": 2,
   "metadata": {},
   "outputs": [],
   "source": [
    "import zipfile"
   ]
  },
  {
   "cell_type": "code",
   "execution_count": 5,
   "metadata": {},
   "outputs": [],
   "source": [
    "my_zip = zipfile.ZipFile(\"C:/Users/Owner/zip.zip\", \"w\") # ZipFile() is a class, put in it what you wanna call this archieve\n",
    "                                            # open this in write mode.    "
   ]
  },
  {
   "cell_type": "code",
   "execution_count": 7,
   "metadata": {},
   "outputs": [
    {
     "name": "stderr",
     "output_type": "stream",
     "text": [
      "C:\\Users\\Owner\\anaconda3\\lib\\zipfile.py:1506: UserWarning: Duplicate name: 'Users/Owner/zip.txt'\n",
      "  return self._open_to_write(zinfo, force_zip64=force_zip64)\n"
     ]
    }
   ],
   "source": [
    "my_zip.write(\"C:/Users/Owner/zip.txt\")\n",
    "my_zip.write(\"C:/Users/Owner/zip.xlsx\")\n",
    "my_zip.close()"
   ]
  },
  {
   "cell_type": "markdown",
   "metadata": {},
   "source": [
    "#### With context manager"
   ]
  },
  {
   "cell_type": "code",
   "execution_count": 20,
   "metadata": {},
   "outputs": [],
   "source": [
    "with zipfile.ZipFile(\"files.zip\", \"w\", compression = zipfile.ZIP_DEFLATED) as my_zip:  \n",
    "    my_zip.write(\"test.txt\")\n",
    "    my_zip.write(\"download.png\")"
   ]
  },
  {
   "cell_type": "markdown",
   "metadata": {},
   "source": [
    "### Extracting zip file"
   ]
  },
  {
   "cell_type": "code",
   "execution_count": 9,
   "metadata": {},
   "outputs": [
    {
     "name": "stdout",
     "output_type": "stream",
     "text": [
      "<zipfile.ZipFile filename='C:/Users/Owner/zip.zip' mode='r'>\n"
     ]
    }
   ],
   "source": [
    "with zipfile.ZipFile(\"C:/Users/Owner/zip.zip\", \"r\") as my_zip:  \n",
    "    print(my_zip)"
   ]
  },
  {
   "cell_type": "code",
   "execution_count": 10,
   "metadata": {},
   "outputs": [
    {
     "name": "stdout",
     "output_type": "stream",
     "text": [
      "['Users/Owner/zip.txt', 'Users/Owner/zip.txt', 'Users/Owner/zip.xlsx']\n"
     ]
    }
   ],
   "source": [
    "with zipfile.ZipFile(\"C:/Users/Owner/zip.zip\", \"r\") as my_zip:  \n",
    "    print(my_zip.namelist())"
   ]
  },
  {
   "cell_type": "code",
   "execution_count": 11,
   "metadata": {},
   "outputs": [],
   "source": [
    "with zipfile.ZipFile(\"C:/Users/Owner/zip.zip\", \"r\") as my_zip:  \n",
    "    my_zip.extractall(\"files\")"
   ]
  },
  {
   "cell_type": "code",
   "execution_count": 24,
   "metadata": {},
   "outputs": [],
   "source": [
    "with zipfile.ZipFile(\"files.zip\", \"r\") as my_zip:  \n",
    "    my_zip.extract(\"test.txt\")"
   ]
  },
  {
   "cell_type": "markdown",
   "metadata": {},
   "source": [
    "## shutil module"
   ]
  },
  {
   "cell_type": "code",
   "execution_count": 25,
   "metadata": {},
   "outputs": [],
   "source": [
    "import shutil"
   ]
  },
  {
   "cell_type": "code",
   "execution_count": 27,
   "metadata": {},
   "outputs": [
    {
     "data": {
      "text/plain": [
       "'D:\\\\github\\\\Python\\\\another.zip'"
      ]
     },
     "execution_count": 27,
     "metadata": {},
     "output_type": "execute_result"
    }
   ],
   "source": [
    "shutil.make_archive(\"another\", \"zip\", \"files\")"
   ]
  },
  {
   "cell_type": "code",
   "execution_count": 29,
   "metadata": {},
   "outputs": [],
   "source": [
    "shutil.unpack_archive(\"another.zip\", \"another\")"
   ]
  },
  {
   "cell_type": "code",
   "execution_count": 13,
   "metadata": {},
   "outputs": [],
   "source": [
    "import requests"
   ]
  },
  {
   "cell_type": "code",
   "execution_count": 14,
   "metadata": {},
   "outputs": [],
   "source": [
    "r = requests.get(\"https://info.stackoverflowsolutions.com/rs/719-EMH-566/images/stack-overflow-developer-survey-2021.zip\")"
   ]
  },
  {
   "cell_type": "code",
   "execution_count": 32,
   "metadata": {},
   "outputs": [],
   "source": [
    "with open(\"data.zip\", \"wb\") as f:\n",
    "    f.write(r.content)"
   ]
  },
  {
   "cell_type": "code",
   "execution_count": 34,
   "metadata": {},
   "outputs": [
    {
     "name": "stdout",
     "output_type": "stream",
     "text": [
      "['README_2021.txt', 'so_survey_2021.pdf', 'survey_results_public.csv', 'survey_results_schema.csv']\n"
     ]
    }
   ],
   "source": [
    "with zipfile.ZipFile(\"data.zip\", \"r\") as data_zip:\n",
    "    print(data_zip.namelist())"
   ]
  },
  {
   "cell_type": "code",
   "execution_count": null,
   "metadata": {},
   "outputs": [],
   "source": []
  }
 ],
 "metadata": {
  "kernelspec": {
   "display_name": "Python 3",
   "language": "python",
   "name": "python3"
  },
  "language_info": {
   "codemirror_mode": {
    "name": "ipython",
    "version": 3
   },
   "file_extension": ".py",
   "mimetype": "text/x-python",
   "name": "python",
   "nbconvert_exporter": "python",
   "pygments_lexer": "ipython3",
   "version": "3.7.6"
  }
 },
 "nbformat": 4,
 "nbformat_minor": 4
}
