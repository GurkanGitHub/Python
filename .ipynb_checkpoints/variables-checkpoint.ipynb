{
 "cells": [
  {
   "cell_type": "markdown",
   "metadata": {},
   "source": [
    "# Variables"
   ]
  },
  {
   "cell_type": "raw",
   "metadata": {},
   "source": [
    "• Designated location where a value can be stored and accessed later. Box analogy.\n",
    "Ø Wind up acting placeholders inside of your code for some values. First_name is going to wind up being \"Christopher\". Wind up: bir değer alması, duruma gelmesi\n",
    "Ø Creating, naming the variable and assigning a value: happen simultaneously by this syntax : ball_box = 20 basketball balls\n",
    "Pvars don't need explicit declaration to reserve memory space. It happens automatically when you assign a value.\n",
    "Ø To create a variable /specify the vname and then assign a value to it using 👉🏻=\n",
    "Ø The formula syntax of creating v and assigning value: v_name = value"
   ]
  },
  {
   "cell_type": "markdown",
   "metadata": {},
   "source": [
    "## Examples:"
   ]
  },
  {
   "cell_type": "code",
   "execution_count": 3,
   "metadata": {},
   "outputs": [
    {
     "name": "stdout",
     "output_type": "stream",
     "text": [
      "blue, 250, winter\n"
     ]
    }
   ],
   "source": [
    "color = 'red'  # str type variable\n",
    "price = 250  # int type variable\n",
    "pi = 3.14  # float type variable\n",
    "color = 'blue'  # You can always assign a new value to a created variable\n",
    "season = \"winter\"\n",
    "print(color, price, season, sep=', ')"
   ]
  },
  {
   "cell_type": "raw",
   "metadata": {},
   "source": [
    "💡Tips: the last value assigned to a variable is valid."
   ]
  },
  {
   "cell_type": "markdown",
   "metadata": {},
   "source": [
    "### Possible to assign the value of one variable to another:"
   ]
  },
  {
   "cell_type": "code",
   "execution_count": 2,
   "metadata": {},
   "outputs": [
    {
     "name": "stdout",
     "output_type": "stream",
     "text": [
      "5, 5, 5\n"
     ]
    }
   ],
   "source": [
    "a = 5\n",
    "b = 55\n",
    "c = 555\n",
    "c = a\n",
    "b = c\n",
    "a = b\n",
    "print(a, b, c, sep=', ') "
   ]
  },
  {
   "cell_type": "raw",
   "metadata": {},
   "source": [
    "⚠️Avoid ! :If you use undefined name of a variable in the code you write, you will get an 'NameError' message."
   ]
  },
  {
   "cell_type": "markdown",
   "metadata": {},
   "source": [
    "## Scope of the Variables"
   ]
  },
  {
   "cell_type": "markdown",
   "metadata": {},
   "source": [
    "### Namespace"
   ]
  },
  {
   "cell_type": "raw",
   "metadata": {},
   "source": [
    "The namespace is a fundamental idea to structure and organize the code that is more useful in large projects. A namespace is defined as a simple system to control the names in a program. It ensures that names are unique and won't lead to any conflict. Also, Pimplements namespaces in the form of dictionaries and maintains name-to-object mapping where names act as keys and the objects as values. "
   ]
  },
  {
   "cell_type": "raw",
   "metadata": {},
   "source": [
    "• system in which each object (method or variable) has a separate name. \n",
    "• mapping from names to objects. \n",
    "• Most namespaces are currently implemented as Pdictionaries, but that’s normally not noticeable in any way (except for performance), and it may change in the future.\n",
    "• For example: imagine that you have two files named 'my_python' on your computer both on drive-C and drive-D. You can easily access which file you want, by the file-path system. It can be easily understood which file is on which drive by looking at their file path.\n",
    "• In the program stream, the Pinterpreter understands what specific method or variable one is trying to access in the code, depending on the namespaces.\n",
    "• Namespaces are created at different moments and have different lifetimes. The namespace containing the built-in names is created when the Pinterpreter starts up and is never deleted.\n",
    "• In the following figure, you can see some variables which have the same names are in the different modules (namespaces) at the same time. You can work with the variable that you want using this syntax : module.variable. Considering this figure, we can call var1 in Module2 like : module2.var1\n",
    "\t○ Modül: uzun kod blokları, python dosyası, \n",
    "    ○ İçerisinde değişkenler var, aynı isimde ama farklı modüllerde yani namespacelerde.\n",
    "    ○ Örnek: var1 değişkeni module1'in içinde. Bunu nasıl çağırırım: module1.var1\n",
    "    ○ Yani burada module namespace oluyor abi. "
   ]
  },
  {
   "cell_type": "markdown",
   "metadata": {},
   "source": [
    "### Scope"
   ]
  },
  {
   "cell_type": "raw",
   "metadata": {},
   "source": [
    "• is a concept describes in which space the variables are defined. \n",
    "• is a textual region of a Pprogram where a namespace is directly accessible (an unqualified reference to a name attempts to find the name in the namespace).\n",
    "• The term scope is mostly related to nested functions, modules, and the main program flow in accordance with the use of variables. It describes the accessibility and the existence of a variable.\n",
    "• A scope defines the hierarchical order in which the names of the variables have to exist in order to match names with the objects (variables).\n",
    "• Scope, hiyerarşik düzenin bir ifadesidir. İç içe fonksiyonları düşün abi. Örnek şöyle:\n",
    "Def ...\n",
    "\tDef ....\n",
    "        Def ....\n",
    "\t\t\t• İşte bu iç içe fonksiyonların içindeki değişkenleri tanımlarkene scope diye bir konsept var. Değişkenin hangi fonksiyonda olduğunu tanımamızı sağlıyor abi. \n",
    "\t\t\t• Şiir txt. Dosyası var D'nin içinde benim lasöründe. Bunu açmak için benim klasörüne tıklarız sonra şiir txt'yi açarız. "
   ]
  },
  {
   "cell_type": "raw",
   "metadata": {},
   "source": [
    "Example"
   ]
  },
  {
   "cell_type": "code",
   "execution_count": 4,
   "metadata": {},
   "outputs": [
    {
     "name": "stdout",
     "output_type": "stream",
     "text": [
      "inner variable\n",
      "outer variable\n"
     ]
    }
   ],
   "source": [
    "my_var = 'outer variable'\n",
    "def func_var(): \n",
    "    my_var= 'inner variable'\n",
    "    print(my_var) \n",
    "func_var() \n",
    "print(my_var)"
   ]
  },
  {
   "cell_type": "raw",
   "metadata": {},
   "source": [
    "• Name of variable (my_var) used 2times: in function body (func_var) and at top. \n",
    "• When you call the function (func_var) or print directly the variable (my_var), same variable produces different outputs. This is because of the location (space) of that variable, that is, where or in which space it is defined in the program."
   ]
  },
  {
   "cell_type": "code",
   "execution_count": null,
   "metadata": {},
   "outputs": [],
   "source": [
    "\n",
    "\n",
    "○ Global and Local Variables: When you define a variable in the Python program stream it is global or local, depending on in which space it is defined. \n",
    "\t\t\n",
    "\t\tØ Global Variable:\n",
    "\t\t\n",
    "\t\t\t• If the variable is at the highest level of a module, that becomes global. \n",
    "\t\t\t• So you have the freedom to use this in a block of code anywhere.\n",
    "\t\t\t• Gvs allow us to make some interactions between functions.\n",
    "\t\t\t• For example, suppose we store the credentials of a student who has applied for Clarusway in a gv. Let's assume that we use this gv many times in 3 different functions that we have defined regarding course activities. Gv provides us with convenience when the credentials of the person change. Only when we rearrange the information in this gv will our variables in all functions be rearranged.\n",
    "\t\t\n",
    "\t\tØ Local Variable:\n",
    "\t\t\n",
    "\t\t\t• The variables you have defined in a function body are local. The name of this variable is therefore only valid in the function body to which it is located. Local variables eliminate some of the confusion risks that global variables can cause.\n",
    "\t\t\n",
    "\t\tØ Example:\n",
    "\t\t\n",
    "\t\ttext = \"I am the global one\"\n",
    "\t\t\n",
    "\t\tdef global_func():\n",
    "\t\t\tprint(text)       # we can use 'text' in a function, # because it's a global variable\n",
    "\t\t\n",
    "\t\tglobal_func()  # 'I am the global one' will be printed\n",
    "\t\t\n",
    "\t\tprint(text)  # it can also be printed outside of the function\n",
    "\t\t\n",
    "\t\ttext = \"The globals are valid everywhere \" # we changed the value of 'text', \n",
    "\t\t\n",
    "\t\tglobal_func() # 'The globals are valid everywhere' will be printed\n",
    "\t\t\n",
    "\t\tdef local_func():\n",
    "\t\t\tlocal_text = \"I am the local one\"\n",
    "\t\t\tprint(local_text)  # local_text is a local variable\n",
    "\t\t\n",
    "\t\tlocal_func()  # 'I am the local one' will be printed as expected\n",
    "\t\t\n",
    "\t\tprint(local_text)  # NameError will be raised, # because we can't use local variable outside of its function\n",
    "\t\t\n",
    "\t\toutput :\n",
    "\t\t\n",
    "\t\tI am the global one\n",
    "\t\tI am the global one\n",
    "\t\tThe globals are valid everywhere \n",
    "\t\tI am the local one\n",
    "\t\t----------------------------------------------------\n",
    "\t\t    -----------------------\n",
    "\t\tNameError: name 'local_text' is not defined\n",
    "\t\t\n",
    "\t\t\t• GV can be accessed 1. from the top-level of module 2. from the body of funct.\n",
    "\t\t\t\n",
    "\t\t\t• LV is valid only in the function's body it is defined. \n",
    "\t\t\n",
    "\t\t💡Tips: Where to use this: If you are writing a relatively long algorithm, you will eventually need to work with the nested functions and modules.\n",
    "\t\t\n",
    "\t\tQ: What are lv and gv?\n",
    "\t\tA: Variables declared outside a function or in global space are called global variables. These variables can be accessed by any function in the program. Any variable declared inside a function is known as a local variable. This variable is present in the local space and not in the global space. When you try to access the local variable outside the function, it will give an error. - Interview Q&A\n",
    "\t\t\n",
    "\t○ LEGB Ranking Rule: \n",
    "\t\t\n",
    "\t\tØ When you call an object (method or variable), the interpreter looks for its name in the following order. The order given down is known as LEGB Ranking Rule.\n",
    "\t\t\t1. Locals. Innermost scope (searched first), contains the local names defined in a function body.\n",
    "\t\t\t2. Enclosing.(bir dış) The scopes of any enclosing functions, which are searched starting with the nearest enclosing scope (from inner to outer), contains non-local, but also non-global names.\n",
    "\t\t\t3. Globals. It contains the current module’s global names. The variables defined at the top-level of its module.\n",
    "\t\t\t4. Built-in. Outermost scope (searched last) is the namespace containing built-in names.\n",
    "\t\tØ max = \"bu benim\" # max normalde bif. ama değişkene atandığında ele geçiririz. bizim verdiğimiz işi yapar\n",
    "\t\tØ  Example :\n",
    "\t\t\n",
    "\t\tvariable = \"global\"\n",
    "\t\t\n",
    "\t\tdef func_outer():\n",
    "\t\t\tvariable = \"enclosing outer local\"\n",
    "\t\t\tdef func_inner():\n",
    "\t\t\t\tvariable = \"enclosing inner local\"\n",
    "\t\t\t\tdef func_local():\n",
    "\t\t\t\t\tvariable = \"local\"\n",
    "\t\t\t\t\tprint(variable)\n",
    "\t\t\t\tfunc_local()\n",
    "\t\t\tfunc_inner()\n",
    "\t\tfunc_outer()  # prints 'local' defined in the innermost function\n",
    "\t\t\n",
    "\t\tprint(variable)  # 'global' level variable holds its value\n",
    "\t\t\n",
    "\t\toutput :\n",
    "\t\t\n",
    "\t\tlocal\n",
    "\t\tglobal\n",
    "\t\t\n",
    "\t\t\t• During the execution of code, interpreter has to resolve the name 'variable'.  \n",
    "\t\t\t• The searching order will be as follows: \n",
    "\t\t\t\t○ 'local' in func_local, \n",
    "\t\t\t\t○ 'enclosing inner local' in func_inner,\n",
    "\t\t\t\t○ 'enclosing outer local' in func_outer, \n",
    "\t\t\t\t○ globals and, \n",
    "\t\t\t\t○ built-in names. You can examine LEGB Rule in the following figure. \n"
   ]
  },
  {
   "cell_type": "code",
   "execution_count": null,
   "metadata": {},
   "outputs": [],
   "source": []
  },
  {
   "cell_type": "code",
   "execution_count": null,
   "metadata": {},
   "outputs": [],
   "source": []
  },
  {
   "cell_type": "code",
   "execution_count": null,
   "metadata": {},
   "outputs": [],
   "source": [
    "\t○ 'global' and 'nonlocal'\n",
    "\t\n",
    "\t\tØ Variable defined in funcbody becomes local. In some cases, we want to work with the variables defined as a global scope in the funcbody. Normally they are perceived globally and processed accordingly.\n",
    "\t\t\n",
    "\t\tØ Or we may need to work with the nonlocal variables in the funcbody. The keywords global and nonlocal save us from these restrictions.\n",
    "\t\t\n",
    "\t\tØ Keyword 'global'\n",
    "\t\t\n",
    "\t\t\t• You can not change the value assigned to a globally defined variable within a function. To do this we use the keyword global. If you examine the example below you will understand better.\n",
    "\t\t\t\n",
    "\t\t\tcount = 1\n",
    "\t\t\tdef print_global():\n",
    "\t\t\t\tprint(count)\n",
    "\t\t\t\n",
    "\t\t\tprint_global()\n",
    "\t\t\t\n",
    "\t\t\tdef counter():\n",
    "\t\t\t\tprint(count)\n",
    "\t\t\t\tcount += 1  # we're trying to change its value\n",
    "\t\t\t\n",
    "\t\t\tprint()  # just empty line\n",
    "\t\t\tcounter() \n",
    "\t\t\t\n",
    "\t\t\toutput :\n",
    "\t\t\t\n",
    "\t\t\t1\n",
    "\t\t\tTraceback (most recent call last):\n",
    "\t\t\t\tFile \"code.py\", line 11, in <module>\n",
    "\t\t\t\t\tcounter() \n",
    "\t\t\t\tFile \"code.py\", line 8, in counter\n",
    "\t\t\t\t\tprint(count)\n",
    "\t\t\t\n",
    "\t\t\tUnboundLocalError: local variable 'count' referenced before assignment\n",
    "\t\t\n",
    "\t\t\t• If you try to assign a value contains local variable expressions to a global variable, UnboundLocalError will raise. \n",
    "\t\t\t\n",
    "\t\t\t• We've tried to assign a value to the count variable using an expression contains the count variable. This is because the interpreter can't find this variable in the local scope. So, let's use the keyword global to solve this problem.\n",
    "\t\t\n",
    "\t\t\tcount = 1\n",
    "\t\t\t\n",
    "\t\t\tdef counter():\n",
    "\t\t\t\tglobal count  # we've changed its scope\n",
    "\t\t\t\tprint(count)  # it's global anymore\n",
    "\t\t\t\tcount += 1\n",
    "\t\t\t\n",
    "\t\t\tcounter() \n",
    "\t\t\tcounter()\n",
    "\t\t\tcounter()\n",
    "\t\t\t\n",
    "\t\t\t1\n",
    "\t\t\t2\n",
    "\t\t\t3\n",
    "\t\t\n",
    "\t\t\t• The reason for the error in the previous program is that the variable (count) we tried to modify could not be found by the interpreter in the local scope. It's because we used global variable in the local scope.\n",
    "\t\t\n",
    "\t\tØ Keyword 'nonlocal'\n",
    "\t\t\n",
    "\t\t\t• Lokal olan bir değişkenin bir üst scope'ta çalışmasını sağlıyor. \n",
    "\t\t\t\n",
    "\t\t\t• On the other hand, you can use the keyword nonlocal to extend the scope of the local variable to an upper scope. Consider the examples of nonlocalization :\n",
    "\t\t\n",
    "\t\t\tdef func_enclosing1():\n",
    "\t\t\t\tx = 'outer variable'\n",
    "\t\t\t\tdef func_enclosing2():\n",
    "\t\t\t\t\tx = 'inner variable'\n",
    "\t\t\t\t\tprint(\"inner:\", x)\n",
    "\t\t\t\tfunc_enclosing2()\n",
    "\t\t\t\tprint(\"outer:\", x)\n",
    "\t\t\t\n",
    "\t\t\tfunc_enclosing1() \n",
    "\t\t\t\n",
    "\t\t\tinner: inner variable\n",
    "\t\t\touter: outer variable\n",
    "\t\t\n",
    "\t\t\t• We will make the variable x nonlocal so we can use its inner-value in the outer function (scope). Let's see.\n",
    "\t\t\n",
    "\t\t\tdef enclosing_func1():\n",
    "\t\t\t\tx = 'outer variable'\n",
    "\t\t\t\tdef enclosing_func2():\n",
    "\t\t\t\t\tnonlocal x  # its inner-value can be used in the outer scope\n",
    "\t\t\t\t\tx = 'inner variable'\n",
    "\t\t\t\t\tprint(\"inner:\", x)\n",
    "\t\t\t\tenclosing_func2()\n",
    "\t\t\t\tprint(\"outer:\", x)\n",
    "\t\t\t\n",
    "\t\t\tenclosing_func1() \n",
    "\t\t\t\n",
    "\t\t\tinner: inner variable\n",
    "\t\t\touter: inner variable\n",
    "\t\t\t\n",
    "\t\t💡Tips: Frankly, these keywords are not widely used in programming but are worth discussing.\n",
    "\t\t\n",
    "\t\t\n"
   ]
  }
 ],
 "metadata": {
  "kernelspec": {
   "display_name": "Python 3",
   "language": "python",
   "name": "python3"
  },
  "language_info": {
   "codemirror_mode": {
    "name": "ipython",
    "version": 3
   },
   "file_extension": ".py",
   "mimetype": "text/x-python",
   "name": "python",
   "nbconvert_exporter": "python",
   "pygments_lexer": "ipython3",
   "version": "3.7.6"
  }
 },
 "nbformat": 4,
 "nbformat_minor": 4
}
