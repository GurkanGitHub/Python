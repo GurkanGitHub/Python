{
 "cells": [
  {
   "cell_type": "markdown",
   "metadata": {},
   "source": [
    "### Collection Types"
   ]
  },
  {
   "cell_type": "raw",
   "metadata": {},
   "source": [
    "Data types like int and string hold a single value, collection types hold multiple values.\n",
    "They are used to group several items to render as a single object. "
   ]
  },
  {
   "cell_type": "markdown",
   "metadata": {},
   "source": [
    "# Tuples"
   ]
  },
  {
   "cell_type": "code",
   "execution_count": null,
   "metadata": {},
   "outputs": [],
   "source": [
    "Kind of data structure, basically means: container where we can store different values"
   ]
  },
  {
   "cell_type": "markdown",
   "metadata": {},
   "source": [
    "## Definition"
   ]
  },
  {
   "cell_type": "raw",
   "metadata": {},
   "source": [
    "• Another collection type. \n",
    "• Commonly used for small collections of values that will not need to change, such as an IP address and port. \n",
    "• For unchanged data tuples is used because they are faster than lists.\n",
    "• The same indexing rules for lists also apply to tuples. \n",
    "• Tuples can also be nested and the values can be any valid data types. \n",
    "• Case analogy.  Put data, close the lid and not change."
   ]
  },
  {
   "cell_type": "raw",
   "metadata": {},
   "source": [
    "⚠️Attention !: Tuple is similar to list. Difference: tuple is immutable. Methods like append() or remove() do not exist."
   ]
  },
  {
   "cell_type": "markdown",
   "metadata": {},
   "source": [
    "### Benefits of Immutability: Basic advantages of tuples"
   ]
  },
  {
   "cell_type": "raw",
   "metadata": {},
   "source": [
    "• Tuples are faster and more powerful in-memory than lists. Need to deal with large amounts of data: Tuple. \n",
    "• If you don't want to change your data you may have to choose tuples.\n",
    "• İmmutability- data in a tuple can not be altered by mistake.\n",
    "• A tuple can be used as a dictionary (we will see in the next lesson) key, while 'TypeError' can result in lists as keys. And this is the usefulness of tuples in the data processing."
   ]
  },
  {
   "cell_type": "markdown",
   "metadata": {},
   "source": [
    "## Creating a Tuple"
   ]
  },
  {
   "cell_type": "markdown",
   "metadata": {},
   "source": [
    "### 1. By `enclosing values in parentheses` 👉🏻'()', separated by commas."
   ]
  },
  {
   "cell_type": "code",
   "execution_count": 5,
   "metadata": {},
   "outputs": [
    {
     "name": "stdout",
     "output_type": "stream",
     "text": [
      "(1, 2, 3)\n",
      "<class 'tuple'>\n"
     ]
    }
   ],
   "source": [
    "tuple = (1,2,3)\n",
    "print(tuple)\n",
    "print(type((1,2,3)))"
   ]
  },
  {
   "cell_type": "code",
   "execution_count": 2,
   "metadata": {},
   "outputs": [
    {
     "data": {
      "text/plain": [
       "tuple"
      ]
     },
     "execution_count": 2,
     "metadata": {},
     "output_type": "execute_result"
    }
   ],
   "source": [
    "empty_tuple = ()#empty tuple \n",
    "type(empty_tuple)"
   ]
  },
  {
   "cell_type": "code",
   "execution_count": 3,
   "metadata": {},
   "outputs": [
    {
     "name": "stdout",
     "output_type": "stream",
     "text": [
      "<class 'tuple'>\n"
     ]
    }
   ],
   "source": [
    "print(type(empty_tuple))"
   ]
  },
  {
   "cell_type": "raw",
   "metadata": {},
   "source": [
    "○ For single element tuples and a comma used at the end of the element."
   ]
  },
  {
   "cell_type": "code",
   "execution_count": 6,
   "metadata": {},
   "outputs": [
    {
     "name": "stdout",
     "output_type": "stream",
     "text": [
      "('love',)\n",
      "<class 'tuple'>\n"
     ]
    }
   ],
   "source": [
    "try_tuple = (\"love\",)# If no comma, then it becomes string.\n",
    "print(try_tuple)\n",
    "print(type(try_tuple))"
   ]
  },
  {
   "cell_type": "raw",
   "metadata": {},
   "source": [
    "○ Separating more than one elements: commas."
   ]
  },
  {
   "cell_type": "code",
   "execution_count": 23,
   "metadata": {},
   "outputs": [
    {
     "name": "stdout",
     "output_type": "stream",
     "text": [
      "<class 'tuple'> ('apple', 'pear')\n"
     ]
    }
   ],
   "source": [
    "tuple_ex = (\"apple\", \"pear\")\n",
    "print(type(tuple_ex), tuple_ex)"
   ]
  },
  {
   "cell_type": "markdown",
   "metadata": {},
   "source": [
    "### 2. By `tuple()` function. "
   ]
  },
  {
   "cell_type": "markdown",
   "metadata": {},
   "source": [
    "`Docstring`: Built-in immutable sequence."
   ]
  },
  {
   "cell_type": "raw",
   "metadata": {},
   "source": [
    "• If no argument is given, the constructor returns an empty tuple.\n",
    "• If iterable is specified the tuple is initialized from iterable's items.\n",
    "• If the argument is a tuple, the return value is the same object."
   ]
  },
  {
   "cell_type": "code",
   "execution_count": 9,
   "metadata": {},
   "outputs": [
    {
     "ename": "TypeError",
     "evalue": "'tuple' object is not callable",
     "output_type": "error",
     "traceback": [
      "\u001b[1;31m---------------------------------------------------------------------------\u001b[0m",
      "\u001b[1;31mTypeError\u001b[0m                                 Traceback (most recent call last)",
      "\u001b[1;32m<ipython-input-9-b743dbd111a7>\u001b[0m in \u001b[0;36m<module>\u001b[1;34m\u001b[0m\n\u001b[1;32m----> 1\u001b[1;33m \u001b[0mtuple\u001b[0m\u001b[1;33m(\u001b[0m\u001b[1;33m)\u001b[0m\u001b[1;33m\u001b[0m\u001b[1;33m\u001b[0m\u001b[0m\n\u001b[0m",
      "\u001b[1;31mTypeError\u001b[0m: 'tuple' object is not callable"
     ]
    }
   ],
   "source": [
    "tuple()"
   ]
  },
  {
   "cell_type": "raw",
   "metadata": {},
   "source": [
    "○ Used if tuple be made of an iterable object: that is, a type of object whose elements you can import individually.\n",
    "○ The tuple is also iterable like other collections and string types. \n",
    "○ With this function, you can create an empty tuple as well. "
   ]
  },
  {
   "cell_type": "code",
   "execution_count": 9,
   "metadata": {},
   "outputs": [],
   "source": [
    "empty_tuple = tuple()"
   ]
  },
  {
   "cell_type": "code",
   "execution_count": 6,
   "metadata": {},
   "outputs": [
    {
     "name": "stdout",
     "output_type": "stream",
     "text": [
      "('mercury', 'jupyter', 'saturn')\n",
      "<class 'tuple'>\n"
     ]
    }
   ],
   "source": [
    "planets = \"mercury\", \"jupyter\", \"saturn\"\n",
    "print(planets)\n",
    "print(type(planets))"
   ]
  },
  {
   "cell_type": "markdown",
   "metadata": {},
   "source": [
    "### Convert between list and tuple."
   ]
  },
  {
   "cell_type": "code",
   "execution_count": 15,
   "metadata": {},
   "outputs": [
    {
     "name": "stdout",
     "output_type": "stream",
     "text": [
      "[1, 4, 3, 4, 5, 6, 7, 4]\n",
      "<class 'list'>\n"
     ]
    }
   ],
   "source": [
    "my_tuple = (1,4,3,4,5,6,7,4)\n",
    "my_list = list(my_tuple)\n",
    "print(my_list)\n",
    "print(type(my_list))"
   ]
  },
  {
   "cell_type": "code",
   "execution_count": 16,
   "metadata": {},
   "outputs": [
    {
     "name": "stdout",
     "output_type": "stream",
     "text": [
      "(1, 4, 3, 4, 5, 6, 7, 4)\n",
      "<class 'tuple'>\n"
     ]
    }
   ],
   "source": [
    "my_list= [1,4,3,4,5,6,7,4]\n",
    "my_tuple = tuple(my_list)\n",
    "print(my_tuple)\n",
    "print(type(my_tuple))"
   ]
  },
  {
   "cell_type": "markdown",
   "metadata": {},
   "source": [
    "#### An iterable string can be converted to a tuple :"
   ]
  },
  {
   "cell_type": "code",
   "execution_count": 17,
   "metadata": {},
   "outputs": [
    {
     "name": "stdout",
     "output_type": "stream",
     "text": [
      "('A', 'l', 'p', 's')\n"
     ]
    }
   ],
   "source": [
    "mountain = tuple('Alps')\n",
    "print(mountain) "
   ]
  },
  {
   "cell_type": "markdown",
   "metadata": {},
   "source": [
    "### How can We Use a Tuple ?"
   ]
  },
  {
   "cell_type": "code",
   "execution_count": null,
   "metadata": {},
   "outputs": [],
   "source": [
    "• Both lists and tuples are ordered (when storing elements  sure that their order will remain the same. \n",
    "• You can also duplicate values or mix different dts in tuples."
   ]
  },
  {
   "cell_type": "code",
   "execution_count": 10,
   "metadata": {},
   "outputs": [
    {
     "name": "stdout",
     "output_type": "stream",
     "text": [
      "4\n"
     ]
    }
   ],
   "source": [
    "mix_value_tuple = (0, 'bird', 3.14, True)\n",
    "print(len(mix_value_tuple))"
   ]
  },
  {
   "cell_type": "markdown",
   "metadata": {},
   "source": [
    "### Indexing in tuples"
   ]
  },
  {
   "cell_type": "code",
   "execution_count": 33,
   "metadata": {},
   "outputs": [
    {
     "name": "stdout",
     "output_type": "stream",
     "text": [
      "0 2 4\n"
     ]
    }
   ],
   "source": [
    "even_no = (0, 2, 4)\n",
    "print((even_no[0]), end = \" \")    \n",
    "print((even_no[1]), end = \" \")    \n",
    "print(even_no[2])  "
   ]
  },
  {
   "cell_type": "markdown",
   "metadata": {},
   "source": [
    "### Assigning multiple dts in tuples"
   ]
  },
  {
   "cell_type": "code",
   "execution_count": 37,
   "metadata": {},
   "outputs": [
    {
     "name": "stdout",
     "output_type": "stream",
     "text": [
      "six\n"
     ]
    }
   ],
   "source": [
    "mix_tuple = (\"11\", 11, [2, \"two\", (\"six\", 6)], 5, \"fair\")\n",
    "str_six = mix_tuple[2][2][0]\n",
    "print(str_six)"
   ]
  },
  {
   "cell_type": "markdown",
   "metadata": {},
   "source": [
    "### Tuples does not support item assignment"
   ]
  },
  {
   "cell_type": "markdown",
   "metadata": {},
   "source": [
    "Tuples are immutable"
   ]
  },
  {
   "cell_type": "code",
   "execution_count": 22,
   "metadata": {},
   "outputs": [
    {
     "name": "stdout",
     "output_type": "stream",
     "text": [
      "('Tokyo', 'Istanbul', 'Moskow', 'Dublin')\n"
     ]
    },
    {
     "ename": "TypeError",
     "evalue": "'tuple' object does not support item assignment",
     "output_type": "error",
     "traceback": [
      "\u001b[1;31m---------------------------------------------------------------------------\u001b[0m",
      "\u001b[1;31mTypeError\u001b[0m                                 Traceback (most recent call last)",
      "\u001b[1;32m<ipython-input-22-c7655e8eccc5>\u001b[0m in \u001b[0;36m<module>\u001b[1;34m\u001b[0m\n\u001b[0;32m      2\u001b[0m \u001b[0mmy_tuple\u001b[0m \u001b[1;33m=\u001b[0m \u001b[0mtuple\u001b[0m\u001b[1;33m(\u001b[0m\u001b[0mcity_list\u001b[0m\u001b[1;33m)\u001b[0m\u001b[1;33m\u001b[0m\u001b[1;33m\u001b[0m\u001b[0m\n\u001b[0;32m      3\u001b[0m \u001b[0mprint\u001b[0m\u001b[1;33m(\u001b[0m\u001b[0mmy_tuple\u001b[0m\u001b[1;33m)\u001b[0m\u001b[1;33m\u001b[0m\u001b[1;33m\u001b[0m\u001b[0m\n\u001b[1;32m----> 4\u001b[1;33m \u001b[0mmy_tuple\u001b[0m\u001b[1;33m[\u001b[0m\u001b[1;36m0\u001b[0m\u001b[1;33m]\u001b[0m \u001b[1;33m=\u001b[0m \u001b[1;34m\"London\"\u001b[0m\u001b[1;33m\u001b[0m\u001b[1;33m\u001b[0m\u001b[0m\n\u001b[0m",
      "\u001b[1;31mTypeError\u001b[0m: 'tuple' object does not support item assignment"
     ]
    }
   ],
   "source": [
    "city_list = ['Tokyo', 'Istanbul', 'Moskow', 'Dublin']\n",
    "my_tuple = tuple(city_list)\n",
    "print(my_tuple)\n",
    "my_tuple[0] = \"London\"# # you can't assign a value"
   ]
  },
  {
   "cell_type": "raw",
   "metadata": {},
   "source": [
    "✏️Homework: Examine the use of .index() and .count() methods of the tuples."
   ]
  },
  {
   "cell_type": "code",
   "execution_count": 17,
   "metadata": {},
   "outputs": [],
   "source": [
    "my_tuple = (1,1,2,3)"
   ]
  },
  {
   "cell_type": "code",
   "execution_count": 18,
   "metadata": {},
   "outputs": [
    {
     "data": {
      "text/plain": [
       "(1, 1, 2, 3)"
      ]
     },
     "execution_count": 18,
     "metadata": {},
     "output_type": "execute_result"
    }
   ],
   "source": [
    "my_tuple"
   ]
  },
  {
   "cell_type": "markdown",
   "metadata": {},
   "source": [
    "### index() method"
   ]
  },
  {
   "cell_type": "raw",
   "metadata": {},
   "source": [
    "Return first index of value.\n",
    "\n",
    "Raises ValueError if the value is not present."
   ]
  },
  {
   "cell_type": "code",
   "execution_count": 19,
   "metadata": {},
   "outputs": [
    {
     "data": {
      "text/plain": [
       "3"
      ]
     },
     "execution_count": 19,
     "metadata": {},
     "output_type": "execute_result"
    }
   ],
   "source": [
    "my_tuple.index(3)"
   ]
  },
  {
   "cell_type": "markdown",
   "metadata": {},
   "source": [
    "### count() method"
   ]
  },
  {
   "cell_type": "raw",
   "metadata": {},
   "source": [
    "Return number of occurrences of value."
   ]
  },
  {
   "cell_type": "code",
   "execution_count": 20,
   "metadata": {},
   "outputs": [
    {
     "data": {
      "text/plain": [
       "2"
      ]
     },
     "execution_count": 20,
     "metadata": {},
     "output_type": "execute_result"
    }
   ],
   "source": [
    "my_tuple.count(1)"
   ]
  },
  {
   "cell_type": "markdown",
   "metadata": {},
   "source": [
    "### len() method"
   ]
  },
  {
   "cell_type": "raw",
   "metadata": {},
   "source": [
    "Return the number of items in a container."
   ]
  },
  {
   "cell_type": "code",
   "execution_count": 22,
   "metadata": {},
   "outputs": [
    {
     "data": {
      "text/plain": [
       "4"
      ]
     },
     "execution_count": 22,
     "metadata": {},
     "output_type": "execute_result"
    }
   ],
   "source": [
    "len(my_tuple)"
   ]
  },
  {
   "cell_type": "code",
   "execution_count": null,
   "metadata": {},
   "outputs": [],
   "source": []
  }
 ],
 "metadata": {
  "kernelspec": {
   "display_name": "Python 3",
   "language": "python",
   "name": "python3"
  },
  "language_info": {
   "codemirror_mode": {
    "name": "ipython",
    "version": 3
   },
   "file_extension": ".py",
   "mimetype": "text/x-python",
   "name": "python",
   "nbconvert_exporter": "python",
   "pygments_lexer": "ipython3",
   "version": "3.7.6"
  }
 },
 "nbformat": 4,
 "nbformat_minor": 4
}
