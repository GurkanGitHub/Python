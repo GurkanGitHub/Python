{
 "cells": [
  {
   "cell_type": "code",
   "execution_count": 1,
   "metadata": {},
   "outputs": [],
   "source": [
    "import datetime"
   ]
  },
  {
   "cell_type": "code",
   "execution_count": 2,
   "metadata": {},
   "outputs": [],
   "source": [
    "from typing import List"
   ]
  },
  {
   "cell_type": "code",
   "execution_count": 3,
   "metadata": {},
   "outputs": [],
   "source": [
    "import requests"
   ]
  },
  {
   "cell_type": "code",
   "execution_count": 5,
   "metadata": {},
   "outputs": [],
   "source": [
    "import pandas as pd"
   ]
  },
  {
   "cell_type": "code",
   "execution_count": 12,
   "metadata": {},
   "outputs": [
    {
     "name": "stdout",
     "output_type": "stream",
     "text": [
      "Collecting tableauhyperapi\n",
      "  Downloading tableauhyperapi-0.0.17002-py3-none-win_amd64.whl (47.2 MB)\n",
      "Requirement already satisfied: cffi!=1.14.3,<2,>=1.12.2 in c:\\users\\owner\\anaconda3\\lib\\site-packages (from tableauhyperapi) (1.14.0)\n",
      "Requirement already satisfied: pycparser in c:\\users\\owner\\anaconda3\\lib\\site-packages (from cffi!=1.14.3,<2,>=1.12.2->tableauhyperapi) (2.19)\n",
      "Installing collected packages: tableauhyperapi\n",
      "Successfully installed tableauhyperapi-0.0.17002\n",
      "Note: you may need to restart the kernel to use updated packages.\n"
     ]
    }
   ],
   "source": [
    "pip install tableauhyperapi"
   ]
  },
  {
   "cell_type": "code",
   "execution_count": 14,
   "metadata": {},
   "outputs": [],
   "source": [
    "from tableauhyperapi import (\n",
    "    HyperProcess,\n",
    "    Connection,\n",
    "    TableDefinition,\n",
    "    SqlType,\n",
    "    Telemetry,\n",
    "    Inserter,\n",
    "    CreateMode,\n",
    "    TableName\n",
    ")\n",
    "from tableauhyperapi import escape_string_literal"
   ]
  },
  {
   "cell_type": "code",
   "execution_count": 18,
   "metadata": {},
   "outputs": [
    {
     "name": "stdout",
     "output_type": "stream",
     "text": [
      "Collecting tableau_api_lib\n",
      "  Downloading tableau_api_lib-0.1.50-py3-none-any.whl (144 kB)\n",
      "Requirement already satisfied: pandas in c:\\users\\owner\\anaconda3\\lib\\site-packages (from tableau_api_lib) (1.0.1)\n",
      "Collecting requests-toolbelt>=0.9.0\n",
      "  Downloading requests_toolbelt-1.0.0-py2.py3-none-any.whl (54 kB)\n",
      "Requirement already satisfied: requests>2 in c:\\users\\owner\\anaconda3\\lib\\site-packages (from tableau_api_lib) (2.25.1)\n",
      "Requirement already satisfied: packaging in c:\\users\\owner\\anaconda3\\lib\\site-packages (from tableau_api_lib) (20.1)\n",
      "Collecting typeguard\n",
      "  Downloading typeguard-3.0.2-py3-none-any.whl (30 kB)\n",
      "Requirement already satisfied: bleach>=3.0 in c:\\users\\owner\\anaconda3\\lib\\site-packages (from tableau_api_lib) (3.1.0)\n",
      "Requirement already satisfied: urllib3 in c:\\users\\owner\\anaconda3\\lib\\site-packages (from tableau_api_lib) (1.26.2)\n",
      "Requirement already satisfied: six>=1.9.0 in c:\\users\\owner\\anaconda3\\lib\\site-packages (from bleach>=3.0->tableau_api_lib) (1.15.0)\n",
      "Requirement already satisfied: webencodings in c:\\users\\owner\\anaconda3\\lib\\site-packages (from bleach>=3.0->tableau_api_lib) (0.5.1)\n",
      "Requirement already satisfied: certifi>=2017.4.17 in c:\\users\\owner\\anaconda3\\lib\\site-packages (from requests>2->tableau_api_lib) (2020.12.5)\n",
      "Requirement already satisfied: chardet<5,>=3.0.2 in c:\\users\\owner\\anaconda3\\lib\\site-packages (from requests>2->tableau_api_lib) (4.0.0)\n",
      "Requirement already satisfied: idna<3,>=2.5 in c:\\users\\owner\\anaconda3\\lib\\site-packages (from requests>2->tableau_api_lib) (2.10)\n",
      "Requirement already satisfied: pyparsing>=2.0.2 in c:\\users\\owner\\anaconda3\\lib\\site-packages (from packaging->tableau_api_lib) (2.4.6)\n",
      "Requirement already satisfied: numpy>=1.13.3 in c:\\users\\owner\\appdata\\roaming\\python\\python37\\site-packages (from pandas->tableau_api_lib) (1.19.3)\n",
      "Requirement already satisfied: python-dateutil>=2.6.1 in c:\\users\\owner\\anaconda3\\lib\\site-packages (from pandas->tableau_api_lib) (2.8.1)\n",
      "Requirement already satisfied: pytz>=2017.2 in c:\\users\\owner\\anaconda3\\lib\\site-packages (from pandas->tableau_api_lib) (2019.3)\n",
      "Collecting importlib-metadata>=3.6\n",
      "  Downloading importlib_metadata-6.6.0-py3-none-any.whl (22 kB)\n",
      "Collecting typing-extensions>=4.4.0\n",
      "  Downloading typing_extensions-4.5.0-py3-none-any.whl (27 kB)\n",
      "Requirement already satisfied: zipp>=0.5 in c:\\users\\owner\\anaconda3\\lib\\site-packages (from importlib-metadata>=3.6->typeguard->tableau_api_lib) (3.4.0)\n",
      "Installing collected packages: typing-extensions, importlib-metadata, typeguard, requests-toolbelt, tableau-api-lib\n",
      "  Attempting uninstall: typing-extensions\n",
      "    Found existing installation: typing-extensions 4.3.0\n",
      "    Uninstalling typing-extensions-4.3.0:\n",
      "      Successfully uninstalled typing-extensions-4.3.0\n",
      "  Attempting uninstall: importlib-metadata\n",
      "    Found existing installation: importlib-metadata 3.3.0\n",
      "    Uninstalling importlib-metadata-3.3.0:\n",
      "      Successfully uninstalled importlib-metadata-3.3.0\n",
      "Successfully installed importlib-metadata-6.6.0 requests-toolbelt-1.0.0 tableau-api-lib-0.1.50 typeguard-3.0.2 typing-extensions-4.5.0\n",
      "Note: you may need to restart the kernel to use updated packages.\n"
     ]
    },
    {
     "name": "stderr",
     "output_type": "stream",
     "text": [
      "ERROR: pip's dependency resolver does not currently take into account all the packages that are installed. This behaviour is the source of the following dependency conflicts.\n",
      "pytest-astropy 0.8.0 requires pytest-cov>=2.0, which is not installed.\n",
      "pytest-astropy 0.8.0 requires pytest-filter-subpackage>=0.1, which is not installed.\n",
      "wasabi 1.1.1 requires typing-extensions<4.5.0,>=3.7.4.1; python_version < \"3.8\", but you have typing-extensions 4.5.0 which is incompatible.\n",
      "thinc 8.1.9 requires typing-extensions<4.5.0,>=3.7.4.1; python_version < \"3.8\", but you have typing-extensions 4.5.0 which is incompatible.\n",
      "tensorflow 2.4.0 requires typing-extensions~=3.7.4, but you have typing-extensions 4.5.0 which is incompatible.\n",
      "spacy 3.5.1 requires typing-extensions<4.5.0,>=3.7.4.1; python_version < \"3.8\", but you have typing-extensions 4.5.0 which is incompatible.\n",
      "confection 0.0.4 requires typing-extensions<4.5.0,>=3.7.4.1; python_version < \"3.8\", but you have typing-extensions 4.5.0 which is incompatible.\n"
     ]
    }
   ],
   "source": [
    "pip install tableau_api_lib"
   ]
  },
  {
   "cell_type": "code",
   "execution_count": 19,
   "metadata": {},
   "outputs": [],
   "source": [
    "#from tableau_api_lib import TableauServerConnection # publish the hyperfile"
   ]
  },
  {
   "cell_type": "code",
   "execution_count": 20,
   "metadata": {},
   "outputs": [],
   "source": [
    "# basic get request against Gemini's REST API: get all trading symbols (currency pairs)"
   ]
  },
  {
   "cell_type": "code",
   "execution_count": 44,
   "metadata": {},
   "outputs": [],
   "source": [
    "response = requests.get(url= \"https://api.gemini.com/v1/symbols\")"
   ]
  },
  {
   "cell_type": "code",
   "execution_count": 45,
   "metadata": {},
   "outputs": [
    {
     "data": {
      "text/plain": [
       "requests.models.Response"
      ]
     },
     "execution_count": 45,
     "metadata": {},
     "output_type": "execute_result"
    }
   ],
   "source": [
    "type(response)"
   ]
  },
  {
   "cell_type": "code",
   "execution_count": 46,
   "metadata": {},
   "outputs": [],
   "source": [
    "# Data we care about is packed inside the response's JSON component"
   ]
  },
  {
   "cell_type": "code",
   "execution_count": 47,
   "metadata": {},
   "outputs": [],
   "source": [
    "all_symbols = response.json()"
   ]
  },
  {
   "cell_type": "code",
   "execution_count": 48,
   "metadata": {},
   "outputs": [],
   "source": [
    "# we can peek at some of the symbols the Gemini Exchange returned to us. "
   ]
  },
  {
   "cell_type": "code",
   "execution_count": 49,
   "metadata": {},
   "outputs": [
    {
     "data": {
      "text/plain": [
       "['1inchusd',\n",
       " 'aaveusd',\n",
       " 'alcxusd',\n",
       " 'aliusd',\n",
       " 'ampusd',\n",
       " 'ankrusd',\n",
       " 'apeusd',\n",
       " 'api3usd',\n",
       " 'atomusd',\n",
       " 'audiousd']"
      ]
     },
     "execution_count": 49,
     "metadata": {},
     "output_type": "execute_result"
    }
   ],
   "source": [
    "all_symbols[:10]"
   ]
  },
  {
   "cell_type": "code",
   "execution_count": 50,
   "metadata": {},
   "outputs": [],
   "source": [
    "# get the raw response JSON data into a more analysis-friendly format"
   ]
  },
  {
   "cell_type": "code",
   "execution_count": 51,
   "metadata": {},
   "outputs": [],
   "source": [
    "def get_candles_df(json_data:str)->pd.DataFrame:\n",
    "    \"Converts raw JSON pricing data into Pandas dataframe\"\n",
    "    candles_df = pd.DataFrame(json_data)\n",
    "    candles_df.columns = [\"time\", \"open_price\", \"high_price\", \"low_price\", \"close_price\", \"volume\"]\n",
    "    candles_df[\"time\"] = candles_df[\"time\"].apply(lambda x: datetime.datetime.fromtimestamp(x/1000.0))\n",
    "    return candles_df"
   ]
  },
  {
   "cell_type": "code",
   "execution_count": 55,
   "metadata": {},
   "outputs": [],
   "source": [
    "def get_crypto_prices_df(symbols:List[str])->pd.DataFrame:\n",
    "    \"\"\"Queries pricing data from Gemini for each of available crypto symbols\"\"\"\n",
    "    base_url = \"https://api.gemini.com\"\n",
    "    api_version = \"v2\"\n",
    "    time_frame=\"1day\" \n",
    "    crypto_prices_df = pd.DataFrame() # empty df to be filled\n",
    "    \n",
    "    for symbol in symbols:\n",
    "        print(f\"Fetching pricing data for crypto symbol '{symbol}'...\")\n",
    "        url = f\"{base_url}/{api_version}/candles/{symbol}/{time_frame}\"\n",
    "        response = requests.get(url=url)\n",
    "        candles_df = get_candles_df(json_data=response.json())\n",
    "        candles_df[\"symbol\"] = symbol\n",
    "        crypto_prices_df=crypto_prices_df.append(candles_df)\n",
    "    return crypto_prices_df"
   ]
  },
  {
   "cell_type": "code",
   "execution_count": 56,
   "metadata": {},
   "outputs": [
    {
     "name": "stdout",
     "output_type": "stream",
     "text": [
      "Fetching pricing data for crypto symbol '1inchusd'...\n"
     ]
    },
    {
     "ename": "TypeError",
     "evalue": "get_candles_df() got an unexpected keyword argument 'index_col'",
     "output_type": "error",
     "traceback": [
      "\u001b[1;31m---------------------------------------------------------------------------\u001b[0m",
      "\u001b[1;31mTypeError\u001b[0m                                 Traceback (most recent call last)",
      "\u001b[1;32m<ipython-input-56-d5a5e316c347>\u001b[0m in \u001b[0;36m<module>\u001b[1;34m\u001b[0m\n\u001b[1;32m----> 1\u001b[1;33m \u001b[0mcrypto_prices_df\u001b[0m \u001b[1;33m=\u001b[0m \u001b[0mget_crypto_prices_df\u001b[0m\u001b[1;33m(\u001b[0m\u001b[0msymbols\u001b[0m \u001b[1;33m=\u001b[0m \u001b[0mall_symbols\u001b[0m\u001b[1;33m)\u001b[0m\u001b[1;33m\u001b[0m\u001b[1;33m\u001b[0m\u001b[0m\n\u001b[0m",
      "\u001b[1;32m<ipython-input-55-14ec8ee17162>\u001b[0m in \u001b[0;36mget_crypto_prices_df\u001b[1;34m(symbols)\u001b[0m\n\u001b[0;32m     10\u001b[0m         \u001b[0murl\u001b[0m \u001b[1;33m=\u001b[0m \u001b[1;34mf\"{base_url}/{api_version}/candles/{symbol}/{time_frame}\"\u001b[0m\u001b[1;33m\u001b[0m\u001b[1;33m\u001b[0m\u001b[0m\n\u001b[0;32m     11\u001b[0m         \u001b[0mresponse\u001b[0m \u001b[1;33m=\u001b[0m \u001b[0mrequests\u001b[0m\u001b[1;33m.\u001b[0m\u001b[0mget\u001b[0m\u001b[1;33m(\u001b[0m\u001b[0murl\u001b[0m\u001b[1;33m=\u001b[0m\u001b[0murl\u001b[0m\u001b[1;33m)\u001b[0m\u001b[1;33m\u001b[0m\u001b[1;33m\u001b[0m\u001b[0m\n\u001b[1;32m---> 12\u001b[1;33m         \u001b[0mcandles_df\u001b[0m \u001b[1;33m=\u001b[0m \u001b[0mget_candles_df\u001b[0m\u001b[1;33m(\u001b[0m\u001b[0mjson_data\u001b[0m\u001b[1;33m=\u001b[0m\u001b[0mresponse\u001b[0m\u001b[1;33m.\u001b[0m\u001b[0mjson\u001b[0m\u001b[1;33m(\u001b[0m\u001b[1;33m)\u001b[0m\u001b[1;33m,\u001b[0m \u001b[0mindex_col\u001b[0m\u001b[1;33m=\u001b[0m\u001b[1;34m'time'\u001b[0m\u001b[1;33m)\u001b[0m\u001b[1;33m\u001b[0m\u001b[1;33m\u001b[0m\u001b[0m\n\u001b[0m\u001b[0;32m     13\u001b[0m         \u001b[0mcandles_df\u001b[0m\u001b[1;33m[\u001b[0m\u001b[1;34m\"symbol\"\u001b[0m\u001b[1;33m]\u001b[0m \u001b[1;33m=\u001b[0m \u001b[0msymbol\u001b[0m\u001b[1;33m\u001b[0m\u001b[1;33m\u001b[0m\u001b[0m\n\u001b[0;32m     14\u001b[0m         \u001b[0mcrypto_prices_df\u001b[0m\u001b[1;33m=\u001b[0m\u001b[0mcrypto_prices_df\u001b[0m\u001b[1;33m.\u001b[0m\u001b[0mappend\u001b[0m\u001b[1;33m(\u001b[0m\u001b[0mcandles_df\u001b[0m\u001b[1;33m)\u001b[0m\u001b[1;33m\u001b[0m\u001b[1;33m\u001b[0m\u001b[0m\n",
      "\u001b[1;31mTypeError\u001b[0m: get_candles_df() got an unexpected keyword argument 'index_col'"
     ]
    }
   ],
   "source": [
    "crypto_prices_df = get_crypto_prices_df(symbols = all_symbols)"
   ]
  },
  {
   "cell_type": "code",
   "execution_count": null,
   "metadata": {},
   "outputs": [],
   "source": []
  }
 ],
 "metadata": {
  "kernelspec": {
   "display_name": "Python 3",
   "language": "python",
   "name": "python3"
  },
  "language_info": {
   "codemirror_mode": {
    "name": "ipython",
    "version": 3
   },
   "file_extension": ".py",
   "mimetype": "text/x-python",
   "name": "python",
   "nbconvert_exporter": "python",
   "pygments_lexer": "ipython3",
   "version": "3.7.6"
  }
 },
 "nbformat": 4,
 "nbformat_minor": 4
}
