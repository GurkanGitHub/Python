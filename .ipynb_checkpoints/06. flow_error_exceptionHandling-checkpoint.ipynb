{
 "cells": [
  {
   "cell_type": "markdown",
   "metadata": {},
   "source": [
    "# Program Flow, Error & Exception Handling"
   ]
  },
  {
   "cell_type": "markdown",
   "metadata": {},
   "source": [
    "## Program Execution"
   ]
  },
  {
   "cell_type": "raw",
   "metadata": {},
   "source": [
    "• Understand how Python codes work. What's happening when you run the codes?\n",
    "• After run button, very complex things are performed very quickly.\n",
    "• Even if we run the simple conventional Python syntax : print('Hello World!'), the same complex things are performed in the same way. \n",
    "• The Python scripts (a file with .py extension) contains Python codes and we can run this file via several interpreter tools such as Python Shell, OS Console or IDEs. \n",
    "• What's happening then?"
   ]
  },
  {
   "cell_type": "raw",
   "metadata": {},
   "source": [
    "✏️Homework:Do a research on which IDEs can be used for Python codes in the programming world.\n",
    "• Since the very beginning of this course, you have probably heard terms such as interpreted or compiled languages. And most likely, you learned that Python was an interpreted type of programming language. What does all this mean? Let's dive into the Pythonic world.\n",
    "• The process of program execution (the program flow) basically looks like this : typed script --> interpretation--> everything is done!\n",
    "• The step we are interested in is the middle one : Interpretation. Yes, Python is an interpreted programming language. We know that but superficially. Let's take a closer look at what this means."
   ]
  },
  {
   "cell_type": "markdown",
   "metadata": {},
   "source": [
    "## The Interpretation"
   ]
  },
  {
   "cell_type": "raw",
   "metadata": {},
   "source": [
    "Basitçe kodların okunmasıdır. Soldan sağa yukarıdan aşağıya okunmasıdır. Okuyor ve bir yere gönderiyor. İdeye bilgi olarak gönderiyor. Python default interpretırı C dilinde yazılmş Cpython'dur. KC dili ile yazılmış kod bloku. Modül gibi bir şey. Tüm interpretırlar kodları byte koda çeviriyor. Kodları alıyor derliyor, byte koda çevirip virtual machine gönderiyor. \n",
    "\n",
    "Compliler: python ifadelerini byte koda çevirir. Virtual machine anlayacağı dile çevrilmiş olur. \n",
    "\n",
    "\t\t\t• What is the interpretation process? Simply, we can say that this is like reading your codes. In other words, you can think that a specific-purpose software reads your codes line by line and executes what you typed.\n",
    "\n",
    "\t\t\t• This magical software is known as Interpreter and is a part of the standard Python installation package. And of course, the other default installation part of Python is built-in libraries.\n",
    "\n",
    "\t\t\t• The compiler translates Python codes to byte-codes that come into it by reading line by line from top to bottom and from left to right.\n"
   ]
  },
  {
   "cell_type": "raw",
   "metadata": {},
   "source": [
    "\t\t\t• The interesting thing is that the interpreter we mentioned here can be written in any programming language. Python's default interpreter is a software written in the C programming language known as CPython. There are several other interpreters available such as :\n",
    "\t\t\t\n",
    "\t\t\t\t○ Jython is an interpreter that works with a Java-based algorithm and converts Python codes into Java-compatible byte code, which will be executed later by the Java Virtual Machine.\n",
    "\t\t\t\t○ PyPy is a replacement for CPython. It is built using the RPython language that was co-developed with it. The main reason to use it instead of CPython is speed: RPython (Restricted Python) provides some restrictions to the usual Python code.\n",
    "\t\t\t\t○ IronPython is an open-source implementation of the Python programming language which is tightly integrated with the .NET Framework.\n",
    "\n",
    "\t\t\t• Now let's try to figure out the interpretation process in detail. The interpretation step consists of basically three sub-steps which are :\n",
    "            typed script --> interpretation (compilation--->byte code---> virtual machine)--> everything is done!\n",
    "            \n",
    "            \t\t\t• The compiler translates your Python statements (source code) into byte-code. Different from the binary machine code, the byte code is platform-independent, primitive level and specific version of the Python source code. That's why some Python programs are executed not as fast as in C-based conventional compiled languages.\n",
    "\n",
    "\t\t\t• After compilation of Python statements into byte-code, it is now time for Python Virtual Machine to run."
   ]
  },
  {
   "cell_type": "raw",
   "metadata": {},
   "source": [
    "\t○ Virtual Machine: aslında kodlardan oluşan bir modül. \n",
    "\n",
    "\t\tØ When you say Python Virtual Machine, you should not think of a mechanical machine or hardware. It is actually nothing but software made up of a large piece of code.\n",
    "\n",
    "\t\tØ Just like in compiler, Virtual Machine executes byte-codes that come into it by reading line by line from top to bottom and from left to right.\n"
   ]
  },
  {
   "cell_type": "raw",
   "metadata": {},
   "source": [
    "\t\tØ As we mentioned before, all this is done automatically by itself. It does not require a separate library or program installation. You do not need to know how the codes that go from the Python statements to the byte-code and from the byte-code to the Virtual Machine are created and executed. Just grasping the order of flow and the logic of these processes will be sufficient at this stage.\n",
    "\n",
    "\t\tØ Lastly, we can say that the actual execution of the Python codes we typed is done by Python Virtual Machine as the last step. In fact, other previous steps are the process of converting Python statements into a format that Python Virtual Machine can understand and execute.\n"
   ]
  },
  {
   "cell_type": "markdown",
   "metadata": {},
   "source": [
    "## Errors (syntax error & exceptions)"
   ]
  },
  {
   "cell_type": "raw",
   "metadata": {},
   "source": [
    "Ø In Python, there are two types of errors: syntax error and exceptions.\n",
    "\n",
    "Ø Syntax Error: Also known as parsing errors. Errors are issues in a program which may cause it to exit abnormally. When an error is detected, the parser repeats the offending line and then displays an arrow which points at the earliest point in the line.\n",
    "\n",
    "Ø Exceptions: Exceptions take place in a program when the normal flow of the program is interrupted due to the occurrence of an external event. Even if the syntax of the program is correct, there are chances of detecting an error during execution, this error is nothing but an exception. Some of the examples of exceptions are - ZeroDivisionError, TypeError and NameError."
   ]
  },
  {
   "cell_type": "raw",
   "metadata": {},
   "source": [
    "Ø Slightest punctuation will cause an error and program not to run. Ex: "
   ]
  },
  {
   "cell_type": "code",
   "execution_count": 15,
   "metadata": {},
   "outputs": [
    {
     "ename": "SyntaxError",
     "evalue": "unexpected EOF while parsing (<ipython-input-15-05625dd779e5>, line 1)",
     "output_type": "error",
     "traceback": [
      "\u001b[1;36m  File \u001b[1;32m\"<ipython-input-15-05625dd779e5>\"\u001b[1;36m, line \u001b[1;32m1\u001b[0m\n\u001b[1;33m    print(\"Learn how to handle errors\"\u001b[0m\n\u001b[1;37m                                      ^\u001b[0m\n\u001b[1;31mSyntaxError\u001b[0m\u001b[1;31m:\u001b[0m unexpected EOF while parsing\n"
     ]
    }
   ],
   "source": [
    "print(\"Learn how to handle errors\""
   ]
  },
  {
   "cell_type": "markdown",
   "metadata": {},
   "source": [
    "### Traceback module"
   ]
  },
  {
   "cell_type": "raw",
   "metadata": {},
   "source": [
    "Ø Traceback is a module of 614 lines of Python code. \n",
    "\n",
    "Ø This module provides a standard interface to extract, format and print stack traces (yığın izleme) of Python programs.\n",
    "\n",
    "Ø It exactly mimics the behavior of the Python interpreter when it prints a stack trace. In this way, allows you to follow the line and character of the error and trace it.\n",
    "\n",
    "Ø The name of module - Traceback - appears when your code causes an error and it reports detailed information on that specific error, demonstrating the particular files in which the error occurred. \n",
    "\n",
    "Ø Most important part is the last lines in the most cases. \n",
    "\n",
    "Ø In this example, the last two lines indicate that this error type is a Syntax error and it also indicates in which line and in which character (with the ^ sign) the error raised."
   ]
  },
  {
   "cell_type": "raw",
   "metadata": {},
   "source": [
    "⚠️Attention: Do not panic when you see those error lines. Do not hesitate to read carefully what they are saying to you."
   ]
  },
  {
   "cell_type": "markdown",
   "metadata": {},
   "source": [
    "### Syntax Errors"
   ]
  },
  {
   "cell_type": "raw",
   "metadata": {},
   "source": [
    "Ø These types of errors are detected during compiling the program into byte-code.\n",
    "\n",
    "Ø In example below there is a word SyntaxError, which you will likely encounter frequently during your time in Python."
   ]
  },
  {
   "cell_type": "code",
   "execution_count": 11,
   "metadata": {
    "scrolled": false
   },
   "outputs": [
    {
     "ename": "SyntaxError",
     "evalue": "unexpected EOF while parsing (<ipython-input-11-72cc15c8adf1>, line 1)",
     "output_type": "error",
     "traceback": [
      "\u001b[1;36m  File \u001b[1;32m\"<ipython-input-11-72cc15c8adf1>\"\u001b[1;36m, line \u001b[1;32m1\u001b[0m\n\u001b[1;33m    print(\"Don't say 'I never make a mistake'\"\u001b[0m\n\u001b[1;37m                                              ^\u001b[0m\n\u001b[1;31mSyntaxError\u001b[0m\u001b[1;31m:\u001b[0m unexpected EOF while parsing\n"
     ]
    }
   ],
   "source": [
    "print(\"Don't say 'I never make a mistake'\""
   ]
  },
  {
   "cell_type": "raw",
   "metadata": {},
   "source": [
    "Ø A wide variety of errors in Python are called SyntaxError. \n",
    "\n",
    "Ø Typically they indicate a problem that Python encountered when trying to compile program, or that your code could not be run.\n",
    "\n",
    "Ø Every syntax error has a text value (known as associated value-av) that describes the error in detail. \n",
    "\n",
    "Ø In this example, the message \"SyntaxError: unexpected EOF while parsing\" means that something else had been expected by the interpreter after your statement, but you didn't pass it to the interpreter. In our mistaken code, there should have been a closing parenthesis mark \")\" which is missing."
   ]
  },
  {
   "cell_type": "raw",
   "metadata": {},
   "source": [
    "💡Tips: Focusing on the av of the SyntaxError often helps solve your problem.\n",
    "\n",
    "Ø Error messages may not always be very clear. To find the source of your error, it is sufficient to know that the error you received is in the syntax."
   ]
  },
  {
   "cell_type": "markdown",
   "metadata": {},
   "source": [
    "#### Common Syntax Errors "
   ]
  },
  {
   "cell_type": "raw",
   "metadata": {},
   "source": [
    "💡 Quotes : Python is sensitive to quotation marks. Do not forget to enclose a string in quotes of the same type (Simple advice: Triple quotes for multi-line strings, double or single quotes for ordinary strings).\n",
    "\n",
    "💡 Wrong number of Parentheses in function calls. e.g. print(len(my_list[2:]).\n",
    "\n",
    "💡 Wrong Spelling (keywords, function names, and variable names) & Typo: e.g. True and true, print and prit or pirnt (Python is a case-sensitive programing language).\n",
    "\n",
    "💡 Indents : Do not forget to put the appropriate indent where necessary. Python is a indent-sensitive programing language.\n",
    "\n",
    "○ Modern IDEs tend to check everything you might be able to make mistakes and to gently highlight the places you made mistakes or typos with various cursors and indicators while typing. This will make your job significantly easier, but don't rely too much on it and be prepared to read your traceback yourself."
   ]
  },
  {
   "cell_type": "code",
   "execution_count": 18,
   "metadata": {},
   "outputs": [
    {
     "ename": "SyntaxError",
     "evalue": "invalid syntax (<ipython-input-18-0284dc70e009>, line 2)",
     "output_type": "error",
     "traceback": [
      "\u001b[1;36m  File \u001b[1;32m\"<ipython-input-18-0284dc70e009>\"\u001b[1;36m, line \u001b[1;32m2\u001b[0m\n\u001b[1;33m    if num > = 50:\u001b[0m\n\u001b[1;37m             ^\u001b[0m\n\u001b[1;31mSyntaxError\u001b[0m\u001b[1;31m:\u001b[0m invalid syntax\n"
     ]
    }
   ],
   "source": [
    "num = int(input(\"Enter a num\"))\n",
    "if num > = 50: # We get syntax error because there is a space between comparison operators. \n",
    "    print(\"You pass the exam\")\n",
    "else: print(\"Study well to your next exam\")"
   ]
  },
  {
   "cell_type": "markdown",
   "metadata": {},
   "source": [
    "## Exceptions"
   ]
  },
  {
   "cell_type": "raw",
   "metadata": {},
   "source": [
    "Ø Even if you have not made a syntax error, program will be executed to a certain line and then give some warning messages. This means that your program is partially executed. \n",
    "\n",
    "Ø If program is running but you still get some error messages for several reasons, you probably get an error warning called an exception. This is because of defective line of codes in your program.\n",
    "\n",
    "Ø What is the difference between Syntax errors and Exception errors? SyntaxErrors are detected during compiling the program into byte-code. ExceptionErrors are detected during the program execution (interpretation) process."
   ]
  },
  {
   "cell_type": "code",
   "execution_count": 14,
   "metadata": {},
   "outputs": [
    {
     "name": "stdout",
     "output_type": "stream",
     "text": [
      "Here we go!\n",
      "I will be the second text\n",
      "It is time for an error message :(\n"
     ]
    },
    {
     "ename": "TypeError",
     "evalue": "can only concatenate str (not \"int\") to str",
     "output_type": "error",
     "traceback": [
      "\u001b[1;31m---------------------------------------------------------------------------\u001b[0m",
      "\u001b[1;31mTypeError\u001b[0m                                 Traceback (most recent call last)",
      "\u001b[1;32m<ipython-input-14-a8bfc29e0ece>\u001b[0m in \u001b[0;36m<module>\u001b[1;34m\u001b[0m\n\u001b[0;32m      4\u001b[0m \u001b[0mb\u001b[0m \u001b[1;33m=\u001b[0m \u001b[1;36m5\u001b[0m\u001b[1;33m\u001b[0m\u001b[1;33m\u001b[0m\u001b[0m\n\u001b[0;32m      5\u001b[0m \u001b[0mprint\u001b[0m\u001b[1;33m(\u001b[0m\u001b[1;34m'It is time for an error message :('\u001b[0m\u001b[1;33m)\u001b[0m\u001b[1;33m\u001b[0m\u001b[1;33m\u001b[0m\u001b[0m\n\u001b[1;32m----> 6\u001b[1;33m \u001b[0mprint\u001b[0m\u001b[1;33m(\u001b[0m\u001b[0ma\u001b[0m \u001b[1;33m+\u001b[0m \u001b[0mb\u001b[0m\u001b[1;33m)\u001b[0m  \u001b[1;31m# it won't be printed\u001b[0m\u001b[1;33m\u001b[0m\u001b[1;33m\u001b[0m\u001b[0m\n\u001b[0m\u001b[0;32m      7\u001b[0m \u001b[0mprint\u001b[0m\u001b[1;33m(\u001b[0m\u001b[1;34m\"Sorry, but I won't be printed\"\u001b[0m\u001b[1;33m)\u001b[0m  \u001b[1;31m# it won't be printed\u001b[0m\u001b[1;33m\u001b[0m\u001b[1;33m\u001b[0m\u001b[0m\n",
      "\u001b[1;31mTypeError\u001b[0m: can only concatenate str (not \"int\") to str"
     ]
    }
   ],
   "source": [
    "print('Here we go!')\n",
    "print('I will be the second text')\n",
    "a = '3'\n",
    "b = 5\n",
    "print('It is time for an error message :(')\n",
    "print(a + b)  # it won't be printed\n",
    "print(\"Sorry, but I won't be printed\")  # it won't be printed"
   ]
  },
  {
   "cell_type": "raw",
   "metadata": {},
   "source": [
    "We received an exception error message (that is our program was partially executed). \n",
    "\n",
    "💡Tips: Look at the last line of the error message ~ TypeError. \n",
    "\n",
    "There is a wrong use of types of variables (a is a str type and b is an int)."
   ]
  },
  {
   "cell_type": "markdown",
   "metadata": {},
   "source": [
    "# Common Exceptions (value, name, type errors)"
   ]
  },
  {
   "cell_type": "markdown",
   "metadata": {},
   "source": [
    "Most common exception errors -ee a programmer can encounter."
   ]
  },
  {
   "cell_type": "markdown",
   "metadata": {},
   "source": [
    "## ValueError"
   ]
  },
  {
   "cell_type": "raw",
   "metadata": {},
   "source": [
    "• Raised when an operation or function receives an argument that has the right type but an inappropriate value, and the situation is not described by a more precise exception such as IndexError. In other words; to encounter a ValueError in Python means that it is a problem with the content of the object you tried to assign the value to. This should not be confused with types in Python. \n",
    "• Imagine, this is like forcing a fish to live in a chicken coop. Consider the following example :"
   ]
  },
  {
   "cell_type": "code",
   "execution_count": null,
   "metadata": {},
   "outputs": [],
   "source": [
    "print(int('ten'))"
   ]
  },
  {
   "cell_type": "raw",
   "metadata": {},
   "source": [
    "As you can see in the output; when you are trying to make an integer of a string which has no integer value, the ValueError raises."
   ]
  },
  {
   "cell_type": "markdown",
   "metadata": {},
   "source": [
    "## NameError"
   ]
  },
  {
   "cell_type": "raw",
   "metadata": {},
   "source": [
    "• This error is usually raised;⚠️Attention\n",
    "\t○ If a variable is not pre-defined or not properly defined. \n",
    "\t○ When a local or global name is not found. This applies only to unqualified names. \n",
    "\t○ Due to the lack of attention to case-sensitivity of Python. \n",
    "\t\t\t\t\n",
    "• Av is an error message that includes the name that not found.Ex:  "
   ]
  },
  {
   "cell_type": "code",
   "execution_count": null,
   "metadata": {},
   "outputs": [],
   "source": [
    "print(variable)\n",
    "variable = \"Don't ever give up!\""
   ]
  },
  {
   "cell_type": "markdown",
   "metadata": {},
   "source": [
    "## TypeError"
   ]
  },
  {
   "cell_type": "raw",
   "metadata": {},
   "source": [
    "Raised when a function is applied to an object of inappropriate type. Av is a string giving details about the type mismatch."
   ]
  },
  {
   "cell_type": "code",
   "execution_count": 4,
   "metadata": {},
   "outputs": [
    {
     "ename": "TypeError",
     "evalue": "'str' object cannot be interpreted as an integer",
     "output_type": "error",
     "traceback": [
      "\u001b[1;31m---------------------------------------------------------------------------\u001b[0m",
      "\u001b[1;31mTypeError\u001b[0m                                 Traceback (most recent call last)",
      "\u001b[1;32m<ipython-input-4-20f463162d3c>\u001b[0m in \u001b[0;36m<module>\u001b[1;34m\u001b[0m\n\u001b[1;32m----> 1\u001b[1;33m \u001b[1;32mfor\u001b[0m \u001b[0mi\u001b[0m \u001b[1;32min\u001b[0m \u001b[0mrange\u001b[0m\u001b[1;33m(\u001b[0m\u001b[1;34m'x'\u001b[0m\u001b[1;33m)\u001b[0m\u001b[1;33m:\u001b[0m \u001b[1;31m# although it requires integer, we have tried to iterate the wrong type - str - object in the range() function.\u001b[0m\u001b[1;33m\u001b[0m\u001b[1;33m\u001b[0m\u001b[0m\n\u001b[0m\u001b[0;32m      2\u001b[0m     \u001b[0mprint\u001b[0m\u001b[1;33m(\u001b[0m\u001b[0mi\u001b[0m\u001b[1;33m)\u001b[0m\u001b[1;33m\u001b[0m\u001b[1;33m\u001b[0m\u001b[0m\n",
      "\u001b[1;31mTypeError\u001b[0m: 'str' object cannot be interpreted as an integer"
     ]
    }
   ],
   "source": [
    "for i in range('x'): # although it requires integer, we have tried to iterate the wrong type - str - object in the range() function.\n",
    "    print(i)"
   ]
  },
  {
   "cell_type": "markdown",
   "metadata": {},
   "source": [
    "## Attribute error"
   ]
  },
  {
   "cell_type": "raw",
   "metadata": {},
   "source": [
    "The Python AttributeError is an exception that occurs when an attribute reference or assignment fails. This can occur when an attempt is made to reference an attribute on a value that does not support the attribute.\n",
    "\n",
    "What Causes AttributeError\n",
    "The Python AttributeError is raised when an invalid attribute reference is made. This can happen if an attribute or function not associated with a data type is referenced on it. For example, if a method is called on an integer value, an AttributeError is raised.\n",
    "\n",
    "Python AttributeError Example\n",
    "Here’s an example of a Python AttributeError raised when trying call a method on an integer:"
   ]
  },
  {
   "cell_type": "code",
   "execution_count": 4,
   "metadata": {},
   "outputs": [
    {
     "ename": "AttributeError",
     "evalue": "'int' object has no attribute 'append'",
     "output_type": "error",
     "traceback": [
      "\u001b[1;31m---------------------------------------------------------------------------\u001b[0m",
      "\u001b[1;31mAttributeError\u001b[0m                            Traceback (most recent call last)",
      "\u001b[1;32m<ipython-input-4-607dabb2f888>\u001b[0m in \u001b[0;36m<module>\u001b[1;34m\u001b[0m\n\u001b[0;32m      1\u001b[0m \u001b[0mi\u001b[0m \u001b[1;33m=\u001b[0m \u001b[1;36m1\u001b[0m\u001b[1;33m\u001b[0m\u001b[1;33m\u001b[0m\u001b[0m\n\u001b[1;32m----> 2\u001b[1;33m \u001b[0mi\u001b[0m\u001b[1;33m.\u001b[0m\u001b[0mappend\u001b[0m\u001b[1;33m(\u001b[0m\u001b[1;36m2\u001b[0m\u001b[1;33m)\u001b[0m\u001b[1;33m\u001b[0m\u001b[1;33m\u001b[0m\u001b[0m\n\u001b[0m",
      "\u001b[1;31mAttributeError\u001b[0m: 'int' object has no attribute 'append'"
     ]
    }
   ],
   "source": [
    "i = 1\n",
    "i.append(2)"
   ]
  },
  {
   "cell_type": "markdown",
   "metadata": {},
   "source": [
    "How to avoid?"
   ]
  },
  {
   "cell_type": "code",
   "execution_count": 7,
   "metadata": {},
   "outputs": [
    {
     "name": "stdout",
     "output_type": "stream",
     "text": [
      "No such attribute\n"
     ]
    }
   ],
   "source": [
    "i = 1\n",
    "try: \n",
    "    i.append(2)\n",
    "except AttributeError:\n",
    "    print(\"No such attribute\")"
   ]
  },
  {
   "cell_type": "code",
   "execution_count": null,
   "metadata": {},
   "outputs": [],
   "source": []
  },
  {
   "cell_type": "code",
   "execution_count": 3,
   "metadata": {},
   "outputs": [
    {
     "data": {
      "text/plain": [
       "[1, 2]"
      ]
     },
     "execution_count": 3,
     "metadata": {},
     "output_type": "execute_result"
    }
   ],
   "source": [
    "i = [1]\n",
    "i.append(2)\n",
    "i"
   ]
  },
  {
   "cell_type": "code",
   "execution_count": null,
   "metadata": {},
   "outputs": [],
   "source": [
    "nums = [-12, 21, 10, 2, 3, 4]\n",
    "odd = []\n",
    "even = []\n",
    "(lambda x: odd.append(x) if x % 2 ==1 else even.append(x))(nums)"
   ]
  },
  {
   "cell_type": "code",
   "execution_count": null,
   "metadata": {},
   "outputs": [],
   "source": [
    "seq = ['soup','dog','salad','cat','great']\n",
    "list(map(lambda x: x*2, seq))"
   ]
  },
  {
   "cell_type": "code",
   "execution_count": null,
   "metadata": {},
   "outputs": [],
   "source": [
    "seq = ['soup','dog','salad','cat','great']\n",
    "def times2(var):\n",
    "    return var*2\n",
    "list(map(times2, seq)) # This error occurred because you previously used list object. Never call list() object, if you ever used list before."
   ]
  },
  {
   "cell_type": "raw",
   "metadata": {},
   "source": [
    "It tells us we’re trying to manipulate a value using a method not available to the type of data in which the value is stored."
   ]
  },
  {
   "cell_type": "code",
   "execution_count": null,
   "metadata": {},
   "outputs": [],
   "source": [
    "names = [\"Peter Geoffrey\", \"Dakota Williams\", \"Rebecca Lee\"]"
   ]
  },
  {
   "cell_type": "code",
   "execution_count": null,
   "metadata": {},
   "outputs": [],
   "source": [
    "for n in range(len(names)):\n",
    "    names[n] = names(n).upper()\n",
    "    print(names(n))\n",
    "\n",
    "print(names)"
   ]
  },
  {
   "cell_type": "raw",
   "metadata": {},
   "source": [
    "Use the range() method to iterate through every item in the “names” list. Then use the assignment operator to change the value of each name to its uppercase equivalent. The Python upper() method converts each name to uppercase.\n",
    "\n",
    "Next, print out the new name to the console. Once our loop has run, print out the whole revised list to the console."
   ]
  },
  {
   "cell_type": "raw",
   "metadata": {},
   "source": [
    "The Solution\n",
    "Use square brackets to access items in a list. Curly brackets are used to call functions in Python. The problem in our code is that we’re trying to call a list as a function because we’re using curly brackets to access items in our list.\n",
    "\n",
    "In our code, use curly brackets to access a list item in two places:\n",
    "\n",
    "for n in range(len(names)):\n",
    "names[n] = names(n).upper()\n",
    "print(names(n))\n",
    "We must swap the names(n) code to use square brackets: \n",
    "\n"
   ]
  },
  {
   "cell_type": "code",
   "execution_count": null,
   "metadata": {},
   "outputs": [],
   "source": [
    "for n in range(len(names)):\n",
    "    names[n] = names[n].upper()\n",
    "    print(names[n])"
   ]
  },
  {
   "cell_type": "raw",
   "metadata": {},
   "source": [
    "\n",
    "This tells Python we want to access the item at the index position “n” in the list “names”.\n",
    "\n",
    "Run our code with the applicable revisions we just discussed:"
   ]
  },
  {
   "cell_type": "raw",
   "metadata": {},
   "source": [
    "💡Tips:If you cannot deal with the error just search it, for sure it is experienced before"
   ]
  },
  {
   "cell_type": "code",
   "execution_count": null,
   "metadata": {},
   "outputs": [],
   "source": [
    "Q: Give some examples of standard errors that occour in Python.\n",
    "A:\n",
    "\t• TypeError- It occurs when the expected type does not match with the given type of a variable.\n",
    "\t• ValueError- It occurs when an expected value is not given, suppose you are expecting 6 elements in a list and you gave 2.\n",
    "\t• NameError- It occurs when you are trying to access an undefined variable or a function.\n",
    "\t• IOError- It occurs when you are trying to access a file that does not exist.\n",
    "\t• IndexError- It occurs when you are trying to access an invalid index of a sequence.\n",
    "\t• KeyError- It occurs when you use an invalid key to access a value in the dictionary."
   ]
  },
  {
   "cell_type": "markdown",
   "metadata": {},
   "source": [
    "# Exception Handling"
   ]
  },
  {
   "cell_type": "raw",
   "metadata": {},
   "source": [
    "Ø Prevent exception errors from unnecessarily disrupting our program flow.\n",
    "Ø In some cases, you may need to anticipate exceptions that might disrupt your program flow and take action in advance. "
   ]
  },
  {
   "cell_type": "code",
   "execution_count": null,
   "metadata": {},
   "outputs": [],
   "source": [
    "while True: \n",
    "    num1 = int(input(\"num1:\"))\n",
    "    num2 = int(input(\"num2:\"))\n",
    "    div = num1 / num2\n",
    "    print(\"result is: \", div) # Make a mistake intentionally and enter 0 as the second number. We got ZeroDivisionError. "
   ]
  },
  {
   "cell_type": "code",
   "execution_count": null,
   "metadata": {},
   "outputs": [],
   "source": [
    "while True:\n",
    "    no_one = int(input(\"The first number please : \"))\n",
    "    no_two = int(input(\"The second number please : \"))\n",
    "    division = no_one / no_two\n",
    "    print(\"The result of the division is : \", division)\n",
    "    break"
   ]
  },
  {
   "cell_type": "markdown",
   "metadata": {},
   "source": [
    "## try-except statement"
   ]
  },
  {
   "cell_type": "raw",
   "metadata": {},
   "source": [
    "Solve it by using the try-except statement to ensure that program continues without hesitation. \n",
    "The basic structure of it:\n",
    "\ttry:\n",
    "\t\tcode block to be normally executed\n",
    "\texcept:\n",
    "\t\tcode block to be exceptionally executed\n",
    "\t\t\n",
    "\t\tLet's fix this exception problem using try-except statement as follows :"
   ]
  },
  {
   "cell_type": "code",
   "execution_count": null,
   "metadata": {},
   "outputs": [],
   "source": [
    "while True: \n",
    "    num1 = int(input(\"num1:\"))\n",
    "    num2 = int(input(\"num2:\"))\n",
    "    try:\n",
    "        div = num1 / num2\n",
    "        print(\"result is: \", div)\n",
    "        break\n",
    "    except:\n",
    "        print(\"Something went wrong...Try again.\")"
   ]
  },
  {
   "cell_type": "raw",
   "metadata": {},
   "source": [
    "💡Tips:\n",
    "Ø When we enter 0 as a second number, there is no exception error message or breaking of the program. We can specify the exception error message in our try-except statement.\n",
    "Ø Of course, when do this, we anticipate which exception error we will encounter."
   ]
  },
  {
   "cell_type": "code",
   "execution_count": null,
   "metadata": {},
   "outputs": [],
   "source": [
    "while True: \n",
    "    num1 = int(input(\"num1:\"))\n",
    "    num2 = int(input(\"num2:\"))\n",
    "    try:\n",
    "        div = num1 / num2\n",
    "        print(\"result is: \", div)\n",
    "        break\n",
    "    except ZeroDivisionError:\n",
    "        print(\"Something went wrong...Try again.\")"
   ]
  },
  {
   "cell_type": "raw",
   "metadata": {},
   "source": [
    "○ Full 'Exception Handling Block'\n",
    "\n",
    "\t\tØ There are a few more keywords used with try-except statement. By using them, we increase our useful options in our program and create more effective and quality programs.\n",
    "\n",
    "\t\tØ The full version of try-except statement is as follows :\n",
    "\t\t\n",
    "\t\t\n",
    "\n",
    "\t\tØ Let's make some explanations about the process described above :\n",
    "\t\t\n",
    "\t\t\t• First, Python executes all statements between try and except.\n",
    "\t\t\t• If there is no exception, then the try block is successfully executed and finished.\n",
    "\t\t\t• If an exception raises, the rest of the try block is ignored. After that, Python interpreter checks if the type of exception matches the exception specified after the except keyword, it executes the except block and resumes executing the program after the try-except block.\n",
    "\t\t\t• If an exception doesn’t match the exception named in the except syntax, it is known an unhandled exception and execution of your program stops with a traceback error message.\n",
    "\t\t\t• The else-block is only executed if there raised no exceptions.\n",
    "\t\t\t• We can use a finally syntax at the end of the block. A finally syntax is always executed before leaving the try-except block, whether an exception was raised or not.\n",
    "\t\t\t\n",
    "\t\tØ You can follow the flow of these processes below : \n",
    "\t\t\n",
    "\t\t\n",
    "\n",
    "\t\tØ For details (https://docs.python.org/3/tutorial/errors.html#handling-exceptions)\n",
    "\n",
    "\t○ Implementation of the Full 'Exception Handling Block'-1\n",
    "\n",
    "\t\tØ Let's reorganize our previous code according to the structure described in the previous lesson. Consider this block of code :\n",
    "\t\t\n",
    "while True:\n",
    "\t\tno_one = int(input(\"The first number please : \"))\n",
    "\t\tno_two = int(input(\"The second number please : \"))\n",
    "\t\ttry:\n",
    "\t\t\tdivision = no_one / no_two  # normal part of the program\n",
    "\t\texcept ZeroDivisionError:\n",
    "\t\t\tprint(\"You can't divide by zero! Try again.\")  # executes when division by zero\n",
    "\t\telse:\n",
    "\t\t\tprint(\"The result of the division is : \", division)  # executes if there is no exception\n",
    "\t\tfinally:\n",
    "\t\t\tprint(\"Thanks for using our mini divison calculator! Come again!\")\n",
    "\t\t\tbreak  # exits the while loop\n",
    "\t\t\n",
    "\t\toutput - 1 : \n",
    "\t\t\n",
    "\t\tThe first number please : 7\n",
    "\t\tThe second number please : 2\n",
    "\t\tThe result of the division is :  3.5\n",
    "\t\tThanks for using our mini divison calculator! Come \n",
    "\t\t    again!\n",
    "\t\t\n",
    "\t\toutput - 2 :\n",
    "\t\tLet's enter 0 as a second number.\n",
    "\t\t\n",
    "\t\tThe first number please : 7\n",
    "\t\tThe second number please : 0\n",
    "\t\tYou can't divide by zero! Try again.\n",
    "\t\tThanks for using our mini divison calculator! Come again!\n",
    "\t\t\n",
    "\t\toutput - 3 :\n",
    "\t\tThis time, let's enter str type as a second number. The selected exception (ZeroDivisionError) will not match so traceback error will be raised. \n",
    "\t\t\n",
    "\t\tThe first number please : 7\n",
    "\t\tThe second number please : k\n",
    "\t\t---------------------------------------------------\n",
    "\t\t    ------------------------\n",
    "\t\tValueError                                Traceback \n",
    "\t\t    (most recent call last)\n",
    "\t\t<ipython-input-2-5fd297d1c219> in <module>\n",
    "\t\t1 while True:\n",
    "\t\t2     no_one = int(input(\"The first number \n",
    "\t\t          please : \"))\n",
    "\t\t----> 3     no_two = int(input(\"The second number \n",
    "\t\t    please : \"))\n",
    "\t\t4     try:\n",
    "\t\t5         division = no_one / no_two  # \n",
    "\t\t          normal part of the program\n",
    "\t\tValueError: invalid literal for int() with base 10: 'k'\n",
    "\n",
    "\t\tØ No matter what exception we encounter, there is a way to see it. Using the keyword Exception. Let's take a look at the following example :\n",
    "\t\t\n",
    "while True:\n",
    "\t\t\tno_one = int(input(\"The first number please : \" ))\n",
    "\t\t\tno_two = int(input(\"The second number please : \"))\n",
    "\t\t\ttry:\n",
    "\t\t\t\tdivision = no_one / no_two\n",
    "\t\t\t\tprint(\"The result of the division is : \", division)\n",
    "\t\t\t\tbreak\n",
    "\t\t\texcept Exception as e:\n",
    "\t\t\t\tprint(\"Something went wrong...Try again.\")\n",
    "\t\t\t\tprint(\"Probably it is because of '{}' error\".format(e))\n",
    "\t\t\t\tbreak\n",
    "\t\t\n",
    "\t\toutput :\n",
    "\t\t\n",
    "\t\tThe first number please : 4\n",
    "\t\tThe second number please : 0\n",
    "\t\tSomething went wrong...Try again.\n",
    "\t\tProbably it is because of 'division by zero' error.\n",
    "\t\t\n",
    "\t\tYes, as you can see the output, by using the keyword Exception, we can display the name of the exception type. Consider the other example :\n",
    "\t\t\n",
    "try :\n",
    "\t\ta = 10\n",
    "\t\tb = 2\n",
    "\t\tprint(\"The result of division is :\", c)\n",
    "\t\texcept Exception as e:\n",
    "\t\tprint(\"The error message is : \", e)\n",
    "\t\toutput :\n",
    "\t\t\n",
    "\t\tThe error message is :  name 'c' is not defined\n",
    "\n",
    "\t\tØ In this case, we used the variable \"c\" and since we didn't define it previously, it raised a NameError of which av  is displayed in the output cell above : \"name 'c' is not defined\".\n",
    "\t\t\n",
    "\t\t💡Tips:Apart from GeneratorExit, KeyboardInterrupt, SystemExit, the Exception keyword you learned in the previous lesson covers all exceptions.\n",
    "\n",
    "\n",
    "\t○ Implementation of the Full 'Exception Handling Block'-2\n",
    "\n",
    "\t\tØ In this second part of our lesson, we will continue to examine the full exception block through various examples. While examining the samples, try to understand the results by experimenting on the Playground yourself.\n",
    "\n",
    "\t\tØ The try…except block has an optional else clause. The else clause is executed only if no exceptions are raised. Consider the following example of the else clause :\n",
    "\t\t\n",
    "try:\n",
    "\t\tx = 4 / 1\n",
    "\t\texcept:\n",
    "\t\tprint('Something went wrong')\n",
    "\t\telse:\n",
    "\t\tprint('Nothing went wrong')\n",
    "\t\toutput :\n",
    "\t\t\n",
    "\t\tNothing went wrong\n",
    "\n",
    "\t\tØ The try…except block has another optional finally clause. The finally clause is always executed, whether an exception has occurred or not. Consider the following example of the finally clause :\n",
    "\t\t\n",
    "try:\n",
    "\t\tx = 3 / 0\n",
    "\t\texcept:\n",
    "\t\tprint('Something went wrong')\n",
    "\t\tfinally:\n",
    "\t\tprint('Always execute this')\n",
    "\t\toutput :\n",
    "\t\t\n",
    "\t\tSomething went wrong\n",
    "\t\tAlways execute this\n",
    "\n",
    "\t\tØ Use finally clause to define clean-up actions that must be executed under all circumstances e.g. closing a file. :\n",
    "\t\t\n",
    "\t\ttry:\n",
    "\t\tf = open('myfile.txt')\n",
    "\t\tprint(f.read())\n",
    "\t\texcept:\n",
    "\t\tprint(\"Something went wrong\")\n",
    "\t\tfinally:\n",
    "\t\tf. close()\n",
    "\n",
    "\t○ Several Handling Scenarios\n",
    "\n",
    "\t\tØ In this part of our lesson, we will continue to examine this issue through various examples. While examining the samples, try to understand the results by experimenting on the Playground yourself.\n",
    "\n",
    "\t\tØ Take a look at the first one. In this example you can define as many except blocks as you want, to catch and handle specific exceptions :\n",
    "\t\t\n",
    "try:\n",
    "\t\tx = 2/0\n",
    "\t\texcept ZeroDivisionError:\n",
    "\t\tprint('Attempt to divide by zero')\n",
    "\t\texcept:\n",
    "\t\tprint('Something else went wrong')\n",
    "\t\toutput :\n",
    "\t\t\n",
    "\t\tAttempt to divide by zero\n",
    "\n",
    "\t\tØ Since all the built-in exceptions are formed a hierarchical structure, you can use the following exception syntaxes. To catch several possibilities, it’d be better to use two or more except blocks for different exceptions.\n",
    "\t\t\n",
    "input-1: you can identify no specific exception :\n",
    "\t\t\n",
    "\t\t....\n",
    "\t\texcept:\n",
    "\t\tprint(\"Unknown exception error occured. Tyr \n",
    "\t\t        again please.\")\n",
    "\t\tinput-2: different exception blocks :\n",
    "\t\t\n",
    "\t\t....\n",
    "\t\texcept ZeroDivisionError:\n",
    "\t\tprint(\"You can't divide by zero!!\")\n",
    "\t\texcept ValueError:\n",
    "\t\tprint(\"You can only enter numbers consisting of \n",
    "\t\t       digits, not text!!\")\n",
    "\t\tinput-3: an except syntax also may contain multiple exceptions separated by commas and enclosed by parenthesis.\n",
    "\t\t\n",
    "\t\t....\n",
    "\t\texcept (ValueError, TypeError):\n",
    "\t\tprint(\"You can only enter numbers consisting of \n",
    "\t\t        digits, not text!!\")\n",
    "\t\tinput-4: because of the hierarchical structure, one exception can actually catch various exceptions.\n",
    "\t\t\n",
    "\t\t....\n",
    "\t\texcept ArithmeticError:\n",
    "\t\tprint(\"I will also catch OverflowError, \n",
    "\t\t        FloatingPointError and ZeroDivisionError\")\n"
   ]
  },
  {
   "cell_type": "code",
   "execution_count": 5,
   "metadata": {},
   "outputs": [
    {
     "name": "stdout",
     "output_type": "stream",
     "text": [
      "The first number is: 2\n",
      "The second number is: 2\n",
      "result of the division is:  1.0\n"
     ]
    }
   ],
   "source": [
    "while True:\n",
    "    no_one = int(input(\"The first number is: \"))\n",
    "    no_two = int(input(\"The second number is: \"))\n",
    "    try:\n",
    "        division = no_one/no_two\n",
    "        print(\"result of the division is: \", division)\n",
    "        break\n",
    "    except: \n",
    "        print(\"something went wrong\")"
   ]
  },
  {
   "cell_type": "code",
   "execution_count": 6,
   "metadata": {},
   "outputs": [
    {
     "name": "stdout",
     "output_type": "stream",
     "text": [
      "birşeyler ters gitti\n"
     ]
    }
   ],
   "source": [
    "try: #sıkıntılı olduğunu düşündüğümüz kodları bunla deneriz. exception yükselise o işler. kodun topu hatal vermez. \n",
    "    print(\"x\"+4)\n",
    "except:\n",
    "    print(\"birşeyler ters gitti\")"
   ]
  },
  {
   "cell_type": "code",
   "execution_count": 7,
   "metadata": {},
   "outputs": [
    {
     "name": "stdout",
     "output_type": "stream",
     "text": [
      "x4\n"
     ]
    }
   ],
   "source": [
    "try:\n",
    "    print(\"x\"+\"4\")\n",
    "except:\n",
    "    print(\"birşeyler ters gitti\")"
   ]
  },
  {
   "cell_type": "code",
   "execution_count": 8,
   "metadata": {},
   "outputs": [
    {
     "name": "stdout",
     "output_type": "stream",
     "text": [
      "The first number is: 3\n",
      "The second number is: 2\n",
      "result of the division is:  1.5\n"
     ]
    }
   ],
   "source": [
    "while True:\n",
    "    no_one = int(input(\"The first number is: \"))\n",
    "    no_two = int(input(\"The second number is: \"))\n",
    "    try:\n",
    "        division = no_one/no_two\n",
    "        print(\"result of the division is: \", division)\n",
    "        break\n",
    "    except ZeroDivisionError: #bu hatanın olabileceğini tahmin ettik. sitede var bu hatalar\n",
    "        print(\"something went wrong\")"
   ]
  },
  {
   "cell_type": "code",
   "execution_count": 9,
   "metadata": {},
   "outputs": [
    {
     "ename": "SyntaxError",
     "evalue": "invalid syntax (<ipython-input-9-90b788b562d2>, line 2)",
     "output_type": "error",
     "traceback": [
      "\u001b[1;36m  File \u001b[1;32m\"<ipython-input-9-90b788b562d2>\"\u001b[1;36m, line \u001b[1;32m2\u001b[0m\n\u001b[1;33m    with open(\"my_filemm.txt\", \"r\", encoding: \"utf-8\") as file:\u001b[0m\n\u001b[1;37m                                            ^\u001b[0m\n\u001b[1;31mSyntaxError\u001b[0m\u001b[1;31m:\u001b[0m invalid syntax\n"
     ]
    }
   ],
   "source": [
    "try:\n",
    "    with open(\"my_filemm.txt\", \"r\", encoding: \"utf-8\") as file:\n",
    "        print(file.read())\n",
    "except FileNotFoundError:\n",
    "    print(\"no such file exists\")"
   ]
  },
  {
   "cell_type": "code",
   "execution_count": null,
   "metadata": {},
   "outputs": [],
   "source": [
    "with open(\"my_filemm.txt\", \"r\", encoding = \"utf-8\") as file:\n",
    "    print(file.read())"
   ]
  },
  {
   "cell_type": "code",
   "execution_count": null,
   "metadata": {},
   "outputs": [],
   "source": []
  }
 ],
 "metadata": {
  "kernelspec": {
   "display_name": "Python 3",
   "language": "python",
   "name": "python3"
  },
  "language_info": {
   "codemirror_mode": {
    "name": "ipython",
    "version": 3
   },
   "file_extension": ".py",
   "mimetype": "text/x-python",
   "name": "python",
   "nbconvert_exporter": "python",
   "pygments_lexer": "ipython3",
   "version": "3.7.6"
  }
 },
 "nbformat": 4,
 "nbformat_minor": 4
}
