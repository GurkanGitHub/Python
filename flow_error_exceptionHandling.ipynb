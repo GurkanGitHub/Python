{
 "cells": [
  {
   "cell_type": "raw",
   "metadata": {},
   "source": [
    "• Program Flow, Error & Exception Handling\n",
    "\n",
    "\t○ Program Execution\n",
    "\n",
    "\t\tØ Introduction\n",
    "\t\t\n",
    "\t\t\t• In this section, we will try to understand how Python codes work, in other words, we will take a look at what's happening when you run the codes.\n",
    "\n",
    "\t\t\t• Have you ever thought, after writing lines of Python code, how they do amazing things? We just write codes and do not care about the rest, but after we press the run button, we can say that very complex things are performed very quickly.\n",
    "\n",
    "\t\t\t• Even if we run the simple conventional Python syntax : print('Hello World!'), the same complex things are performed in the same way. The Python scripts (a file with .py extension) contains Python codes and we can run this file via several interpreter tools such as Python Shell, OS Console or IDEs. We don't care what's happening when we run our set of Python statements. This is normal but it's worth learning how it works.\n",
    "\t\t\n",
    "\t\t✏️Homework:Do a research on which IDEs can be used for Python codes in the programming world.\n",
    "\n",
    "\t\t\t• Since the very beginning of this course, you have probably heard terms such as interpreted or compiled languages. And most likely, you learned that Python was an interpreted type of programming language. What does all this mean? Let's dive into the Pythonic world.\n",
    "\t\t\t\n",
    "\t\t\t• The process of program execution (the program flow) basically looks like this :\n",
    "            typed script --> interpretation--> everything is done!\n",
    "            • The step we are interested in is the middle one : Interpretation. Yes, Python is an interpreted programming language. We know that but superficially. Let's take a closer look at what this means.\n",
    "\n"
   ]
  },
  {
   "cell_type": "raw",
   "metadata": {},
   "source": [
    "\t\tØ The Interpretation\n",
    "\t\n",
    "\tBasitçe kodların okunmasıdır. Soldan sağa yukarıdan aşağıya okunmasıdır. Okuyor ve bir yere gönderiyor. İdeye bilgi olarak gönderiyor. Python default interpretırı C dilinde yazılmş Cpython'dur. KC dili ile yazılmış kod bloku. Modül gibi bir şey. Tüm interpretırlar kodları byte koda çeviriyor. Kodları alıyor derliyor, byte koda çevirip virtual machine gönderiyor. \n",
    "\tCompliler: python ifadelerini byte koda çevirir. Virtual machine anlayacağı dile çevrilmiş olur. \n",
    "\n",
    "\t\t\t• What is the interpretation process? Simply, we can say that this is like reading your codes. In other words, you can think that a specific-purpose software reads your codes line by line and executes what you typed.\n",
    "\n",
    "\t\t\t• This magical software is known as Interpreter and is a part of the standard Python installation package. And of course, the other default installation part of Python is built-in libraries.\n",
    "\n",
    "\t\t\t• The compiler translates Python codes to byte-codes that come into it by reading line by line from top to bottom and from left to right.\n"
   ]
  },
  {
   "cell_type": "raw",
   "metadata": {},
   "source": [
    "\t\t\t• The interesting thing is that the interpreter we mentioned here can be written in any programming language. Python's default interpreter is a software written in the C programming language known as CPython. There are several other interpreters available such as :\n",
    "\t\t\t\n",
    "\t\t\t\t○ Jython is an interpreter that works with a Java-based algorithm and converts Python codes into Java-compatible byte code, which will be executed later by the Java Virtual Machine.\n",
    "\t\t\t\t○ PyPy is a replacement for CPython. It is built using the RPython language that was co-developed with it. The main reason to use it instead of CPython is speed: RPython (Restricted Python) provides some restrictions to the usual Python code.\n",
    "\t\t\t\t○ IronPython is an open-source implementation of the Python programming language which is tightly integrated with the .NET Framework.\n",
    "\n",
    "\t\t\t• Now let's try to figure out the interpretation process in detail. The interpretation step consists of basically three sub-steps which are :\n",
    "            typed script --> interpretation (compilation--->byte code---> virtual machine)--> everything is done!\n",
    "            \n",
    "            \t\t\t• The compiler translates your Python statements (source code) into byte-code. Different from the binary machine code, the byte code is platform-independent, primitive level and specific version of the Python source code. That's why some Python programs are executed not as fast as in C-based conventional compiled languages.\n",
    "\n",
    "\t\t\t• After compilation of Python statements into byte-code, it is now time for Python Virtual Machine to run.\n",
    "\n"
   ]
  },
  {
   "cell_type": "raw",
   "metadata": {},
   "source": [
    "\t○ Virtual Machine: aslında kodlardan oluşan bir modül. \n",
    "\n",
    "\t\tØ When you say Python Virtual Machine, you should not think of a mechanical machine or hardware. It is actually nothing but software made up of a large piece of code.\n",
    "\n",
    "\t\tØ Just like in compiler, Virtual Machine executes byte-codes that come into it by reading line by line from top to bottom and from left to right.\n"
   ]
  },
  {
   "cell_type": "raw",
   "metadata": {},
   "source": [
    "\t\tØ As we mentioned before, all this is done automatically by itself. It does not require a separate library or program installation. You do not need to know how the codes that go from the Python statements to the byte-code and from the byte-code to the Virtual Machine are created and executed. Just grasping the order of flow and the logic of these processes will be sufficient at this stage.\n",
    "\n",
    "\t\tØ Lastly, we can say that the actual execution of the Python codes we typed is done by Python Virtual Machine as the last step. In fact, other previous steps are the process of converting Python statements into a format that Python Virtual Machine can understand and execute.\n"
   ]
  },
  {
   "cell_type": "raw",
   "metadata": {},
   "source": [
    "• Errors: (syntax error & exceptions)\n",
    "\t○ Introduction\n",
    "\t\tØ Slightest punctuation will cause an error and program not to run.Ex: \n",
    "\t\t\n",
    "\t\tprint(\"Don't say 'I never make a mistake'\"\n",
    "\t\t\n",
    "\t\toutput :\n",
    "\t\tTraceback·(most·recent·call·last):\n",
    "\t\tFile \"code.py\", line 1\n",
    "\t\tprint(\"Don't say 'I never make a mistake'\"\n",
    "\t\t^\n",
    "\t\tSyntaxError:·unexpected·EOF·while·parsing\n",
    "\t\t\n",
    "\t\tØ Traceback: module of 614 lines of Python code. This module;\n",
    "\t\t\t• provides a standard interface to extract, format and print stack traces (yığın izleme) of Pprograms.\n",
    "\t\t\t• exactly mimics the behavior of the Pinterpreter when it prints a stack trace. In this way, allows you to follow the line and character of the error and trace it.\n",
    "\t\tØ The name of module - Traceback - appears when your code causes an error and it reports detailed information on that specific error, demonstrating the particular files in which the error occurred. \n",
    "\t\tØ Most important thing that a programmer should be interested in is the last lines in the most cases. In this example, the last two lines indicate that this error type is a Syntax error and it also indicates in which line and in which character (with the ^ sign) the error raised.\n",
    "\n",
    "\t⚠️Attention: Do not panic when you see those error lines. Do not hesitate to read carefully what they are saying to you.\n",
    "\n",
    "\t○ Syntax Errors\n",
    "\t\tØ In example below there is a word SyntaxError, which you will likely encounter frequently during your time in Python.\n",
    "\n",
    "\t\tTraceback·(most·recent·call·last):\n",
    "\t\tFile \"code.py\", line 1\n",
    "\t\tprint(\"Don't say 'I never make a mistake'\"\n",
    "\t\t^\n",
    "\t\tSyntaxError:·unexpected·EOF·while·parsing\n",
    "\n",
    "\t\tØ A wide variety of errors in Python are called SyntaxError. Typically, they indicate a problem that Python encountered when trying to compile your program, or that your code could not be run.\n",
    "\n",
    "\t\tØ Every syntax error has a text value (known as associated value-av) that describes the error in detail. In this example, the message \"SyntaxError: unexpected EOF while parsing\" means that something else had been expected by the interpreter after your statement, but you didn't pass it to the interpreter. In our mistaken code, there should have been a closing parenthesis mark \")\" which is missing.\n",
    "\n",
    "\t💡Tips: Focusing on the av of the SyntaxError often helps solve your problem.\n",
    "\n",
    "\t\tØ Error messages may not always be very clear. To find the source of your error, it is sufficient to know that the error you received is in the syntax.\n",
    "\n",
    "\t○ Common Syntax Errors: \n",
    "\t\tØ Quotes :\n",
    "\t\t\t• In the Matter of Quotes lesson, we have elaborated on how sensitive programming language Python is to quotation marks. So it's critical not to forget to enclose a string in quotes of the same type.\n",
    "\t\t💡Tips: Keep this simple advice in your mind; triple quotes for multi-line strings, double or single quotes for ordinary strings.\n",
    "\t\tØ Wrong Parentheses :\n",
    "\t\t\t• One of the most common syntax errors is the wrong number of parentheses in function calls. e.g. print(len(my_list[2:]).\n",
    "\t\tØ Wrong Spelling & Typo :\n",
    "\t\t\t• Yes, it may sound strange to you, but the most common mistake made by programmers is the wrong spelling keywords, function names, and variable names. e.g. True and true, print and prit or pirnt.\n",
    "\n",
    "\t\t⚠️Avoid ! : Do not confuse uppercase and lowercase letter of the keywords. Keep in your mind that Python is a case-sensitive programing language.\n",
    "\n",
    "\t\tØ Indents : Indents are also very common errors for programmers. \n",
    "\n",
    "\t\t⚠️Avoid ! : Do not forget to put the appropriate indent where necessary. Keep in your mind that Python is a indent-sensitive programing language.\n",
    "\n",
    "\t○ Modern IDEs tend to check everything you might be able to make mistakes and to gently highlight the places you made mistakes or typos with various cursors and indicators while typing. This will make your job significantly easier, but don't rely too much on it and be prepared to read your traceback yourself.\n",
    "\n",
    "• Exceptions\n",
    "\t○ Introduction\n",
    "\t\tØ So far, your code has been syntactically error-free and should be executed smoothly. However, in some cases, you will find that even if you have not made a syntax error, your program will be executed to a certain line and then give some warning messages. This means that your program is partially executed. Well, let's figure out what is going on.\n",
    "\t\tØ If your program is running but you still get some error messages for several reasons, you probably get an error warning called an exception. This is because of defective line of codes in your program.\n",
    "\t\tØ What is the difference between Syntax errors and Exception errors?\n",
    "\t\t\n"
   ]
  },
  {
   "cell_type": "raw",
   "metadata": {},
   "source": [
    "\t\tSyntax Error: These types of errors are detected during compiling the program into byte-code.\n",
    "        Exception Error: These types of errors are detected during the program execution (interpretation) process.\n"
   ]
  },
  {
   "cell_type": "raw",
   "metadata": {},
   "source": [
    "\t\tØ Example:\n",
    "\t\t\n",
    "\t\tprint('Here we go!')\n",
    "\t\tprint('I will be the second text')\n",
    "\t\ta = '3'\n",
    "\t\tb = 5\n",
    "\t\tprint('It is time for an error message :(')\n",
    "\t\tprint(a + b)  # it won't be printed\n",
    "\t\tprint(\"Sorry, but I won't be printed\")  # it won't be printed\n",
    "\t\t\n",
    "\t\toutput :\n",
    "\t\t\n",
    "\t\tHere we go!\n",
    "\t\tI will be the second text\n",
    "\t\tIt is time for an error message :(\n",
    "\t\tTraceback (most recent call last):\n",
    "\t\tFile \"code.py\", line 6, in <module>\n",
    "\t\tprint(a + b)\n",
    "\t\tTypeError: can only concatenate str (not \"int\") to str\n",
    "\n",
    "\t\tØ Yes, as you can see, the first three print() functions printed their own content, but the last two print() functions did not work and we received an exception error message (that is our program was partially executed). As we stated before, you should look at the last line of the error message which says that this is the TypeError. It's obvious, right? There is a wrong use of types of variables (a is a str type and b is an int).\n",
    "\n",
    "\t💡Tips: Exceptions are not the end of world. learn how to deal with them\n",
    "\t\n",
    "\t\tØ Similar to the syntax errors, almost all exception error messages also have a text value following the error message explaining what the error is related to.\n"
   ]
  },
  {
   "cell_type": "raw",
   "metadata": {},
   "source": [
    "\tQ: What are the Errors and Exeptions in Python? \n",
    "\tA:\n",
    "\tIn Python, there are two types of errors: syntax error and exceptions.\n",
    "\tSyntax Error: It is also known as parsing errors. Errors are issues in a program which may cause it to exit abnormally. When an error is detected, the parser repeats the offending line and then displays an arrow which points at the earliest point in the line.\n",
    "\tExceptions: Exceptions take place in a program when the normal flow of the program is interrupted due to the occurrence of an external event. Even if the syntax of the program is correct, there are chances of detecting an error during execution, this error is nothing but an exception. Some of the examples of exceptions are - ZeroDivisionError, TypeError and NameError.\n",
    "- Interview Q&A"
   ]
  },
  {
   "cell_type": "markdown",
   "metadata": {},
   "source": [
    "# Common Exceptions (value, name, type errors)"
   ]
  },
  {
   "cell_type": "markdown",
   "metadata": {},
   "source": [
    "Most common exception errors -ee a programmer can encounter."
   ]
  },
  {
   "cell_type": "markdown",
   "metadata": {},
   "source": [
    "## ValueError"
   ]
  },
  {
   "cell_type": "raw",
   "metadata": {},
   "source": [
    "• Raised when an operation or function receives an argument that has the right type but an inappropriate value, and the situation is not described by a more precise exception such as IndexError. In other words; to encounter a ValueError in Python means that it is a problem with the content of the object you tried to assign the value to. This should not be confused with types in Python. \n",
    "• Imagine, this is like forcing a fish to live in a chicken coop. Consider the following example :"
   ]
  },
  {
   "cell_type": "code",
   "execution_count": 1,
   "metadata": {},
   "outputs": [
    {
     "ename": "ValueError",
     "evalue": "invalid literal for int() with base 10: 'ten'",
     "output_type": "error",
     "traceback": [
      "\u001b[1;31m---------------------------------------------------------------------------\u001b[0m",
      "\u001b[1;31mValueError\u001b[0m                                Traceback (most recent call last)",
      "\u001b[1;32m<ipython-input-1-1fe0c5042e33>\u001b[0m in \u001b[0;36m<module>\u001b[1;34m\u001b[0m\n\u001b[1;32m----> 1\u001b[1;33m \u001b[0mprint\u001b[0m\u001b[1;33m(\u001b[0m\u001b[0mint\u001b[0m\u001b[1;33m(\u001b[0m\u001b[1;34m'ten'\u001b[0m\u001b[1;33m)\u001b[0m\u001b[1;33m)\u001b[0m\u001b[1;33m\u001b[0m\u001b[1;33m\u001b[0m\u001b[0m\n\u001b[0m",
      "\u001b[1;31mValueError\u001b[0m: invalid literal for int() with base 10: 'ten'"
     ]
    }
   ],
   "source": [
    "print(int('ten'))"
   ]
  },
  {
   "cell_type": "raw",
   "metadata": {},
   "source": [
    "As you can see in the output; when you are trying to make an integer of a string which has no integer value, the ValueError raises."
   ]
  },
  {
   "cell_type": "markdown",
   "metadata": {},
   "source": [
    "## NameError"
   ]
  },
  {
   "cell_type": "raw",
   "metadata": {},
   "source": [
    "• This error is usually raised;⚠️Attention\n",
    "\t○ If a variable is not pre-defined or not properly defined. \n",
    "\t○ When a local or global name is not found. This applies only to unqualified names. \n",
    "\t○ Due to the lack of attention to case-sensitivity of Python. \n",
    "\t\t\t\t\n",
    "• Av is an error message that includes the name that not found.Ex:  "
   ]
  },
  {
   "cell_type": "code",
   "execution_count": 2,
   "metadata": {},
   "outputs": [
    {
     "ename": "NameError",
     "evalue": "name 'variable' is not defined",
     "output_type": "error",
     "traceback": [
      "\u001b[1;31m---------------------------------------------------------------------------\u001b[0m",
      "\u001b[1;31mNameError\u001b[0m                                 Traceback (most recent call last)",
      "\u001b[1;32m<ipython-input-2-4d9687973dd3>\u001b[0m in \u001b[0;36m<module>\u001b[1;34m\u001b[0m\n\u001b[1;32m----> 1\u001b[1;33m \u001b[0mprint\u001b[0m\u001b[1;33m(\u001b[0m\u001b[0mvariable\u001b[0m\u001b[1;33m)\u001b[0m\u001b[1;33m\u001b[0m\u001b[1;33m\u001b[0m\u001b[0m\n\u001b[0m\u001b[0;32m      2\u001b[0m \u001b[0mvariable\u001b[0m \u001b[1;33m=\u001b[0m \u001b[1;34m\"Don't ever give up!\"\u001b[0m\u001b[1;33m\u001b[0m\u001b[1;33m\u001b[0m\u001b[0m\n",
      "\u001b[1;31mNameError\u001b[0m: name 'variable' is not defined"
     ]
    }
   ],
   "source": [
    "print(variable)\n",
    "variable = \"Don't ever give up!\""
   ]
  },
  {
   "cell_type": "markdown",
   "metadata": {},
   "source": [
    "## TypeError"
   ]
  },
  {
   "cell_type": "raw",
   "metadata": {},
   "source": [
    "Raised when a function is applied to an object of inappropriate type. Av is a string giving details about the type mismatch."
   ]
  },
  {
   "cell_type": "code",
   "execution_count": 4,
   "metadata": {},
   "outputs": [
    {
     "ename": "TypeError",
     "evalue": "'str' object cannot be interpreted as an integer",
     "output_type": "error",
     "traceback": [
      "\u001b[1;31m---------------------------------------------------------------------------\u001b[0m",
      "\u001b[1;31mTypeError\u001b[0m                                 Traceback (most recent call last)",
      "\u001b[1;32m<ipython-input-4-20f463162d3c>\u001b[0m in \u001b[0;36m<module>\u001b[1;34m\u001b[0m\n\u001b[1;32m----> 1\u001b[1;33m \u001b[1;32mfor\u001b[0m \u001b[0mi\u001b[0m \u001b[1;32min\u001b[0m \u001b[0mrange\u001b[0m\u001b[1;33m(\u001b[0m\u001b[1;34m'x'\u001b[0m\u001b[1;33m)\u001b[0m\u001b[1;33m:\u001b[0m \u001b[1;31m# although it requires integer, we have tried to iterate the wrong type - str - object in the range() function.\u001b[0m\u001b[1;33m\u001b[0m\u001b[1;33m\u001b[0m\u001b[0m\n\u001b[0m\u001b[0;32m      2\u001b[0m     \u001b[0mprint\u001b[0m\u001b[1;33m(\u001b[0m\u001b[0mi\u001b[0m\u001b[1;33m)\u001b[0m\u001b[1;33m\u001b[0m\u001b[1;33m\u001b[0m\u001b[0m\n",
      "\u001b[1;31mTypeError\u001b[0m: 'str' object cannot be interpreted as an integer"
     ]
    }
   ],
   "source": [
    "for i in range('x'): # although it requires integer, we have tried to iterate the wrong type - str - object in the range() function.\n",
    "    print(i)"
   ]
  },
  {
   "cell_type": "code",
   "execution_count": 14,
   "metadata": {},
   "outputs": [
    {
     "data": {
      "text/plain": [
       "['soupsoup', 'dogdog', 'saladsalad', 'catcat', 'greatgreat']"
      ]
     },
     "execution_count": 14,
     "metadata": {},
     "output_type": "execute_result"
    }
   ],
   "source": [
    "seq = ['soup','dog','salad','cat','great']\n",
    "list(map(lambda x: x*2, seq))"
   ]
  },
  {
   "cell_type": "code",
   "execution_count": 15,
   "metadata": {},
   "outputs": [
    {
     "data": {
      "text/plain": [
       "['soupsoup', 'dogdog', 'saladsalad', 'catcat', 'greatgreat']"
      ]
     },
     "execution_count": 15,
     "metadata": {},
     "output_type": "execute_result"
    }
   ],
   "source": [
    "seq = ['soup','dog','salad','cat','great']\n",
    "def times2(var):\n",
    "    return var*2\n",
    "list(map(times2, seq)) # This error occurred because you previously used list object. Never call list() object, if you ever used list before."
   ]
  },
  {
   "cell_type": "raw",
   "metadata": {},
   "source": [
    "It tells us we’re trying to manipulate a value using a method not available to the type of data in which the value is stored."
   ]
  },
  {
   "cell_type": "code",
   "execution_count": 16,
   "metadata": {},
   "outputs": [],
   "source": [
    "names = [\"Peter Geoffrey\", \"Dakota Williams\", \"Rebecca Lee\"]"
   ]
  },
  {
   "cell_type": "code",
   "execution_count": 17,
   "metadata": {},
   "outputs": [
    {
     "ename": "TypeError",
     "evalue": "'list' object is not callable",
     "output_type": "error",
     "traceback": [
      "\u001b[1;31m---------------------------------------------------------------------------\u001b[0m",
      "\u001b[1;31mTypeError\u001b[0m                                 Traceback (most recent call last)",
      "\u001b[1;32m<ipython-input-17-68a4402c9af3>\u001b[0m in \u001b[0;36m<module>\u001b[1;34m\u001b[0m\n\u001b[0;32m      1\u001b[0m \u001b[1;32mfor\u001b[0m \u001b[0mn\u001b[0m \u001b[1;32min\u001b[0m \u001b[0mrange\u001b[0m\u001b[1;33m(\u001b[0m\u001b[0mlen\u001b[0m\u001b[1;33m(\u001b[0m\u001b[0mnames\u001b[0m\u001b[1;33m)\u001b[0m\u001b[1;33m)\u001b[0m\u001b[1;33m:\u001b[0m\u001b[1;33m\u001b[0m\u001b[1;33m\u001b[0m\u001b[0m\n\u001b[1;32m----> 2\u001b[1;33m     \u001b[0mnames\u001b[0m\u001b[1;33m[\u001b[0m\u001b[0mn\u001b[0m\u001b[1;33m]\u001b[0m \u001b[1;33m=\u001b[0m \u001b[0mnames\u001b[0m\u001b[1;33m(\u001b[0m\u001b[0mn\u001b[0m\u001b[1;33m)\u001b[0m\u001b[1;33m.\u001b[0m\u001b[0mupper\u001b[0m\u001b[1;33m(\u001b[0m\u001b[1;33m)\u001b[0m\u001b[1;33m\u001b[0m\u001b[1;33m\u001b[0m\u001b[0m\n\u001b[0m\u001b[0;32m      3\u001b[0m     \u001b[0mprint\u001b[0m\u001b[1;33m(\u001b[0m\u001b[0mnames\u001b[0m\u001b[1;33m(\u001b[0m\u001b[0mn\u001b[0m\u001b[1;33m)\u001b[0m\u001b[1;33m)\u001b[0m\u001b[1;33m\u001b[0m\u001b[1;33m\u001b[0m\u001b[0m\n\u001b[0;32m      4\u001b[0m \u001b[1;33m\u001b[0m\u001b[0m\n\u001b[0;32m      5\u001b[0m \u001b[0mprint\u001b[0m\u001b[1;33m(\u001b[0m\u001b[0mnames\u001b[0m\u001b[1;33m)\u001b[0m\u001b[1;33m\u001b[0m\u001b[1;33m\u001b[0m\u001b[0m\n",
      "\u001b[1;31mTypeError\u001b[0m: 'list' object is not callable"
     ]
    }
   ],
   "source": [
    "for n in range(len(names)):\n",
    "    names[n] = names(n).upper()\n",
    "    print(names(n))\n",
    "\n",
    "print(names)"
   ]
  },
  {
   "cell_type": "raw",
   "metadata": {},
   "source": [
    "Use the range() method to iterate through every item in the “names” list. Then use the assignment operator to change the value of each name to its uppercase equivalent. The Python upper() method converts each name to uppercase.\n",
    "\n",
    "Next, print out the new name to the console. Once our loop has run, print out the whole revised list to the console."
   ]
  },
  {
   "cell_type": "raw",
   "metadata": {},
   "source": [
    "The Solution\n",
    "Use square brackets to access items in a list. Curly brackets are used to call functions in Python. The problem in our code is that we’re trying to call a list as a function because we’re using curly brackets to access items in our list.\n",
    "\n",
    "In our code, use curly brackets to access a list item in two places:\n",
    "\n",
    "for n in range(len(names)):\n",
    "names[n] = names(n).upper()\n",
    "print(names(n))\n",
    "We must swap the names(n) code to use square brackets: \n",
    "\n"
   ]
  },
  {
   "cell_type": "code",
   "execution_count": 18,
   "metadata": {},
   "outputs": [
    {
     "name": "stdout",
     "output_type": "stream",
     "text": [
      "PETER GEOFFREY\n",
      "DAKOTA WILLIAMS\n",
      "REBECCA LEE\n"
     ]
    }
   ],
   "source": [
    "for n in range(len(names)):\n",
    "    names[n] = names[n].upper()\n",
    "    print(names[n])"
   ]
  },
  {
   "cell_type": "raw",
   "metadata": {},
   "source": [
    "\n",
    "This tells Python we want to access the item at the index position “n” in the list “names”.\n",
    "\n",
    "Run our code with the applicable revisions we just discussed:"
   ]
  },
  {
   "cell_type": "raw",
   "metadata": {},
   "source": [
    "💡Tips:If you cannot deal with the error just search it, for sure it is experienced before"
   ]
  },
  {
   "cell_type": "code",
   "execution_count": null,
   "metadata": {},
   "outputs": [],
   "source": [
    "Q: Give some examples of standard errors that occour in Python.\n",
    "A:\n",
    "\t• TypeError- It occurs when the expected type does not match with the given type of a variable.\n",
    "\t• ValueError- It occurs when an expected value is not given, suppose you are expecting 6 elements in a list and you gave 2.\n",
    "\t• NameError- It occurs when you are trying to access an undefined variable or a function.\n",
    "\t• IOError- It occurs when you are trying to access a file that does not exist.\n",
    "\t• IndexError- It occurs when you are trying to access an invalid index of a sequence.\n",
    "\t• KeyError- It occurs when you use an invalid key to access a value in the dictionary."
   ]
  },
  {
   "cell_type": "markdown",
   "metadata": {},
   "source": [
    "# Exception Handling"
   ]
  },
  {
   "cell_type": "raw",
   "metadata": {},
   "source": [
    "\n",
    "\t○ Introduction\n",
    "\n",
    "\t\tØ Prevent exception errors from unnecessarily disrupting our program flow.\n",
    "\t\t\n",
    "\t\tØ In some cases, you may need to anticipate exceptions that might disrupt your program flow and take action in advance. \n",
    "\t\tØ Ex:\n",
    "\n",
    "\t\twhile True:\n",
    "\t\tno_one = int(input(\"The first number please : \"))\n",
    "\t\tno_two = int(input(\"The second number please : \"))\n",
    "\t\tdivision = no_one / no_two\n",
    "\t\tprint(\"The result of the division is : \", division)\n",
    "\t\tbreak\n",
    "\t\t\n",
    "\t\tLet's run it for the first time :\n",
    "\t\t\n",
    "\t\toutput-1 :\n",
    "\t\t\n",
    "\t\tThe first number please : 6\n",
    "\t\tThe second number please : 3\n",
    "\t\tThe result of the division is : 2.0\n",
    "\t\t\n",
    "\t\tLet's run it again :\n",
    "\t\t\n",
    "\t\toutput-2 :\n",
    "\t\t\n",
    "\t\tThe first number please : 7\n",
    "\t\tThe second number please : 2\n",
    "\t\tThe result of the division is : 3.5\n",
    "\t\t\n",
    "\t\tThis time, let's make a mistake intentionally and enter 0 as the second number :\n",
    "\t\t\n",
    "\t\toutput-3 :\n",
    "\t\t\n",
    "\t\tFirst number please : 4\n",
    "\t\tSecond number please : 0\n",
    "\t\t---------------------------------------------------\n",
    "\t\t    ------------------------\n",
    "\t\tTraceback (most recent call last)\n",
    "\t\t<ipython-input-5-537f57020b40> in <module>\n",
    "\t\t2     no_one = int(input(\"First number please: \"))\n",
    "\t\t3     no_two = int(input(\"Second number please : \"))\n",
    "\t\t----> 4     division = no_one / no_two\n",
    "\t\t5     print(\"The result of the divison is : \", division)\n",
    "\t\tZeroDivisionError: division by zero\n",
    "\n",
    "\t○  try-except statement\n",
    "\t\n",
    "\t\tØ Yes, we received an exception error message in our last attempt. So it's time to show you the way to solve it. We can ensure that our program continues without hesitation by using the try-except statement. The basic structure of it:\n",
    "\n",
    "\t\ttry:\n",
    "\t\t\tcode block to be normally executed\n",
    "\t\texcept:\n",
    "\t\t\tcode block to be exceptionally executed\n",
    "\t\t\n",
    "\t\tLet's fix this exception problem using try-except statement as follows :\n",
    "\t\t\n",
    "\t\twhile True:\n",
    "\t\t\tno_one = int(input(\"The first number please : \" ))\n",
    "\t\t\tno_two = int(input(\"The second number please : \"))\n",
    "\t\t\ttry:\n",
    "\t\t\t\tdivision = no_one / no_two\n",
    "\t\t\t\tprint(\"The result of the division is : \", division)\n",
    "\t\t\t\tbreak\n",
    "\t\t\texcept:\n",
    "\t\t\t\tprint(\"Something went wrong...Try again.\")\n",
    "\t\t\n",
    "\t\tWhen we enter 0 as a second number, then let's see what will happen :\n",
    "\t\t\n",
    "\t\toutput :\n",
    "\t\t\n",
    "\t\tThe first number please : 5\n",
    "\t\tThe second number please : 0\n",
    "\t\tSomething went wrong...Try again.\n",
    "\n",
    "\t\tØ As you can see the output, there is no exception error message or breaking of the program. We can specify the exception error message in our try-except statement.\n",
    "\n",
    "\t💡Tips: Of course, when do this, we anticipate which exception error we will encounter.\n",
    "\n",
    "\t\tØ Consider this block of code :\n",
    "\t\t\n",
    "while True:\n",
    "\t\tno_one = int(input(\"The first number please : \" ))\n",
    "\t\tno_two = int(input(\"The second number please : \"))\n",
    "\t\ttry:\n",
    "\t\tdivision = no_one / no_two\n",
    "\t\tprint(\"The result of the division is : \", division)\n",
    "\t\tbreak\n",
    "\t\texcept ZeroDivisionError:\n",
    "\t\tprint(\"You can't divide by zero! Try again.\")\n",
    "\t\t\n",
    "\t\toutput :\n",
    "\t\t\n",
    "\t\tThe first number please : 5\n",
    "\t\tThe second number please : 0\n",
    "\t\tYou can't divide by zero! Try again.\n",
    "\n",
    "\t○ Full 'Exception Handling Block'\n",
    "\n",
    "\t\tØ There are a few more keywords used with try-except statement. By using them, we increase our useful options in our program and create more effective and quality programs.\n",
    "\n",
    "\t\tØ The full version of try-except statement is as follows :\n",
    "\t\t\n",
    "\t\t\n",
    "\n",
    "\t\tØ Let's make some explanations about the process described above :\n",
    "\t\t\n",
    "\t\t\t• First, Python executes all statements between try and except.\n",
    "\t\t\t• If there is no exception, then the try block is successfully executed and finished.\n",
    "\t\t\t• If an exception raises, the rest of the try block is ignored. After that, Python interpreter checks if the type of exception matches the exception specified after the except keyword, it executes the except block and resumes executing the program after the try-except block.\n",
    "\t\t\t• If an exception doesn’t match the exception named in the except syntax, it is known an unhandled exception and execution of your program stops with a traceback error message.\n",
    "\t\t\t• The else-block is only executed if there raised no exceptions.\n",
    "\t\t\t• We can use a finally syntax at the end of the block. A finally syntax is always executed before leaving the try-except block, whether an exception was raised or not.\n",
    "\t\t\t\n",
    "\t\tØ You can follow the flow of these processes below : \n",
    "\t\t\n",
    "\t\t\n",
    "\n",
    "\t\tØ For details (https://docs.python.org/3/tutorial/errors.html#handling-exceptions)\n",
    "\n",
    "\t○ Implementation of the Full 'Exception Handling Block'-1\n",
    "\n",
    "\t\tØ Let's reorganize our previous code according to the structure described in the previous lesson. Consider this block of code :\n",
    "\t\t\n",
    "while True:\n",
    "\t\tno_one = int(input(\"The first number please : \"))\n",
    "\t\tno_two = int(input(\"The second number please : \"))\n",
    "\t\ttry:\n",
    "\t\t\tdivision = no_one / no_two  # normal part of the program\n",
    "\t\texcept ZeroDivisionError:\n",
    "\t\t\tprint(\"You can't divide by zero! Try again.\")  # executes when division by zero\n",
    "\t\telse:\n",
    "\t\t\tprint(\"The result of the division is : \", division)  # executes if there is no exception\n",
    "\t\tfinally:\n",
    "\t\t\tprint(\"Thanks for using our mini divison calculator! Come again!\")\n",
    "\t\t\tbreak  # exits the while loop\n",
    "\t\t\n",
    "\t\toutput - 1 : \n",
    "\t\t\n",
    "\t\tThe first number please : 7\n",
    "\t\tThe second number please : 2\n",
    "\t\tThe result of the division is :  3.5\n",
    "\t\tThanks for using our mini divison calculator! Come \n",
    "\t\t    again!\n",
    "\t\t\n",
    "\t\toutput - 2 :\n",
    "\t\tLet's enter 0 as a second number.\n",
    "\t\t\n",
    "\t\tThe first number please : 7\n",
    "\t\tThe second number please : 0\n",
    "\t\tYou can't divide by zero! Try again.\n",
    "\t\tThanks for using our mini divison calculator! Come again!\n",
    "\t\t\n",
    "\t\toutput - 3 :\n",
    "\t\tThis time, let's enter str type as a second number. The selected exception (ZeroDivisionError) will not match so traceback error will be raised. \n",
    "\t\t\n",
    "\t\tThe first number please : 7\n",
    "\t\tThe second number please : k\n",
    "\t\t---------------------------------------------------\n",
    "\t\t    ------------------------\n",
    "\t\tValueError                                Traceback \n",
    "\t\t    (most recent call last)\n",
    "\t\t<ipython-input-2-5fd297d1c219> in <module>\n",
    "\t\t1 while True:\n",
    "\t\t2     no_one = int(input(\"The first number \n",
    "\t\t          please : \"))\n",
    "\t\t----> 3     no_two = int(input(\"The second number \n",
    "\t\t    please : \"))\n",
    "\t\t4     try:\n",
    "\t\t5         division = no_one / no_two  # \n",
    "\t\t          normal part of the program\n",
    "\t\tValueError: invalid literal for int() with base 10: 'k'\n",
    "\n",
    "\t\tØ No matter what exception we encounter, there is a way to see it. Using the keyword Exception. Let's take a look at the following example :\n",
    "\t\t\n",
    "while True:\n",
    "\t\t\tno_one = int(input(\"The first number please : \" ))\n",
    "\t\t\tno_two = int(input(\"The second number please : \"))\n",
    "\t\t\ttry:\n",
    "\t\t\t\tdivision = no_one / no_two\n",
    "\t\t\t\tprint(\"The result of the division is : \", division)\n",
    "\t\t\t\tbreak\n",
    "\t\t\texcept Exception as e:\n",
    "\t\t\t\tprint(\"Something went wrong...Try again.\")\n",
    "\t\t\t\tprint(\"Probably it is because of '{}' error\".format(e))\n",
    "\t\t\t\tbreak\n",
    "\t\t\n",
    "\t\toutput :\n",
    "\t\t\n",
    "\t\tThe first number please : 4\n",
    "\t\tThe second number please : 0\n",
    "\t\tSomething went wrong...Try again.\n",
    "\t\tProbably it is because of 'division by zero' error.\n",
    "\t\t\n",
    "\t\tYes, as you can see the output, by using the keyword Exception, we can display the name of the exception type. Consider the other example :\n",
    "\t\t\n",
    "try :\n",
    "\t\ta = 10\n",
    "\t\tb = 2\n",
    "\t\tprint(\"The result of division is :\", c)\n",
    "\t\texcept Exception as e:\n",
    "\t\tprint(\"The error message is : \", e)\n",
    "\t\toutput :\n",
    "\t\t\n",
    "\t\tThe error message is :  name 'c' is not defined\n",
    "\n",
    "\t\tØ In this case, we used the variable \"c\" and since we didn't define it previously, it raised a NameError of which av  is displayed in the output cell above : \"name 'c' is not defined\".\n",
    "\t\t\n",
    "\t\t💡Tips:Apart from GeneratorExit, KeyboardInterrupt, SystemExit, the Exception keyword you learned in the previous lesson covers all exceptions.\n",
    "\n",
    "\n",
    "\t○ Implementation of the Full 'Exception Handling Block'-2\n",
    "\n",
    "\t\tØ In this second part of our lesson, we will continue to examine the full exception block through various examples. While examining the samples, try to understand the results by experimenting on the Playground yourself.\n",
    "\n",
    "\t\tØ The try…except block has an optional else clause. The else clause is executed only if no exceptions are raised. Consider the following example of the else clause :\n",
    "\t\t\n",
    "try:\n",
    "\t\tx = 4 / 1\n",
    "\t\texcept:\n",
    "\t\tprint('Something went wrong')\n",
    "\t\telse:\n",
    "\t\tprint('Nothing went wrong')\n",
    "\t\toutput :\n",
    "\t\t\n",
    "\t\tNothing went wrong\n",
    "\n",
    "\t\tØ The try…except block has another optional finally clause. The finally clause is always executed, whether an exception has occurred or not. Consider the following example of the finally clause :\n",
    "\t\t\n",
    "try:\n",
    "\t\tx = 3 / 0\n",
    "\t\texcept:\n",
    "\t\tprint('Something went wrong')\n",
    "\t\tfinally:\n",
    "\t\tprint('Always execute this')\n",
    "\t\toutput :\n",
    "\t\t\n",
    "\t\tSomething went wrong\n",
    "\t\tAlways execute this\n",
    "\n",
    "\t\tØ Use finally clause to define clean-up actions that must be executed under all circumstances e.g. closing a file. :\n",
    "\t\t\n",
    "\t\ttry:\n",
    "\t\tf = open('myfile.txt')\n",
    "\t\tprint(f.read())\n",
    "\t\texcept:\n",
    "\t\tprint(\"Something went wrong\")\n",
    "\t\tfinally:\n",
    "\t\tf. close()\n",
    "\n",
    "\t○ Several Handling Scenarios\n",
    "\n",
    "\t\tØ In this part of our lesson, we will continue to examine this issue through various examples. While examining the samples, try to understand the results by experimenting on the Playground yourself.\n",
    "\n",
    "\t\tØ Take a look at the first one. In this example you can define as many except blocks as you want, to catch and handle specific exceptions :\n",
    "\t\t\n",
    "try:\n",
    "\t\tx = 2/0\n",
    "\t\texcept ZeroDivisionError:\n",
    "\t\tprint('Attempt to divide by zero')\n",
    "\t\texcept:\n",
    "\t\tprint('Something else went wrong')\n",
    "\t\toutput :\n",
    "\t\t\n",
    "\t\tAttempt to divide by zero\n",
    "\n",
    "\t\tØ Since all the built-in exceptions are formed a hierarchical structure, you can use the following exception syntaxes. To catch several possibilities, it’d be better to use two or more except blocks for different exceptions.\n",
    "\t\t\n",
    "input-1: you can identify no specific exception :\n",
    "\t\t\n",
    "\t\t....\n",
    "\t\texcept:\n",
    "\t\tprint(\"Unknown exception error occured. Tyr \n",
    "\t\t        again please.\")\n",
    "\t\tinput-2: different exception blocks :\n",
    "\t\t\n",
    "\t\t....\n",
    "\t\texcept ZeroDivisionError:\n",
    "\t\tprint(\"You can't divide by zero!!\")\n",
    "\t\texcept ValueError:\n",
    "\t\tprint(\"You can only enter numbers consisting of \n",
    "\t\t       digits, not text!!\")\n",
    "\t\tinput-3: an except syntax also may contain multiple exceptions separated by commas and enclosed by parenthesis.\n",
    "\t\t\n",
    "\t\t....\n",
    "\t\texcept (ValueError, TypeError):\n",
    "\t\tprint(\"You can only enter numbers consisting of \n",
    "\t\t        digits, not text!!\")\n",
    "\t\tinput-4: because of the hierarchical structure, one exception can actually catch various exceptions.\n",
    "\t\t\n",
    "\t\t....\n",
    "\t\texcept ArithmeticError:\n",
    "\t\tprint(\"I will also catch OverflowError, \n",
    "\t\t        FloatingPointError and ZeroDivisionError\")\n"
   ]
  },
  {
   "cell_type": "code",
   "execution_count": 5,
   "metadata": {},
   "outputs": [
    {
     "name": "stdout",
     "output_type": "stream",
     "text": [
      "The first number is: 1\n",
      "The second number is: 1\n",
      "result of the division is:  1.0\n"
     ]
    }
   ],
   "source": [
    "while True:\n",
    "    no_one = int(input(\"The first number is: \"))\n",
    "    no_two = int(input(\"The second number is: \"))\n",
    "    try:\n",
    "        division = no_one/no_two\n",
    "        print(\"result of the division is: \", division)\n",
    "        break\n",
    "    except: \n",
    "        print(\"something went wrong\")"
   ]
  },
  {
   "cell_type": "code",
   "execution_count": 6,
   "metadata": {},
   "outputs": [
    {
     "name": "stdout",
     "output_type": "stream",
     "text": [
      "birşeyler ters gitti\n"
     ]
    }
   ],
   "source": [
    "try: #sıkıntılı olduğunu düşündüğümüz kodları bunla deneriz. exception yükselise o işler. kodun topu hatal vermez. \n",
    "    print(\"x\"+4)\n",
    "except:\n",
    "    print(\"birşeyler ters gitti\")"
   ]
  },
  {
   "cell_type": "code",
   "execution_count": 7,
   "metadata": {},
   "outputs": [
    {
     "name": "stdout",
     "output_type": "stream",
     "text": [
      "x4\n"
     ]
    }
   ],
   "source": [
    "try:\n",
    "    print(\"x\"+\"4\")\n",
    "except:\n",
    "    print(\"birşeyler ters gitti\")"
   ]
  },
  {
   "cell_type": "code",
   "execution_count": 8,
   "metadata": {},
   "outputs": [
    {
     "name": "stdout",
     "output_type": "stream",
     "text": [
      "The first number is: 3\n",
      "The second number is: 3\n",
      "result of the division is:  1.0\n"
     ]
    }
   ],
   "source": [
    "while True:\n",
    "    no_one = int(input(\"The first number is: \"))\n",
    "    no_two = int(input(\"The second number is: \"))\n",
    "    try:\n",
    "        division = no_one/no_two\n",
    "        print(\"result of the division is: \", division)\n",
    "        break\n",
    "    except ZeroDivisionError: #bu hatanın olabileceğini tahmin ettik. sitede var bu hatalar\n",
    "        print(\"something went wrong\")"
   ]
  },
  {
   "cell_type": "code",
   "execution_count": 9,
   "metadata": {},
   "outputs": [
    {
     "ename": "SyntaxError",
     "evalue": "invalid syntax (<ipython-input-9-90b788b562d2>, line 2)",
     "output_type": "error",
     "traceback": [
      "\u001b[1;36m  File \u001b[1;32m\"<ipython-input-9-90b788b562d2>\"\u001b[1;36m, line \u001b[1;32m2\u001b[0m\n\u001b[1;33m    with open(\"my_filemm.txt\", \"r\", encoding: \"utf-8\") as file:\u001b[0m\n\u001b[1;37m                                            ^\u001b[0m\n\u001b[1;31mSyntaxError\u001b[0m\u001b[1;31m:\u001b[0m invalid syntax\n"
     ]
    }
   ],
   "source": [
    "try:\n",
    "    with open(\"my_filemm.txt\", \"r\", encoding: \"utf-8\") as file:\n",
    "        print(file.read())\n",
    "except FileNotFoundError:\n",
    "    print(\"no such file exists\")"
   ]
  },
  {
   "cell_type": "code",
   "execution_count": 10,
   "metadata": {},
   "outputs": [
    {
     "ename": "FileNotFoundError",
     "evalue": "[Errno 2] No such file or directory: 'my_filemm.txt'",
     "output_type": "error",
     "traceback": [
      "\u001b[1;31m---------------------------------------------------------------------------\u001b[0m",
      "\u001b[1;31mFileNotFoundError\u001b[0m                         Traceback (most recent call last)",
      "\u001b[1;32m<ipython-input-10-18d74f446014>\u001b[0m in \u001b[0;36m<module>\u001b[1;34m\u001b[0m\n\u001b[1;32m----> 1\u001b[1;33m \u001b[1;32mwith\u001b[0m \u001b[0mopen\u001b[0m\u001b[1;33m(\u001b[0m\u001b[1;34m\"my_filemm.txt\"\u001b[0m\u001b[1;33m,\u001b[0m \u001b[1;34m\"r\"\u001b[0m\u001b[1;33m,\u001b[0m \u001b[0mencoding\u001b[0m \u001b[1;33m=\u001b[0m \u001b[1;34m\"utf-8\"\u001b[0m\u001b[1;33m)\u001b[0m \u001b[1;32mas\u001b[0m \u001b[0mfile\u001b[0m\u001b[1;33m:\u001b[0m\u001b[1;33m\u001b[0m\u001b[1;33m\u001b[0m\u001b[0m\n\u001b[0m\u001b[0;32m      2\u001b[0m     \u001b[0mprint\u001b[0m\u001b[1;33m(\u001b[0m\u001b[0mfile\u001b[0m\u001b[1;33m.\u001b[0m\u001b[0mread\u001b[0m\u001b[1;33m(\u001b[0m\u001b[1;33m)\u001b[0m\u001b[1;33m)\u001b[0m\u001b[1;33m\u001b[0m\u001b[1;33m\u001b[0m\u001b[0m\n",
      "\u001b[1;31mFileNotFoundError\u001b[0m: [Errno 2] No such file or directory: 'my_filemm.txt'"
     ]
    }
   ],
   "source": [
    "with open(\"my_filemm.txt\", \"r\", encoding = \"utf-8\") as file:\n",
    "    print(file.read())"
   ]
  },
  {
   "cell_type": "code",
   "execution_count": null,
   "metadata": {},
   "outputs": [],
   "source": []
  }
 ],
 "metadata": {
  "kernelspec": {
   "display_name": "Python 3",
   "language": "python",
   "name": "python3"
  },
  "language_info": {
   "codemirror_mode": {
    "name": "ipython",
    "version": 3
   },
   "file_extension": ".py",
   "mimetype": "text/x-python",
   "name": "python",
   "nbconvert_exporter": "python",
   "pygments_lexer": "ipython3",
   "version": "3.7.6"
  }
 },
 "nbformat": 4,
 "nbformat_minor": 4
}
