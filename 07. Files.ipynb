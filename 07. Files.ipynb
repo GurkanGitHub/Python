{
 "cells": [
  {
   "cell_type": "markdown",
   "metadata": {},
   "source": [
    "# Files"
   ]
  },
  {
   "cell_type": "markdown",
   "metadata": {},
   "source": [
    "## What is a File?"
   ]
  },
  {
   "cell_type": "raw",
   "metadata": {},
   "source": [
    "• On most operating systems, files are `spaces` (like a paper where words are written) on the computer where data is stored. \n",
    "\n",
    "• In an operating system's graphical user interface, files are often represented by icons: thumbnails showing the content. \n",
    "\n",
    "• Although it differs in all OS, files have their own icons.\n",
    "\n",
    "• Texts for Python codes, pictures and videos or python-3.8.1.exe that downloaded for installation are the files.\n",
    "\n",
    "• You can open and modify their contents, store them on various media or transfer them from one media to another."
   ]
  },
  {
   "cell_type": "markdown",
   "metadata": {},
   "source": [
    "## File Components"
   ]
  },
  {
   "cell_type": "markdown",
   "metadata": {},
   "source": [
    "### 1. Metadata"
   ]
  },
  {
   "cell_type": "raw",
   "metadata": {},
   "source": [
    "• All the detailed information about a file stored on the computer is called the metadata of that file. \n",
    "\n",
    "• In Windows10, you can right-click on a file and then click properties then choose details to display the metadata. \n",
    "In general, almost all modern OSes have this (shown on the picture) descriptive information as metadata. Every time you modify anything about the file, the metadata will be updated accordingly."
   ]
  },
  {
   "cell_type": "markdown",
   "metadata": {},
   "source": [
    "### 2. File Attributes"
   ]
  },
  {
   "cell_type": "raw",
   "metadata": {},
   "source": [
    "• It's the special kind of md associated with computer files that define file system behavior. Each file has several attributes, but these attributes vary greatly from one OS to another. \n",
    "\n",
    "• Each attribute can have one of two states: set and cleared. \n",
    "\n",
    "• Basic file attributes are contained in every Windows file.\n",
    "\t○ Read-Only (R) : It makes the file read-only and indicates that a file can not be altered. \n",
    "\t○ System (S) : Hosting file is a critical system file that is necessary for the computer to operate properly.\n",
    "\t○ Hidden (H) : It makes the file hidden and indicates that the hosting file is unseen by default."
   ]
  },
  {
   "cell_type": "markdown",
   "metadata": {},
   "source": [
    "## Directories & Folders"
   ]
  },
  {
   "cell_type": "raw",
   "metadata": {},
   "source": [
    "• There is a structure for storing the files in an orderly manner, just like the m, p, and sps and making them easily accessible on demand. This organized structure where files are stored is called a folder or directory.\n",
    "\n",
    "• What we call a directory or a folder is actually managed in the same logic as a folder for storing documents and files in a real office environment. Folder icons used by the oss shown below (Windows, Linux, Mac, respectively).\n",
    "\n",
    "• A folder/directory can contain files or other folders/directories. A directory inside the other directory is generally known as a subdirectory. \n",
    "\n",
    "• In all opss, directories/folders are structured in a hierarchical order. There is usually one (or multiple if it is partitioned) directory called the root directory-rd, and there are as many subdirectories as needed inside the rd.\n",
    "Naming the rd may vary from one os to another. The following diagram shows us a sample of the hierarchical structure of the directories of Windows OS."
   ]
  },
  {
   "cell_type": "markdown",
   "metadata": {},
   "source": [
    "## Reading Files"
   ]
  },
  {
   "cell_type": "markdown",
   "metadata": {},
   "source": [
    "## `open()` function"
   ]
  },
  {
   "cell_type": "raw",
   "metadata": {},
   "source": [
    "• Data for program comes from outside in a file format. \n",
    "\n",
    "• This function is used to open these files."
   ]
  },
  {
   "cell_type": "markdown",
   "metadata": {},
   "source": [
    "#### open() function parameters"
   ]
  },
  {
   "cell_type": "raw",
   "metadata": {},
   "source": [
    "open (file, mode='r', buffering=-1, encoding=None, errors=None, newline=None, closefd=True, opener=None)"
   ]
  },
  {
   "cell_type": "raw",
   "metadata": {},
   "source": [
    "1. file parameter\n",
    "\n",
    "• file is the only required parameter. \n",
    "\n",
    "• It is a path-like object which is a str or bytes that represents a path in the file directory. \n",
    "\n",
    "• Path-like object giving the pathname of the file (absolute or relative to the current working directory to be opened or an integer file descriptor of the file to be wrapped. \n",
    "\n",
    "• This parameter takes the name of the file that you want to open which is stored in the directory where the Anaconda3 or the Python installed.\n",
    "\n",
    "• In other words, the file should be stored in the current working directory. "
   ]
  },
  {
   "cell_type": "code",
   "execution_count": 1,
   "metadata": {},
   "outputs": [
    {
     "data": {
      "text/plain": [
       "<_io.TextIOWrapper name='C:/Users/Owner/first_file.txt' mode='r' encoding='cp1254'>"
      ]
     },
     "execution_count": 1,
     "metadata": {},
     "output_type": "execute_result"
    }
   ],
   "source": [
    "open(\"C:/Users/Owner/first_file.txt\")"
   ]
  },
  {
   "cell_type": "code",
   "execution_count": 3,
   "metadata": {},
   "outputs": [
    {
     "name": "stdout",
     "output_type": "stream",
     "text": [
      "<class '_io.TextIOWrapper'>\n"
     ]
    }
   ],
   "source": [
    "my_file = open(\"C:/Users/Owner/first_file.txt\", mode =\"rt\", encoding=\"utf-8\")  # this syntax opens a 'txt' file, burda \"my_file\" değişkeni \"file-like object\" oluyor \n",
    "                                                    #my_file diye bir object oluşturduk\n",
    "print(type(my_file))"
   ]
  },
  {
   "cell_type": "code",
   "execution_count": 5,
   "metadata": {},
   "outputs": [],
   "source": [
    "#my_file.read()\n",
    "my_file.close()"
   ]
  },
  {
   "cell_type": "code",
   "execution_count": 18,
   "metadata": {},
   "outputs": [
    {
     "name": "stdout",
     "output_type": "stream",
     "text": [
      "hello man!\n"
     ]
    }
   ],
   "source": [
    "with open(\"C:/Users/Owner/first_file.txt\", \"r\") as first: # it should be automatically closed with \"with .... as ... block\". \n",
    "    print(first.read())"
   ]
  },
  {
   "cell_type": "raw",
   "metadata": {},
   "source": [
    "• It opens the file and returns a corresponding file-like object. If the file cannot be opened, an OSError is raised. \n",
    "\n",
    "• Pay attention to the type of my_file. We have created a file-like object. So we can apply different kinds of methods to this object (my_file), like count(). \n",
    "\n",
    "• Dosya değişken olarak atandığında bir object oluşturuyor. Lambda fonksiyonu gibi. Oda oluşturulduğunda bir object oluyor. "
   ]
  },
  {
   "cell_type": "markdown",
   "metadata": {},
   "source": [
    "#### 2. encoding parameter"
   ]
  },
  {
   "cell_type": "raw",
   "metadata": {},
   "source": [
    "• Indicates the encoding that needs to be used to decode or encode a file. \n",
    "\n",
    "• The default value depends on the platform you use and its language. \n",
    "\n",
    "• Unicode Transformation Format (UTF-8) is one of the most preferred used encodings, and Python generally defaults to using it. \n",
    "\n",
    "• ‘8’ means that 8-bit values are used in the encoding. \n",
    "\n",
    "• UTF-8 yazı karakterlerini görmemizi ve kullanmamızı sağlayan sistem. Formatlama yapar\n",
    "\n",
    "• Use the correct encoding in your file. \n",
    "\n",
    "• Video of Tom Scott about the history of Unicode and UTF-8.\n",
    "\t○ 1960: teleprinters, simple devices where you type a key and it sends numbers and some letters comes out on the other side. But there needs some standard. \n",
    "    ○ So in mid 1960s USA set ASCII, it was 7-bit binary system. So each letter you type in gets converted into 7 binary numbers and sent over the wire. \n",
    "\t○ That means you can have numbers from 0 to 127. \n",
    "\t○ 8 bit computerlar ile 256 karaktere çıkıldı. \n",
    "\t○ Herkes kendi kodunu yaptı. Karışklık. Www hit. Unicode consortium çıktı. They have a list of more than a hundred thousand characters. \n",
    "\t○ Nasıl baş çıkılacak UTF 8 çıktı. 100.000'den fazla karakteri kodlamak için 32 bit sistem gerekli. A still 65, busefer noldu abi. Eskiden 7 bitte depolanan A 32 bitte depolanmaya başladı. Sıkıntı bu abi. \n",
    "\t○ UTF nassı çözdü bunu abi: ASCII gibi başladı. 128 in altında olanlar için abi yine bunları 7 digit ile temsil etti. \n",
    "\t○ Peki bunun ötesi n'olcak abi: 110 la başladılar. Yeni karakterin başlangıcı, bu karakter 2 bayt uzunluğunda olacak. \n",
    "\t\t\t\t110xxxxx     *      10xxxxxxx\n",
    "\t\t\t\t○ 4096 için böyle çözüldü. \n",
    "\t\t\t\t○ Ötesi abi?: \n",
    "\t\t\t\t1110xxxx    - 10xxxxxx - 10xxxxxx"
   ]
  },
  {
   "cell_type": "markdown",
   "metadata": {},
   "source": [
    "#### 3. mode parameter"
   ]
  },
  {
   "cell_type": "raw",
   "metadata": {},
   "source": [
    "• Most important parameters of open() function. This parameter has several options that regulate how or for what purpose we open the file. These options are as follows:\n",
    "\n",
    "• 'mode' Parameter Attributes\n",
    "\n",
    "Character, What it's used for?\n",
    "'r'\tOpen for reading (default). If the file doesn't exist, FileNotFoundError will raise.\n",
    "'a'\tOpen for writing. It will append to the end of the file if it already exists. If there is no file, it will create it.\n",
    "'w'\tOpen for writing. It will be overwritten if the file already exists. If there is no file, it will create it.\n",
    "'x'\tOpen for exclusive creation, it will fail if the file already exists.\n",
    "'b'\tOpen in binary mode.\n",
    "'t'\tOpen as a text file (default).\n",
    "'+'\tOpen for updating (reading and writing).\n",
    "\n",
    "• By default, open() function executes opening the file for reading ('r') as a text ('t'). In other words, it defaults to 'r' or 'rt' which means open for reading in text mode."
   ]
  },
  {
   "cell_type": "raw",
   "metadata": {},
   "source": [
    "💡Tips:\n",
    "○ You can combine the modes according to your needs.\n",
    "○ If you want to open and be able to read, modify, and update the existing file you should set the mode as 'r+'."
   ]
  },
  {
   "cell_type": "raw",
   "metadata": {},
   "source": [
    "• You can choose the format in which you want to open the file as text ('t') or binary ('b'). \n",
    "    ○ Files opened in 'binary' mode return contents as bytes objects without any decoding. \n",
    "    ○ In 'text' mode, the contents of the file are returned as str, the bytes having been first decoded using a platform-dependent encoding or using the specified encoding if given.\n",
    "\n",
    "• In this case, if you want to open a binary file for writing you should set the mode as 'wb'. On the other hand, if you want to work with a text file you don't need to specify 't' since the default value of mode is already set as 't'. So, when opening and writing a text file it's enough to set the mode as 'w'.\n",
    "\n",
    "• Differences between the use of 'w' and 'a':\n",
    "\t○ Both options are used to modify the file or to write new data to the file. \n",
    "\t○ 'a', the data you want to write will be added at the bottom of the file and combined with existing content, \n",
    "'w' will delete the existing content and add new content each time. "
   ]
  },
  {
   "cell_type": "markdown",
   "metadata": {},
   "source": [
    "## `read()` function"
   ]
  },
  {
   "cell_type": "raw",
   "metadata": {},
   "source": [
    "read() function enables to read the files. "
   ]
  },
  {
   "cell_type": "raw",
   "metadata": {},
   "source": [
    "Create a text file and save it in the folder where Anaconda3 / Python is installed. \n",
    "Suppose we have a file named \"fishes.txt\" with the following content."
   ]
  },
  {
   "cell_type": "raw",
   "metadata": {},
   "source": [
    "Ø You can use the following methods for reading this file :\n",
    "• .read(size)\n",
    "• .readline(size)\n",
    "• .readlines()\n",
    "• using loops"
   ]
  },
  {
   "cell_type": "markdown",
   "metadata": {},
   "source": [
    "### 1 `.read(size)` method"
   ]
  },
  {
   "cell_type": "raw",
   "metadata": {},
   "source": [
    "Docstring:\n",
    "Read at most n characters from stream.\n",
    "\n",
    "Read from underlying buffer until we have n characters or we hit EOF (end of file).\n",
    "If n is negative or omitted, read until EOF."
   ]
  },
  {
   "cell_type": "raw",
   "metadata": {},
   "source": [
    "• Most preferred method for reading files.\n",
    "• This method reads the size bytes (characters) of the file.\n",
    "• If this parameter is not specified, the entire file is read at once. "
   ]
  },
  {
   "cell_type": "code",
   "execution_count": 2,
   "metadata": {},
   "outputs": [
    {
     "data": {
      "text/plain": [
       "'Orca is a kind of Dolphin.\\n\\nBlue Whale is the largest animal known on earth.\\n\\nSharks are the sister group to the Rays (batoids).\\n\\nThe Tuna Fish can weigh up to 260 kg.\\n\\nSquid and Octopus are in the same class.\\n'"
      ]
     },
     "execution_count": 2,
     "metadata": {},
     "output_type": "execute_result"
    }
   ],
   "source": [
    "sea = open(\"C:/Users/Owner/fishes.txt\", \"r\")\n",
    "sea.read()# displays the entire text content\n",
    "#print(sea.read())\n",
    "#sea.close() # be sure to close the file"
   ]
  },
  {
   "cell_type": "raw",
   "metadata": {},
   "source": [
    "💡Tips : Be sure to close the file you opened using the .close() method."
   ]
  },
  {
   "cell_type": "code",
   "execution_count": 41,
   "metadata": {},
   "outputs": [
    {
     "name": "stdout",
     "output_type": "stream",
     "text": [
      "Orca is a kind of Dolphin.\n",
      "\n",
      "Blue \n"
     ]
    }
   ],
   "source": [
    "sea = open(\"C:/Users/Owner/fishes.txt\", \"r\")\n",
    "print(sea.read(33)) \n",
    "sea.close() # be sure to close the file"
   ]
  },
  {
   "cell_type": "code",
   "execution_count": 43,
   "metadata": {},
   "outputs": [
    {
     "name": "stdout",
     "output_type": "stream",
     "text": [
      "Orca is a kind of Dolphin.\n",
      "\n",
      "Blue \n",
      "Whale is the largest anim\n",
      "al \n"
     ]
    }
   ],
   "source": [
    "sea = open(\"C:/Users/Owner/fishes.txt\", \"r\")\n",
    "print(sea.read(33)) # if you run these all, first it gets first 33, then it continues from the finish\n",
    "print(sea.read(25)) \n",
    "print(sea.read(3)) \n",
    "sea.close() "
   ]
  },
  {
   "cell_type": "markdown",
   "metadata": {},
   "source": [
    "### seek() function"
   ]
  },
  {
   "cell_type": "code",
   "execution_count": null,
   "metadata": {},
   "outputs": [],
   "source": [
    "Change stream position.\n",
    "\n",
    "Change the stream position to the given byte offset. The offset is\n",
    "interpreted relative to the position indicated by whence.  Values\n",
    "for whence are:\n",
    "\n",
    "* 0 -- start of stream (the default); offset should be zero or positive\n",
    "* 1 -- current stream position; offset may be negative\n",
    "* 2 -- end of stream; offset is usually negative\n",
    "\n",
    "Return the new absolute position."
   ]
  },
  {
   "cell_type": "code",
   "execution_count": 10,
   "metadata": {},
   "outputs": [
    {
     "data": {
      "text/plain": [
       "'Orca '"
      ]
     },
     "execution_count": 10,
     "metadata": {},
     "output_type": "execute_result"
    }
   ],
   "source": [
    "sea = open(\"C:/Users/Owner/fishes.txt\", \"r\")\n",
    "\n",
    "sea.read(5)\n",
    "#sea.close()"
   ]
  },
  {
   "cell_type": "code",
   "execution_count": 12,
   "metadata": {},
   "outputs": [
    {
     "data": {
      "text/plain": [
       "5"
      ]
     },
     "execution_count": 12,
     "metadata": {},
     "output_type": "execute_result"
    }
   ],
   "source": [
    "sea.tell() # returns the current stream (cursor) position"
   ]
  },
  {
   "cell_type": "code",
   "execution_count": 18,
   "metadata": {},
   "outputs": [
    {
     "data": {
      "text/plain": [
       "0"
      ]
     },
     "execution_count": 18,
     "metadata": {},
     "output_type": "execute_result"
    }
   ],
   "source": [
    "sea.seek(0) # changes the stream (cursor) position to zero"
   ]
  },
  {
   "cell_type": "code",
   "execution_count": 19,
   "metadata": {},
   "outputs": [
    {
     "data": {
      "text/plain": [
       "'Orca is a '"
      ]
     },
     "execution_count": 19,
     "metadata": {},
     "output_type": "execute_result"
    }
   ],
   "source": [
    "sea.read(10)"
   ]
  },
  {
   "cell_type": "code",
   "execution_count": 20,
   "metadata": {},
   "outputs": [],
   "source": [
    "sea.close()"
   ]
  },
  {
   "cell_type": "code",
   "execution_count": 25,
   "metadata": {},
   "outputs": [
    {
     "name": "stdout",
     "output_type": "stream",
     "text": [
      "Orca is a kind of Dolphin.\n",
      "Blue W\n",
      "Orca is a kind of Dolphin\n",
      "Orc\n",
      "3\n"
     ]
    }
   ],
   "source": [
    "sea = open(\"fishes.txt\", \"r\")\n",
    "print(sea.read(33)) \n",
    "sea.seek(0)  \n",
    "print(sea.read(25)) \n",
    "sea.seek(0)\n",
    "print(sea.read(3)) \n",
    "print(sea.tell())  \n",
    "sea.close() "
   ]
  },
  {
   "cell_type": "raw",
   "metadata": {},
   "source": [
    "💡Tips: Note that; while .read(33) counting the first 33 bytes, it covers newline \\n and space character of the file text. The offset= 0 indicating the first character of the text, '.seek(offset) method' changes the stream (cursor) position to a given offset."
   ]
  },
  {
   "cell_type": "markdown",
   "metadata": {},
   "source": [
    "### 2. `.readline(size)` method"
   ]
  },
  {
   "cell_type": "raw",
   "metadata": {},
   "source": [
    "• This method reads only size bytes from a single line of the text. \n",
    "• Satır satır okuma yapıyor. "
   ]
  },
  {
   "cell_type": "code",
   "execution_count": 26,
   "metadata": {},
   "outputs": [
    {
     "name": "stdout",
     "output_type": "stream",
     "text": [
      "Orca is a kind of Dolphin.\n",
      "\n",
      "Blue Whale is the largest animal known on earth.\n",
      "\n",
      "Sharks are the sister group to the Rays (batoids).\n",
      "\n"
     ]
    }
   ],
   "source": [
    "sea = open(\"fishes.txt\", 'r')   \n",
    "print(sea.readline())  # displays the first line of the text\n",
    "print(sea.readline())  # displays the second line\n",
    "print(sea.readline())  # each time it goes to the new line\n",
    "sea.close()"
   ]
  },
  {
   "cell_type": "raw",
   "metadata": {},
   "source": [
    "💡Tips: Note that; .readline() reads the entire line. Pay attention to the output that there are empty lines between each line."
   ]
  },
  {
   "cell_type": "raw",
   "metadata": {},
   "source": [
    "• Size parameter: The first line of the text contains 26 bytes (characters) except the newline char (\\n). But, note that the newline character (\\n) is considered as a part of each line. Then the first line of text consists of 27 characters. Let's choose 13 as the size parameter and see what happens :"
   ]
  },
  {
   "cell_type": "code",
   "execution_count": 27,
   "metadata": {},
   "outputs": [
    {
     "name": "stdout",
     "output_type": "stream",
     "text": [
      "Orca is a kin\n",
      "d of Dolphin.\n",
      "\n",
      "\n",
      "Blue Whale is\n"
     ]
    }
   ],
   "source": [
    "sea = open(\"fishes.txt\", 'r')   \n",
    "print(sea.readline(13))\n",
    "print(sea.readline(13))\n",
    "print(sea.readline(13))\n",
    "print(sea.readline(13))\n",
    "sea.close()"
   ]
  },
  {
   "cell_type": "raw",
   "metadata": {},
   "source": [
    "• .readline(13) reads 13 chars through the line and it continues to read 13 chars each until the line ends, and only then passes to the next line. \n",
    "• Considering the first line consists of 27 characters, the print(sea.readline(13)) syntax can read the entire line in a total of three repetitions. \n",
    "• The output has two empty lines. \n",
    "    ○ One of them is caused by the last character (\\n) of the first line.  \n",
    "    ○ The other is because of the default empty line that the .readline() method puts between each line."
   ]
  },
  {
   "cell_type": "markdown",
   "metadata": {},
   "source": [
    "###  3. `.readlines()`"
   ]
  },
  {
   "cell_type": "raw",
   "metadata": {},
   "source": [
    "• It reads the entire file line by line in the list form.\n",
    "• Her satır bir eleman hale gelir."
   ]
  },
  {
   "cell_type": "code",
   "execution_count": 28,
   "metadata": {},
   "outputs": [
    {
     "name": "stdout",
     "output_type": "stream",
     "text": [
      "['Orca is a kind of Dolphin.\\n', 'Blue Whale is the largest animal known on earth.\\n', 'Sharks are the sister group to the Rays (batoids).\\n', 'The Tuna Fish can weigh up to 260 kg.\\n', 'Squid and Octopus are in the same class.']\n"
     ]
    }
   ],
   "source": [
    "sea = open(\"fishes.txt\", 'r')   \n",
    "print(sea.readlines())\n",
    "sea.close()"
   ]
  },
  {
   "cell_type": "raw",
   "metadata": {},
   "source": [
    "• As you can see in the output, all lines are displayed as separate elements of a list. You can easily see the fact that the newline character (\\n) is a part of the line we've mentioned before."
   ]
  },
  {
   "cell_type": "raw",
   "metadata": {},
   "source": [
    "• The position of the stream (cursor) makes sense when using these methods. If we make the file read using one of these methods, each time we use the print(method) syntax it continues reading from where the cursor is. Let's take a look at the following example where .readline() and .readlines() are used together."
   ]
  },
  {
   "cell_type": "code",
   "execution_count": 29,
   "metadata": {},
   "outputs": [
    {
     "name": "stdout",
     "output_type": "stream",
     "text": [
      "Orca is a kind of Dolphin.\n",
      "\n",
      "['Blue Whale is the largest animal known on earth.\\n', 'Sharks are the sister group to the Rays (batoids).\\n', 'The Tuna Fish can weigh up to 260 kg.\\n', 'Squid and Octopus are in the same class.']\n"
     ]
    }
   ],
   "source": [
    "sea = open(\"fishes.txt\", 'r')   \n",
    "print(sea.readline())  # first line\n",
    "print(sea.readlines())  # the rest of the lines\n",
    "sea.close()"
   ]
  },
  {
   "cell_type": "raw",
   "metadata": {},
   "source": [
    "• You may have noticed that the type of the sea.readlines() object is the list. Let's see it :"
   ]
  },
  {
   "cell_type": "code",
   "execution_count": 30,
   "metadata": {},
   "outputs": [
    {
     "name": "stdout",
     "output_type": "stream",
     "text": [
      "<class 'list'>\n"
     ]
    }
   ],
   "source": [
    "sea = open(\"fishes.txt\", 'r')   \n",
    "print(type(sea.readlines()))\n",
    "sea.close()"
   ]
  },
  {
   "cell_type": "raw",
   "metadata": {},
   "source": [
    "⚠️Attention ! : Although it is very good to read relatively small files with this method, but when large files are involved, this method can be inefficient."
   ]
  },
  {
   "cell_type": "markdown",
   "metadata": {},
   "source": [
    "### 4. Using Loops "
   ]
  },
  {
   "cell_type": "raw",
   "metadata": {},
   "source": [
    "• As we stated before that we can apply different kinds of methods to the file-like object. Accordingly, the last method for reading a file is using the lines of the file-like object as an iterator. So the most efficient way to read the contents of a file is using the for loop. Let's take a look at an example of how we do this."
   ]
  },
  {
   "cell_type": "code",
   "execution_count": 21,
   "metadata": {},
   "outputs": [
    {
     "name": "stdout",
     "output_type": "stream",
     "text": [
      "Orca is a kind of Dolphin.\n",
      "\n",
      "\n",
      "\n",
      "Blue Whale is the largest animal known on earth.\n",
      "\n",
      "\n",
      "\n",
      "Sharks are the sister group to the Rays (batoids).\n",
      "\n",
      "\n",
      "\n",
      "The Tuna Fish can weigh up to 260 kg.\n",
      "\n",
      "\n",
      "\n",
      "Squid and Octopus are in the same class.\n",
      "\n"
     ]
    }
   ],
   "source": [
    "sea = open(\"C:/Users/Owner/fishes.txt\", 'r')   \n",
    "for line in sea:\n",
    "    print(line)\n",
    "sea.close()"
   ]
  },
  {
   "cell_type": "raw",
   "metadata": {},
   "source": [
    "• In this way, especially large text files can be read easily and practically. This method gives us the opportunity to read the line we want, as well as freeing us from syntax repetition."
   ]
  },
  {
   "cell_type": "raw",
   "metadata": {},
   "source": [
    "• Since the type of sea.readlines() object is a list, we can use it as an iterator and read the whole file in the same way."
   ]
  },
  {
   "cell_type": "code",
   "execution_count": 32,
   "metadata": {},
   "outputs": [
    {
     "name": "stdout",
     "output_type": "stream",
     "text": [
      "Orca is a kind of Dolphin.\n",
      "\n",
      "Blue Whale is the largest animal known on earth.\n",
      "\n",
      "Sharks are the sister group to the Rays (batoids).\n",
      "\n",
      "The Tuna Fish can weigh up to 260 kg.\n",
      "\n",
      "Squid and Octopus are in the same class.\n"
     ]
    }
   ],
   "source": [
    "sea = open(\"fishes.txt\", 'r')   \n",
    "for line in sea.readlines():\n",
    "    print(line)\n",
    "sea.close()"
   ]
  },
  {
   "cell_type": "markdown",
   "metadata": {},
   "source": [
    "### Reading files from zip"
   ]
  },
  {
   "cell_type": "code",
   "execution_count": 61,
   "metadata": {},
   "outputs": [],
   "source": [
    "#pip install zipfile36"
   ]
  },
  {
   "cell_type": "raw",
   "metadata": {},
   "source": [
    "zipfile module\n",
    "Docstring: Read and write ZIP files."
   ]
  },
  {
   "cell_type": "code",
   "execution_count": 62,
   "metadata": {},
   "outputs": [],
   "source": [
    "import zipfile"
   ]
  },
  {
   "cell_type": "code",
   "execution_count": 67,
   "metadata": {},
   "outputs": [
    {
     "name": "stdout",
     "output_type": "stream",
     "text": [
      "['active_periods.csv', 'battle_actors.csv', 'battle_durations.csv', 'battle_dyads.csv', 'battles.csv', 'belligerents.csv', 'commanders.csv', 'enum_aeroa.csv', 'enum_cea.csv', 'enum_codead.csv', 'enum_crit.csv', 'enum_post.csv', 'enum_postype.csv', 'enum_pri.csv', 'enum_reso.csv', 'enum_surpa.csv', 'enum_terra1.csv', 'enum_terra2.csv', 'enum_terra3.csv', 'enum_wina.csv', 'enum_wx1.csv', 'enum_wx2.csv', 'enum_wx3.csv', 'enum_wx4.csv', 'enum_wx5.csv', 'front_widths.csv', 'terrain.csv', 'version.csv', 'weather.csv']\n"
     ]
    }
   ],
   "source": [
    "with zipfile.ZipFile(\"D:/PhD/archive.zip\", \"r\") as kaggle:  \n",
    "    print(kaggle.namelist())"
   ]
  },
  {
   "cell_type": "code",
   "execution_count": 71,
   "metadata": {},
   "outputs": [],
   "source": [
    "with zipfile.ZipFile(\"D:/PhD/archive.zip\", \"r\") as kaggle:  \n",
    "    kaggle.extractall(\"D:/PhD/kaggleDataSet\")"
   ]
  },
  {
   "cell_type": "code",
   "execution_count": 72,
   "metadata": {},
   "outputs": [],
   "source": [
    "df = pd.read_csv(\"D:/PhD/kaggleDataSet/active_periods.csv\")"
   ]
  },
  {
   "cell_type": "code",
   "execution_count": 73,
   "metadata": {},
   "outputs": [
    {
     "data": {
      "text/html": [
       "<div>\n",
       "<style scoped>\n",
       "    .dataframe tbody tr th:only-of-type {\n",
       "        vertical-align: middle;\n",
       "    }\n",
       "\n",
       "    .dataframe tbody tr th {\n",
       "        vertical-align: top;\n",
       "    }\n",
       "\n",
       "    .dataframe thead th {\n",
       "        text-align: right;\n",
       "    }\n",
       "</style>\n",
       "<table border=\"1\" class=\"dataframe\">\n",
       "  <thead>\n",
       "    <tr style=\"text-align: right;\">\n",
       "      <th></th>\n",
       "      <th>isqno</th>\n",
       "      <th>atp_number</th>\n",
       "      <th>start_time_min</th>\n",
       "      <th>start_time_max</th>\n",
       "      <th>end_time_min</th>\n",
       "      <th>end_time_max</th>\n",
       "      <th>duration_max</th>\n",
       "      <th>duration_min</th>\n",
       "      <th>duration_only</th>\n",
       "    </tr>\n",
       "  </thead>\n",
       "  <tbody>\n",
       "    <tr>\n",
       "      <th>0</th>\n",
       "      <td>1</td>\n",
       "      <td>1</td>\n",
       "      <td>1600-07-02T14:30:00</td>\n",
       "      <td>1600-07-02T14:30:00</td>\n",
       "      <td>1600-07-02T19:30:00</td>\n",
       "      <td>1600-07-02T19:30:00</td>\n",
       "      <td>300.0</td>\n",
       "      <td>300.0</td>\n",
       "      <td>0</td>\n",
       "    </tr>\n",
       "    <tr>\n",
       "      <th>1</th>\n",
       "      <td>2</td>\n",
       "      <td>1</td>\n",
       "      <td>1620-11-08T12:00:00</td>\n",
       "      <td>1620-11-08T12:00:00</td>\n",
       "      <td>1620-11-08T13:00:00</td>\n",
       "      <td>1620-11-08T13:00:00</td>\n",
       "      <td>60.0</td>\n",
       "      <td>60.0</td>\n",
       "      <td>0</td>\n",
       "    </tr>\n",
       "    <tr>\n",
       "      <th>2</th>\n",
       "      <td>3</td>\n",
       "      <td>1</td>\n",
       "      <td>1622-05-06T03:30:00</td>\n",
       "      <td>1622-05-06T03:30:00</td>\n",
       "      <td>1622-05-06T10:00:00</td>\n",
       "      <td>1622-05-06T10:00:00</td>\n",
       "      <td>390.0</td>\n",
       "      <td>390.0</td>\n",
       "      <td>0</td>\n",
       "    </tr>\n",
       "    <tr>\n",
       "      <th>3</th>\n",
       "      <td>3</td>\n",
       "      <td>2</td>\n",
       "      <td>1622-05-06T14:00:00</td>\n",
       "      <td>1622-05-06T14:00:00</td>\n",
       "      <td>1622-05-06T19:00:00</td>\n",
       "      <td>1622-05-06T19:00:00</td>\n",
       "      <td>300.0</td>\n",
       "      <td>300.0</td>\n",
       "      <td>0</td>\n",
       "    </tr>\n",
       "    <tr>\n",
       "      <th>4</th>\n",
       "      <td>4</td>\n",
       "      <td>1</td>\n",
       "      <td>1626-04-25T00:00:00</td>\n",
       "      <td>1626-04-26T00:00:00</td>\n",
       "      <td>1626-04-25T00:00:00</td>\n",
       "      <td>1626-04-26T00:00:00</td>\n",
       "      <td>1440.0</td>\n",
       "      <td>0.0</td>\n",
       "      <td>0</td>\n",
       "    </tr>\n",
       "  </tbody>\n",
       "</table>\n",
       "</div>"
      ],
      "text/plain": [
       "   isqno  atp_number       start_time_min       start_time_max  \\\n",
       "0      1           1  1600-07-02T14:30:00  1600-07-02T14:30:00   \n",
       "1      2           1  1620-11-08T12:00:00  1620-11-08T12:00:00   \n",
       "2      3           1  1622-05-06T03:30:00  1622-05-06T03:30:00   \n",
       "3      3           2  1622-05-06T14:00:00  1622-05-06T14:00:00   \n",
       "4      4           1  1626-04-25T00:00:00  1626-04-26T00:00:00   \n",
       "\n",
       "          end_time_min         end_time_max  duration_max  duration_min  \\\n",
       "0  1600-07-02T19:30:00  1600-07-02T19:30:00         300.0         300.0   \n",
       "1  1620-11-08T13:00:00  1620-11-08T13:00:00          60.0          60.0   \n",
       "2  1622-05-06T10:00:00  1622-05-06T10:00:00         390.0         390.0   \n",
       "3  1622-05-06T19:00:00  1622-05-06T19:00:00         300.0         300.0   \n",
       "4  1626-04-25T00:00:00  1626-04-26T00:00:00        1440.0           0.0   \n",
       "\n",
       "   duration_only  \n",
       "0              0  \n",
       "1              0  \n",
       "2              0  \n",
       "3              0  \n",
       "4              0  "
      ]
     },
     "execution_count": 73,
     "metadata": {},
     "output_type": "execute_result"
    }
   ],
   "source": [
    "df.head()"
   ]
  },
  {
   "cell_type": "markdown",
   "metadata": {},
   "source": [
    "## Closing the Files"
   ]
  },
  {
   "cell_type": "markdown",
   "metadata": {},
   "source": [
    "### close() function"
   ]
  },
  {
   "cell_type": "raw",
   "metadata": {},
   "source": [
    "• In file operations, whenever we open a file to work with that file using one of the reading methods, after finishing our working we close the file we opened with the close() method."
   ]
  },
  {
   "cell_type": "raw",
   "metadata": {},
   "source": [
    "⚠️Attention ! : Do not leave the file open. Keep in mind that closing the file is paramount."
   ]
  },
  {
   "cell_type": "raw",
   "metadata": {},
   "source": [
    "• Normally, when the program finishes running, that file is closed. But this does not happen at times and people forget to close these files that have been opened while working with them. \n",
    "• In order not to lose data, the file should be closed as soon as work is finished.\n",
    "• Closing is done with the close() method, but there is a slightly easier way to do this: Using the \"with .... as ... block\". \n",
    "• Actual use of the with ... as ... block is to make sure that all the necessary functions are called. "
   ]
  },
  {
   "cell_type": "markdown",
   "metadata": {},
   "source": [
    "### with .... as ... block"
   ]
  },
  {
   "cell_type": "code",
   "execution_count": 17,
   "metadata": {},
   "outputs": [
    {
     "name": "stdout",
     "output_type": "stream",
     "text": [
      "hello man!\n"
     ]
    }
   ],
   "source": [
    "with open(\"C:/Users/Owner/first_file.txt\", \"r\") as st:\n",
    "    print(st.read())"
   ]
  },
  {
   "cell_type": "code",
   "execution_count": 33,
   "metadata": {},
   "outputs": [
    {
     "name": "stdout",
     "output_type": "stream",
     "text": [
      "Orca is a kind of Dolphin.\n",
      "Blue Whale is the largest animal known on earth.\n",
      "Sharks are the sister group to the Rays (batoids).\n",
      "The Tuna Fish can weigh up to 260 kg.\n",
      "Squid and Octopus are in the same class.\n"
     ]
    }
   ],
   "source": [
    "with open(\"fishes.txt\", \"r\") as sea:\n",
    "    print(sea.read())  # needs indented code block\n",
    "                       # we don't need to use the close() method to close the file. It does this on its own."
   ]
  },
  {
   "cell_type": "markdown",
   "metadata": {},
   "source": [
    "## Writing Files"
   ]
  },
  {
   "cell_type": "markdown",
   "metadata": {},
   "source": [
    "### `.write()` Method"
   ]
  },
  {
   "cell_type": "raw",
   "metadata": {},
   "source": [
    "• Basic file operation. Two most used modes ('w' and 'a') allow us to modify the files.\n",
    "• We can overwrite a text to a file using 'w' mode, which means that every time we use 'w', the content of the file is deleted and new content is written. If there isn't any file then it will be created automatically."
   ]
  },
  {
   "cell_type": "raw",
   "metadata": {},
   "source": [
    "💡Tips: Other data types must be converted to string type before the writing."
   ]
  },
  {
   "cell_type": "raw",
   "metadata": {},
   "source": [
    "Create and write string data to a file."
   ]
  },
  {
   "cell_type": "code",
   "execution_count": 22,
   "metadata": {},
   "outputs": [],
   "source": [
    "with open(\"C:/Users/Owner/dummy.txt\", \"w\", encoding = \"utf-8\") as file: # this creates and opens file. \n",
    "    file.write(\"write it down man!\")  # writes str data into file"
   ]
  },
  {
   "cell_type": "code",
   "execution_count": 23,
   "metadata": {},
   "outputs": [
    {
     "name": "stdout",
     "output_type": "stream",
     "text": [
      "write it down man!\n"
     ]
    }
   ],
   "source": [
    "with open(\"C:/Users/Owner/dummy.txt\", \"r\", encoding=\"utf-8\") as file:\n",
    "    print(file.read())  # reads the content of the 'dummy'"
   ]
  },
  {
   "cell_type": "raw",
   "metadata": {},
   "source": [
    "This time file (dummy) exists:"
   ]
  },
  {
   "cell_type": "code",
   "execution_count": 24,
   "metadata": {},
   "outputs": [],
   "source": [
    "with open(\"C:/Users/Owner/dummy.txt\", \"w\", encoding=\"utf-8\") as file:\n",
    "    file.write(\"look, it has been ovwerwritten!\") # we write new strdata in it "
   ]
  },
  {
   "cell_type": "code",
   "execution_count": 25,
   "metadata": {},
   "outputs": [
    {
     "name": "stdout",
     "output_type": "stream",
     "text": [
      "look, it has been ovwerwritten!\n"
     ]
    }
   ],
   "source": [
    "with open(\"C:/Users/Owner/dummy.txt\", \"r\", encoding=\"utf-8\") as file:\n",
    "    print(file.read())# reads the content of the 'dummy'"
   ]
  },
  {
   "cell_type": "raw",
   "metadata": {},
   "source": [
    "• This is the new line for dummy, previous content deleted and replaced.\n",
    "• In this method, each string joined together into one. Therefore you have to put newline characters (\\n), separators or spaces, etc. manually if you want. Example :"
   ]
  },
  {
   "cell_type": "code",
   "execution_count": 26,
   "metadata": {},
   "outputs": [
    {
     "name": "stdout",
     "output_type": "stream",
     "text": [
      "My first sentence My second sentence My third sentence\n",
      "My fourth sentence  My last sentence\n"
     ]
    }
   ],
   "source": [
    "with open(\"C:/Users/Owner/dummy.txt\", 'w', encoding=\"utf-8\") as file:\n",
    "    file.write('My first sentence ')\n",
    "    file.write('My second sentence ')\n",
    "    file.write('My third sentence\\n')\n",
    "    file.write('My fourth sentence  ')\n",
    "    file.write('My last sentence')\n",
    "with open(\"C:/Users/Owner/dummy.txt\", 'r', encoding=\"utf-8\") as file:\n",
    "    print(file.read())"
   ]
  },
  {
   "cell_type": "raw",
   "metadata": {},
   "source": [
    "• Let's write list of fruit names to a file each on separate lines one after another."
   ]
  },
  {
   "cell_type": "code",
   "execution_count": 27,
   "metadata": {},
   "outputs": [],
   "source": [
    "fruits = ['Banana', 'Orange', 'Apple', 'Strawberry', 'Cherry']"
   ]
  },
  {
   "cell_type": "code",
   "execution_count": 30,
   "metadata": {},
   "outputs": [],
   "source": [
    "with open(\"C:/Users/Owner/yummyFruits.txt\", \"w\", encoding=\"utf-8\") as yummy:\n",
    "    for i in fruits:\n",
    "        yummy.write(i+\"\\n\") # adds a newline character to each string"
   ]
  },
  {
   "cell_type": "code",
   "execution_count": 31,
   "metadata": {},
   "outputs": [
    {
     "name": "stdout",
     "output_type": "stream",
     "text": [
      "Banana\n",
      "Orange\n",
      "Apple\n",
      "Strawberry\n",
      "Cherry\n",
      "\n"
     ]
    }
   ],
   "source": [
    "with open(\"C:/Users/Owner/yummyFruits.txt\", \"r\", encoding=\"utf-8\") as yummy:\n",
    "    print(yummy.read())"
   ]
  },
  {
   "cell_type": "code",
   "execution_count": 33,
   "metadata": {},
   "outputs": [
    {
     "name": "stdout",
     "output_type": "stream",
     "text": [
      "['Banana\\n', 'Orange\\n', 'Apple\\n', 'Strawberry\\n', 'Cherry\\n']\n"
     ]
    }
   ],
   "source": [
    "with open(\"C:/Users/Owner/yummyFruits.txt\", \"r\", encoding=\"utf-8\") as yummy:\n",
    "    print(yummy.readlines())# reads and displays entire lines in a list"
   ]
  },
  {
   "cell_type": "raw",
   "metadata": {},
   "source": [
    "• Likewise, you can write your text to the file by using any character you want instead of the newline character. For example, if you want to separate the strings by a tab character, you should use '\\t'."
   ]
  },
  {
   "cell_type": "markdown",
   "metadata": {},
   "source": [
    "### `.writelines()` Method"
   ]
  },
  {
   "cell_type": "raw",
   "metadata": {},
   "source": [
    "• Iterable alıp satır satır yazdırır. (readlines ise iterable verip satır satır okur)\n",
    "• Unlike .write() method, .writelines() takes the iterable sequence of strings and writes them to the file. \n",
    "• The difference between these two methods is just similar to the logic of difference between .read() and .readlines().\n",
    "• Let's use the same list of the fruits again but this time in a little bit different way. \n",
    "• We should choose the line separators ourselves without using for loop."
   ]
  },
  {
   "cell_type": "code",
   "execution_count": 37,
   "metadata": {},
   "outputs": [],
   "source": [
    "fruits = ['Banana\\n', 'Orange\\n', 'Apple\\n', 'Strawberry\\n', 'Cherry\\n']"
   ]
  },
  {
   "cell_type": "code",
   "execution_count": 38,
   "metadata": {},
   "outputs": [],
   "source": [
    "with open(\"C:/Users/Owner/yummyFruits.txt\", \"w\", encoding=\"utf-8\") as yummy:\n",
    "    yummy.writelines(fruits)  # takes an iterator for writing"
   ]
  },
  {
   "cell_type": "code",
   "execution_count": 39,
   "metadata": {},
   "outputs": [
    {
     "name": "stdout",
     "output_type": "stream",
     "text": [
      "Banana\n",
      "Orange\n",
      "Apple\n",
      "Strawberry\n",
      "Cherry\n",
      "\n"
     ]
    }
   ],
   "source": [
    "with open(\"C:/Users/Owner/yummyFruits.txt\", \"r\", encoding=\"utf-8\") as yummy:\n",
    "    print(yummy.read())"
   ]
  },
  {
   "cell_type": "raw",
   "metadata": {},
   "source": [
    "• Same output was displayed as the previous one. In this writing method, which we do without using the for loop, the strings in the list must also include the separator chars such as \\n, \\t, space."
   ]
  },
  {
   "cell_type": "code",
   "execution_count": 40,
   "metadata": {},
   "outputs": [
    {
     "name": "stdout",
     "output_type": "stream",
     "text": [
      "['Banana\\n', 'Orange\\n', 'Apple\\n', 'Strawberry\\n', 'Cherry\\n']\n"
     ]
    }
   ],
   "source": [
    "with open(\"C:/Users/Owner/yummyFruits.txt\", \"r\", encoding=\"utf-8\") as yummy:\n",
    "    print(yummy.readlines())"
   ]
  },
  {
   "cell_type": "raw",
   "metadata": {},
   "source": [
    "✏️Homework: Write a code that inserts a newline char \\n to between lines of the text of the 'fishes.txt' file and reads the new content of that file. "
   ]
  },
  {
   "cell_type": "code",
   "execution_count": 35,
   "metadata": {},
   "outputs": [
    {
     "name": "stdout",
     "output_type": "stream",
     "text": [
      "Orca is a kind of Dolphin.\n",
      "\n",
      "Blue Whale is the largest animal known on earth.\n",
      "\n",
      "Sharks are the sister group to the Rays (batoids).\n",
      "\n",
      "The Tuna Fish can weigh up to 260 kg.\n",
      "\n",
      "Squid and Octopus are in the same class.\n",
      "\n"
     ]
    }
   ],
   "source": [
    "with open('fishes.txt', 'r', encoding = \"utf-8\") as sea:\n",
    "    fish_lines = sea.readlines()\n",
    "with open('fishes.txt', 'w', encoding = \"utf-8\") as sea:\n",
    "    for reef in fish_lines:\n",
    "        sea.write(reef + '\\n')\n",
    "with open('fishes.txt', 'r', encoding = \"utf-8\") as sea:\n",
    "    print(sea.read())"
   ]
  },
  {
   "cell_type": "markdown",
   "metadata": {},
   "source": [
    "### Appending to File using 'a' Mode"
   ]
  },
  {
   "cell_type": "raw",
   "metadata": {},
   "source": [
    "• This mode keeps the existing content of the file and saves the new content to the continuation of the file. This need with 'a' mode which stands for append.\n",
    "• How we append: Let's add melon to our fruits.txt file as the last line. Let's remember our fruits\t\t"
   ]
  },
  {
   "cell_type": "code",
   "execution_count": 6,
   "metadata": {},
   "outputs": [],
   "source": [
    "fruits = ['Banana\\n', 'Orange\\n', 'Apple\\n', 'Strawberry\\n', 'Cherry\\n']\n",
    "with open(\"C:/Users/Owner/Desktop/fruits.txt\", 'w', encoding=\"utf-8\") as file:\n",
    "    file.writelines(fruits)  # creates a file containing the elements of the list"
   ]
  },
  {
   "cell_type": "code",
   "execution_count": 8,
   "metadata": {},
   "outputs": [
    {
     "name": "stdout",
     "output_type": "stream",
     "text": [
      "Banana\n",
      "Orange\n",
      "Apple\n",
      "Strawberry\n",
      "Cherry\n",
      "\n"
     ]
    }
   ],
   "source": [
    "with open(\"C:/Users/Owner/Desktop/fruits.txt\", \"r\", encoding=\"utf-8\") as file:\n",
    "    print(file.read())  # reads the content of the file"
   ]
  },
  {
   "cell_type": "code",
   "execution_count": 9,
   "metadata": {},
   "outputs": [],
   "source": [
    "with open(\"C:/Users/Owner/Desktop/fruits.txt\", \"a\", encoding=\"utf-8\") as file:\n",
    "    file.write(\"Melon\\n\")# adds \"Melon\" to the end of the existing file"
   ]
  },
  {
   "cell_type": "code",
   "execution_count": 10,
   "metadata": {},
   "outputs": [
    {
     "name": "stdout",
     "output_type": "stream",
     "text": [
      "Banana\n",
      "Orange\n",
      "Apple\n",
      "Strawberry\n",
      "Cherry\n",
      "Melon\n",
      "\n"
     ]
    }
   ],
   "source": [
    "with open(\"C:/Users/Owner/Desktop/fruits.txt\", \"r\", encoding=\"utf-8\") as file:\n",
    "    print(file.read())  # reads the content of the file"
   ]
  },
  {
   "cell_type": "markdown",
   "metadata": {},
   "source": [
    "# Working with the CSV (Comma Separated Values) Files"
   ]
  },
  {
   "cell_type": "markdown",
   "metadata": {},
   "source": [
    "## What is a CSV File?"
   ]
  },
  {
   "cell_type": "raw",
   "metadata": {},
   "source": [
    "• It is a file type in all programming languages. \n",
    "• Simple structure and easy creation: data are usually stored in this format.\n",
    "• It's a plain text like .txt files. CSV files use a comma to separate each data value. \n",
    "• Save the plain text file as a .csv extension: there you have a CSV file.\n",
    "• A CSV file is basically a table made up of rows and columns. "
   ]
  },
  {
   "cell_type": "raw",
   "metadata": {},
   "source": [
    "• Save fruits.txt file with a .csv extension into directory where Anconda3/Python installed.\t"
   ]
  },
  {
   "cell_type": "raw",
   "metadata": {},
   "source": [
    "• Our first CSV file consists of 3 columns and 5 rows. It's time to read this."
   ]
  },
  {
   "cell_type": "markdown",
   "metadata": {},
   "source": [
    "## Reading Methods of the CSV Files"
   ]
  },
  {
   "cell_type": "markdown",
   "metadata": {},
   "source": [
    "### ways to read CSV files"
   ]
  },
  {
   "cell_type": "raw",
   "metadata": {},
   "source": [
    "1. Ordinary Reading Method ~ open() function and .read() method\n",
    "2. use csv Module.\n",
    "3. Use the Pandas library for which created data analysis purposes. "
   ]
  },
  {
   "cell_type": "markdown",
   "metadata": {},
   "source": [
    "### 1. Ordinary Reading Method ~ open() function and .read() method"
   ]
  },
  {
   "cell_type": "raw",
   "metadata": {},
   "source": [
    "This method is quite simple and does not differ from reading the text files. Let's read the fruits.csv file:"
   ]
  },
  {
   "cell_type": "code",
   "execution_count": 13,
   "metadata": {},
   "outputs": [
    {
     "name": "stdout",
     "output_type": "stream",
     "text": [
      "1,Banana,4 lb\n",
      "2,Orange,5 lb\n",
      "3,Apple,2 lb\n",
      "4,Strawberry,6 lb\n",
      "5,Cherry,3 lb\n",
      "\n",
      "\n"
     ]
    }
   ],
   "source": [
    "with open(\"C:/Users/Owner/fruits.csv\", 'r', encoding=\"utf-8\") as file:\n",
    "    print(file.read())"
   ]
  },
  {
   "cell_type": "raw",
   "metadata": {},
   "source": [
    "• Content of the CSV file is displayed in plain text. \n",
    "• In cases where the file content is very long and the number of rows and columns is high, this method is quite useless."
   ]
  },
  {
   "cell_type": "markdown",
   "metadata": {},
   "source": [
    "### 2. Reading the CSV Files with 'csv' Module"
   ]
  },
  {
   "cell_type": "raw",
   "metadata": {},
   "source": [
    "• Content of the CSV files is displayed in a more readable format: this method is more preferred than the previous one.\n",
    "    • First: load csv module. \n",
    "    • Second: use csv.reader() function in a for loop to read the CSV file. "
   ]
  },
  {
   "cell_type": "code",
   "execution_count": 11,
   "metadata": {},
   "outputs": [],
   "source": [
    "import csv  # loads csv module"
   ]
  },
  {
   "cell_type": "code",
   "execution_count": 6,
   "metadata": {},
   "outputs": [
    {
     "name": "stdout",
     "output_type": "stream",
     "text": [
      "['1', 'Banana', '4 lb']\n",
      "['2', 'Orange', '5 lb']\n",
      "['3', 'Apple', '2 lb']\n",
      "['4', 'Strawberry', '6 lb']\n",
      "['5', 'Cherry', '3 lb']\n",
      "[]\n"
     ]
    }
   ],
   "source": [
    "with open(\"fruits.csv\", 'r', newline = '', encoding = 'utf-8') as file:\n",
    "    csv_rows = csv.reader(file)  \n",
    "    for row in csv_rows: \n",
    "        print(row)  "
   ]
  },
  {
   "cell_type": "raw",
   "metadata": {},
   "source": [
    "💡  csv.reader() function takes each row into a list as iterable. "
   ]
  },
  {
   "cell_type": "raw",
   "metadata": {},
   "source": [
    "• Rows are displayed in list type. \n",
    "• Each element of the rows is located as separate strings in the list. There are three strings in each list."
   ]
  },
  {
   "cell_type": "markdown",
   "metadata": {},
   "source": [
    "### newline parameter"
   ]
  },
  {
   "cell_type": "raw",
   "metadata": {},
   "source": [
    "• newline controls how universal newlines works (it only applies to text mode). It can be None, '', '\\n', '\\r', and '\\r\\n'. \n",
    "• It works as follows:\n",
    "    * On input, if newline is None, universal newlines mode is\n",
    "  enabled. Lines in the input can end in '\\n', '\\r', or '\\r\\n', and\n",
    "  these are translated into '\\n' before being returned to the\n",
    "  caller. If it is '', universal newline mode is enabled, but line\n",
    "  endings are returned to the caller untranslated. If it has any of\n",
    "  the other legal values, input lines are only terminated by the given\n",
    "  string, and the line ending is returned to the caller untranslated.\n",
    "\n",
    "* On output, if newline is None, any '\\n' characters written are\n",
    "  translated to the system default line separator, os.linesep. If\n",
    "  newline is '' or '\\n', no translation takes place. If newline is any\n",
    "  of the other legal values, any '\\n' characters written are translated\n",
    "  to the given string."
   ]
  },
  {
   "cell_type": "raw",
   "metadata": {},
   "source": [
    "• csv dosyalarının sonundaki karakteri belli etmemizi sağlıyor. Normalde  dosyaların sonunda \\n karakteri olur. Bazı dosyalama sisteminde \\r'de var. (cursor'ı başa getirir). Bazı csv dosyalar böyle olabilir. Kıllandıysan newline boş stringe eşitlersin. Dosya hatası almazsın abi. tanımlarsın. \n",
    "• If is not specified (like newline=''), newlines embedded inside quoted fields will not be interpreted correctly, and on platforms that use \\r\\n line endings on write an extra \\r (return) will be added.\n",
    "• It is best practice and always safe to specify newline='', since the csv module does its own newline handling.\t\t"
   ]
  },
  {
   "cell_type": "raw",
   "metadata": {},
   "source": [
    "💡 delimeter parameter:\n",
    "• The default value of the delimiter parameter is \",\". \n",
    "• Thus, we can display each comma-separated element as separate strings. \n",
    "• At this time let's use the delimiter=\",\" parameter and see the same result as the previous one.\t"
   ]
  },
  {
   "cell_type": "code",
   "execution_count": 12,
   "metadata": {},
   "outputs": [
    {
     "name": "stdout",
     "output_type": "stream",
     "text": [
      "['1', 'Banana', '4 lb']\n",
      "['2', 'Orange', '5 lb']\n",
      "['3', 'Apple', '2 lb']\n",
      "['4', 'Strawberry', '6 lb']\n",
      "['5', 'Cherry', '3 lb']\n",
      "[]\n"
     ]
    }
   ],
   "source": [
    "with open(\"fruits.csv\", 'r', newline = '', encoding = 'utf-8') as file:\n",
    "    csv_rows = csv.reader(file, delimiter= \",\")# gives the same output as the previous one\n",
    "    for row in csv_rows: \n",
    "        print(row)    "
   ]
  },
  {
   "cell_type": "raw",
   "metadata": {},
   "source": [
    "• Displaying each row in the list as a single string. \n",
    "• Determine a character that is not included in the CSV file and allocate this character as the value of delimiter."
   ]
  },
  {
   "cell_type": "code",
   "execution_count": 15,
   "metadata": {},
   "outputs": [
    {
     "name": "stdout",
     "output_type": "stream",
     "text": [
      "['1,Banana,4 lb']\n",
      "['2,Orange,5 lb']\n",
      "['3,Apple,2 lb']\n",
      "['4,Strawberry,6 lb']\n",
      "['5,Cherry,3 lb']\n",
      "[]\n"
     ]
    }
   ],
   "source": [
    "with open(\"fruits.csv\", 'r', newline = '', encoding= 'utf-8') as file:\n",
    "    csv_rows = csv.reader(file, delimiter = ':')# \":\" char is not used in file as value of dm\n",
    "    for row in csv_rows: \n",
    "        print(row)        "
   ]
  },
  {
   "cell_type": "code",
   "execution_count": null,
   "metadata": {},
   "outputs": [],
   "source": []
  },
  {
   "cell_type": "code",
   "execution_count": 18,
   "metadata": {},
   "outputs": [],
   "source": [
    "import pandas as pd"
   ]
  },
  {
   "cell_type": "markdown",
   "metadata": {},
   "source": [
    "## Reading excel files"
   ]
  },
  {
   "cell_type": "code",
   "execution_count": 26,
   "metadata": {},
   "outputs": [
    {
     "data": {
      "text/html": [
       "<div>\n",
       "<style scoped>\n",
       "    .dataframe tbody tr th:only-of-type {\n",
       "        vertical-align: middle;\n",
       "    }\n",
       "\n",
       "    .dataframe tbody tr th {\n",
       "        vertical-align: top;\n",
       "    }\n",
       "\n",
       "    .dataframe thead th {\n",
       "        text-align: right;\n",
       "    }\n",
       "</style>\n",
       "<table border=\"1\" class=\"dataframe\">\n",
       "  <thead>\n",
       "    <tr style=\"text-align: right;\">\n",
       "      <th></th>\n",
       "      <th>a</th>\n",
       "      <th>b</th>\n",
       "      <th>c</th>\n",
       "      <th>d</th>\n",
       "    </tr>\n",
       "    <tr>\n",
       "      <th>Unnamed: 0</th>\n",
       "      <th></th>\n",
       "      <th></th>\n",
       "      <th></th>\n",
       "      <th></th>\n",
       "    </tr>\n",
       "  </thead>\n",
       "  <tbody>\n",
       "    <tr>\n",
       "      <th>0.0</th>\n",
       "      <td>0.0</td>\n",
       "      <td>1</td>\n",
       "      <td>2.0</td>\n",
       "      <td>3</td>\n",
       "    </tr>\n",
       "    <tr>\n",
       "      <th>1.0</th>\n",
       "      <td>4.0</td>\n",
       "      <td>5</td>\n",
       "      <td>6.0</td>\n",
       "      <td>7</td>\n",
       "    </tr>\n",
       "    <tr>\n",
       "      <th>2.0</th>\n",
       "      <td>8.0</td>\n",
       "      <td>9</td>\n",
       "      <td>10.0</td>\n",
       "      <td>11</td>\n",
       "    </tr>\n",
       "    <tr>\n",
       "      <th>3.0</th>\n",
       "      <td>12.0</td>\n",
       "      <td>13</td>\n",
       "      <td>14.0</td>\n",
       "      <td>15</td>\n",
       "    </tr>\n",
       "    <tr>\n",
       "      <th>4.0</th>\n",
       "      <td>NaN</td>\n",
       "      <td>15</td>\n",
       "      <td>NaN</td>\n",
       "      <td>17</td>\n",
       "    </tr>\n",
       "    <tr>\n",
       "      <th>NaN</th>\n",
       "      <td>18.0</td>\n",
       "      <td>19</td>\n",
       "      <td>20.0</td>\n",
       "      <td>21</td>\n",
       "    </tr>\n",
       "  </tbody>\n",
       "</table>\n",
       "</div>"
      ],
      "text/plain": [
       "               a   b     c   d\n",
       "Unnamed: 0                    \n",
       "0.0          0.0   1   2.0   3\n",
       "1.0          4.0   5   6.0   7\n",
       "2.0          8.0   9  10.0  11\n",
       "3.0         12.0  13  14.0  15\n",
       "4.0          NaN  15   NaN  17\n",
       "NaN         18.0  19  20.0  21"
      ]
     },
     "execution_count": 26,
     "metadata": {},
     "output_type": "execute_result"
    }
   ],
   "source": [
    "df=pd.read_excel(\"Excel_Sample.xlsx\", index_col=0, sheet_name=\"Sheet1\", index=False)\n",
    "df"
   ]
  },
  {
   "cell_type": "markdown",
   "metadata": {},
   "source": [
    "## Reading from html"
   ]
  },
  {
   "cell_type": "code",
   "execution_count": 32,
   "metadata": {},
   "outputs": [
    {
     "data": {
      "text/html": [
       "<div>\n",
       "<style scoped>\n",
       "    .dataframe tbody tr th:only-of-type {\n",
       "        vertical-align: middle;\n",
       "    }\n",
       "\n",
       "    .dataframe tbody tr th {\n",
       "        vertical-align: top;\n",
       "    }\n",
       "\n",
       "    .dataframe thead th {\n",
       "        text-align: right;\n",
       "    }\n",
       "</style>\n",
       "<table border=\"1\" class=\"dataframe\">\n",
       "  <thead>\n",
       "    <tr style=\"text-align: right;\">\n",
       "      <th></th>\n",
       "      <th>Bank NameBank</th>\n",
       "      <th>CityCity</th>\n",
       "      <th>StateSt</th>\n",
       "      <th>CertCert</th>\n",
       "      <th>Acquiring InstitutionAI</th>\n",
       "      <th>Closing DateClosing</th>\n",
       "      <th>FundFund</th>\n",
       "    </tr>\n",
       "  </thead>\n",
       "  <tbody>\n",
       "    <tr>\n",
       "      <th>0</th>\n",
       "      <td>Almena State Bank</td>\n",
       "      <td>Almena</td>\n",
       "      <td>KS</td>\n",
       "      <td>15426</td>\n",
       "      <td>Equity Bank</td>\n",
       "      <td>October 23, 2020</td>\n",
       "      <td>10538</td>\n",
       "    </tr>\n",
       "    <tr>\n",
       "      <th>1</th>\n",
       "      <td>First City Bank of Florida</td>\n",
       "      <td>Fort Walton Beach</td>\n",
       "      <td>FL</td>\n",
       "      <td>16748</td>\n",
       "      <td>United Fidelity Bank, fsb</td>\n",
       "      <td>October 16, 2020</td>\n",
       "      <td>10537</td>\n",
       "    </tr>\n",
       "    <tr>\n",
       "      <th>2</th>\n",
       "      <td>The First State Bank</td>\n",
       "      <td>Barboursville</td>\n",
       "      <td>WV</td>\n",
       "      <td>14361</td>\n",
       "      <td>MVB Bank, Inc.</td>\n",
       "      <td>April 3, 2020</td>\n",
       "      <td>10536</td>\n",
       "    </tr>\n",
       "    <tr>\n",
       "      <th>3</th>\n",
       "      <td>Ericson State Bank</td>\n",
       "      <td>Ericson</td>\n",
       "      <td>NE</td>\n",
       "      <td>18265</td>\n",
       "      <td>Farmers and Merchants Bank</td>\n",
       "      <td>February 14, 2020</td>\n",
       "      <td>10535</td>\n",
       "    </tr>\n",
       "    <tr>\n",
       "      <th>4</th>\n",
       "      <td>City National Bank of New Jersey</td>\n",
       "      <td>Newark</td>\n",
       "      <td>NJ</td>\n",
       "      <td>21111</td>\n",
       "      <td>Industrial Bank</td>\n",
       "      <td>November 1, 2019</td>\n",
       "      <td>10534</td>\n",
       "    </tr>\n",
       "    <tr>\n",
       "      <th>...</th>\n",
       "      <td>...</td>\n",
       "      <td>...</td>\n",
       "      <td>...</td>\n",
       "      <td>...</td>\n",
       "      <td>...</td>\n",
       "      <td>...</td>\n",
       "      <td>...</td>\n",
       "    </tr>\n",
       "    <tr>\n",
       "      <th>558</th>\n",
       "      <td>Superior Bank, FSB</td>\n",
       "      <td>Hinsdale</td>\n",
       "      <td>IL</td>\n",
       "      <td>32646</td>\n",
       "      <td>Superior Federal, FSB</td>\n",
       "      <td>July 27, 2001</td>\n",
       "      <td>6004</td>\n",
       "    </tr>\n",
       "    <tr>\n",
       "      <th>559</th>\n",
       "      <td>Malta National Bank</td>\n",
       "      <td>Malta</td>\n",
       "      <td>OH</td>\n",
       "      <td>6629</td>\n",
       "      <td>North Valley Bank</td>\n",
       "      <td>May 3, 2001</td>\n",
       "      <td>4648</td>\n",
       "    </tr>\n",
       "    <tr>\n",
       "      <th>560</th>\n",
       "      <td>First Alliance Bank &amp; Trust Co.</td>\n",
       "      <td>Manchester</td>\n",
       "      <td>NH</td>\n",
       "      <td>34264</td>\n",
       "      <td>Southern New Hampshire Bank &amp; Trust</td>\n",
       "      <td>February 2, 2001</td>\n",
       "      <td>4647</td>\n",
       "    </tr>\n",
       "    <tr>\n",
       "      <th>561</th>\n",
       "      <td>National State Bank of Metropolis</td>\n",
       "      <td>Metropolis</td>\n",
       "      <td>IL</td>\n",
       "      <td>3815</td>\n",
       "      <td>Banterra Bank of Marion</td>\n",
       "      <td>December 14, 2000</td>\n",
       "      <td>4646</td>\n",
       "    </tr>\n",
       "    <tr>\n",
       "      <th>562</th>\n",
       "      <td>Bank of Honolulu</td>\n",
       "      <td>Honolulu</td>\n",
       "      <td>HI</td>\n",
       "      <td>21029</td>\n",
       "      <td>Bank of the Orient</td>\n",
       "      <td>October 13, 2000</td>\n",
       "      <td>4645</td>\n",
       "    </tr>\n",
       "  </tbody>\n",
       "</table>\n",
       "<p>563 rows × 7 columns</p>\n",
       "</div>"
      ],
      "text/plain": [
       "                         Bank NameBank           CityCity StateSt  CertCert  \\\n",
       "0                    Almena State Bank             Almena      KS     15426   \n",
       "1           First City Bank of Florida  Fort Walton Beach      FL     16748   \n",
       "2                 The First State Bank      Barboursville      WV     14361   \n",
       "3                   Ericson State Bank            Ericson      NE     18265   \n",
       "4     City National Bank of New Jersey             Newark      NJ     21111   \n",
       "..                                 ...                ...     ...       ...   \n",
       "558                 Superior Bank, FSB           Hinsdale      IL     32646   \n",
       "559                Malta National Bank              Malta      OH      6629   \n",
       "560    First Alliance Bank & Trust Co.         Manchester      NH     34264   \n",
       "561  National State Bank of Metropolis         Metropolis      IL      3815   \n",
       "562                   Bank of Honolulu           Honolulu      HI     21029   \n",
       "\n",
       "                 Acquiring InstitutionAI Closing DateClosing  FundFund  \n",
       "0                            Equity Bank    October 23, 2020     10538  \n",
       "1              United Fidelity Bank, fsb    October 16, 2020     10537  \n",
       "2                         MVB Bank, Inc.       April 3, 2020     10536  \n",
       "3             Farmers and Merchants Bank   February 14, 2020     10535  \n",
       "4                        Industrial Bank    November 1, 2019     10534  \n",
       "..                                   ...                 ...       ...  \n",
       "558                Superior Federal, FSB       July 27, 2001      6004  \n",
       "559                    North Valley Bank         May 3, 2001      4648  \n",
       "560  Southern New Hampshire Bank & Trust    February 2, 2001      4647  \n",
       "561              Banterra Bank of Marion   December 14, 2000      4646  \n",
       "562                   Bank of the Orient    October 13, 2000      4645  \n",
       "\n",
       "[563 rows x 7 columns]"
      ]
     },
     "execution_count": 32,
     "metadata": {},
     "output_type": "execute_result"
    }
   ],
   "source": [
    "df=pd.read_html(\"https://www.fdic.gov/resources/resolutions/bank-failures/failed-bank-list/\")\n",
    "df[0]"
   ]
  },
  {
   "cell_type": "code",
   "execution_count": 33,
   "metadata": {},
   "outputs": [],
   "source": [
    "#conda install sqlalchemy\n",
    "#conda install lxml\n",
    "#conda install html5lib\n",
    "#conda install BeautifulSoup4"
   ]
  },
  {
   "cell_type": "code",
   "execution_count": 4,
   "metadata": {},
   "outputs": [
    {
     "name": "stdout",
     "output_type": "stream",
     "text": [
      "    a   b   c   d\n",
      "0   0   1   2   3\n",
      "1   4   5   6   7\n",
      "2   8   9  10  11\n",
      "3  12  13  14  15\n",
      "a    int64\n",
      "b    int64\n",
      "c    int64\n",
      "d    int64\n",
      "dtype: object\n"
     ]
    }
   ],
   "source": [
    "import pandas as pd\n",
    "df = pd.read_csv(\"C:/Users/Owner/example.csv\")\n",
    "print(df)\n",
    "print(df.dtypes)"
   ]
  },
  {
   "cell_type": "code",
   "execution_count": 7,
   "metadata": {},
   "outputs": [
    {
     "name": "stdout",
     "output_type": "stream",
     "text": [
      "a    int32\n",
      "b    int64\n",
      "c    int64\n",
      "d    int64\n",
      "dtype: object\n"
     ]
    }
   ],
   "source": [
    "df = pd.read_csv(\"C:/Users/Owner/example.csv\", dtype = {\"a\": \"int32\"}) # Defining type of each column before reading csv\n",
    "print(df.dtypes)"
   ]
  },
  {
   "cell_type": "code",
   "execution_count": 40,
   "metadata": {},
   "outputs": [],
   "source": [
    "df.to_csv(\"My_output\")"
   ]
  },
  {
   "cell_type": "code",
   "execution_count": 41,
   "metadata": {},
   "outputs": [
    {
     "data": {
      "text/html": [
       "<div>\n",
       "<style scoped>\n",
       "    .dataframe tbody tr th:only-of-type {\n",
       "        vertical-align: middle;\n",
       "    }\n",
       "\n",
       "    .dataframe tbody tr th {\n",
       "        vertical-align: top;\n",
       "    }\n",
       "\n",
       "    .dataframe thead th {\n",
       "        text-align: right;\n",
       "    }\n",
       "</style>\n",
       "<table border=\"1\" class=\"dataframe\">\n",
       "  <thead>\n",
       "    <tr style=\"text-align: right;\">\n",
       "      <th></th>\n",
       "      <th>Unnamed: 0</th>\n",
       "      <th>a</th>\n",
       "      <th>b</th>\n",
       "      <th>c</th>\n",
       "      <th>d</th>\n",
       "    </tr>\n",
       "  </thead>\n",
       "  <tbody>\n",
       "    <tr>\n",
       "      <th>0</th>\n",
       "      <td>0</td>\n",
       "      <td>0</td>\n",
       "      <td>1</td>\n",
       "      <td>2</td>\n",
       "      <td>3</td>\n",
       "    </tr>\n",
       "    <tr>\n",
       "      <th>1</th>\n",
       "      <td>1</td>\n",
       "      <td>4</td>\n",
       "      <td>5</td>\n",
       "      <td>6</td>\n",
       "      <td>7</td>\n",
       "    </tr>\n",
       "    <tr>\n",
       "      <th>2</th>\n",
       "      <td>2</td>\n",
       "      <td>8</td>\n",
       "      <td>9</td>\n",
       "      <td>10</td>\n",
       "      <td>11</td>\n",
       "    </tr>\n",
       "    <tr>\n",
       "      <th>3</th>\n",
       "      <td>3</td>\n",
       "      <td>12</td>\n",
       "      <td>13</td>\n",
       "      <td>14</td>\n",
       "      <td>15</td>\n",
       "    </tr>\n",
       "  </tbody>\n",
       "</table>\n",
       "</div>"
      ],
      "text/plain": [
       "   Unnamed: 0   a   b   c   d\n",
       "0           0   0   1   2   3\n",
       "1           1   4   5   6   7\n",
       "2           2   8   9  10  11\n",
       "3           3  12  13  14  15"
      ]
     },
     "execution_count": 41,
     "metadata": {},
     "output_type": "execute_result"
    }
   ],
   "source": [
    "pd.read_csv(\"My_output\")"
   ]
  },
  {
   "cell_type": "code",
   "execution_count": 42,
   "metadata": {},
   "outputs": [],
   "source": [
    "df.to_csv(\"My_output\", index=False)"
   ]
  },
  {
   "cell_type": "code",
   "execution_count": 43,
   "metadata": {},
   "outputs": [
    {
     "data": {
      "text/html": [
       "<div>\n",
       "<style scoped>\n",
       "    .dataframe tbody tr th:only-of-type {\n",
       "        vertical-align: middle;\n",
       "    }\n",
       "\n",
       "    .dataframe tbody tr th {\n",
       "        vertical-align: top;\n",
       "    }\n",
       "\n",
       "    .dataframe thead th {\n",
       "        text-align: right;\n",
       "    }\n",
       "</style>\n",
       "<table border=\"1\" class=\"dataframe\">\n",
       "  <thead>\n",
       "    <tr style=\"text-align: right;\">\n",
       "      <th></th>\n",
       "      <th>a</th>\n",
       "      <th>b</th>\n",
       "      <th>c</th>\n",
       "      <th>d</th>\n",
       "    </tr>\n",
       "  </thead>\n",
       "  <tbody>\n",
       "    <tr>\n",
       "      <th>0</th>\n",
       "      <td>0</td>\n",
       "      <td>1</td>\n",
       "      <td>2</td>\n",
       "      <td>3</td>\n",
       "    </tr>\n",
       "    <tr>\n",
       "      <th>1</th>\n",
       "      <td>4</td>\n",
       "      <td>5</td>\n",
       "      <td>6</td>\n",
       "      <td>7</td>\n",
       "    </tr>\n",
       "    <tr>\n",
       "      <th>2</th>\n",
       "      <td>8</td>\n",
       "      <td>9</td>\n",
       "      <td>10</td>\n",
       "      <td>11</td>\n",
       "    </tr>\n",
       "    <tr>\n",
       "      <th>3</th>\n",
       "      <td>12</td>\n",
       "      <td>13</td>\n",
       "      <td>14</td>\n",
       "      <td>15</td>\n",
       "    </tr>\n",
       "  </tbody>\n",
       "</table>\n",
       "</div>"
      ],
      "text/plain": [
       "    a   b   c   d\n",
       "0   0   1   2   3\n",
       "1   4   5   6   7\n",
       "2   8   9  10  11\n",
       "3  12  13  14  15"
      ]
     },
     "execution_count": 43,
     "metadata": {},
     "output_type": "execute_result"
    }
   ],
   "source": [
    "pd.read_csv(\"My_output\")"
   ]
  },
  {
   "cell_type": "code",
   "execution_count": 44,
   "metadata": {},
   "outputs": [
    {
     "data": {
      "text/html": [
       "<div>\n",
       "<style scoped>\n",
       "    .dataframe tbody tr th:only-of-type {\n",
       "        vertical-align: middle;\n",
       "    }\n",
       "\n",
       "    .dataframe tbody tr th {\n",
       "        vertical-align: top;\n",
       "    }\n",
       "\n",
       "    .dataframe thead th {\n",
       "        text-align: right;\n",
       "    }\n",
       "</style>\n",
       "<table border=\"1\" class=\"dataframe\">\n",
       "  <thead>\n",
       "    <tr style=\"text-align: right;\">\n",
       "      <th></th>\n",
       "      <th>name</th>\n",
       "      <th>mask</th>\n",
       "      <th>weapon</th>\n",
       "    </tr>\n",
       "  </thead>\n",
       "  <tbody>\n",
       "    <tr>\n",
       "      <th>0</th>\n",
       "      <td>Raphael</td>\n",
       "      <td>red</td>\n",
       "      <td>sai</td>\n",
       "    </tr>\n",
       "    <tr>\n",
       "      <th>1</th>\n",
       "      <td>Donatello</td>\n",
       "      <td>purple</td>\n",
       "      <td>bo staff</td>\n",
       "    </tr>\n",
       "  </tbody>\n",
       "</table>\n",
       "</div>"
      ],
      "text/plain": [
       "        name    mask    weapon\n",
       "0    Raphael     red       sai\n",
       "1  Donatello  purple  bo staff"
      ]
     },
     "execution_count": 44,
     "metadata": {},
     "output_type": "execute_result"
    }
   ],
   "source": []
  },
  {
   "cell_type": "code",
   "execution_count": 45,
   "metadata": {},
   "outputs": [
    {
     "data": {
      "text/plain": [
       "'name,mask,weapon\\r\\nRaphael,red,sai\\r\\nDonatello,purple,bo staff\\r\\n'"
      ]
     },
     "execution_count": 45,
     "metadata": {},
     "output_type": "execute_result"
    }
   ],
   "source": [
    "df.to_csv(index=False)"
   ]
  },
  {
   "cell_type": "code",
   "execution_count": null,
   "metadata": {},
   "outputs": [],
   "source": [
    "Writing to csv: df.to_csv\n",
    "• Write object to a comma-separated values (csv) file."
   ]
  },
  {
   "cell_type": "raw",
   "metadata": {},
   "source": [
    "• Examples"
   ]
  },
  {
   "cell_type": "code",
   "execution_count": 2,
   "metadata": {},
   "outputs": [
    {
     "data": {
      "text/plain": [
       "'name,mask,weapon\\r\\nRaphael,red,sai\\r\\nDonatello,purple,bo staff\\r\\n'"
      ]
     },
     "execution_count": 2,
     "metadata": {},
     "output_type": "execute_result"
    }
   ],
   "source": [
    "import pandas as pd\n",
    "df = pd.DataFrame({'name': ['Raphael', 'Donatello'],\n",
    "                    'mask': ['red', 'purple'],\n",
    "                    'weapon': ['sai', 'bo staff']})\n",
    "df.to_csv(index=False)"
   ]
  },
  {
   "cell_type": "code",
   "execution_count": 46,
   "metadata": {},
   "outputs": [
    {
     "name": "stdout",
     "output_type": "stream",
     "text": [
      "Collecting package metadata (current_repodata.json): ...working... done\n",
      "Solving environment: ...working... done\n",
      "\n",
      "## Package Plan ##\n",
      "\n",
      "  environment location: C:\\Users\\Owner\\anaconda3\n",
      "\n",
      "  added / updated specs:\n",
      "    - xlrd\n",
      "\n",
      "\n",
      "The following packages will be downloaded:\n",
      "\n",
      "    package                    |            build\n",
      "    ---------------------------|-----------------\n",
      "    conda-4.10.3               |   py37haa95532_0         2.9 MB\n",
      "    ------------------------------------------------------------\n",
      "                                           Total:         2.9 MB\n",
      "\n",
      "The following packages will be UPDATED:\n",
      "\n",
      "  conda                                4.9.2-py37haa95532_0 --> 4.10.3-py37haa95532_0\n",
      "\n",
      "\n",
      "\n",
      "Downloading and Extracting Packages\n",
      "\n",
      "conda-4.10.3         | 2.9 MB    |            |   0% \n",
      "conda-4.10.3         | 2.9 MB    |            |   1% \n",
      "conda-4.10.3         | 2.9 MB    | 2          |   2% \n",
      "conda-4.10.3         | 2.9 MB    | 3          |   4% \n",
      "conda-4.10.3         | 2.9 MB    | 4          |   4% \n",
      "conda-4.10.3         | 2.9 MB    | 4          |   5% \n",
      "conda-4.10.3         | 2.9 MB    | 7          |   8% \n",
      "conda-4.10.3         | 2.9 MB    | 8          |   9% \n",
      "conda-4.10.3         | 2.9 MB    | #          |  10% \n",
      "conda-4.10.3         | 2.9 MB    | #1         |  12% \n",
      "conda-4.10.3         | 2.9 MB    | #3         |  13% \n",
      "conda-4.10.3         | 2.9 MB    | #7         |  18% \n",
      "conda-4.10.3         | 2.9 MB    | ##         |  20% \n",
      "conda-4.10.3         | 2.9 MB    | ##1        |  22% \n",
      "conda-4.10.3         | 2.9 MB    | ##3        |  23% \n",
      "conda-4.10.3         | 2.9 MB    | ##4        |  24% \n",
      "conda-4.10.3         | 2.9 MB    | ##6        |  26% \n",
      "conda-4.10.3         | 2.9 MB    | ##7        |  28% \n",
      "conda-4.10.3         | 2.9 MB    | ##9        |  30% \n",
      "conda-4.10.3         | 2.9 MB    | ###1       |  31% \n",
      "conda-4.10.3         | 2.9 MB    | ###5       |  36% \n",
      "conda-4.10.3         | 2.9 MB    | ###7       |  38% \n",
      "conda-4.10.3         | 2.9 MB    | ###9       |  40% \n",
      "conda-4.10.3         | 2.9 MB    | ####1      |  41% \n",
      "conda-4.10.3         | 2.9 MB    | ####6      |  46% \n",
      "conda-4.10.3         | 2.9 MB    | ####8      |  48% \n",
      "conda-4.10.3         | 2.9 MB    | #####      |  50% \n",
      "conda-4.10.3         | 2.9 MB    | #####3     |  53% \n",
      "conda-4.10.3         | 2.9 MB    | #####6     |  56% \n",
      "conda-4.10.3         | 2.9 MB    | #####9     |  59% \n",
      "conda-4.10.3         | 2.9 MB    | ######4    |  65% \n",
      "conda-4.10.3         | 2.9 MB    | ######7    |  68% \n",
      "conda-4.10.3         | 2.9 MB    | #######1   |  71% \n",
      "conda-4.10.3         | 2.9 MB    | #######3   |  74% \n",
      "conda-4.10.3         | 2.9 MB    | #######7   |  77% \n",
      "conda-4.10.3         | 2.9 MB    | ########1  |  82% \n",
      "conda-4.10.3         | 2.9 MB    | ########7  |  87% \n",
      "conda-4.10.3         | 2.9 MB    | #########1 |  91% \n",
      "conda-4.10.3         | 2.9 MB    | #########5 |  96% \n",
      "conda-4.10.3         | 2.9 MB    | #########9 |  99% \n",
      "conda-4.10.3         | 2.9 MB    | ########## | 100% \n",
      "Preparing transaction: ...working... done\n",
      "Verifying transaction: ...working... done\n",
      "Executing transaction: ...working... done\n",
      "\n",
      "Note: you may need to restart the kernel to use updated packages.\n"
     ]
    }
   ],
   "source": [
    "conda install xlrd"
   ]
  },
  {
   "cell_type": "code",
   "execution_count": 47,
   "metadata": {},
   "outputs": [
    {
     "data": {
      "text/html": [
       "<div>\n",
       "<style scoped>\n",
       "    .dataframe tbody tr th:only-of-type {\n",
       "        vertical-align: middle;\n",
       "    }\n",
       "\n",
       "    .dataframe tbody tr th {\n",
       "        vertical-align: top;\n",
       "    }\n",
       "\n",
       "    .dataframe thead th {\n",
       "        text-align: right;\n",
       "    }\n",
       "</style>\n",
       "<table border=\"1\" class=\"dataframe\">\n",
       "  <thead>\n",
       "    <tr style=\"text-align: right;\">\n",
       "      <th></th>\n",
       "      <th>Unnamed: 0</th>\n",
       "      <th>a</th>\n",
       "      <th>b</th>\n",
       "      <th>c</th>\n",
       "      <th>d</th>\n",
       "    </tr>\n",
       "  </thead>\n",
       "  <tbody>\n",
       "    <tr>\n",
       "      <th>0</th>\n",
       "      <td>0.0</td>\n",
       "      <td>0.0</td>\n",
       "      <td>1</td>\n",
       "      <td>2.0</td>\n",
       "      <td>3</td>\n",
       "    </tr>\n",
       "    <tr>\n",
       "      <th>1</th>\n",
       "      <td>1.0</td>\n",
       "      <td>4.0</td>\n",
       "      <td>5</td>\n",
       "      <td>6.0</td>\n",
       "      <td>7</td>\n",
       "    </tr>\n",
       "    <tr>\n",
       "      <th>2</th>\n",
       "      <td>2.0</td>\n",
       "      <td>8.0</td>\n",
       "      <td>9</td>\n",
       "      <td>10.0</td>\n",
       "      <td>11</td>\n",
       "    </tr>\n",
       "    <tr>\n",
       "      <th>3</th>\n",
       "      <td>3.0</td>\n",
       "      <td>12.0</td>\n",
       "      <td>13</td>\n",
       "      <td>14.0</td>\n",
       "      <td>15</td>\n",
       "    </tr>\n",
       "    <tr>\n",
       "      <th>4</th>\n",
       "      <td>4.0</td>\n",
       "      <td>NaN</td>\n",
       "      <td>15</td>\n",
       "      <td>NaN</td>\n",
       "      <td>17</td>\n",
       "    </tr>\n",
       "    <tr>\n",
       "      <th>5</th>\n",
       "      <td>NaN</td>\n",
       "      <td>18.0</td>\n",
       "      <td>19</td>\n",
       "      <td>20.0</td>\n",
       "      <td>21</td>\n",
       "    </tr>\n",
       "  </tbody>\n",
       "</table>\n",
       "</div>"
      ],
      "text/plain": [
       "   Unnamed: 0     a   b     c   d\n",
       "0         0.0   0.0   1   2.0   3\n",
       "1         1.0   4.0   5   6.0   7\n",
       "2         2.0   8.0   9  10.0  11\n",
       "3         3.0  12.0  13  14.0  15\n",
       "4         4.0   NaN  15   NaN  17\n",
       "5         NaN  18.0  19  20.0  21"
      ]
     },
     "execution_count": 47,
     "metadata": {},
     "output_type": "execute_result"
    }
   ],
   "source": [
    "pd.read_excel(\"Excel_Sample.xlsx\", sheet_name=\"Sheet1\")"
   ]
  },
  {
   "cell_type": "code",
   "execution_count": 48,
   "metadata": {},
   "outputs": [],
   "source": [
    "df.to_excel(\"Excel_Sample2.xlsx\", sheet_name=\"NewSheet\")"
   ]
  },
  {
   "cell_type": "code",
   "execution_count": 50,
   "metadata": {},
   "outputs": [],
   "source": [
    "data = pd.read_html(\"https://www.fdic.gov/resources/resolutions/bank-failures/failed-bank-list/\")"
   ]
  },
  {
   "cell_type": "code",
   "execution_count": 51,
   "metadata": {},
   "outputs": [
    {
     "data": {
      "text/plain": [
       "list"
      ]
     },
     "execution_count": 51,
     "metadata": {},
     "output_type": "execute_result"
    }
   ],
   "source": [
    "type(data)"
   ]
  },
  {
   "cell_type": "code",
   "execution_count": 52,
   "metadata": {},
   "outputs": [
    {
     "data": {
      "text/html": [
       "<div>\n",
       "<style scoped>\n",
       "    .dataframe tbody tr th:only-of-type {\n",
       "        vertical-align: middle;\n",
       "    }\n",
       "\n",
       "    .dataframe tbody tr th {\n",
       "        vertical-align: top;\n",
       "    }\n",
       "\n",
       "    .dataframe thead th {\n",
       "        text-align: right;\n",
       "    }\n",
       "</style>\n",
       "<table border=\"1\" class=\"dataframe\">\n",
       "  <thead>\n",
       "    <tr style=\"text-align: right;\">\n",
       "      <th></th>\n",
       "      <th>Bank NameBank</th>\n",
       "      <th>CityCity</th>\n",
       "      <th>StateSt</th>\n",
       "      <th>CertCert</th>\n",
       "      <th>Acquiring InstitutionAI</th>\n",
       "      <th>Closing DateClosing</th>\n",
       "      <th>FundFund</th>\n",
       "    </tr>\n",
       "  </thead>\n",
       "  <tbody>\n",
       "    <tr>\n",
       "      <th>0</th>\n",
       "      <td>Almena State Bank</td>\n",
       "      <td>Almena</td>\n",
       "      <td>KS</td>\n",
       "      <td>15426</td>\n",
       "      <td>Equity Bank</td>\n",
       "      <td>October 23, 2020</td>\n",
       "      <td>10538</td>\n",
       "    </tr>\n",
       "    <tr>\n",
       "      <th>1</th>\n",
       "      <td>First City Bank of Florida</td>\n",
       "      <td>Fort Walton Beach</td>\n",
       "      <td>FL</td>\n",
       "      <td>16748</td>\n",
       "      <td>United Fidelity Bank, fsb</td>\n",
       "      <td>October 16, 2020</td>\n",
       "      <td>10537</td>\n",
       "    </tr>\n",
       "    <tr>\n",
       "      <th>2</th>\n",
       "      <td>The First State Bank</td>\n",
       "      <td>Barboursville</td>\n",
       "      <td>WV</td>\n",
       "      <td>14361</td>\n",
       "      <td>MVB Bank, Inc.</td>\n",
       "      <td>April 3, 2020</td>\n",
       "      <td>10536</td>\n",
       "    </tr>\n",
       "    <tr>\n",
       "      <th>3</th>\n",
       "      <td>Ericson State Bank</td>\n",
       "      <td>Ericson</td>\n",
       "      <td>NE</td>\n",
       "      <td>18265</td>\n",
       "      <td>Farmers and Merchants Bank</td>\n",
       "      <td>February 14, 2020</td>\n",
       "      <td>10535</td>\n",
       "    </tr>\n",
       "    <tr>\n",
       "      <th>4</th>\n",
       "      <td>City National Bank of New Jersey</td>\n",
       "      <td>Newark</td>\n",
       "      <td>NJ</td>\n",
       "      <td>21111</td>\n",
       "      <td>Industrial Bank</td>\n",
       "      <td>November 1, 2019</td>\n",
       "      <td>10534</td>\n",
       "    </tr>\n",
       "  </tbody>\n",
       "</table>\n",
       "</div>"
      ],
      "text/plain": [
       "                      Bank NameBank           CityCity StateSt  CertCert  \\\n",
       "0                 Almena State Bank             Almena      KS     15426   \n",
       "1        First City Bank of Florida  Fort Walton Beach      FL     16748   \n",
       "2              The First State Bank      Barboursville      WV     14361   \n",
       "3                Ericson State Bank            Ericson      NE     18265   \n",
       "4  City National Bank of New Jersey             Newark      NJ     21111   \n",
       "\n",
       "      Acquiring InstitutionAI Closing DateClosing  FundFund  \n",
       "0                 Equity Bank    October 23, 2020     10538  \n",
       "1   United Fidelity Bank, fsb    October 16, 2020     10537  \n",
       "2              MVB Bank, Inc.       April 3, 2020     10536  \n",
       "3  Farmers and Merchants Bank   February 14, 2020     10535  \n",
       "4             Industrial Bank    November 1, 2019     10534  "
      ]
     },
     "execution_count": 52,
     "metadata": {},
     "output_type": "execute_result"
    }
   ],
   "source": [
    "data[0].head()"
   ]
  },
  {
   "cell_type": "code",
   "execution_count": 53,
   "metadata": {},
   "outputs": [],
   "source": [
    "from sqlalchemy import create_engine"
   ]
  },
  {
   "cell_type": "code",
   "execution_count": 54,
   "metadata": {},
   "outputs": [],
   "source": [
    "engine = create_engine(\"sqlite:///:memory:\")"
   ]
  },
  {
   "cell_type": "code",
   "execution_count": 55,
   "metadata": {},
   "outputs": [],
   "source": [
    "df.to_sql(\"my_table\", engine)"
   ]
  },
  {
   "cell_type": "code",
   "execution_count": 56,
   "metadata": {},
   "outputs": [],
   "source": [
    "sqldf=pd.read_sql(\"my_table\", con=engine)"
   ]
  },
  {
   "cell_type": "code",
   "execution_count": 57,
   "metadata": {},
   "outputs": [
    {
     "data": {
      "text/html": [
       "<div>\n",
       "<style scoped>\n",
       "    .dataframe tbody tr th:only-of-type {\n",
       "        vertical-align: middle;\n",
       "    }\n",
       "\n",
       "    .dataframe tbody tr th {\n",
       "        vertical-align: top;\n",
       "    }\n",
       "\n",
       "    .dataframe thead th {\n",
       "        text-align: right;\n",
       "    }\n",
       "</style>\n",
       "<table border=\"1\" class=\"dataframe\">\n",
       "  <thead>\n",
       "    <tr style=\"text-align: right;\">\n",
       "      <th></th>\n",
       "      <th>index</th>\n",
       "      <th>name</th>\n",
       "      <th>mask</th>\n",
       "      <th>weapon</th>\n",
       "    </tr>\n",
       "  </thead>\n",
       "  <tbody>\n",
       "    <tr>\n",
       "      <th>0</th>\n",
       "      <td>0</td>\n",
       "      <td>Raphael</td>\n",
       "      <td>red</td>\n",
       "      <td>sai</td>\n",
       "    </tr>\n",
       "    <tr>\n",
       "      <th>1</th>\n",
       "      <td>1</td>\n",
       "      <td>Donatello</td>\n",
       "      <td>purple</td>\n",
       "      <td>bo staff</td>\n",
       "    </tr>\n",
       "  </tbody>\n",
       "</table>\n",
       "</div>"
      ],
      "text/plain": [
       "   index       name    mask    weapon\n",
       "0      0    Raphael     red       sai\n",
       "1      1  Donatello  purple  bo staff"
      ]
     },
     "execution_count": 57,
     "metadata": {},
     "output_type": "execute_result"
    }
   ],
   "source": [
    "sqldf"
   ]
  },
  {
   "cell_type": "code",
   "execution_count": null,
   "metadata": {},
   "outputs": [],
   "source": []
  },
  {
   "cell_type": "code",
   "execution_count": 4,
   "metadata": {},
   "outputs": [],
   "source": [
    "drinks = pd.read_csv(\"http://bit.ly/drinksbycountry\")"
   ]
  },
  {
   "cell_type": "code",
   "execution_count": 5,
   "metadata": {},
   "outputs": [],
   "source": [
    "planets = sns.load_dataset(\"planets\")"
   ]
  },
  {
   "cell_type": "code",
   "execution_count": 29,
   "metadata": {},
   "outputs": [],
   "source": [
    "import requests\n",
    "import pandas as pd\n",
    "from zipfile import ZipFile\n",
    "from io import BytesIO\n",
    "\n",
    "#r = requests.get(\"https://correlatesofwar.org/data-sets/national-material-capabilities/nmc_documentation-6-0.zip/@@download/file/NMC_Documentation%206.0.zip\")\n",
    "#files = ZipFile(BytesIO(r.content))\n",
    "#df = pd.read_csv(files.open(\"NMC-60-abridged.csv\"))"
   ]
  },
  {
   "cell_type": "raw",
   "metadata": {},
   "source": [
    "\t○ Data Input and Output\n",
    "\t\tØ panels as a library has the ability to read data and write data to a wide variety of sources. 4 main data sources: csv, Excel, HTML, sql.\n",
    "\t\tØ Download these libraries to work:\n",
    "\t\t\tconda install sqlalchemy\n",
    "\t\t\tconda install lxml\n",
    "\t\t\tconda install html5lib\n",
    "\t\t\tconda install BeautifulSoup4\n"
   ]
  },
  {
   "cell_type": "raw",
   "metadata": {},
   "source": [
    "\t\tØ PWD: report back the location. This is the same file location. The example see every file in the example Excel file should be in.\n"
   ]
  },
  {
   "cell_type": "code",
   "execution_count": 2,
   "metadata": {},
   "outputs": [],
   "source": [
    "import pandas as pd\n",
    "df = pd.read_csv(\"C:/Users/Owner/filled_jobs.csv\")"
   ]
  },
  {
   "cell_type": "code",
   "execution_count": 25,
   "metadata": {},
   "outputs": [
    {
     "name": "stdout",
     "output_type": "stream",
     "text": [
      "                Region   Period   Value Status    Units  Magnitude  \\\n",
      "0      Auckland Region  2019.05  721535      P  Number           0   \n",
      "1      Auckland Region  2019.06  723158      P  Number           0   \n",
      "2      Auckland Region  2019.07  729740      P  Number           0   \n",
      "3      Auckland Region  2019.08  731506      P  Number           0   \n",
      "4      Auckland Region  2019.09  735222      P  Number           0   \n",
      "..                 ...      ...     ...    ...      ...        ...   \n",
      "219  West Coast Region  2020.02   16556      P  Number           0   \n",
      "220  West Coast Region  2020.03   16608      P  Number           0   \n",
      "221  West Coast Region  2020.04   16244      P  Number           0   \n",
      "222  West Coast Region  2020.05   16255      P  Number           0   \n",
      "223  West Coast Region  2020.06   16187      P  Number           0   \n",
      "\n",
      "    Series_title_1  \n",
      "0          Actual   \n",
      "1          Actual   \n",
      "2          Actual   \n",
      "3          Actual   \n",
      "4          Actual   \n",
      "..             ...  \n",
      "219        Actual   \n",
      "220        Actual   \n",
      "221        Actual   \n",
      "222        Actual   \n",
      "223        Actual   \n",
      "\n",
      "[224 rows x 7 columns] \n",
      "\n"
     ]
    }
   ],
   "source": [
    "print(df, \"\\n\")"
   ]
  },
  {
   "cell_type": "code",
   "execution_count": 27,
   "metadata": {},
   "outputs": [
    {
     "name": "stdout",
     "output_type": "stream",
     "text": [
      "            Region   Period   Value Status    Units  Magnitude Series_title_1\n",
      "0  Auckland Region  2019.05  721535      P  Number           0        Actual \n",
      "1  Auckland Region  2019.06  723158      P  Number           0        Actual \n",
      "2  Auckland Region  2019.07  729740      P  Number           0        Actual \n",
      "3  Auckland Region  2019.08  731506      P  Number           0        Actual \n",
      "4  Auckland Region  2019.09  735222      P  Number           0        Actual \n",
      "5  Auckland Region  2019.10  739363      P  Number           0        Actual \n",
      "6  Auckland Region  2019.11  751806      P  Number           0        Actual \n",
      "7  Auckland Region  2019.12  756439      P  Number           0        Actual \n",
      "8  Auckland Region  2020.01  735174      P  Number           0        Actual \n",
      "9  Auckland Region  2020.02  742294      P  Number           0        Actual  \n",
      "\n"
     ]
    }
   ],
   "source": [
    "print(df.head(10), \"\\n\")"
   ]
  },
  {
   "cell_type": "code",
   "execution_count": 28,
   "metadata": {},
   "outputs": [
    {
     "name": "stdout",
     "output_type": "stream",
     "text": [
      "224\n"
     ]
    }
   ],
   "source": [
    "print(len(df.index))"
   ]
  },
  {
   "cell_type": "code",
   "execution_count": 29,
   "metadata": {},
   "outputs": [
    {
     "data": {
      "text/plain": [
       "Index(['Region', 'Period', 'Value', 'Status', 'Units', 'Magnitude',\n",
       "       'Series_title_1'],\n",
       "      dtype='object')"
      ]
     },
     "execution_count": 29,
     "metadata": {},
     "output_type": "execute_result"
    }
   ],
   "source": [
    "df.columns"
   ]
  },
  {
   "cell_type": "code",
   "execution_count": null,
   "metadata": {},
   "outputs": [],
   "source": [
    "#with open(\"filled_jobs.csv\", \"r\", encoding = \"utf-8\") as file:\n",
    "    #print(file.read())"
   ]
  }
 ],
 "metadata": {
  "kernelspec": {
   "display_name": "Python 3 (ipykernel)",
   "language": "python",
   "name": "python3"
  },
  "language_info": {
   "codemirror_mode": {
    "name": "ipython",
    "version": 3
   },
   "file_extension": ".py",
   "mimetype": "text/x-python",
   "name": "python",
   "nbconvert_exporter": "python",
   "pygments_lexer": "ipython3",
   "version": "3.11.3"
  }
 },
 "nbformat": 4,
 "nbformat_minor": 4
}
