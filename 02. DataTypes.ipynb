{
 "cells": [
  {
   "cell_type": "markdown",
   "metadata": {},
   "source": [
    "# Data Types"
   ]
  },
  {
   "cell_type": "markdown",
   "metadata": {},
   "source": [
    "## Introduction "
   ]
  },
  {
   "cell_type": "raw",
   "metadata": {},
   "source": [
    "• Each data has a type, whether constant or variable and data type defines how to store data in memory and which process can be applied to it.\n",
    "\n",
    "• Data types are variables to reserve some space in memory. "
   ]
  },
  {
   "cell_type": "code",
   "execution_count": null,
   "metadata": {},
   "outputs": [],
   "source": [
    "💡Tips: we assign value to a variable using 👉 ="
   ]
  },
  {
   "cell_type": "raw",
   "metadata": {},
   "source": [
    "Data types have certain formats and common features. Some commonly used data types are:\n",
    "• String\n",
    "• Signed Integer\n",
    "• Floating Point\n",
    "• Complex\n",
    "• Boolean"
   ]
  },
  {
   "cell_type": "markdown",
   "metadata": {},
   "source": [
    "## String"
   ]
  },
  {
   "cell_type": "raw",
   "metadata": {},
   "source": [
    "👉 Strings are contiguous set of characters represented in quotation marks (single, double triple).\n",
    "\n",
    "Immutability: Each time any changes to a string, a new string object is created.\n",
    "\n",
    "Textual characters & strings. String type is called str. Most common and useful Python data type."
   ]
  },
  {
   "cell_type": "code",
   "execution_count": 2,
   "metadata": {},
   "outputs": [
    {
     "name": "stdout",
     "output_type": "stream",
     "text": [
      "I have learned strings\n"
     ]
    }
   ],
   "source": [
    "text1 = \"I have learned strings\" # surrounded with double quotes\n",
    "print(text1)"
   ]
  },
  {
   "cell_type": "code",
   "execution_count": 1,
   "metadata": {},
   "outputs": [
    {
     "name": "stdout",
     "output_type": "stream",
     "text": [
      "632\n"
     ]
    }
   ],
   "source": [
    "print('632') # this is also a string type"
   ]
  },
  {
   "cell_type": "code",
   "execution_count": 2,
   "metadata": {},
   "outputs": [
    {
     "data": {
      "text/plain": [
       "str"
      ]
     },
     "execution_count": 2,
     "metadata": {},
     "output_type": "execute_result"
    }
   ],
   "source": [
    "type(\"632\")"
   ]
  },
  {
   "cell_type": "raw",
   "metadata": {},
   "source": [
    "Which of the following are valid ways to specify the string literal foo'bar in Python?"
   ]
  },
  {
   "cell_type": "code",
   "execution_count": 1,
   "metadata": {},
   "outputs": [
    {
     "data": {
      "text/plain": [
       "\"foo'bar\""
      ]
     },
     "execution_count": 1,
     "metadata": {},
     "output_type": "execute_result"
    }
   ],
   "source": [
    "\"foo'bar\""
   ]
  },
  {
   "cell_type": "code",
   "execution_count": 2,
   "metadata": {},
   "outputs": [
    {
     "data": {
      "text/plain": [
       "\"foo'bar\""
      ]
     },
     "execution_count": 2,
     "metadata": {},
     "output_type": "execute_result"
    }
   ],
   "source": [
    "\"\"\"foo'bar\"\"\""
   ]
  },
  {
   "cell_type": "code",
   "execution_count": 7,
   "metadata": {},
   "outputs": [
    {
     "data": {
      "text/plain": [
       "\"foo'bar\""
      ]
     },
     "execution_count": 7,
     "metadata": {},
     "output_type": "execute_result"
    }
   ],
   "source": [
    "'foo\\'bar'"
   ]
  },
  {
   "cell_type": "raw",
   "metadata": {},
   "source": [
    "💡 Python is so powerful in strings"
   ]
  },
  {
   "cell_type": "raw",
   "metadata": {},
   "source": [
    "• Everything in Python is an object.\n",
    "\n",
    "• And there is different types of objects. Like lists, picture of strings, integers, floats.\n",
    "\n",
    "• These different types of objects has their own methods and properties associated. \n",
    "\n",
    "• What kind of object is it? You find it with type() function. "
   ]
  },
  {
   "cell_type": "raw",
   "metadata": {},
   "source": [
    "👉🏻 String is `immutable` data type. (can't just change the string in place, so most string methods return a copy of the string.)"
   ]
  },
  {
   "cell_type": "code",
   "execution_count": 15,
   "metadata": {},
   "outputs": [],
   "source": [
    "company = \"ClarusWay\""
   ]
  },
  {
   "cell_type": "code",
   "execution_count": 16,
   "metadata": {},
   "outputs": [
    {
     "data": {
      "text/plain": [
       "'clarusway'"
      ]
     },
     "execution_count": 16,
     "metadata": {},
     "output_type": "execute_result"
    }
   ],
   "source": [
    "company.lower()"
   ]
  },
  {
   "cell_type": "code",
   "execution_count": 17,
   "metadata": {},
   "outputs": [
    {
     "data": {
      "text/plain": [
       "'ClarusWay'"
      ]
     },
     "execution_count": 17,
     "metadata": {},
     "output_type": "execute_result"
    }
   ],
   "source": [
    "company"
   ]
  },
  {
   "cell_type": "code",
   "execution_count": null,
   "metadata": {},
   "outputs": [],
   "source": [
    "💡Tips: Create a new variable for the copy or assign the same name to the copy to save the changes made to the string."
   ]
  },
  {
   "cell_type": "code",
   "execution_count": 18,
   "metadata": {},
   "outputs": [
    {
     "data": {
      "text/plain": [
       "'clarusway'"
      ]
     },
     "execution_count": 18,
     "metadata": {},
     "output_type": "execute_result"
    }
   ],
   "source": [
    "company = company.lower()\n",
    "company"
   ]
  },
  {
   "cell_type": "markdown",
   "metadata": {},
   "source": [
    "### Checking the type with type function"
   ]
  },
  {
   "cell_type": "code",
   "execution_count": 19,
   "metadata": {},
   "outputs": [
    {
     "data": {
      "text/plain": [
       "str"
      ]
     },
     "execution_count": 19,
     "metadata": {},
     "output_type": "execute_result"
    }
   ],
   "source": [
    "type(company)"
   ]
  },
  {
   "cell_type": "markdown",
   "metadata": {},
   "source": [
    "### Indexing String"
   ]
  },
  {
   "cell_type": "raw",
   "metadata": {},
   "source": [
    "• Strings are a sequence, so they are accessible in the same way of sequence-based data types, through indexing and slicing."
   ]
  },
  {
   "cell_type": "raw",
   "metadata": {},
   "source": [
    "• String elements are accessible with brackets."
   ]
  },
  {
   "cell_type": "markdown",
   "metadata": {},
   "source": [
    "`The formula syntax` of string indexing is : `string`[`start`:`stop`:`step`]"
   ]
  },
  {
   "cell_type": "raw",
   "metadata": {},
   "source": [
    "• Like the list (items that correspond to an index number) each of a string’s characters also correspond to an index number.\n",
    "\n",
    "💡Tips: Enumeration of a string starts from zero."
   ]
  },
  {
   "cell_type": "markdown",
   "metadata": {},
   "source": [
    "### Index numbers"
   ]
  },
  {
   "cell_type": "raw",
   "metadata": {},
   "source": [
    "• By referencing index numbers, we can isolate one of the characters in a string. \n",
    "\n",
    "• To do this put the index numbers in square brackets."
   ]
  },
  {
   "cell_type": "code",
   "execution_count": 20,
   "metadata": {},
   "outputs": [
    {
     "data": {
      "text/plain": [
       "'c'"
      ]
     },
     "execution_count": 20,
     "metadata": {},
     "output_type": "execute_result"
    }
   ],
   "source": [
    "company[0]"
   ]
  },
  {
   "cell_type": "code",
   "execution_count": 21,
   "metadata": {},
   "outputs": [
    {
     "data": {
      "text/plain": [
       "'c'"
      ]
     },
     "execution_count": 21,
     "metadata": {},
     "output_type": "execute_result"
    }
   ],
   "source": [
    "company[0] # \"c\" starts at index 0, and the string ends at index 6 with the \"y\" letter."
   ]
  },
  {
   "cell_type": "markdown",
   "metadata": {},
   "source": [
    "`string[:]` returns the full copy of the sequence"
   ]
  },
  {
   "cell_type": "code",
   "execution_count": 22,
   "metadata": {},
   "outputs": [
    {
     "data": {
      "text/plain": [
       "'clarusway'"
      ]
     },
     "execution_count": 22,
     "metadata": {},
     "output_type": "execute_result"
    }
   ],
   "source": [
    "company[:]"
   ]
  },
  {
   "cell_type": "markdown",
   "metadata": {},
   "source": [
    "`string[start:]` returns elements from start to the end element."
   ]
  },
  {
   "cell_type": "code",
   "execution_count": 24,
   "metadata": {},
   "outputs": [
    {
     "data": {
      "text/plain": [
       "'clarusway'"
      ]
     },
     "execution_count": 24,
     "metadata": {},
     "output_type": "execute_result"
    }
   ],
   "source": [
    "company[0:]"
   ]
  },
  {
   "cell_type": "markdown",
   "metadata": {},
   "source": [
    "`string[:stop]` returns element from the 1st element to stop-1."
   ]
  },
  {
   "cell_type": "code",
   "execution_count": 27,
   "metadata": {},
   "outputs": [
    {
     "data": {
      "text/plain": [
       "'claruswa'"
      ]
     },
     "execution_count": 27,
     "metadata": {},
     "output_type": "execute_result"
    }
   ],
   "source": [
    "company[:-1] # stop olarak belirtilen index numarasını hariç tutar "
   ]
  },
  {
   "cell_type": "code",
   "execution_count": 29,
   "metadata": {},
   "outputs": [
    {
     "data": {
      "text/plain": [
       "'cl'"
      ]
     },
     "execution_count": 29,
     "metadata": {},
     "output_type": "execute_result"
    }
   ],
   "source": [
    "company[:2] # baştan başla al devam et, stop olarak belirtilen indexte dur. "
   ]
  },
  {
   "cell_type": "markdown",
   "metadata": {},
   "source": [
    "`string[::step]` returns each element with a given step"
   ]
  },
  {
   "cell_type": "code",
   "execution_count": 9,
   "metadata": {},
   "outputs": [
    {
     "data": {
      "text/plain": [
       "'CauWy'"
      ]
     },
     "execution_count": 9,
     "metadata": {},
     "output_type": "execute_result"
    }
   ],
   "source": [
    "company[::2]"
   ]
  },
  {
   "cell_type": "code",
   "execution_count": 10,
   "metadata": {},
   "outputs": [
    {
     "name": "stdout",
     "output_type": "stream",
     "text": [
      "C\n",
      "la\n",
      "arusWay\n",
      "CauWy\n",
      "y\n",
      "ClarusWa\n",
      "CauW\n",
      "yaWsuralC\n"
     ]
    }
   ],
   "source": [
    "print(company[0])\n",
    "print(company[1:3])\n",
    "print(company[2:])\n",
    "print(company[0::2])# starts from 0, stops at the end (not specified), takes 2 steps. \n",
    "print(company[-1])\n",
    "print(company[:-1])# starts from 0, stops at the -1 (not included), takes 1 step default. \n",
    "print(company[:-1:2])# starts from 0, stops at the -1 (not included), takes 2 step. \n",
    "print(company[::-1])"
   ]
  },
  {
   "cell_type": "markdown",
   "metadata": {},
   "source": [
    "### String formatting "
   ]
  },
  {
   "cell_type": "raw",
   "metadata": {},
   "source": [
    "1. Arithmetic syntax (+, *, and =)\n",
    "2. % operator formatting\n",
    "3. string.format() method\n",
    "4. f-string formatting"
   ]
  },
  {
   "cell_type": "code",
   "execution_count": 22,
   "metadata": {},
   "outputs": [
    {
     "name": "stdout",
     "output_type": "stream",
     "text": [
      "format it 2 times man!\n",
      "format it 2 times man!\n",
      "format it 2 times man!\n",
      "format it 2 times man!\n"
     ]
    }
   ],
   "source": [
    "print(\"format \" + \"it \" + \"2 times \" + \"man!\") # with arithmetic syntax: combining strings with + operator\n",
    "print(\"format %s %d times man!\" % (\"it\", 2)) # % operator formatting: % operator gets the values \n",
    "print(\"format {} {} times man!\" .format(\"it\", 2)) # string.format() method: # curly braces {} receives values from .format() in order.\n",
    "what = \"it\"\n",
    "times = 2\n",
    "print(f\"format {what} {times} times man!\")  # f-string formatting: \n",
    "                                #  f-string is the string syntax that is enclosed in quotes with a letter f at the beginning. \n",
    "                                #Curly braces 👉🏻{} that contain variables are used to replace with their values."
   ]
  },
  {
   "cell_type": "markdown",
   "metadata": {},
   "source": [
    "#### 1. Arithmetic Syntax"
   ]
  },
  {
   "cell_type": "markdown",
   "metadata": {},
   "source": [
    "We can use `+ operator` for `combining the two string` together without any spaces. "
   ]
  },
  {
   "cell_type": "code",
   "execution_count": 27,
   "metadata": {
    "scrolled": true
   },
   "outputs": [
    {
     "data": {
      "text/plain": [
       "'clarusway'"
      ]
     },
     "execution_count": 27,
     "metadata": {},
     "output_type": "execute_result"
    }
   ],
   "source": [
    "\"clarus\" + \"way\""
   ]
  },
  {
   "cell_type": "code",
   "execution_count": 16,
   "metadata": {},
   "outputs": [
    {
     "data": {
      "text/plain": [
       "'clarusway'"
      ]
     },
     "execution_count": 16,
     "metadata": {},
     "output_type": "execute_result"
    }
   ],
   "source": [
    "\"clarus\" + \"way\""
   ]
  },
  {
   "cell_type": "code",
   "execution_count": 28,
   "metadata": {},
   "outputs": [
    {
     "name": "stdout",
     "output_type": "stream",
     "text": [
      "clarusway\n"
     ]
    }
   ],
   "source": [
    "print(\"clarus\"+\"way\")"
   ]
  },
  {
   "cell_type": "code",
   "execution_count": 29,
   "metadata": {},
   "outputs": [
    {
     "data": {
      "text/plain": [
       "'clarusway'"
      ]
     },
     "execution_count": 29,
     "metadata": {},
     "output_type": "execute_result"
    }
   ],
   "source": [
    "text1 = \"clarus\"\n",
    "text2 = \"way\"\n",
    "text1 + text2"
   ]
  },
  {
   "cell_type": "markdown",
   "metadata": {},
   "source": [
    "We can also use `* operator` for `repeating the string` without any spaces. "
   ]
  },
  {
   "cell_type": "code",
   "execution_count": 30,
   "metadata": {},
   "outputs": [
    {
     "data": {
      "text/plain": [
       "'no wayno wayno way'"
      ]
     },
     "execution_count": 30,
     "metadata": {},
     "output_type": "execute_result"
    }
   ],
   "source": [
    "\"no way\"*3"
   ]
  },
  {
   "cell_type": "code",
   "execution_count": 39,
   "metadata": {},
   "outputs": [
    {
     "name": "stdout",
     "output_type": "stream",
     "text": [
      "no way!no way!no way!555seperation\n"
     ]
    }
   ],
   "source": [
    "print(\"no way!\"*3, \"seperation\", sep=\"555\")"
   ]
  },
  {
   "cell_type": "code",
   "execution_count": 40,
   "metadata": {},
   "outputs": [
    {
     "data": {
      "text/plain": [
       "'OrangeTomato'"
      ]
     },
     "execution_count": 40,
     "metadata": {},
     "output_type": "execute_result"
    }
   ],
   "source": [
    "fruit = \"Orange\"\n",
    "vegetable=\"Tomato\"\n",
    "fruit + vegetable"
   ]
  },
  {
   "cell_type": "code",
   "execution_count": 41,
   "metadata": {},
   "outputs": [
    {
     "data": {
      "text/plain": [
       "'OrangeOrangeOrange'"
      ]
     },
     "execution_count": 41,
     "metadata": {},
     "output_type": "execute_result"
    }
   ],
   "source": [
    "fruit*3"
   ]
  },
  {
   "cell_type": "markdown",
   "metadata": {},
   "source": [
    "**addition operation in-place**"
   ]
  },
  {
   "cell_type": "code",
   "execution_count": 42,
   "metadata": {},
   "outputs": [
    {
     "data": {
      "text/plain": [
       "'OrangeApple'"
      ]
     },
     "execution_count": 42,
     "metadata": {},
     "output_type": "execute_result"
    }
   ],
   "source": [
    "fruit = \"Orange\"\n",
    "fruit +=\"Apple\"\n",
    "fruit"
   ]
  },
  {
   "cell_type": "markdown",
   "metadata": {},
   "source": [
    "#### 2. % Operator"
   ]
  },
  {
   "cell_type": "markdown",
   "metadata": {},
   "source": [
    "`% operator` gets the values and prints in order using several characters. "
   ]
  },
  {
   "cell_type": "raw",
   "metadata": {},
   "source": [
    "s, d and f characters to specify data type in string.\n",
    "• `s` syntax is for 'string'.\n",
    "• `f` syntax is for 'float'. \n",
    "• `d` syntax is for 'numeric'."
   ]
  },
  {
   "cell_type": "markdown",
   "metadata": {},
   "source": [
    "`%d format`"
   ]
  },
  {
   "cell_type": "code",
   "execution_count": 24,
   "metadata": {},
   "outputs": [
    {
     "data": {
      "text/plain": [
       "'I have 4 kids'"
      ]
     },
     "execution_count": 24,
     "metadata": {},
     "output_type": "execute_result"
    }
   ],
   "source": [
    "\"I have %d kids\" % 4"
   ]
  },
  {
   "cell_type": "code",
   "execution_count": 19,
   "metadata": {},
   "outputs": [
    {
     "data": {
      "text/plain": [
       "'I have 4 children'"
      ]
     },
     "execution_count": 19,
     "metadata": {},
     "output_type": "execute_result"
    }
   ],
   "source": [
    "\"I have %d children\" % 4"
   ]
  },
  {
   "cell_type": "code",
   "execution_count": 18,
   "metadata": {},
   "outputs": [
    {
     "data": {
      "text/plain": [
       "'gece saat  4 gece çalışıyorum'"
      ]
     },
     "execution_count": 18,
     "metadata": {},
     "output_type": "execute_result"
    }
   ],
   "source": [
    "\"gece saat % d gece % s\" % (4,\"çalışıyorum\")"
   ]
  },
  {
   "cell_type": "markdown",
   "metadata": {},
   "source": [
    "`%s format`"
   ]
  },
  {
   "cell_type": "code",
   "execution_count": 2,
   "metadata": {},
   "outputs": [
    {
     "data": {
      "text/plain": [
       "'Give me 4 euro'"
      ]
     },
     "execution_count": 2,
     "metadata": {},
     "output_type": "execute_result"
    }
   ],
   "source": [
    "\"Give me 4 %s\" %(\"euro\")"
   ]
  },
  {
   "cell_type": "code",
   "execution_count": 12,
   "metadata": {
    "scrolled": true
   },
   "outputs": [
    {
     "data": {
      "text/plain": [
       "'I have 4 children and 5.0 brothers'"
      ]
     },
     "execution_count": 12,
     "metadata": {},
     "output_type": "execute_result"
    }
   ],
   "source": [
    "'I have %d %s and %.1f brothers' % (4, \"children\", 5)  # 2 digits after point."
   ]
  },
  {
   "cell_type": "raw",
   "metadata": {},
   "source": [
    "% operator:\n",
    "1st % takes '4' puts in 1st % operator, \n",
    "2nd % takes 'children' and puts in 2nd % operator \n",
    "3rd % takes '5' and puts it in 3rd % operator."
   ]
  },
  {
   "cell_type": "markdown",
   "metadata": {},
   "source": [
    "### `Limit` the character numbers of the strings. "
   ]
  },
  {
   "cell_type": "code",
   "execution_count": 20,
   "metadata": {},
   "outputs": [],
   "source": [
    "sentence = \"apologizing is a virtue\""
   ]
  },
  {
   "cell_type": "code",
   "execution_count": 26,
   "metadata": {},
   "outputs": [
    {
     "data": {
      "text/plain": [
       "'apologizing is a virtue'"
      ]
     },
     "execution_count": 26,
     "metadata": {},
     "output_type": "execute_result"
    }
   ],
   "source": [
    "\"%s\" % sentence"
   ]
  },
  {
   "cell_type": "code",
   "execution_count": 27,
   "metadata": {
    "scrolled": true
   },
   "outputs": [
    {
     "data": {
      "text/plain": [
       "'a'"
      ]
     },
     "execution_count": 27,
     "metadata": {},
     "output_type": "execute_result"
    }
   ],
   "source": [
    "\"%.1s\" % sentence "
   ]
  },
  {
   "cell_type": "code",
   "execution_count": 10,
   "metadata": {},
   "outputs": [
    {
     "data": {
      "text/plain": [
       "'apologizing'"
      ]
     },
     "execution_count": 10,
     "metadata": {},
     "output_type": "execute_result"
    }
   ],
   "source": [
    "\"%.11s\"%(sentence) ## we get first 11 characters of the string"
   ]
  },
  {
   "cell_type": "code",
   "execution_count": 33,
   "metadata": {},
   "outputs": [
    {
     "data": {
      "text/plain": [
       "'apologizing is a virtue'"
      ]
     },
     "execution_count": 33,
     "metadata": {},
     "output_type": "execute_result"
    }
   ],
   "source": [
    "\"%s\" % sentence"
   ]
  },
  {
   "cell_type": "code",
   "execution_count": 37,
   "metadata": {},
   "outputs": [
    {
     "data": {
      "text/plain": [
       "'is'"
      ]
     },
     "execution_count": 37,
     "metadata": {},
     "output_type": "execute_result"
    }
   ],
   "source": [
    "sentence[12:14]"
   ]
  },
  {
   "cell_type": "markdown",
   "metadata": {},
   "source": [
    "#### Dictionary type format"
   ]
  },
  {
   "cell_type": "markdown",
   "metadata": {},
   "source": [
    "Assigning values to variables (amount and fruit) in curly braces '{}'. "
   ]
  },
  {
   "cell_type": "code",
   "execution_count": 43,
   "metadata": {},
   "outputs": [
    {
     "data": {
      "text/plain": [
       "'gece saat 4 çalışıyorum'"
      ]
     },
     "execution_count": 43,
     "metadata": {},
     "output_type": "execute_result"
    }
   ],
   "source": [
    "\"gece saat %(saat)d %(activity)s\" %{\"saat\" :4, \"activity\": \"çalışıyorum\"}"
   ]
  },
  {
   "cell_type": "markdown",
   "metadata": {},
   "source": [
    "### 3. string.format() method"
   ]
  },
  {
   "cell_type": "raw",
   "metadata": {},
   "source": [
    "More readable\n",
    "👉 Curly braces {} receives values from .format() in order."
   ]
  },
  {
   "cell_type": "code",
   "execution_count": 18,
   "metadata": {},
   "outputs": [
    {
     "data": {
      "text/plain": [
       "\"How you do'in man! 4\""
      ]
     },
     "execution_count": 18,
     "metadata": {},
     "output_type": "execute_result"
    }
   ],
   "source": [
    "\"How you do'in man! %d\" %(4)"
   ]
  },
  {
   "cell_type": "code",
   "execution_count": 44,
   "metadata": {},
   "outputs": [],
   "source": [
    "fruit = 'orange'\n",
    "vegetable = 'Tomato'\n",
    "amount = 4"
   ]
  },
  {
   "cell_type": "code",
   "execution_count": 46,
   "metadata": {},
   "outputs": [
    {
     "data": {
      "text/plain": [
       "'The amount of orange we bought is 4 pounds'"
      ]
     },
     "execution_count": 46,
     "metadata": {},
     "output_type": "execute_result"
    }
   ],
   "source": [
    "'The amount of {} we bought is {} pounds'.format(fruit, amount)"
   ]
  },
  {
   "cell_type": "raw",
   "metadata": {},
   "source": [
    "💡 Keyword arguments called by their names. \n",
    "\n",
    "Using keywords in 👉🏻{} makes string more readable. Keywords doesn't have to be in order."
   ]
  },
  {
   "cell_type": "code",
   "execution_count": 14,
   "metadata": {},
   "outputs": [
    {
     "data": {
      "text/plain": [
       "'California is the most crowded state of the USA'"
      ]
     },
     "execution_count": 14,
     "metadata": {},
     "output_type": "execute_result"
    }
   ],
   "source": [
    "'{state} is the most {adjective} state of the {country}'.format (state='California', country='USA', adjective='crowded')"
   ]
  },
  {
   "cell_type": "markdown",
   "metadata": {},
   "source": [
    "`Combining` posar and kwar"
   ]
  },
  {
   "cell_type": "markdown",
   "metadata": {},
   "source": [
    "⚠️Avoid ! : Be careful not to write kws before positional arguments."
   ]
  },
  {
   "cell_type": "code",
   "execution_count": 15,
   "metadata": {},
   "outputs": [
    {
     "data": {
      "text/plain": [
       "'California is the most crowded state of the USA'"
      ]
     },
     "execution_count": 15,
     "metadata": {},
     "output_type": "execute_result"
    }
   ],
   "source": [
    "'{0} is the most {adjective} state of the {country}'.format('California',  country='USA', adjective='crowded')"
   ]
  },
  {
   "cell_type": "markdown",
   "metadata": {},
   "source": [
    "`Using same variable` in a string more than once. Also, you can select the objects by referring to their positions in brackets."
   ]
  },
  {
   "cell_type": "code",
   "execution_count": 16,
   "metadata": {
    "scrolled": true
   },
   "outputs": [
    {
     "name": "stdout",
     "output_type": "stream",
     "text": [
      "I will have found a job in 6 months\n"
     ]
    }
   ],
   "source": [
    "print(\"{6} {0} {5} {3} {4} {1} {2}\".format('have', 6 , 'months', 'a job', 'in', 'found', 'I will'))"
   ]
  },
  {
   "cell_type": "markdown",
   "metadata": {},
   "source": [
    "`format()` method is too wordy in multiple parameters and longer strings: `f-string` comes in. "
   ]
  },
  {
   "cell_type": "code",
   "execution_count": 47,
   "metadata": {},
   "outputs": [
    {
     "data": {
      "text/plain": [
       "'gel babam'"
      ]
     },
     "execution_count": 47,
     "metadata": {},
     "output_type": "execute_result"
    }
   ],
   "source": [
    "\"gel babam\""
   ]
  },
  {
   "cell_type": "code",
   "execution_count": 50,
   "metadata": {},
   "outputs": [
    {
     "data": {
      "text/plain": [
       "'gel babam'"
      ]
     },
     "execution_count": 50,
     "metadata": {},
     "output_type": "execute_result"
    }
   ],
   "source": [
    "\"gel {relative}\" .format(relative = \"babam\")"
   ]
  },
  {
   "cell_type": "markdown",
   "metadata": {},
   "source": [
    "### 4. String formatting with 'f-string'"
   ]
  },
  {
   "cell_type": "raw",
   "metadata": {},
   "source": [
    "👉 Easiest method, introduced in 2015 with P3.6.\n",
    "\n",
    "💡 f-string is the string syntax that is enclosed in quotes with a letter f at the beginning.\n",
    "\n",
    "Curly braces 👉🏻{} that contain variables are used to replace with their values."
   ]
  },
  {
   "cell_type": "markdown",
   "metadata": {},
   "source": [
    "Formula syntax is : `f\"strings` `{variable1}` {variable2} string {variable3}\" "
   ]
  },
  {
   "cell_type": "code",
   "execution_count": 25,
   "metadata": {},
   "outputs": [],
   "source": [
    "fruit = 'Orange'\n",
    "vegetable = 'Tomato'\n",
    "amount = 6"
   ]
  },
  {
   "cell_type": "code",
   "execution_count": 18,
   "metadata": {},
   "outputs": [
    {
     "data": {
      "text/plain": [
       "'The amount of Orange and Tomato we bought are totally 6 pounds'"
      ]
     },
     "execution_count": 18,
     "metadata": {},
     "output_type": "execute_result"
    }
   ],
   "source": [
    "f\"The amount of {fruit} and {vegetable} we bought are totally {amount} pounds\""
   ]
  },
  {
   "cell_type": "markdown",
   "metadata": {},
   "source": [
    "👉🏻 You can use all valid expressions, variables, and even methods in curly braces. "
   ]
  },
  {
   "cell_type": "code",
   "execution_count": 28,
   "metadata": {},
   "outputs": [
    {
     "data": {
      "text/plain": [
       "'20'"
      ]
     },
     "execution_count": 28,
     "metadata": {},
     "output_type": "execute_result"
    }
   ],
   "source": [
    "f\"{4*5}\""
   ]
  },
  {
   "cell_type": "code",
   "execution_count": 35,
   "metadata": {},
   "outputs": [],
   "source": [
    "name=\"joseph\""
   ]
  },
  {
   "cell_type": "code",
   "execution_count": 36,
   "metadata": {
    "scrolled": true
   },
   "outputs": [
    {
     "data": {
      "text/plain": [
       "'My name is Joseph'"
      ]
     },
     "execution_count": 36,
     "metadata": {},
     "output_type": "execute_result"
    }
   ],
   "source": [
    "f\"My name is {name.capitalize()}\""
   ]
  },
  {
   "cell_type": "markdown",
   "metadata": {},
   "source": [
    "👉🏻 Multiline f-string formatting style. "
   ]
  },
  {
   "cell_type": "code",
   "execution_count": 37,
   "metadata": {},
   "outputs": [],
   "source": [
    "job = \"teachers\"\n",
    "domain = \"Data Science\""
   ]
  },
  {
   "cell_type": "code",
   "execution_count": 40,
   "metadata": {},
   "outputs": [
    {
     "data": {
      "text/plain": [
       "'Hi joseph. You are one of the teachers in the Data Science section'"
      ]
     },
     "execution_count": 40,
     "metadata": {},
     "output_type": "execute_result"
    }
   ],
   "source": [
    "f\"Hi {name}. You are one of the {job} in the {domain} section\""
   ]
  },
  {
   "cell_type": "code",
   "execution_count": 48,
   "metadata": {},
   "outputs": [
    {
     "name": "stdout",
     "output_type": "stream",
     "text": [
      "Hi joseph. You're one of the teachers in the Data Science section\n"
     ]
    }
   ],
   "source": [
    "print(f\"Hi {name}. \"\n",
    "f\"You're one of the {job} \"\n",
    "f\"in the {domain} section\")"
   ]
  },
  {
   "cell_type": "raw",
   "metadata": {},
   "source": [
    "💡 If we don't use print function it only takes the last line. \n",
    "\n",
    "To get all liners without print function you may use backlash."
   ]
  },
  {
   "cell_type": "markdown",
   "metadata": {},
   "source": [
    "👉🏻 Multiple f-string formatting lines without parentheses--> `backslash 🏻\\` between lines."
   ]
  },
  {
   "cell_type": "code",
   "execution_count": 54,
   "metadata": {},
   "outputs": [
    {
     "data": {
      "text/plain": [
       "\"Hi joseph.You're one of the teachersin the Data Science section.\""
      ]
     },
     "execution_count": 54,
     "metadata": {},
     "output_type": "execute_result"
    }
   ],
   "source": [
    "f\"Hi {name}.\" \\\n",
    "f\"You're one of the {job}\" \\\n",
    "f\"in the {domain} section.\""
   ]
  },
  {
   "cell_type": "code",
   "execution_count": 5,
   "metadata": {},
   "outputs": [
    {
     "name": "stdout",
     "output_type": "stream",
     "text": [
      " We will get to port by taxi and paid it cash and go to Crete by ferryboat.\n"
     ]
    }
   ],
   "source": [
    "transportation = \"taxi\"\n",
    "payment_method = \"cash\"\n",
    "means = \"ferryboat\"\n",
    "phrase = f\" We will get to port by {transportation} and paid it {payment_method} and go to Crete by {means}.\"\n",
    "print(phrase)"
   ]
  },
  {
   "cell_type": "code",
   "execution_count": 58,
   "metadata": {},
   "outputs": [
    {
     "name": "stdout",
     "output_type": "stream",
     "text": [
      " Today we go to Crete with ferryboat in the middle of night.\n"
     ]
    }
   ],
   "source": [
    "who = \"we\"\n",
    "means = \"ferryboat\"\n",
    "place = \"Crete\"\n",
    "message = (\n",
    "f\" Today {who} go \"\n",
    "    f\"to {place} \"\n",
    "    f\"with {means} in the middle of night.\"\n",
    "  )\n",
    "print(message)"
   ]
  },
  {
   "cell_type": "markdown",
   "metadata": {},
   "source": [
    "## 5. Summary"
   ]
  },
  {
   "cell_type": "code",
   "execution_count": 37,
   "metadata": {
    "scrolled": true
   },
   "outputs": [
    {
     "name": "stdout",
     "output_type": "stream",
     "text": [
      "The diameter of Earth is 12742 kilometers.\n",
      "The diameter of Earth is 12742 kilometers.\n",
      "The diameter of Earth is 12742 kilometers.\n"
     ]
    }
   ],
   "source": [
    "planet = \"Earth\"\n",
    "diameter = 12742\n",
    "print(\"The diameter of %s is %d kilometers.\"%(planet, diameter))# %operator \n",
    "print(\"The diameter of {} is {} kilometers.\".format(planet, diameter)) # string.format() method\n",
    "print(f\"The diameter of {planet} is {diameter} kilometers.\") # f-string method"
   ]
  },
  {
   "cell_type": "markdown",
   "metadata": {},
   "source": [
    "# Escape Characters"
   ]
  },
  {
   "cell_type": "raw",
   "metadata": {},
   "source": [
    "• In Python strings, the backslash \"\\\" is a special character, also called the \"escape\" character. \n",
    "\n",
    "• It is used in representing certain whitespace characters like \"\\t\" and \"\\n\". "
   ]
  },
  {
   "cell_type": "code",
   "execution_count": null,
   "metadata": {},
   "outputs": [],
   "source": [
    "An escape character is a backslash \\ followed by the character you want to insert."
   ]
  },
  {
   "cell_type": "raw",
   "metadata": {},
   "source": [
    "👉 Backslash (\\) behaves according to the character immediately after. "
   ]
  },
  {
   "cell_type": "raw",
   "metadata": {},
   "source": [
    "👉 Here are basic escape characters:\n",
    "    • \\n : means new extra line.\n",
    "    • \\t : means tab mark (it is the escape sequence for the Horizontal Tab character).\n",
    "    • \\b : means backspace. It moves the cursor one character to the left.\n",
    "    • \\r : means a carriage return."
   ]
  },
  {
   "cell_type": "code",
   "execution_count": 2,
   "metadata": {},
   "outputs": [
    {
     "name": "stdout",
     "output_type": "stream",
     "text": [
      "C:\n",
      "ovember\n",
      "umber_expenditure.txt\n"
     ]
    }
   ],
   "source": [
    "print('C:\\november\\number_expenditure.txt')#without escape character \"\\\" it passes to new line because of \"\\n\".\n",
    "                                            # end = \"|n\" is a default argument for passing to new line in print() function."
   ]
  },
  {
   "cell_type": "code",
   "execution_count": 3,
   "metadata": {
    "scrolled": true
   },
   "outputs": [
    {
     "name": "stdout",
     "output_type": "stream",
     "text": [
      "C:\\november\n",
      "umber_expenditure.txt\n"
     ]
    }
   ],
   "source": [
    "print('C:\\\\november\\number_expenditure.txt')#now we used escape char \"\\\" so it doesnt pass to new line in the first"
   ]
  },
  {
   "cell_type": "code",
   "execution_count": 1,
   "metadata": {
    "scrolled": true
   },
   "outputs": [
    {
     "name": "stdout",
     "output_type": "stream",
     "text": [
      "C:\\november\\number_expenditure.txt\n"
     ]
    }
   ],
   "source": [
    "print('C:\\\\november\\\\number_expenditure.txt')"
   ]
  },
  {
   "cell_type": "markdown",
   "metadata": {},
   "source": [
    "## When to use escape character?"
   ]
  },
  {
   "cell_type": "raw",
   "metadata": {},
   "source": [
    "👉 We use it to insert characters that are illegal to write, like;\n",
    "    • \"\\n\"\n",
    "    • Double quote within double quote\n",
    "    • Single quoto within single quote"
   ]
  },
  {
   "cell_type": "code",
   "execution_count": 1,
   "metadata": {
    "scrolled": true
   },
   "outputs": [
    {
     "ename": "SyntaxError",
     "evalue": "invalid syntax (<ipython-input-1-56cdf4283a8e>, line 1)",
     "output_type": "error",
     "traceback": [
      "\u001b[1;36m  File \u001b[1;32m\"<ipython-input-1-56cdf4283a8e>\"\u001b[1;36m, line \u001b[1;32m1\u001b[0m\n\u001b[1;33m    txt = \"We are the so-called \"Vikings\" from the north.\"\u001b[0m\n\u001b[1;37m                                       ^\u001b[0m\n\u001b[1;31mSyntaxError\u001b[0m\u001b[1;31m:\u001b[0m invalid syntax\n"
     ]
    }
   ],
   "source": [
    "txt = \"We are the so-called \"Vikings\" from the north.\""
   ]
  },
  {
   "cell_type": "markdown",
   "metadata": {},
   "source": [
    "To fix this problem, use the escape character"
   ]
  },
  {
   "cell_type": "code",
   "execution_count": 2,
   "metadata": {},
   "outputs": [],
   "source": [
    "txt = \"We are the so-called \\\"Vikings\\\" from the north.\"#escape character \\ allows to use double quotas inside double quota"
   ]
  },
  {
   "cell_type": "code",
   "execution_count": 5,
   "metadata": {},
   "outputs": [
    {
     "name": "stdout",
     "output_type": "stream",
     "text": [
      "it's funny to learn Python\n"
     ]
    }
   ],
   "source": [
    "print('it\\'s funny to learn Python') "
   ]
  },
  {
   "cell_type": "markdown",
   "metadata": {},
   "source": [
    "### \\b backspace"
   ]
  },
  {
   "cell_type": "raw",
   "metadata": {},
   "source": [
    "💡 Remember: Normally print() function separates expressions by spaces \" \"."
   ]
  },
  {
   "cell_type": "code",
   "execution_count": 14,
   "metadata": {},
   "outputs": [
    {
     "name": "stdout",
     "output_type": "stream",
     "text": [
      "we are united\n"
     ]
    }
   ],
   "source": [
    "print(\"we\", \"are\", \"united\", sep = \" \")"
   ]
  },
  {
   "cell_type": "code",
   "execution_count": 15,
   "metadata": {},
   "outputs": [
    {
     "name": "stdout",
     "output_type": "stream",
     "text": [
      "we \bare \bunited\n"
     ]
    }
   ],
   "source": [
    "print('we', '\\bare', '\\bunited', sep = \" \")"
   ]
  },
  {
   "cell_type": "code",
   "execution_count": 16,
   "metadata": {},
   "outputs": [
    {
     "name": "stdout",
     "output_type": "stream",
     "text": [
      "weareunited\n"
     ]
    }
   ],
   "source": [
    "print(\"we\", \"are\", \"united\", sep = \"\")"
   ]
  },
  {
   "cell_type": "raw",
   "metadata": {},
   "source": [
    "⚠️Avoid ! : Using 👉🏻\\ in the long string cause error, using 👉🏻\\\\ guarantees no error."
   ]
  },
  {
   "cell_type": "code",
   "execution_count": 19,
   "metadata": {},
   "outputs": [
    {
     "name": "stdout",
     "output_type": "stream",
     "text": [
      "amanın yav\n",
      "amanın \byav\n"
     ]
    }
   ],
   "source": [
    "print(\"amanın yav\")\n",
    "print(\"amanın \\byav\")"
   ]
  },
  {
   "cell_type": "markdown",
   "metadata": {},
   "source": [
    "### \\t tab"
   ]
  },
  {
   "cell_type": "code",
   "execution_count": 2,
   "metadata": {},
   "outputs": [
    {
     "name": "stdout",
     "output_type": "stream",
     "text": [
      "one\ttwo\tthree\n"
     ]
    }
   ],
   "source": [
    "print(\"one\", \"two\", \"three\", sep=\"\\t\") # separated by tab marks"
   ]
  },
  {
   "cell_type": "code",
   "execution_count": 3,
   "metadata": {},
   "outputs": [
    {
     "name": "stdout",
     "output_type": "stream",
     "text": [
      "Hello\tWorld!\n"
     ]
    }
   ],
   "source": [
    "txt = \"Hello\\tWorld!\"\n",
    "print(txt) "
   ]
  },
  {
   "cell_type": "code",
   "execution_count": 11,
   "metadata": {},
   "outputs": [
    {
     "data": {
      "text/plain": [
       "'Hello\\tWorld'"
      ]
     },
     "execution_count": 11,
     "metadata": {},
     "output_type": "execute_result"
    }
   ],
   "source": [
    "\"Hello\\tWorld\" # görüldüğü üzere escape characters work in print function. "
   ]
  },
  {
   "cell_type": "code",
   "execution_count": null,
   "metadata": {},
   "outputs": [],
   "source": []
  },
  {
   "cell_type": "markdown",
   "metadata": {},
   "source": [
    "### \\n newline"
   ]
  },
  {
   "cell_type": "markdown",
   "metadata": {},
   "source": [
    "Escape charecter \\ with n, \\n means new extra line"
   ]
  },
  {
   "cell_type": "code",
   "execution_count": 5,
   "metadata": {},
   "outputs": [
    {
     "name": "stdout",
     "output_type": "stream",
     "text": [
      "Hello\n",
      "World!\n"
     ]
    }
   ],
   "source": [
    "txt = \"Hello\\nWorld!\"\n",
    "print(txt) "
   ]
  },
  {
   "cell_type": "code",
   "execution_count": 6,
   "metadata": {},
   "outputs": [
    {
     "name": "stdout",
     "output_type": "stream",
     "text": [
      "new extra line works with \n",
      " write and see\n"
     ]
    }
   ],
   "source": [
    "print(\"new extra line works with \\n write and see\")"
   ]
  },
  {
   "cell_type": "code",
   "execution_count": null,
   "metadata": {},
   "outputs": [],
   "source": []
  },
  {
   "cell_type": "code",
   "execution_count": 6,
   "metadata": {},
   "outputs": [
    {
     "name": "stdout",
     "output_type": "stream",
     "text": [
      "I am 40 years old.\n",
      "\tI have two children.\n",
      "\t\tData Science is my IT domain.\n"
     ]
    }
   ],
   "source": [
    "escapes = [\"\\n\\t\", (\"\\t\", \"\\t\\t\"), [\"\\n\", \"\\n\\t\\t\"]]\n",
    "\n",
    "sentence = \"I am 40 years old.{}I have two children.{}Data Science is my IT domain.\".format(escapes[0], escapes[2][1])\n",
    "\n",
    "print(sentence)"
   ]
  },
  {
   "cell_type": "markdown",
   "metadata": {},
   "source": [
    "#### Python basics question-w3 resource"
   ]
  },
  {
   "cell_type": "raw",
   "metadata": {},
   "source": [
    "Write a Python program to print the following string in a specific format (see the output). Go to the editor\n",
    "Sample String : \"Twinkle, twinkle, little star, How I wonder what you are! Up above the world so high, Like a diamond in the sky. Twinkle, twinkle, little star, How I wonder what you are\" Output :\n",
    "\n",
    "Twinkle, twinkle, little star,\n",
    "\tHow I wonder what you are! \n",
    "\t\tUp above the world so high,   \n",
    "\t\tLike a diamond in the sky. \n",
    "Twinkle, twinkle, little star, \n",
    "\tHow I wonder what you are"
   ]
  },
  {
   "cell_type": "code",
   "execution_count": 7,
   "metadata": {},
   "outputs": [
    {
     "name": "stdout",
     "output_type": "stream",
     "text": [
      "Twinkle, twinkle, little star, \n",
      "\t How I wonder what you are! \n",
      "\t\t Up above the world so high, \n",
      "\t\t Like a diamond in the sky. \n",
      "Twinkle, twinkle, little star, \n",
      "\tHow I wonder what you are\n"
     ]
    }
   ],
   "source": [
    "print(\"Twinkle, twinkle, little star, \\n\\t How I wonder what you are! \\n\\t\\t Up above the world so high, \\n\\t\\t Like a diamond in the sky. \\nTwinkle, twinkle, little star, \\n\\tHow I wonder what you are\")"
   ]
  },
  {
   "cell_type": "raw",
   "metadata": {},
   "source": [
    "Write an expression for a string literal consisting of the following ASCII characters:\n",
    "\n",
    "Horizontal Tab character\n",
    "Newline (ASCII Linefeed) character\n",
    "The character with hexadecimal value 7E"
   ]
  },
  {
   "cell_type": "code",
   "execution_count": 13,
   "metadata": {},
   "outputs": [
    {
     "name": "stdout",
     "output_type": "stream",
     "text": [
      "\t\n",
      "x7E\n"
     ]
    }
   ],
   "source": [
    "print(\"\\t\\nx7E\")"
   ]
  },
  {
   "cell_type": "code",
   "execution_count": 14,
   "metadata": {},
   "outputs": [
    {
     "data": {
      "text/plain": [
       "'\\t\\n~'"
      ]
     },
     "execution_count": 14,
     "metadata": {},
     "output_type": "execute_result"
    }
   ],
   "source": [
    "\"\\t\\n\\x7E\""
   ]
  },
  {
   "cell_type": "code",
   "execution_count": 15,
   "metadata": {},
   "outputs": [
    {
     "name": "stdout",
     "output_type": "stream",
     "text": [
      "\t\n",
      "~\n"
     ]
    }
   ],
   "source": [
    "print(\"\\t\\n\\x7E\")"
   ]
  },
  {
   "cell_type": "raw",
   "metadata": {},
   "source": [
    "To specify a character by hexadecimal value, use '\\xhh', where hh specifies the hexadecimal digits."
   ]
  },
  {
   "cell_type": "code",
   "execution_count": 17,
   "metadata": {},
   "outputs": [
    {
     "data": {
      "text/plain": [
       "126"
      ]
     },
     "execution_count": 17,
     "metadata": {},
     "output_type": "execute_result"
    }
   ],
   "source": [
    "0x7E"
   ]
  },
  {
   "cell_type": "raw",
   "metadata": {},
   "source": [
    "x is used to define (one byte) hexadecimal literals in strings, for example:"
   ]
  },
  {
   "cell_type": "code",
   "execution_count": 19,
   "metadata": {},
   "outputs": [
    {
     "data": {
      "text/plain": [
       "'a'"
      ]
     },
     "execution_count": 19,
     "metadata": {},
     "output_type": "execute_result"
    }
   ],
   "source": [
    "'\\x61' # will evaluate to 'a', because 61 is the hexadecimal value of 97, which represents a in ASCII"
   ]
  },
  {
   "cell_type": "raw",
   "metadata": {},
   "source": [
    "REPL stands for Read Evaluate Print Loop, and is the name given to the interactive MicroPython prompt that is accessible on the Pycom devices. Using the REPL is by far the easiest way to test out Python code and run commands. You can use the REPL in addition to writing scripts in main.py ."
   ]
  },
  {
   "cell_type": "code",
   "execution_count": 21,
   "metadata": {},
   "outputs": [
    {
     "name": "stdout",
     "output_type": "stream",
     "text": [
      "foo\\\\bar\\nbaz\n"
     ]
    }
   ],
   "source": [
    "print(r'foo\\\\bar\\nbaz')"
   ]
  },
  {
   "cell_type": "code",
   "execution_count": null,
   "metadata": {},
   "outputs": [],
   "source": []
  },
  {
   "cell_type": "code",
   "execution_count": null,
   "metadata": {},
   "outputs": [],
   "source": []
  },
  {
   "cell_type": "code",
   "execution_count": null,
   "metadata": {},
   "outputs": [],
   "source": []
  },
  {
   "cell_type": "code",
   "execution_count": null,
   "metadata": {},
   "outputs": [],
   "source": []
  },
  {
   "cell_type": "markdown",
   "metadata": {},
   "source": [
    "# String Methods"
   ]
  },
  {
   "cell_type": "raw",
   "metadata": {},
   "source": [
    "`Method` is like a function, except it is attached to an object. \n",
    "\n",
    "Method is called on an object, and it makes changes to that object. A method, then, belongs to a class.\n",
    "\n",
    "Tab --> I'll get a result of all the available methods on this string object"
   ]
  },
  {
   "cell_type": "markdown",
   "metadata": {},
   "source": [
    "## `Searching a string`"
   ]
  },
  {
   "cell_type": "raw",
   "metadata": {},
   "source": [
    "• startswith() method\n",
    "• endswith() method\n",
    "• index() method\n",
    "• count() method\n",
    "• find() method\n",
    "• isalpha() method\n",
    "• isdigit() method"
   ]
  },
  {
   "cell_type": "code",
   "execution_count": 19,
   "metadata": {},
   "outputs": [
    {
     "data": {
      "text/plain": [
       "True"
      ]
     },
     "execution_count": 19,
     "metadata": {},
     "output_type": "execute_result"
    }
   ],
   "source": [
    "company.startswith(\"C\")"
   ]
  },
  {
   "cell_type": "code",
   "execution_count": 21,
   "metadata": {},
   "outputs": [
    {
     "data": {
      "text/plain": [
       "True"
      ]
     },
     "execution_count": 21,
     "metadata": {},
     "output_type": "execute_result"
    }
   ],
   "source": [
    "company.endswith(\"y\")"
   ]
  },
  {
   "cell_type": "code",
   "execution_count": 22,
   "metadata": {},
   "outputs": [
    {
     "data": {
      "text/plain": [
       "0"
      ]
     },
     "execution_count": 22,
     "metadata": {},
     "output_type": "execute_result"
    }
   ],
   "source": [
    "company.index(\"C\")"
   ]
  },
  {
   "cell_type": "code",
   "execution_count": 24,
   "metadata": {},
   "outputs": [
    {
     "data": {
      "text/plain": [
       "2"
      ]
     },
     "execution_count": 24,
     "metadata": {},
     "output_type": "execute_result"
    }
   ],
   "source": [
    "company.count(\"a\")"
   ]
  },
  {
   "cell_type": "markdown",
   "metadata": {},
   "source": [
    "## startswith () method"
   ]
  },
  {
   "cell_type": "raw",
   "metadata": {},
   "source": [
    "This method is used to search patterns in a string.\n",
    "\n",
    "👉🏻 It searches for the particular pattern in the immediate beginning of a string.\n",
    "\n",
    "👉🏻 Return True if string starts with the specified prefix, False otherwise."
   ]
  },
  {
   "cell_type": "raw",
   "metadata": {},
   "source": [
    "• string.startswith(prefix[, start[, end]])"
   ]
  },
  {
   "cell_type": "markdown",
   "metadata": {},
   "source": [
    "👉🏻 It is not important to declare the end point in this method. "
   ]
  },
  {
   "cell_type": "code",
   "execution_count": 1,
   "metadata": {},
   "outputs": [],
   "source": [
    "text = 'www.clarusway.com'"
   ]
  },
  {
   "cell_type": "code",
   "execution_count": 2,
   "metadata": {},
   "outputs": [
    {
     "data": {
      "text/plain": [
       "True"
      ]
     },
     "execution_count": 2,
     "metadata": {},
     "output_type": "execute_result"
    }
   ],
   "source": [
    "text.startswith(\"w\")"
   ]
  },
  {
   "cell_type": "markdown",
   "metadata": {},
   "source": [
    "👉🏻 Add `start` and `end` args so that the area of `search is delimited`. "
   ]
  },
  {
   "cell_type": "code",
   "execution_count": 5,
   "metadata": {},
   "outputs": [
    {
     "data": {
      "text/plain": [
       "True"
      ]
     },
     "execution_count": 5,
     "metadata": {},
     "output_type": "execute_result"
    }
   ],
   "source": [
    "text.startswith(\"c\", 4, 6)"
   ]
  },
  {
   "cell_type": "code",
   "execution_count": 7,
   "metadata": {},
   "outputs": [
    {
     "name": "stdout",
     "output_type": "stream",
     "text": [
      "False\n"
     ]
    }
   ],
   "source": [
    "print(text.startswith(\"http\"))"
   ]
  },
  {
   "cell_type": "code",
   "execution_count": 8,
   "metadata": {},
   "outputs": [
    {
     "data": {
      "text/plain": [
       "True"
      ]
     },
     "execution_count": 8,
     "metadata": {},
     "output_type": "execute_result"
    }
   ],
   "source": [
    "email = \"clarusway@clarusway.com is my e-mail address\"\n",
    "email.startswith(\"@\", 9)"
   ]
  },
  {
   "cell_type": "code",
   "execution_count": 26,
   "metadata": {},
   "outputs": [],
   "source": [
    "seq = ['soup','dog','salad','cat','great']"
   ]
  },
  {
   "cell_type": "code",
   "execution_count": 30,
   "metadata": {},
   "outputs": [
    {
     "name": "stdout",
     "output_type": "stream",
     "text": [
      "soup yeah!\n",
      "salad yeah!\n"
     ]
    }
   ],
   "source": [
    "for i in seq:\n",
    "    if i.startswith(\"s\"):\n",
    "        print(i, \"yeah!\")"
   ]
  },
  {
   "cell_type": "raw",
   "metadata": {},
   "source": [
    "list comprehension: formül: [expression + for + item + in + iterable + condition]"
   ]
  },
  {
   "cell_type": "code",
   "execution_count": 39,
   "metadata": {},
   "outputs": [
    {
     "data": {
      "text/plain": [
       "['soup', 'salad']"
      ]
     },
     "execution_count": 39,
     "metadata": {},
     "output_type": "execute_result"
    }
   ],
   "source": [
    "[i for i in seq if i.startswith(\"s\")]"
   ]
  },
  {
   "cell_type": "code",
   "execution_count": 40,
   "metadata": {},
   "outputs": [
    {
     "data": {
      "text/plain": [
       "['soup', 'dog', 'salad', 'cat', 'great']"
      ]
     },
     "execution_count": 40,
     "metadata": {},
     "output_type": "execute_result"
    }
   ],
   "source": [
    "seq"
   ]
  },
  {
   "cell_type": "code",
   "execution_count": 3,
   "metadata": {},
   "outputs": [
    {
     "name": "stdout",
     "output_type": "stream",
     "text": [
      "['soup', 'salad']\n"
     ]
    }
   ],
   "source": [
    "s_seq = []\n",
    "for i in seq:\n",
    "    if i.startswith(\"s\") == True:\n",
    "        s_seq.append(i)\n",
    "print(s_seq)"
   ]
  },
  {
   "cell_type": "code",
   "execution_count": 4,
   "metadata": {},
   "outputs": [
    {
     "data": {
      "text/plain": [
       "['soup', 'salad']"
      ]
     },
     "execution_count": 4,
     "metadata": {},
     "output_type": "execute_result"
    }
   ],
   "source": [
    "[i for i in seq if i.startswith(\"s\") == True]"
   ]
  },
  {
   "cell_type": "markdown",
   "metadata": {},
   "source": [
    "### With lambda function"
   ]
  },
  {
   "cell_type": "raw",
   "metadata": {},
   "source": [
    "lambda parameters : expression"
   ]
  },
  {
   "cell_type": "code",
   "execution_count": 42,
   "metadata": {},
   "outputs": [
    {
     "data": {
      "text/plain": [
       "4"
      ]
     },
     "execution_count": 42,
     "metadata": {},
     "output_type": "execute_result"
    }
   ],
   "source": [
    "(lambda x: x**2) (2)"
   ]
  },
  {
   "cell_type": "code",
   "execution_count": 44,
   "metadata": {},
   "outputs": [
    {
     "data": {
      "text/plain": [
       "[2, 4]"
      ]
     },
     "execution_count": 44,
     "metadata": {},
     "output_type": "execute_result"
    }
   ],
   "source": [
    "nums = [1,2,3,4,5]\n",
    "list(filter(lambda x: x%2 == 0, nums))"
   ]
  },
  {
   "cell_type": "code",
   "execution_count": 46,
   "metadata": {},
   "outputs": [
    {
     "data": {
      "text/plain": [
       "['soup', 'salad']"
      ]
     },
     "execution_count": 46,
     "metadata": {},
     "output_type": "execute_result"
    }
   ],
   "source": [
    "list(filter(lambda i: i.startswith(\"s\"), seq))"
   ]
  },
  {
   "cell_type": "code",
   "execution_count": 48,
   "metadata": {},
   "outputs": [],
   "source": [
    "import pandas as pd"
   ]
  },
  {
   "cell_type": "code",
   "execution_count": 55,
   "metadata": {},
   "outputs": [
    {
     "data": {
      "text/html": [
       "<div>\n",
       "<style scoped>\n",
       "    .dataframe tbody tr th:only-of-type {\n",
       "        vertical-align: middle;\n",
       "    }\n",
       "\n",
       "    .dataframe tbody tr th {\n",
       "        vertical-align: top;\n",
       "    }\n",
       "\n",
       "    .dataframe thead th {\n",
       "        text-align: right;\n",
       "    }\n",
       "</style>\n",
       "<table border=\"1\" class=\"dataframe\">\n",
       "  <thead>\n",
       "    <tr style=\"text-align: right;\">\n",
       "      <th></th>\n",
       "      <th>A</th>\n",
       "      <th>B</th>\n",
       "      <th>C</th>\n",
       "    </tr>\n",
       "  </thead>\n",
       "  <tbody>\n",
       "    <tr>\n",
       "      <th>1</th>\n",
       "      <td>Eşek</td>\n",
       "      <td>Katır</td>\n",
       "      <td>At</td>\n",
       "    </tr>\n",
       "    <tr>\n",
       "      <th>2</th>\n",
       "      <td>Aslan</td>\n",
       "      <td>Kaplan</td>\n",
       "      <td>Çıta</td>\n",
       "    </tr>\n",
       "    <tr>\n",
       "      <th>3</th>\n",
       "      <td>Kurt</td>\n",
       "      <td>Çakal</td>\n",
       "      <td>Köpek</td>\n",
       "    </tr>\n",
       "  </tbody>\n",
       "</table>\n",
       "</div>"
      ],
      "text/plain": [
       "       A       B      C\n",
       "1   Eşek   Katır     At\n",
       "2  Aslan  Kaplan   Çıta\n",
       "3   Kurt   Çakal  Köpek"
      ]
     },
     "execution_count": 55,
     "metadata": {},
     "output_type": "execute_result"
    }
   ],
   "source": [
    "pd.DataFrame(data =[(\"Eşek\",\"Katır\",\"At\"), (\"Aslan\",\"Kaplan\",\"Çıta\"), (\"Kurt\",\"Çakal\",\"Köpek\")] , index = [1,2,3] , columns = [\"A\", \"B\", \"C\"])"
   ]
  },
  {
   "cell_type": "code",
   "execution_count": 59,
   "metadata": {},
   "outputs": [
    {
     "data": {
      "text/html": [
       "<div>\n",
       "<style scoped>\n",
       "    .dataframe tbody tr th:only-of-type {\n",
       "        vertical-align: middle;\n",
       "    }\n",
       "\n",
       "    .dataframe tbody tr th {\n",
       "        vertical-align: top;\n",
       "    }\n",
       "\n",
       "    .dataframe thead th {\n",
       "        text-align: right;\n",
       "    }\n",
       "</style>\n",
       "<table border=\"1\" class=\"dataframe\">\n",
       "  <thead>\n",
       "    <tr style=\"text-align: right;\">\n",
       "      <th></th>\n",
       "      <th>A</th>\n",
       "      <th>B</th>\n",
       "      <th>C</th>\n",
       "    </tr>\n",
       "  </thead>\n",
       "  <tbody>\n",
       "    <tr>\n",
       "      <th>0</th>\n",
       "      <td>Eşek</td>\n",
       "      <td>Aslan</td>\n",
       "      <td>Kurt</td>\n",
       "    </tr>\n",
       "    <tr>\n",
       "      <th>1</th>\n",
       "      <td>Katır</td>\n",
       "      <td>Kaplan</td>\n",
       "      <td>Çakal</td>\n",
       "    </tr>\n",
       "    <tr>\n",
       "      <th>2</th>\n",
       "      <td>At</td>\n",
       "      <td>Çıta</td>\n",
       "      <td>Köpek</td>\n",
       "    </tr>\n",
       "  </tbody>\n",
       "</table>\n",
       "</div>"
      ],
      "text/plain": [
       "       A       B      C\n",
       "0   Eşek   Aslan   Kurt\n",
       "1  Katır  Kaplan  Çakal\n",
       "2     At    Çıta  Köpek"
      ]
     },
     "execution_count": 59,
     "metadata": {},
     "output_type": "execute_result"
    }
   ],
   "source": [
    "pd.DataFrame({\"A\": [\"Eşek\",\"Katır\",\"At\"], \"B\": [\"Aslan\",\"Kaplan\",\"Çıta\"],  \"C\": [\"Kurt\",\"Çakal\",\"Köpek\"]})"
   ]
  },
  {
   "cell_type": "code",
   "execution_count": null,
   "metadata": {},
   "outputs": [],
   "source": []
  },
  {
   "cell_type": "code",
   "execution_count": null,
   "metadata": {},
   "outputs": [],
   "source": []
  },
  {
   "cell_type": "code",
   "execution_count": null,
   "metadata": {},
   "outputs": [],
   "source": []
  },
  {
   "cell_type": "markdown",
   "metadata": {},
   "source": [
    "## endswith() method"
   ]
  },
  {
   "cell_type": "raw",
   "metadata": {},
   "source": [
    "👉🏻 It searches `particular pattern` in the `immediate end` of a string.\n",
    "\n",
    "Return True if string ends with the specified suffix, False otherwise.\n",
    "\n",
    "The formula syntax: string.endswith(value, start, end)"
   ]
  },
  {
   "cell_type": "raw",
   "metadata": {},
   "source": [
    "• value: Required. The value to check if the string ends with\n",
    "• start:Optional. An Integer specifying at which position to start the search\n",
    "• end: Optional. An Integer specifying at which position to end the search"
   ]
  },
  {
   "cell_type": "code",
   "execution_count": 31,
   "metadata": {},
   "outputs": [],
   "source": [
    "text = \"www.clarusway.com\""
   ]
  },
  {
   "cell_type": "code",
   "execution_count": 32,
   "metadata": {},
   "outputs": [
    {
     "data": {
      "text/plain": [
       "True"
      ]
     },
     "execution_count": 32,
     "metadata": {},
     "output_type": "execute_result"
    }
   ],
   "source": [
    "text.endswith(\".com\")"
   ]
  },
  {
   "cell_type": "raw",
   "metadata": {},
   "source": [
    "👉🏻 With start and end arguments area of search may be delimited. \n",
    "\n",
    "💡Tips: Characters of string count from left to right and start with zero."
   ]
  },
  {
   "cell_type": "raw",
   "metadata": {},
   "source": [
    "👉🏻 Whenever slicing the ending number always has to be 1 more than your actual location you want to handle."
   ]
  },
  {
   "cell_type": "code",
   "execution_count": 35,
   "metadata": {},
   "outputs": [
    {
     "data": {
      "text/plain": [
       "True"
      ]
     },
     "execution_count": 35,
     "metadata": {},
     "output_type": "execute_result"
    }
   ],
   "source": [
    "text.endswith(\"w\", 0, 1)"
   ]
  },
  {
   "cell_type": "code",
   "execution_count": 41,
   "metadata": {},
   "outputs": [
    {
     "data": {
      "text/plain": [
       "True"
      ]
     },
     "execution_count": 41,
     "metadata": {},
     "output_type": "execute_result"
    }
   ],
   "source": [
    "a = \"This is a string\"\n",
    "a.endswith(\"g\", 14) # 14 is start argument, finish is not specified, starting point is not important. \n",
    "                        #interpreter looks only to finish, Master Code Online Example"
   ]
  },
  {
   "cell_type": "code",
   "execution_count": 42,
   "metadata": {},
   "outputs": [
    {
     "data": {
      "text/plain": [
       "True"
      ]
     },
     "execution_count": 42,
     "metadata": {},
     "output_type": "execute_result"
    }
   ],
   "source": [
    "a.endswith(\"s\", 0, 7) # 7-ending point is space right there but whenever we use ending index it always goes one in front of that"
   ]
  },
  {
   "cell_type": "code",
   "execution_count": 43,
   "metadata": {},
   "outputs": [
    {
     "data": {
      "text/plain": [
       "' '"
      ]
     },
     "execution_count": 43,
     "metadata": {},
     "output_type": "execute_result"
    }
   ],
   "source": [
    "a[7]"
   ]
  },
  {
   "cell_type": "markdown",
   "metadata": {},
   "source": [
    "### index() method "
   ]
  },
  {
   "cell_type": "raw",
   "metadata": {},
   "source": [
    "Return the lowest index in string where substring sub is found, such that sub is contained within S[start:end].  "
   ]
  },
  {
   "cell_type": "code",
   "execution_count": 22,
   "metadata": {},
   "outputs": [
    {
     "data": {
      "text/plain": [
       "'format it man!'"
      ]
     },
     "execution_count": 22,
     "metadata": {},
     "output_type": "execute_result"
    }
   ],
   "source": [
    "text"
   ]
  },
  {
   "cell_type": "code",
   "execution_count": 18,
   "metadata": {},
   "outputs": [
    {
     "data": {
      "text/plain": [
       "0"
      ]
     },
     "execution_count": 18,
     "metadata": {},
     "output_type": "execute_result"
    }
   ],
   "source": [
    "text = \"what is index\"\n",
    "text.index(\"w\")"
   ]
  },
  {
   "cell_type": "code",
   "execution_count": 27,
   "metadata": {},
   "outputs": [
    {
     "name": "stdout",
     "output_type": "stream",
     "text": [
      "4\n"
     ]
    }
   ],
   "source": [
    "text = \"I study Python\"\n",
    "print(text.index(\"u\"))"
   ]
  },
  {
   "cell_type": "markdown",
   "metadata": {},
   "source": [
    "## count() method"
   ]
  },
  {
   "cell_type": "raw",
   "metadata": {},
   "source": [
    "👉🏻 Return the number of non-overlapping occurrences of substring sub in string S[start:end]. "
   ]
  },
  {
   "cell_type": "code",
   "execution_count": 2,
   "metadata": {},
   "outputs": [
    {
     "data": {
      "text/plain": [
       "1"
      ]
     },
     "execution_count": 2,
     "metadata": {},
     "output_type": "execute_result"
    }
   ],
   "source": [
    "s= \"hello my name is Sam\"\n",
    "s.count(\"Sam\")"
   ]
  },
  {
   "cell_type": "markdown",
   "metadata": {},
   "source": [
    "## find() method"
   ]
  },
  {
   "cell_type": "raw",
   "metadata": {},
   "source": [
    "👉🏻 Return the lowest index in String where substring is found, such that sub is contained within S[start:end]."
   ]
  },
  {
   "cell_type": "code",
   "execution_count": 4,
   "metadata": {},
   "outputs": [],
   "source": [
    "z = \"Best website is Tutorials Point\""
   ]
  },
  {
   "cell_type": "code",
   "execution_count": 5,
   "metadata": {},
   "outputs": [
    {
     "data": {
      "text/plain": [
       "16"
      ]
     },
     "execution_count": 5,
     "metadata": {},
     "output_type": "execute_result"
    }
   ],
   "source": [
    "z.find(\"Tutorials\")"
   ]
  },
  {
   "cell_type": "markdown",
   "metadata": {},
   "source": [
    "## isalpha() method"
   ]
  },
  {
   "cell_type": "raw",
   "metadata": {},
   "source": [
    "👉🏻 Return True if all characters in the string are alphabetic and there is at least one character, False otherwise. \n",
    "\n",
    "• Alphabetic characters are those characters defined in the Unicode character database as “Letter”, i.e., those with general category property being one of “Lm”, “Lt”, “Lu”, “Ll”, or “Lo”. \n",
    "\n",
    "• Note that this is different from the “Alphabetic” property defined in the Unicode Standard."
   ]
  },
  {
   "cell_type": "raw",
   "metadata": {},
   "source": [
    "Check if all the characters in the text are letters"
   ]
  },
  {
   "cell_type": "code",
   "execution_count": 31,
   "metadata": {},
   "outputs": [],
   "source": [
    "company = \"Clarusway\""
   ]
  },
  {
   "cell_type": "code",
   "execution_count": 14,
   "metadata": {},
   "outputs": [
    {
     "data": {
      "text/plain": [
       "True"
      ]
     },
     "execution_count": 14,
     "metadata": {},
     "output_type": "execute_result"
    }
   ],
   "source": [
    "company.isalpha()"
   ]
  },
  {
   "cell_type": "code",
   "execution_count": 15,
   "metadata": {},
   "outputs": [],
   "source": [
    "company = \"Clarusway2\""
   ]
  },
  {
   "cell_type": "code",
   "execution_count": 16,
   "metadata": {},
   "outputs": [
    {
     "data": {
      "text/plain": [
       "False"
      ]
     },
     "execution_count": 16,
     "metadata": {},
     "output_type": "execute_result"
    }
   ],
   "source": [
    "company.isalpha()"
   ]
  },
  {
   "cell_type": "markdown",
   "metadata": {},
   "source": [
    "### isdigit() method"
   ]
  },
  {
   "cell_type": "raw",
   "metadata": {},
   "source": [
    "👉 İsdigit string olan bir ifadeyi kontrol eder. "
   ]
  },
  {
   "cell_type": "raw",
   "metadata": {},
   "source": [
    "Return True if the string is a digit string, False otherwise. Bir tane harf varsa false verir. "
   ]
  },
  {
   "cell_type": "code",
   "execution_count": 26,
   "metadata": {},
   "outputs": [
    {
     "data": {
      "text/plain": [
       "'Clarusway2'"
      ]
     },
     "execution_count": 26,
     "metadata": {},
     "output_type": "execute_result"
    }
   ],
   "source": [
    "company"
   ]
  },
  {
   "cell_type": "code",
   "execution_count": 27,
   "metadata": {},
   "outputs": [
    {
     "data": {
      "text/plain": [
       "False"
      ]
     },
     "execution_count": 27,
     "metadata": {},
     "output_type": "execute_result"
    }
   ],
   "source": [
    "company.isdigit()"
   ]
  },
  {
   "cell_type": "code",
   "execution_count": 29,
   "metadata": {},
   "outputs": [
    {
     "data": {
      "text/plain": [
       "True"
      ]
     },
     "execution_count": 29,
     "metadata": {},
     "output_type": "execute_result"
    }
   ],
   "source": [
    "txt =\"123\"\n",
    "txt.isdigit()"
   ]
  },
  {
   "cell_type": "markdown",
   "metadata": {},
   "source": [
    "## `Changing the string`"
   ]
  },
  {
   "cell_type": "raw",
   "metadata": {},
   "source": [
    "Returning the copy of the string with some changes. \n",
    "• First: string \n",
    "• Second: method name and parentheses (arguments are listed)."
   ]
  },
  {
   "cell_type": "markdown",
   "metadata": {},
   "source": [
    "The formula syntax is : `string`.`method()`"
   ]
  },
  {
   "cell_type": "raw",
   "metadata": {},
   "source": [
    "• capitalize() method\n",
    "• replace() method\n",
    "• swapcase() method\n",
    "• upper() method\n",
    "• lower() method\n",
    "• title() method \n",
    "• format() method"
   ]
  },
  {
   "cell_type": "markdown",
   "metadata": {},
   "source": [
    "## capitalize() method"
   ]
  },
  {
   "cell_type": "raw",
   "metadata": {},
   "source": [
    "👉🏻 The capitalize() method returns a string where the first character is `upper case` and rest to lower case.\n",
    "\n",
    "Return a capitalized version of the string. More specifically, make the first character have upper case and the rest lower"
   ]
  },
  {
   "cell_type": "code",
   "execution_count": 38,
   "metadata": {},
   "outputs": [],
   "source": [
    "company = \"clarusway\""
   ]
  },
  {
   "cell_type": "code",
   "execution_count": 39,
   "metadata": {},
   "outputs": [
    {
     "data": {
      "text/plain": [
       "'Clarusway'"
      ]
     },
     "execution_count": 39,
     "metadata": {},
     "output_type": "execute_result"
    }
   ],
   "source": [
    "company.capitalize()"
   ]
  },
  {
   "cell_type": "markdown",
   "metadata": {},
   "source": [
    "## replace() method"
   ]
  },
  {
   "cell_type": "raw",
   "metadata": {},
   "source": [
    "Return a copy with all occurrences of substring old replaced by new.\n",
    "\n",
    "Replaces all occurrences of old with new.\n",
    "\n",
    "Syntax: `string`.`replace`(old, new[, count])"
   ]
  },
  {
   "cell_type": "raw",
   "metadata": {},
   "source": [
    "If the optional argument count is given, only the first count occurrences are replaced."
   ]
  },
  {
   "cell_type": "code",
   "execution_count": 41,
   "metadata": {},
   "outputs": [],
   "source": [
    "company = \"Clarusway\""
   ]
  },
  {
   "cell_type": "code",
   "execution_count": 44,
   "metadata": {},
   "outputs": [
    {
     "data": {
      "text/plain": [
       "'Sibertech'"
      ]
     },
     "execution_count": 44,
     "metadata": {},
     "output_type": "execute_result"
    }
   ],
   "source": [
    "text.replace(\"Clarusway\", \"Sibertech\", -1) #3rd argument: how many occurances you want it to do.Default -1 yani hepsini değiştirir. "
   ]
  },
  {
   "cell_type": "code",
   "execution_count": 34,
   "metadata": {},
   "outputs": [
    {
     "data": {
      "text/plain": [
       "'cuma'"
      ]
     },
     "execution_count": 34,
     "metadata": {},
     "output_type": "execute_result"
    }
   ],
   "source": [
    "text = \"pazar\"\n",
    "text.replace(\"pazar\", \"cuma\", -1)"
   ]
  },
  {
   "cell_type": "code",
   "execution_count": 20,
   "metadata": {},
   "outputs": [
    {
     "data": {
      "text/plain": [
       "'uma'"
      ]
     },
     "execution_count": 20,
     "metadata": {},
     "output_type": "execute_result"
    }
   ],
   "source": [
    "text.replace(\"pazar\", \"cuma\"[1:5])"
   ]
  },
  {
   "cell_type": "code",
   "execution_count": 22,
   "metadata": {},
   "outputs": [
    {
     "data": {
      "text/plain": [
       "'Mizzissippi'"
      ]
     },
     "execution_count": 22,
     "metadata": {},
     "output_type": "execute_result"
    }
   ],
   "source": [
    "\"Mississippi\".replace(\"ss\", \"zz\", 1) # Master Code Online example"
   ]
  },
  {
   "cell_type": "code",
   "execution_count": 24,
   "metadata": {},
   "outputs": [
    {
     "data": {
      "text/plain": [
       "'MIssIssIppI'"
      ]
     },
     "execution_count": 24,
     "metadata": {},
     "output_type": "execute_result"
    }
   ],
   "source": [
    "a = \"i\"\n",
    "b = \"I\"\n",
    "c = \"Mississippi\"\n",
    "c.replace(a, b)"
   ]
  },
  {
   "cell_type": "markdown",
   "metadata": {},
   "source": [
    "### swapcase() method "
   ]
  },
  {
   "cell_type": "markdown",
   "metadata": {},
   "source": [
    "Converts upper case to lower case and vice versa."
   ]
  },
  {
   "cell_type": "code",
   "execution_count": 1,
   "metadata": {},
   "outputs": [
    {
     "data": {
      "text/plain": [
       "'i LIVE AND WORK IN vIRGINIA'"
      ]
     },
     "execution_count": 1,
     "metadata": {},
     "output_type": "execute_result"
    }
   ],
   "source": [
    "sentence = \"I live and work in Virginia\"\n",
    "sentence.swapcase()"
   ]
  },
  {
   "cell_type": "markdown",
   "metadata": {},
   "source": [
    "### upper() method"
   ]
  },
  {
   "cell_type": "markdown",
   "metadata": {},
   "source": [
    "Converts all characters of the string to the upper case."
   ]
  },
  {
   "cell_type": "code",
   "execution_count": 2,
   "metadata": {},
   "outputs": [
    {
     "data": {
      "text/plain": [
       "'I LIVE AND WORK IN VIRGINIA'"
      ]
     },
     "execution_count": 2,
     "metadata": {},
     "output_type": "execute_result"
    }
   ],
   "source": [
    "sentence.upper()"
   ]
  },
  {
   "cell_type": "markdown",
   "metadata": {},
   "source": [
    "### lower() method"
   ]
  },
  {
   "cell_type": "markdown",
   "metadata": {},
   "source": [
    "Converts all characters of the string to the lower case."
   ]
  },
  {
   "cell_type": "code",
   "execution_count": 3,
   "metadata": {},
   "outputs": [
    {
     "data": {
      "text/plain": [
       "'i live and work in virginia'"
      ]
     },
     "execution_count": 3,
     "metadata": {},
     "output_type": "execute_result"
    }
   ],
   "source": [
    "sentence.lower()# note that, source text is unchanged"
   ]
  },
  {
   "cell_type": "markdown",
   "metadata": {},
   "source": [
    "### title() method"
   ]
  },
  {
   "cell_type": "markdown",
   "metadata": {},
   "source": [
    "Converts the first character of each word to upper case."
   ]
  },
  {
   "cell_type": "code",
   "execution_count": 4,
   "metadata": {},
   "outputs": [
    {
     "data": {
      "text/plain": [
       "'I Live And Work In Virginia'"
      ]
     },
     "execution_count": 4,
     "metadata": {},
     "output_type": "execute_result"
    }
   ],
   "source": [
    "sentence.title()"
   ]
  },
  {
   "cell_type": "markdown",
   "metadata": {},
   "source": [
    "### format() method"
   ]
  },
  {
   "cell_type": "code",
   "execution_count": 25,
   "metadata": {},
   "outputs": [
    {
     "data": {
      "text/plain": [
       "'hello my name is Sam'"
      ]
     },
     "execution_count": 25,
     "metadata": {},
     "output_type": "execute_result"
    }
   ],
   "source": [
    "\"hello my name is {}\".format(\"Sam\")"
   ]
  },
  {
   "cell_type": "code",
   "execution_count": null,
   "metadata": {},
   "outputs": [],
   "source": []
  },
  {
   "cell_type": "markdown",
   "metadata": {},
   "source": [
    "## `Editing string`"
   ]
  },
  {
   "cell_type": "markdown",
   "metadata": {},
   "source": [
    "👉🏻 These formulas `remove the trailing chars`. "
   ]
  },
  {
   "cell_type": "markdown",
   "metadata": {},
   "source": [
    "The `default` for the argument chars is also `whitespace`. If the argument chars aren’t specified, trailing whitespaces are removed."
   ]
  },
  {
   "cell_type": "markdown",
   "metadata": {},
   "source": [
    "• Three functions are provided that oﬀer the ability to strip leading and trailing characters from a string. All three functions have the same signature and all three return a new string object with unwanted characters removed. We can remove the unwanted characters using strip(), rstrip() and lstrip() functions."
   ]
  },
  {
   "cell_type": "markdown",
   "metadata": {},
   "source": [
    "Syntax is : `string`.`method()`"
   ]
  },
  {
   "cell_type": "raw",
   "metadata": {},
   "source": [
    "• strip() method\n",
    "• rstrip() method\n",
    "• lstrip() method\n",
    "• split() method\n",
    "• join() method"
   ]
  },
  {
   "cell_type": "markdown",
   "metadata": {},
   "source": [
    "### strip() method"
   ]
  },
  {
   "cell_type": "markdown",
   "metadata": {},
   "source": [
    "Removes all spaces (or specified characters) from both sides."
   ]
  },
  {
   "cell_type": "code",
   "execution_count": 33,
   "metadata": {},
   "outputs": [],
   "source": [
    "space_string = \"     listen first      \""
   ]
  },
  {
   "cell_type": "code",
   "execution_count": 34,
   "metadata": {},
   "outputs": [
    {
     "data": {
      "text/plain": [
       "'listen first'"
      ]
     },
     "execution_count": 34,
     "metadata": {},
     "output_type": "execute_result"
    }
   ],
   "source": [
    "space_string.strip() # removes all spaces from both sides"
   ]
  },
  {
   "cell_type": "code",
   "execution_count": 40,
   "metadata": {},
   "outputs": [
    {
     "data": {
      "text/plain": [
       "'nteroperabilit'"
      ]
     },
     "execution_count": 40,
     "metadata": {},
     "output_type": "execute_result"
    }
   ],
   "source": [
    "source_string = \"interoperability\"\n",
    "source_string.strip(\"yi\")# removes trailing \"y\" or \"i\" or \"yi\" or \"iy\" from both sides"
   ]
  },
  {
   "cell_type": "code",
   "execution_count": 39,
   "metadata": {},
   "outputs": [
    {
     "data": {
      "text/plain": [
       "'eroperabil'"
      ]
     },
     "execution_count": 39,
     "metadata": {},
     "output_type": "execute_result"
    }
   ],
   "source": [
    "source_string.strip(\"inty\")"
   ]
  },
  {
   "cell_type": "markdown",
   "metadata": {},
   "source": [
    "### rstrip() method"
   ]
  },
  {
   "cell_type": "markdown",
   "metadata": {},
   "source": [
    "Removes spaces (or specified characters) from the right side."
   ]
  },
  {
   "cell_type": "markdown",
   "metadata": {},
   "source": [
    "Return a copy of the string with trailing whitespace removed."
   ]
  },
  {
   "cell_type": "markdown",
   "metadata": {},
   "source": [
    "Remove any white spaces at the end of the string"
   ]
  },
  {
   "cell_type": "code",
   "execution_count": 11,
   "metadata": {},
   "outputs": [],
   "source": [
    "text = \"rightStrip\""
   ]
  },
  {
   "cell_type": "code",
   "execution_count": 12,
   "metadata": {},
   "outputs": [
    {
     "data": {
      "text/plain": [
       "'rightStr'"
      ]
     },
     "execution_count": 12,
     "metadata": {},
     "output_type": "execute_result"
    }
   ],
   "source": [
    "text.rstrip(\"ip\")"
   ]
  },
  {
   "cell_type": "code",
   "execution_count": 42,
   "metadata": {},
   "outputs": [
    {
     "data": {
      "text/plain": [
       "'     listen first'"
      ]
     },
     "execution_count": 42,
     "metadata": {},
     "output_type": "execute_result"
    }
   ],
   "source": [
    "space_string = \"     listen first      \"\n",
    "space_string.rstrip() # removes spaces from the right side--> listen first"
   ]
  },
  {
   "cell_type": "code",
   "execution_count": 43,
   "metadata": {},
   "outputs": [
    {
     "data": {
      "text/plain": [
       "'interoperabili'"
      ]
     },
     "execution_count": 43,
     "metadata": {},
     "output_type": "execute_result"
    }
   ],
   "source": [
    "source_string = \"interoperability\"\n",
    "source_string.rstrip(\"yt\")# removes \"y\" or \"t\" or \"yt\" or \"ty\" from the right side"
   ]
  },
  {
   "cell_type": "markdown",
   "metadata": {},
   "source": [
    "### lstrip() method"
   ]
  },
  {
   "cell_type": "code",
   "execution_count": null,
   "metadata": {},
   "outputs": [],
   "source": [
    "Removes spaces (or specified characters) from the left side."
   ]
  },
  {
   "cell_type": "markdown",
   "metadata": {},
   "source": [
    "Return a copy of the string with leading whitespace removed."
   ]
  },
  {
   "cell_type": "code",
   "execution_count": 13,
   "metadata": {},
   "outputs": [
    {
     "data": {
      "text/plain": [
       "'ightStrip'"
      ]
     },
     "execution_count": 13,
     "metadata": {},
     "output_type": "execute_result"
    }
   ],
   "source": [
    "text.lstrip(\"r\")"
   ]
  },
  {
   "cell_type": "code",
   "execution_count": 41,
   "metadata": {},
   "outputs": [
    {
     "data": {
      "text/plain": [
       "'teroperability'"
      ]
     },
     "execution_count": 41,
     "metadata": {},
     "output_type": "execute_result"
    }
   ],
   "source": [
    "source_string = \"interoperability\"\n",
    "source_string.lstrip(\"in\")# removes \"i\" or \"n\" or \"in\" or \"ni\" from the left side"
   ]
  },
  {
   "cell_type": "markdown",
   "metadata": {},
   "source": [
    "### All 3 editing methods in an example"
   ]
  },
  {
   "cell_type": "code",
   "execution_count": 44,
   "metadata": {},
   "outputs": [
    {
     "name": "stdout",
     "output_type": "stream",
     "text": [
      "     banana\n",
      "banana\n",
      "banana\n"
     ]
    }
   ],
   "source": [
    "txt = \"     banana     \"\n",
    "print(txt.rstrip())\n",
    "print(txt.rstrip().lstrip())\n",
    "print(txt.strip())"
   ]
  },
  {
   "cell_type": "markdown",
   "metadata": {},
   "source": [
    "### split() method"
   ]
  },
  {
   "cell_type": "markdown",
   "metadata": {},
   "source": [
    "It will split this on all the whitespace."
   ]
  },
  {
   "cell_type": "code",
   "execution_count": 50,
   "metadata": {},
   "outputs": [
    {
     "data": {
      "text/plain": [
       "['I', 'live', 'and', 'work', 'in', 'Virginia']"
      ]
     },
     "execution_count": 50,
     "metadata": {},
     "output_type": "execute_result"
    }
   ],
   "source": [
    "sentence = \"I live and work in Virginia\"\n",
    "sentence.split()"
   ]
  },
  {
   "cell_type": "code",
   "execution_count": 52,
   "metadata": {},
   "outputs": [
    {
     "data": {
      "text/plain": [
       "'Go sports! #Sports'"
      ]
     },
     "execution_count": 52,
     "metadata": {},
     "output_type": "execute_result"
    }
   ],
   "source": [
    "tweet = \"Go sports! #Sports\"\n",
    "tweet"
   ]
  },
  {
   "cell_type": "code",
   "execution_count": 55,
   "metadata": {},
   "outputs": [
    {
     "data": {
      "text/plain": [
       "['Go sports! ', 'Sports']"
      ]
     },
     "execution_count": 55,
     "metadata": {},
     "output_type": "execute_result"
    }
   ],
   "source": [
    "tweet.split(\"#\")"
   ]
  },
  {
   "cell_type": "code",
   "execution_count": 54,
   "metadata": {},
   "outputs": [
    {
     "data": {
      "text/plain": [
       "'Sports'"
      ]
     },
     "execution_count": 54,
     "metadata": {},
     "output_type": "execute_result"
    }
   ],
   "source": [
    "tweet.split(\"#\")[1] "
   ]
  },
  {
   "cell_type": "code",
   "execution_count": 1,
   "metadata": {},
   "outputs": [
    {
     "data": {
      "text/plain": [
       "['CA', 'NY', 'WY', 'OR', 'CO']"
      ]
     },
     "execution_count": 1,
     "metadata": {},
     "output_type": "execute_result"
    }
   ],
   "source": [
    "newin = \"CA NY WY OR CO\".split()\n",
    "newin"
   ]
  },
  {
   "cell_type": "markdown",
   "metadata": {},
   "source": [
    "### join() method"
   ]
  },
  {
   "cell_type": "code",
   "execution_count": 2,
   "metadata": {},
   "outputs": [
    {
     "data": {
      "text/plain": [
       "'a**b**c**d'"
      ]
     },
     "execution_count": 2,
     "metadata": {},
     "output_type": "execute_result"
    }
   ],
   "source": [
    "x = [\"a\", \"b\", \"c\", \"d\"]\n",
    "\"**\".join(x)"
   ]
  },
  {
   "cell_type": "markdown",
   "metadata": {},
   "source": [
    "### Assigning the modified text to a new variable"
   ]
  },
  {
   "cell_type": "markdown",
   "metadata": {},
   "source": [
    "We can have a new string."
   ]
  },
  {
   "cell_type": "code",
   "execution_count": 21,
   "metadata": {},
   "outputs": [],
   "source": [
    "sentence = \"I live and work in Virginia\""
   ]
  },
  {
   "cell_type": "code",
   "execution_count": 22,
   "metadata": {},
   "outputs": [
    {
     "data": {
      "text/plain": [
       "'I Live And Work In Virginia'"
      ]
     },
     "execution_count": 22,
     "metadata": {},
     "output_type": "execute_result"
    }
   ],
   "source": [
    "sentence.title() "
   ]
  },
  {
   "cell_type": "code",
   "execution_count": 23,
   "metadata": {},
   "outputs": [],
   "source": [
    "title_sentence = sentence.title() "
   ]
  },
  {
   "cell_type": "code",
   "execution_count": 24,
   "metadata": {},
   "outputs": [
    {
     "data": {
      "text/plain": [
       "'I live and work in Virginia'"
      ]
     },
     "execution_count": 24,
     "metadata": {},
     "output_type": "execute_result"
    }
   ],
   "source": [
    "sentence  # note that, again source text is unchanged"
   ]
  },
  {
   "cell_type": "code",
   "execution_count": 25,
   "metadata": {},
   "outputs": [
    {
     "data": {
      "text/plain": [
       "'I l+ve and work +n V+rg+n+a'"
      ]
     },
     "execution_count": 25,
     "metadata": {},
     "output_type": "execute_result"
    }
   ],
   "source": [
    "changed_sentence = sentence.replace(\"i\", \"+\")\n",
    "changed_sentence"
   ]
  },
  {
   "cell_type": "code",
   "execution_count": 27,
   "metadata": {},
   "outputs": [
    {
     "data": {
      "text/plain": [
       "'i LIVE AND WORK IN vIRGINIA'"
      ]
     },
     "execution_count": 27,
     "metadata": {},
     "output_type": "execute_result"
    }
   ],
   "source": [
    "sentence.swapcase()"
   ]
  },
  {
   "cell_type": "code",
   "execution_count": 28,
   "metadata": {},
   "outputs": [
    {
     "data": {
      "text/plain": [
       "'I live and work in virginia'"
      ]
     },
     "execution_count": 28,
     "metadata": {},
     "output_type": "execute_result"
    }
   ],
   "source": [
    "sentence.swapcase().capitalize() # changes 'i' to uppercase and # the rest to lowercase"
   ]
  },
  {
   "cell_type": "markdown",
   "metadata": {},
   "source": [
    "#### Question"
   ]
  },
  {
   "cell_type": "code",
   "execution_count": null,
   "metadata": {},
   "outputs": [],
   "source": [
    "Will this code work? If yes, what the output will be? Describe how?"
   ]
  },
  {
   "cell_type": "code",
   "execution_count": 32,
   "metadata": {},
   "outputs": [
    {
     "name": "stdout",
     "output_type": "stream",
     "text": [
      "Actions speaks louder than words\n"
     ]
    }
   ],
   "source": [
    "print(\"Actions speaks louder than words\".upper().swapcase().capitalize())"
   ]
  },
  {
   "cell_type": "code",
   "execution_count": 29,
   "metadata": {},
   "outputs": [
    {
     "data": {
      "text/plain": [
       "'ACTIONS SPEAKS LOUDER THAN WORDS'"
      ]
     },
     "execution_count": 29,
     "metadata": {},
     "output_type": "execute_result"
    }
   ],
   "source": [
    "\"Actions speaks louder than words\".upper() # returns string type"
   ]
  },
  {
   "cell_type": "code",
   "execution_count": 30,
   "metadata": {},
   "outputs": [
    {
     "data": {
      "text/plain": [
       "'actions speaks louder than words'"
      ]
     },
     "execution_count": 30,
     "metadata": {},
     "output_type": "execute_result"
    }
   ],
   "source": [
    "\"Actions speaks louder than words\".upper().swapcase() # also returns string type"
   ]
  },
  {
   "cell_type": "code",
   "execution_count": 31,
   "metadata": {},
   "outputs": [
    {
     "data": {
      "text/plain": [
       "'Actions speaks louder than words'"
      ]
     },
     "execution_count": 31,
     "metadata": {},
     "output_type": "execute_result"
    }
   ],
   "source": [
    "\"Actions speaks louder than words\".upper().swapcase().capitalize() # # returns string type again. code is good. "
   ]
  },
  {
   "cell_type": "code",
   "execution_count": null,
   "metadata": {},
   "outputs": [],
   "source": []
  },
  {
   "cell_type": "code",
   "execution_count": null,
   "metadata": {},
   "outputs": [],
   "source": []
  },
  {
   "cell_type": "code",
   "execution_count": null,
   "metadata": {},
   "outputs": [],
   "source": []
  },
  {
   "cell_type": "code",
   "execution_count": 22,
   "metadata": {},
   "outputs": [
    {
     "name": "stdout",
     "output_type": "stream",
     "text": [
      "YOU CAN LEARN ALMOST EVERYTHING IN PRE-CLAS\n"
     ]
    }
   ],
   "source": [
    "text = \"tyou can learn almost everything in pre-clasz\"\n",
    "print(text.rstrip(\"z\").lstrip(\"t\").upper())\n",
    "#text = text.rstrip(\"z\").lstrip(\"t\").upper()\n",
    "#print(text)"
   ]
  },
  {
   "cell_type": "code",
   "execution_count": 45,
   "metadata": {},
   "outputs": [
    {
     "name": "stdout",
     "output_type": "stream",
     "text": [
      "of all fruits      banana is my favorite\n"
     ]
    }
   ],
   "source": [
    "print(\"of all fruits\", txt.rstrip(), \"is my favorite\")"
   ]
  },
  {
   "cell_type": "code",
   "execution_count": null,
   "metadata": {},
   "outputs": [],
   "source": []
  },
  {
   "cell_type": "code",
   "execution_count": 1,
   "metadata": {},
   "outputs": [
    {
     "name": "stdout",
     "output_type": "stream",
     "text": [
      "Giraffe\n",
      "Academy\n",
      "Giraffe\"Academy\n",
      "Giraffe Academy\n",
      "Giraffe Academy is cool\n",
      "giraffe academy\n",
      "GIRAFFE ACADEMY\n",
      "False\n",
      "False\n",
      "True\n",
      "15\n",
      "G\n",
      "0\n",
      "8\n",
      "Elephant Academy\n"
     ]
    }
   ],
   "source": [
    "#Working with strings\n",
    "print(\"Giraffe\\nAcademy\")\n",
    "print(\"Giraffe\\\"Academy\")\n",
    "phrase = \"Giraffe Academy\"\n",
    "print(phrase)\n",
    "#Concatenate\n",
    "print(phrase + \" is cool\")\n",
    "#Functions\n",
    "print(phrase.lower())\n",
    "print(phrase.upper())\n",
    "print(phrase.isupper())\n",
    "print(phrase.islower())\n",
    "print(phrase.upper().isupper())\n",
    "print(len(phrase))\n",
    "print(phrase[0])#indexing\n",
    "print(phrase.index(\"G\"))\n",
    "print(phrase.index(\"Acad\"))#gives starting point of phrase-->8\n",
    "#print(phrase.index(\"z\"))#-->value error, substring not found\n",
    "print(phrase.replace(\"Giraffe\", \"Elephant\"))\n"
   ]
  },
  {
   "cell_type": "code",
   "execution_count": 2,
   "metadata": {},
   "outputs": [
    {
     "name": "stdout",
     "output_type": "stream",
     "text": [
      "Hello World\n",
      "   /|\n",
      "  / |\n",
      " /  |\n",
      "/___|\n",
      "There once was a man named John, \n",
      "he was 35 years old.\n",
      "He really liked the name John, \n",
      "but he didn't like being 35.\n"
     ]
    }
   ],
   "source": [
    "#FREE CODE CAMP\n",
    "print(\"Hello World\")\n",
    "#Drawing a shape\n",
    "print(\"   /|\")\n",
    "print(\"  / |\")\n",
    "print(\" /  |\")\n",
    "print(\"/___|\")\n",
    "\n",
    "#variables == container\n",
    "char_name = \"John\"\n",
    "char_age = \"35\"\n",
    "\n",
    "print(\"There once was a man named \" + char_name + \", \")\n",
    "print(\"he was \" + char_age + \" years old.\")\n",
    "print(\"He really liked the name \" + char_name + \", \")\n",
    "print(\"but he didn't like being \" + char_age + \".\")\n"
   ]
  },
  {
   "cell_type": "code",
   "execution_count": 1,
   "metadata": {},
   "outputs": [
    {
     "name": "stdout",
     "output_type": "stream",
     "text": [
      ".apologizing is a virtue\n"
     ]
    }
   ],
   "source": [
    "sentence = \"apologizing is a virtue\"\n",
    "print(\".%11s\" % sentence)  # we get first 11 characters of the string"
   ]
  },
  {
   "cell_type": "code",
   "execution_count": 9,
   "metadata": {},
   "outputs": [
    {
     "name": "stdout",
     "output_type": "stream",
     "text": [
      "CAFE VENETI'DE ÇALIŞIYORUM\n",
      "cAFE vENETI'DE ÇALIŞIYORUM\n",
      "Cafe veneti'de çalışıyorum\n",
      "cafe veneti'de çalışıyorum\n",
      "Cafe Veneti'De Çalışıyorum\n"
     ]
    }
   ],
   "source": [
    "Sentence = \"Cafe Veneti'de çalışıyorum\"\n",
    "print(Sentence.upper())\n",
    "print(Sentence.swapcase())\n",
    "print(Sentence.capitalize())\n",
    "print(Sentence.lower())\n",
    "print(Sentence.title())"
   ]
  },
  {
   "cell_type": "code",
   "execution_count": 10,
   "metadata": {},
   "outputs": [
    {
     "name": "stdout",
     "output_type": "stream",
     "text": [
      "There are 3 children in the game room\n",
      "There is only a child here\n",
      "There is only a child here\n"
     ]
    }
   ],
   "source": [
    "phrase1 = \"There are 3 %s in the game room\"\n",
    "phrase2 = \"There is only a %.5s here\"\n",
    "print(phrase1 % \"children\")\n",
    "print(phrase2 % \"children\")\n",
    "print(\"There is only a %.5s here\" % \"children\")"
   ]
  },
  {
   "cell_type": "markdown",
   "metadata": {},
   "source": [
    "# Integer"
   ]
  },
  {
   "cell_type": "markdown",
   "metadata": {},
   "source": [
    "## Numeric Types"
   ]
  },
  {
   "cell_type": "raw",
   "metadata": {},
   "source": [
    "There are three distinct numeric types (SiFCo):\n",
    "• Signed Integer\n",
    "• Floating point\n",
    "• Complex type is called complex and they are written in the form, x + yj , where x is the real part and y is the imaginary part. For example: 3.14j."
   ]
  },
  {
   "cell_type": "markdown",
   "metadata": {},
   "source": [
    "## Notes"
   ]
  },
  {
   "cell_type": "raw",
   "metadata": {},
   "source": [
    "In Python 2, there was an internal limit to how large an integer value could be. Maximum value for an integer is 2**63 - 1"
   ]
  },
  {
   "cell_type": "raw",
   "metadata": {},
   "source": [
    "That limit was removed in Python 3. This means there is no explicitly defined limit, but the amount of available address space forms a practical limit depending on the machine Python runs on."
   ]
  },
  {
   "cell_type": "code",
   "execution_count": 5,
   "metadata": {},
   "outputs": [
    {
     "data": {
      "text/plain": [
       "9223372036854775808"
      ]
     },
     "execution_count": 5,
     "metadata": {},
     "output_type": "execute_result"
    }
   ],
   "source": [
    "2**63"
   ]
  },
  {
   "cell_type": "code",
   "execution_count": 6,
   "metadata": {},
   "outputs": [
    {
     "data": {
      "text/plain": [
       "9223372036854775807"
      ]
     },
     "execution_count": 6,
     "metadata": {},
     "output_type": "execute_result"
    }
   ],
   "source": [
    "2**63-1"
   ]
  },
  {
   "cell_type": "markdown",
   "metadata": {},
   "source": [
    "### Signed Integer"
   ]
  },
  {
   "cell_type": "code",
   "execution_count": null,
   "metadata": {},
   "outputs": [],
   "source": [
    "• Called int, they are whole numbers- no decimal points.\n",
    "• Can be positive, negative or zero"
   ]
  },
  {
   "cell_type": "code",
   "execution_count": 1,
   "metadata": {},
   "outputs": [
    {
     "data": {
      "text/plain": [
       "71"
      ]
     },
     "execution_count": 1,
     "metadata": {},
     "output_type": "execute_result"
    }
   ],
   "source": [
    "71"
   ]
  },
  {
   "cell_type": "code",
   "execution_count": 2,
   "metadata": {},
   "outputs": [
    {
     "data": {
      "text/plain": [
       "-122"
      ]
     },
     "execution_count": 2,
     "metadata": {},
     "output_type": "execute_result"
    }
   ],
   "source": [
    "-122"
   ]
  },
  {
   "cell_type": "code",
   "execution_count": 3,
   "metadata": {},
   "outputs": [
    {
     "data": {
      "text/plain": [
       "0"
      ]
     },
     "execution_count": 3,
     "metadata": {},
     "output_type": "execute_result"
    }
   ],
   "source": [
    "0"
   ]
  },
  {
   "cell_type": "code",
   "execution_count": 7,
   "metadata": {},
   "outputs": [
    {
     "data": {
      "text/plain": [
       "int"
      ]
     },
     "execution_count": 7,
     "metadata": {},
     "output_type": "execute_result"
    }
   ],
   "source": [
    "type(0)"
   ]
  },
  {
   "cell_type": "markdown",
   "metadata": {},
   "source": [
    "### Floating Point"
   ]
  },
  {
   "cell_type": "raw",
   "metadata": {},
   "source": [
    "This type is also called float and stand for real numbers with decimal point."
   ]
  },
  {
   "cell_type": "code",
   "execution_count": 4,
   "metadata": {},
   "outputs": [
    {
     "data": {
      "text/plain": [
       "71.0"
      ]
     },
     "execution_count": 4,
     "metadata": {},
     "output_type": "execute_result"
    }
   ],
   "source": [
    "71.0"
   ]
  },
  {
   "cell_type": "code",
   "execution_count": 5,
   "metadata": {},
   "outputs": [
    {
     "data": {
      "text/plain": [
       "-33.03"
      ]
     },
     "execution_count": 5,
     "metadata": {},
     "output_type": "execute_result"
    }
   ],
   "source": [
    "-33.03"
   ]
  },
  {
   "cell_type": "code",
   "execution_count": 6,
   "metadata": {},
   "outputs": [
    {
     "data": {
      "text/plain": [
       "float"
      ]
     },
     "execution_count": 6,
     "metadata": {},
     "output_type": "execute_result"
    }
   ],
   "source": [
    "type(-33.03)"
   ]
  },
  {
   "cell_type": "code",
   "execution_count": 14,
   "metadata": {},
   "outputs": [
    {
     "data": {
      "text/plain": [
       "2.8"
      ]
     },
     "execution_count": 14,
     "metadata": {},
     "output_type": "execute_result"
    }
   ],
   "source": [
    "float(2.8)"
   ]
  },
  {
   "cell_type": "code",
   "execution_count": 13,
   "metadata": {},
   "outputs": [
    {
     "data": {
      "text/plain": [
       "float"
      ]
     },
     "execution_count": 13,
     "metadata": {},
     "output_type": "execute_result"
    }
   ],
   "source": [
    "type(float(2.8))"
   ]
  },
  {
   "cell_type": "code",
   "execution_count": null,
   "metadata": {},
   "outputs": [],
   "source": [
    "How would you express the constant floating-point value 3.2 × 10-12 in Python?"
   ]
  },
  {
   "cell_type": "code",
   "execution_count": 7,
   "metadata": {},
   "outputs": [
    {
     "data": {
      "text/plain": [
       "3.2e-12"
      ]
     },
     "execution_count": 7,
     "metadata": {},
     "output_type": "execute_result"
    }
   ],
   "source": [
    "3.2e-12"
   ]
  },
  {
   "cell_type": "code",
   "execution_count": 8,
   "metadata": {},
   "outputs": [
    {
     "data": {
      "text/plain": [
       "float"
      ]
     },
     "execution_count": 8,
     "metadata": {},
     "output_type": "execute_result"
    }
   ],
   "source": [
    "type(3.2e-12)"
   ]
  },
  {
   "cell_type": "markdown",
   "metadata": {},
   "source": [
    "### Imaginary (complex) numbers"
   ]
  },
  {
   "cell_type": "raw",
   "metadata": {},
   "source": [
    "• used in real-life applications, such as electricity, as well as quadratic equations. \n",
    "• In quadratic planes, imnums show up in equations that don't touch the x-axis.\n",
    "• Particularly useful in advanced calculus. We will not use this type much."
   ]
  },
  {
   "cell_type": "code",
   "execution_count": null,
   "metadata": {},
   "outputs": [],
   "source": [
    "💡Tips: same numerical value different numeric types: 71-int and 71.0-float "
   ]
  },
  {
   "cell_type": "code",
   "execution_count": null,
   "metadata": {},
   "outputs": [],
   "source": []
  },
  {
   "cell_type": "markdown",
   "metadata": {},
   "source": [
    "## ASCII Table"
   ]
  },
  {
   "cell_type": "code",
   "execution_count": 3,
   "metadata": {},
   "outputs": [
    {
     "data": {
      "text/plain": [
       "0"
      ]
     },
     "execution_count": 3,
     "metadata": {},
     "output_type": "execute_result"
    }
   ],
   "source": [
    "0X00 #HEX (onaltılı)"
   ]
  },
  {
   "cell_type": "code",
   "execution_count": 4,
   "metadata": {},
   "outputs": [
    {
     "data": {
      "text/plain": [
       "0"
      ]
     },
     "execution_count": 4,
     "metadata": {},
     "output_type": "execute_result"
    }
   ],
   "source": [
    "0 # DEC (onlu)"
   ]
  },
  {
   "cell_type": "code",
   "execution_count": 2,
   "metadata": {},
   "outputs": [
    {
     "data": {
      "text/plain": [
       "1"
      ]
     },
     "execution_count": 2,
     "metadata": {},
     "output_type": "execute_result"
    }
   ],
   "source": [
    "0X01"
   ]
  },
  {
   "cell_type": "code",
   "execution_count": 5,
   "metadata": {},
   "outputs": [
    {
     "data": {
      "text/plain": [
       "65"
      ]
     },
     "execution_count": 5,
     "metadata": {},
     "output_type": "execute_result"
    }
   ],
   "source": [
    "0x41"
   ]
  },
  {
   "cell_type": "code",
   "execution_count": 6,
   "metadata": {},
   "outputs": [
    {
     "data": {
      "text/plain": [
       "65"
      ]
     },
     "execution_count": 6,
     "metadata": {},
     "output_type": "execute_result"
    }
   ],
   "source": []
  },
  {
   "cell_type": "code",
   "execution_count": null,
   "metadata": {},
   "outputs": [],
   "source": [
    "How would you express the hexadecimal (onaltılı) value a5 as a base-16 integer constant in Python?"
   ]
  },
  {
   "cell_type": "code",
   "execution_count": 12,
   "metadata": {},
   "outputs": [
    {
     "data": {
      "text/plain": [
       "165"
      ]
     },
     "execution_count": 12,
     "metadata": {},
     "output_type": "execute_result"
    }
   ],
   "source": [
    "0xa5"
   ]
  },
  {
   "cell_type": "code",
   "execution_count": 13,
   "metadata": {},
   "outputs": [
    {
     "data": {
      "text/plain": [
       "int"
      ]
     },
     "execution_count": 13,
     "metadata": {},
     "output_type": "execute_result"
    }
   ],
   "source": [
    "type(0xa5)"
   ]
  },
  {
   "cell_type": "markdown",
   "metadata": {},
   "source": [
    "## Arithmetic Operations"
   ]
  },
  {
   "cell_type": "raw",
   "metadata": {},
   "source": [
    "• Addition (+)\n",
    "• Subtraction (-)\n",
    "• Multiplication (*)\n",
    "• Division (/)\n",
    "• Modulus (%) ---> gives residual\n",
    "• Exponentiation (**)\n",
    "• Floor division (//)"
   ]
  },
  {
   "cell_type": "markdown",
   "metadata": {},
   "source": [
    "#### Addition (+)"
   ]
  },
  {
   "cell_type": "code",
   "execution_count": 8,
   "metadata": {},
   "outputs": [
    {
     "data": {
      "text/plain": [
       "5"
      ]
     },
     "execution_count": 8,
     "metadata": {},
     "output_type": "execute_result"
    }
   ],
   "source": [
    "2+3"
   ]
  },
  {
   "cell_type": "markdown",
   "metadata": {},
   "source": [
    "#### Subtraction (-)"
   ]
  },
  {
   "cell_type": "code",
   "execution_count": 9,
   "metadata": {},
   "outputs": [
    {
     "data": {
      "text/plain": [
       "2"
      ]
     },
     "execution_count": 9,
     "metadata": {},
     "output_type": "execute_result"
    }
   ],
   "source": [
    "5-3"
   ]
  },
  {
   "cell_type": "markdown",
   "metadata": {},
   "source": [
    "#### Multiplication (*)"
   ]
  },
  {
   "cell_type": "code",
   "execution_count": 7,
   "metadata": {},
   "outputs": [
    {
     "data": {
      "text/plain": [
       "6"
      ]
     },
     "execution_count": 7,
     "metadata": {},
     "output_type": "execute_result"
    }
   ],
   "source": [
    "2*3"
   ]
  },
  {
   "cell_type": "markdown",
   "metadata": {},
   "source": [
    "#### Division (/)"
   ]
  },
  {
   "cell_type": "code",
   "execution_count": 11,
   "metadata": {},
   "outputs": [
    {
     "data": {
      "text/plain": [
       "2.0"
      ]
     },
     "execution_count": 11,
     "metadata": {},
     "output_type": "execute_result"
    }
   ],
   "source": [
    "6 / 3"
   ]
  },
  {
   "cell_type": "markdown",
   "metadata": {},
   "source": [
    "#### Exponentiation (**)"
   ]
  },
  {
   "cell_type": "code",
   "execution_count": 6,
   "metadata": {},
   "outputs": [
    {
     "data": {
      "text/plain": [
       "8"
      ]
     },
     "execution_count": 6,
     "metadata": {},
     "output_type": "execute_result"
    }
   ],
   "source": [
    "x = 2\n",
    "x = x**3\n",
    "x"
   ]
  },
  {
   "cell_type": "markdown",
   "metadata": {},
   "source": [
    "#### Modulus (%)"
   ]
  },
  {
   "cell_type": "raw",
   "metadata": {},
   "source": [
    "• gives the residual from the division"
   ]
  },
  {
   "cell_type": "code",
   "execution_count": 1,
   "metadata": {},
   "outputs": [],
   "source": [
    "num1 =10\n",
    "num2 = 3"
   ]
  },
  {
   "cell_type": "code",
   "execution_count": 4,
   "metadata": {},
   "outputs": [
    {
     "data": {
      "text/plain": [
       "1"
      ]
     },
     "execution_count": 4,
     "metadata": {},
     "output_type": "execute_result"
    }
   ],
   "source": [
    "num1%num2"
   ]
  },
  {
   "cell_type": "markdown",
   "metadata": {},
   "source": [
    "#### Floor division (//)"
   ]
  },
  {
   "cell_type": "raw",
   "metadata": {},
   "source": [
    "• Gives the whole dividend"
   ]
  },
  {
   "cell_type": "code",
   "execution_count": 22,
   "metadata": {},
   "outputs": [
    {
     "data": {
      "text/plain": [
       "3"
      ]
     },
     "execution_count": 22,
     "metadata": {},
     "output_type": "execute_result"
    }
   ],
   "source": [
    "10//3"
   ]
  },
  {
   "cell_type": "markdown",
   "metadata": {},
   "source": [
    "### Priorities"
   ]
  },
  {
   "cell_type": "raw",
   "metadata": {},
   "source": [
    "• parentheses : ()\n",
    "• power : **\n",
    "• unary minus : -3\n",
    "• multiplication and division : *, /\n",
    "• addition and subtraction : +, -"
   ]
  },
  {
   "cell_type": "markdown",
   "metadata": {},
   "source": [
    "### Arithmetic ops and print() function"
   ]
  },
  {
   "cell_type": "code",
   "execution_count": null,
   "metadata": {},
   "outputs": [],
   "source": [
    "x = 5\n",
    "print ('value of x       : ', x)\n",
    "x += 2\n",
    "print (\"2 more of x      : \", x, \"\\n\") # '\\n' = we had extra empty line.\n",
    "y = 10\n",
    "print ('value of y       : ', y)\n",
    "y -= 2\n",
    "print (\"2 minus y        : \", y, \"\\n\")\n",
    "z = 6\n",
    "print ('value of z       : ', z)\n",
    "z *= 2\n",
    "print (\"2 times z        : \", z, \"\\n\")"
   ]
  },
  {
   "cell_type": "markdown",
   "metadata": {},
   "source": [
    "### in-place Operations"
   ]
  },
  {
   "cell_type": "raw",
   "metadata": {},
   "source": [
    "Any mathematics operator can be used before the '=' character to make an in-place operation:\n",
    "-= decrements the variable in place,\n",
    "+= increment the variable in place,\n",
    "*= multiply the variable in place,\n",
    "/= divide the variable in place,\n",
    "//= ﬂoor divide the variable in place, bölümün tam kısmı\n",
    "%= returns the modulus of the variable in place, Kalan\n",
    "**= raise to power in place."
   ]
  },
  {
   "cell_type": "raw",
   "metadata": {},
   "source": [
    "💡 Variable += number gives the same result as Variable = Variable + number"
   ]
  },
  {
   "cell_type": "code",
   "execution_count": 1,
   "metadata": {},
   "outputs": [
    {
     "data": {
      "text/plain": [
       "5"
      ]
     },
     "execution_count": 1,
     "metadata": {},
     "output_type": "execute_result"
    }
   ],
   "source": [
    "x = 2\n",
    "x += 3\n",
    "x"
   ]
  },
  {
   "cell_type": "code",
   "execution_count": 3,
   "metadata": {},
   "outputs": [
    {
     "data": {
      "text/plain": [
       "6"
      ]
     },
     "execution_count": 3,
     "metadata": {},
     "output_type": "execute_result"
    }
   ],
   "source": [
    "x = 2\n",
    "x *= 3 \n",
    "x"
   ]
  },
  {
   "cell_type": "code",
   "execution_count": 4,
   "metadata": {},
   "outputs": [
    {
     "data": {
      "text/plain": [
       "6"
      ]
     },
     "execution_count": 4,
     "metadata": {},
     "output_type": "execute_result"
    }
   ],
   "source": [
    "x = 2\n",
    "x = x*3\n",
    "x"
   ]
  },
  {
   "cell_type": "markdown",
   "metadata": {},
   "source": [
    "### Working with numbers"
   ]
  },
  {
   "cell_type": "raw",
   "metadata": {},
   "source": [
    "In Python 2, the maximum value for an integer is 2**63 - 1"
   ]
  },
  {
   "cell_type": "raw",
   "metadata": {},
   "source": [
    "In Python 2, there was an internal limit to how large an integer value could be. But that limit was removed in Python 3.\n",
    "\n",
    "This means there is no explicitly defined limit, but the amount of available address space forms a practical limit depending on the machine Python runs on."
   ]
  },
  {
   "cell_type": "code",
   "execution_count": 4,
   "metadata": {},
   "outputs": [
    {
     "data": {
      "text/plain": [
       "18446744073709551617"
      ]
     },
     "execution_count": 4,
     "metadata": {},
     "output_type": "execute_result"
    }
   ],
   "source": [
    "2**64 + 1"
   ]
  },
  {
   "cell_type": "code",
   "execution_count": 8,
   "metadata": {},
   "outputs": [
    {
     "name": "stdout",
     "output_type": "stream",
     "text": [
      "2\n",
      "7\n",
      "17\n",
      "27\n",
      "1\n"
     ]
    }
   ],
   "source": [
    "print(2)\n",
    "print(3+4)\n",
    "print(3 * 4 + 5)\n",
    "print(3 * (4 + 5))\n",
    "print(10%3)#Modulus, spits out remainder"
   ]
  },
  {
   "cell_type": "code",
   "execution_count": 9,
   "metadata": {},
   "outputs": [
    {
     "name": "stdout",
     "output_type": "stream",
     "text": [
      "8\n",
      "36\n"
     ]
    }
   ],
   "source": [
    "first_num = 6\n",
    "second_num = 2\n",
    "print(first_num + second_num)\n",
    "print(first_num ** second_num)"
   ]
  },
  {
   "cell_type": "code",
   "execution_count": 10,
   "metadata": {},
   "outputs": [
    {
     "name": "stdout",
     "output_type": "stream",
     "text": [
      "28 days in February\n"
     ]
    },
    {
     "data": {
      "text/plain": [
       "'There are 28 in February'"
      ]
     },
     "execution_count": 10,
     "metadata": {},
     "output_type": "execute_result"
    }
   ],
   "source": [
    "days_feb = 28\n",
    "print(str(days_feb) + \" days in February\")\n",
    "f\"There are {days_feb} in February\""
   ]
  },
  {
   "cell_type": "code",
   "execution_count": 11,
   "metadata": {},
   "outputs": [
    {
     "data": {
      "text/plain": [
       "'Today is monday'"
      ]
     },
     "execution_count": 11,
     "metadata": {},
     "output_type": "execute_result"
    }
   ],
   "source": [
    "today = \"monday\"\n",
    "\"Today is\" +\" \" + today  "
   ]
  },
  {
   "cell_type": "code",
   "execution_count": 12,
   "metadata": {},
   "outputs": [
    {
     "name": "stdout",
     "output_type": "stream",
     "text": [
      "56\n",
      "11\n"
     ]
    }
   ],
   "source": [
    "first_num = \"5\"\n",
    "second_num = \"6\"\n",
    "print(first_num + second_num)\n",
    "print(int(first_num)+int(second_num))"
   ]
  },
  {
   "cell_type": "code",
   "execution_count": 13,
   "metadata": {},
   "outputs": [
    {
     "name": "stdout",
     "output_type": "stream",
     "text": [
      "enter num12\n",
      "enter num22\n",
      "22\n",
      "4\n"
     ]
    }
   ],
   "source": [
    "num1 = input(\"enter num1\")\n",
    "num2=input(\"enter num2\")\n",
    "print(num1+num2)\n",
    "print(int(num1)+int(num2))"
   ]
  },
  {
   "cell_type": "code",
   "execution_count": 14,
   "metadata": {},
   "outputs": [
    {
     "name": "stdout",
     "output_type": "stream",
     "text": [
      "Enter first number2\n",
      "Enter second number2\n",
      "4\n",
      "4.0\n"
     ]
    }
   ],
   "source": [
    "first_num = input(\"Enter first number\")\n",
    "second_num = input(\"Enter second number\")\n",
    "print(int(first_num) + int(second_num))\n",
    "print(float(first_num) + float(second_num))"
   ]
  },
  {
   "cell_type": "code",
   "execution_count": 15,
   "metadata": {},
   "outputs": [
    {
     "name": "stdout",
     "output_type": "stream",
     "text": [
      "3.14159\n"
     ]
    }
   ],
   "source": [
    "pi = 3.14159\n",
    "print(pi)"
   ]
  },
  {
   "cell_type": "code",
   "execution_count": 16,
   "metadata": {},
   "outputs": [
    {
     "name": "stdout",
     "output_type": "stream",
     "text": [
      "15625\n"
     ]
    }
   ],
   "source": [
    "first_num = 5\n",
    "second_num = 6\n",
    "print(first_num ** second_num)"
   ]
  },
  {
   "cell_type": "code",
   "execution_count": 17,
   "metadata": {},
   "outputs": [
    {
     "name": "stdout",
     "output_type": "stream",
     "text": [
      "125\n",
      "64\n",
      "8\n",
      "2\n",
      "15\n",
      "1.6666666666666667\n"
     ]
    }
   ],
   "source": [
    "num1=5\n",
    "num2=3\n",
    "print(num1**num2)\n",
    "print((num1+num2)**2)#paranthesis has priority\n",
    "print(num1+num2)\n",
    "print(num1-num2)\n",
    "print(num1*num2)\n",
    "print(float(num1/num2))"
   ]
  },
  {
   "cell_type": "markdown",
   "metadata": {},
   "source": [
    "### formatting to two decimal places"
   ]
  },
  {
   "cell_type": "raw",
   "metadata": {},
   "source": [
    "USE str.format() TO SPECIFY THE NUMBER OF DECIMAL PLACES"
   ]
  },
  {
   "cell_type": "code",
   "execution_count": 18,
   "metadata": {},
   "outputs": [
    {
     "name": "stdout",
     "output_type": "stream",
     "text": [
      "3.33\n"
     ]
    }
   ],
   "source": [
    "value = 3.3333333333\n",
    "\n",
    "formatted_string = \"{:.2f}\".format(value)\n",
    "\n",
    "\n",
    "float_value = float(formatted_string)\n",
    "\n",
    "print(float_value)"
   ]
  },
  {
   "cell_type": "code",
   "execution_count": 11,
   "metadata": {},
   "outputs": [
    {
     "data": {
      "text/plain": [
       "3.33"
      ]
     },
     "execution_count": 11,
     "metadata": {},
     "output_type": "execute_result"
    }
   ],
   "source": [
    "value = 3.3333333333\n",
    "float(\"{:.2f}\".format(value))"
   ]
  },
  {
   "cell_type": "code",
   "execution_count": null,
   "metadata": {},
   "outputs": [],
   "source": []
  },
  {
   "cell_type": "code",
   "execution_count": 20,
   "metadata": {},
   "outputs": [
    {
     "data": {
      "text/plain": [
       "3.15"
      ]
     },
     "execution_count": 20,
     "metadata": {},
     "output_type": "execute_result"
    }
   ],
   "source": [
    "num = 3.147\n",
    "newnum = round(num, 2)\n",
    "newnum"
   ]
  },
  {
   "cell_type": "code",
   "execution_count": 21,
   "metadata": {},
   "outputs": [
    {
     "name": "stdout",
     "output_type": "stream",
     "text": [
      "please enter a numberAS\n",
      "AS\n"
     ]
    }
   ],
   "source": [
    "number = input(\"please enter a number\")\n",
    "number1 = (\"number\"*4)\n",
    "print(number)"
   ]
  },
  {
   "cell_type": "code",
   "execution_count": 24,
   "metadata": {},
   "outputs": [
    {
     "name": "stdout",
     "output_type": "stream",
     "text": [
      "orange apple banana\n"
     ]
    }
   ],
   "source": [
    "fruit = 'orange'\n",
    "fruit += ' apple'\n",
    "fruit += ' banana'\n",
    "print(fruit)"
   ]
  },
  {
   "cell_type": "code",
   "execution_count": 25,
   "metadata": {},
   "outputs": [
    {
     "name": "stdout",
     "output_type": "stream",
     "text": [
      "AppleApple OrangeOrangeOrange\n"
     ]
    }
   ],
   "source": [
    "fruit1 = \"Apple\"\n",
    "fruit2 = \"Orange\"\n",
    "print(2*fruit1+\" \"+3*fruit2)"
   ]
  },
  {
   "cell_type": "code",
   "execution_count": 26,
   "metadata": {},
   "outputs": [
    {
     "name": "stdout",
     "output_type": "stream",
     "text": [
      "5.0\n"
     ]
    }
   ],
   "source": [
    "a = 3\n",
    "b = 4\n",
    "c = (a**2 + b**2)**0.5\n",
    "print(c)"
   ]
  },
  {
   "cell_type": "code",
   "execution_count": 27,
   "metadata": {},
   "outputs": [
    {
     "ename": "SyntaxError",
     "evalue": "invalid syntax (<ipython-input-27-1bcfb2de6bbc>, line 3)",
     "output_type": "error",
     "traceback": [
      "\u001b[1;36m  File \u001b[1;32m\"<ipython-input-27-1bcfb2de6bbc>\"\u001b[1;36m, line \u001b[1;32m3\u001b[0m\n\u001b[1;33m    print(x 52)\u001b[0m\n\u001b[1;37m             ^\u001b[0m\n\u001b[1;31mSyntaxError\u001b[0m\u001b[1;31m:\u001b[0m invalid syntax\n"
     ]
    }
   ],
   "source": [
    "x = 1000\n",
    "x(1, 52) = 1000 * 0.07 + x\n",
    "print(x 52)"
   ]
  },
  {
   "cell_type": "code",
   "execution_count": 28,
   "metadata": {},
   "outputs": [
    {
     "name": "stdout",
     "output_type": "stream",
     "text": [
      "Enter first number2\n",
      "Enter second number2\n",
      "4\n"
     ]
    }
   ],
   "source": [
    "number_1 = input(\"Enter first number\")\n",
    "number_2 = input(\"Enter second number\")\n",
    "print(int(number_1) + int(number_2))"
   ]
  },
  {
   "cell_type": "code",
   "execution_count": 29,
   "metadata": {},
   "outputs": [
    {
     "name": "stdout",
     "output_type": "stream",
     "text": [
      "Enter first number2\n",
      "Enter second number2\n",
      "4\n"
     ]
    }
   ],
   "source": [
    "number_1 = int(input(\"Enter first number\"))\n",
    "number_2 = int(input(\"Enter second number\"))\n",
    "print(number_1 + number_2)"
   ]
  },
  {
   "cell_type": "code",
   "execution_count": 30,
   "metadata": {},
   "outputs": [
    {
     "name": "stdout",
     "output_type": "stream",
     "text": [
      "Enter first number2\n",
      "Enter second number2\n",
      "2 + 2 = \n",
      "4\n"
     ]
    }
   ],
   "source": [
    "number_1 = int(input(\"Enter first number\"))\n",
    "number_2 = int(input(\"Enter second number\"))\n",
    "print(\"{} + {} = \".format(number_1, number_2))\n",
    "print(number_1 + number_2)"
   ]
  },
  {
   "cell_type": "code",
   "execution_count": 31,
   "metadata": {},
   "outputs": [
    {
     "name": "stdout",
     "output_type": "stream",
     "text": [
      "Enter first number2\n",
      "Enter second number2\n",
      "2 * 2 = \n",
      "4\n"
     ]
    }
   ],
   "source": [
    "number_1 = int(input(\"Enter first number\"))\n",
    "number_2 = int(input(\"Enter second number\"))\n",
    "print(\"{} * {} = \".format(number_1, number_2))\n",
    "print(number_1 * number_2)"
   ]
  },
  {
   "cell_type": "code",
   "execution_count": 32,
   "metadata": {},
   "outputs": [],
   "source": [
    "from math import *"
   ]
  },
  {
   "cell_type": "code",
   "execution_count": 33,
   "metadata": {},
   "outputs": [
    {
     "name": "stdout",
     "output_type": "stream",
     "text": [
      "5\n",
      "9.0\n",
      "6\n",
      "4\n",
      "4\n",
      "3\n",
      "4\n",
      "6.0\n"
     ]
    }
   ],
   "source": [
    "#common functions in Python related to nums\n",
    "\n",
    "num = -5\n",
    "print(abs(num))# give absolute value of num -->5\n",
    "print(pow(3,2))#-->9\n",
    "print(max(4,6))# maximum -->6\n",
    "print(min(4,6))# minimum -->4\n",
    "print(round(3.7))# rounds the num -->4\n",
    "\n",
    "from math import *\n",
    "print(floor(3.7))#3, chopp off decimals\n",
    "print(ceil(3.2))#4, opposite of floor. it pushes next num\n",
    "print(sqrt(36))"
   ]
  },
  {
   "cell_type": "markdown",
   "metadata": {},
   "source": [
    "### Scientific Notation"
   ]
  },
  {
   "cell_type": "code",
   "execution_count": 1,
   "metadata": {},
   "outputs": [
    {
     "data": {
      "text/plain": [
       "0.0005"
      ]
     },
     "execution_count": 1,
     "metadata": {},
     "output_type": "execute_result"
    }
   ],
   "source": [
    "#scientific notation occurs in float numbers when they are so small or very large\n",
    "n1 = 0.0005\n",
    "n1"
   ]
  },
  {
   "cell_type": "code",
   "execution_count": 2,
   "metadata": {},
   "outputs": [
    {
     "data": {
      "text/plain": [
       "5.4321654e-09"
      ]
     },
     "execution_count": 2,
     "metadata": {},
     "output_type": "execute_result"
    }
   ],
   "source": [
    "n2 = 0.0000000054321654\n",
    "n2"
   ]
  },
  {
   "cell_type": "code",
   "execution_count": 7,
   "metadata": {},
   "outputs": [
    {
     "data": {
      "text/plain": [
       "0"
      ]
     },
     "execution_count": 7,
     "metadata": {},
     "output_type": "execute_result"
    }
   ],
   "source": [
    "int(n2)"
   ]
  },
  {
   "cell_type": "code",
   "execution_count": 3,
   "metadata": {},
   "outputs": [
    {
     "data": {
      "text/plain": [
       "1.0000000000000004e+28"
      ]
     },
     "execution_count": 3,
     "metadata": {},
     "output_type": "execute_result"
    }
   ],
   "source": [
    "#big float number\n",
    "n3 = 10000000000000003346700000000.000\n",
    "n3"
   ]
  },
  {
   "cell_type": "code",
   "execution_count": null,
   "metadata": {},
   "outputs": [],
   "source": [
    "#Let's create a test DataFrame with random numbers in a float format in order to illustrate scientific notation.\n",
    "\n",
    "df = pd.DataFrame(np.random.random(5)**10, columns=['random'])"
   ]
  },
  {
   "cell_type": "code",
   "execution_count": null,
   "metadata": {},
   "outputs": [],
   "source": [
    "df"
   ]
  },
  {
   "cell_type": "code",
   "execution_count": null,
   "metadata": {},
   "outputs": [],
   "source": [
    "df[\"random\"] = df[\"random\"].round(5)\n",
    "df"
   ]
  },
  {
   "cell_type": "code",
   "execution_count": null,
   "metadata": {},
   "outputs": [],
   "source": []
  },
  {
   "cell_type": "markdown",
   "metadata": {},
   "source": [
    "#### Suppressing "
   ]
  },
  {
   "cell_type": "code",
   "execution_count": 8,
   "metadata": {},
   "outputs": [
    {
     "name": "stdout",
     "output_type": "stream",
     "text": [
      "1.5151515151515152e-06\n"
     ]
    }
   ],
   "source": [
    "num=3/1980000\n",
    "print(num)"
   ]
  },
  {
   "cell_type": "code",
   "execution_count": 9,
   "metadata": {},
   "outputs": [],
   "source": [
    "num=2.4e-06"
   ]
  },
  {
   "cell_type": "code",
   "execution_count": 10,
   "metadata": {},
   "outputs": [
    {
     "data": {
      "text/plain": [
       "'0.00000240'"
      ]
     },
     "execution_count": 10,
     "metadata": {},
     "output_type": "execute_result"
    }
   ],
   "source": [
    "f\"{num:.8f}\""
   ]
  },
  {
   "cell_type": "code",
   "execution_count": null,
   "metadata": {},
   "outputs": [],
   "source": []
  },
  {
   "cell_type": "code",
   "execution_count": null,
   "metadata": {},
   "outputs": [],
   "source": []
  },
  {
   "cell_type": "markdown",
   "metadata": {},
   "source": [
    "## Boolean Types"
   ]
  },
  {
   "cell_type": "raw",
   "metadata": {},
   "source": [
    "Bools have two values. True and False (represent 1 and 0 or yes & no or exist & nonexistent)."
   ]
  },
  {
   "cell_type": "raw",
   "metadata": {},
   "source": [
    "Their values are the two constant objects False and True (first letters are uppercase). \n",
    "Used to represent truth values, in numeric contexts behave like integers 0 and 1.\n",
    "Mostly used in conditional operations.\n",
    "Ex: TV is turned on or off or weather is rainy or not. \n",
    "tv_open = True  # it seems TV is on now\n",
    "is_rainy = False  # I love sunny weather"
   ]
  },
  {
   "cell_type": "code",
   "execution_count": 34,
   "metadata": {},
   "outputs": [],
   "source": [
    "is_pass = True #If you pass the course , whether students have passed a course or not"
   ]
  },
  {
   "cell_type": "code",
   "execution_count": 35,
   "metadata": {},
   "outputs": [],
   "source": [
    "is_pass = False # If you did not pass the course"
   ]
  },
  {
   "cell_type": "raw",
   "metadata": {},
   "source": [
    "Boolean Logic Expressions"
   ]
  },
  {
   "cell_type": "raw",
   "metadata": {},
   "source": [
    "• 3 built-in boolean operators: and, or and not. Except not, all are binary operators, which means two arguments are required.\n",
    "\n",
    "    • And operator evaluates all expressions and returns:\n",
    "\n",
    "        * last expression if all True.  2 and 3--> 3\n",
    "        * ﬁrst value that evaluated False. 1 and 0.0 and 0 --> 0.0\n",
    "    • Or operator evaluates the expressions left to right and returns:\n",
    "        * ﬁrst True value, 2 or 3 --> 2\n",
    "        * last value if none is True,  0 or {} --> {}\n",
    "    • Not operator: Evaluates expression that follows as opposite of truth. Eg: not True -->False. "
   ]
  },
  {
   "cell_type": "markdown",
   "metadata": {},
   "source": [
    "`and` operator"
   ]
  },
  {
   "cell_type": "code",
   "execution_count": 36,
   "metadata": {},
   "outputs": [
    {
     "data": {
      "text/plain": [
       "3"
      ]
     },
     "execution_count": 36,
     "metadata": {},
     "output_type": "execute_result"
    }
   ],
   "source": [
    "2 and 3 # And operator evaluates all expressions and returns last expression if all True. "
   ]
  },
  {
   "cell_type": "code",
   "execution_count": 37,
   "metadata": {},
   "outputs": [
    {
     "data": {
      "text/plain": [
       "0.0"
      ]
     },
     "execution_count": 37,
     "metadata": {},
     "output_type": "execute_result"
    }
   ],
   "source": [
    "1 and 0.0 and 0 # And operator evaluates all expressions and returns ﬁrst value that evaluated False. "
   ]
  },
  {
   "cell_type": "markdown",
   "metadata": {},
   "source": [
    "`or` operator"
   ]
  },
  {
   "cell_type": "code",
   "execution_count": 38,
   "metadata": {},
   "outputs": [
    {
     "data": {
      "text/plain": [
       "2"
      ]
     },
     "execution_count": 38,
     "metadata": {},
     "output_type": "execute_result"
    }
   ],
   "source": [
    "2 or 3 #  Or operator evaluates the expressions left to right and returns ﬁrst True value"
   ]
  },
  {
   "cell_type": "code",
   "execution_count": 39,
   "metadata": {},
   "outputs": [
    {
     "data": {
      "text/plain": [
       "{}"
      ]
     },
     "execution_count": 39,
     "metadata": {},
     "output_type": "execute_result"
    }
   ],
   "source": [
    "0 or {} # Or operator evaluates the expressions left to right and returns last value if none is True"
   ]
  },
  {
   "cell_type": "markdown",
   "metadata": {},
   "source": [
    "`not` operator"
   ]
  },
  {
   "cell_type": "code",
   "execution_count": null,
   "metadata": {},
   "outputs": [],
   "source": [
    "not True # Evaluates expression that follows as opposite of truth. "
   ]
  },
  {
   "cell_type": "code",
   "execution_count": 40,
   "metadata": {},
   "outputs": [],
   "source": [
    "x = True and not True "
   ]
  },
  {
   "cell_type": "raw",
   "metadata": {},
   "source": [
    "Value1\tLogic\tValue2\tReturns"
   ]
  },
  {
   "cell_type": "code",
   "execution_count": 41,
   "metadata": {},
   "outputs": [
    {
     "data": {
      "text/plain": [
       "True"
      ]
     },
     "execution_count": 41,
     "metadata": {},
     "output_type": "execute_result"
    }
   ],
   "source": [
    "True and True "
   ]
  },
  {
   "cell_type": "markdown",
   "metadata": {},
   "source": [
    "True and False"
   ]
  },
  {
   "cell_type": "code",
   "execution_count": 43,
   "metadata": {},
   "outputs": [
    {
     "data": {
      "text/plain": [
       "False"
      ]
     },
     "execution_count": 43,
     "metadata": {},
     "output_type": "execute_result"
    }
   ],
   "source": [
    "False and False"
   ]
  },
  {
   "cell_type": "code",
   "execution_count": 44,
   "metadata": {},
   "outputs": [
    {
     "data": {
      "text/plain": [
       "False"
      ]
     },
     "execution_count": 44,
     "metadata": {},
     "output_type": "execute_result"
    }
   ],
   "source": [
    "False and True"
   ]
  },
  {
   "cell_type": "code",
   "execution_count": 45,
   "metadata": {},
   "outputs": [
    {
     "data": {
      "text/plain": [
       "True"
      ]
     },
     "execution_count": 45,
     "metadata": {},
     "output_type": "execute_result"
    }
   ],
   "source": [
    "True or True"
   ]
  },
  {
   "cell_type": "code",
   "execution_count": 46,
   "metadata": {},
   "outputs": [
    {
     "data": {
      "text/plain": [
       "True"
      ]
     },
     "execution_count": 46,
     "metadata": {},
     "output_type": "execute_result"
    }
   ],
   "source": [
    "True or False"
   ]
  },
  {
   "cell_type": "code",
   "execution_count": 47,
   "metadata": {},
   "outputs": [
    {
     "data": {
      "text/plain": [
       "False"
      ]
     },
     "execution_count": 47,
     "metadata": {},
     "output_type": "execute_result"
    }
   ],
   "source": [
    "False or False"
   ]
  },
  {
   "cell_type": "code",
   "execution_count": 48,
   "metadata": {},
   "outputs": [
    {
     "data": {
      "text/plain": [
       "True"
      ]
     },
     "execution_count": 48,
     "metadata": {},
     "output_type": "execute_result"
    }
   ],
   "source": [
    "False or True"
   ]
  },
  {
   "cell_type": "raw",
   "metadata": {},
   "source": [
    "Order of Priority"
   ]
  },
  {
   "cell_type": "markdown",
   "metadata": {},
   "source": [
    "`not` --> `and`--> `or`"
   ]
  },
  {
   "cell_type": "code",
   "execution_count": 49,
   "metadata": {},
   "outputs": [
    {
     "data": {
      "text/plain": [
       "True"
      ]
     },
     "execution_count": 49,
     "metadata": {},
     "output_type": "execute_result"
    }
   ],
   "source": [
    "True and False or not False or False"
   ]
  },
  {
   "cell_type": "raw",
   "metadata": {},
   "source": [
    "Tips:\n",
    "• and and or return one of its operands, not necessarily a bool type. \n",
    "• not always returns bool type."
   ]
  },
  {
   "cell_type": "raw",
   "metadata": {},
   "source": [
    "Truth Values of Logic Statements"
   ]
  },
  {
   "cell_type": "raw",
   "metadata": {},
   "source": [
    "• Although Python has its own boolean data type, we often use non-boolean values in log.ops.\n",
    "• The values of non-boolean types (integers, strings, etc.) are considered truthy or falsy when used with logical ops, depending on whether they are seen as True or False.\n",
    "• The following values are considered False, in that they evaluate to False when applied to a boolean operator:\n",
    "    ○ None.\n",
    "    ○ Zero of any numeric type: 0, 0.0, 0j\n",
    "    ○ Empty sequences and collections: '', [], {}.\n",
    "    ○ Other than above values, any remaining value is evaluated as True."
   ]
  },
  {
   "cell_type": "markdown",
   "metadata": {},
   "source": [
    "## Type Conversion"
   ]
  },
  {
   "cell_type": "raw",
   "metadata": {},
   "source": [
    "Dts convertable - if the type allows. Functions to convert the types:\n",
    "• str() converts to string type\n",
    "• int() converts to signed integer type\n",
    "• float() converts to floating point type"
   ]
  },
  {
   "cell_type": "raw",
   "metadata": {},
   "source": [
    "💡Tips: We can print the types of data using type() function."
   ]
  },
  {
   "cell_type": "code",
   "execution_count": 1,
   "metadata": {},
   "outputs": [
    {
     "name": "stdout",
     "output_type": "stream",
     "text": [
      "<class 'str'>\n"
     ]
    }
   ],
   "source": [
    "example1 = 'sometimes what you say is less important than how you say it'\n",
    "print(type(example1))"
   ]
  },
  {
   "cell_type": "code",
   "execution_count": 3,
   "metadata": {},
   "outputs": [
    {
     "data": {
      "text/plain": [
       "'71'"
      ]
     },
     "execution_count": 3,
     "metadata": {},
     "output_type": "execute_result"
    }
   ],
   "source": [
    "'71'"
   ]
  },
  {
   "cell_type": "code",
   "execution_count": 4,
   "metadata": {},
   "outputs": [
    {
     "data": {
      "text/plain": [
       "71"
      ]
     },
     "execution_count": 4,
     "metadata": {},
     "output_type": "execute_result"
    }
   ],
   "source": [
    "71"
   ]
  },
  {
   "cell_type": "code",
   "execution_count": 5,
   "metadata": {},
   "outputs": [],
   "source": [
    "f = 3.14  # the type is float\n",
    "s = str(f)  # converting float to string"
   ]
  },
  {
   "cell_type": "code",
   "execution_count": 6,
   "metadata": {},
   "outputs": [
    {
     "name": "stdout",
     "output_type": "stream",
     "text": [
      "<class 'str'>\n"
     ]
    }
   ],
   "source": [
    "print(type(s)) "
   ]
  },
  {
   "cell_type": "code",
   "execution_count": null,
   "metadata": {},
   "outputs": [],
   "source": [
    "Tips: Value of any type in Python can be converted to a string."
   ]
  },
  {
   "cell_type": "code",
   "execution_count": 16,
   "metadata": {},
   "outputs": [
    {
     "name": "stdout",
     "output_type": "stream",
     "text": [
      "<class 'int'>\n"
     ]
    },
    {
     "data": {
      "text/plain": [
       "2.0"
      ]
     },
     "execution_count": 16,
     "metadata": {},
     "output_type": "execute_result"
    }
   ],
   "source": [
    "x = 2\n",
    "print(type(x))\n",
    "float(x) "
   ]
  }
 ],
 "metadata": {
  "kernelspec": {
   "display_name": "Python 3",
   "language": "python",
   "name": "python3"
  },
  "language_info": {
   "codemirror_mode": {
    "name": "ipython",
    "version": 3
   },
   "file_extension": ".py",
   "mimetype": "text/x-python",
   "name": "python",
   "nbconvert_exporter": "python",
   "pygments_lexer": "ipython3",
   "version": "3.7.6"
  }
 },
 "nbformat": 4,
 "nbformat_minor": 4
}
