{
 "cells": [
  {
   "cell_type": "markdown",
   "id": "55f7cb05",
   "metadata": {
    "id": "hxtliEGIh4gS"
   },
   "source": [
    "#### **Excersie: 1**\n",
    "\n",
    "- Get all the proper nouns from a given text in a list and also count how many of them.\n",
    "- **Proper Noun** means a noun that names a particular person, place, or thing."
   ]
  },
  {
   "cell_type": "code",
   "execution_count": 37,
   "id": "5e4dae6c",
   "metadata": {},
   "outputs": [],
   "source": [
    "text = '''Ravi and Raju are the best friends from school days.They wanted to go for a world tour and \n",
    "visit famous cities like Paris, London, Dubai, Rome etc and also they called their another friend Mohan to take part of this world tour.\n",
    "They started their journey from Hyderabad and spent next 3 months travelling all the wonderful cities in the world and cherish a happy moments!\n",
    "'''"
   ]
  },
  {
   "cell_type": "code",
   "execution_count": 2,
   "id": "ebda16a8",
   "metadata": {},
   "outputs": [],
   "source": [
    "import spacy"
   ]
  },
  {
   "cell_type": "code",
   "execution_count": 4,
   "id": "7047619a",
   "metadata": {},
   "outputs": [],
   "source": [
    "nlp = spacy.blank(\"en\")"
   ]
  },
  {
   "cell_type": "code",
   "execution_count": 9,
   "id": "5df8bc41",
   "metadata": {},
   "outputs": [
    {
     "data": {
      "text/plain": [
       "[]"
      ]
     },
     "execution_count": 9,
     "metadata": {},
     "output_type": "execute_result"
    }
   ],
   "source": [
    "nlp.pipe_names"
   ]
  },
  {
   "cell_type": "code",
   "execution_count": null,
   "id": "2698a69d",
   "metadata": {},
   "outputs": [],
   "source": []
  },
  {
   "cell_type": "code",
   "execution_count": 5,
   "id": "8196924c",
   "metadata": {},
   "outputs": [],
   "source": [
    "doc = nlp(text)"
   ]
  },
  {
   "cell_type": "code",
   "execution_count": 14,
   "id": "ec522f65",
   "metadata": {},
   "outputs": [
    {
     "data": {
      "text/plain": [
       "Ravi"
      ]
     },
     "execution_count": 14,
     "metadata": {},
     "output_type": "execute_result"
    }
   ],
   "source": [
    "my_list= []\n",
    "for token in doc:\n",
    "    my_list.append(token)\n",
    "my_list[0]"
   ]
  },
  {
   "cell_type": "code",
   "execution_count": 16,
   "id": "f7142622",
   "metadata": {},
   "outputs": [],
   "source": [
    "nlp = spacy.load(\"en_core_web_sm\")"
   ]
  },
  {
   "cell_type": "code",
   "execution_count": 17,
   "id": "56d203a5",
   "metadata": {},
   "outputs": [
    {
     "data": {
      "text/plain": [
       "['tok2vec', 'tagger', 'parser', 'attribute_ruler', 'lemmatizer', 'ner']"
      ]
     },
     "execution_count": 17,
     "metadata": {},
     "output_type": "execute_result"
    }
   ],
   "source": [
    "nlp.pipe_names"
   ]
  },
  {
   "cell_type": "code",
   "execution_count": 18,
   "id": "c3787a1a",
   "metadata": {},
   "outputs": [],
   "source": [
    "doc = nlp(text)"
   ]
  },
  {
   "cell_type": "code",
   "execution_count": 32,
   "id": "a92e304b",
   "metadata": {},
   "outputs": [],
   "source": [
    "my_list =[]\n",
    "for i in doc:\n",
    "    if i.pos_ ==\"PROPN\":\n",
    "        my_list.append(i)"
   ]
  },
  {
   "cell_type": "code",
   "execution_count": 33,
   "id": "0ab58e92",
   "metadata": {},
   "outputs": [
    {
     "data": {
      "text/plain": [
       "[Raju, Paris, London, Dubai, Rome, Mohan, Hyderabad]"
      ]
     },
     "execution_count": 33,
     "metadata": {},
     "output_type": "execute_result"
    }
   ],
   "source": [
    "my_list"
   ]
  },
  {
   "cell_type": "code",
   "execution_count": 34,
   "id": "9d89a164",
   "metadata": {},
   "outputs": [
    {
     "data": {
      "text/plain": [
       "7"
      ]
     },
     "execution_count": 34,
     "metadata": {},
     "output_type": "execute_result"
    }
   ],
   "source": [
    "len(my_list)"
   ]
  },
  {
   "cell_type": "markdown",
   "id": "1da22487",
   "metadata": {
    "id": "FUr2rnbYmdlv"
   },
   "source": [
    "#### **Excersie: 2**\n",
    "\n",
    "- Get all companies names from a given text and also the count of them.\n",
    "- **Hint**: Use the spacy **ner** functionality "
   ]
  },
  {
   "cell_type": "code",
   "execution_count": 43,
   "id": "8e89c252",
   "metadata": {},
   "outputs": [],
   "source": [
    "text = '''The Top 5 companies in USA are Tesla, Walmart, Amazon, Microsoft, Google and the top 5 companies in \n",
    "India are Infosys, Reliance, HDFC Bank, Hindustan Unilever and Bharti Airtel'''"
   ]
  },
  {
   "cell_type": "code",
   "execution_count": 44,
   "id": "282954ab",
   "metadata": {},
   "outputs": [
    {
     "data": {
      "text/plain": [
       "['tok2vec', 'tagger', 'parser', 'attribute_ruler', 'lemmatizer', 'ner']"
      ]
     },
     "execution_count": 44,
     "metadata": {},
     "output_type": "execute_result"
    }
   ],
   "source": [
    "nlp.pipe_names"
   ]
  },
  {
   "cell_type": "code",
   "execution_count": 45,
   "id": "42ffbb60",
   "metadata": {},
   "outputs": [],
   "source": [
    "doc = nlp(text)"
   ]
  },
  {
   "cell_type": "code",
   "execution_count": 54,
   "id": "a91e4e3e",
   "metadata": {},
   "outputs": [],
   "source": [
    "org = []\n",
    "for i in doc.ents:\n",
    "    if i.label_==\"ORG\":\n",
    "        org.append(i.text)"
   ]
  },
  {
   "cell_type": "code",
   "execution_count": 57,
   "id": "c08a6334",
   "metadata": {},
   "outputs": [
    {
     "name": "stdout",
     "output_type": "stream",
     "text": [
      "['Tesla', 'Walmart', 'Amazon', 'Microsoft', 'Google', 'Infosys', 'Reliance', 'HDFC Bank', 'Hindustan Unilever', 'Bharti']\n",
      "10\n"
     ]
    }
   ],
   "source": [
    "print(org)\n",
    "print(len(org))"
   ]
  },
  {
   "cell_type": "markdown",
   "id": "ee496ed0",
   "metadata": {
    "id": "xCjMD77juhOm"
   },
   "source": [
    "**Exercise1:** \n",
    "- Convert these list of words into base form using Stemming and Lemmatization and observe the transformations\n",
    "- Write a short note on the words that have different base words using stemming and Lemmatization"
   ]
  },
  {
   "cell_type": "code",
   "execution_count": 64,
   "id": "689bec42",
   "metadata": {},
   "outputs": [],
   "source": [
    "#using stemming in nltk\n",
    "lst_words = ['running', 'painting', 'walking', 'dressing', 'likely', 'children', 'whom', 'good', 'ate', 'fishing']"
   ]
  },
  {
   "cell_type": "code",
   "execution_count": 65,
   "id": "6ba3fde2",
   "metadata": {},
   "outputs": [],
   "source": [
    "import nltk"
   ]
  },
  {
   "cell_type": "code",
   "execution_count": 66,
   "id": "b73a0a35",
   "metadata": {},
   "outputs": [],
   "source": [
    "from nltk.stem import PorterStemmer"
   ]
  },
  {
   "cell_type": "code",
   "execution_count": 67,
   "id": "8a731fec",
   "metadata": {},
   "outputs": [],
   "source": [
    "stemmer = PorterStemmer()"
   ]
  },
  {
   "cell_type": "code",
   "execution_count": 85,
   "id": "63e9306b",
   "metadata": {},
   "outputs": [],
   "source": [
    "stems = []\n",
    "for i in lst_words:\n",
    "    stems.append(stemmer.stem(i))"
   ]
  },
  {
   "cell_type": "code",
   "execution_count": 80,
   "id": "3e3e8d55",
   "metadata": {},
   "outputs": [],
   "source": [
    "import spacy\n",
    "\n",
    "nlp = spacy.load(\"en_core_web_sm\")\n",
    "\n",
    "doc= nlp(\" \".join(lst_words))"
   ]
  },
  {
   "cell_type": "code",
   "execution_count": 81,
   "id": "9a7ca306",
   "metadata": {},
   "outputs": [
    {
     "data": {
      "text/plain": [
       "()"
      ]
     },
     "execution_count": 81,
     "metadata": {},
     "output_type": "execute_result"
    }
   ],
   "source": [
    "doc.ents"
   ]
  },
  {
   "cell_type": "code",
   "execution_count": 117,
   "id": "055a474d",
   "metadata": {},
   "outputs": [
    {
     "data": {
      "text/plain": [
       "['run',\n",
       " 'paint',\n",
       " 'walk',\n",
       " 'dress',\n",
       " 'likely',\n",
       " 'child',\n",
       " 'whom',\n",
       " 'good',\n",
       " 'eat',\n",
       " 'fishing']"
      ]
     },
     "execution_count": 117,
     "metadata": {},
     "output_type": "execute_result"
    }
   ],
   "source": [
    "lemms = [i.lemma_ for i in doc]\n",
    "lemms"
   ]
  },
  {
   "cell_type": "code",
   "execution_count": 111,
   "id": "d55a3387",
   "metadata": {},
   "outputs": [],
   "source": [
    "import pandas as pd\n",
    "\n",
    "df_list = pd.DataFrame(data = (stems, lemms))\n",
    "df_list = df_list.T"
   ]
  },
  {
   "cell_type": "code",
   "execution_count": 112,
   "id": "259eb92f",
   "metadata": {},
   "outputs": [
    {
     "data": {
      "text/html": [
       "<div>\n",
       "<style scoped>\n",
       "    .dataframe tbody tr th:only-of-type {\n",
       "        vertical-align: middle;\n",
       "    }\n",
       "\n",
       "    .dataframe tbody tr th {\n",
       "        vertical-align: top;\n",
       "    }\n",
       "\n",
       "    .dataframe thead th {\n",
       "        text-align: right;\n",
       "    }\n",
       "</style>\n",
       "<table border=\"1\" class=\"dataframe\">\n",
       "  <thead>\n",
       "    <tr style=\"text-align: right;\">\n",
       "      <th></th>\n",
       "      <th>0</th>\n",
       "      <th>1</th>\n",
       "    </tr>\n",
       "  </thead>\n",
       "  <tbody>\n",
       "    <tr>\n",
       "      <th>0</th>\n",
       "      <td>run</td>\n",
       "      <td>run</td>\n",
       "    </tr>\n",
       "    <tr>\n",
       "      <th>1</th>\n",
       "      <td>paint</td>\n",
       "      <td>paint</td>\n",
       "    </tr>\n",
       "    <tr>\n",
       "      <th>2</th>\n",
       "      <td>walk</td>\n",
       "      <td>walk</td>\n",
       "    </tr>\n",
       "    <tr>\n",
       "      <th>3</th>\n",
       "      <td>dress</td>\n",
       "      <td>dress</td>\n",
       "    </tr>\n",
       "    <tr>\n",
       "      <th>4</th>\n",
       "      <td>like</td>\n",
       "      <td>likely</td>\n",
       "    </tr>\n",
       "    <tr>\n",
       "      <th>5</th>\n",
       "      <td>children</td>\n",
       "      <td>child</td>\n",
       "    </tr>\n",
       "    <tr>\n",
       "      <th>6</th>\n",
       "      <td>whom</td>\n",
       "      <td>whom</td>\n",
       "    </tr>\n",
       "    <tr>\n",
       "      <th>7</th>\n",
       "      <td>good</td>\n",
       "      <td>good</td>\n",
       "    </tr>\n",
       "    <tr>\n",
       "      <th>8</th>\n",
       "      <td>ate</td>\n",
       "      <td>eat</td>\n",
       "    </tr>\n",
       "    <tr>\n",
       "      <th>9</th>\n",
       "      <td>fish</td>\n",
       "      <td>fishing</td>\n",
       "    </tr>\n",
       "  </tbody>\n",
       "</table>\n",
       "</div>"
      ],
      "text/plain": [
       "          0        1\n",
       "0       run      run\n",
       "1     paint    paint\n",
       "2      walk     walk\n",
       "3     dress    dress\n",
       "4      like   likely\n",
       "5  children    child\n",
       "6      whom     whom\n",
       "7      good     good\n",
       "8       ate      eat\n",
       "9      fish  fishing"
      ]
     },
     "execution_count": 112,
     "metadata": {},
     "output_type": "execute_result"
    }
   ],
   "source": [
    "df_list"
   ]
  },
  {
   "cell_type": "code",
   "execution_count": 115,
   "id": "7faebc18",
   "metadata": {},
   "outputs": [],
   "source": [
    "df_list = df_list.rename(columns = {0:\"stemms\", 1: \"lemms\"})"
   ]
  },
  {
   "cell_type": "code",
   "execution_count": 116,
   "id": "5924b620",
   "metadata": {},
   "outputs": [
    {
     "data": {
      "text/html": [
       "<div>\n",
       "<style scoped>\n",
       "    .dataframe tbody tr th:only-of-type {\n",
       "        vertical-align: middle;\n",
       "    }\n",
       "\n",
       "    .dataframe tbody tr th {\n",
       "        vertical-align: top;\n",
       "    }\n",
       "\n",
       "    .dataframe thead th {\n",
       "        text-align: right;\n",
       "    }\n",
       "</style>\n",
       "<table border=\"1\" class=\"dataframe\">\n",
       "  <thead>\n",
       "    <tr style=\"text-align: right;\">\n",
       "      <th></th>\n",
       "      <th>stemms</th>\n",
       "      <th>lemms</th>\n",
       "    </tr>\n",
       "  </thead>\n",
       "  <tbody>\n",
       "    <tr>\n",
       "      <th>0</th>\n",
       "      <td>run</td>\n",
       "      <td>run</td>\n",
       "    </tr>\n",
       "    <tr>\n",
       "      <th>1</th>\n",
       "      <td>paint</td>\n",
       "      <td>paint</td>\n",
       "    </tr>\n",
       "    <tr>\n",
       "      <th>2</th>\n",
       "      <td>walk</td>\n",
       "      <td>walk</td>\n",
       "    </tr>\n",
       "    <tr>\n",
       "      <th>3</th>\n",
       "      <td>dress</td>\n",
       "      <td>dress</td>\n",
       "    </tr>\n",
       "    <tr>\n",
       "      <th>4</th>\n",
       "      <td>like</td>\n",
       "      <td>likely</td>\n",
       "    </tr>\n",
       "    <tr>\n",
       "      <th>5</th>\n",
       "      <td>children</td>\n",
       "      <td>child</td>\n",
       "    </tr>\n",
       "    <tr>\n",
       "      <th>6</th>\n",
       "      <td>whom</td>\n",
       "      <td>whom</td>\n",
       "    </tr>\n",
       "    <tr>\n",
       "      <th>7</th>\n",
       "      <td>good</td>\n",
       "      <td>good</td>\n",
       "    </tr>\n",
       "    <tr>\n",
       "      <th>8</th>\n",
       "      <td>ate</td>\n",
       "      <td>eat</td>\n",
       "    </tr>\n",
       "    <tr>\n",
       "      <th>9</th>\n",
       "      <td>fish</td>\n",
       "      <td>fishing</td>\n",
       "    </tr>\n",
       "  </tbody>\n",
       "</table>\n",
       "</div>"
      ],
      "text/plain": [
       "     stemms    lemms\n",
       "0       run      run\n",
       "1     paint    paint\n",
       "2      walk     walk\n",
       "3     dress    dress\n",
       "4      like   likely\n",
       "5  children    child\n",
       "6      whom     whom\n",
       "7      good     good\n",
       "8       ate      eat\n",
       "9      fish  fishing"
      ]
     },
     "execution_count": 116,
     "metadata": {},
     "output_type": "execute_result"
    }
   ],
   "source": [
    "df_list"
   ]
  },
  {
   "cell_type": "markdown",
   "id": "ca76d0cf",
   "metadata": {
    "id": "zIM2fumjGyxe"
   },
   "source": [
    "**Observations**\n",
    "\n",
    "- Words that are different in stemming and lemmatization are:\n",
    "    - painting\n",
    "    - likely\n",
    "    - children\n",
    "    - ate\n",
    "    - fishing\n",
    "\n",
    "- As Stemming achieves the base word by removing the **suffixes** [ing, ly etc], so it successfully transform the words like 'painting', 'likely', 'fishing' and lemmatization fails for some words ending with suffixes here.\n",
    "\n",
    "- As Lemmatization uses the **dictionary** meanings while converting to the base form, so words like 'children' and 'ate' are successfully transformed and stemming fails here."
   ]
  },
  {
   "cell_type": "code",
   "execution_count": 119,
   "id": "1eaa8bc9",
   "metadata": {},
   "outputs": [
    {
     "data": {
      "text/plain": [
       "['run',\n",
       " 'paint',\n",
       " 'walk',\n",
       " 'dress',\n",
       " 'likely',\n",
       " 'child',\n",
       " 'who',\n",
       " 'good',\n",
       " 'eat',\n",
       " 'fishing']"
      ]
     },
     "execution_count": 119,
     "metadata": {},
     "output_type": "execute_result"
    }
   ],
   "source": [
    "[i.lemma_ for i in doc]"
   ]
  },
  {
   "cell_type": "markdown",
   "id": "19cd8fed",
   "metadata": {
    "id": "CLjsQGjVye5W"
   },
   "source": [
    "**Exercise2:**\n",
    "\n",
    "- convert the given text into it's base form using both stemming and lemmatization"
   ]
  },
  {
   "cell_type": "code",
   "execution_count": 125,
   "id": "866eb9fc",
   "metadata": {
    "id": "0weT7a9tygnk"
   },
   "outputs": [],
   "source": [
    "text = \"\"\"Latha is very multi talented girl.She is good at many skills like dancing, running, singing, playing.She also likes eating Pav Bhagi. she has a \n",
    "habit of fishing and swimming too.Besides all this, she is a wonderful at cooking too.\n",
    "\"\"\""
   ]
  },
  {
   "cell_type": "code",
   "execution_count": 134,
   "id": "b241d33b",
   "metadata": {},
   "outputs": [
    {
     "name": "stdout",
     "output_type": "stream",
     "text": [
      "latha is veri multi talent girl.sh is good at mani skill like danc , run , sing , playing.sh also like eat pav bhagi . she ha a habit of fish and swim too.besid all thi , she is a wonder at cook too .\n"
     ]
    }
   ],
   "source": [
    "#using stemming in nltk\n",
    "\n",
    "#step1: Word tokenizing\n",
    "all_word_tokens = nltk.word_tokenize(text)\n",
    "\n",
    "\n",
    "#step2: getting the base form for each token using stemmer\n",
    "all_base_words = []\n",
    "\n",
    "for token in all_word_tokens:\n",
    "  base_form = stemmer.stem(token)\n",
    "  all_base_words.append(base_form)\n",
    "\n",
    "\n",
    "#step3: joining all words in a list into string using 'join()'\n",
    "final_base_text = ' '.join(all_base_words)\n",
    "print(final_base_text)"
   ]
  },
  {
   "cell_type": "code",
   "execution_count": 135,
   "id": "0cfba05d",
   "metadata": {},
   "outputs": [
    {
     "name": "stdout",
     "output_type": "stream",
     "text": [
      "Latha be very multi talented girl . she be good at many skill like dancing , running , singing , play . she also like eat Pav Bhagi . she have a \n",
      " habit of fishing and swim too . besides all this , she be a wonderful at cook too . \n",
      "\n"
     ]
    }
   ],
   "source": [
    "#using lemmatisation in spacy\n",
    "\n",
    "\n",
    "#step1: Creating the object for the given text\n",
    "doc = nlp(text)\n",
    "all_base_words = []\n",
    "\n",
    "#step2: getting the base form for each token using spacy 'lemma_'\n",
    "for token in doc:\n",
    "  base_word =  token.lemma_\n",
    "  all_base_words.append(base_word)\n",
    "\n",
    "\n",
    "#step3: joining all words in a list into string using 'join()'\n",
    "final_base_text = ' '.join(all_base_words)\n",
    "print(final_base_text)"
   ]
  },
  {
   "cell_type": "code",
   "execution_count": null,
   "id": "713f5fbe",
   "metadata": {},
   "outputs": [],
   "source": []
  }
 ],
 "metadata": {
  "kernelspec": {
   "display_name": "Python 3 (ipykernel)",
   "language": "python",
   "name": "python3"
  },
  "language_info": {
   "codemirror_mode": {
    "name": "ipython",
    "version": 3
   },
   "file_extension": ".py",
   "mimetype": "text/x-python",
   "name": "python",
   "nbconvert_exporter": "python",
   "pygments_lexer": "ipython3",
   "version": "3.11.3"
  }
 },
 "nbformat": 4,
 "nbformat_minor": 5
}
