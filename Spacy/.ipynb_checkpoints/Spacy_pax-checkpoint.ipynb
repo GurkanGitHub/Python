{
 "cells": [
  {
   "cell_type": "markdown",
   "id": "54b81684",
   "metadata": {},
   "source": [
    "## Tokenization"
   ]
  },
  {
   "cell_type": "code",
   "execution_count": 50,
   "id": "f4a0848f",
   "metadata": {},
   "outputs": [],
   "source": [
    "#!pip install spacy\n",
    "import spacy"
   ]
  },
  {
   "cell_type": "markdown",
   "id": "21613ce6",
   "metadata": {},
   "source": [
    "### creation of blank language object"
   ]
  },
  {
   "cell_type": "code",
   "execution_count": 114,
   "id": "facd0cad",
   "metadata": {},
   "outputs": [],
   "source": [
    "nlp = spacy.blank(\"en\") \n",
    "\n",
    "# we generate blank language processing pipeline\n",
    "# nlp object get text document into the framework of pipeline. \n",
    "# So we can tokenize it now. Still I do not have pipeline. "
   ]
  },
  {
   "cell_type": "markdown",
   "id": "981c1797",
   "metadata": {},
   "source": [
    "<img src=\"spacy_blank_pipeline.jpg\" height=100, width=500/>"
   ]
  },
  {
   "cell_type": "code",
   "execution_count": 115,
   "id": "f55bb56d",
   "metadata": {},
   "outputs": [],
   "source": [
    "import pandas as pd"
   ]
  },
  {
   "cell_type": "code",
   "execution_count": 116,
   "id": "7bce7ece",
   "metadata": {},
   "outputs": [],
   "source": [
    "df = pd.read_excel(\"D:/github/Python/Deep Learning/annotation.xlsx\")"
   ]
  },
  {
   "cell_type": "code",
   "execution_count": 117,
   "id": "92c83012",
   "metadata": {},
   "outputs": [
    {
     "data": {
      "text/html": [
       "<div>\n",
       "<style scoped>\n",
       "    .dataframe tbody tr th:only-of-type {\n",
       "        vertical-align: middle;\n",
       "    }\n",
       "\n",
       "    .dataframe tbody tr th {\n",
       "        vertical-align: top;\n",
       "    }\n",
       "\n",
       "    .dataframe thead th {\n",
       "        text-align: right;\n",
       "    }\n",
       "</style>\n",
       "<table border=\"1\" class=\"dataframe\">\n",
       "  <thead>\n",
       "    <tr style=\"text-align: right;\">\n",
       "      <th></th>\n",
       "      <th>sentence</th>\n",
       "      <th>indicator</th>\n",
       "      <th>factor</th>\n",
       "      <th>source</th>\n",
       "    </tr>\n",
       "  </thead>\n",
       "  <tbody>\n",
       "    <tr>\n",
       "      <th>0</th>\n",
       "      <td>In war, three quarters turns on morale; the ba...</td>\n",
       "      <td>Morale</td>\n",
       "      <td>moral</td>\n",
       "      <td>Napoleon, as cited in Partington, 1996.</td>\n",
       "    </tr>\n",
       "    <tr>\n",
       "      <th>1</th>\n",
       "      <td>Where superiority of numbers is overwhelming, ...</td>\n",
       "      <td>numerical superiority</td>\n",
       "      <td>physical</td>\n",
       "      <td>Clausewitz, 1989, p.196​</td>\n",
       "    </tr>\n",
       "    <tr>\n",
       "      <th>2</th>\n",
       "      <td>Grand strategy should calculate and develop ec...</td>\n",
       "      <td>economic resources, man-power</td>\n",
       "      <td>physical</td>\n",
       "      <td>Hart, 1991, 322</td>\n",
       "    </tr>\n",
       "    <tr>\n",
       "      <th>3</th>\n",
       "      <td>Beyond geography, money has always been the gr...</td>\n",
       "      <td>finance</td>\n",
       "      <td>physical</td>\n",
       "      <td>Smith, 2019, 19.</td>\n",
       "    </tr>\n",
       "    <tr>\n",
       "      <th>4</th>\n",
       "      <td>We have no right to judge cities by their appe...</td>\n",
       "      <td>numerical superiority</td>\n",
       "      <td>physical</td>\n",
       "      <td>Thucydides, 1972, 41</td>\n",
       "    </tr>\n",
       "  </tbody>\n",
       "</table>\n",
       "</div>"
      ],
      "text/plain": [
       "                                            sentence  \\\n",
       "0  In war, three quarters turns on morale; the ba...   \n",
       "1  Where superiority of numbers is overwhelming, ...   \n",
       "2  Grand strategy should calculate and develop ec...   \n",
       "3  Beyond geography, money has always been the gr...   \n",
       "4  We have no right to judge cities by their appe...   \n",
       "\n",
       "                       indicator    factor  \\\n",
       "0                         Morale     moral   \n",
       "1          numerical superiority  physical   \n",
       "2  economic resources, man-power  physical   \n",
       "3                        finance  physical   \n",
       "4          numerical superiority  physical   \n",
       "\n",
       "                                    source  \n",
       "0  Napoleon, as cited in Partington, 1996.  \n",
       "1                 Clausewitz, 1989, p.196​  \n",
       "2                          Hart, 1991, 322  \n",
       "3                         Smith, 2019, 19.  \n",
       "4                     Thucydides, 1972, 41  "
      ]
     },
     "execution_count": 117,
     "metadata": {},
     "output_type": "execute_result"
    }
   ],
   "source": [
    "df.head()"
   ]
  },
  {
   "cell_type": "code",
   "execution_count": 118,
   "id": "6c25621d",
   "metadata": {},
   "outputs": [
    {
     "data": {
      "text/plain": [
       "(41, 4)"
      ]
     },
     "execution_count": 118,
     "metadata": {},
     "output_type": "execute_result"
    }
   ],
   "source": [
    "df.shape"
   ]
  },
  {
   "cell_type": "markdown",
   "id": "17409325",
   "metadata": {},
   "source": [
    "### creation of document (paragraph)"
   ]
  },
  {
   "cell_type": "code",
   "execution_count": 119,
   "id": "c82ec80a",
   "metadata": {},
   "outputs": [
    {
     "data": {
      "text/plain": [
       "'In war, three quarters turns on morale; the balance of manpower counts only for the remaining quarter.'"
      ]
     },
     "execution_count": 119,
     "metadata": {},
     "output_type": "execute_result"
    }
   ],
   "source": [
    "df.sentence.values[0]"
   ]
  },
  {
   "cell_type": "code",
   "execution_count": 120,
   "id": "df55b107",
   "metadata": {},
   "outputs": [],
   "source": [
    "doc = nlp(df.sentence.values[0])"
   ]
  },
  {
   "cell_type": "code",
   "execution_count": 122,
   "id": "89dcb5b0",
   "metadata": {},
   "outputs": [
    {
     "data": {
      "text/plain": [
       "[]"
      ]
     },
     "execution_count": 122,
     "metadata": {},
     "output_type": "execute_result"
    }
   ],
   "source": [
    "nlp.pipe_names \n",
    "\n",
    "# by default we have anly tokenizer, we do not have pipeline yet. "
   ]
  },
  {
   "cell_type": "code",
   "execution_count": 121,
   "id": "3cec3605",
   "metadata": {},
   "outputs": [
    {
     "name": "stdout",
     "output_type": "stream",
     "text": [
      "In\n",
      "war\n",
      ",\n",
      "three\n",
      "quarters\n",
      "turns\n",
      "on\n",
      "morale\n",
      ";\n",
      "the\n",
      "balance\n",
      "of\n",
      "manpower\n",
      "counts\n",
      "only\n",
      "for\n",
      "the\n",
      "remaining\n",
      "quarter\n",
      ".\n"
     ]
    }
   ],
   "source": [
    "for token in doc:\n",
    "    print(token)"
   ]
  },
  {
   "cell_type": "code",
   "execution_count": 59,
   "id": "52017162",
   "metadata": {},
   "outputs": [
    {
     "data": {
      "text/plain": [
       "In"
      ]
     },
     "execution_count": 59,
     "metadata": {},
     "output_type": "execute_result"
    }
   ],
   "source": [
    "doc[0]"
   ]
  },
  {
   "cell_type": "code",
   "execution_count": 60,
   "id": "22c15d31",
   "metadata": {},
   "outputs": [
    {
     "data": {
      "text/plain": [
       "['In',\n",
       " 'war,',\n",
       " 'three',\n",
       " 'quarters',\n",
       " 'turns',\n",
       " 'on',\n",
       " 'morale;',\n",
       " 'the',\n",
       " 'balance',\n",
       " 'of',\n",
       " 'manpower',\n",
       " 'counts',\n",
       " 'only',\n",
       " 'for',\n",
       " 'the',\n",
       " 'remaining',\n",
       " 'quarter.']"
      ]
     },
     "execution_count": 60,
     "metadata": {},
     "output_type": "execute_result"
    }
   ],
   "source": [
    "df.sentence.values[0].split()"
   ]
  },
  {
   "cell_type": "code",
   "execution_count": 61,
   "id": "1603c8a7",
   "metadata": {},
   "outputs": [
    {
     "data": {
      "text/plain": [
       "spacy.lang.en.English"
      ]
     },
     "execution_count": 61,
     "metadata": {},
     "output_type": "execute_result"
    }
   ],
   "source": [
    "type(nlp) #it is object of english language"
   ]
  },
  {
   "cell_type": "code",
   "execution_count": 62,
   "id": "deaa275a",
   "metadata": {},
   "outputs": [
    {
     "data": {
      "text/plain": [
       "spacy.tokens.doc.Doc"
      ]
     },
     "execution_count": 62,
     "metadata": {},
     "output_type": "execute_result"
    }
   ],
   "source": [
    "type(doc)"
   ]
  },
  {
   "cell_type": "code",
   "execution_count": 63,
   "id": "c4ebb7c0",
   "metadata": {},
   "outputs": [
    {
     "data": {
      "text/plain": [
       "spacy.tokens.token.Token"
      ]
     },
     "execution_count": 63,
     "metadata": {},
     "output_type": "execute_result"
    }
   ],
   "source": [
    "type(token)"
   ]
  },
  {
   "cell_type": "code",
   "execution_count": 64,
   "id": "7813c464",
   "metadata": {},
   "outputs": [
    {
     "data": {
      "text/plain": [
       "spacy.tokens.span.Span"
      ]
     },
     "execution_count": 64,
     "metadata": {},
     "output_type": "execute_result"
    }
   ],
   "source": [
    "span = doc[1:5]\n",
    "type(span)"
   ]
  },
  {
   "cell_type": "code",
   "execution_count": 65,
   "id": "34c0b007",
   "metadata": {},
   "outputs": [
    {
     "data": {
      "text/plain": [
       "In"
      ]
     },
     "execution_count": 65,
     "metadata": {},
     "output_type": "execute_result"
    }
   ],
   "source": [
    "token0 = doc[0]\n",
    "token0"
   ]
  },
  {
   "cell_type": "code",
   "execution_count": 66,
   "id": "f66fc561",
   "metadata": {},
   "outputs": [
    {
     "data": {
      "text/plain": [
       "['_',\n",
       " '__bytes__',\n",
       " '__class__',\n",
       " '__delattr__',\n",
       " '__dir__',\n",
       " '__doc__',\n",
       " '__eq__',\n",
       " '__format__',\n",
       " '__ge__',\n",
       " '__getattribute__',\n",
       " '__getstate__',\n",
       " '__gt__',\n",
       " '__hash__',\n",
       " '__init__',\n",
       " '__init_subclass__',\n",
       " '__le__',\n",
       " '__len__',\n",
       " '__lt__',\n",
       " '__ne__',\n",
       " '__new__',\n",
       " '__pyx_vtable__',\n",
       " '__reduce__',\n",
       " '__reduce_ex__',\n",
       " '__repr__',\n",
       " '__setattr__',\n",
       " '__sizeof__',\n",
       " '__str__',\n",
       " '__subclasshook__',\n",
       " '__unicode__',\n",
       " 'ancestors',\n",
       " 'check_flag',\n",
       " 'children',\n",
       " 'cluster',\n",
       " 'conjuncts',\n",
       " 'dep',\n",
       " 'dep_',\n",
       " 'doc',\n",
       " 'ent_id',\n",
       " 'ent_id_',\n",
       " 'ent_iob',\n",
       " 'ent_iob_',\n",
       " 'ent_kb_id',\n",
       " 'ent_kb_id_',\n",
       " 'ent_type',\n",
       " 'ent_type_',\n",
       " 'get_extension',\n",
       " 'has_dep',\n",
       " 'has_extension',\n",
       " 'has_head',\n",
       " 'has_morph',\n",
       " 'has_vector',\n",
       " 'head',\n",
       " 'i',\n",
       " 'idx',\n",
       " 'iob_strings',\n",
       " 'is_alpha',\n",
       " 'is_ancestor',\n",
       " 'is_ascii',\n",
       " 'is_bracket',\n",
       " 'is_currency',\n",
       " 'is_digit',\n",
       " 'is_left_punct',\n",
       " 'is_lower',\n",
       " 'is_oov',\n",
       " 'is_punct',\n",
       " 'is_quote',\n",
       " 'is_right_punct',\n",
       " 'is_sent_end',\n",
       " 'is_sent_start',\n",
       " 'is_space',\n",
       " 'is_stop',\n",
       " 'is_title',\n",
       " 'is_upper',\n",
       " 'lang',\n",
       " 'lang_',\n",
       " 'left_edge',\n",
       " 'lefts',\n",
       " 'lemma',\n",
       " 'lemma_',\n",
       " 'lex',\n",
       " 'lex_id',\n",
       " 'like_email',\n",
       " 'like_num',\n",
       " 'like_url',\n",
       " 'lower',\n",
       " 'lower_',\n",
       " 'morph',\n",
       " 'n_lefts',\n",
       " 'n_rights',\n",
       " 'nbor',\n",
       " 'norm',\n",
       " 'norm_',\n",
       " 'orth',\n",
       " 'orth_',\n",
       " 'pos',\n",
       " 'pos_',\n",
       " 'prefix',\n",
       " 'prefix_',\n",
       " 'prob',\n",
       " 'rank',\n",
       " 'remove_extension',\n",
       " 'right_edge',\n",
       " 'rights',\n",
       " 'sent',\n",
       " 'sent_start',\n",
       " 'sentiment',\n",
       " 'set_extension',\n",
       " 'set_morph',\n",
       " 'shape',\n",
       " 'shape_',\n",
       " 'similarity',\n",
       " 'subtree',\n",
       " 'suffix',\n",
       " 'suffix_',\n",
       " 'tag',\n",
       " 'tag_',\n",
       " 'tensor',\n",
       " 'text',\n",
       " 'text_with_ws',\n",
       " 'vector',\n",
       " 'vector_norm',\n",
       " 'vocab',\n",
       " 'whitespace_']"
      ]
     },
     "execution_count": 66,
     "metadata": {},
     "output_type": "execute_result"
    }
   ],
   "source": [
    "dir(token0) # methods of the class-token0"
   ]
  },
  {
   "cell_type": "code",
   "execution_count": 67,
   "id": "cc2ce159",
   "metadata": {},
   "outputs": [
    {
     "data": {
      "text/plain": [
       "True"
      ]
     },
     "execution_count": 67,
     "metadata": {},
     "output_type": "execute_result"
    }
   ],
   "source": [
    "token0.is_alpha"
   ]
  },
  {
   "cell_type": "code",
   "execution_count": 68,
   "id": "b6fdf946",
   "metadata": {},
   "outputs": [
    {
     "data": {
      "text/plain": [
       "False"
      ]
     },
     "execution_count": 68,
     "metadata": {},
     "output_type": "execute_result"
    }
   ],
   "source": [
    "token0.like_num"
   ]
  },
  {
   "cell_type": "code",
   "execution_count": 69,
   "id": "46f58a3d",
   "metadata": {},
   "outputs": [
    {
     "data": {
      "text/plain": [
       "False"
      ]
     },
     "execution_count": 69,
     "metadata": {},
     "output_type": "execute_result"
    }
   ],
   "source": [
    "token0.is_currency"
   ]
  },
  {
   "cell_type": "code",
   "execution_count": 70,
   "id": "d34652c2",
   "metadata": {},
   "outputs": [
    {
     "data": {
      "text/plain": [
       "In war, three quarters turns on morale; the balance of manpower counts only for the remaining quarter."
      ]
     },
     "execution_count": 70,
     "metadata": {},
     "output_type": "execute_result"
    }
   ],
   "source": [
    "doc"
   ]
  },
  {
   "cell_type": "markdown",
   "id": "09197bc4",
   "metadata": {},
   "source": [
    "### customizing tokenizer"
   ]
  },
  {
   "cell_type": "code",
   "execution_count": 71,
   "id": "afac7455",
   "metadata": {},
   "outputs": [
    {
     "data": {
      "text/plain": [
       "['gim', 'me', 'double', 'cheese', 'extra', 'large', 'healthy', 'pizza']"
      ]
     },
     "execution_count": 71,
     "metadata": {},
     "output_type": "execute_result"
    }
   ],
   "source": [
    "from spacy.symbols import ORTH\n",
    "\n",
    "doc = nlp(\"gimme double cheese extra large healthy pizza\")\n",
    "\n",
    "nlp.tokenizer.add_special_case(\"gimme\", [\n",
    "    {ORTH: \"gim\"},\n",
    "    {ORTH: \"me\"}\n",
    "])\n",
    "\n",
    "\n",
    "doc = nlp(\"gimme double cheese extra large healthy pizza\")\n",
    "\n",
    "[i.text for i in doc]\n",
    "\n",
    "#tokenizing is a little bit dump: just splits whole thing into segments. You do not want to change actual text"
   ]
  },
  {
   "cell_type": "markdown",
   "id": "1468afa5",
   "metadata": {},
   "source": [
    "### Sentence tokenizer"
   ]
  },
  {
   "cell_type": "code",
   "execution_count": 107,
   "id": "29308feb",
   "metadata": {},
   "outputs": [],
   "source": [
    "doc = nlp(df.sentence.values[12])"
   ]
  },
  {
   "cell_type": "code",
   "execution_count": 108,
   "id": "5c332764",
   "metadata": {},
   "outputs": [
    {
     "data": {
      "text/plain": [
       "It is important to decide sort of war we are going to fight. If we can neither defeat them at sea nor take away from them the resources on which their navy depends, we shall do ourselves more harm than good. "
      ]
     },
     "execution_count": 108,
     "metadata": {},
     "output_type": "execute_result"
    }
   ],
   "source": [
    "doc"
   ]
  },
  {
   "cell_type": "code",
   "execution_count": 109,
   "id": "820842f9",
   "metadata": {},
   "outputs": [],
   "source": [
    "#nlp.add_pipe(\"sentencizer\")\n",
    "\n",
    "# I need to add sentencizer component to blank pipeline. now this nlp object knows how to split."
   ]
  },
  {
   "cell_type": "code",
   "execution_count": 110,
   "id": "ab1de17b",
   "metadata": {},
   "outputs": [
    {
     "data": {
      "text/plain": [
       "['sentencizer']"
      ]
     },
     "execution_count": 110,
     "metadata": {},
     "output_type": "execute_result"
    }
   ],
   "source": [
    "nlp.pipe_names"
   ]
  },
  {
   "cell_type": "code",
   "execution_count": 111,
   "id": "2203d49b",
   "metadata": {},
   "outputs": [
    {
     "name": "stdout",
     "output_type": "stream",
     "text": [
      "It is important to decide sort of war we are going to fight.\n",
      "If we can neither defeat them at sea nor take away from them the resources on which their navy depends, we shall do ourselves more harm than good.\n"
     ]
    }
   ],
   "source": [
    "for i in doc.sents: \n",
    "    print(i)"
   ]
  },
  {
   "cell_type": "markdown",
   "id": "86c27e45",
   "metadata": {},
   "source": [
    "## pre-trained pipeline"
   ]
  },
  {
   "cell_type": "markdown",
   "id": "77400dce",
   "metadata": {},
   "source": [
    "<img src = \"spacy_loaded_pipeline.jpg\" height = 100, width=500/>"
   ]
  },
  {
   "cell_type": "markdown",
   "id": "a86c2b1e",
   "metadata": {},
   "source": [
    "<h3>Download trained pipeline</h3>"
   ]
  },
  {
   "cell_type": "markdown",
   "id": "a249a279",
   "metadata": {},
   "source": [
    "To download trained pipeline use a command such as,\n",
    "\n",
    "python -m spacy download en_core_web_sm\n",
    "\n",
    "This downloads the small (sm) pipeline for english language\n",
    "\n",
    "Further instructions on : https://spacy.io/usage/models#quickstart"
   ]
  },
  {
   "cell_type": "code",
   "execution_count": 126,
   "id": "4d8dd1b9",
   "metadata": {},
   "outputs": [],
   "source": [
    "# run this command to install: python -m spacy download en_core_web_sm \n",
    "\n",
    "nlp = spacy.load(\"en_core_web_sm\")<h3>Download trained pipeline</h3>\n",
    "\n",
    "To download trained pipeline use a command such as,\n",
    "\n",
    "python -m spacy download en_core_web_sm\n",
    "\n",
    "This downloads the small (sm) pipeline for english language\n",
    "\n",
    "Further instructions on : https://spacy.io/usage/models#quickstart"
   ]
  },
  {
   "cell_type": "markdown",
   "id": "e0c355c8",
   "metadata": {},
   "source": [
    "sm in en_core_web_sm means small. There are other models available as well such as medium, large etc. Check this: https://spacy.io/usage/models#quickstart"
   ]
  },
  {
   "cell_type": "code",
   "execution_count": 127,
   "id": "f29391fd",
   "metadata": {},
   "outputs": [
    {
     "data": {
      "text/plain": [
       "['tok2vec', 'tagger', 'parser', 'attribute_ruler', 'lemmatizer', 'ner']"
      ]
     },
     "execution_count": 127,
     "metadata": {},
     "output_type": "execute_result"
    }
   ],
   "source": [
    "nlp.pipe_namessm in en_core_web_sm means small. There are other models available as well such as medium, large etc. Check this: https://spacy.io/usage/models#quickstart"
   ]
  },
  {
   "cell_type": "code",
   "execution_count": 129,
   "id": "85a9a37e",
   "metadata": {},
   "outputs": [
    {
     "data": {
      "text/plain": [
       "[('tok2vec', <spacy.pipeline.tok2vec.Tok2Vec at 0x201c0e77170>),\n",
       " ('tagger', <spacy.pipeline.tagger.Tagger at 0x201c0e76390>),\n",
       " ('parser', <spacy.pipeline.dep_parser.DependencyParser at 0x201c0e985f0>),\n",
       " ('attribute_ruler',\n",
       "  <spacy.pipeline.attributeruler.AttributeRuler at 0x201c1017c90>),\n",
       " ('lemmatizer', <spacy.lang.en.lemmatizer.EnglishLemmatizer at 0x201c1013f10>),\n",
       " ('ner', <spacy.pipeline.ner.EntityRecognizer at 0x201c0e984a0>)]"
      ]
     },
     "execution_count": 129,
     "metadata": {},
     "output_type": "execute_result"
    }
   ],
   "source": [
    "nlp.pipeline"
   ]
  },
  {
   "cell_type": "code",
   "execution_count": 133,
   "id": "b219a001",
   "metadata": {},
   "outputs": [
    {
     "name": "stdout",
     "output_type": "stream",
     "text": [
      "In ADP in\n",
      "war NOUN war\n",
      ", PUNCT ,\n",
      "three NUM three\n",
      "quarters NOUN quarter\n",
      "turns VERB turn\n",
      "on ADP on\n",
      "morale NOUN morale\n",
      "; PUNCT ;\n",
      "the DET the\n",
      "balance NOUN balance\n",
      "of ADP of\n",
      "manpower NOUN manpower\n",
      "counts VERB count\n",
      "only ADV only\n",
      "for ADP for\n",
      "the DET the\n",
      "remaining VERB remain\n",
      "quarter NOUN quarter\n",
      ". PUNCT .\n"
     ]
    }
   ],
   "source": [
    "doc = nlp(df.sentence.values[0])\n",
    "\n",
    "for token in doc:\n",
    "    print(token, token.pos_, token.lemma_)\n",
    "    \n",
    "#lemma: techniques to reduce a given word to its base word\n",
    "#pos: part of speech tagging "
   ]
  },
  {
   "cell_type": "markdown",
   "id": "2856b94c",
   "metadata": {},
   "source": [
    "<h3>Named Entity Recognition</h3>"
   ]
  },
  {
   "cell_type": "code",
   "execution_count": 177,
   "id": "399bf2d7",
   "metadata": {},
   "outputs": [],
   "source": [
    "nlp = spacy.load(\"en_core_web_sm\")\n",
    "nlp.pipe_names\n",
    "\n",
    "\n",
    "doc = nlp(df.sentence.str.cat(sep=\";\"))"
   ]
  },
  {
   "cell_type": "code",
   "execution_count": 179,
   "id": "759acaf6",
   "metadata": {},
   "outputs": [
    {
     "data": {
      "text/plain": [
       "In war, three quarters turns"
      ]
     },
     "execution_count": 179,
     "metadata": {},
     "output_type": "execute_result"
    }
   ],
   "source": [
    "doc[:6]"
   ]
  },
  {
   "cell_type": "code",
   "execution_count": 182,
   "id": "3307d0a1",
   "metadata": {},
   "outputs": [
    {
     "name": "stdout",
     "output_type": "stream",
     "text": [
      "(three quarters, Grand, War, Trojans, ten years, fraction of Greek Army, one, Spartans, Corcyra, 64, Persians, Salamis, Hellas, Athens, three, navy, First, secondly, War, British, Falklands, a hundred, Strategy, three, winter, summer)\n"
     ]
    }
   ],
   "source": [
    "print(doc.ents)"
   ]
  },
  {
   "cell_type": "code",
   "execution_count": 183,
   "id": "0d7f12aa",
   "metadata": {},
   "outputs": [
    {
     "name": "stdout",
     "output_type": "stream",
     "text": [
      "three quarters - DATE - Absolute or relative dates or periods\n",
      "Grand - ORG - Companies, agencies, institutions, etc.\n",
      "War - EVENT - Named hurricanes, battles, wars, sports events, etc.\n",
      "Trojans - NORP - Nationalities or religious or political groups\n",
      "ten years - DATE - Absolute or relative dates or periods\n",
      "fraction of Greek Army - ORG - Companies, agencies, institutions, etc.\n",
      "one - CARDINAL - Numerals that do not fall under another type\n",
      "Spartans - NORP - Nationalities or religious or political groups\n",
      "Corcyra - PERSON - People, including fictional\n",
      "64 - CARDINAL - Numerals that do not fall under another type\n",
      "Persians - NORP - Nationalities or religious or political groups\n",
      "Salamis - ORG - Companies, agencies, institutions, etc.\n",
      "Hellas - GPE - Countries, cities, states\n",
      "Athens - GPE - Countries, cities, states\n",
      "three - CARDINAL - Numerals that do not fall under another type\n",
      "navy - ORG - Companies, agencies, institutions, etc.\n",
      "First - ORDINAL - \"first\", \"second\", etc.\n",
      "secondly - ORDINAL - \"first\", \"second\", etc.\n",
      "War - EVENT - Named hurricanes, battles, wars, sports events, etc.\n",
      "British - NORP - Nationalities or religious or political groups\n",
      "Falklands - ORG - Companies, agencies, institutions, etc.\n",
      "a hundred - CARDINAL - Numerals that do not fall under another type\n",
      "Strategy - PERSON - People, including fictional\n",
      "three - CARDINAL - Numerals that do not fall under another type\n",
      "winter - DATE - Absolute or relative dates or periods\n",
      "summer - DATE - Absolute or relative dates or periods\n"
     ]
    }
   ],
   "source": [
    "for ent in doc.ents:\n",
    "    print(ent.text, \"-\", ent.label_, \"-\", spacy.explain(ent.label_))"
   ]
  },
  {
   "cell_type": "code",
   "execution_count": null,
   "id": "59317a20",
   "metadata": {},
   "outputs": [],
   "source": []
  },
  {
   "cell_type": "code",
   "execution_count": 138,
   "id": "d447561e",
   "metadata": {},
   "outputs": [],
   "source": [
    "from spacy import displacy"
   ]
  },
  {
   "cell_type": "code",
   "execution_count": 140,
   "id": "b4ae5810",
   "metadata": {},
   "outputs": [
    {
     "data": {
      "text/html": [
       "<span class=\"tex2jax_ignore\"><div class=\"entities\" style=\"line-height: 2.5; direction: ltr\">In war, \n",
       "<mark class=\"entity\" style=\"background: #bfe1d9; padding: 0.45em 0.6em; margin: 0 0.25em; line-height: 1; border-radius: 0.35em;\">\n",
       "    three quarters\n",
       "    <span style=\"font-size: 0.8em; font-weight: bold; line-height: 1; border-radius: 0.35em; vertical-align: middle; margin-left: 0.5rem\">DATE</span>\n",
       "</mark>\n",
       " turns on morale; the balance of manpower counts only for \n",
       "<mark class=\"entity\" style=\"background: #bfe1d9; padding: 0.45em 0.6em; margin: 0 0.25em; line-height: 1; border-radius: 0.35em;\">\n",
       "    the remaining quarter\n",
       "    <span style=\"font-size: 0.8em; font-weight: bold; line-height: 1; border-radius: 0.35em; vertical-align: middle; margin-left: 0.5rem\">DATE</span>\n",
       "</mark>\n",
       ".</div></span>"
      ],
      "text/plain": [
       "<IPython.core.display.HTML object>"
      ]
     },
     "metadata": {},
     "output_type": "display_data"
    }
   ],
   "source": [
    "displacy.render(doc, style = \"ent\")"
   ]
  },
  {
   "cell_type": "markdown",
   "id": "9ce6292a",
   "metadata": {},
   "source": [
    "### Manual uploading "
   ]
  },
  {
   "cell_type": "markdown",
   "id": "e41f5443",
   "metadata": {},
   "source": [
    "In below image you can see sentecizer component in the pipeline"
   ]
  },
  {
   "cell_type": "markdown",
   "id": "86e1224d",
   "metadata": {},
   "source": [
    "<img src = \"sentecizer.jpg\" height=100 widht=200/>"
   ]
  },
  {
   "cell_type": "code",
   "execution_count": 147,
   "id": "ec007144",
   "metadata": {},
   "outputs": [],
   "source": [
    "nlp = spacy.blank(\"en\")\n",
    "\n",
    "doc = nlp(df.sentence.values[0])\n",
    "\n",
    "for ent in doc.ents:\n",
    "    print(ent.text)"
   ]
  },
  {
   "cell_type": "code",
   "execution_count": 148,
   "id": "02b86725",
   "metadata": {},
   "outputs": [
    {
     "data": {
      "text/plain": [
       "['ner']"
      ]
     },
     "execution_count": 148,
     "metadata": {},
     "output_type": "execute_result"
    }
   ],
   "source": [
    "source_nlp=spacy.load(\"en_core_web_sm\")\n",
    "\n",
    "nlp=spacy.blank(\"en\") # generating blank pipeline\n",
    "nlp.add_pipe(\"ner\", source=source_nlp) #here adding ner to it. \n",
    "nlp.pipe_names"
   ]
  },
  {
   "cell_type": "code",
   "execution_count": 149,
   "id": "985f33f3",
   "metadata": {},
   "outputs": [
    {
     "name": "stdout",
     "output_type": "stream",
     "text": [
      "three quarters\n",
      "the remaining quarter\n"
     ]
    }
   ],
   "source": [
    "doc = nlp(df.sentence.values[0])\n",
    "for ent in doc.ents:\n",
    "    print(ent.text)"
   ]
  },
  {
   "cell_type": "markdown",
   "id": "f017f211",
   "metadata": {},
   "source": [
    "<h3>Further reading</h3>"
   ]
  },
  {
   "cell_type": "markdown",
   "id": "d89c97ae",
   "metadata": {},
   "source": [
    "https://spacy.io/usage/processing-pipelines#pipelines"
   ]
  },
  {
   "cell_type": "markdown",
   "id": "8cb99beb",
   "metadata": {},
   "source": []
  }
 ],
 "metadata": {
  "kernelspec": {
   "display_name": "Python 3 (ipykernel)",
   "language": "python",
   "name": "python3"
  },
  "language_info": {
   "codemirror_mode": {
    "name": "ipython",
    "version": 3
   },
   "file_extension": ".py",
   "mimetype": "text/x-python",
   "name": "python",
   "nbconvert_exporter": "python",
   "pygments_lexer": "ipython3",
   "version": "3.11.3"
  }
 },
 "nbformat": 4,
 "nbformat_minor": 5
}
