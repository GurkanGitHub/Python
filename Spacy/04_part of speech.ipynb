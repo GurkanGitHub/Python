{
 "cells": [
  {
   "cell_type": "markdown",
   "metadata": {},
   "source": [
    "## Part of speech"
   ]
  },
  {
   "cell_type": "markdown",
   "metadata": {},
   "source": [
    "Part of speech or POS tagging is used to tag parts of speech while building an NLP application."
   ]
  },
  {
   "cell_type": "raw",
   "metadata": {},
   "source": [
    "noun (PROPN: proper noun, specific name, like Elon)\n",
    "verb\n",
    "pronoun\n",
    "adjectives\n",
    "adverb\n",
    "preposition\n",
    "conjunctions-connecting words\n",
    "interjection"
   ]
  },
  {
   "cell_type": "code",
   "execution_count": 2,
   "metadata": {},
   "outputs": [],
   "source": [
    "import spacy"
   ]
  },
  {
   "cell_type": "code",
   "execution_count": 1,
   "metadata": {},
   "outputs": [],
   "source": [
    "#load the model"
   ]
  },
  {
   "cell_type": "code",
   "execution_count": 3,
   "metadata": {},
   "outputs": [],
   "source": [
    "nlp = spacy.load(\"en_core_web_sm\")"
   ]
  },
  {
   "cell_type": "code",
   "execution_count": 10,
   "metadata": {},
   "outputs": [
    {
     "name": "stdout",
     "output_type": "stream",
     "text": [
      "Elon | NOUN | noun\n",
      "flew | VERB | verb\n",
      "to | ADP | adposition\n",
      "mars | NOUN | noun\n",
      "yesterday | NOUN | noun\n",
      ". | PUNCT | punctuation\n",
      "He | PRON | pronoun\n",
      "carried | VERB | verb\n",
      "biryani | NOUN | noun\n",
      "masala | NOUN | noun\n",
      "with | ADP | adposition\n",
      "him | PRON | pronoun\n"
     ]
    }
   ],
   "source": [
    "doc = nlp(\"Elon flew to mars yesterday. He carried biryani masala with him\")\n",
    "\n",
    "for token in doc:\n",
    "    print(token, \"|\", token.pos_, \"|\", spacy.explain(token.pos_))"
   ]
  },
  {
   "cell_type": "code",
   "execution_count": 11,
   "metadata": {},
   "outputs": [
    {
     "data": {
      "text/plain": [
       "['tok2vec', 'tagger', 'parser', 'ner', 'attribute_ruler', 'lemmatizer']"
      ]
     },
     "execution_count": 11,
     "metadata": {},
     "output_type": "execute_result"
    }
   ],
   "source": [
    "nlp.pipe_names"
   ]
  },
  {
   "cell_type": "code",
   "execution_count": 15,
   "metadata": {},
   "outputs": [
    {
     "name": "stdout",
     "output_type": "stream",
     "text": [
      "Wow | INTJ | interjection | UH | interjection\n",
      "! | PUNCT | punctuation | . | punctuation mark, sentence closer\n",
      "Dr. | PROPN | proper noun | NNP | noun, proper singular\n",
      "Strange | PROPN | proper noun | NNP | noun, proper singular\n",
      "made | VERB | verb | VBD | verb, past tense\n",
      "265 | NUM | numeral | CD | cardinal number\n",
      "million | NUM | numeral | CD | cardinal number\n",
      "$ | NOUN | noun | NN | noun, singular or mass\n",
      "on | ADP | adposition | IN | conjunction, subordinating or preposition\n",
      "the | DET | determiner | DT | determiner\n",
      "first | ADJ | adjective | JJ | adjective (English), other noun-modifier (Chinese)\n",
      "day | NOUN | noun | NN | noun, singular or mass\n"
     ]
    }
   ],
   "source": [
    "doc = nlp(\"Wow! Dr. Strange made 265 million $ on the first day\")\n",
    "\n",
    "for token in doc:\n",
    "    print(token, \"|\", token.pos_, \"|\", spacy.explain(token.pos_), \"|\", token.tag_, \"|\", spacy.explain(token.tag_))"
   ]
  },
  {
   "cell_type": "raw",
   "metadata": {},
   "source": [
    "spacy is smart to understand past tense, other exclamations etc. "
   ]
  },
  {
   "cell_type": "code",
   "execution_count": 16,
   "metadata": {},
   "outputs": [
    {
     "name": "stdout",
     "output_type": "stream",
     "text": [
      "quits | VBZ | verb, 3rd person singular present\n"
     ]
    }
   ],
   "source": [
    "doc = nlp(\"He quits the job\")\n",
    "\n",
    "print(doc[1].text, \"|\", doc[1].tag_, \"|\",spacy.explain(doc[1].tag_) )"
   ]
  },
  {
   "cell_type": "code",
   "execution_count": 17,
   "metadata": {},
   "outputs": [
    {
     "name": "stdout",
     "output_type": "stream",
     "text": [
      "quit | VBD | verb, past tense\n"
     ]
    }
   ],
   "source": [
    "doc = nlp(\"He quit the job\")\n",
    "\n",
    "print(doc[1].text, \"|\", doc[1].tag_, \"|\",spacy.explain(doc[1].tag_) )"
   ]
  },
  {
   "cell_type": "code",
   "execution_count": 21,
   "metadata": {},
   "outputs": [],
   "source": [
    "earnings_text = \"\"\"Microsoft Corp. today announced the following results for the quarter ended December 31, 2021, as compared to the corresponding period of last fiscal year:\n",
    "\n",
    "·         Revenue was $51.7 billion and increased 20%\n",
    "\n",
    "·         Operating income was $22.2 billion and increased 24%\n",
    "\n",
    "·         Net income was $18.8 billion and increased 21%\n",
    "\n",
    "·         Diluted earnings per share was $2.48 and increased 22%\n",
    "\n",
    "“Digital technology etc. is the most malleable resource at the world’s disposal to overcome constraints and reimagine everyday work and life,” said Satya Nadella, chairman and chief executive officer of Microsoft. “As tech as a percentage of global GDP continues to increase, we are innovating and investing across diverse and growing markets, with a common underlying technology stack and an operating model that reinforces a common strategy, culture, and sense of purpose.”\n",
    "\n",
    "“Solid commercial execution, represented by strong bookings growth driven by long-term Azure commitments, increased Microsoft Cloud revenue to $22.1 billion, up 32% year over year” said Amy Hood, executive vice president and chief financial officer of Microsoft.\"\"\""
   ]
  },
  {
   "cell_type": "code",
   "execution_count": 24,
   "metadata": {},
   "outputs": [],
   "source": []
  },
  {
   "cell_type": "raw",
   "metadata": {},
   "source": [
    "remove the punc marks-like spaces, :, and extra chars. like etc. to build NLP application on top of text"
   ]
  },
  {
   "cell_type": "code",
   "execution_count": 33,
   "metadata": {},
   "outputs": [],
   "source": [
    "doc = nlp(earnings_text)\n",
    "\n",
    "filtered_tokens = []\n",
    "\n",
    "for token in doc:\n",
    "    if token.pos_ not in [\"SPACE\", \"X\", \"PUNCT\"]:\n",
    "        filtered_tokens.append(token)   "
   ]
  },
  {
   "cell_type": "code",
   "execution_count": 35,
   "metadata": {},
   "outputs": [
    {
     "data": {
      "text/plain": [
       "[Microsoft,\n",
       " Corp.,\n",
       " today,\n",
       " announced,\n",
       " the,\n",
       " following,\n",
       " results,\n",
       " for,\n",
       " the,\n",
       " quarter,\n",
       " ended,\n",
       " December,\n",
       " 31,\n",
       " 2021,\n",
       " as,\n",
       " compared,\n",
       " to,\n",
       " the,\n",
       " corresponding,\n",
       " period]"
      ]
     },
     "execution_count": 35,
     "metadata": {},
     "output_type": "execute_result"
    }
   ],
   "source": [
    "filtered_tokens[:20]"
   ]
  },
  {
   "cell_type": "code",
   "execution_count": 41,
   "metadata": {},
   "outputs": [
    {
     "data": {
      "text/plain": [
       "{96: 16,\n",
       " 92: 46,\n",
       " 100: 24,\n",
       " 90: 10,\n",
       " 85: 17,\n",
       " 93: 16,\n",
       " 97: 27,\n",
       " 84: 19,\n",
       " 103: 10,\n",
       " 87: 4,\n",
       " 99: 5,\n",
       " 89: 12,\n",
       " 86: 3,\n",
       " 94: 3,\n",
       " 95: 1}"
      ]
     },
     "execution_count": 41,
     "metadata": {},
     "output_type": "execute_result"
    }
   ],
   "source": [
    "count = doc.count_by(spacy.attrs.POS)\n",
    "count"
   ]
  },
  {
   "cell_type": "code",
   "execution_count": 42,
   "metadata": {},
   "outputs": [
    {
     "data": {
      "text/plain": [
       "'PROPN'"
      ]
     },
     "execution_count": 42,
     "metadata": {},
     "output_type": "execute_result"
    }
   ],
   "source": [
    "doc.vocab[96].text"
   ]
  },
  {
   "cell_type": "code",
   "execution_count": 43,
   "metadata": {},
   "outputs": [
    {
     "name": "stdout",
     "output_type": "stream",
     "text": [
      "PROPN | 16\n",
      "NOUN | 46\n",
      "VERB | 24\n",
      "DET | 10\n",
      "ADP | 17\n",
      "NUM | 16\n",
      "PUNCT | 27\n",
      "ADJ | 19\n",
      "SPACE | 10\n",
      "AUX | 4\n",
      "SYM | 5\n",
      "CCONJ | 12\n",
      "ADV | 3\n",
      "PART | 3\n",
      "PRON | 1\n"
     ]
    }
   ],
   "source": [
    "for k,v in count.items():\n",
    "    print(doc.vocab[k].text, \"|\", v)    "
   ]
  },
  {
   "cell_type": "markdown",
   "metadata": {},
   "source": [
    "### Exercise"
   ]
  },
  {
   "cell_type": "code",
   "execution_count": 49,
   "metadata": {},
   "outputs": [
    {
     "data": {
      "text/plain": [
       "'Inflation rose again in April, continuing a climb that has pushed consumers to the brink and is threatening the economic expansion, the Bureau of Labor Statistics reported Wednesday.\\n\\nThe consumer price index, a broad-based measure of prices for goods and services, increased 8.3% from a year ago, higher than the Dow Jones estimate for an 8.1% gain. That represented a slight ease from Marchâ€™s peak but was still close to the highest level since the summer of 1982.\\n\\nRemoving volatile food and energy prices, so-called core CPI still rose 6.2%, against expectations for a 6% gain, clouding hopes that inflation had peaked in March.\\n\\nThe month-over-month gains also were higher than expectations â€” 0.3% on headline CPI versus the 0.2% estimate and a 0.6% increase for core, against the outlook for a 0.4% gain.\\n\\nThe price gains also meant that workers continued to lose ground. Real wages adjusted for inflation decreased 0.1% on the month despite a nominal increase of 0.3% in average hourly earnings. Over the past year, real earnings have dropped 2.6% even though average hourly earnings are up 5.5%.\\n\\nInflation has been the single biggest threat to a recovery that began early in the Covid pandemic and saw the economy in 2021 stage its biggest single-year growth level since 1984. Rising prices at the pump and in grocery stores have been one problem, but inflation has spread beyond those two areas into housing, auto sales and a host of other areas.\\n\\nFederal Reserve officials have responded to the problem with two interest rate hikes so far this year and pledges of more until inflation comes down to the central bankâ€™s 2% goal. However, Wednesdayâ€™s data shows that the Fed has a big job ahead.\\n\\nCredits: cnbc.com'"
      ]
     },
     "execution_count": 49,
     "metadata": {},
     "output_type": "execute_result"
    }
   ],
   "source": [
    "story = open(\"C:/Users/Owner/nlp-tutorials/7_pos/news_story.txt\")\n",
    "story.read()"
   ]
  },
  {
   "cell_type": "code",
   "execution_count": 50,
   "metadata": {},
   "outputs": [],
   "source": [
    "with open(\"C:/Users/Owner/nlp-tutorials/7_pos/news_story.txt\", \"r\") as f:\n",
    "    story = f.read()"
   ]
  },
  {
   "cell_type": "code",
   "execution_count": 51,
   "metadata": {},
   "outputs": [
    {
     "data": {
      "text/plain": [
       "'Inflation rose again in April, continuing a climb that has pushed consumers to the brink and is threatening the economic expansion, the Bureau of Labor Statistics reported Wednesday.\\n\\nThe consumer price index, a broad-based measure of prices for goods and services, increased 8.3% from a year ago, higher than the Dow Jones estimate for an 8.1% gain. That represented a slight ease from Marchâ€™s peak but was still close to the highest level since the summer of 1982.\\n\\nRemoving volatile food and energy prices, so-called core CPI still rose 6.2%, against expectations for a 6% gain, clouding hopes that inflation had peaked in March.\\n\\nThe month-over-month gains also were higher than expectations â€” 0.3% on headline CPI versus the 0.2% estimate and a 0.6% increase for core, against the outlook for a 0.4% gain.\\n\\nThe price gains also meant that workers continued to lose ground. Real wages adjusted for inflation decreased 0.1% on the month despite a nominal increase of 0.3% in average hourly earnings. Over the past year, real earnings have dropped 2.6% even though average hourly earnings are up 5.5%.\\n\\nInflation has been the single biggest threat to a recovery that began early in the Covid pandemic and saw the economy in 2021 stage its biggest single-year growth level since 1984. Rising prices at the pump and in grocery stores have been one problem, but inflation has spread beyond those two areas into housing, auto sales and a host of other areas.\\n\\nFederal Reserve officials have responded to the problem with two interest rate hikes so far this year and pledges of more until inflation comes down to the central bankâ€™s 2% goal. However, Wednesdayâ€™s data shows that the Fed has a big job ahead.\\n\\nCredits: cnbc.com'"
      ]
     },
     "execution_count": 51,
     "metadata": {},
     "output_type": "execute_result"
    }
   ],
   "source": [
    "story"
   ]
  },
  {
   "cell_type": "code",
   "execution_count": 52,
   "metadata": {},
   "outputs": [],
   "source": [
    "doc = nlp(story)"
   ]
  },
  {
   "cell_type": "code",
   "execution_count": 58,
   "metadata": {},
   "outputs": [
    {
     "data": {
      "text/plain": [
       "{92: 97,\n",
       " 100: 34,\n",
       " 86: 15,\n",
       " 85: 38,\n",
       " 96: 16,\n",
       " 97: 32,\n",
       " 90: 37,\n",
       " 87: 9,\n",
       " 89: 10,\n",
       " 84: 23,\n",
       " 103: 7,\n",
       " 93: 19,\n",
       " 98: 9,\n",
       " 94: 4,\n",
       " 95: 1,\n",
       " 101: 1}"
      ]
     },
     "execution_count": 58,
     "metadata": {},
     "output_type": "execute_result"
    }
   ],
   "source": [
    "count = doc.count_by(spacy.attrs.POS)\n",
    "count"
   ]
  },
  {
   "cell_type": "code",
   "execution_count": 60,
   "metadata": {},
   "outputs": [
    {
     "data": {
      "text/plain": [
       "dict_items([(92, 97), (100, 34), (86, 15), (85, 38), (96, 16), (97, 32), (90, 37), (87, 9), (89, 10), (84, 23), (103, 7), (93, 19), (98, 9), (94, 4), (95, 1), (101, 1)])"
      ]
     },
     "execution_count": 60,
     "metadata": {},
     "output_type": "execute_result"
    }
   ],
   "source": [
    "count.items()"
   ]
  },
  {
   "cell_type": "code",
   "execution_count": 62,
   "metadata": {},
   "outputs": [
    {
     "data": {
      "text/plain": [
       "'NOUN'"
      ]
     },
     "execution_count": 62,
     "metadata": {},
     "output_type": "execute_result"
    }
   ],
   "source": [
    "doc.vocab[92].text"
   ]
  },
  {
   "cell_type": "code",
   "execution_count": 63,
   "metadata": {},
   "outputs": [
    {
     "data": {
      "text/plain": [
       "'VERB'"
      ]
     },
     "execution_count": 63,
     "metadata": {},
     "output_type": "execute_result"
    }
   ],
   "source": [
    "doc.vocab[100].text"
   ]
  },
  {
   "cell_type": "code",
   "execution_count": 67,
   "metadata": {},
   "outputs": [
    {
     "name": "stdout",
     "output_type": "stream",
     "text": [
      "NOUN 97\n",
      "VERB 34\n",
      "ADV 15\n",
      "ADP 38\n",
      "PROPN 16\n",
      "PUNCT 32\n",
      "DET 37\n",
      "AUX 9\n",
      "CCONJ 10\n",
      "ADJ 23\n",
      "SPACE 7\n",
      "NUM 19\n",
      "SCONJ 9\n",
      "PART 4\n",
      "PRON 1\n",
      "X 1\n"
     ]
    }
   ],
   "source": [
    "for k,v in count.items():\n",
    "    print(doc.vocab[k].text, v)"
   ]
  },
  {
   "cell_type": "code",
   "execution_count": 69,
   "metadata": {},
   "outputs": [
    {
     "name": "stdout",
     "output_type": "stream",
     "text": [
      "Inflation NOUN\n",
      "rose VERB\n",
      "again ADV\n",
      "in ADP\n",
      "April PROPN\n",
      ", PUNCT\n",
      "continuing VERB\n",
      "a DET\n",
      "climb NOUN\n",
      "that DET\n",
      "has AUX\n",
      "pushed VERB\n",
      "consumers NOUN\n",
      "to ADP\n",
      "the DET\n",
      "brink NOUN\n",
      "and CCONJ\n",
      "is AUX\n",
      "threatening VERB\n",
      "the DET\n",
      "economic ADJ\n",
      "expansion NOUN\n",
      ", PUNCT\n",
      "the DET\n",
      "Bureau PROPN\n",
      "of ADP\n",
      "Labor PROPN\n",
      "Statistics PROPN\n",
      "reported VERB\n",
      "Wednesday PROPN\n",
      ". PUNCT\n",
      "\n",
      "\n",
      " SPACE\n",
      "The DET\n",
      "consumer NOUN\n",
      "price NOUN\n",
      "index NOUN\n",
      ", PUNCT\n",
      "a DET\n",
      "broad ADV\n",
      "- PUNCT\n",
      "based VERB\n",
      "measure NOUN\n",
      "of ADP\n",
      "prices NOUN\n",
      "for ADP\n",
      "goods NOUN\n",
      "and CCONJ\n",
      "services NOUN\n",
      ", PUNCT\n",
      "increased VERB\n",
      "8.3 NUM\n",
      "% NOUN\n",
      "from ADP\n",
      "a DET\n",
      "year NOUN\n",
      "ago ADV\n",
      ", PUNCT\n",
      "higher ADJ\n",
      "than SCONJ\n",
      "the DET\n",
      "Dow PROPN\n",
      "Jones PROPN\n",
      "estimate NOUN\n",
      "for ADP\n",
      "an DET\n",
      "8.1 NUM\n",
      "% NOUN\n",
      "gain NOUN\n",
      ". PUNCT\n",
      "That DET\n",
      "represented VERB\n",
      "a DET\n",
      "slight ADJ\n",
      "ease NOUN\n",
      "from ADP\n",
      "Marchâ€ PROPN\n",
      "™ NOUN\n",
      "s PART\n",
      "peak NOUN\n",
      "but CCONJ\n",
      "was VERB\n",
      "still ADV\n",
      "close ADJ\n",
      "to ADP\n",
      "the DET\n",
      "highest ADJ\n",
      "level NOUN\n",
      "since SCONJ\n",
      "the DET\n",
      "summer NOUN\n",
      "of ADP\n",
      "1982 NUM\n",
      ". PUNCT\n",
      "\n",
      "\n",
      " SPACE\n",
      "Removing VERB\n",
      "volatile ADJ\n",
      "food NOUN\n",
      "and CCONJ\n",
      "energy NOUN\n",
      "prices NOUN\n",
      ", PUNCT\n",
      "so ADV\n",
      "- PUNCT\n",
      "called VERB\n",
      "core NOUN\n",
      "CPI PROPN\n",
      "still ADV\n",
      "rose VERB\n",
      "6.2 NUM\n",
      "% NOUN\n",
      ", PUNCT\n",
      "against ADP\n",
      "expectations NOUN\n",
      "for ADP\n",
      "a DET\n",
      "6 NUM\n",
      "% NOUN\n",
      "gain NOUN\n",
      ", PUNCT\n",
      "clouding VERB\n",
      "hopes NOUN\n",
      "that SCONJ\n",
      "inflation NOUN\n",
      "had AUX\n",
      "peaked VERB\n",
      "in ADP\n",
      "March PROPN\n",
      ". PUNCT\n",
      "\n",
      "\n",
      " SPACE\n",
      "The DET\n",
      "month NOUN\n",
      "- PUNCT\n",
      "over ADP\n",
      "- PUNCT\n",
      "month NOUN\n",
      "gains NOUN\n",
      "also ADV\n",
      "were AUX\n",
      "higher ADJ\n",
      "than SCONJ\n",
      "expectations NOUN\n",
      "â€ NOUN\n",
      "” PUNCT\n",
      "0.3 NUM\n",
      "% NOUN\n",
      "on ADP\n",
      "headline NOUN\n",
      "CPI PROPN\n",
      "versus ADP\n",
      "the DET\n",
      "0.2 NUM\n",
      "% NOUN\n",
      "estimate NOUN\n",
      "and CCONJ\n",
      "a DET\n",
      "0.6 NUM\n",
      "% NOUN\n",
      "increase NOUN\n",
      "for ADP\n",
      "core NOUN\n",
      ", PUNCT\n",
      "against ADP\n",
      "the DET\n",
      "outlook NOUN\n",
      "for ADP\n",
      "a DET\n",
      "0.4 NUM\n",
      "% NOUN\n",
      "gain NOUN\n",
      ". PUNCT\n",
      "\n",
      "\n",
      " SPACE\n",
      "The DET\n",
      "price NOUN\n",
      "gains NOUN\n",
      "also ADV\n",
      "meant VERB\n",
      "that SCONJ\n",
      "workers NOUN\n",
      "continued VERB\n",
      "to PART\n",
      "lose VERB\n",
      "ground NOUN\n",
      ". PUNCT\n",
      "Real ADJ\n",
      "wages NOUN\n",
      "adjusted VERB\n",
      "for ADP\n",
      "inflation NOUN\n",
      "decreased VERB\n",
      "0.1 NUM\n",
      "% NOUN\n",
      "on ADP\n",
      "the DET\n",
      "month NOUN\n",
      "despite SCONJ\n",
      "a DET\n",
      "nominal ADJ\n",
      "increase NOUN\n",
      "of ADP\n",
      "0.3 NUM\n",
      "% NOUN\n",
      "in ADP\n",
      "average ADJ\n",
      "hourly ADJ\n",
      "earnings NOUN\n",
      ". PUNCT\n",
      "Over ADP\n",
      "the DET\n",
      "past ADJ\n",
      "year NOUN\n",
      ", PUNCT\n",
      "real ADJ\n",
      "earnings NOUN\n",
      "have AUX\n",
      "dropped VERB\n",
      "2.6 NUM\n",
      "% NOUN\n",
      "even ADV\n",
      "though SCONJ\n",
      "average ADJ\n",
      "hourly ADJ\n",
      "earnings NOUN\n",
      "are VERB\n",
      "up ADV\n",
      "5.5 NUM\n",
      "% NOUN\n",
      ". PUNCT\n",
      "\n",
      "\n",
      " SPACE\n",
      "Inflation NOUN\n",
      "has AUX\n",
      "been VERB\n",
      "the DET\n",
      "single ADJ\n",
      "biggest ADJ\n",
      "threat NOUN\n",
      "to ADP\n",
      "a DET\n",
      "recovery NOUN\n",
      "that DET\n",
      "began VERB\n",
      "early ADV\n",
      "in ADP\n",
      "the DET\n",
      "Covid PROPN\n",
      "pandemic NOUN\n",
      "and CCONJ\n",
      "saw VERB\n",
      "the DET\n",
      "economy NOUN\n",
      "in ADP\n",
      "2021 NUM\n",
      "stage VERB\n",
      "its PRON\n",
      "biggest ADJ\n",
      "single ADJ\n",
      "- PUNCT\n",
      "year NOUN\n",
      "growth NOUN\n",
      "level NOUN\n",
      "since SCONJ\n",
      "1984 NUM\n",
      ". PUNCT\n",
      "Rising VERB\n",
      "prices NOUN\n",
      "at ADP\n",
      "the DET\n",
      "pump NOUN\n",
      "and CCONJ\n",
      "in ADP\n",
      "grocery NOUN\n",
      "stores NOUN\n",
      "have AUX\n",
      "been VERB\n",
      "one NUM\n",
      "problem NOUN\n",
      ", PUNCT\n",
      "but CCONJ\n",
      "inflation NOUN\n",
      "has AUX\n",
      "spread VERB\n",
      "beyond ADP\n",
      "those DET\n",
      "two NUM\n",
      "areas NOUN\n",
      "into ADP\n",
      "housing NOUN\n",
      ", PUNCT\n",
      "auto NOUN\n",
      "sales NOUN\n",
      "and CCONJ\n",
      "a DET\n",
      "host NOUN\n",
      "of ADP\n",
      "other ADJ\n",
      "areas NOUN\n",
      ". PUNCT\n",
      "\n",
      "\n",
      " SPACE\n",
      "Federal PROPN\n",
      "Reserve PROPN\n",
      "officials NOUN\n",
      "have AUX\n",
      "responded VERB\n",
      "to ADP\n",
      "the DET\n",
      "problem NOUN\n",
      "with ADP\n",
      "two NUM\n",
      "interest NOUN\n",
      "rate NOUN\n",
      "hikes VERB\n",
      "so ADV\n",
      "far ADV\n",
      "this DET\n",
      "year NOUN\n",
      "and CCONJ\n",
      "pledges NOUN\n",
      "of ADP\n",
      "more ADJ\n",
      "until ADP\n",
      "inflation NOUN\n",
      "comes VERB\n",
      "down ADP\n",
      "to ADP\n",
      "the DET\n",
      "central ADJ\n",
      "bankâ€ NOUN\n",
      "™ NOUN\n",
      "s PART\n",
      "2 NUM\n",
      "% NOUN\n",
      "goal NOUN\n",
      ". PUNCT\n",
      "However ADV\n",
      ", PUNCT\n",
      "Wednesdayâ€ PROPN\n",
      "™ VERB\n",
      "s PART\n",
      "data NOUN\n",
      "shows VERB\n",
      "that SCONJ\n",
      "the DET\n",
      "Fed PROPN\n",
      "has VERB\n",
      "a DET\n",
      "big ADJ\n",
      "job NOUN\n",
      "ahead ADV\n",
      ". PUNCT\n",
      "\n",
      "\n",
      " SPACE\n",
      "Credits NOUN\n",
      ": PUNCT\n",
      "cnbc.com X\n"
     ]
    }
   ],
   "source": [
    "for token in doc:\n",
    "    print(token, token.pos_)"
   ]
  },
  {
   "cell_type": "code",
   "execution_count": 70,
   "metadata": {},
   "outputs": [
    {
     "name": "stdout",
     "output_type": "stream",
     "text": [
      "[Inflation, climb, consumers, brink, expansion, consumer, price, index, measure, prices, goods, services, %, year, estimate, %, gain, ease, ™, peak, level, summer, food, energy, prices, core, %, expectations, %, gain, hopes, inflation, month, month, gains, expectations, â€, %, headline, %, estimate, %, increase, core, outlook, %, gain, price, gains, workers, ground, wages, inflation, %, month, increase, %, earnings, year, earnings, %, earnings, %, Inflation, threat, recovery, pandemic, economy, year, growth, level, prices, pump, grocery, stores, problem, inflation, areas, housing, auto, sales, host, areas, officials, problem, interest, rate, year, pledges, inflation, bankâ€, ™, %, goal, data, job, Credits]\n",
      "[8.3, 8.1, 1982, 6.2, 6, 0.3, 0.2, 0.6, 0.4, 0.1, 0.3, 2.6, 5.5, 2021, 1984, one, two, two, 2]\n"
     ]
    }
   ],
   "source": [
    "noun = []\n",
    "number =[]\n",
    "for token in doc:\n",
    "    if token.pos_ == \"NOUN\":\n",
    "        noun.append(token)\n",
    "    elif token.pos_ == \"NUM\":\n",
    "        number.append(token)\n",
    "print(noun)\n",
    "print(number)"
   ]
  },
  {
   "cell_type": "code",
   "execution_count": null,
   "metadata": {},
   "outputs": [],
   "source": []
  }
 ],
 "metadata": {
  "kernelspec": {
   "display_name": "Python 3 (ipykernel)",
   "language": "python",
   "name": "python3"
  },
  "language_info": {
   "codemirror_mode": {
    "name": "ipython",
    "version": 3
   },
   "file_extension": ".py",
   "mimetype": "text/x-python",
   "name": "python",
   "nbconvert_exporter": "python",
   "pygments_lexer": "ipython3",
   "version": "3.11.3"
  }
 },
 "nbformat": 4,
 "nbformat_minor": 4
}
