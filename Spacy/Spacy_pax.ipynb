{
 "cells": [
  {
   "cell_type": "markdown",
   "id": "b62ccfea",
   "metadata": {},
   "source": [
    "## Tokenization"
   ]
  },
  {
   "cell_type": "code",
   "execution_count": 7,
   "id": "3cc76cfa",
   "metadata": {},
   "outputs": [
    {
     "data": {
      "text/html": [
       "<div>\n",
       "<style scoped>\n",
       "    .dataframe tbody tr th:only-of-type {\n",
       "        vertical-align: middle;\n",
       "    }\n",
       "\n",
       "    .dataframe tbody tr th {\n",
       "        vertical-align: top;\n",
       "    }\n",
       "\n",
       "    .dataframe thead th {\n",
       "        text-align: right;\n",
       "    }\n",
       "</style>\n",
       "<table border=\"1\" class=\"dataframe\">\n",
       "  <thead>\n",
       "    <tr style=\"text-align: right;\">\n",
       "      <th></th>\n",
       "      <th>sentence</th>\n",
       "      <th>indicator</th>\n",
       "      <th>factor</th>\n",
       "      <th>source</th>\n",
       "    </tr>\n",
       "  </thead>\n",
       "  <tbody>\n",
       "    <tr>\n",
       "      <th>0</th>\n",
       "      <td>In war, three quarters turns on morale; the ba...</td>\n",
       "      <td>Morale</td>\n",
       "      <td>moral</td>\n",
       "      <td>Napoleon, as cited in Partington, 1996.</td>\n",
       "    </tr>\n",
       "    <tr>\n",
       "      <th>1</th>\n",
       "      <td>Where superiority of numbers is overwhelming, ...</td>\n",
       "      <td>numerical superiority</td>\n",
       "      <td>physical</td>\n",
       "      <td>Clausewitz, 1989, p.196​</td>\n",
       "    </tr>\n",
       "    <tr>\n",
       "      <th>2</th>\n",
       "      <td>Grand strategy should calculate and develop ec...</td>\n",
       "      <td>economic resources, man-power</td>\n",
       "      <td>physical</td>\n",
       "      <td>Hart, 1991, 322</td>\n",
       "    </tr>\n",
       "    <tr>\n",
       "      <th>3</th>\n",
       "      <td>Beyond geography, money has always been the gr...</td>\n",
       "      <td>finance</td>\n",
       "      <td>physical</td>\n",
       "      <td>Smith, 2019, 19.</td>\n",
       "    </tr>\n",
       "    <tr>\n",
       "      <th>4</th>\n",
       "      <td>We have no right to judge cities by their appe...</td>\n",
       "      <td>numerical superiority</td>\n",
       "      <td>physical</td>\n",
       "      <td>Thucydides, 1972, 41</td>\n",
       "    </tr>\n",
       "  </tbody>\n",
       "</table>\n",
       "</div>"
      ],
      "text/plain": [
       "                                            sentence  \\\n",
       "0  In war, three quarters turns on morale; the ba...   \n",
       "1  Where superiority of numbers is overwhelming, ...   \n",
       "2  Grand strategy should calculate and develop ec...   \n",
       "3  Beyond geography, money has always been the gr...   \n",
       "4  We have no right to judge cities by their appe...   \n",
       "\n",
       "                       indicator    factor  \\\n",
       "0                         Morale     moral   \n",
       "1          numerical superiority  physical   \n",
       "2  economic resources, man-power  physical   \n",
       "3                        finance  physical   \n",
       "4          numerical superiority  physical   \n",
       "\n",
       "                                    source  \n",
       "0  Napoleon, as cited in Partington, 1996.  \n",
       "1                 Clausewitz, 1989, p.196​  \n",
       "2                          Hart, 1991, 322  \n",
       "3                         Smith, 2019, 19.  \n",
       "4                     Thucydides, 1972, 41  "
      ]
     },
     "execution_count": 7,
     "metadata": {},
     "output_type": "execute_result"
    }
   ],
   "source": [
    "#!pip install spacy\n",
    "\n",
    "import spacy\n",
    "\n",
    "import pandas as pd\n",
    "\n",
    "df = pd.read_excel(\"D:/github/Python/Deep Learning/annotation.xlsx\")\n",
    "df.head()"
   ]
  },
  {
   "cell_type": "code",
   "execution_count": 8,
   "id": "97a34ef2",
   "metadata": {},
   "outputs": [
    {
     "data": {
      "text/plain": [
       "(41, 4)"
      ]
     },
     "execution_count": 8,
     "metadata": {},
     "output_type": "execute_result"
    }
   ],
   "source": [
    "df.shape"
   ]
  },
  {
   "cell_type": "markdown",
   "id": "268bd4dd",
   "metadata": {},
   "source": [
    "### creation of blank language object"
   ]
  },
  {
   "cell_type": "code",
   "execution_count": 114,
   "id": "5efa7eba",
   "metadata": {},
   "outputs": [],
   "source": [
    "nlp = spacy.blank(\"en\") \n",
    "\n",
    "# we generate blank language processing pipeline\n",
    "# nlp object get text document into the framework of pipeline. \n",
    "# So we can tokenize it now. Still I do not have pipeline. "
   ]
  },
  {
   "cell_type": "markdown",
   "id": "83483d5e",
   "metadata": {},
   "source": [
    "<img src=\"spacy_blank_pipeline.jpg\" height=100, width=500/>"
   ]
  },
  {
   "cell_type": "markdown",
   "id": "32e2ee06",
   "metadata": {},
   "source": [
    "### creation of document (paragraph)"
   ]
  },
  {
   "cell_type": "code",
   "execution_count": 119,
   "id": "96480ee1",
   "metadata": {},
   "outputs": [
    {
     "data": {
      "text/plain": [
       "'In war, three quarters turns on morale; the balance of manpower counts only for the remaining quarter.'"
      ]
     },
     "execution_count": 119,
     "metadata": {},
     "output_type": "execute_result"
    }
   ],
   "source": [
    "df.sentence.values[0]"
   ]
  },
  {
   "cell_type": "code",
   "execution_count": 120,
   "id": "fa176edd",
   "metadata": {},
   "outputs": [],
   "source": [
    "doc = nlp(df.sentence.values[0])"
   ]
  },
  {
   "cell_type": "code",
   "execution_count": 122,
   "id": "17f4f6d1",
   "metadata": {},
   "outputs": [
    {
     "data": {
      "text/plain": [
       "[]"
      ]
     },
     "execution_count": 122,
     "metadata": {},
     "output_type": "execute_result"
    }
   ],
   "source": [
    "nlp.pipe_names \n",
    "\n",
    "# by default we have anly tokenizer, we do not have pipeline yet. "
   ]
  },
  {
   "cell_type": "code",
   "execution_count": 121,
   "id": "bdeccf50",
   "metadata": {},
   "outputs": [
    {
     "name": "stdout",
     "output_type": "stream",
     "text": [
      "In\n",
      "war\n",
      ",\n",
      "three\n",
      "quarters\n",
      "turns\n",
      "on\n",
      "morale\n",
      ";\n",
      "the\n",
      "balance\n",
      "of\n",
      "manpower\n",
      "counts\n",
      "only\n",
      "for\n",
      "the\n",
      "remaining\n",
      "quarter\n",
      ".\n"
     ]
    }
   ],
   "source": [
    "for token in doc:\n",
    "    print(token)"
   ]
  },
  {
   "cell_type": "code",
   "execution_count": 59,
   "id": "a385c3ef",
   "metadata": {},
   "outputs": [
    {
     "data": {
      "text/plain": [
       "In"
      ]
     },
     "execution_count": 59,
     "metadata": {},
     "output_type": "execute_result"
    }
   ],
   "source": [
    "doc[0]"
   ]
  },
  {
   "cell_type": "code",
   "execution_count": 60,
   "id": "7b6c4c6d",
   "metadata": {},
   "outputs": [
    {
     "data": {
      "text/plain": [
       "['In',\n",
       " 'war,',\n",
       " 'three',\n",
       " 'quarters',\n",
       " 'turns',\n",
       " 'on',\n",
       " 'morale;',\n",
       " 'the',\n",
       " 'balance',\n",
       " 'of',\n",
       " 'manpower',\n",
       " 'counts',\n",
       " 'only',\n",
       " 'for',\n",
       " 'the',\n",
       " 'remaining',\n",
       " 'quarter.']"
      ]
     },
     "execution_count": 60,
     "metadata": {},
     "output_type": "execute_result"
    }
   ],
   "source": [
    "df.sentence.values[0].split()"
   ]
  },
  {
   "cell_type": "code",
   "execution_count": 61,
   "id": "e5d1bf93",
   "metadata": {},
   "outputs": [
    {
     "data": {
      "text/plain": [
       "spacy.lang.en.English"
      ]
     },
     "execution_count": 61,
     "metadata": {},
     "output_type": "execute_result"
    }
   ],
   "source": [
    "type(nlp) #it is object of english language"
   ]
  },
  {
   "cell_type": "code",
   "execution_count": 62,
   "id": "4b2a69ee",
   "metadata": {},
   "outputs": [
    {
     "data": {
      "text/plain": [
       "spacy.tokens.doc.Doc"
      ]
     },
     "execution_count": 62,
     "metadata": {},
     "output_type": "execute_result"
    }
   ],
   "source": [
    "type(doc)"
   ]
  },
  {
   "cell_type": "code",
   "execution_count": 63,
   "id": "fbb855ca",
   "metadata": {},
   "outputs": [
    {
     "data": {
      "text/plain": [
       "spacy.tokens.token.Token"
      ]
     },
     "execution_count": 63,
     "metadata": {},
     "output_type": "execute_result"
    }
   ],
   "source": [
    "type(token)"
   ]
  },
  {
   "cell_type": "code",
   "execution_count": 64,
   "id": "b168841b",
   "metadata": {},
   "outputs": [
    {
     "data": {
      "text/plain": [
       "spacy.tokens.span.Span"
      ]
     },
     "execution_count": 64,
     "metadata": {},
     "output_type": "execute_result"
    }
   ],
   "source": [
    "span = doc[1:5]\n",
    "type(span)"
   ]
  },
  {
   "cell_type": "code",
   "execution_count": 65,
   "id": "c57836b0",
   "metadata": {},
   "outputs": [
    {
     "data": {
      "text/plain": [
       "In"
      ]
     },
     "execution_count": 65,
     "metadata": {},
     "output_type": "execute_result"
    }
   ],
   "source": [
    "token0 = doc[0]\n",
    "token0"
   ]
  },
  {
   "cell_type": "code",
   "execution_count": 66,
   "id": "a2eb4091",
   "metadata": {},
   "outputs": [
    {
     "data": {
      "text/plain": [
       "['_',\n",
       " '__bytes__',\n",
       " '__class__',\n",
       " '__delattr__',\n",
       " '__dir__',\n",
       " '__doc__',\n",
       " '__eq__',\n",
       " '__format__',\n",
       " '__ge__',\n",
       " '__getattribute__',\n",
       " '__getstate__',\n",
       " '__gt__',\n",
       " '__hash__',\n",
       " '__init__',\n",
       " '__init_subclass__',\n",
       " '__le__',\n",
       " '__len__',\n",
       " '__lt__',\n",
       " '__ne__',\n",
       " '__new__',\n",
       " '__pyx_vtable__',\n",
       " '__reduce__',\n",
       " '__reduce_ex__',\n",
       " '__repr__',\n",
       " '__setattr__',\n",
       " '__sizeof__',\n",
       " '__str__',\n",
       " '__subclasshook__',\n",
       " '__unicode__',\n",
       " 'ancestors',\n",
       " 'check_flag',\n",
       " 'children',\n",
       " 'cluster',\n",
       " 'conjuncts',\n",
       " 'dep',\n",
       " 'dep_',\n",
       " 'doc',\n",
       " 'ent_id',\n",
       " 'ent_id_',\n",
       " 'ent_iob',\n",
       " 'ent_iob_',\n",
       " 'ent_kb_id',\n",
       " 'ent_kb_id_',\n",
       " 'ent_type',\n",
       " 'ent_type_',\n",
       " 'get_extension',\n",
       " 'has_dep',\n",
       " 'has_extension',\n",
       " 'has_head',\n",
       " 'has_morph',\n",
       " 'has_vector',\n",
       " 'head',\n",
       " 'i',\n",
       " 'idx',\n",
       " 'iob_strings',\n",
       " 'is_alpha',\n",
       " 'is_ancestor',\n",
       " 'is_ascii',\n",
       " 'is_bracket',\n",
       " 'is_currency',\n",
       " 'is_digit',\n",
       " 'is_left_punct',\n",
       " 'is_lower',\n",
       " 'is_oov',\n",
       " 'is_punct',\n",
       " 'is_quote',\n",
       " 'is_right_punct',\n",
       " 'is_sent_end',\n",
       " 'is_sent_start',\n",
       " 'is_space',\n",
       " 'is_stop',\n",
       " 'is_title',\n",
       " 'is_upper',\n",
       " 'lang',\n",
       " 'lang_',\n",
       " 'left_edge',\n",
       " 'lefts',\n",
       " 'lemma',\n",
       " 'lemma_',\n",
       " 'lex',\n",
       " 'lex_id',\n",
       " 'like_email',\n",
       " 'like_num',\n",
       " 'like_url',\n",
       " 'lower',\n",
       " 'lower_',\n",
       " 'morph',\n",
       " 'n_lefts',\n",
       " 'n_rights',\n",
       " 'nbor',\n",
       " 'norm',\n",
       " 'norm_',\n",
       " 'orth',\n",
       " 'orth_',\n",
       " 'pos',\n",
       " 'pos_',\n",
       " 'prefix',\n",
       " 'prefix_',\n",
       " 'prob',\n",
       " 'rank',\n",
       " 'remove_extension',\n",
       " 'right_edge',\n",
       " 'rights',\n",
       " 'sent',\n",
       " 'sent_start',\n",
       " 'sentiment',\n",
       " 'set_extension',\n",
       " 'set_morph',\n",
       " 'shape',\n",
       " 'shape_',\n",
       " 'similarity',\n",
       " 'subtree',\n",
       " 'suffix',\n",
       " 'suffix_',\n",
       " 'tag',\n",
       " 'tag_',\n",
       " 'tensor',\n",
       " 'text',\n",
       " 'text_with_ws',\n",
       " 'vector',\n",
       " 'vector_norm',\n",
       " 'vocab',\n",
       " 'whitespace_']"
      ]
     },
     "execution_count": 66,
     "metadata": {},
     "output_type": "execute_result"
    }
   ],
   "source": [
    "dir(token0) # methods of the class-token0"
   ]
  },
  {
   "cell_type": "code",
   "execution_count": 67,
   "id": "aa9e3567",
   "metadata": {},
   "outputs": [
    {
     "data": {
      "text/plain": [
       "True"
      ]
     },
     "execution_count": 67,
     "metadata": {},
     "output_type": "execute_result"
    }
   ],
   "source": [
    "token0.is_alpha"
   ]
  },
  {
   "cell_type": "code",
   "execution_count": 68,
   "id": "458f3dc4",
   "metadata": {},
   "outputs": [
    {
     "data": {
      "text/plain": [
       "False"
      ]
     },
     "execution_count": 68,
     "metadata": {},
     "output_type": "execute_result"
    }
   ],
   "source": [
    "token0.like_num"
   ]
  },
  {
   "cell_type": "code",
   "execution_count": 69,
   "id": "cfd44e0e",
   "metadata": {},
   "outputs": [
    {
     "data": {
      "text/plain": [
       "False"
      ]
     },
     "execution_count": 69,
     "metadata": {},
     "output_type": "execute_result"
    }
   ],
   "source": [
    "token0.is_currency"
   ]
  },
  {
   "cell_type": "code",
   "execution_count": 70,
   "id": "f98cfe09",
   "metadata": {},
   "outputs": [
    {
     "data": {
      "text/plain": [
       "In war, three quarters turns on morale; the balance of manpower counts only for the remaining quarter."
      ]
     },
     "execution_count": 70,
     "metadata": {},
     "output_type": "execute_result"
    }
   ],
   "source": [
    "doc"
   ]
  },
  {
   "cell_type": "markdown",
   "id": "aa80a1e7",
   "metadata": {},
   "source": [
    "### customizing tokenizer"
   ]
  },
  {
   "cell_type": "code",
   "execution_count": 71,
   "id": "7c884020",
   "metadata": {},
   "outputs": [
    {
     "data": {
      "text/plain": [
       "['gim', 'me', 'double', 'cheese', 'extra', 'large', 'healthy', 'pizza']"
      ]
     },
     "execution_count": 71,
     "metadata": {},
     "output_type": "execute_result"
    }
   ],
   "source": [
    "from spacy.symbols import ORTH\n",
    "\n",
    "doc = nlp(\"gimme double cheese extra large healthy pizza\")\n",
    "\n",
    "nlp.tokenizer.add_special_case(\"gimme\", [\n",
    "    {ORTH: \"gim\"},\n",
    "    {ORTH: \"me\"}\n",
    "])\n",
    "\n",
    "\n",
    "doc = nlp(\"gimme double cheese extra large healthy pizza\")\n",
    "\n",
    "[i.text for i in doc]\n",
    "\n",
    "#tokenizing is a little bit dump: just splits whole thing into segments. You do not want to change actual text"
   ]
  },
  {
   "cell_type": "markdown",
   "id": "45179c3b",
   "metadata": {},
   "source": [
    "### Sentence tokenizer"
   ]
  },
  {
   "cell_type": "code",
   "execution_count": 107,
   "id": "c826defb",
   "metadata": {},
   "outputs": [],
   "source": [
    "doc = nlp(df.sentence.values[12])"
   ]
  },
  {
   "cell_type": "code",
   "execution_count": 108,
   "id": "7a1f0760",
   "metadata": {},
   "outputs": [
    {
     "data": {
      "text/plain": [
       "It is important to decide sort of war we are going to fight. If we can neither defeat them at sea nor take away from them the resources on which their navy depends, we shall do ourselves more harm than good. "
      ]
     },
     "execution_count": 108,
     "metadata": {},
     "output_type": "execute_result"
    }
   ],
   "source": [
    "doc"
   ]
  },
  {
   "cell_type": "code",
   "execution_count": 109,
   "id": "d9a059b1",
   "metadata": {},
   "outputs": [],
   "source": [
    "#nlp.add_pipe(\"sentencizer\")\n",
    "\n",
    "# I need to add sentencizer component to blank pipeline. now this nlp object knows how to split."
   ]
  },
  {
   "cell_type": "code",
   "execution_count": 110,
   "id": "3197e906",
   "metadata": {},
   "outputs": [
    {
     "data": {
      "text/plain": [
       "['sentencizer']"
      ]
     },
     "execution_count": 110,
     "metadata": {},
     "output_type": "execute_result"
    }
   ],
   "source": [
    "nlp.pipe_names"
   ]
  },
  {
   "cell_type": "code",
   "execution_count": 111,
   "id": "05fd8a0b",
   "metadata": {},
   "outputs": [
    {
     "name": "stdout",
     "output_type": "stream",
     "text": [
      "It is important to decide sort of war we are going to fight.\n",
      "If we can neither defeat them at sea nor take away from them the resources on which their navy depends, we shall do ourselves more harm than good.\n"
     ]
    }
   ],
   "source": [
    "for i in doc.sents: \n",
    "    print(i)"
   ]
  },
  {
   "cell_type": "markdown",
   "id": "904c558a",
   "metadata": {},
   "source": [
    "## pre-trained pipeline"
   ]
  },
  {
   "cell_type": "markdown",
   "id": "c37b54a4",
   "metadata": {},
   "source": [
    "<img src = \"spacy_loaded_pipeline.jpg\" height = 100, width=500/>"
   ]
  },
  {
   "cell_type": "markdown",
   "id": "c2d358d4",
   "metadata": {},
   "source": [
    "<h3>Download trained pipeline</h3>"
   ]
  },
  {
   "cell_type": "markdown",
   "id": "b9b35978",
   "metadata": {},
   "source": [
    "To download trained pipeline use a command such as,\n",
    "\n",
    "python -m spacy download en_core_web_sm\n",
    "\n",
    "This downloads the small (sm) pipeline for english language\n",
    "\n",
    "Further instructions on : https://spacy.io/usage/models#quickstart"
   ]
  },
  {
   "cell_type": "code",
   "execution_count": 126,
   "id": "480c1863",
   "metadata": {},
   "outputs": [],
   "source": [
    "# run this command to install: python -m spacy download en_core_web_sm \n",
    "\n",
    "nlp = spacy.load(\"en_core_web_sm\")<h3>Download trained pipeline</h3>\n",
    "\n",
    "To download trained pipeline use a command such as,\n",
    "\n",
    "python -m spacy download en_core_web_sm\n",
    "\n",
    "This downloads the small (sm) pipeline for english language\n",
    "\n",
    "Further instructions on : https://spacy.io/usage/models#quickstart"
   ]
  },
  {
   "cell_type": "markdown",
   "id": "33b78768",
   "metadata": {},
   "source": [
    "sm in en_core_web_sm means small. There are other models available as well such as medium, large etc. Check this: https://spacy.io/usage/models#quickstart"
   ]
  },
  {
   "cell_type": "code",
   "execution_count": 127,
   "id": "b89a0e9c",
   "metadata": {},
   "outputs": [
    {
     "data": {
      "text/plain": [
       "['tok2vec', 'tagger', 'parser', 'attribute_ruler', 'lemmatizer', 'ner']"
      ]
     },
     "execution_count": 127,
     "metadata": {},
     "output_type": "execute_result"
    }
   ],
   "source": [
    "nlp.pipe_namessm in en_core_web_sm means small. There are other models available as well such as medium, large etc. Check this: https://spacy.io/usage/models#quickstart"
   ]
  },
  {
   "cell_type": "code",
   "execution_count": 129,
   "id": "b6dd15a3",
   "metadata": {},
   "outputs": [
    {
     "data": {
      "text/plain": [
       "[('tok2vec', <spacy.pipeline.tok2vec.Tok2Vec at 0x201c0e77170>),\n",
       " ('tagger', <spacy.pipeline.tagger.Tagger at 0x201c0e76390>),\n",
       " ('parser', <spacy.pipeline.dep_parser.DependencyParser at 0x201c0e985f0>),\n",
       " ('attribute_ruler',\n",
       "  <spacy.pipeline.attributeruler.AttributeRuler at 0x201c1017c90>),\n",
       " ('lemmatizer', <spacy.lang.en.lemmatizer.EnglishLemmatizer at 0x201c1013f10>),\n",
       " ('ner', <spacy.pipeline.ner.EntityRecognizer at 0x201c0e984a0>)]"
      ]
     },
     "execution_count": 129,
     "metadata": {},
     "output_type": "execute_result"
    }
   ],
   "source": [
    "nlp.pipeline"
   ]
  },
  {
   "cell_type": "code",
   "execution_count": 133,
   "id": "b13e71a5",
   "metadata": {},
   "outputs": [
    {
     "name": "stdout",
     "output_type": "stream",
     "text": [
      "In ADP in\n",
      "war NOUN war\n",
      ", PUNCT ,\n",
      "three NUM three\n",
      "quarters NOUN quarter\n",
      "turns VERB turn\n",
      "on ADP on\n",
      "morale NOUN morale\n",
      "; PUNCT ;\n",
      "the DET the\n",
      "balance NOUN balance\n",
      "of ADP of\n",
      "manpower NOUN manpower\n",
      "counts VERB count\n",
      "only ADV only\n",
      "for ADP for\n",
      "the DET the\n",
      "remaining VERB remain\n",
      "quarter NOUN quarter\n",
      ". PUNCT .\n"
     ]
    }
   ],
   "source": [
    "doc = nlp(df.sentence.values[0])\n",
    "\n",
    "for token in doc:\n",
    "    print(token, token.pos_, token.lemma_)\n",
    "    \n",
    "#lemma: techniques to reduce a given word to its base word\n",
    "#pos: part of speech tagging "
   ]
  },
  {
   "cell_type": "markdown",
   "id": "6e5e15f2",
   "metadata": {},
   "source": [
    "### Manual uploading "
   ]
  },
  {
   "cell_type": "markdown",
   "id": "f289cba4",
   "metadata": {},
   "source": [
    "In below image you can see sentecizer component in the pipeline"
   ]
  },
  {
   "cell_type": "markdown",
   "id": "46539505",
   "metadata": {},
   "source": [
    "<img src = \"sentecizer.jpg\" height=100 widht=200/>"
   ]
  },
  {
   "cell_type": "code",
   "execution_count": 147,
   "id": "091fbb89",
   "metadata": {},
   "outputs": [],
   "source": [
    "nlp = spacy.blank(\"en\")\n",
    "\n",
    "doc = nlp(df.sentence.values[0])\n",
    "\n",
    "for ent in doc.ents:\n",
    "    print(ent.text)"
   ]
  },
  {
   "cell_type": "code",
   "execution_count": 148,
   "id": "8fedebef",
   "metadata": {},
   "outputs": [
    {
     "data": {
      "text/plain": [
       "['ner']"
      ]
     },
     "execution_count": 148,
     "metadata": {},
     "output_type": "execute_result"
    }
   ],
   "source": [
    "source_nlp=spacy.load(\"en_core_web_sm\")\n",
    "\n",
    "nlp=spacy.blank(\"en\") # generating blank pipeline\n",
    "nlp.add_pipe(\"ner\", source=source_nlp) #here adding ner to it. \n",
    "nlp.pipe_names"
   ]
  },
  {
   "cell_type": "code",
   "execution_count": 149,
   "id": "c1792fee",
   "metadata": {},
   "outputs": [
    {
     "name": "stdout",
     "output_type": "stream",
     "text": [
      "three quarters\n",
      "the remaining quarter\n"
     ]
    }
   ],
   "source": [
    "doc = nlp(df.sentence.values[0])\n",
    "for ent in doc.ents:\n",
    "    print(ent.text)"
   ]
  },
  {
   "cell_type": "markdown",
   "id": "25c02133",
   "metadata": {},
   "source": [
    "<h3>Further reading</h3>"
   ]
  },
  {
   "cell_type": "markdown",
   "id": "9b36d293",
   "metadata": {},
   "source": [
    "https://spacy.io/usage/processing-pipelines#pipelines"
   ]
  },
  {
   "cell_type": "markdown",
   "id": "ff8d4d89",
   "metadata": {},
   "source": [
    "<h3>Stemming in NLTK</h3>"
   ]
  },
  {
   "cell_type": "markdown",
   "id": "16108954",
   "metadata": {},
   "source": [
    "stemming uses a fixed set of rules to remove suffixes, and prefixes.  "
   ]
  },
  {
   "cell_type": "code",
   "execution_count": 184,
   "id": "4f2dedf5",
   "metadata": {},
   "outputs": [],
   "source": [
    "import nltk"
   ]
  },
  {
   "cell_type": "code",
   "execution_count": 185,
   "id": "fd91ca9c",
   "metadata": {},
   "outputs": [],
   "source": [
    "from nltk.stem import PorterStemmer"
   ]
  },
  {
   "cell_type": "code",
   "execution_count": 186,
   "id": "cbb25729",
   "metadata": {},
   "outputs": [],
   "source": [
    "stemmer = PorterStemmer()  # generating stemmer object of the PorterStemmer class. "
   ]
  },
  {
   "cell_type": "code",
   "execution_count": 191,
   "id": "6edd0698",
   "metadata": {},
   "outputs": [
    {
     "data": {
      "text/plain": [
       "'in war, three quarters turns on morale; the balance of manpower counts only for the remaining quarter.'"
      ]
     },
     "execution_count": 191,
     "metadata": {},
     "output_type": "execute_result"
    }
   ],
   "source": [
    "stemmer.stem(df.sentence[0])"
   ]
  },
  {
   "cell_type": "markdown",
   "id": "b441291b",
   "metadata": {},
   "source": [
    "<h3>Lemmatization in Spacy</h3>"
   ]
  },
  {
   "cell_type": "markdown",
   "id": "562f3cf4",
   "metadata": {},
   "source": [
    "lemmatization use language knowledge to come up with a correct base word. "
   ]
  },
  {
   "cell_type": "code",
   "execution_count": 195,
   "id": "c2d1999a",
   "metadata": {},
   "outputs": [
    {
     "data": {
      "text/plain": [
       "<spacy.lang.en.English at 0x201d54ee990>"
      ]
     },
     "execution_count": 195,
     "metadata": {},
     "output_type": "execute_result"
    }
   ],
   "source": [
    "nlp"
   ]
  },
  {
   "cell_type": "code",
   "execution_count": 196,
   "id": "2b627326",
   "metadata": {},
   "outputs": [
    {
     "data": {
      "text/plain": [
       "['tok2vec', 'tagger', 'parser', 'attribute_ruler', 'lemmatizer', 'ner']"
      ]
     },
     "execution_count": 196,
     "metadata": {},
     "output_type": "execute_result"
    }
   ],
   "source": [
    "nlp.pipe_names"
   ]
  },
  {
   "cell_type": "code",
   "execution_count": 198,
   "id": "323caea1",
   "metadata": {},
   "outputs": [],
   "source": [
    "doc = nlp(df.sentence[0])"
   ]
  },
  {
   "cell_type": "code",
   "execution_count": 199,
   "id": "5386b562",
   "metadata": {},
   "outputs": [
    {
     "data": {
      "text/plain": [
       "In war, three quarters turns on morale; the balance of manpower counts only for the remaining quarter."
      ]
     },
     "execution_count": 199,
     "metadata": {},
     "output_type": "execute_result"
    }
   ],
   "source": [
    "doc"
   ]
  },
  {
   "cell_type": "code",
   "execution_count": 201,
   "id": "0bd41660",
   "metadata": {},
   "outputs": [
    {
     "name": "stdout",
     "output_type": "stream",
     "text": [
      "In - in\n",
      "war - war\n",
      ", - ,\n",
      "three - three\n",
      "quarters - quarter\n",
      "turns - turn\n",
      "on - on\n",
      "morale - morale\n",
      "; - ;\n",
      "the - the\n",
      "balance - balance\n",
      "of - of\n",
      "manpower - manpower\n",
      "counts - count\n",
      "only - only\n",
      "for - for\n",
      "the - the\n",
      "remaining - remain\n",
      "quarter - quarter\n",
      ". - .\n"
     ]
    }
   ],
   "source": [
    "for i in doc:\n",
    "    print(i, \"-\", i.lemma_)"
   ]
  },
  {
   "cell_type": "markdown",
   "id": "c9df772d",
   "metadata": {},
   "source": [
    "<h3>Customizing lemmatizer</h3>"
   ]
  },
  {
   "cell_type": "code",
   "execution_count": 204,
   "id": "d9cd4c87",
   "metadata": {},
   "outputs": [
    {
     "name": "stdout",
     "output_type": "stream",
     "text": [
      "Bro | Brother\n",
      ", | ,\n",
      "you | you\n",
      "wanna | wanna\n",
      "go | go\n",
      "? | ?\n",
      "Brah | Brother\n",
      ", | ,\n",
      "do | do\n",
      "n't | not\n",
      "say | say\n",
      "no | no\n",
      "! | !\n",
      "I | I\n",
      "am | be\n",
      "exhausted | exhaust\n"
     ]
    }
   ],
   "source": [
    "doc = nlp(\"Bro, you wanna go? Brah, don't say no! I am exhausted\") # by default model will not understand bro. \n",
    "\n",
    "ar = nlp.get_pipe(\"attribute_ruler\")\n",
    "\n",
    "ar.add([[{\"TEXT\":\"Bro\"}], [{\"TEXT\":\"Brah\"}]], {\"LEMMA\":\"Brother\"})\n",
    "\n",
    "doc = nlp(\"Bro, you wanna go? Brah, don't say no! I am exhausted\") \n",
    "\n",
    "for token in doc:\n",
    "    print(token, \"|\", token.lemma_)"
   ]
  },
  {
   "cell_type": "code",
   "execution_count": 4,
   "id": "ef8f1b6c",
   "metadata": {},
   "outputs": [],
   "source": [
    "nlp = spacy.load(\"en_core_web_sm\")"
   ]
  },
  {
   "cell_type": "code",
   "execution_count": 9,
   "id": "9f4bd327",
   "metadata": {},
   "outputs": [],
   "source": [
    "doc = nlp(df.sentence[0])"
   ]
  },
  {
   "cell_type": "markdown",
   "id": "d0e40713",
   "metadata": {},
   "source": [
    "<h3>POS tags</h3>"
   ]
  },
  {
   "cell_type": "code",
   "execution_count": 19,
   "id": "1a044a98",
   "metadata": {},
   "outputs": [
    {
     "name": "stdout",
     "output_type": "stream",
     "text": [
      "In | ADP | adposition | IN | conjunction, subordinating or preposition\n",
      "war | NOUN | noun | NN | noun, singular or mass\n",
      ", | PUNCT | punctuation | , | punctuation mark, comma\n",
      "three | NUM | numeral | CD | cardinal number\n",
      "quarters | NOUN | noun | NNS | noun, plural\n",
      "turns | VERB | verb | VBZ | verb, 3rd person singular present\n",
      "on | ADP | adposition | IN | conjunction, subordinating or preposition\n",
      "morale | NOUN | noun | NN | noun, singular or mass\n",
      "; | PUNCT | punctuation | : | punctuation mark, colon or ellipsis\n",
      "the | DET | determiner | DT | determiner\n",
      "balance | NOUN | noun | NN | noun, singular or mass\n",
      "of | ADP | adposition | IN | conjunction, subordinating or preposition\n",
      "manpower | NOUN | noun | NN | noun, singular or mass\n",
      "counts | VERB | verb | VBZ | verb, 3rd person singular present\n",
      "only | ADV | adverb | RB | adverb\n",
      "for | ADP | adposition | IN | conjunction, subordinating or preposition\n",
      "the | DET | determiner | DT | determiner\n",
      "remaining | VERB | verb | VBG | verb, gerund or present participle\n",
      "quarter | NOUN | noun | NN | noun, singular or mass\n",
      ". | PUNCT | punctuation | . | punctuation mark, sentence closer\n"
     ]
    }
   ],
   "source": [
    "for token in doc:\n",
    "    print(token, \"|\", token.pos_, \"|\", spacy.explain(token.pos_),\"|\",<h3>POS tags</h3> token.tag_, \"|\", spacy.explain(token.tag_))"
   ]
  },
  {
   "cell_type": "markdown",
   "id": "8683758d",
   "metadata": {},
   "source": [
    "You can check https://v2.spacy.io/api/annotation for the complete list of pos categories in spacy. \n",
    "\n",
    "https://en.wikipedia.org/wiki/Preposition_and_postposition\n",
    "\n",
    "https://en.wikipedia.org/wiki/Part_of_speech"
   ]
  },
  {
   "cell_type": "code",
   "execution_count": 20,
   "id": "9ccb40cb",
   "metadata": {},
   "outputs": [],
   "source": [
    "doc = nlp(\"\".join(df.sentence))"
   ]
  },
  {
   "cell_type": "code",
   "execution_count": 23,
   "id": "bea14354",
   "metadata": {},
   "outputs": [
    {
     "data": {
      "text/plain": [
       "[In,\n",
       " war,\n",
       " three,\n",
       " quarters,\n",
       " turns,\n",
       " on,\n",
       " morale,\n",
       " the,\n",
       " balance,\n",
       " of,\n",
       " manpower,\n",
       " counts,\n",
       " only,\n",
       " for,\n",
       " the,\n",
       " remaining,\n",
       " quarter,\n",
       " Where,\n",
       " superiority,\n",
       " of]"
      ]
     },
     "execution_count": 23,
     "metadata": {},
     "output_type": "execute_result"
    }
   ],
   "source": [
    "filtered_tokens = []\n",
    "\n",
    "for token in doc:\n",
    "    if token.pos_ not in [\"SPACE\", \"X\", \"PUNCT\"]:\n",
    "        filtered_tokens.append(token)\n",
    "filtered_tokens[:20]"
   ]
  },
  {
   "cell_type": "code",
   "execution_count": 25,
   "id": "aaf1b9ef",
   "metadata": {},
   "outputs": [
    {
     "data": {
      "text/plain": [
       "{85: 146,\n",
       " 92: 275,\n",
       " 97: 115,\n",
       " 93: 7,\n",
       " 100: 113,\n",
       " 90: 84,\n",
       " 86: 37,\n",
       " 98: 20,\n",
       " 87: 56,\n",
       " 84: 86,\n",
       " 95: 81,\n",
       " 89: 51,\n",
       " 94: 25,\n",
       " 96: 16,\n",
       " 103: 2,\n",
       " 101: 1}"
      ]
     },
     "execution_count": 25,
     "metadata": {},
     "output_type": "execute_result"
    }
   ],
   "source": [
    "count = doc.count_by(spacy.attrs.POS)\n",
    "count"
   ]
  },
  {
   "cell_type": "code",
   "execution_count": 27,
   "id": "48f74c0c",
   "metadata": {},
   "outputs": [
    {
     "data": {
      "text/plain": [
       "'ADP'"
      ]
     },
     "execution_count": 27,
     "metadata": {},
     "output_type": "execute_result"
    }
   ],
   "source": [
    "doc.vocab[85].text"
   ]
  },
  {
   "cell_type": "code",
   "execution_count": 29,
   "id": "3ce6e947",
   "metadata": {},
   "outputs": [
    {
     "data": {
      "text/plain": [
       "dict_items([(85, 146), (92, 275), (97, 115), (93, 7), (100, 113), (90, 84), (86, 37), (98, 20), (87, 56), (84, 86), (95, 81), (89, 51), (94, 25), (96, 16), (103, 2), (101, 1)])"
      ]
     },
     "execution_count": 29,
     "metadata": {},
     "output_type": "execute_result"
    }
   ],
   "source": [
    "count.items()"
   ]
  },
  {
   "cell_type": "code",
   "execution_count": 30,
   "id": "08730a11",
   "metadata": {},
   "outputs": [
    {
     "name": "stdout",
     "output_type": "stream",
     "text": [
      "ADP | 146\n",
      "NOUN | 275\n",
      "PUNCT | 115\n",
      "NUM | 7\n",
      "VERB | 113\n",
      "DET | 84\n",
      "ADV | 37\n",
      "SCONJ | 20\n",
      "AUX | 56\n",
      "ADJ | 86\n",
      "PRON | 81\n",
      "CCONJ | 51\n",
      "PART | 25\n",
      "PROPN | 16\n",
      "SPACE | 2\n",
      "X | 1\n"
     ]
    }
   ],
   "source": [
    "for k,v in count.items():\n",
    "    print(doc.vocab[k].text, \"|\",v)"
   ]
  },
  {
   "cell_type": "code",
   "execution_count": null,
   "id": "c387cc36",
   "metadata": {},
   "outputs": [],
   "source": []
  },
  {
   "cell_type": "code",
   "execution_count": null,
   "id": "4dcb0246",
   "metadata": {},
   "outputs": [],
   "source": []
  },
  {
   "cell_type": "markdown",
   "id": "8f00ed52",
   "metadata": {},
   "source": [
    "<h3>Named Entity Recognition</h3>"
   ]
  },
  {
   "cell_type": "code",
   "execution_count": 31,
   "id": "a52cf4be",
   "metadata": {},
   "outputs": [],
   "source": [
    "nlp = spacy.load(\"en_core_web_sm\")\n",
    "nlp.pipe_names\n",
    "\n",
    "\n",
    "doc = nlp(df.sentence.str.cat(sep=\"\"))"
   ]
  },
  {
   "cell_type": "code",
   "execution_count": 32,
   "id": "09d715ef",
   "metadata": {},
   "outputs": [
    {
     "data": {
      "text/plain": [
       "In war, three quarters turns"
      ]
     },
     "execution_count": 32,
     "metadata": {},
     "output_type": "execute_result"
    }
   ],
   "source": [
    "doc[:6]"
   ]
  },
  {
   "cell_type": "code",
   "execution_count": 33,
   "id": "6cebcf5d",
   "metadata": {},
   "outputs": [
    {
     "name": "stdout",
     "output_type": "stream",
     "text": [
      "(three quarters, the remaining quarter, Trojans, ten years, fraction of Greek Army, one, Spartans, Corcyra, 64, Persians, Salamis, Hellas, Athens, three, navy, First, secondly, British, Falklands, Warfare, a hundred, three, winter, summer)\n"
     ]
    }
   ],
   "source": [
    "print(doc.ents)"
   ]
  },
  {
   "cell_type": "code",
   "execution_count": 34,
   "id": "2e28bfd8",
   "metadata": {},
   "outputs": [
    {
     "name": "stdout",
     "output_type": "stream",
     "text": [
      "three quarters - DATE - Absolute or relative dates or periods\n",
      "the remaining quarter - DATE - Absolute or relative dates or periods\n",
      "Trojans - NORP - Nationalities or religious or political groups\n",
      "ten years - DATE - Absolute or relative dates or periods\n",
      "fraction of Greek Army - ORG - Companies, agencies, institutions, etc.\n",
      "one - CARDINAL - Numerals that do not fall under another type\n",
      "Spartans - NORP - Nationalities or religious or political groups\n",
      "Corcyra - PERSON - People, including fictional\n",
      "64 - CARDINAL - Numerals that do not fall under another type\n",
      "Persians - NORP - Nationalities or religious or political groups\n",
      "Salamis - ORG - Companies, agencies, institutions, etc.\n",
      "Hellas - GPE - Countries, cities, states\n",
      "Athens - GPE - Countries, cities, states\n",
      "three - CARDINAL - Numerals that do not fall under another type\n",
      "navy - ORG - Companies, agencies, institutions, etc.\n",
      "First - ORDINAL - \"first\", \"second\", etc.\n",
      "secondly - ORDINAL - \"first\", \"second\", etc.\n",
      "British - NORP - Nationalities or religious or political groups\n",
      "Falklands - ORG - Companies, agencies, institutions, etc.\n",
      "Warfare - PERSON - People, including fictional\n",
      "a hundred - CARDINAL - Numerals that do not fall under another type\n",
      "three - CARDINAL - Numerals that do not fall under another type\n",
      "winter - DATE - Absolute or relative dates or periods\n",
      "summer - DATE - Absolute or relative dates or periods\n"
     ]
    }
   ],
   "source": [
    "for ent in doc.ents:\n",
    "    print(ent.text, \"-\", ent.label_, \"-\", spacy.explain(ent.label_))"
   ]
  },
  {
   "cell_type": "code",
   "execution_count": 35,
   "id": "09ea93b9",
   "metadata": {},
   "outputs": [],
   "source": [
    "from spacy import displacy"
   ]
  },
  {
   "cell_type": "code",
   "execution_count": 37,
   "id": "9c851d43",
   "metadata": {},
   "outputs": [
    {
     "data": {
      "text/html": [
       "<span class=\"tex2jax_ignore\"><div class=\"entities\" style=\"line-height: 2.5; direction: ltr\">In war, \n",
       "<mark class=\"entity\" style=\"background: #bfe1d9; padding: 0.45em 0.6em; margin: 0 0.25em; line-height: 1; border-radius: 0.35em;\">\n",
       "    three quarters\n",
       "    <span style=\"font-size: 0.8em; font-weight: bold; line-height: 1; border-radius: 0.35em; vertical-align: middle; margin-left: 0.5rem\">DATE</span>\n",
       "</mark>\n",
       " turns on morale; the </div></span>"
      ],
      "text/plain": [
       "<IPython.core.display.HTML object>"
      ]
     },
     "metadata": {},
     "output_type": "display_data"
    }
   ],
   "source": [
    "displacy.render(doc[:10], style = \"ent\")"
   ]
  },
  {
   "cell_type": "code",
   "execution_count": 40,
   "id": "6a89eab8",
   "metadata": {},
   "outputs": [
    {
     "data": {
      "text/plain": [
       "['CARDINAL',\n",
       " 'DATE',\n",
       " 'EVENT',\n",
       " 'FAC',\n",
       " 'GPE',\n",
       " 'LANGUAGE',\n",
       " 'LAW',\n",
       " 'LOC',\n",
       " 'MONEY',\n",
       " 'NORP',\n",
       " 'ORDINAL',\n",
       " 'ORG',\n",
       " 'PERCENT',\n",
       " 'PERSON',\n",
       " 'PRODUCT',\n",
       " 'QUANTITY',\n",
       " 'TIME',\n",
       " 'WORK_OF_ART']"
      ]
     },
     "execution_count": 40,
     "metadata": {},
     "output_type": "execute_result"
    }
   ],
   "source": [
    "nlp.pipe_labels[\"ner\"]"
   ]
  },
  {
   "cell_type": "markdown",
   "id": "7a00e341",
   "metadata": {},
   "source": [
    "List of entities are also documented on this page: https://spacy.io/models/en"
   ]
  },
  {
   "cell_type": "code",
   "execution_count": 54,
   "id": "c799a571",
   "metadata": {},
   "outputs": [
    {
     "data": {
      "text/plain": [
       "quarters"
      ]
     },
     "execution_count": 54,
     "metadata": {},
     "output_type": "execute_result"
    }
   ],
   "source": [
    "doc[4]"
   ]
  },
  {
   "cell_type": "code",
   "execution_count": 42,
   "id": "16e4d576",
   "metadata": {},
   "outputs": [],
   "source": [
    "from spacy.tokens import Span"
   ]
  },
  {
   "cell_type": "code",
   "execution_count": 62,
   "id": "0f3b06df",
   "metadata": {},
   "outputs": [
    {
     "data": {
      "text/plain": [
       "three"
      ]
     },
     "execution_count": 62,
     "metadata": {},
     "output_type": "execute_result"
    }
   ],
   "source": [
    "doc[3]"
   ]
  },
  {
   "cell_type": "code",
   "execution_count": 63,
   "id": "e3c0dc7e",
   "metadata": {},
   "outputs": [],
   "source": [
    "s1 = Span(doc, 4,5, label=\"QUANTITY\")\n",
    "s2 = Span(doc, 7,8, label=\"MORAL\")\n",
    "s3 = Span(doc, 3,4, label=\"CARDINAL\")\n",
    "\n",
    "doc.set_ents([s1,s2], default = \"unmodified\")"
   ]
  },
  {
   "cell_type": "code",
   "execution_count": 64,
   "id": "7460fe85",
   "metadata": {},
   "outputs": [
    {
     "name": "stdout",
     "output_type": "stream",
     "text": [
      "In | ORG\n",
      "three | DATE\n",
      "quarters | QUANTITY\n",
      "turns | ORG\n",
      "morale | MORAL\n",
      "the remaining quarter | DATE\n",
      "Trojans | NORP\n",
      "ten years | DATE\n",
      "fraction of Greek Army | ORG\n",
      "one | CARDINAL\n",
      "Spartans | NORP\n",
      "Corcyra | PERSON\n",
      "64 | CARDINAL\n",
      "Persians | NORP\n",
      "Salamis | ORG\n",
      "Hellas | GPE\n",
      "Athens | GPE\n",
      "three | CARDINAL\n",
      "navy | ORG\n",
      "First | ORDINAL\n",
      "secondly | ORDINAL\n",
      "British | NORP\n",
      "Falklands | ORG\n",
      "Warfare | PERSON\n",
      "a hundred | CARDINAL\n",
      "three | CARDINAL\n",
      "winter | DATE\n",
      "summer | DATE\n"
     ]
    }
   ],
   "source": [
    "for ent in doc.ents:  \n",
    "    print(ent.text, \"|\", ent.label_)"
   ]
  },
  {
   "cell_type": "code",
   "execution_count": 67,
   "id": "181e5717",
   "metadata": {},
   "outputs": [],
   "source": [
    "nlp = spacy.load(\"en_core_web_lg\")"
   ]
  },
  {
   "cell_type": "code",
   "execution_count": 68,
   "id": "a175eefd",
   "metadata": {},
   "outputs": [],
   "source": [
    "doc = nlp(df.sentence.str.cat(sep=\"\"))"
   ]
  },
  {
   "cell_type": "code",
   "execution_count": 70,
   "id": "ecbfb62a",
   "metadata": {},
   "outputs": [
    {
     "data": {
      "text/plain": [
       "['CARDINAL',\n",
       " 'DATE',\n",
       " 'EVENT',\n",
       " 'FAC',\n",
       " 'GPE',\n",
       " 'LANGUAGE',\n",
       " 'LAW',\n",
       " 'LOC',\n",
       " 'MONEY',\n",
       " 'NORP',\n",
       " 'ORDINAL',\n",
       " 'ORG',\n",
       " 'PERCENT',\n",
       " 'PERSON',\n",
       " 'PRODUCT',\n",
       " 'QUANTITY',\n",
       " 'TIME',\n",
       " 'WORK_OF_ART']"
      ]
     },
     "execution_count": 70,
     "metadata": {},
     "output_type": "execute_result"
    }
   ],
   "source": [
    "nlp.pipe_labels[\"ner\"]"
   ]
  },
  {
   "cell_type": "code",
   "execution_count": 71,
   "id": "42ab6e60",
   "metadata": {},
   "outputs": [
    {
     "name": "stdout",
     "output_type": "stream",
     "text": [
      "three quarters - DATE - Absolute or relative dates or periods\n",
      "the remaining quarter - DATE - Absolute or relative dates or periods\n",
      "Trojans - NORP - Nationalities or religious or political groups\n",
      "ten years - DATE - Absolute or relative dates or periods\n",
      "Greek Army - ORG - Companies, agencies, institutions, etc.\n",
      "Spartans - NORP - Nationalities or religious or political groups\n",
      "Corcyra - PERSON - People, including fictional\n",
      "64 - CARDINAL - Numerals that do not fall under another type\n",
      "Persians - NORP - Nationalities or religious or political groups\n",
      "Salamis - PERSON - People, including fictional\n",
      "Athens - GPE - Countries, cities, states\n",
      "three - CARDINAL - Numerals that do not fall under another type\n",
      "First - ORDINAL - \"first\", \"second\", etc.\n",
      "secondly - ORDINAL - \"first\", \"second\", etc.\n",
      "British - NORP - Nationalities or religious or political groups\n",
      "Falklands - LOC - Non-GPE locations, mountain ranges, bodies of water\n",
      "a hundred - CARDINAL - Numerals that do not fall under another type\n",
      "three - CARDINAL - Numerals that do not fall under another type\n",
      "winter - DATE - Absolute or relative dates or periods\n",
      "summer - DATE - Absolute or relative dates or periods\n",
      "the seasons - DATE - Absolute or relative dates or periods\n"
     ]
    }
   ],
   "source": [
    "for ent in doc.ents:\n",
    "    print(ent.text, \"-\", ent.label_, \"-\", spacy.explain(ent.label_))"
   ]
  },
  {
   "cell_type": "code",
   "execution_count": null,
   "id": "8b22c75c",
   "metadata": {},
   "outputs": [],
   "source": []
  }
 ],
 "metadata": {
  "kernelspec": {
   "display_name": "Python 3 (ipykernel)",
   "language": "python",
   "name": "python3"
  },
  "language_info": {
   "codemirror_mode": {
    "name": "ipython",
    "version": 3
   },
   "file_extension": ".py",
   "mimetype": "text/x-python",
   "name": "python",
   "nbconvert_exporter": "python",
   "pygments_lexer": "ipython3",
   "version": "3.11.3"
  }
 },
 "nbformat": 4,
 "nbformat_minor": 5
}
